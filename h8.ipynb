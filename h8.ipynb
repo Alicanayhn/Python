{
  "cells": [
    {
      "cell_type": "markdown",
      "id": "92811a0c",
      "metadata": {
        "id": "92811a0c"
      },
      "source": [
        "# FILES AND EXCEPTIONS (DOSYALAR VE HATALAR)"
      ]
    },
    {
      "cell_type": "markdown",
      "id": "502ea01e",
      "metadata": {
        "id": "502ea01e"
      },
      "source": [
        "- Variables, lists, tuples, dictionaries, sets, arrays, pandas Series and pandas DataFrames yalnızca geçici veri depolama sunar.\n",
        "- Yerel değişkenler kapsam dışına çıktığında veya program sona erdiğinde kaybolur.\n",
        "- Bilgisayarlar, dosyaları katı hal sürücüleri, sabit diskler ve da fazlasını ikincil depolama aygıtlarında depolar.\n",
        "- Metin dosyalarını birkaç popüler formatta ele alıyoruz:\n",
        "    - plaintext (düz metin)\n",
        "    - JSON (JavaScript Object Notation) (JavaScript Nesnesi Gösterimi)\n",
        "    - CSV (comma-separated values) (Virgülle Ayrılmış Değerler)\n",
        "- İkincil depolamaya kaydetmek ve bunları İnternet üzerinden iletmek üzere nesneleri seri hale getirmek ve seri durumundan çıkarmak için JSON kullanılır.\n",
        "- CSV verilerinin yüklenmesi ve işlenmesi için kullanılanlar:\n",
        "    - Python Standart kütüphanesinin csv modülü\n",
        "    - pandas kütüphanesi \n",
        "- Python Standart kütüphanesinin pickle modülü ile verileri seri hale getirme ve serisini kaldırma\n",
        "- Exception Handling (Hata İşleme)\n",
        "    - Hata, yürütme zamanı sorununu (execution time problem) gösterir.\n",
        "    - ZeroDivisionError, NameError, ValueError, StatisticsError, TypeError, IndexError, KeyError and RuntimeError.\n",
        "    - Bu hatalara yönelik try except blokları tanımlanabilir.\n",
        "    - Kendi hatalarımızı da tanımlayabiliyoruz.\n",
        "- Bilgisayarda depolanan bir dosyaya erişmeye çalıştığımız anda onu ele geçirmiş oluyoruz. Bunlar aynı anda yalnızca bir program tarafından kullanılabilir. Biz diğer kaynaklar kullansın diye serbest bırakana kadar başka bir kullanıcı tarafından kullanılamıyor.\n",
        "- Bu problemi çözmek için with statement geliştirilmiştir."
      ]
    },
    {
      "cell_type": "markdown",
      "id": "9d77d759",
      "metadata": {
        "id": "9d77d759"
      },
      "source": [
        "### Bazı Hata Çeşitleri\n",
        "- __ZeroDivisionError:__\n",
        "    - Sayının sıfıra bölünmesi durumunda ortaya çıkar.\n",
        "\n",
        "- __NameError__\n",
        "    - Python'da daha önce tanımlamadığımız değişkenleri kullanmaya çalışırsak bu error ile karşılaşırız.\n",
        "    \n",
        "- __ValueError:__\n",
        "    - Eğer kullanıcı sayı değerli veri yerine harf değerli bir veri girerse oluşur.     \n",
        "\n",
        "- __StatisticsError:__\n",
        "    - İstatistik Hatası\n",
        "\n",
        "- __TypeError:__\n",
        "    - Birbirinden farklı veri tipleri ile aritmetik işlemler yapmak istediğimiz durumlarda karşılaşılır.\n",
        "\n",
        "- __IndexError:__\n",
        "    - Dizin Hatası\n",
        "    \n",
        "- __SyntaxError:__\n",
        "    - Syntax kurallarına uymayan durumlarda bu hata ile karşılaşılır:\n",
        "        - Yanlış veya eksik noktalama işaretleri ya da parantez kullanımı\n",
        "        - Geçersiz değişken veya fonksiyon isimleri\n",
        "\n",
        "- __KeyError:__\n",
        "    - Anahtar Hatası\n",
        "\n",
        "- __RuntimeError:__\n",
        "    - Çalışma Hatası"
      ]
    },
    {
      "cell_type": "markdown",
      "id": "8485bb07",
      "metadata": {
        "id": "8485bb07"
      },
      "source": [
        "## FILES (DOSYALAR)\n",
        "- Karakter dizisi olarak bir metin dosyası olabilir.\n",
        "- Binary dosya (resim, video ve daha fazlası) bir bayt dizisi olabilir.\n",
        "- Bir metin dosyasındaki ilk karakter ve ikili dosyadaki bayt 0 konumunda bulunur.\n",
        "    - n karakter veya baytlık bir dosyada en yüksek konum numarası n – 1'dir.\n",
        "- Açılan her dosya için Python, dosyayla etkileşim kurmak için kullanılan bir dosya nesnesi oluşturur."
      ]
    },
    {
      "cell_type": "markdown",
      "id": "a8461253",
      "metadata": {
        "id": "a8461253"
      },
      "source": [
        "### End of File (Dosya Sonu İşaretçisi)\n",
        "- Her işletim sistemi, bir dosyanın sonunu belirtmek için bir mekanizma sağlar.\n",
        "- Bazıları dosya sonu işaretçisi kullanır.\n",
        "- Diğerleri ise dosyadaki toplam karakterlerin veya baytların sayısını tutar."
      ]
    },
    {
      "cell_type": "markdown",
      "id": "63d2580c",
      "metadata": {
        "id": "63d2580c"
      },
      "source": [
        "### Standard File Objects (Standart Dosya Nesneleri)\n",
        "- Python bir programı yürütmeye başladığında, üç standart dosya nesnesi oluşturur:\n",
        "    - sys.stdin (the standard input file object)(standart girdi dosyası nesnesi)\n",
        "    - sys.stdout (the standard output file object) (standart çıktı dosyası nesnesi)\n",
        "    - sys.stderr (the standard error file object) (standart hata dosyası nesnesi)\n",
        "- Bunlar dosya nesneleri olarak kabul edilse de, varsayılan olarak dosyalardan okumaz veya dosyalara yazmazlar.\n",
        "- Girdi işlevi, klavyeden kullanıcı girdisi almak için dolaylı olarak sys.stdin'i kullanır.\n",
        "- print işlevi, dolaylı olarak komut satırında görünen sys.stdout'a çıktı verir.\n",
        "- Python dolaylı olarak program hatalarını ve geri izlemeleri komut satırında da görünen sys.stderr dosyasına verir.\n",
        "- Bu nesnelere erişmek istendiğinde import sys ile sys modülünü içe aktarmak gerekir."
      ]
    },
    {
      "cell_type": "markdown",
      "id": "125a192a",
      "metadata": {
        "id": "125a192a"
      },
      "source": [
        "### Text-File Processing (Metin Dosyası İşleme)\n",
        "- Birçok kaydı alıp depolamak\n",
        "- Mevcut kayıtları alıp onlarla işlemler yapmak"
      ]
    },
    {
      "cell_type": "markdown",
      "id": "932073aa",
      "metadata": {
        "id": "932073aa"
      },
      "source": [
        "### Python File Open (Python Dosya Açma)\n",
        "- __\"r\" -- Read-Default value(Varsayılan Okuma değeri)__ Okumak için bir dosya açar, dosyalar yoksa hata verir.\n",
        "- __\"a\" -- Append(Ekleme)__ Eklemek için bir dosya açar, yoksa dosyayı oluşturur.\n",
        "- __\"w\" -- Write(Yazma)__ Bir dosyayı yazmak için açar, yoksa dosyayı oluşturur.\n",
        "- __\"x\" -- Create(Oluşturma)__ Belirtilen dosyayı oluşturur, dosya varsa bir hata döndürür.\n",
        "- __\"t\" -- Text-Default value(Metin-Varsayılan değer)__ Metin modu\n",
        "- __\"b\" -- Binary-Binary mode__ (resim vb.)"
      ]
    },
    {
      "cell_type": "markdown",
      "id": "b79ca768",
      "metadata": {
        "id": "b79ca768"
      },
      "source": [
        "#### text dosyası \"r\" ile açılımı"
      ]
    },
    {
      "cell_type": "code",
      "execution_count": null,
      "id": "ab3eb839",
      "metadata": {
        "id": "ab3eb839",
        "outputId": "5ec4eaa4-c348-474d-80e5-9398c8e14ca0"
      },
      "outputs": [
        {
          "name": "stdout",
          "output_type": "stream",
          "text": [
            "100 Jones 24.98\n",
            "200 Doe 345.67\n",
            "300 White 0.00\n",
            "400 Stone -42.16\n",
            "500 Rich 224.62\n",
            "\n"
          ]
        }
      ],
      "source": [
        "f = open(\"accounts.txt\", \"r\")\n",
        "print(f.read()) # text dosyasının içini yazdırır"
      ]
    },
    {
      "cell_type": "code",
      "execution_count": null,
      "id": "a80d8eec",
      "metadata": {
        "id": "a80d8eec",
        "outputId": "4513673a-a9da-45db-aa5e-1b9b8f1948a7"
      },
      "outputs": [
        {
          "name": "stdout",
          "output_type": "stream",
          "text": [
            "100 J\n"
          ]
        }
      ],
      "source": [
        "f = open(\"accounts.txt\", \"r\")\n",
        "print(f.read(5)) # text dosyasının ilk 5 karakterini yazdırır"
      ]
    },
    {
      "cell_type": "code",
      "execution_count": null,
      "id": "0d906d15",
      "metadata": {
        "id": "0d906d15",
        "outputId": "694b173c-23e1-4cf1-e8e1-04c0d975e167"
      },
      "outputs": [
        {
          "name": "stdout",
          "output_type": "stream",
          "text": [
            "100 Jones 24.98\n",
            "\n"
          ]
        }
      ],
      "source": [
        "f = open(\"accounts.txt\", \"r\")\n",
        "print(f.readline()) # text dosyasının bir satırını yazdırır"
      ]
    },
    {
      "cell_type": "code",
      "execution_count": null,
      "id": "9eb44ef2",
      "metadata": {
        "id": "9eb44ef2",
        "outputId": "25c03ede-fe59-4e2b-9181-c0b99a846644"
      },
      "outputs": [
        {
          "name": "stdout",
          "output_type": "stream",
          "text": [
            "100 Jones 24.98\n",
            "\n",
            "200 Doe 345.67\n",
            "\n"
          ]
        }
      ],
      "source": [
        "f = open(\"accounts.txt\", \"r\")\n",
        "print(f.readline()) \n",
        "print(f.readline()) # text dosyasının ilk iki satırını yazdırır."
      ]
    },
    {
      "cell_type": "markdown",
      "id": "7cd445cc",
      "metadata": {
        "id": "7cd445cc"
      },
      "source": [
        "#### text dosyası uzantı şeklinde açılımı"
      ]
    },
    {
      "cell_type": "code",
      "execution_count": null,
      "id": "e6af06ea",
      "metadata": {
        "id": "e6af06ea",
        "outputId": "a73287d0-c9bd-4483-cd17-65337df90901"
      },
      "outputs": [
        {
          "ename": "FileNotFoundError",
          "evalue": "[Errno 2] No such file or directory: 'D:\\\\myfiles\\\\demo.txt'",
          "output_type": "error",
          "traceback": [
            "\u001b[1;31m---------------------------------------------------------------------------\u001b[0m",
            "\u001b[1;31mFileNotFoundError\u001b[0m                         Traceback (most recent call last)",
            "\u001b[1;32m~\\AppData\\Local\\Temp\\ipykernel_20240\\2877203242.py\u001b[0m in \u001b[0;36m<module>\u001b[1;34m\u001b[0m\n\u001b[1;32m----> 1\u001b[1;33m \u001b[0mf\u001b[0m \u001b[1;33m=\u001b[0m \u001b[0mopen\u001b[0m\u001b[1;33m(\u001b[0m\u001b[1;34m\"D:\\\\myfiles\\demo.txt\"\u001b[0m\u001b[1;33m,\u001b[0m\u001b[1;34m\"r\"\u001b[0m\u001b[1;33m)\u001b[0m\u001b[1;33m\u001b[0m\u001b[1;33m\u001b[0m\u001b[0m\n\u001b[0m\u001b[0;32m      2\u001b[0m \u001b[0mprint\u001b[0m\u001b[1;33m(\u001b[0m\u001b[0mf\u001b[0m\u001b[1;33m.\u001b[0m\u001b[0mread\u001b[0m\u001b[1;33m(\u001b[0m\u001b[1;33m)\u001b[0m\u001b[1;33m)\u001b[0m\u001b[1;33m\u001b[0m\u001b[1;33m\u001b[0m\u001b[0m\n",
            "\u001b[1;31mFileNotFoundError\u001b[0m: [Errno 2] No such file or directory: 'D:\\\\myfiles\\\\demo.txt'"
          ]
        }
      ],
      "source": [
        "f = open(\"D:\\\\myfiles\\demo.txt\",\"r\")\n",
        "print(f.read())"
      ]
    },
    {
      "cell_type": "markdown",
      "id": "47f7fcc6",
      "metadata": {
        "id": "47f7fcc6"
      },
      "source": [
        "__ERROR SEBEBİ:__ Böyle bir dosya olmadığı için uzantıdan dosyaya erişim sağlanamadı."
      ]
    },
    {
      "cell_type": "markdown",
      "id": "c759fff4",
      "metadata": {
        "id": "c759fff4"
      },
      "source": [
        "#### açılan text dosyasını kapatma"
      ]
    },
    {
      "cell_type": "code",
      "execution_count": null,
      "id": "78597327",
      "metadata": {
        "id": "78597327",
        "outputId": "15254570-b289-47d6-dc05-72bab26d8fd6"
      },
      "outputs": [
        {
          "name": "stdout",
          "output_type": "stream",
          "text": [
            "100 Jones 24.98\n",
            "\n",
            "200 Doe 345.67\n",
            "\n",
            "300 White 0.00\n",
            "\n",
            "400 Stone -42.16\n",
            "\n",
            "500 Rich 224.62\n",
            "\n"
          ]
        }
      ],
      "source": [
        "f = open(\"accounts.txt\", \"r\")\n",
        "for x in f:\n",
        "    print(x)\n",
        "f.close()"
      ]
    },
    {
      "cell_type": "markdown",
      "id": "c51a82dc",
      "metadata": {
        "id": "c51a82dc"
      },
      "source": [
        "Eğer kapatılmazsa kaynağa erişim devam eder ve risk oluşturur."
      ]
    },
    {
      "cell_type": "markdown",
      "id": "51505131",
      "metadata": {
        "id": "51505131"
      },
      "source": [
        "### Python File Write (Python Dosya Yazma)"
      ]
    },
    {
      "cell_type": "code",
      "execution_count": null,
      "id": "e95c45dc",
      "metadata": {
        "id": "e95c45dc",
        "outputId": "1be1273b-82ce-4916-9fd4-84007080cea3"
      },
      "outputs": [
        {
          "name": "stdout",
          "output_type": "stream",
          "text": [
            "100 Jones 24.98\n",
            "200 Doe 345.67\n",
            "300 White 0.00\n",
            "400 Stone -42.16\n",
            "500 Rich 224.62\n",
            "\n",
            "Now the file has more content!\n"
          ]
        }
      ],
      "source": [
        "f = open(\"accounts.txt\", \"a\") #önceden var olan dosyaya ekleme\n",
        "f.write(\"\\nNow the file has more content!\") #eklenecek yazı\n",
        "f.close()\n",
        "#ekleme işleminden sonra dosyayı açme ve okuma\n",
        "f = open(\"accounts.txt\", \"r\")\n",
        "print(f.read())"
      ]
    },
    {
      "cell_type": "code",
      "execution_count": null,
      "id": "1aa8456b",
      "metadata": {
        "id": "1aa8456b",
        "outputId": "2f3727ff-fa71-4c36-8489-bbbc77e5d5f1"
      },
      "outputs": [
        {
          "name": "stdout",
          "output_type": "stream",
          "text": [
            "\n",
            "Now the file has more content!\n"
          ]
        }
      ],
      "source": [
        "f = open(\"accounts.txt\", \"w\") #var olan veriyi silip\n",
        "f.write(\"\\nNow the file has more content!\") #yazıyı yazar\n",
        "f.close()\n",
        "\n",
        "f = open(\"accounts.txt\", \"r\")\n",
        "print(f.read())"
      ]
    },
    {
      "cell_type": "code",
      "execution_count": null,
      "id": "23636650",
      "metadata": {
        "id": "23636650",
        "outputId": "4a8faf9c-9e64-4364-b64d-375c253eafd4"
      },
      "outputs": [
        {
          "name": "stdout",
          "output_type": "stream",
          "text": [
            "Woops! I have deleted the content!\n"
          ]
        }
      ],
      "source": [
        "f = open(\"accounts2.txt\", \"w\")\n",
        "f.write(\"Woops! I have deleted the content!\")\n",
        "f.close()\n",
        "\n",
        "f = open(\"accounts2.txt\", \"r\")\n",
        "print(f.read())"
      ]
    },
    {
      "cell_type": "markdown",
      "id": "90945b51",
      "metadata": {
        "id": "90945b51"
      },
      "source": [
        "### Python Delete File (Python Dosya Silme)"
      ]
    },
    {
      "cell_type": "markdown",
      "id": "253e8305",
      "metadata": {
        "id": "253e8305"
      },
      "source": [
        "### os modülü\n",
        "- Dosyalar hakkında bilgi almamızı sağlar.\n",
        "- __os.remove()__ işlemi ile dosyayı siler.\n",
        "- __PermissionError__ Eğer dosya kapanmadan başka bir işlem yapılırsa hata gerçekleşir. Örneğin; accounts2.txt dosyasını silmeye kalkarsak bu error ile karşılaşırız. Çünkü __.read__ işleminden sonra __.close__ işlemi ile dosyayı kapatmak gerekmektedir."
      ]
    },
    {
      "cell_type": "code",
      "execution_count": null,
      "id": "5fddd1a6",
      "metadata": {
        "id": "5fddd1a6",
        "outputId": "763088f0-65b8-42bb-8c00-ce8ef290234e"
      },
      "outputs": [
        {
          "ename": "FileNotFoundError",
          "evalue": "[WinError 2] Sistem belirtilen dosyayı bulamıyor: 'a.txt'",
          "output_type": "error",
          "traceback": [
            "\u001b[1;31m---------------------------------------------------------------------------\u001b[0m",
            "\u001b[1;31mFileNotFoundError\u001b[0m                         Traceback (most recent call last)",
            "\u001b[1;32m~\\AppData\\Local\\Temp\\ipykernel_20240\\563518979.py\u001b[0m in \u001b[0;36m<module>\u001b[1;34m\u001b[0m\n\u001b[0;32m      1\u001b[0m \u001b[1;32mimport\u001b[0m \u001b[0mos\u001b[0m\u001b[1;33m\u001b[0m\u001b[1;33m\u001b[0m\u001b[0m\n\u001b[1;32m----> 2\u001b[1;33m \u001b[0mos\u001b[0m\u001b[1;33m.\u001b[0m\u001b[0mremove\u001b[0m\u001b[1;33m(\u001b[0m\u001b[1;34m\"a.txt\"\u001b[0m\u001b[1;33m)\u001b[0m\u001b[1;33m\u001b[0m\u001b[1;33m\u001b[0m\u001b[0m\n\u001b[0m",
            "\u001b[1;31mFileNotFoundError\u001b[0m: [WinError 2] Sistem belirtilen dosyayı bulamıyor: 'a.txt'"
          ]
        }
      ],
      "source": [
        "import os\n",
        "os.remove(\"a.txt\")"
      ]
    },
    {
      "cell_type": "code",
      "execution_count": null,
      "id": "b25f2b5c",
      "metadata": {
        "id": "b25f2b5c",
        "outputId": "1dd84339-948e-4034-8db6-64879e6a0d45"
      },
      "outputs": [
        {
          "name": "stdout",
          "output_type": "stream",
          "text": [
            "The file does not exist\n"
          ]
        },
        {
          "ename": "FileNotFoundError",
          "evalue": "[WinError 2] Sistem belirtilen dosyayı bulamıyor: 'myfolder'",
          "output_type": "error",
          "traceback": [
            "\u001b[1;31m---------------------------------------------------------------------------\u001b[0m",
            "\u001b[1;31mFileNotFoundError\u001b[0m                         Traceback (most recent call last)",
            "\u001b[1;32m~\\AppData\\Local\\Temp\\ipykernel_20240\\3461017587.py\u001b[0m in \u001b[0;36m<module>\u001b[1;34m\u001b[0m\n\u001b[0;32m      6\u001b[0m \u001b[1;31m#Delete Folder\u001b[0m\u001b[1;33m\u001b[0m\u001b[1;33m\u001b[0m\u001b[0m\n\u001b[0;32m      7\u001b[0m \u001b[1;32mimport\u001b[0m \u001b[0mos\u001b[0m\u001b[1;33m\u001b[0m\u001b[1;33m\u001b[0m\u001b[0m\n\u001b[1;32m----> 8\u001b[1;33m \u001b[0mos\u001b[0m\u001b[1;33m.\u001b[0m\u001b[0mrmdir\u001b[0m\u001b[1;33m(\u001b[0m\u001b[1;34m\"myfolder\"\u001b[0m\u001b[1;33m)\u001b[0m\u001b[1;33m\u001b[0m\u001b[1;33m\u001b[0m\u001b[0m\n\u001b[0m",
            "\u001b[1;31mFileNotFoundError\u001b[0m: [WinError 2] Sistem belirtilen dosyayı bulamıyor: 'myfolder'"
          ]
        }
      ],
      "source": [
        "import os\n",
        "if os.path.exists(\"demofile.txt\"):\n",
        "    os.remove(\"demofile.txt\")\n",
        "else:\n",
        "    print(\"The file does not exist\")\n",
        "#Delete Folder\n",
        "import os\n",
        "os.rmdir(\"myfolder\")"
      ]
    },
    {
      "cell_type": "markdown",
      "id": "90f632a7",
      "metadata": {
        "id": "90f632a7"
      },
      "source": [
        "### Writing to a Text File: Introduing the with Statement (Bir Metin Dosyasına Yazma: with İfadesine Giriş)"
      ]
    },
    {
      "cell_type": "markdown",
      "id": "da6aada0",
      "metadata": {
        "id": "da6aada0"
      },
      "source": [
        "- Birçok uygulama kaynak alır.\n",
        "    - dosyalar, ağ bağlantıları, veritabanı bağlantıları ve daha fazlası\n",
        "- Artık ihtiyaç duyulmayan kaynakları serbest bırakmalıdır.\n",
        "- Diğer uygulamaların kaynakları kullanabilmesini sağlar.\n",
        "- with ifadesi\n",
        "    - Bir kaynak alır ve ona karşılık gelen nesneyi bir değişkene atar.\n",
        "    - Uygulamanın, kaynağı bu değişken aracılığıyla kullanmasına izin verir.\n",
        "    - Kaynağı serbest bırakmak için kaynak nesnesinin kapatma yöntemini çağırır."
      ]
    },
    {
      "cell_type": "code",
      "execution_count": null,
      "id": "472dfaf7",
      "metadata": {
        "id": "472dfaf7"
      },
      "outputs": [],
      "source": [
        "with open('accounts.txt', mode='w') as accounts:\n",
        "    accounts.write('100 Jones 24.98\\n')\n",
        "    accounts.write('200 Doe 345.67\\n')\n",
        "    accounts.write('300 White 0.00\\n')\n",
        "    accounts.write('400 Stone -42.16\\n')\n",
        "    accounts.write('500 Rich 224.62\\n')"
      ]
    },
    {
      "cell_type": "markdown",
      "id": "5751e313",
      "metadata": {
        "id": "5751e313"
      },
      "source": [
        "__Dosya içeriği görüntüleme__\n",
        "- macOS/Linux Kullanıcıları:\n",
        "\n",
        "!cat accounts.txt\n",
        "- Windows Kullanıcıları:\n",
        "\n",
        "!more accounts.txt"
      ]
    },
    {
      "cell_type": "code",
      "execution_count": null,
      "id": "c5917242",
      "metadata": {
        "id": "c5917242",
        "outputId": "cfe35c09-1e1d-45cb-ba54-d051e38a3473"
      },
      "outputs": [
        {
          "name": "stdout",
          "output_type": "stream",
          "text": [
            "100 Jones 24.98\n",
            "200 Doe 345.67\n",
            "300 White 0.00\n",
            "400 Stone -42.16\n",
            "500 Rich 224.62\n"
          ]
        }
      ],
      "source": [
        "!more accounts.txt"
      ]
    },
    {
      "cell_type": "markdown",
      "id": "cc11e928",
      "metadata": {
        "id": "cc11e928"
      },
      "source": [
        "#### Ayrıca şu şekilde de dosyaya yazdırma\n",
        "print('100 Jones 24.98', file = accounts)"
      ]
    },
    {
      "cell_type": "markdown",
      "id": "ff98fa7a",
      "metadata": {
        "id": "ff98fa7a"
      },
      "source": [
        "## Built-In Function open\n",
        "- __accounts.txt__ dosyasını açar ve onu bir dosya nesnesiyle ilişkilendirir.\n",
        "- __mode__ bağımsız değişkeni, dosya açma modunu belirtir:\n",
        "    - Bir dosyanın dosyadan okumak için mi, dosyaya yazmak için mi yoksa her ikisi için mi açılacağı\n",
        "    - __'w'__ modu dosyayı yazmak için açar, yoksa dosyayı oluşturur\n",
        "    - Dosyanın yolunu belirtmezseniz Python dosyayı geçerli klasörde oluşturur.\n",
        "    - __ÖNEMLİ!__ Bir dosyayı yazmak için açmak, dosyadaki tüm mevcut verileri siler.\n",
        "    - Geleneksel olarak __.txt dosya uzantısı__ düz metin dosyasını belirtir."
      ]
    },
    {
      "cell_type": "markdown",
      "id": "0520a9a8",
      "metadata": {
        "id": "0520a9a8"
      },
      "source": [
        "### Writing to File (Dosyaya Yazma)\n",
        "- __with__ ifadesi yan tümcesindeki değişken hesapları açarak döndürülen nesneyi atar. \n",
        "- __with__ deyim paketi, dosyayla etkileşime geçmek için hesapları kullanır.\n",
        "    - dosya nesnesinin yazma yöntemi, dosyaya her seferinde bir kayıt yazar.\n",
        "- __with__ deyimi, dosyayı kapatmak için dolaylı olarak dosya nesnesinin __close__ yöntemini çağırır."
      ]
    },
    {
      "cell_type": "markdown",
      "id": "3c92fc53",
      "metadata": {
        "id": "3c92fc53"
      },
      "source": [
        "## Reading Data from a Text File (Metin Dosyasından Veri Okuma)"
      ]
    },
    {
      "cell_type": "code",
      "execution_count": null,
      "id": "7bc43d96",
      "metadata": {
        "id": "7bc43d96",
        "outputId": "374fba4e-72ed-4f10-cbac-2792a9bc1d3f"
      },
      "outputs": [
        {
          "name": "stdout",
          "output_type": "stream",
          "text": [
            "Account   Name         Balance\n",
            "100       Jones          24.98\n",
            "200       Doe           345.67\n",
            "300       White           0.00\n",
            "400       Stone         -42.16\n",
            "500       Rich          224.62\n"
          ]
        }
      ],
      "source": [
        "with open('accounts.txt', mode='r') as accounts:\n",
        "    print(f'{\"Account\":<10}{\"Name\":<10}{\"Balance\":>10}')\n",
        "    for record in accounts:\n",
        "        account, name, balance = record.split()\n",
        "        print(f'{account:<10}{name:<10}{balance:>10}')\n",
        "f.close()"
      ]
    },
    {
      "cell_type": "markdown",
      "id": "893d7029",
      "metadata": {
        "id": "893d7029"
      },
      "source": [
        "- Bir dosyanın içeriğinin değiştirilmemesi gerekiyorsa, dosya sadece okumak için açılmalıdır.\n",
        "    - Programın yanlışlıkla dosyayı değiştirmesini engeller.\n",
        "- Önceki for ifadesinde gösterildiği gibi, bir dosya nesnesi aracılığıyla yineleme, dosyadan her seferinde bir satır okur ve onu bir dize olarak döndürür.\n",
        "- Dosyadaki her kayıt (yani satır) için string yöntemi split, satırdaki belirteçleri bir liste olarak döndürür."
      ]
    },
    {
      "cell_type": "markdown",
      "id": "b7d79da8",
      "metadata": {
        "id": "b7d79da8"
      },
      "source": [
        "### File Method readlines (Dosya Yöntemi Satır satır okuma )\n",
        "- Bir metin dosyasının tamamını okumak için de kullanılabilir.\n",
        "- Listedeki her satırı bir dizi olarak döndürür. \n",
        "- Küçük dosyalar için bu iyi çalışır fakat yukarıda gösterildiği gibi bir dosya nesnesindeki satırları yinelemek daha verimli olabilir.\n",
        "    - Tüm dosyayı yüklemeyi beklemek yerine, programınızın her metin satırını okunduğu gibi işlemesini sağlar."
      ]
    },
    {
      "cell_type": "markdown",
      "id": "648462fe",
      "metadata": {
        "id": "648462fe"
      },
      "source": [
        "### Seeking to a Specific File Position (Belirli Bir Dosya Pozisyonunu Aramak)\n",
        "- Bir dosyayı okurken sistem, okunacak bir sonraki karakterin konumunu temsil eden bir dosya konumu işaretçisi tutar.\n",
        "- Bir programın yürütülmesi sırasında bir dosyayı baştan birkaç kez sırayla işlemek için, dosya konumu işaretçisini dosyanın başına yeniden konumlandırmanız gerekir:\n",
        "    - Dosyayı kapatıp yeniden açarak yapabilir.\n",
        "    - Dosya nesnesinin arama yöntemini aşağıdaki gibi çağırarak yapılabilir.\n",
        "\n",
        "    file_object.seek(0)\n",
        "\n",
        "__!__ İkinci yaklaşım daha hızlıdır."
      ]
    },
    {
      "cell_type": "markdown",
      "id": "a9358606",
      "metadata": {
        "id": "a9358606"
      },
      "source": [
        "## Updating Text Files (Metin Dosyalarını Güncelleme)\n",
        "- Bir metin dosyasına yazılan biçimlendirilmiş veriler, diğer verileri bozma riski olmadan değiştirilemez.\n",
        "- accounts.txt dosyasında \"White\" adının \"Williams\" olarak değiştirilmesi gerekiyorsa, eski adın üzerine yazılamaz.\n",
        "\n",
        "__300 White 0.00__\n",
        "\n",
        "__300 Williams00__\n",
        "- Williams'taki ikinci \"i\"nin ötesindeki karakterler, satırdaki diğer karakterlerin üzerine yazılır.\n",
        "- Sorun, biçimlendirilmiş girdi-çıktı modelinde, kayıtların ve alanlarının boyutlarının değişebilmesidir.\n",
        "- Önceki adı değiştirmek için şunları yapabiliriz:\n",
        "    - 300 White 0.00 'dan önceki kayıtları geçici bir dosyaya kopyalayın.\n",
        "    - 300 için güncellenmiş ve doğru biçimlendirilmiş kaydı bu dosyaya yazın.\n",
        "    - 300 White 0.00 'dan sonraki kayıtları geçici dosyaya kopyalayın.\n",
        "    - Eski dosyayı silin.\n",
        "    - Orijinal dosyanın adını kullanmak için geçici dosyayı yeniden adlandırın.\n",
        "    - Yalnızca bir kaydı güncellemeniz gerekse bile dosyadaki her kaydın işlenmesini gerektirir.\n",
        "    - Bir uygulamanın dosyanın tek geçişinde birçok kaydı güncellemesi gerektiğinde daha verimlidir."
      ]
    },
    {
      "cell_type": "markdown",
      "id": "b04c4d29",
      "metadata": {
        "id": "b04c4d29"
      },
      "source": [
        "### Updating accounts.txt (accounts.txt Güncelleme)"
      ]
    },
    {
      "cell_type": "code",
      "execution_count": null,
      "id": "f22daed7",
      "metadata": {
        "id": "f22daed7"
      },
      "outputs": [],
      "source": [
        "accounts = open('accounts.txt', 'r')"
      ]
    },
    {
      "cell_type": "code",
      "execution_count": null,
      "id": "f9954812",
      "metadata": {
        "id": "f9954812"
      },
      "outputs": [],
      "source": [
        "temp_file = open('temp_file.txt', 'w')"
      ]
    },
    {
      "cell_type": "markdown",
      "id": "e359d72d",
      "metadata": {
        "id": "e359d72d"
      },
      "source": [
        "#### accounts.txt dosyasındaki değeri değiştirmeden temp değişken dosyasına atanıp asıl dosyada değişiklik olmaması için:"
      ]
    },
    {
      "cell_type": "code",
      "execution_count": null,
      "id": "bae52e65",
      "metadata": {
        "id": "bae52e65"
      },
      "outputs": [],
      "source": [
        "with accounts, temp_file:\n",
        "    for record in accounts:\n",
        "        account, name, balance = record.split()\n",
        "        if account != '300':\n",
        "            temp_file.write(record)\n",
        "        else:\n",
        "            new_record = ' '.join([account, 'Williams', balance])\n",
        "            temp_file.write(new_record + '\\n')"
      ]
    },
    {
      "cell_type": "markdown",
      "id": "f37b3c66",
      "metadata": {
        "id": "f37b3c66"
      },
      "source": [
        "- Bu with ifadesi, with'den sonra virgülle ayrılmış bir listede belirtilen iki kaynak nesnesini yönetir.\n",
        "    - Hesap '300' değilse, temp_file'a (yeni satır içeren) kayıt yazarız.\n",
        "    - Aksi takdirde, 'White' yerine 'Williams' içeren yeni kaydı birleştirir ve dosyaya yazarız."
      ]
    },
    {
      "cell_type": "code",
      "execution_count": null,
      "id": "808673b8",
      "metadata": {
        "id": "808673b8",
        "outputId": "4ce28eda-8add-4970-be80-7dafef6e7073"
      },
      "outputs": [
        {
          "name": "stdout",
          "output_type": "stream",
          "text": [
            "100 Jones 24.98\n",
            "200 Doe 345.67\n",
            "300 Williams 0.00\n",
            "400 Stone -42.16\n",
            "500 Rich 224.62\n"
          ]
        }
      ],
      "source": [
        "!more temp_file.txt"
      ]
    },
    {
      "cell_type": "markdown",
      "id": "ad3f6e96",
      "metadata": {
        "id": "ad3f6e96"
      },
      "source": [
        "### os Module File-Processing Functions (os Modülü-Dosya İşleme İşlevleri)\n",
        "- Güncellemeyi tamamlamak için eski accounts.txt dosyasını silin, ardından temp_file.txt dosyasını accounts.txt olarak yeniden adlandırın."
      ]
    },
    {
      "cell_type": "code",
      "execution_count": null,
      "id": "8bd453d0",
      "metadata": {
        "id": "8bd453d0"
      },
      "outputs": [],
      "source": [
        "import os"
      ]
    },
    {
      "cell_type": "code",
      "execution_count": null,
      "id": "8b2d6460",
      "metadata": {
        "id": "8b2d6460"
      },
      "outputs": [],
      "source": [
        "os.remove('accounts.txt')"
      ]
    },
    {
      "cell_type": "markdown",
      "id": "ad7fbd49",
      "metadata": {
        "id": "ad7fbd49"
      },
      "source": [
        "- Geçici dosyayı 'accounts.txt' olarak yeniden adlandırmak için yeniden adlandırma işlevini kullanın."
      ]
    },
    {
      "cell_type": "code",
      "execution_count": null,
      "id": "1f3870b9",
      "metadata": {
        "id": "1f3870b9"
      },
      "outputs": [],
      "source": [
        "os.rename('temp_file.txt', 'accounts.txt')"
      ]
    },
    {
      "cell_type": "code",
      "execution_count": null,
      "id": "2b85b8a5",
      "metadata": {
        "id": "2b85b8a5",
        "outputId": "9e1f5623-6076-4056-cbe1-6324402d7fb5"
      },
      "outputs": [
        {
          "name": "stdout",
          "output_type": "stream",
          "text": [
            "100 Jones 24.98\n",
            "200 Doe 345.67\n",
            "300 Williams 0.00\n",
            "400 Stone -42.16\n",
            "500 Rich 224.62\n"
          ]
        }
      ],
      "source": [
        "!more accounts.txt"
      ]
    },
    {
      "cell_type": "markdown",
      "id": "3a5fcc4a",
      "metadata": {
        "id": "3a5fcc4a"
      },
      "source": [
        "## Serialization with JSON\n",
        "- JSON (JavaScript Object Notation), nesneleri (sözlükler, listeler ve daha fazlası gibi) ad-değer çiftleri koleksiyonları olarak temsil etmek için kullanılan, metin tabanlı, insan ve bilgisayar tarafından okunabilen, veri alışverişi biçimidir.\n",
        "- Nesneleri platformlar arasında iletmek için tercih edilen veri formatıdır."
      ]
    },
    {
      "cell_type": "markdown",
      "id": "aa4b4a47",
      "metadata": {
        "id": "aa4b4a47"
      },
      "source": [
        "### JSON Data Format (JSON Veri Formatı)\n",
        "- Benzer Python sözlükleri\n",
        "- Her JSON nesnesi, virgülle ayrılmış bir özellik adları listesi ve süslü ayraçlar içindeki değerler içerir.\n",
        "     \n",
        "     - {\"account\": 100, \"name\": \"Jones\", \"balance\": 24.98}\n",
        "- Python listeleri gibi JSON dizileri, köşeli parantez içindeki virgülle ayrılmış değerlerdir.\n",
        "     - [100,200,300]\n",
        "- JSON nesneleri ve dizilerindeki değerler şunlar olabilir:\n",
        "    - çift tırnak içindeki dizeler\n",
        "    - JSON Boole değerleri true veya false\n",
        "    - null (Python'daki None gibi)\n",
        "    - diziler\n",
        "    - diğer JSON nesneleri"
      ]
    },
    {
      "cell_type": "markdown",
      "id": "5a2573f7",
      "metadata": {
        "id": "5a2573f7"
      },
      "source": [
        "### Python Standart Library Module json (Python Standart Kitaplık Modülü json)\n",
        "- __json modülü__, nesneleri JSON (JavaScript Object Notation) metin biçimine dönüştürmenizi sağlar.\n",
        "- Verileri __serializing__ (serileştirme) olarak bilinir.\n",
        "- Aşağıdaki sözlük, ilişkili anahtar 'accounts' değerinin bir anahtar-değer çiftini içerir, iki hesabı temsil eden sözlüklerin listesidir."
      ]
    },
    {
      "cell_type": "code",
      "execution_count": null,
      "id": "2a3f1a90",
      "metadata": {
        "id": "2a3f1a90"
      },
      "outputs": [],
      "source": [
        "accounts_dict = {'accounts': [\n",
        "    {'account': 100, 'name': 'Jones', 'balance': 24.98},\n",
        "    {'account': 200, 'name': 'Doe', 'balance': 345.67}]}"
      ]
    },
    {
      "cell_type": "markdown",
      "id": "5a5ad0e7",
      "metadata": {
        "id": "5a5ad0e7"
      },
      "source": [
        "### Serializing an Object to JSON (Bir Nesneyi JSON'a Serileştirme)\n",
        "- Bir dosyaya JSON yaz\n",
        "- json modülünün __dump fonksiyonu__ accounts_dict sözlüğünü dosyaya seri hale getirir."
      ]
    },
    {
      "cell_type": "code",
      "execution_count": null,
      "id": "b33893d4",
      "metadata": {
        "id": "b33893d4"
      },
      "outputs": [],
      "source": [
        "import json"
      ]
    },
    {
      "cell_type": "code",
      "execution_count": null,
      "id": "a4bd24c7",
      "metadata": {
        "id": "a4bd24c7"
      },
      "outputs": [],
      "source": [
        "with open('accounts.json', 'w') as accounts:\n",
        "    json.dump(accounts_dict, accounts)"
      ]
    },
    {
      "cell_type": "markdown",
      "id": "f77d0b25",
      "metadata": {
        "id": "f77d0b25"
      },
      "source": [
        "- Ortaya çıkan dosya, okunabilirlik için yeniden biçimlendirilmiş aşağıdaki metni içerir:"
      ]
    },
    {
      "cell_type": "code",
      "execution_count": null,
      "id": "7a160211",
      "metadata": {
        "id": "7a160211",
        "outputId": "6c5c205d-4188-4908-c708-b9c337e65ed7"
      },
      "outputs": [
        {
          "data": {
            "text/plain": [
              "{'accounts': [{'accounts': 100, 'name': 'Jones', 'balance': 24.98},\n",
              "  {'accounts': 200, 'name': 'Doe', 'balance': 345.67}]}"
            ]
          },
          "execution_count": 26,
          "metadata": {},
          "output_type": "execute_result"
        }
      ],
      "source": [
        "    {\"accounts\":\n",
        "    [{\"accounts\": 100, \"name\": \"Jones\", \"balance\": 24.98},\n",
        "     {\"accounts\": 200, \"name\": \"Doe\", \"balance\": 345.67}]}"
      ]
    },
    {
      "cell_type": "markdown",
      "id": "3e0a1353",
      "metadata": {
        "id": "3e0a1353"
      },
      "source": [
        "- JSON, dizeleri çift tırnaklı karakterlerle sınırlandırır."
      ]
    },
    {
      "cell_type": "markdown",
      "id": "82cf8d66",
      "metadata": {
        "id": "82cf8d66"
      },
      "source": [
        "## Deserializing the JSON Text (JSON Metninin Seri Halini Kaldırma)\n",
        "- json modülünün __load fonksiyonu__, dosya nesnesi bağımsız değişkeninin tüm JSON içeriğini okur ve JSON'u bir Python nesnesine dönüştürür.\n",
        "- Verilerin serisini kaldırma olarak bilinir."
      ]
    },
    {
      "cell_type": "code",
      "execution_count": null,
      "id": "63680d3d",
      "metadata": {
        "id": "63680d3d"
      },
      "outputs": [],
      "source": [
        "with open('accounts.json', 'r') as accounts:\n",
        "    accounts_json = json.load(accounts)"
      ]
    },
    {
      "cell_type": "code",
      "execution_count": null,
      "id": "ad2d9c28",
      "metadata": {
        "id": "ad2d9c28",
        "outputId": "9087ae21-785a-43a8-ed56-d0560f666641"
      },
      "outputs": [
        {
          "data": {
            "text/plain": [
              "{'accounts': [{'account': 100, 'name': 'Jones', 'balance': 24.98},\n",
              "  {'account': 200, 'name': 'Doe', 'balance': 345.67}]}"
            ]
          },
          "execution_count": 28,
          "metadata": {},
          "output_type": "execute_result"
        }
      ],
      "source": [
        "accounts_json"
      ]
    },
    {
      "cell_type": "code",
      "execution_count": null,
      "id": "5cad23f3",
      "metadata": {
        "id": "5cad23f3",
        "outputId": "d3282de4-bff0-4fa0-a4d1-d5873163159f"
      },
      "outputs": [
        {
          "data": {
            "text/plain": [
              "dict"
            ]
          },
          "execution_count": 29,
          "metadata": {},
          "output_type": "execute_result"
        }
      ],
      "source": [
        "type(accounts_json)"
      ]
    },
    {
      "cell_type": "markdown",
      "id": "51a7255b",
      "metadata": {
        "id": "51a7255b"
      },
      "source": [
        "- Sözlük için kullanılan her fonksiyon kullanılabilmektedir."
      ]
    },
    {
      "cell_type": "code",
      "execution_count": null,
      "id": "85cff910",
      "metadata": {
        "id": "85cff910",
        "outputId": "513d0926-fa85-4865-d4b2-9f148c806df3"
      },
      "outputs": [
        {
          "data": {
            "text/plain": [
              "[{'account': 100, 'name': 'Jones', 'balance': 24.98},\n",
              " {'account': 200, 'name': 'Doe', 'balance': 345.67}]"
            ]
          },
          "execution_count": 30,
          "metadata": {},
          "output_type": "execute_result"
        }
      ],
      "source": [
        "accounts_json['accounts']"
      ]
    },
    {
      "cell_type": "code",
      "execution_count": null,
      "id": "d5f50574",
      "metadata": {
        "id": "d5f50574",
        "outputId": "63b9d3b1-0a2b-49e9-d8c1-19a56d27a4e0"
      },
      "outputs": [
        {
          "data": {
            "text/plain": [
              "{'account': 100, 'name': 'Jones', 'balance': 24.98}"
            ]
          },
          "execution_count": 31,
          "metadata": {},
          "output_type": "execute_result"
        }
      ],
      "source": [
        "accounts_json['accounts'][0]"
      ]
    },
    {
      "cell_type": "code",
      "execution_count": null,
      "id": "05fe626c",
      "metadata": {
        "id": "05fe626c",
        "outputId": "d84f99b1-773a-4685-c0d2-5479caa6964b"
      },
      "outputs": [
        {
          "data": {
            "text/plain": [
              "{'account': 200, 'name': 'Doe', 'balance': 345.67}"
            ]
          },
          "execution_count": 32,
          "metadata": {},
          "output_type": "execute_result"
        }
      ],
      "source": [
        "accounts_json['accounts'][1]"
      ]
    },
    {
      "cell_type": "markdown",
      "id": "7d6f520b",
      "metadata": {
        "id": "7d6f520b"
      },
      "source": [
        "### Displaying the JSON Text (JSON Metnini Görüntüleme)\n",
        "- json modülünün __dumps fonksiyonu__ (dumps, \"dump string\"in kısaltmasıdır), JSON biçiminde bir nesnenin Python dize temsilini döndürür.\n",
        "- Daha okunabilir, hoş bir şekilde yazdırmak için kullanılır."
      ]
    },
    {
      "cell_type": "code",
      "execution_count": null,
      "id": "dcecbe9d",
      "metadata": {
        "id": "dcecbe9d",
        "outputId": "94cbb4bc-1a52-482c-f22b-e903649393fb"
      },
      "outputs": [
        {
          "name": "stdout",
          "output_type": "stream",
          "text": [
            "{\n",
            "    \"accounts\": [\n",
            "        {\n",
            "            \"account\": 100,\n",
            "            \"name\": \"Jones\",\n",
            "            \"balance\": 24.98\n",
            "        },\n",
            "        {\n",
            "            \"account\": 200,\n",
            "            \"name\": \"Doe\",\n",
            "            \"balance\": 345.67\n",
            "        }\n",
            "    ]\n",
            "}\n"
          ]
        }
      ],
      "source": [
        "with open('accounts.json', 'r') as accounts:\n",
        "    print(json.dumps(json.load(accounts), indent=4))"
      ]
    },
    {
      "cell_type": "markdown",
      "id": "92f14331",
      "metadata": {
        "id": "92f14331"
      },
      "source": [
        "## Focus on Security: pickle Serialization and Deserialization (Güvenliğe Odaklanma: pickle Serileştirme ve Seri Kaldırma)\n",
        "- Python Standart Kütüphanesinin __pickle modülü__, nesneleri Python'a özgü bir veri biçiminde seri hale getirebilir.\n",
        "- __Dikkat:__ Python belgeleri, pickle hakkında aşağıdaki uyarıları sağlar:\n",
        "    - “pickle dosyaları hacklenebilir. Ağ üzerinden bir işlenmemiş pickle dosyası alırsanız, ona güvenmeyin! İçinde, ayıklamaya çalıştığınızda rastgele Python çalıştıran kötü amaçlı kod olabilir. Ancak, kendi pickle yazma ve okuma işleminizi yapıyorsanız, güvendesiniz. (Tabii ki pickle dosyasına başka kimsenin erişimi olmaması koşuluyla).”\n",
        "    - “Pickle, keyfi olarak karmaşık Python nesnelerinin serileştirilmesine izin veren bir protokoldür. Bu nedenle Python'a özgüdür ve diğer dillerde yazılmış uygulamalarla iletişim kurmak için kullanılamaz. Ayrıca varsayılan olarak güvensizdir: Güvenilmeyen bir kaynaktan gelen pickle verilerinin seri durumundan çıkarılması, eğer veriler yetenekli bir saldırgan tarafından hazırlanmışsa rastgele kod çalıştırabilir.”"
      ]
    },
    {
      "cell_type": "markdown",
      "id": "562993ad",
      "metadata": {
        "id": "562993ad"
      },
      "source": [
        "## Additional Notes Regarding Files (Dosyalarla İlgili Ek Notlar)\n",
        "- Metin dosyaları için dosya açma modları\n",
        "    - Dosya mevcut değilse, okuma modları bir FileNotFoundError hatası verir.\n",
        "    - Her metin dosyası modunun, 'rb' veya 'wb+'da olduğu gibi b ile belirtilen karşılık gelen bir ikili dosya modu vardır.\n",
        "- __'r+'__ Okuma ve yazma bir metin dosyası açın.\n",
        "- __'w+'__ Okuma ve yazma bir metin dosyası açın. Mevcut dosya içerikleri silinir.\n",
        "- __'a+'__ Sonunda okuma ve ekleme yapan bir metin dosyası açın. Yeni veriler dosyanın sonuna yazılır. Dosya yoksa, oluşturulur."
      ]
    },
    {
      "cell_type": "markdown",
      "id": "c233c69b",
      "metadata": {
        "id": "c233c69b"
      },
      "source": [
        "### Other File Object Methods (Diğer Dosya Nesnesi Yöntemleri)\n",
        "- __read__ \n",
        "    - Bir metin dosyası için, yöntemin tamsayı bağımsız değişkeni tarafından belirtilen karakter sayısını içeren bir dizi döndürür.\n",
        "    - Bir ikili dosya için, belirtilen bayt sayısını döndürür.\n",
        "    - Herhangi bir bağımsız değişken belirtilmezse yöntem dosyanın tüm içeriğini döndürür.\n",
        "- __readline__\n",
        "    - Varsa yeni satır karakteri de dahil olmak üzere metnin bir satırını dizi olarak döndürür.\n",
        "    - Dosyanın sonuyla karşılaştığında boş bir dizi döndürür.\n",
        "- __writelines__\n",
        "    - Dizilerin bir listesini alır ve içeriğini bir dosyaya yazar.\n",
        "- Python'un dosya nesneleri oluşturmak için kullandığı sınıflar, Python Standart kütüphanesinin io modülünde tanımlanır."
      ]
    },
    {
      "cell_type": "markdown",
      "id": "9d57c462",
      "metadata": {
        "id": "9d57c462"
      },
      "source": [
        "## Handling Exceptions (Hataları Ele Alma)\n",
        "- Dosyalarla çalışırken çeşitli türde hatalar oluşabilir.\n",
        "- __FileNotFoundError__\n",
        "    - Var olmayan bir dosyayı 'r' veya 'r+' modlarıyla okumak için açmaya çalışılması.\n",
        "- __PermissionError__\n",
        "    - İzniniz olmayan bir işlemi denemek\n",
        "    - Hesabınızın erişmesine izin verilmeyen bir dosyayı açmanın denenmesi\n",
        "    - Hesabınızın yazma izninin olmadığı bir klasörde bir dosya oluşturun\n",
        "- __ValueError__\n",
        "    - Zaten kapatılmış bir dosyaya yazmaya çalışıldı."
      ]
    },
    {
      "cell_type": "code",
      "execution_count": null,
      "id": "2f7169ee",
      "metadata": {
        "id": "2f7169ee"
      },
      "outputs": [],
      "source": [
        "import sys"
      ]
    },
    {
      "cell_type": "code",
      "execution_count": null,
      "id": "620f0120",
      "metadata": {
        "id": "620f0120"
      },
      "outputs": [],
      "source": [
        "def fonk():\n",
        "    \n",
        "    if (len(sys.argv)!=2):\n",
        "        return\n",
        "    else:   \n",
        "        dosya = sys.argv[1]\n",
        "        with open(dosya, 'r+') as d:\n",
        "            d.write(\"deneme\")\n",
        "            #print(\"deneme\", dosya)"
      ]
    },
    {
      "cell_type": "markdown",
      "id": "b37e3fc2",
      "metadata": {
        "id": "b37e3fc2"
      },
      "source": [
        "## Division by Zero and Invalid Input (Sıfıra Bölme ve Geçersiz Giriş)\n",
        "### Division By Zero (Sıfıra Bölme)\n",
        "0'a bölmeye çalışmanın bir ZeroDivisionError ile sonuçlandığını hatırlamalıyız."
      ]
    },
    {
      "cell_type": "code",
      "execution_count": null,
      "id": "16b821ce",
      "metadata": {
        "id": "16b821ce",
        "outputId": "94939222-810c-48d8-ce36-451a52f7ec96"
      },
      "outputs": [
        {
          "ename": "ZeroDivisionError",
          "evalue": "division by zero",
          "output_type": "error",
          "traceback": [
            "\u001b[1;31m---------------------------------------------------------------------------\u001b[0m",
            "\u001b[1;31mZeroDivisionError\u001b[0m                         Traceback (most recent call last)",
            "\u001b[1;32m~\\AppData\\Local\\Temp\\ipykernel_20240\\1725448531.py\u001b[0m in \u001b[0;36m<module>\u001b[1;34m\u001b[0m\n\u001b[1;32m----> 1\u001b[1;33m \u001b[1;36m10\u001b[0m \u001b[1;33m/\u001b[0m \u001b[1;36m0\u001b[0m\u001b[1;33m\u001b[0m\u001b[1;33m\u001b[0m\u001b[0m\n\u001b[0m",
            "\u001b[1;31mZeroDivisionError\u001b[0m: division by zero"
          ]
        }
      ],
      "source": [
        "10 / 0"
      ]
    },
    {
      "cell_type": "markdown",
      "id": "50c9047e",
      "metadata": {
        "id": "50c9047e"
      },
      "source": [
        "- interpreter'ın ZeroDivisionError türünde bir hata oluşturduğu söyleniyor. \n",
        "- Python'da hata:\n",
        "    - snippet'i sonlandırır.\n",
        "    - __NOT :__ Sözlük anlamı makasla kesilmiş parça anlamına gelen, kendi başına çalışmayan ancak kod içerisinde kısayollar aracılığı ile kullanılan kaynak kodu parçacıklarına __snippet__ denir.\n",
        "    - Hatanın geri izlemesini görüntüler.\n",
        "    - Ardından, sonraki parçacığı girebilmeniz için sonraki In[] istemini gösterir.\n",
        "- Bir scriptte hata oluşursa IPython scripti sonlandırır ve hatanın geri izlemesini görüntüler."
      ]
    },
    {
      "cell_type": "markdown",
      "id": "22d2c31e",
      "metadata": {
        "id": "22d2c31e"
      },
      "source": [
        "### Invalid Input (Geçersiz Giriş)\n",
        "- int, a tamsayısına dönüştürmeye çalışırsanız bir ValueError üretir."
      ]
    },
    {
      "cell_type": "code",
      "execution_count": null,
      "id": "0970e540",
      "metadata": {
        "id": "0970e540",
        "outputId": "2a5ecf7f-196e-4462-c7a7-de4d0bbd7e25"
      },
      "outputs": [
        {
          "name": "stdout",
          "output_type": "stream",
          "text": [
            "Enter an integer: hello\n"
          ]
        },
        {
          "ename": "ValueError",
          "evalue": "invalid literal for int() with base 10: 'hello'",
          "output_type": "error",
          "traceback": [
            "\u001b[1;31m---------------------------------------------------------------------------\u001b[0m",
            "\u001b[1;31mValueError\u001b[0m                                Traceback (most recent call last)",
            "\u001b[1;32m~\\AppData\\Local\\Temp\\ipykernel_20240\\1466288023.py\u001b[0m in \u001b[0;36m<module>\u001b[1;34m\u001b[0m\n\u001b[1;32m----> 1\u001b[1;33m \u001b[0mvalue\u001b[0m \u001b[1;33m=\u001b[0m \u001b[0mint\u001b[0m\u001b[1;33m(\u001b[0m\u001b[0minput\u001b[0m\u001b[1;33m(\u001b[0m\u001b[1;34m'Enter an integer: '\u001b[0m\u001b[1;33m)\u001b[0m\u001b[1;33m)\u001b[0m\u001b[1;33m\u001b[0m\u001b[1;33m\u001b[0m\u001b[0m\n\u001b[0m",
            "\u001b[1;31mValueError\u001b[0m: invalid literal for int() with base 10: 'hello'"
          ]
        }
      ],
      "source": [
        "value = int(input('Enter an integer: '))"
      ]
    },
    {
      "cell_type": "markdown",
      "id": "7d20dfc8",
      "metadata": {
        "id": "7d20dfc8"
      },
      "source": [
        "### try Statements (try İfadeleri)\n",
        "- İşlemeye devam etmek için kodu etkinleştirebilir.\n",
        "- Aşağıdaki kod, ortaya çıkan herhangi bir ZeroDivisionError ve ValueError'ı yakalamak ve işlemek için hata işlemeyi kullanır. Bu durumda, kullanıcının girişi yeniden girmesine izin verir."
      ]
    },
    {
      "cell_type": "code",
      "execution_count": null,
      "id": "ed229f3b",
      "metadata": {
        "id": "ed229f3b",
        "outputId": "b2ec6475-c524-4bf2-c48d-8882955ac012"
      },
      "outputs": [
        {
          "name": "stdout",
          "output_type": "stream",
          "text": [
            "Enter numerator: hello\n",
            "You must enter two integers\n",
            "\n",
            "Enter numerator: 10\n",
            "Enter denominator: 0\n",
            "Attempted to divide by zero\n",
            "\n",
            "Enter numerator: 5\n",
            "Enter denominator: 2\n",
            "5.000 / 2.000 = 2.500\n"
          ]
        }
      ],
      "source": [
        "while True:\n",
        "    try:\n",
        "        number1 = int(input('Enter numerator: '))\n",
        "        number2 = int(input('Enter denominator: '))\n",
        "        result = number1 / number2\n",
        "    except ValueError:\n",
        "        print('You must enter two integers\\n')\n",
        "    except ZeroDivisionError:\n",
        "        print('Attempted to divide by zero\\n')\n",
        "    else:\n",
        "        print(f'{number1:.3f} / {number2:.3f} = {result:.3f}')\n",
        "        break"
      ]
    },
    {
      "cell_type": "markdown",
      "id": "681d22be",
      "metadata": {
        "id": "681d22be"
      },
      "source": [
        "### try Clause\n",
        "- try ifadeleri hata işlemeyi etkinleştirir.\n",
        "- Ardından hatalara yol açabilecek bir dize ifade"
      ]
    },
    {
      "cell_type": "markdown",
      "id": "f08d726d",
      "metadata": {
        "id": "f08d726d"
      },
      "source": [
        "### except Clause\n",
        "- try caluse'ın suite'in ardından bir veya daha fazla hata cümlesi gelebilir.\n",
        "- Hata işleyicileri olarak bilinir.\n",
        "- Her biri, işlediği hata türünü belirtir."
      ]
    },
    {
      "cell_type": "markdown",
      "id": "f4a12265",
      "metadata": {
        "id": "f4a12265"
      },
      "source": [
        "### else Clause\n",
        "- Yalnızca try kısmındaki kod hata oluşturmadığında çalıştırılması gereken kodu belirtir."
      ]
    },
    {
      "cell_type": "markdown",
      "id": "0f63003c",
      "metadata": {
        "id": "0f63003c"
      },
      "source": [
        "### Flow of Control for a ZeroDivisionError (ZeroDivisionError için Kontrol Akışı)\n",
        "- Programda bir hatanın meydana geldiği noktaya genellikle __raise point__ (yükselme noktası) denir.\n",
        "- Bir __try__ kısmında bir hata meydana geldiğinde hemen sonlandırılır.\n",
        "- try kısmını takip eden herhangi bir hata işleyici varsa program kontrolü ilkine aktarılır.\n",
        "- Hata işleyicileri yoksa yığın(stack) çözme adı verilen bir işlem gerçekleşir.\n",
        "- Bir hata cümlesi hatayı başarılı bir şekilde ele aldığında, program yürütmesi, __finally__ clause (eğer varsa), ardından __try__ ifadesinden sonraki sonraki ifadeyle devam eder."
      ]
    },
    {
      "cell_type": "markdown",
      "id": "a5ab9224",
      "metadata": {
        "id": "a5ab9224"
      },
      "source": [
        "### Catching Multiple Exceptions in One except Clause (Birden Fazla Hatayı except Yakalamak)\n",
        "- except'i aşağıdaki gibi tanımlarsak tek bir değişkende tanımlanmış olur:"
      ]
    },
    {
      "cell_type": "code",
      "execution_count": null,
      "id": "f0ea1630",
      "metadata": {
        "id": "f0ea1630"
      },
      "outputs": [],
      "source": [
        "except(type1,type2,...) as variable_name:"
      ]
    },
    {
      "cell_type": "markdown",
      "id": "f81a1d9b",
      "metadata": {
        "id": "f81a1d9b"
      },
      "source": [
        "### finally Clause\n",
        "__try ifadesinin finally ifadesi__\n",
        "- __try__ deyimi, herhangi bir hata cümlesinden veya başka bir cümleden sonra son cümle olarak bir finally cümlesine sahip olabilir.\n",
        "- __finally__ kısmının yürütülmesi kesinleşecek.\n",
        "     - finally diğer dillerde, finally kısmını kaynak ayırma kodunu yerleştirmek için ideal bir konum haline getirir.\n",
        "     - Python'da bu amaçla with deyimini tercih ederiz."
      ]
    },
    {
      "cell_type": "code",
      "execution_count": null,
      "id": "4c9b4fae",
      "metadata": {
        "id": "4c9b4fae",
        "outputId": "9e7c2816-7521-4dc3-f1e6-30b2b4d02648"
      },
      "outputs": [
        {
          "name": "stdout",
          "output_type": "stream",
          "text": [
            "try suite with no exceptions raised\n",
            "else executes because no exceptions in the try suite\n",
            "finally always executes\n"
          ]
        }
      ],
      "source": [
        "try:\n",
        "    print('try suite with no exceptions raised')\n",
        "except:\n",
        "    print('this will not execute')\n",
        "else:\n",
        "    print('else executes because no exceptions in the try suite')\n",
        "finally:\n",
        "    print('finally always executes')"
      ]
    },
    {
      "cell_type": "code",
      "execution_count": null,
      "id": "91ce5308",
      "metadata": {
        "id": "91ce5308",
        "outputId": "ccf1a6d4-e993-4e49-fa34-f6d0649a10e3"
      },
      "outputs": [
        {
          "name": "stdout",
          "output_type": "stream",
          "text": [
            "try suite that raises an exception\n",
            "a ValueError occured\n",
            "finally always executes\n"
          ]
        }
      ],
      "source": [
        "try:\n",
        "    print('try suite that raises an exception')\n",
        "    int('hello')\n",
        "    print('this will not execute')\n",
        "except ValueError:\n",
        "    print('a ValueError occured')\n",
        "else:\n",
        "    print('else will not execute because an exception occured')\n",
        "finally:\n",
        "    print('finally always executes')"
      ]
    },
    {
      "cell_type": "markdown",
      "id": "3acd5c26",
      "metadata": {
        "id": "3acd5c26"
      },
      "source": [
        "- try'de bir hata oluşursa except'e yönlendirir, else çalışmaz.\n",
        "- try'de bir hata olmazsa except çalışmayacaktır, else çalışacaktır. \n",
        "- finally ise hata olsa da olmasa da çalışacaktır.\n",
        "\n",
        "__finally'nin özellikle kullanılmasının sebebi:__ Hata olsun olmasın her koşulu yapması ve bitmesi için kullanılır. "
      ]
    },
    {
      "cell_type": "code",
      "execution_count": null,
      "id": "e271db10",
      "metadata": {
        "id": "e271db10",
        "outputId": "51b4151d-8c3f-4ce1-afa5-b41aadd35adc"
      },
      "outputs": [
        {
          "ename": "FileNotFoundError",
          "evalue": "[Errno 2] No such file or directory: 'gradez.txt'",
          "output_type": "error",
          "traceback": [
            "\u001b[1;31m---------------------------------------------------------------------------\u001b[0m",
            "\u001b[1;31mFileNotFoundError\u001b[0m                         Traceback (most recent call last)",
            "\u001b[1;32m~\\AppData\\Local\\Temp\\ipykernel_20240\\2868523672.py\u001b[0m in \u001b[0;36m<module>\u001b[1;34m\u001b[0m\n\u001b[1;32m----> 1\u001b[1;33m \u001b[0mopen\u001b[0m\u001b[1;33m(\u001b[0m\u001b[1;34m'gradez.txt'\u001b[0m\u001b[1;33m)\u001b[0m\u001b[1;33m\u001b[0m\u001b[1;33m\u001b[0m\u001b[0m\n\u001b[0m",
            "\u001b[1;31mFileNotFoundError\u001b[0m: [Errno 2] No such file or directory: 'gradez.txt'"
          ]
        }
      ],
      "source": [
        "open('gradez.txt') #olmayan bir dosya"
      ]
    },
    {
      "cell_type": "code",
      "execution_count": null,
      "id": "28cc1bdc",
      "metadata": {
        "id": "28cc1bdc",
        "outputId": "e673f06e-1726-4f62-948a-a7dc942239ff"
      },
      "outputs": [
        {
          "name": "stdout",
          "output_type": "stream",
          "text": [
            "The file name you specifiend does not exist\n"
          ]
        }
      ],
      "source": [
        "try:\n",
        "    with open('gradez.txt', 'r') as accounts:\n",
        "        print(f'{\"ID\":<3}{\"Name\":<7}{\"Grade\":}')\n",
        "        for record in accounts:\n",
        "            student_id, name, grade = record.split()\n",
        "            print(f'{student_id:<3}{name:<7}{grade}')\n",
        "except FileNotFoundError:\n",
        "    print('The file name you specifiend does not exist')\n",
        "finally:\n",
        "    accounts.close()"
      ]
    },
    {
      "cell_type": "code",
      "execution_count": null,
      "id": "624009a5",
      "metadata": {
        "id": "624009a5"
      },
      "outputs": [],
      "source": [
        "def fonk():\n",
        "    for dosya in sys.argv[1:]:\n",
        "        try:\n",
        "            with open(dosya) as d:\n",
        "                toplam = 0\n",
        "                for i in d:\n",
        "                    toplam += int(d)\n",
        "            print(toplam)\n",
        "        except Exception:\n",
        "            print(dosya, \"problem var\")"
      ]
    },
    {
      "cell_type": "markdown",
      "id": "402aa911",
      "metadata": {
        "id": "402aa911"
      },
      "source": [
        "### os.path metodu\n",
        "- __os.path.exist__ Bu yöntem belirtilen yolun var olup olmadığını kontrol eder.\n",
        "- __os.path.isfile__ Bu yöntem dosya ile bağlantısı var ise true döndürür.\n",
        "- __os.path.isdir__ Bu yöntem belirtilen yolun mevcut bir dizin olup olmadığını kontrol etmek için kullanılır."
      ]
    },
    {
      "cell_type": "code",
      "execution_count": null,
      "id": "1dcaf364",
      "metadata": {
        "id": "1dcaf364",
        "outputId": "35822ebf-b678-4052-ef0f-8bfeb9994d28"
      },
      "outputs": [
        {
          "name": "stdout",
          "output_type": "stream",
          "text": [
            "ID Name   Grade\n",
            "100Jones  24.98\n",
            "200Doe    345.67\n",
            "300Williams0.00\n",
            "400Stone  -42.16\n",
            "500Rich   224.62\n"
          ]
        }
      ],
      "source": [
        "with open('accounts.txt', 'r') as accounts:\n",
        "        print(f'{\"ID\":<3}{\"Name\":<7}{\"Grade\":}')\n",
        "        for record in accounts:\n",
        "            student_id, name, grade = record.split()\n",
        "            print(f'{student_id:<3}{name:<7}{grade}')"
      ]
    },
    {
      "cell_type": "code",
      "execution_count": null,
      "id": "b79ae066",
      "metadata": {
        "id": "b79ae066",
        "outputId": "21ae4f7d-2b81-4ed6-e915-f7c7eda68a02"
      },
      "outputs": [
        {
          "ename": "ValueError",
          "evalue": "I/O operation on closed file.",
          "output_type": "error",
          "traceback": [
            "\u001b[1;31m---------------------------------------------------------------------------\u001b[0m",
            "\u001b[1;31mValueError\u001b[0m                                Traceback (most recent call last)",
            "\u001b[1;32m~\\AppData\\Local\\Temp\\ipykernel_20240\\690359494.py\u001b[0m in \u001b[0;36m<module>\u001b[1;34m\u001b[0m\n\u001b[1;32m----> 1\u001b[1;33m \u001b[1;32mfor\u001b[0m \u001b[0mrecord\u001b[0m \u001b[1;32min\u001b[0m \u001b[0maccounts\u001b[0m\u001b[1;33m:\u001b[0m\u001b[1;33m\u001b[0m\u001b[1;33m\u001b[0m\u001b[0m\n\u001b[0m\u001b[0;32m      2\u001b[0m             \u001b[0mstudent_id\u001b[0m\u001b[1;33m,\u001b[0m \u001b[0mname\u001b[0m\u001b[1;33m,\u001b[0m \u001b[0mgrade\u001b[0m \u001b[1;33m=\u001b[0m \u001b[0mrecord\u001b[0m\u001b[1;33m.\u001b[0m\u001b[0msplit\u001b[0m\u001b[1;33m(\u001b[0m\u001b[1;33m)\u001b[0m\u001b[1;33m\u001b[0m\u001b[1;33m\u001b[0m\u001b[0m\n",
            "\u001b[1;31mValueError\u001b[0m: I/O operation on closed file."
          ]
        }
      ],
      "source": [
        "for record in accounts:\n",
        "            student_id, name, grade = record.split()"
      ]
    },
    {
      "cell_type": "markdown",
      "id": "c1658193",
      "metadata": {
        "id": "c1658193"
      },
      "source": [
        "__ERROR SEBEBİ:__ with kullanımında hem dosyayı açma hem de kapatma yapılmaktadır. Bu yüzden dosyayı tekrar kullanmak istediğimizde açmadan kullanamayız."
      ]
    },
    {
      "cell_type": "markdown",
      "id": "5c2872e6",
      "metadata": {
        "id": "5c2872e6"
      },
      "source": [
        "## Explicitly Raising an Exception (Açıkça Bir Hata Oşuşturmak)\n",
        "- raise ile kendi hatamızı tanımlayabiliriz.\n",
        "- raise ExceptionClassName şeklinde"
      ]
    },
    {
      "cell_type": "code",
      "execution_count": null,
      "id": "ba7bdf73",
      "metadata": {
        "id": "ba7bdf73",
        "outputId": "11080f7f-2dc9-43ca-ea8c-b1897e8fd2ae"
      },
      "outputs": [
        {
          "ename": "ValueError",
          "evalue": "",
          "output_type": "error",
          "traceback": [
            "\u001b[1;31m---------------------------------------------------------------------------\u001b[0m",
            "\u001b[1;31mValueError\u001b[0m                                Traceback (most recent call last)",
            "\u001b[1;32m~\\AppData\\Local\\Temp\\ipykernel_20240\\4096975414.py\u001b[0m in \u001b[0;36m<module>\u001b[1;34m\u001b[0m\n\u001b[1;32m----> 1\u001b[1;33m \u001b[1;32mraise\u001b[0m \u001b[0mValueError\u001b[0m\u001b[1;33m\u001b[0m\u001b[1;33m\u001b[0m\u001b[0m\n\u001b[0m",
            "\u001b[1;31mValueError\u001b[0m: "
          ]
        }
      ],
      "source": [
        "raise ValueError"
      ]
    },
    {
      "cell_type": "markdown",
      "id": "77036a5f",
      "metadata": {
        "id": "77036a5f"
      },
      "source": [
        "## (Optional) Stack Unwinding and Tracebacks ((İsteğe bağlı) Yığın Çözme ve Geri İzlemeler)"
      ]
    },
    {
      "cell_type": "code",
      "execution_count": null,
      "id": "0b967c0b",
      "metadata": {
        "id": "0b967c0b"
      },
      "outputs": [],
      "source": [
        "def function1():\n",
        "    function2()"
      ]
    },
    {
      "cell_type": "code",
      "execution_count": null,
      "id": "82a7c9dc",
      "metadata": {
        "id": "82a7c9dc"
      },
      "outputs": [],
      "source": [
        "def function2():\n",
        "    raise Exception('An exception occured')"
      ]
    },
    {
      "cell_type": "code",
      "execution_count": null,
      "id": "cc661747",
      "metadata": {
        "id": "cc661747",
        "outputId": "b04c5aa7-fc50-46d3-e598-22d23b79eafa"
      },
      "outputs": [
        {
          "ename": "Exception",
          "evalue": "An exception occured",
          "output_type": "error",
          "traceback": [
            "\u001b[1;31m---------------------------------------------------------------------------\u001b[0m",
            "\u001b[1;31mException\u001b[0m                                 Traceback (most recent call last)",
            "\u001b[1;32m~\\AppData\\Local\\Temp\\ipykernel_20240\\2505403607.py\u001b[0m in \u001b[0;36m<module>\u001b[1;34m\u001b[0m\n\u001b[1;32m----> 1\u001b[1;33m \u001b[0mfunction1\u001b[0m\u001b[1;33m(\u001b[0m\u001b[1;33m)\u001b[0m\u001b[1;33m\u001b[0m\u001b[1;33m\u001b[0m\u001b[0m\n\u001b[0m",
            "\u001b[1;32m~\\AppData\\Local\\Temp\\ipykernel_20240\\4005091792.py\u001b[0m in \u001b[0;36mfunction1\u001b[1;34m()\u001b[0m\n\u001b[0;32m      1\u001b[0m \u001b[1;32mdef\u001b[0m \u001b[0mfunction1\u001b[0m\u001b[1;33m(\u001b[0m\u001b[1;33m)\u001b[0m\u001b[1;33m:\u001b[0m\u001b[1;33m\u001b[0m\u001b[1;33m\u001b[0m\u001b[0m\n\u001b[1;32m----> 2\u001b[1;33m     \u001b[0mfunction2\u001b[0m\u001b[1;33m(\u001b[0m\u001b[1;33m)\u001b[0m\u001b[1;33m\u001b[0m\u001b[1;33m\u001b[0m\u001b[0m\n\u001b[0m",
            "\u001b[1;32m~\\AppData\\Local\\Temp\\ipykernel_20240\\578772953.py\u001b[0m in \u001b[0;36mfunction2\u001b[1;34m()\u001b[0m\n\u001b[0;32m      1\u001b[0m \u001b[1;32mdef\u001b[0m \u001b[0mfunction2\u001b[0m\u001b[1;33m(\u001b[0m\u001b[1;33m)\u001b[0m\u001b[1;33m:\u001b[0m\u001b[1;33m\u001b[0m\u001b[1;33m\u001b[0m\u001b[0m\n\u001b[1;32m----> 2\u001b[1;33m     \u001b[1;32mraise\u001b[0m \u001b[0mException\u001b[0m\u001b[1;33m(\u001b[0m\u001b[1;34m'An exception occured'\u001b[0m\u001b[1;33m)\u001b[0m\u001b[1;33m\u001b[0m\u001b[1;33m\u001b[0m\u001b[0m\n\u001b[0m",
            "\u001b[1;31mException\u001b[0m: An exception occured"
          ]
        }
      ],
      "source": [
        "function1()"
      ]
    },
    {
      "cell_type": "markdown",
      "id": "52c97ab3",
      "metadata": {
        "id": "52c97ab3"
      },
      "source": [
        "#### Hatada stack yapısı:\n",
        "- İlk olarak (yani en alt kısımda) hatanın olduğu ilk yer gelir.\n",
        "- Bir üstünde hatanın meydana geldiği yer gelir.\n",
        "- En sonda hatanın karşılaşıldığı en son yer gelir."
      ]
    },
    {
      "cell_type": "markdown",
      "id": "a6f66dc2",
      "metadata": {
        "id": "a6f66dc2"
      },
      "source": [
        "## Python Standard Library Module csv (Python Standart Kütüphane csv Modülü)\n",
        "- Birbirinden virgülle ayrılmış değerleri olan bir csv dosyası oluşturulur.\n",
        "- writer ve reader nesneleri vardır."
      ]
    },
    {
      "cell_type": "code",
      "execution_count": null,
      "id": "1d2820b1",
      "metadata": {
        "id": "1d2820b1"
      },
      "outputs": [],
      "source": [
        "import csv"
      ]
    },
    {
      "cell_type": "code",
      "execution_count": null,
      "id": "03e6d3cb",
      "metadata": {
        "id": "03e6d3cb"
      },
      "outputs": [],
      "source": [
        "with open('accounts.csv', mode='w', newline='') as accounts:\n",
        "    writer = csv.writer(accounts)\n",
        "    writer.writerow([100, 'Jones', 24.98])\n",
        "    writer.writerow([200, 'Doe', 345.67])\n",
        "    writer.writerow([300, 'White', 0.00])\n",
        "    writer.writerow([400, 'Stone', -42.16])\n",
        "    writer.writerow([500, 'Rich', 224.62])"
      ]
    },
    {
      "cell_type": "code",
      "execution_count": null,
      "id": "b71a09f9",
      "metadata": {
        "id": "b71a09f9",
        "outputId": "07a8ba3d-21a0-4e2d-cf8d-d1975f439803"
      },
      "outputs": [
        {
          "name": "stdout",
          "output_type": "stream",
          "text": [
            "100,Jones,24.98\n",
            "200,Doe,345.67\n",
            "300,White,0.0\n",
            "400,Stone,-42.16\n",
            "500,Rich,224.62\n"
          ]
        }
      ],
      "source": [
        "!more accounts.csv"
      ]
    },
    {
      "cell_type": "markdown",
      "id": "95d51c1f",
      "metadata": {
        "id": "95d51c1f"
      },
      "source": [
        "### Reading from a CSV File (Bir CSV Dosyasından Okuma)"
      ]
    },
    {
      "cell_type": "code",
      "execution_count": null,
      "id": "b39bee21",
      "metadata": {
        "id": "b39bee21",
        "outputId": "c0447184-5458-4ce3-e1ef-ed78b683fae4"
      },
      "outputs": [
        {
          "name": "stdout",
          "output_type": "stream",
          "text": [
            "Accounts  Name      Balance   \n",
            "100       Jones          24.98\n",
            "200       Doe           345.67\n",
            "300       White            0.0\n",
            "400       Stone         -42.16\n",
            "500       Rich          224.62\n"
          ]
        }
      ],
      "source": [
        "with open('accounts.csv', 'r', newline='') as accounts:\n",
        "    print(f'{\"Accounts\":<10}{\"Name\":<10}{\"Balance\":<10}')\n",
        "    reader = csv.reader(accounts)\n",
        "    for record in reader:\n",
        "        account, name, balance = record\n",
        "        print(f'{account:<10}{name:<10}{balance:>10}')"
      ]
    },
    {
      "cell_type": "markdown",
      "id": "4bdc1aed",
      "metadata": {
        "id": "4bdc1aed"
      },
      "source": [
        "### Reading CSV Files into Pandas DataFrames (CSV Dosyalarını Pandas DataFrames ile Okuma)"
      ]
    },
    {
      "cell_type": "markdown",
      "id": "e24a2cd8",
      "metadata": {
        "id": "e24a2cd8"
      },
      "source": [
        "#### Datasets (Veri Setleri)\n",
        "- İnternette bir sürü veri seti bulunmaktadır.\n",
        "- Kendimiz de veri seti oluşturabiliriz."
      ]
    },
    {
      "cell_type": "code",
      "execution_count": null,
      "id": "c7b8a2fc",
      "metadata": {
        "id": "c7b8a2fc",
        "outputId": "6c0f9548-37c7-4079-9dbc-4dd3e220d0ab"
      },
      "outputs": [
        {
          "name": "stdout",
          "output_type": "stream",
          "text": [
            "100,Jones,24.98\n",
            "200,Doe,345.67\n",
            "300,White,0.0\n",
            "400,Stone,-42.16\n",
            "500,Rich,224.62\n"
          ]
        }
      ],
      "source": [
        "!more accounts.csv"
      ]
    },
    {
      "cell_type": "code",
      "execution_count": null,
      "id": "380d9fc5",
      "metadata": {
        "id": "380d9fc5"
      },
      "outputs": [],
      "source": [
        "import pandas as pd"
      ]
    },
    {
      "cell_type": "code",
      "execution_count": null,
      "id": "759482bc",
      "metadata": {
        "id": "759482bc"
      },
      "outputs": [],
      "source": [
        "df = pd.read_csv('accounts.csv')                "
      ]
    },
    {
      "cell_type": "code",
      "execution_count": null,
      "id": "4d4bcef2",
      "metadata": {
        "id": "4d4bcef2",
        "outputId": "2b6a014b-b6be-45d9-c33e-073cc7fd1541"
      },
      "outputs": [
        {
          "data": {
            "text/html": [
              "<div>\n",
              "<style scoped>\n",
              "    .dataframe tbody tr th:only-of-type {\n",
              "        vertical-align: middle;\n",
              "    }\n",
              "\n",
              "    .dataframe tbody tr th {\n",
              "        vertical-align: top;\n",
              "    }\n",
              "\n",
              "    .dataframe thead th {\n",
              "        text-align: right;\n",
              "    }\n",
              "</style>\n",
              "<table border=\"1\" class=\"dataframe\">\n",
              "  <thead>\n",
              "    <tr style=\"text-align: right;\">\n",
              "      <th></th>\n",
              "      <th>100</th>\n",
              "      <th>Jones</th>\n",
              "      <th>24.98</th>\n",
              "    </tr>\n",
              "  </thead>\n",
              "  <tbody>\n",
              "    <tr>\n",
              "      <th>0</th>\n",
              "      <td>200</td>\n",
              "      <td>Doe</td>\n",
              "      <td>345.67</td>\n",
              "    </tr>\n",
              "    <tr>\n",
              "      <th>1</th>\n",
              "      <td>300</td>\n",
              "      <td>White</td>\n",
              "      <td>0.00</td>\n",
              "    </tr>\n",
              "    <tr>\n",
              "      <th>2</th>\n",
              "      <td>400</td>\n",
              "      <td>Stone</td>\n",
              "      <td>-42.16</td>\n",
              "    </tr>\n",
              "    <tr>\n",
              "      <th>3</th>\n",
              "      <td>500</td>\n",
              "      <td>Rich</td>\n",
              "      <td>224.62</td>\n",
              "    </tr>\n",
              "  </tbody>\n",
              "</table>\n",
              "</div>"
            ],
            "text/plain": [
              "   100  Jones   24.98\n",
              "0  200    Doe  345.67\n",
              "1  300  White    0.00\n",
              "2  400  Stone  -42.16\n",
              "3  500   Rich  224.62"
            ]
          },
          "execution_count": 57,
          "metadata": {},
          "output_type": "execute_result"
        }
      ],
      "source": [
        "df"
      ]
    },
    {
      "cell_type": "markdown",
      "id": "82ebcf95",
      "metadata": {
        "id": "82ebcf95"
      },
      "source": [
        "__Tabloda sütun isimleri yoksa ilk satırda olması gereken kısım yer almıştır.__\n",
        "\n",
        "__Bu hatayı düzeltmek için aşağıdaki düzenleme yapılır:__ "
      ]
    },
    {
      "cell_type": "code",
      "execution_count": null,
      "id": "92564518",
      "metadata": {
        "id": "92564518"
      },
      "outputs": [],
      "source": [
        "df = pd.read_csv('accounts.csv', names=['account', 'name', 'balance'])      "
      ]
    },
    {
      "cell_type": "code",
      "execution_count": null,
      "id": "0fc353f6",
      "metadata": {
        "id": "0fc353f6",
        "outputId": "f74bf360-ff53-4fc0-db89-2556f550d4ee"
      },
      "outputs": [
        {
          "data": {
            "text/html": [
              "<div>\n",
              "<style scoped>\n",
              "    .dataframe tbody tr th:only-of-type {\n",
              "        vertical-align: middle;\n",
              "    }\n",
              "\n",
              "    .dataframe tbody tr th {\n",
              "        vertical-align: top;\n",
              "    }\n",
              "\n",
              "    .dataframe thead th {\n",
              "        text-align: right;\n",
              "    }\n",
              "</style>\n",
              "<table border=\"1\" class=\"dataframe\">\n",
              "  <thead>\n",
              "    <tr style=\"text-align: right;\">\n",
              "      <th></th>\n",
              "      <th>account</th>\n",
              "      <th>name</th>\n",
              "      <th>balance</th>\n",
              "    </tr>\n",
              "  </thead>\n",
              "  <tbody>\n",
              "    <tr>\n",
              "      <th>0</th>\n",
              "      <td>100</td>\n",
              "      <td>Jones</td>\n",
              "      <td>24.98</td>\n",
              "    </tr>\n",
              "    <tr>\n",
              "      <th>1</th>\n",
              "      <td>200</td>\n",
              "      <td>Doe</td>\n",
              "      <td>345.67</td>\n",
              "    </tr>\n",
              "    <tr>\n",
              "      <th>2</th>\n",
              "      <td>300</td>\n",
              "      <td>White</td>\n",
              "      <td>0.00</td>\n",
              "    </tr>\n",
              "    <tr>\n",
              "      <th>3</th>\n",
              "      <td>400</td>\n",
              "      <td>Stone</td>\n",
              "      <td>-42.16</td>\n",
              "    </tr>\n",
              "    <tr>\n",
              "      <th>4</th>\n",
              "      <td>500</td>\n",
              "      <td>Rich</td>\n",
              "      <td>224.62</td>\n",
              "    </tr>\n",
              "  </tbody>\n",
              "</table>\n",
              "</div>"
            ],
            "text/plain": [
              "   account   name  balance\n",
              "0      100  Jones    24.98\n",
              "1      200    Doe   345.67\n",
              "2      300  White     0.00\n",
              "3      400  Stone   -42.16\n",
              "4      500   Rich   224.62"
            ]
          },
          "execution_count": 59,
          "metadata": {},
          "output_type": "execute_result"
        }
      ],
      "source": [
        "df"
      ]
    },
    {
      "cell_type": "code",
      "execution_count": null,
      "id": "03f59a5e",
      "metadata": {
        "id": "03f59a5e",
        "outputId": "c2e519e6-3258-4b24-a555-23629baca92b"
      },
      "outputs": [
        {
          "data": {
            "text/html": [
              "<div>\n",
              "<style scoped>\n",
              "    .dataframe tbody tr th:only-of-type {\n",
              "        vertical-align: middle;\n",
              "    }\n",
              "\n",
              "    .dataframe tbody tr th {\n",
              "        vertical-align: top;\n",
              "    }\n",
              "\n",
              "    .dataframe thead th {\n",
              "        text-align: right;\n",
              "    }\n",
              "</style>\n",
              "<table border=\"1\" class=\"dataframe\">\n",
              "  <thead>\n",
              "    <tr style=\"text-align: right;\">\n",
              "      <th></th>\n",
              "      <th>account</th>\n",
              "      <th>balance</th>\n",
              "    </tr>\n",
              "  </thead>\n",
              "  <tbody>\n",
              "    <tr>\n",
              "      <th>count</th>\n",
              "      <td>5.000000</td>\n",
              "      <td>5.000000</td>\n",
              "    </tr>\n",
              "    <tr>\n",
              "      <th>mean</th>\n",
              "      <td>300.000000</td>\n",
              "      <td>110.622000</td>\n",
              "    </tr>\n",
              "    <tr>\n",
              "      <th>std</th>\n",
              "      <td>158.113883</td>\n",
              "      <td>166.701248</td>\n",
              "    </tr>\n",
              "    <tr>\n",
              "      <th>min</th>\n",
              "      <td>100.000000</td>\n",
              "      <td>-42.160000</td>\n",
              "    </tr>\n",
              "    <tr>\n",
              "      <th>25%</th>\n",
              "      <td>200.000000</td>\n",
              "      <td>0.000000</td>\n",
              "    </tr>\n",
              "    <tr>\n",
              "      <th>50%</th>\n",
              "      <td>300.000000</td>\n",
              "      <td>24.980000</td>\n",
              "    </tr>\n",
              "    <tr>\n",
              "      <th>75%</th>\n",
              "      <td>400.000000</td>\n",
              "      <td>224.620000</td>\n",
              "    </tr>\n",
              "    <tr>\n",
              "      <th>max</th>\n",
              "      <td>500.000000</td>\n",
              "      <td>345.670000</td>\n",
              "    </tr>\n",
              "  </tbody>\n",
              "</table>\n",
              "</div>"
            ],
            "text/plain": [
              "          account     balance\n",
              "count    5.000000    5.000000\n",
              "mean   300.000000  110.622000\n",
              "std    158.113883  166.701248\n",
              "min    100.000000  -42.160000\n",
              "25%    200.000000    0.000000\n",
              "50%    300.000000   24.980000\n",
              "75%    400.000000  224.620000\n",
              "max    500.000000  345.670000"
            ]
          },
          "execution_count": 60,
          "metadata": {},
          "output_type": "execute_result"
        }
      ],
      "source": [
        "df.describe()"
      ]
    },
    {
      "cell_type": "code",
      "execution_count": null,
      "id": "3e805a22",
      "metadata": {
        "id": "3e805a22"
      },
      "outputs": [],
      "source": [
        "df.to_csv('accounts_from_dataframe.csv', index=False)"
      ]
    },
    {
      "cell_type": "code",
      "execution_count": null,
      "id": "e21734eb",
      "metadata": {
        "id": "e21734eb",
        "outputId": "b2f952d2-d86a-4735-ce9d-478181e1dc2d"
      },
      "outputs": [
        {
          "name": "stdout",
          "output_type": "stream",
          "text": [
            "account,name,balance\n",
            "100,Jones,24.98\n",
            "200,Doe,345.67\n",
            "300,White,0.0\n",
            "400,Stone,-42.16\n",
            "500,Rich,224.62\n"
          ]
        }
      ],
      "source": [
        "!more accounts_from_dataframe.csv"
      ]
    },
    {
      "cell_type": "markdown",
      "id": "a6a37322",
      "metadata": {
        "id": "a6a37322"
      },
      "source": [
        "### VERİ SETLERİNİ ALIP KULLANMAK İLE İLGİLİ ÖRNEK: Reading the Titanic Disaster Dataset (Titanik Kazası Veri Kümesini Okuma)"
      ]
    },
    {
      "cell_type": "code",
      "execution_count": null,
      "id": "06841b78",
      "metadata": {
        "id": "06841b78"
      },
      "outputs": [],
      "source": [
        "import pandas as pd"
      ]
    },
    {
      "cell_type": "code",
      "execution_count": null,
      "id": "9fcc5255",
      "metadata": {
        "id": "9fcc5255"
      },
      "outputs": [],
      "source": [
        "titanic = pd.read_csv('https://vincentarelbundock.github.io/Rdatasets/csv/carData/TitanicSurvival.csv')"
      ]
    },
    {
      "cell_type": "code",
      "execution_count": null,
      "id": "55d39004",
      "metadata": {
        "id": "55d39004"
      },
      "outputs": [],
      "source": [
        "veri = pd.read_csv(\"TitanicSurvival.csv\")"
      ]
    },
    {
      "cell_type": "code",
      "execution_count": null,
      "id": "10fc9e50",
      "metadata": {
        "id": "10fc9e50",
        "outputId": "462f652c-77ea-427c-bc46-fefe5c286461"
      },
      "outputs": [
        {
          "data": {
            "text/html": [
              "<div>\n",
              "<style scoped>\n",
              "    .dataframe tbody tr th:only-of-type {\n",
              "        vertical-align: middle;\n",
              "    }\n",
              "\n",
              "    .dataframe tbody tr th {\n",
              "        vertical-align: top;\n",
              "    }\n",
              "\n",
              "    .dataframe thead th {\n",
              "        text-align: right;\n",
              "    }\n",
              "</style>\n",
              "<table border=\"1\" class=\"dataframe\">\n",
              "  <thead>\n",
              "    <tr style=\"text-align: right;\">\n",
              "      <th></th>\n",
              "      <th>Unnamed: 0</th>\n",
              "      <th>survived</th>\n",
              "      <th>sex</th>\n",
              "      <th>age</th>\n",
              "      <th>passengerClass</th>\n",
              "    </tr>\n",
              "  </thead>\n",
              "  <tbody>\n",
              "    <tr>\n",
              "      <th>0</th>\n",
              "      <td>Allen, Miss. Elisabeth Walton</td>\n",
              "      <td>yes</td>\n",
              "      <td>female</td>\n",
              "      <td>29.0000</td>\n",
              "      <td>1st</td>\n",
              "    </tr>\n",
              "    <tr>\n",
              "      <th>1</th>\n",
              "      <td>Allison, Master. Hudson Trevor</td>\n",
              "      <td>yes</td>\n",
              "      <td>male</td>\n",
              "      <td>0.9167</td>\n",
              "      <td>1st</td>\n",
              "    </tr>\n",
              "    <tr>\n",
              "      <th>2</th>\n",
              "      <td>Allison, Miss. Helen Loraine</td>\n",
              "      <td>no</td>\n",
              "      <td>female</td>\n",
              "      <td>2.0000</td>\n",
              "      <td>1st</td>\n",
              "    </tr>\n",
              "    <tr>\n",
              "      <th>3</th>\n",
              "      <td>Allison, Mr. Hudson Joshua Crei</td>\n",
              "      <td>no</td>\n",
              "      <td>male</td>\n",
              "      <td>30.0000</td>\n",
              "      <td>1st</td>\n",
              "    </tr>\n",
              "    <tr>\n",
              "      <th>4</th>\n",
              "      <td>Allison, Mrs. Hudson J C (Bessi</td>\n",
              "      <td>no</td>\n",
              "      <td>female</td>\n",
              "      <td>25.0000</td>\n",
              "      <td>1st</td>\n",
              "    </tr>\n",
              "    <tr>\n",
              "      <th>...</th>\n",
              "      <td>...</td>\n",
              "      <td>...</td>\n",
              "      <td>...</td>\n",
              "      <td>...</td>\n",
              "      <td>...</td>\n",
              "    </tr>\n",
              "    <tr>\n",
              "      <th>1304</th>\n",
              "      <td>Zabour, Miss. Hileni</td>\n",
              "      <td>no</td>\n",
              "      <td>female</td>\n",
              "      <td>14.5000</td>\n",
              "      <td>3rd</td>\n",
              "    </tr>\n",
              "    <tr>\n",
              "      <th>1305</th>\n",
              "      <td>Zabour, Miss. Thamine</td>\n",
              "      <td>no</td>\n",
              "      <td>female</td>\n",
              "      <td>NaN</td>\n",
              "      <td>3rd</td>\n",
              "    </tr>\n",
              "    <tr>\n",
              "      <th>1306</th>\n",
              "      <td>Zakarian, Mr. Mapriededer</td>\n",
              "      <td>no</td>\n",
              "      <td>male</td>\n",
              "      <td>26.5000</td>\n",
              "      <td>3rd</td>\n",
              "    </tr>\n",
              "    <tr>\n",
              "      <th>1307</th>\n",
              "      <td>Zakarian, Mr. Ortin</td>\n",
              "      <td>no</td>\n",
              "      <td>male</td>\n",
              "      <td>27.0000</td>\n",
              "      <td>3rd</td>\n",
              "    </tr>\n",
              "    <tr>\n",
              "      <th>1308</th>\n",
              "      <td>Zimmerman, Mr. Leo</td>\n",
              "      <td>no</td>\n",
              "      <td>male</td>\n",
              "      <td>29.0000</td>\n",
              "      <td>3rd</td>\n",
              "    </tr>\n",
              "  </tbody>\n",
              "</table>\n",
              "<p>1309 rows × 5 columns</p>\n",
              "</div>"
            ],
            "text/plain": [
              "                           Unnamed: 0 survived     sex      age passengerClass\n",
              "0       Allen, Miss. Elisabeth Walton      yes  female  29.0000            1st\n",
              "1      Allison, Master. Hudson Trevor      yes    male   0.9167            1st\n",
              "2        Allison, Miss. Helen Loraine       no  female   2.0000            1st\n",
              "3     Allison, Mr. Hudson Joshua Crei       no    male  30.0000            1st\n",
              "4     Allison, Mrs. Hudson J C (Bessi       no  female  25.0000            1st\n",
              "...                               ...      ...     ...      ...            ...\n",
              "1304             Zabour, Miss. Hileni       no  female  14.5000            3rd\n",
              "1305            Zabour, Miss. Thamine       no  female      NaN            3rd\n",
              "1306        Zakarian, Mr. Mapriededer       no    male  26.5000            3rd\n",
              "1307              Zakarian, Mr. Ortin       no    male  27.0000            3rd\n",
              "1308               Zimmerman, Mr. Leo       no    male  29.0000            3rd\n",
              "\n",
              "[1309 rows x 5 columns]"
            ]
          },
          "execution_count": 66,
          "metadata": {},
          "output_type": "execute_result"
        }
      ],
      "source": [
        "veri"
      ]
    },
    {
      "cell_type": "code",
      "execution_count": null,
      "id": "8a9d0c78",
      "metadata": {
        "id": "8a9d0c78",
        "outputId": "c5b4c8b8-e6dc-4540-ca0e-76dba1d9bced"
      },
      "outputs": [
        {
          "data": {
            "text/html": [
              "<div>\n",
              "<style scoped>\n",
              "    .dataframe tbody tr th:only-of-type {\n",
              "        vertical-align: middle;\n",
              "    }\n",
              "\n",
              "    .dataframe tbody tr th {\n",
              "        vertical-align: top;\n",
              "    }\n",
              "\n",
              "    .dataframe thead th {\n",
              "        text-align: right;\n",
              "    }\n",
              "</style>\n",
              "<table border=\"1\" class=\"dataframe\">\n",
              "  <thead>\n",
              "    <tr style=\"text-align: right;\">\n",
              "      <th></th>\n",
              "      <th>Unnamed: 0</th>\n",
              "      <th>survived</th>\n",
              "      <th>sex</th>\n",
              "      <th>age</th>\n",
              "      <th>passengerClass</th>\n",
              "    </tr>\n",
              "  </thead>\n",
              "  <tbody>\n",
              "    <tr>\n",
              "      <th>0</th>\n",
              "      <td>Allen, Miss. Elisabeth Walton</td>\n",
              "      <td>yes</td>\n",
              "      <td>female</td>\n",
              "      <td>29.0000</td>\n",
              "      <td>1st</td>\n",
              "    </tr>\n",
              "    <tr>\n",
              "      <th>1</th>\n",
              "      <td>Allison, Master. Hudson Trevor</td>\n",
              "      <td>yes</td>\n",
              "      <td>male</td>\n",
              "      <td>0.9167</td>\n",
              "      <td>1st</td>\n",
              "    </tr>\n",
              "    <tr>\n",
              "      <th>2</th>\n",
              "      <td>Allison, Miss. Helen Loraine</td>\n",
              "      <td>no</td>\n",
              "      <td>female</td>\n",
              "      <td>2.0000</td>\n",
              "      <td>1st</td>\n",
              "    </tr>\n",
              "    <tr>\n",
              "      <th>3</th>\n",
              "      <td>Allison, Mr. Hudson Joshua Crei</td>\n",
              "      <td>no</td>\n",
              "      <td>male</td>\n",
              "      <td>30.0000</td>\n",
              "      <td>1st</td>\n",
              "    </tr>\n",
              "    <tr>\n",
              "      <th>4</th>\n",
              "      <td>Allison, Mrs. Hudson J C (Bessi</td>\n",
              "      <td>no</td>\n",
              "      <td>female</td>\n",
              "      <td>25.0000</td>\n",
              "      <td>1st</td>\n",
              "    </tr>\n",
              "  </tbody>\n",
              "</table>\n",
              "</div>"
            ],
            "text/plain": [
              "                        Unnamed: 0 survived     sex      age passengerClass\n",
              "0    Allen, Miss. Elisabeth Walton      yes  female  29.0000            1st\n",
              "1   Allison, Master. Hudson Trevor      yes    male   0.9167            1st\n",
              "2     Allison, Miss. Helen Loraine       no  female   2.0000            1st\n",
              "3  Allison, Mr. Hudson Joshua Crei       no    male  30.0000            1st\n",
              "4  Allison, Mrs. Hudson J C (Bessi       no  female  25.0000            1st"
            ]
          },
          "execution_count": 67,
          "metadata": {},
          "output_type": "execute_result"
        }
      ],
      "source": [
        "titanic.head() # ilk beş eleman yazdırılır."
      ]
    },
    {
      "cell_type": "code",
      "execution_count": null,
      "id": "707b293c",
      "metadata": {
        "id": "707b293c",
        "outputId": "df2d547d-a0bc-4eaa-cbe5-f14f8a95e605"
      },
      "outputs": [
        {
          "data": {
            "text/html": [
              "<div>\n",
              "<style scoped>\n",
              "    .dataframe tbody tr th:only-of-type {\n",
              "        vertical-align: middle;\n",
              "    }\n",
              "\n",
              "    .dataframe tbody tr th {\n",
              "        vertical-align: top;\n",
              "    }\n",
              "\n",
              "    .dataframe thead th {\n",
              "        text-align: right;\n",
              "    }\n",
              "</style>\n",
              "<table border=\"1\" class=\"dataframe\">\n",
              "  <thead>\n",
              "    <tr style=\"text-align: right;\">\n",
              "      <th></th>\n",
              "      <th>Unnamed: 0</th>\n",
              "      <th>survived</th>\n",
              "      <th>sex</th>\n",
              "      <th>age</th>\n",
              "      <th>passengerClass</th>\n",
              "    </tr>\n",
              "  </thead>\n",
              "  <tbody>\n",
              "    <tr>\n",
              "      <th>1304</th>\n",
              "      <td>Zabour, Miss. Hileni</td>\n",
              "      <td>no</td>\n",
              "      <td>female</td>\n",
              "      <td>14.5</td>\n",
              "      <td>3rd</td>\n",
              "    </tr>\n",
              "    <tr>\n",
              "      <th>1305</th>\n",
              "      <td>Zabour, Miss. Thamine</td>\n",
              "      <td>no</td>\n",
              "      <td>female</td>\n",
              "      <td>NaN</td>\n",
              "      <td>3rd</td>\n",
              "    </tr>\n",
              "    <tr>\n",
              "      <th>1306</th>\n",
              "      <td>Zakarian, Mr. Mapriededer</td>\n",
              "      <td>no</td>\n",
              "      <td>male</td>\n",
              "      <td>26.5</td>\n",
              "      <td>3rd</td>\n",
              "    </tr>\n",
              "    <tr>\n",
              "      <th>1307</th>\n",
              "      <td>Zakarian, Mr. Ortin</td>\n",
              "      <td>no</td>\n",
              "      <td>male</td>\n",
              "      <td>27.0</td>\n",
              "      <td>3rd</td>\n",
              "    </tr>\n",
              "    <tr>\n",
              "      <th>1308</th>\n",
              "      <td>Zimmerman, Mr. Leo</td>\n",
              "      <td>no</td>\n",
              "      <td>male</td>\n",
              "      <td>29.0</td>\n",
              "      <td>3rd</td>\n",
              "    </tr>\n",
              "  </tbody>\n",
              "</table>\n",
              "</div>"
            ],
            "text/plain": [
              "                     Unnamed: 0 survived     sex   age passengerClass\n",
              "1304       Zabour, Miss. Hileni       no  female  14.5            3rd\n",
              "1305      Zabour, Miss. Thamine       no  female   NaN            3rd\n",
              "1306  Zakarian, Mr. Mapriededer       no    male  26.5            3rd\n",
              "1307        Zakarian, Mr. Ortin       no    male  27.0            3rd\n",
              "1308         Zimmerman, Mr. Leo       no    male  29.0            3rd"
            ]
          },
          "execution_count": 68,
          "metadata": {},
          "output_type": "execute_result"
        }
      ],
      "source": [
        "titanic.tail() # son beş eleman yazdırılır."
      ]
    },
    {
      "cell_type": "code",
      "execution_count": null,
      "id": "9eb10731",
      "metadata": {
        "id": "9eb10731",
        "outputId": "03a70ae4-a3a3-4915-e867-5bf5ce5a5da1"
      },
      "outputs": [
        {
          "name": "stdout",
          "output_type": "stream",
          "text": [
            "<class 'pandas.core.frame.DataFrame'>\n",
            "RangeIndex: 1309 entries, 0 to 1308\n",
            "Data columns (total 5 columns):\n",
            " #   Column          Non-Null Count  Dtype  \n",
            "---  ------          --------------  -----  \n",
            " 0   Unnamed: 0      1309 non-null   object \n",
            " 1   survived        1309 non-null   object \n",
            " 2   sex             1309 non-null   object \n",
            " 3   age             1046 non-null   float64\n",
            " 4   passengerClass  1309 non-null   object \n",
            "dtypes: float64(1), object(4)\n",
            "memory usage: 51.3+ KB\n"
          ]
        }
      ],
      "source": [
        "titanic.info()"
      ]
    },
    {
      "cell_type": "markdown",
      "id": "ebcd30ff",
      "metadata": {
        "id": "ebcd30ff"
      },
      "source": [
        "__Burada__ 1309 kişi var ama yaş verisi 1046 yani yaşı belli olmayanlar var demektir. titanic.info() ile bu değerlere kolayca ulaşırız.\n",
        "__Dtype__ da önemlidir."
      ]
    },
    {
      "cell_type": "markdown",
      "id": "9805e3c9",
      "metadata": {
        "id": "9805e3c9"
      },
      "source": [
        "#### Sütun Adlarını Değiştirme"
      ]
    },
    {
      "cell_type": "code",
      "execution_count": null,
      "id": "e242b95a",
      "metadata": {
        "id": "e242b95a"
      },
      "outputs": [],
      "source": [
        "titanic.columns = ['name','survived', 'gender', 'age', 'class']"
      ]
    },
    {
      "cell_type": "code",
      "execution_count": null,
      "id": "6951ea10",
      "metadata": {
        "id": "6951ea10",
        "outputId": "42d32ae9-bccd-405a-d2b9-737cf1b30096"
      },
      "outputs": [
        {
          "data": {
            "text/html": [
              "<div>\n",
              "<style scoped>\n",
              "    .dataframe tbody tr th:only-of-type {\n",
              "        vertical-align: middle;\n",
              "    }\n",
              "\n",
              "    .dataframe tbody tr th {\n",
              "        vertical-align: top;\n",
              "    }\n",
              "\n",
              "    .dataframe thead th {\n",
              "        text-align: right;\n",
              "    }\n",
              "</style>\n",
              "<table border=\"1\" class=\"dataframe\">\n",
              "  <thead>\n",
              "    <tr style=\"text-align: right;\">\n",
              "      <th></th>\n",
              "      <th>name</th>\n",
              "      <th>survived</th>\n",
              "      <th>gender</th>\n",
              "      <th>age</th>\n",
              "      <th>class</th>\n",
              "    </tr>\n",
              "  </thead>\n",
              "  <tbody>\n",
              "    <tr>\n",
              "      <th>0</th>\n",
              "      <td>Allen, Miss. Elisabeth Walton</td>\n",
              "      <td>yes</td>\n",
              "      <td>female</td>\n",
              "      <td>29.0000</td>\n",
              "      <td>1st</td>\n",
              "    </tr>\n",
              "    <tr>\n",
              "      <th>1</th>\n",
              "      <td>Allison, Master. Hudson Trevor</td>\n",
              "      <td>yes</td>\n",
              "      <td>male</td>\n",
              "      <td>0.9167</td>\n",
              "      <td>1st</td>\n",
              "    </tr>\n",
              "    <tr>\n",
              "      <th>2</th>\n",
              "      <td>Allison, Miss. Helen Loraine</td>\n",
              "      <td>no</td>\n",
              "      <td>female</td>\n",
              "      <td>2.0000</td>\n",
              "      <td>1st</td>\n",
              "    </tr>\n",
              "    <tr>\n",
              "      <th>3</th>\n",
              "      <td>Allison, Mr. Hudson Joshua Crei</td>\n",
              "      <td>no</td>\n",
              "      <td>male</td>\n",
              "      <td>30.0000</td>\n",
              "      <td>1st</td>\n",
              "    </tr>\n",
              "    <tr>\n",
              "      <th>4</th>\n",
              "      <td>Allison, Mrs. Hudson J C (Bessi</td>\n",
              "      <td>no</td>\n",
              "      <td>female</td>\n",
              "      <td>25.0000</td>\n",
              "      <td>1st</td>\n",
              "    </tr>\n",
              "  </tbody>\n",
              "</table>\n",
              "</div>"
            ],
            "text/plain": [
              "                              name survived  gender      age class\n",
              "0    Allen, Miss. Elisabeth Walton      yes  female  29.0000   1st\n",
              "1   Allison, Master. Hudson Trevor      yes    male   0.9167   1st\n",
              "2     Allison, Miss. Helen Loraine       no  female   2.0000   1st\n",
              "3  Allison, Mr. Hudson Joshua Crei       no    male  30.0000   1st\n",
              "4  Allison, Mrs. Hudson J C (Bessi       no  female  25.0000   1st"
            ]
          },
          "execution_count": 71,
          "metadata": {},
          "output_type": "execute_result"
        }
      ],
      "source": [
        "titanic.head()"
      ]
    },
    {
      "cell_type": "code",
      "execution_count": null,
      "id": "bb10ab0a",
      "metadata": {
        "id": "bb10ab0a",
        "outputId": "d8f35cb1-0344-4cb1-af3c-c20dbd0bd202"
      },
      "outputs": [
        {
          "data": {
            "text/html": [
              "<div>\n",
              "<style scoped>\n",
              "    .dataframe tbody tr th:only-of-type {\n",
              "        vertical-align: middle;\n",
              "    }\n",
              "\n",
              "    .dataframe tbody tr th {\n",
              "        vertical-align: top;\n",
              "    }\n",
              "\n",
              "    .dataframe thead th {\n",
              "        text-align: right;\n",
              "    }\n",
              "</style>\n",
              "<table border=\"1\" class=\"dataframe\">\n",
              "  <thead>\n",
              "    <tr style=\"text-align: right;\">\n",
              "      <th></th>\n",
              "      <th>age</th>\n",
              "    </tr>\n",
              "  </thead>\n",
              "  <tbody>\n",
              "    <tr>\n",
              "      <th>count</th>\n",
              "      <td>1046.000000</td>\n",
              "    </tr>\n",
              "    <tr>\n",
              "      <th>mean</th>\n",
              "      <td>29.881135</td>\n",
              "    </tr>\n",
              "    <tr>\n",
              "      <th>std</th>\n",
              "      <td>14.413500</td>\n",
              "    </tr>\n",
              "    <tr>\n",
              "      <th>min</th>\n",
              "      <td>0.166700</td>\n",
              "    </tr>\n",
              "    <tr>\n",
              "      <th>25%</th>\n",
              "      <td>21.000000</td>\n",
              "    </tr>\n",
              "    <tr>\n",
              "      <th>50%</th>\n",
              "      <td>28.000000</td>\n",
              "    </tr>\n",
              "    <tr>\n",
              "      <th>75%</th>\n",
              "      <td>39.000000</td>\n",
              "    </tr>\n",
              "    <tr>\n",
              "      <th>max</th>\n",
              "      <td>80.000000</td>\n",
              "    </tr>\n",
              "  </tbody>\n",
              "</table>\n",
              "</div>"
            ],
            "text/plain": [
              "               age\n",
              "count  1046.000000\n",
              "mean     29.881135\n",
              "std      14.413500\n",
              "min       0.166700\n",
              "25%      21.000000\n",
              "50%      28.000000\n",
              "75%      39.000000\n",
              "max      80.000000"
            ]
          },
          "execution_count": 72,
          "metadata": {},
          "output_type": "execute_result"
        }
      ],
      "source": [
        "titanic.describe()"
      ]
    },
    {
      "cell_type": "code",
      "execution_count": null,
      "id": "c9d2b143",
      "metadata": {
        "id": "c9d2b143",
        "outputId": "5f86c3ca-e994-44fe-9ca1-8823c856358b"
      },
      "outputs": [
        {
          "data": {
            "text/plain": [
              "count      1309\n",
              "unique        2\n",
              "top       False\n",
              "freq        809\n",
              "Name: survived, dtype: object"
            ]
          },
          "execution_count": 73,
          "metadata": {},
          "output_type": "execute_result"
        }
      ],
      "source": [
        "(titanic.survived == 'yes').describe()"
      ]
    },
    {
      "cell_type": "markdown",
      "id": "8e818029",
      "metadata": {
        "id": "8e818029"
      },
      "source": [
        "### Histogramını Alma"
      ]
    },
    {
      "cell_type": "code",
      "execution_count": null,
      "id": "4dcaa97a",
      "metadata": {
        "id": "4dcaa97a"
      },
      "outputs": [],
      "source": [
        "%matplotlib inline"
      ]
    },
    {
      "cell_type": "code",
      "execution_count": null,
      "id": "85e04502",
      "metadata": {
        "id": "85e04502",
        "outputId": "0ff4358c-db85-4e03-cbe1-d12e93a19771"
      },
      "outputs": [
        {
          "data": {
            "image/png": "[encoded data removed]",
            "text/plain": [
              "<Figure size 640x480 with 1 Axes>"
            ]
          },
          "metadata": {},
          "output_type": "display_data"
        }
      ],
      "source": [
        "histogram = titanic.hist()"
      ]
    }
  ],
  "metadata": {
    "kernelspec": {
      "display_name": "Python 3 (ipykernel)",
      "language": "python",
      "name": "python3"
    },
    "language_info": {
      "codemirror_mode": {
        "name": "ipython",
        "version": 3
      },
      "file_extension": ".py",
      "mimetype": "text/x-python",
      "name": "python",
      "nbconvert_exporter": "python",
      "pygments_lexer": "ipython3",
      "version": "3.9.13"
    },
    "colab": {
      "provenance": []
    }
  },
  "nbformat": 4,
  "nbformat_minor": 5
}