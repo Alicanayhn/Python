{
  "cells": [
    {
      "cell_type": "markdown",
      "id": "bee88aa3",
      "metadata": {
        "id": "bee88aa3"
      },
      "source": [
        "# NumPy (Numerical Python)\n",
        "* NumPy, dizilerle çalışmak için kullanılan bir Python kütüphanesidir\n",
        "* NumPy, doğrusal cebir, fourier dönüşümü ve matrisler alanında çalışmak için de gerekli işlevlere sahiptir\n",
        "### Neden NumPy Kullanılır:\n",
        "* NumPy, geleneksel Python listelerinden 50 kata kadar daha hızlı bir dizi nesnesi sağlamayı amaçlamaktadır.\n",
        "### NumPy’yi Projeye Dahil Etmek\n",
        "* import anahtar sözcüğünü ekleyerek onu uygulamalarınıza dahil edebilirsiniz\n",
        "### NumPy np Olarak Kullanmak\n",
        "* NumPy genellikle np alias (takma adı) altında içe aktarılır \n",
        "* alias Python’da, aynı şeye atıfta bulunmak için alternatif bir addır \n",
        "* İçe aktarırken as anahtar sözcüğüyle bir alias oluşturabilirsiniz"
      ]
    },
    {
      "cell_type": "code",
      "execution_count": null,
      "id": "6ab14bad",
      "metadata": {
        "id": "6ab14bad"
      },
      "outputs": [],
      "source": [
        "import numpy as np"
      ]
    },
    {
      "cell_type": "markdown",
      "id": "4d459958",
      "metadata": {
        "id": "4d459958"
      },
      "source": [
        "### NumPy ndarray Nesnesi Oluşturmak\n",
        "* NumPy’deki dizi nesnesine ndarray denir\n",
        "* array() işlevini kullanarak bir NumPy ndarray nesnesi oluşturabiliriz"
      ]
    },
    {
      "cell_type": "code",
      "execution_count": null,
      "id": "0a6f98c5",
      "metadata": {
        "id": "0a6f98c5"
      },
      "outputs": [],
      "source": [
        "a = np.array([1,2,3])"
      ]
    },
    {
      "cell_type": "code",
      "execution_count": null,
      "id": "73c69279",
      "metadata": {
        "id": "73c69279",
        "outputId": "3c4d95b7-50a6-44bd-fabe-71951f221516"
      },
      "outputs": [
        {
          "data": {
            "text/plain": [
              "array([1, 2, 3])"
            ]
          },
          "execution_count": 3,
          "metadata": {},
          "output_type": "execute_result"
        }
      ],
      "source": [
        "a"
      ]
    },
    {
      "cell_type": "code",
      "execution_count": null,
      "id": "1cd4432f",
      "metadata": {
        "id": "1cd4432f",
        "outputId": "0881ff51-a5d7-4fbb-b873-364567c7c07d"
      },
      "outputs": [
        {
          "data": {
            "text/plain": [
              "numpy.ndarray"
            ]
          },
          "execution_count": 4,
          "metadata": {},
          "output_type": "execute_result"
        }
      ],
      "source": [
        "type(a)"
      ]
    },
    {
      "cell_type": "markdown",
      "id": "ca438ef9",
      "metadata": {
        "id": "ca438ef9"
      },
      "source": [
        "### dir() fonksiyonu\n",
        "* nesnelerin özellikleri hakkında bilgi edinme imkanı sağlar"
      ]
    },
    {
      "cell_type": "code",
      "execution_count": null,
      "id": "86ece44c",
      "metadata": {
        "id": "86ece44c",
        "outputId": "bc37e2b4-7c95-4d72-c245-eae9b38e14e1"
      },
      "outputs": [
        {
          "data": {
            "text/plain": [
              "['T',\n",
              " '__abs__',\n",
              " '__add__',\n",
              " '__and__',\n",
              " '__array__',\n",
              " '__array_finalize__',\n",
              " '__array_function__',\n",
              " '__array_interface__',\n",
              " '__array_prepare__',\n",
              " '__array_priority__',\n",
              " '__array_struct__',\n",
              " '__array_ufunc__',\n",
              " '__array_wrap__',\n",
              " '__bool__',\n",
              " '__class__',\n",
              " '__complex__',\n",
              " '__contains__',\n",
              " '__copy__',\n",
              " '__deepcopy__',\n",
              " '__delattr__',\n",
              " '__delitem__',\n",
              " '__dir__',\n",
              " '__divmod__',\n",
              " '__doc__',\n",
              " '__eq__',\n",
              " '__float__',\n",
              " '__floordiv__',\n",
              " '__format__',\n",
              " '__ge__',\n",
              " '__getattribute__',\n",
              " '__getitem__',\n",
              " '__gt__',\n",
              " '__hash__',\n",
              " '__iadd__',\n",
              " '__iand__',\n",
              " '__ifloordiv__',\n",
              " '__ilshift__',\n",
              " '__imatmul__',\n",
              " '__imod__',\n",
              " '__imul__',\n",
              " '__index__',\n",
              " '__init__',\n",
              " '__init_subclass__',\n",
              " '__int__',\n",
              " '__invert__',\n",
              " '__ior__',\n",
              " '__ipow__',\n",
              " '__irshift__',\n",
              " '__isub__',\n",
              " '__iter__',\n",
              " '__itruediv__',\n",
              " '__ixor__',\n",
              " '__le__',\n",
              " '__len__',\n",
              " '__lshift__',\n",
              " '__lt__',\n",
              " '__matmul__',\n",
              " '__mod__',\n",
              " '__mul__',\n",
              " '__ne__',\n",
              " '__neg__',\n",
              " '__new__',\n",
              " '__or__',\n",
              " '__pos__',\n",
              " '__pow__',\n",
              " '__radd__',\n",
              " '__rand__',\n",
              " '__rdivmod__',\n",
              " '__reduce__',\n",
              " '__reduce_ex__',\n",
              " '__repr__',\n",
              " '__rfloordiv__',\n",
              " '__rlshift__',\n",
              " '__rmatmul__',\n",
              " '__rmod__',\n",
              " '__rmul__',\n",
              " '__ror__',\n",
              " '__rpow__',\n",
              " '__rrshift__',\n",
              " '__rshift__',\n",
              " '__rsub__',\n",
              " '__rtruediv__',\n",
              " '__rxor__',\n",
              " '__setattr__',\n",
              " '__setitem__',\n",
              " '__setstate__',\n",
              " '__sizeof__',\n",
              " '__str__',\n",
              " '__sub__',\n",
              " '__subclasshook__',\n",
              " '__truediv__',\n",
              " '__xor__',\n",
              " 'all',\n",
              " 'any',\n",
              " 'argmax',\n",
              " 'argmin',\n",
              " 'argpartition',\n",
              " 'argsort',\n",
              " 'astype',\n",
              " 'base',\n",
              " 'byteswap',\n",
              " 'choose',\n",
              " 'clip',\n",
              " 'compress',\n",
              " 'conj',\n",
              " 'conjugate',\n",
              " 'copy',\n",
              " 'ctypes',\n",
              " 'cumprod',\n",
              " 'cumsum',\n",
              " 'data',\n",
              " 'diagonal',\n",
              " 'dot',\n",
              " 'dtype',\n",
              " 'dump',\n",
              " 'dumps',\n",
              " 'fill',\n",
              " 'flags',\n",
              " 'flat',\n",
              " 'flatten',\n",
              " 'getfield',\n",
              " 'imag',\n",
              " 'item',\n",
              " 'itemset',\n",
              " 'itemsize',\n",
              " 'max',\n",
              " 'mean',\n",
              " 'min',\n",
              " 'nbytes',\n",
              " 'ndim',\n",
              " 'newbyteorder',\n",
              " 'nonzero',\n",
              " 'partition',\n",
              " 'prod',\n",
              " 'ptp',\n",
              " 'put',\n",
              " 'ravel',\n",
              " 'real',\n",
              " 'repeat',\n",
              " 'reshape',\n",
              " 'resize',\n",
              " 'round',\n",
              " 'searchsorted',\n",
              " 'setfield',\n",
              " 'setflags',\n",
              " 'shape',\n",
              " 'size',\n",
              " 'sort',\n",
              " 'squeeze',\n",
              " 'std',\n",
              " 'strides',\n",
              " 'sum',\n",
              " 'swapaxes',\n",
              " 'take',\n",
              " 'tobytes',\n",
              " 'tofile',\n",
              " 'tolist',\n",
              " 'tostring',\n",
              " 'trace',\n",
              " 'transpose',\n",
              " 'var',\n",
              " 'view']"
            ]
          },
          "execution_count": 6,
          "metadata": {},
          "output_type": "execute_result"
        }
      ],
      "source": [
        "dir(a)"
      ]
    },
    {
      "cell_type": "markdown",
      "id": "1075f022",
      "metadata": {
        "id": "1075f022"
      },
      "source": [
        "### 2-D Diziler\n",
        "* Öğeleri olarak 1 boyutlu dizilere sahip bir diziye 2 boyutlu dizi denir"
      ]
    },
    {
      "cell_type": "code",
      "execution_count": null,
      "id": "72ae86f8",
      "metadata": {
        "id": "72ae86f8"
      },
      "outputs": [],
      "source": [
        "b = np.array([[1,2,3],[4,5,6]])"
      ]
    },
    {
      "cell_type": "code",
      "execution_count": null,
      "id": "64f6cd4d",
      "metadata": {
        "id": "64f6cd4d",
        "outputId": "ce1f3415-b02b-4eed-fb89-af5ddaf50b9f"
      },
      "outputs": [
        {
          "data": {
            "text/plain": [
              "array([[1, 2, 3],\n",
              "       [4, 5, 6]])"
            ]
          },
          "execution_count": 8,
          "metadata": {},
          "output_type": "execute_result"
        }
      ],
      "source": [
        "b"
      ]
    },
    {
      "cell_type": "markdown",
      "id": "d03e8de2",
      "metadata": {
        "id": "d03e8de2"
      },
      "source": [
        "### bir dizinin shape'ini almak\n",
        "* Bir dizinin şekli (shape), dizinin her boyutundaki (dimension, örneğin 1D, 2D gibi) elemanların sayısıdır"
      ]
    },
    {
      "cell_type": "code",
      "execution_count": null,
      "id": "9f0b3ea2",
      "metadata": {
        "id": "9f0b3ea2",
        "outputId": "4c37ada0-fad7-4b0c-cbe7-09bfe8b022ba"
      },
      "outputs": [
        {
          "data": {
            "text/plain": [
              "(3,)"
            ]
          },
          "execution_count": 10,
          "metadata": {},
          "output_type": "execute_result"
        }
      ],
      "source": [
        "a.shape"
      ]
    },
    {
      "cell_type": "markdown",
      "id": "2c76323b",
      "metadata": {
        "id": "2c76323b"
      },
      "source": [
        "### ndim fonksiyonu\n",
        "* bir dizinin boyutunu öğrenmemizi sağlar"
      ]
    },
    {
      "cell_type": "code",
      "execution_count": null,
      "id": "7de59e77",
      "metadata": {
        "id": "7de59e77",
        "outputId": "8e7d2f72-55af-4565-ece4-4a512f850023"
      },
      "outputs": [
        {
          "data": {
            "text/plain": [
              "1"
            ]
          },
          "execution_count": 11,
          "metadata": {},
          "output_type": "execute_result"
        }
      ],
      "source": [
        "a.ndim"
      ]
    },
    {
      "cell_type": "code",
      "execution_count": null,
      "id": "9d873617",
      "metadata": {
        "id": "9d873617",
        "outputId": "78834001-fa5a-4630-f28c-7ccbef8d946f"
      },
      "outputs": [
        {
          "data": {
            "text/plain": [
              "2"
            ]
          },
          "execution_count": 12,
          "metadata": {},
          "output_type": "execute_result"
        }
      ],
      "source": [
        "b.ndim"
      ]
    },
    {
      "cell_type": "code",
      "execution_count": null,
      "id": "b0bcf360",
      "metadata": {
        "id": "b0bcf360",
        "outputId": "55b067b5-2c23-4d58-e531-57febaa88c9d"
      },
      "outputs": [
        {
          "data": {
            "text/plain": [
              "(2, 3)"
            ]
          },
          "execution_count": 13,
          "metadata": {},
          "output_type": "execute_result"
        }
      ],
      "source": [
        "b.shape"
      ]
    },
    {
      "cell_type": "code",
      "execution_count": null,
      "id": "8417d364",
      "metadata": {
        "id": "8417d364",
        "outputId": "838e6a02-e7ff-43ee-ffef-d8c7dd7e55e8"
      },
      "outputs": [
        {
          "data": {
            "text/plain": [
              "array([0, 1, 2, 3, 4, 5, 6, 7, 8, 9])"
            ]
          },
          "execution_count": 14,
          "metadata": {},
          "output_type": "execute_result"
        }
      ],
      "source": [
        "np.array(range(10))"
      ]
    },
    {
      "cell_type": "code",
      "execution_count": null,
      "id": "c54aa53c",
      "metadata": {
        "id": "c54aa53c",
        "outputId": "74c35b1d-c985-4b85-f206-7f7cd510d55d"
      },
      "outputs": [
        {
          "data": {
            "text/plain": [
              "array([ 0,  1,  4,  9, 16, 25, 36, 49, 64, 81])"
            ]
          },
          "execution_count": 15,
          "metadata": {},
          "output_type": "execute_result"
        }
      ],
      "source": [
        "np.array([i**2 for i in range (10)])"
      ]
    },
    {
      "cell_type": "code",
      "execution_count": null,
      "id": "b5eb8c8a",
      "metadata": {
        "id": "b5eb8c8a"
      },
      "outputs": [],
      "source": [
        "c = np.array([1,0.1, 0.2,5])"
      ]
    },
    {
      "cell_type": "markdown",
      "id": "b0d62fbf",
      "metadata": {
        "id": "b0d62fbf"
      },
      "source": [
        "### dtype fonksiyonu\n",
        "* NumPy array nesnesinin hangi veri tipinde olduğunu döndürür"
      ]
    },
    {
      "cell_type": "code",
      "execution_count": null,
      "id": "77bd0080",
      "metadata": {
        "id": "77bd0080",
        "outputId": "7d6a3184-137d-45ff-9007-12673093487a"
      },
      "outputs": [
        {
          "data": {
            "text/plain": [
              "dtype('float64')"
            ]
          },
          "execution_count": 17,
          "metadata": {},
          "output_type": "execute_result"
        }
      ],
      "source": [
        "c.dtype"
      ]
    },
    {
      "cell_type": "code",
      "execution_count": null,
      "id": "35906601",
      "metadata": {
        "id": "35906601",
        "outputId": "9fa21771-71b0-499b-8de1-6970e9d66960"
      },
      "outputs": [
        {
          "data": {
            "text/plain": [
              "dtype('int32')"
            ]
          },
          "execution_count": 18,
          "metadata": {},
          "output_type": "execute_result"
        }
      ],
      "source": [
        "a.dtype"
      ]
    },
    {
      "cell_type": "code",
      "execution_count": null,
      "id": "7c701ecc",
      "metadata": {
        "id": "7c701ecc"
      },
      "outputs": [],
      "source": [
        "d=np.array([1,2,3.0,\"deneme\"])"
      ]
    },
    {
      "cell_type": "code",
      "execution_count": null,
      "id": "396bf4e2",
      "metadata": {
        "id": "396bf4e2",
        "outputId": "d397bb97-c9fc-4b42-9bcf-f7fb1e0d9e81"
      },
      "outputs": [
        {
          "data": {
            "text/plain": [
              "dtype('<U32')"
            ]
          },
          "execution_count": 21,
          "metadata": {},
          "output_type": "execute_result"
        }
      ],
      "source": [
        "d.dtype"
      ]
    },
    {
      "cell_type": "code",
      "execution_count": null,
      "id": "0e14a6b7",
      "metadata": {
        "id": "0e14a6b7",
        "outputId": "8c33da20-fa7a-4c6c-b2f1-2a5aecea811c"
      },
      "outputs": [
        {
          "data": {
            "text/plain": [
              "array(['1', '2', '3.0', 'deneme'], dtype='<U32')"
            ]
          },
          "execution_count": 22,
          "metadata": {},
          "output_type": "execute_result"
        }
      ],
      "source": [
        "d"
      ]
    },
    {
      "cell_type": "markdown",
      "id": "dad2279b",
      "metadata": {
        "id": "dad2279b"
      },
      "source": [
        "#### bir diziyi matris olarak yazdırma örneği"
      ]
    },
    {
      "cell_type": "code",
      "execution_count": null,
      "id": "7b72f0ba",
      "metadata": {
        "id": "7b72f0ba",
        "outputId": "daa7a78b-0286-4431-b56a-edcf0ab2f3f0"
      },
      "outputs": [
        {
          "name": "stdout",
          "output_type": "stream",
          "text": [
            "1 2 3 \n",
            "4 5 6 \n"
          ]
        }
      ],
      "source": [
        "for i in b:\n",
        "    for j in i:\n",
        "        print(j, end=\" \")\n",
        "    print()    "
      ]
    },
    {
      "cell_type": "markdown",
      "id": "52550722",
      "metadata": {
        "id": "52550722"
      },
      "source": [
        "## np.zeros() metodu\n",
        "* np.zeros() bir tuple (demet) değeri alır\n",
        "* Bu tuple değeri, oluşturmak istediğimiz dizinin boyutlarının değerleridir\n",
        "* np.zeros() ise bu boyutlarda ve sıfırlardan oluşan bir dizin üretir"
      ]
    },
    {
      "cell_type": "code",
      "execution_count": null,
      "id": "89937178",
      "metadata": {
        "id": "89937178",
        "outputId": "3969091d-f445-4c45-dc68-6b68faa7525f"
      },
      "outputs": [
        {
          "data": {
            "text/plain": [
              "array([0., 0., 0., 0., 0.])"
            ]
          },
          "execution_count": 25,
          "metadata": {},
          "output_type": "execute_result"
        }
      ],
      "source": [
        "np.zeros(5)"
      ]
    },
    {
      "cell_type": "markdown",
      "id": "88714296",
      "metadata": {
        "id": "88714296"
      },
      "source": [
        "## np.ones() metodu\n",
        "* np.ones() metodu da np.zeros() mantığında çalışır ve girilen boyutlarda oluşturduğu dizini 1’lerle doldurur"
      ]
    },
    {
      "cell_type": "code",
      "execution_count": null,
      "id": "0961c223",
      "metadata": {
        "id": "0961c223",
        "outputId": "13cc51be-e034-49b3-8231-28bde561e394"
      },
      "outputs": [
        {
          "data": {
            "text/plain": [
              "array([1., 1., 1., 1., 1.])"
            ]
          },
          "execution_count": 26,
          "metadata": {},
          "output_type": "execute_result"
        }
      ],
      "source": [
        "np.ones(5)"
      ]
    },
    {
      "cell_type": "code",
      "execution_count": null,
      "id": "b252176d",
      "metadata": {
        "id": "b252176d",
        "outputId": "b1f099e6-94e5-4420-93a0-011c65a628d5"
      },
      "outputs": [
        {
          "data": {
            "text/plain": [
              "array([[1., 1., 1.],\n",
              "       [1., 1., 1.]])"
            ]
          },
          "execution_count": 27,
          "metadata": {},
          "output_type": "execute_result"
        }
      ],
      "source": [
        "np.ones((2,3))"
      ]
    },
    {
      "cell_type": "code",
      "execution_count": null,
      "id": "a5fb89a8",
      "metadata": {
        "id": "a5fb89a8",
        "outputId": "25ae6f49-6b53-42d0-c2b1-d8daf22fb623"
      },
      "outputs": [
        {
          "data": {
            "text/plain": [
              "array([[1, 1, 1],\n",
              "       [1, 1, 1]])"
            ]
          },
          "execution_count": 28,
          "metadata": {},
          "output_type": "execute_result"
        }
      ],
      "source": [
        "np.ones((2,3), dtype = int)"
      ]
    },
    {
      "cell_type": "code",
      "execution_count": null,
      "id": "178ce92e",
      "metadata": {
        "id": "178ce92e",
        "outputId": "3f961f62-2351-43e0-dda1-93dc6df4706b"
      },
      "outputs": [
        {
          "data": {
            "text/plain": [
              "array([5, 7, 9])"
            ]
          },
          "execution_count": 31,
          "metadata": {},
          "output_type": "execute_result"
        }
      ],
      "source": [
        "np.arange(5,10,2)"
      ]
    },
    {
      "cell_type": "code",
      "execution_count": null,
      "id": "9232a664",
      "metadata": {
        "id": "9232a664",
        "outputId": "347bff23-05b9-4ecf-b182-dfad6a77ee43"
      },
      "outputs": [
        {
          "data": {
            "text/plain": [
              "array([0, 1, 2, 3, 4])"
            ]
          },
          "execution_count": 32,
          "metadata": {},
          "output_type": "execute_result"
        }
      ],
      "source": [
        "np.array(range(5))"
      ]
    },
    {
      "cell_type": "markdown",
      "id": "6f8a8207",
      "metadata": {
        "id": "6f8a8207"
      },
      "source": [
        "## np.linspace() metodu\n",
        "* başlıca 3 parametre alır\n",
        "* Başlangıç, dizinin hangi sayıdan başlayacağıdır\n",
        "* Bitiş, dizinin hangi sayıya geldiğinde son bulacağıdır\n",
        "* Bir de num, dizinin kaç elemana sahip olacağıdır\n",
        "* metod başlangıçtan sona num tane sayıyı birbiri arası uzaklık eşit olacak şekilde böler"
      ]
    },
    {
      "cell_type": "code",
      "execution_count": null,
      "id": "d38f06b5",
      "metadata": {
        "id": "d38f06b5",
        "outputId": "4725ee90-2fb6-43d2-b202-ce101df92e2d"
      },
      "outputs": [
        {
          "data": {
            "text/plain": [
              "array([0.        , 0.11111111, 0.22222222, 0.33333333, 0.44444444,\n",
              "       0.55555556, 0.66666667, 0.77777778, 0.88888889, 1.        ])"
            ]
          },
          "execution_count": 34,
          "metadata": {},
          "output_type": "execute_result"
        }
      ],
      "source": [
        "np.linspace(0.0,1.0, num =10)"
      ]
    },
    {
      "cell_type": "code",
      "execution_count": null,
      "id": "895a0fd4",
      "metadata": {
        "id": "895a0fd4",
        "outputId": "59834127-b6cb-42a2-eaeb-7de50a844bbb"
      },
      "outputs": [
        {
          "data": {
            "text/plain": [
              "array([[1, 2, 3],\n",
              "       [4, 5, 6]])"
            ]
          },
          "execution_count": 35,
          "metadata": {},
          "output_type": "execute_result"
        }
      ],
      "source": [
        "b"
      ]
    },
    {
      "cell_type": "markdown",
      "id": "75cc485c",
      "metadata": {
        "id": "75cc485c"
      },
      "source": [
        "## reshape metodu\n",
        "* Reshape (yeniden şekillendirme), bir dizinin şeklini (shape) değiştirmek anlamına gelir\n",
        "* diziye yeni boyut ekler veya mevcut boyutları kaldırır ya da her boyuttaki eleman sayısını değiştirir"
      ]
    },
    {
      "cell_type": "code",
      "execution_count": null,
      "id": "d62441d7",
      "metadata": {
        "id": "d62441d7",
        "outputId": "991d6e3a-4325-40a5-b14f-d6d75ac5522c"
      },
      "outputs": [
        {
          "data": {
            "text/plain": [
              "array([[1, 2],\n",
              "       [3, 4],\n",
              "       [5, 6]])"
            ]
          },
          "execution_count": 36,
          "metadata": {},
          "output_type": "execute_result"
        }
      ],
      "source": [
        "b.reshape(3,2)"
      ]
    },
    {
      "cell_type": "code",
      "execution_count": null,
      "id": "054cb770",
      "metadata": {
        "id": "054cb770"
      },
      "outputs": [],
      "source": [
        "b.resize(3,2)"
      ]
    },
    {
      "cell_type": "markdown",
      "id": "f3b308ec",
      "metadata": {
        "id": "f3b308ec"
      },
      "source": [
        "### numPy dizisinde aritmetiksel işlemler"
      ]
    },
    {
      "cell_type": "code",
      "execution_count": null,
      "id": "d174d5da",
      "metadata": {
        "id": "d174d5da",
        "outputId": "844c5307-7c6c-4101-c9ab-2ea765682985"
      },
      "outputs": [
        {
          "data": {
            "text/plain": [
              "array([[ 3,  6],\n",
              "       [ 9, 12],\n",
              "       [15, 18]])"
            ]
          },
          "execution_count": 39,
          "metadata": {},
          "output_type": "execute_result"
        }
      ],
      "source": [
        "b*3"
      ]
    },
    {
      "cell_type": "code",
      "execution_count": null,
      "id": "b51feedb",
      "metadata": {
        "id": "b51feedb",
        "outputId": "21dc23e2-1384-4a73-deb3-5c773544709d"
      },
      "outputs": [
        {
          "data": {
            "text/plain": [
              "array([7, 8, 9])"
            ]
          },
          "execution_count": 40,
          "metadata": {},
          "output_type": "execute_result"
        }
      ],
      "source": [
        "a+6"
      ]
    },
    {
      "cell_type": "code",
      "execution_count": null,
      "id": "feff4d7e",
      "metadata": {
        "id": "feff4d7e",
        "outputId": "a5c59b05-d8cc-4027-c42c-6c29e96946cb"
      },
      "outputs": [
        {
          "data": {
            "text/plain": [
              "dtype('<U32')"
            ]
          },
          "execution_count": 41,
          "metadata": {},
          "output_type": "execute_result"
        }
      ],
      "source": [
        "d.dtype"
      ]
    },
    {
      "cell_type": "markdown",
      "id": "ae155156",
      "metadata": {
        "id": "ae155156"
      },
      "source": [
        "## full() metodu \n",
        "* istediğimiz boyutta hızlıca dizi oluşturmak için kullanılır"
      ]
    },
    {
      "cell_type": "code",
      "execution_count": null,
      "id": "33edcb89",
      "metadata": {
        "id": "33edcb89",
        "outputId": "7e96e14e-ca67-4d00-da0f-b3f243251d42"
      },
      "outputs": [
        {
          "data": {
            "text/plain": [
              "array([5, 5, 5, 5, 5, 5, 5, 5, 5, 5])"
            ]
          },
          "execution_count": 43,
          "metadata": {},
          "output_type": "execute_result"
        }
      ],
      "source": [
        "np.full(10,5)"
      ]
    },
    {
      "cell_type": "markdown",
      "id": "6210a17d",
      "metadata": {
        "id": "6210a17d"
      },
      "source": [
        "## eye() metodu\n",
        "* hızlıca matris oluşturmak için kullanılan bir metot"
      ]
    },
    {
      "cell_type": "code",
      "execution_count": null,
      "id": "5413ee64",
      "metadata": {
        "id": "5413ee64",
        "outputId": "77e1741c-1cd7-4fae-96b4-e3a0dfe38586"
      },
      "outputs": [
        {
          "data": {
            "text/plain": [
              "array([[1., 0., 0., 0., 0.],\n",
              "       [0., 1., 0., 0., 0.],\n",
              "       [0., 0., 1., 0., 0.],\n",
              "       [0., 0., 0., 1., 0.],\n",
              "       [0., 0., 0., 0., 1.]])"
            ]
          },
          "execution_count": 44,
          "metadata": {},
          "output_type": "execute_result"
        }
      ],
      "source": [
        "np.eye(5)"
      ]
    },
    {
      "cell_type": "code",
      "execution_count": null,
      "id": "676b7b96",
      "metadata": {
        "id": "676b7b96",
        "outputId": "ef5317e7-0a56-4b15-b657-39491c6081f4"
      },
      "outputs": [
        {
          "data": {
            "text/plain": [
              "array([[1., 0., 0., 0.],\n",
              "       [0., 1., 0., 0.],\n",
              "       [0., 0., 1., 0.],\n",
              "       [0., 0., 0., 1.],\n",
              "       [0., 0., 0., 0.]])"
            ]
          },
          "execution_count": 45,
          "metadata": {},
          "output_type": "execute_result"
        }
      ],
      "source": [
        "np.eye(5,4)"
      ]
    },
    {
      "cell_type": "markdown",
      "id": "b4af2ecb",
      "metadata": {
        "id": "b4af2ecb"
      },
      "source": [
        "## random sınıfından kullanım örnekleri :"
      ]
    },
    {
      "cell_type": "code",
      "execution_count": null,
      "id": "6487f51c",
      "metadata": {
        "id": "6487f51c",
        "outputId": "4f959e3d-a9a7-4003-90c6-ce5b49246da5"
      },
      "outputs": [
        {
          "data": {
            "text/plain": [
              "array([[0.74290587, 0.99777759, 0.23576608, 0.15274286, 0.44434514],\n",
              "       [0.36004765, 0.82106138, 0.61236667, 0.51314624, 0.24408434]])"
            ]
          },
          "execution_count": 46,
          "metadata": {},
          "output_type": "execute_result"
        }
      ],
      "source": [
        "np.random.random((2,5))"
      ]
    },
    {
      "cell_type": "code",
      "execution_count": null,
      "id": "c698889e",
      "metadata": {
        "id": "c698889e"
      },
      "outputs": [],
      "source": [
        "x = np.random.randint(10,size = (3,4))"
      ]
    },
    {
      "cell_type": "code",
      "execution_count": null,
      "id": "fd69f11c",
      "metadata": {
        "id": "fd69f11c",
        "outputId": "335fdbf9-d3b3-4ad6-cc9c-1207466b5108"
      },
      "outputs": [
        {
          "data": {
            "text/plain": [
              "array([[5, 9, 4, 0],\n",
              "       [7, 5, 2, 9],\n",
              "       [7, 6, 3, 5]])"
            ]
          },
          "execution_count": 56,
          "metadata": {},
          "output_type": "execute_result"
        }
      ],
      "source": [
        "x"
      ]
    },
    {
      "cell_type": "markdown",
      "id": "8c40fb78",
      "metadata": {
        "id": "8c40fb78"
      },
      "source": [
        "## transpose() metodu\n",
        "* Bir matrisin satır ve stünlarını yer değiştirmek için kullanılır"
      ]
    },
    {
      "cell_type": "code",
      "execution_count": null,
      "id": "0c09a026",
      "metadata": {
        "id": "0c09a026"
      },
      "outputs": [],
      "source": [
        "y = x.transpose()"
      ]
    },
    {
      "cell_type": "code",
      "execution_count": null,
      "id": "539ad885",
      "metadata": {
        "id": "539ad885",
        "outputId": "abccd5b2-71ac-46ca-8c62-e31ee360052f"
      },
      "outputs": [
        {
          "data": {
            "text/plain": [
              "array([[5, 7, 7],\n",
              "       [9, 5, 6],\n",
              "       [4, 2, 3],\n",
              "       [0, 9, 5]])"
            ]
          },
          "execution_count": 58,
          "metadata": {},
          "output_type": "execute_result"
        }
      ],
      "source": [
        "y"
      ]
    },
    {
      "cell_type": "markdown",
      "id": "03c06ae5",
      "metadata": {
        "id": "03c06ae5"
      },
      "source": [
        "#### transpose() metodu bir shallow copy örneğidir\n",
        "* aşağıdaki satır bu durumu kanıtlar"
      ]
    },
    {
      "cell_type": "code",
      "execution_count": null,
      "id": "ac46b921",
      "metadata": {
        "id": "ac46b921"
      },
      "outputs": [],
      "source": [
        "x[0][0] = 100"
      ]
    },
    {
      "cell_type": "code",
      "execution_count": null,
      "id": "08717953",
      "metadata": {
        "id": "08717953",
        "outputId": "09738eb6-395a-4f28-de02-ba983597feee"
      },
      "outputs": [
        {
          "data": {
            "text/plain": [
              "array([[100,   7,   7],\n",
              "       [  9,   5,   6],\n",
              "       [  4,   2,   3],\n",
              "       [  0,   9,   5]])"
            ]
          },
          "execution_count": 60,
          "metadata": {},
          "output_type": "execute_result"
        }
      ],
      "source": [
        "y"
      ]
    },
    {
      "cell_type": "markdown",
      "id": "098ddbbd",
      "metadata": {
        "id": "098ddbbd"
      },
      "source": [
        "#### copy() metodu deep copy yapmamıza olanak sağlar"
      ]
    },
    {
      "cell_type": "code",
      "execution_count": null,
      "id": "2b3f2772",
      "metadata": {
        "id": "2b3f2772"
      },
      "outputs": [],
      "source": [
        "y= x.copy().transpose()"
      ]
    },
    {
      "cell_type": "code",
      "execution_count": null,
      "id": "ac239368",
      "metadata": {
        "id": "ac239368"
      },
      "outputs": [],
      "source": [
        "x[0][0] = 10"
      ]
    },
    {
      "cell_type": "code",
      "execution_count": null,
      "id": "349c0704",
      "metadata": {
        "id": "349c0704",
        "outputId": "ae376678-9058-4b56-99f3-ad8c8aaeab66"
      },
      "outputs": [
        {
          "data": {
            "text/plain": [
              "array([[100,   7,   7],\n",
              "       [  9,   5,   6],\n",
              "       [  4,   2,   3],\n",
              "       [  0,   9,   5]])"
            ]
          },
          "execution_count": 63,
          "metadata": {},
          "output_type": "execute_result"
        }
      ],
      "source": [
        "y"
      ]
    },
    {
      "cell_type": "code",
      "execution_count": null,
      "id": "841b647c",
      "metadata": {
        "id": "841b647c",
        "outputId": "c9e0e413-6d86-4990-cd5d-5fb0b0ea6685"
      },
      "outputs": [
        {
          "data": {
            "text/plain": [
              "array([[10,  9,  4,  0],\n",
              "       [ 7,  5,  2,  9],\n",
              "       [ 7,  6,  3,  5]])"
            ]
          },
          "execution_count": 64,
          "metadata": {},
          "output_type": "execute_result"
        }
      ],
      "source": [
        "x"
      ]
    },
    {
      "cell_type": "code",
      "execution_count": null,
      "id": "573da1cb",
      "metadata": {
        "id": "573da1cb"
      },
      "outputs": [],
      "source": [
        "z = np.random.randint(10,size = (3,4))"
      ]
    },
    {
      "cell_type": "code",
      "execution_count": null,
      "id": "f47cc77a",
      "metadata": {
        "id": "f47cc77a",
        "outputId": "480940a6-8ac9-4eb8-d9a0-7a8cc27cd1ae"
      },
      "outputs": [
        {
          "data": {
            "text/plain": [
              "array([[9, 4, 5, 3],\n",
              "       [9, 9, 8, 7],\n",
              "       [2, 8, 2, 6]])"
            ]
          },
          "execution_count": 56,
          "metadata": {},
          "output_type": "execute_result"
        }
      ],
      "source": [
        "z"
      ]
    },
    {
      "cell_type": "code",
      "execution_count": null,
      "id": "44182bcf",
      "metadata": {
        "id": "44182bcf",
        "outputId": "abc70cff-6b1a-4c56-a366-760d4773ce4e"
      },
      "outputs": [
        {
          "data": {
            "text/plain": [
              "array([[6, 3, 7, 2],\n",
              "       [6, 6, 7, 8],\n",
              "       [1, 1, 7, 5]])"
            ]
          },
          "execution_count": 57,
          "metadata": {},
          "output_type": "execute_result"
        }
      ],
      "source": [
        "x"
      ]
    },
    {
      "cell_type": "markdown",
      "id": "87059fec",
      "metadata": {
        "id": "87059fec"
      },
      "source": [
        "## matrisin bir matrisle aritmetik işleme tabii tutulması"
      ]
    },
    {
      "cell_type": "code",
      "execution_count": null,
      "id": "8f5478f6",
      "metadata": {
        "id": "8f5478f6",
        "outputId": "39271828-4aec-4058-933a-5b2e7e510ff1"
      },
      "outputs": [
        {
          "data": {
            "text/plain": [
              "array([[15,  7, 12,  5],\n",
              "       [15, 15, 15, 15],\n",
              "       [ 3,  9,  9, 11]])"
            ]
          },
          "execution_count": 58,
          "metadata": {},
          "output_type": "execute_result"
        }
      ],
      "source": [
        "x+z"
      ]
    },
    {
      "cell_type": "code",
      "execution_count": null,
      "id": "021a6488",
      "metadata": {
        "id": "021a6488",
        "outputId": "666b65a1-617c-4f14-ed67-0507147fd48d"
      },
      "outputs": [
        {
          "data": {
            "text/plain": [
              "array([[54, 12, 35,  6],\n",
              "       [54, 54, 56, 56],\n",
              "       [ 2,  8, 14, 30]])"
            ]
          },
          "execution_count": 59,
          "metadata": {},
          "output_type": "execute_result"
        }
      ],
      "source": [
        "x*z"
      ]
    },
    {
      "cell_type": "markdown",
      "id": "99aebfbe",
      "metadata": {
        "id": "99aebfbe"
      },
      "source": [
        "## multiply() metodu \n",
        "* bir dizideki değerleri başka bir dizideki değerlerle çarpar ve sonuçları yeni bir dizide döndürür."
      ]
    },
    {
      "cell_type": "code",
      "execution_count": null,
      "id": "db544eba",
      "metadata": {
        "id": "db544eba",
        "outputId": "a9322ed0-8c63-4f1a-fa60-d3a9f26de078"
      },
      "outputs": [
        {
          "data": {
            "text/plain": [
              "array([[54, 12, 35,  6],\n",
              "       [54, 54, 56, 56],\n",
              "       [ 2,  8, 14, 30]])"
            ]
          },
          "execution_count": 60,
          "metadata": {},
          "output_type": "execute_result"
        }
      ],
      "source": [
        "np.multiply(x,z)"
      ]
    },
    {
      "cell_type": "markdown",
      "id": "662826e5",
      "metadata": {
        "id": "662826e5"
      },
      "source": [
        "## dot() metodu\n",
        "* dot() metodu sonuç olarak aldığı iki Numpy dizininin nokta çarpımı ya da bir diğer adıyla skaler çarpımını döndürür"
      ]
    },
    {
      "cell_type": "code",
      "execution_count": null,
      "id": "70420c48",
      "metadata": {
        "id": "70420c48",
        "outputId": "f56df9f3-bf6c-42d0-a561-a341a0d02638"
      },
      "outputs": [
        {
          "data": {
            "text/plain": [
              "array([[ 98, 119,  68],\n",
              "       [119, 185, 101],\n",
              "       [ 68, 101,  76]])"
            ]
          },
          "execution_count": 61,
          "metadata": {},
          "output_type": "execute_result"
        }
      ],
      "source": [
        "np.dot(x,y)"
      ]
    },
    {
      "cell_type": "code",
      "execution_count": null,
      "id": "72585d0c",
      "metadata": {
        "id": "72585d0c"
      },
      "outputs": [],
      "source": [
        "a = np.array([1,2,3])\n",
        "b = np.array([4,5,6])"
      ]
    },
    {
      "cell_type": "code",
      "execution_count": null,
      "id": "e0b7a425",
      "metadata": {
        "id": "e0b7a425",
        "outputId": "80d2e78d-8344-4779-fe56-09e4f54ccccf"
      },
      "outputs": [
        {
          "data": {
            "text/plain": [
              "32"
            ]
          },
          "execution_count": 63,
          "metadata": {},
          "output_type": "execute_result"
        }
      ],
      "source": [
        "np.dot(a,b)"
      ]
    },
    {
      "cell_type": "code",
      "execution_count": null,
      "id": "3897d55d",
      "metadata": {
        "id": "3897d55d"
      },
      "outputs": [],
      "source": [
        "a = np.array([[1,2,3], [4,5,6]])\n",
        "b = np.array([4,5,6])"
      ]
    },
    {
      "cell_type": "code",
      "execution_count": null,
      "id": "43e6f7ff",
      "metadata": {
        "id": "43e6f7ff",
        "outputId": "0f3e875c-a36e-4e69-eb85-5b0f7c82c3c4"
      },
      "outputs": [
        {
          "data": {
            "text/plain": [
              "array([32, 77])"
            ]
          },
          "execution_count": 76,
          "metadata": {},
          "output_type": "execute_result"
        }
      ],
      "source": [
        "np.dot(a,b)"
      ]
    },
    {
      "cell_type": "code",
      "execution_count": null,
      "id": "47fe24a1",
      "metadata": {
        "id": "47fe24a1",
        "outputId": "fd99f0e1-7be6-4ab8-ee32-686f19454a5a"
      },
      "outputs": [
        {
          "data": {
            "text/plain": [
              "array([[ 4, 10, 18],\n",
              "       [16, 25, 36]])"
            ]
          },
          "execution_count": 77,
          "metadata": {},
          "output_type": "execute_result"
        }
      ],
      "source": [
        "np.multiply(a,b)"
      ]
    },
    {
      "cell_type": "code",
      "execution_count": null,
      "id": "c3066d49",
      "metadata": {
        "id": "c3066d49"
      },
      "outputs": [],
      "source": [
        "a = np.array([[1,2,3], [4,5,6]])\n",
        "b = np.array([[7,8,9], [4,5,6]])"
      ]
    },
    {
      "cell_type": "code",
      "execution_count": null,
      "id": "b3bcb99f",
      "metadata": {
        "id": "b3bcb99f",
        "outputId": "8e20ada9-bb50-4924-d728-0c3112ef8c53"
      },
      "outputs": [
        {
          "data": {
            "text/plain": [
              "array([[ 50,  32],\n",
              "       [122,  77]])"
            ]
          },
          "execution_count": 68,
          "metadata": {},
          "output_type": "execute_result"
        }
      ],
      "source": [
        "np.dot(a,b.transpose())"
      ]
    },
    {
      "cell_type": "code",
      "execution_count": null,
      "id": "0cb0cb49",
      "metadata": {
        "id": "0cb0cb49",
        "outputId": "6264b518-9feb-4a53-91ea-26e3c511e76b"
      },
      "outputs": [
        {
          "data": {
            "text/plain": [
              "(2, 3)"
            ]
          },
          "execution_count": 69,
          "metadata": {},
          "output_type": "execute_result"
        }
      ],
      "source": [
        "a.shape"
      ]
    },
    {
      "cell_type": "code",
      "execution_count": null,
      "id": "19afe704",
      "metadata": {
        "id": "19afe704",
        "outputId": "02e4ccb1-cd4a-4422-9911-f7e234c441cf"
      },
      "outputs": [
        {
          "data": {
            "text/plain": [
              "(3, 2)"
            ]
          },
          "execution_count": 70,
          "metadata": {},
          "output_type": "execute_result"
        }
      ],
      "source": [
        "b.transpose().shape"
      ]
    },
    {
      "cell_type": "code",
      "execution_count": null,
      "id": "b32464e2",
      "metadata": {
        "id": "b32464e2",
        "outputId": "48b89db0-0a37-49d7-a20f-95d39f3e8ad2"
      },
      "outputs": [
        {
          "data": {
            "text/plain": [
              "array([[23, 28, 33],\n",
              "       [34, 41, 48],\n",
              "       [45, 54, 63]])"
            ]
          },
          "execution_count": 71,
          "metadata": {},
          "output_type": "execute_result"
        }
      ],
      "source": [
        "np.dot(a.transpose(),b)"
      ]
    },
    {
      "cell_type": "markdown",
      "id": "585689cd",
      "metadata": {
        "id": "585689cd"
      },
      "source": [
        "## multiply() ve dot() kullanım farkı"
      ]
    },
    {
      "cell_type": "code",
      "execution_count": null,
      "id": "04dc64b8",
      "metadata": {
        "id": "04dc64b8",
        "outputId": "ac50faba-020a-4ca7-ef46-ac35ffb8947b"
      },
      "outputs": [
        {
          "ename": "ValueError",
          "evalue": "shapes (2,3) and (2,3) not aligned: 3 (dim 1) != 2 (dim 0)",
          "output_type": "error",
          "traceback": [
            "\u001b[1;31m---------------------------------------------------------------------------\u001b[0m",
            "\u001b[1;31mValueError\u001b[0m                                Traceback (most recent call last)",
            "\u001b[1;32m~\\AppData\\Local\\Temp\\ipykernel_22952\\1223026733.py\u001b[0m in \u001b[0;36m<module>\u001b[1;34m\u001b[0m\n\u001b[1;32m----> 1\u001b[1;33m \u001b[0mnp\u001b[0m\u001b[1;33m.\u001b[0m\u001b[0mdot\u001b[0m\u001b[1;33m(\u001b[0m\u001b[0ma\u001b[0m\u001b[1;33m,\u001b[0m\u001b[0mb\u001b[0m\u001b[1;33m)\u001b[0m\u001b[1;33m\u001b[0m\u001b[1;33m\u001b[0m\u001b[0m\n\u001b[0m",
            "\u001b[1;32m<__array_function__ internals>\u001b[0m in \u001b[0;36mdot\u001b[1;34m(*args, **kwargs)\u001b[0m\n",
            "\u001b[1;31mValueError\u001b[0m: shapes (2,3) and (2,3) not aligned: 3 (dim 1) != 2 (dim 0)"
          ]
        }
      ],
      "source": [
        "np.dot(a,b)"
      ]
    },
    {
      "cell_type": "code",
      "execution_count": null,
      "id": "6a2d8915",
      "metadata": {
        "id": "6a2d8915",
        "outputId": "5251fa00-5be7-47b8-cdf8-a7060f8381c9"
      },
      "outputs": [
        {
          "data": {
            "text/plain": [
              "array([[ 7, 16, 27],\n",
              "       [16, 25, 36]])"
            ]
          },
          "execution_count": 74,
          "metadata": {},
          "output_type": "execute_result"
        }
      ],
      "source": [
        "np.multiply(a,b)"
      ]
    },
    {
      "cell_type": "code",
      "execution_count": null,
      "id": "29f343eb",
      "metadata": {
        "id": "29f343eb"
      },
      "outputs": [],
      "source": [
        "a=np.array([\"1\",\"2\",\"3\"])"
      ]
    },
    {
      "cell_type": "code",
      "execution_count": null,
      "id": "351b93b3",
      "metadata": {
        "id": "351b93b3",
        "outputId": "e69f3fa1-2e52-4fac-a66f-161e999fcfa4"
      },
      "outputs": [
        {
          "data": {
            "text/plain": [
              "array(['1', '2', '3'], dtype='<U1')"
            ]
          },
          "execution_count": 76,
          "metadata": {},
          "output_type": "execute_result"
        }
      ],
      "source": [
        "a"
      ]
    },
    {
      "cell_type": "code",
      "execution_count": null,
      "id": "dcc6a68a",
      "metadata": {
        "id": "dcc6a68a",
        "outputId": "ac2e45c1-2a3d-4790-f9d3-d9a0e2b35de6"
      },
      "outputs": [
        {
          "ename": "UFuncTypeError",
          "evalue": "ufunc 'add' did not contain a loop with signature matching types (dtype('<U1'), dtype('int32')) -> None",
          "output_type": "error",
          "traceback": [
            "\u001b[1;31m---------------------------------------------------------------------------\u001b[0m",
            "\u001b[1;31mUFuncTypeError\u001b[0m                            Traceback (most recent call last)",
            "\u001b[1;32m~\\AppData\\Local\\Temp\\ipykernel_10044\\4093587236.py\u001b[0m in \u001b[0;36m<module>\u001b[1;34m\u001b[0m\n\u001b[1;32m----> 1\u001b[1;33m \u001b[0ma\u001b[0m\u001b[1;33m+\u001b[0m\u001b[1;36m1\u001b[0m\u001b[1;33m\u001b[0m\u001b[1;33m\u001b[0m\u001b[0m\n\u001b[0m",
            "\u001b[1;31mUFuncTypeError\u001b[0m: ufunc 'add' did not contain a loop with signature matching types (dtype('<U1'), dtype('int32')) -> None"
          ]
        }
      ],
      "source": [
        "a+1"
      ]
    },
    {
      "cell_type": "markdown",
      "id": "0637c09f",
      "metadata": {
        "id": "0637c09f"
      },
      "source": [
        "## astype() metodu \n",
        "* bir numPy sınıfının türünü deüüiştirme olanağı sağlar"
      ]
    },
    {
      "cell_type": "code",
      "execution_count": null,
      "id": "5d28e701",
      "metadata": {
        "id": "5d28e701"
      },
      "outputs": [],
      "source": [
        "b=a.astype(np.int32)"
      ]
    },
    {
      "cell_type": "code",
      "execution_count": null,
      "id": "a95e4b34",
      "metadata": {
        "id": "a95e4b34",
        "outputId": "4a74a6ac-6411-487d-b4f7-5f1426fa92c1"
      },
      "outputs": [
        {
          "data": {
            "text/plain": [
              "array([6])"
            ]
          },
          "execution_count": 84,
          "metadata": {},
          "output_type": "execute_result"
        }
      ],
      "source": [
        "a"
      ]
    },
    {
      "cell_type": "code",
      "execution_count": null,
      "id": "8f5ca658",
      "metadata": {
        "id": "8f5ca658",
        "outputId": "8422d621-b6c8-438e-87b1-f9375dc158d8"
      },
      "outputs": [
        {
          "data": {
            "text/plain": [
              "array([7])"
            ]
          },
          "execution_count": 85,
          "metadata": {},
          "output_type": "execute_result"
        }
      ],
      "source": [
        "b+1"
      ]
    },
    {
      "cell_type": "code",
      "execution_count": null,
      "id": "836f94eb",
      "metadata": {
        "id": "836f94eb"
      },
      "outputs": [],
      "source": [
        "b=np.array(range(10))"
      ]
    },
    {
      "cell_type": "code",
      "execution_count": null,
      "id": "d3fb7891",
      "metadata": {
        "id": "d3fb7891",
        "outputId": "3813feae-0de1-4bec-aa7e-796e35bb0844"
      },
      "outputs": [
        {
          "data": {
            "text/plain": [
              "array([0, 1, 2, 3, 4, 5, 6, 7, 8, 9])"
            ]
          },
          "execution_count": 87,
          "metadata": {},
          "output_type": "execute_result"
        }
      ],
      "source": [
        "b"
      ]
    },
    {
      "cell_type": "code",
      "execution_count": null,
      "id": "23840269",
      "metadata": {
        "id": "23840269",
        "outputId": "ada854a5-cf06-4507-fd68-413feb941b5d"
      },
      "outputs": [
        {
          "data": {
            "text/plain": [
              "5"
            ]
          },
          "execution_count": 88,
          "metadata": {},
          "output_type": "execute_result"
        }
      ],
      "source": [
        "b[5]"
      ]
    },
    {
      "cell_type": "markdown",
      "id": "d049de71",
      "metadata": {
        "id": "d049de71"
      },
      "source": [
        "### slicing örneği"
      ]
    },
    {
      "cell_type": "code",
      "execution_count": null,
      "id": "2abdf44b",
      "metadata": {
        "id": "2abdf44b",
        "outputId": "00e93bfc-dd6e-4ada-aaf0-e83a08cd925f"
      },
      "outputs": [
        {
          "data": {
            "text/plain": [
              "array([2, 3, 4, 5])"
            ]
          },
          "execution_count": 89,
          "metadata": {},
          "output_type": "execute_result"
        }
      ],
      "source": [
        "b[2:6]"
      ]
    },
    {
      "cell_type": "code",
      "execution_count": null,
      "id": "bcda8911",
      "metadata": {
        "id": "bcda8911"
      },
      "outputs": [],
      "source": [
        "a=b[2:6] #view  shallow copy"
      ]
    },
    {
      "cell_type": "code",
      "execution_count": null,
      "id": "e0b94def",
      "metadata": {
        "id": "e0b94def",
        "outputId": "1300af55-485a-4c17-c75f-c4680e5871a6"
      },
      "outputs": [
        {
          "data": {
            "text/plain": [
              "array([2, 3, 4, 5])"
            ]
          },
          "execution_count": 91,
          "metadata": {},
          "output_type": "execute_result"
        }
      ],
      "source": [
        "a"
      ]
    },
    {
      "cell_type": "code",
      "execution_count": null,
      "id": "0340584a",
      "metadata": {
        "id": "0340584a"
      },
      "outputs": [],
      "source": [
        "a[2]=100"
      ]
    },
    {
      "cell_type": "code",
      "execution_count": null,
      "id": "e2aa2aa9",
      "metadata": {
        "id": "e2aa2aa9",
        "outputId": "7eafa81b-f335-43e7-fb99-9fe6f52f7122"
      },
      "outputs": [
        {
          "data": {
            "text/plain": [
              "array([  2,   3, 100,   5])"
            ]
          },
          "execution_count": 109,
          "metadata": {},
          "output_type": "execute_result"
        }
      ],
      "source": [
        "a"
      ]
    },
    {
      "cell_type": "code",
      "execution_count": null,
      "id": "6e622d13",
      "metadata": {
        "id": "6e622d13",
        "outputId": "6dc5d116-2be2-42a1-dc2c-1a8b6f6d74a9"
      },
      "outputs": [
        {
          "data": {
            "text/plain": [
              "array([  0,   1,   2,   3, 100,   5,   6,   7,   8,   9])"
            ]
          },
          "execution_count": 110,
          "metadata": {},
          "output_type": "execute_result"
        }
      ],
      "source": [
        "b"
      ]
    },
    {
      "cell_type": "code",
      "execution_count": null,
      "id": "d4c628ce",
      "metadata": {
        "id": "d4c628ce"
      },
      "outputs": [],
      "source": [
        "a=b[2:6].copy() #deep copy"
      ]
    },
    {
      "cell_type": "code",
      "execution_count": null,
      "id": "ff039213",
      "metadata": {
        "id": "ff039213"
      },
      "outputs": [],
      "source": [
        "a[2]=-99"
      ]
    },
    {
      "cell_type": "code",
      "execution_count": null,
      "id": "7e310e57",
      "metadata": {
        "id": "7e310e57",
        "outputId": "23c0970d-5f4b-42b1-c957-7b26c783d590"
      },
      "outputs": [
        {
          "data": {
            "text/plain": [
              "array([  0,   1,   2,   3, 100,   5,   6,   7,   8,   9])"
            ]
          },
          "execution_count": 117,
          "metadata": {},
          "output_type": "execute_result"
        }
      ],
      "source": [
        "b"
      ]
    },
    {
      "cell_type": "code",
      "execution_count": null,
      "id": "1c32876f",
      "metadata": {
        "id": "1c32876f",
        "outputId": "ebb9cd2f-1db4-4446-c775-9869a657272f"
      },
      "outputs": [
        {
          "data": {
            "text/plain": [
              "array([  2,   3, -99,   5])"
            ]
          },
          "execution_count": 118,
          "metadata": {},
          "output_type": "execute_result"
        }
      ],
      "source": [
        "a"
      ]
    },
    {
      "cell_type": "markdown",
      "id": "4e11c6c3",
      "metadata": {
        "id": "4e11c6c3"
      },
      "source": [
        "## absolute() metodu\n",
        "* dizinin elemanlarının mutalk değerlerini döndürür"
      ]
    },
    {
      "cell_type": "code",
      "execution_count": null,
      "id": "cb323cc1",
      "metadata": {
        "id": "cb323cc1",
        "outputId": "1030aecc-836b-4d8a-ccc0-034631ed16d4"
      },
      "outputs": [
        {
          "data": {
            "text/plain": [
              "array([ 2,  3, 99,  5])"
            ]
          },
          "execution_count": 119,
          "metadata": {},
          "output_type": "execute_result"
        }
      ],
      "source": [
        "np.absolute(a)"
      ]
    },
    {
      "cell_type": "code",
      "execution_count": null,
      "id": "580b90e3",
      "metadata": {
        "id": "580b90e3"
      },
      "outputs": [],
      "source": [
        "x= np.array([True, True, False,0,42])"
      ]
    },
    {
      "cell_type": "code",
      "execution_count": null,
      "id": "54b0d643",
      "metadata": {
        "id": "54b0d643",
        "outputId": "f82f5bfe-25bf-408f-e30c-566fe55db748"
      },
      "outputs": [
        {
          "data": {
            "text/plain": [
              "dtype('int32')"
            ]
          },
          "execution_count": 93,
          "metadata": {},
          "output_type": "execute_result"
        }
      ],
      "source": [
        "x.dtype"
      ]
    },
    {
      "cell_type": "markdown",
      "id": "994726a9",
      "metadata": {
        "id": "994726a9"
      },
      "source": [
        "## logical_not(x) metodu\n",
        "* dizinin elemanlarının matıksal tersini döndürür"
      ]
    },
    {
      "cell_type": "code",
      "execution_count": null,
      "id": "df9ce283",
      "metadata": {
        "id": "df9ce283",
        "outputId": "b8106975-a8ac-4cba-fef5-f18010e0e2ed"
      },
      "outputs": [
        {
          "data": {
            "text/plain": [
              "array([False, False,  True,  True, False])"
            ]
          },
          "execution_count": 127,
          "metadata": {},
          "output_type": "execute_result"
        }
      ],
      "source": [
        "np.logical_not(x)"
      ]
    },
    {
      "cell_type": "markdown",
      "id": "443167ba",
      "metadata": {
        "id": "443167ba"
      },
      "source": [
        "## fibonacci fonksiyonu"
      ]
    },
    {
      "cell_type": "code",
      "execution_count": null,
      "id": "3d5f2549",
      "metadata": {
        "id": "3d5f2549"
      },
      "outputs": [],
      "source": [
        "def fib (x):\n",
        "    if x == 1 or x ==2:\n",
        "        return 1\n",
        "    a,b = 1, 1\n",
        "    for i in range(x-2):\n",
        "        a,b = b, a+b\n",
        "    return b"
      ]
    },
    {
      "cell_type": "markdown",
      "id": "d3ee380f",
      "metadata": {
        "id": "d3ee380f"
      },
      "source": [
        "## fibonacci fonksiyonu'nun vektörize hale getirilmesi"
      ]
    },
    {
      "cell_type": "code",
      "execution_count": null,
      "id": "934e8f30",
      "metadata": {
        "id": "934e8f30"
      },
      "outputs": [],
      "source": [
        "vfonk =np.vectorize(fib)"
      ]
    },
    {
      "cell_type": "code",
      "execution_count": null,
      "id": "5efe74f4",
      "metadata": {
        "id": "5efe74f4",
        "outputId": "d8fe5ba5-3e91-425b-a8f7-98ba709ee073"
      },
      "outputs": [
        {
          "data": {
            "text/plain": [
              "<numpy.vectorize at 0x21d5a9a01f0>"
            ]
          },
          "execution_count": 119,
          "metadata": {},
          "output_type": "execute_result"
        }
      ],
      "source": [
        "vfonk"
      ]
    },
    {
      "cell_type": "code",
      "execution_count": null,
      "id": "13e42f3f",
      "metadata": {
        "id": "13e42f3f"
      },
      "outputs": [],
      "source": [
        "a=np.array(range(1,13))"
      ]
    },
    {
      "cell_type": "code",
      "execution_count": null,
      "id": "da834cec",
      "metadata": {
        "id": "da834cec",
        "outputId": "a3f85f53-7fea-4e51-8e2b-ffcf5ac58e30"
      },
      "outputs": [
        {
          "data": {
            "text/plain": [
              "array([  1,   1,   2,   3,   5,   8,  13,  21,  34,  55,  89, 144])"
            ]
          },
          "execution_count": 121,
          "metadata": {},
          "output_type": "execute_result"
        }
      ],
      "source": [
        "vfonk(a)"
      ]
    },
    {
      "cell_type": "code",
      "execution_count": null,
      "id": "e9cbb734",
      "metadata": {
        "id": "e9cbb734",
        "outputId": "7b66bb52-6be0-4d56-8fba-78b74b41078e"
      },
      "outputs": [
        {
          "data": {
            "text/plain": [
              "array([ 1,  2,  3,  4,  5,  6,  7,  8,  9, 10, 11, 12])"
            ]
          },
          "execution_count": 122,
          "metadata": {},
          "output_type": "execute_result"
        }
      ],
      "source": [
        "a"
      ]
    },
    {
      "cell_type": "markdown",
      "id": "3b98acf6",
      "metadata": {
        "id": "3b98acf6"
      },
      "source": [
        "## vektörize fonkisyonun lamda fonksiyonu ile kullanım örneği"
      ]
    },
    {
      "cell_type": "code",
      "execution_count": null,
      "id": "75568c10",
      "metadata": {
        "id": "75568c10"
      },
      "outputs": [],
      "source": [
        "vfonk2=np.vectorize(lambda x: len(x)>3)"
      ]
    },
    {
      "cell_type": "code",
      "execution_count": null,
      "id": "78401de0",
      "metadata": {
        "id": "78401de0"
      },
      "outputs": [],
      "source": [
        "deneme=np.array([\"ali\",\"ahmet\",\"mehmet\",\"ayşe\"])"
      ]
    },
    {
      "cell_type": "code",
      "execution_count": null,
      "id": "3638c491",
      "metadata": {
        "id": "3638c491",
        "outputId": "7f30c907-12dd-4606-cb08-c283c8531066"
      },
      "outputs": [
        {
          "data": {
            "text/plain": [
              "array([False,  True,  True,  True])"
            ]
          },
          "execution_count": 125,
          "metadata": {},
          "output_type": "execute_result"
        }
      ],
      "source": [
        "vfonk2(deneme)"
      ]
    },
    {
      "cell_type": "code",
      "execution_count": null,
      "id": "1fdf24c4",
      "metadata": {
        "id": "1fdf24c4"
      },
      "outputs": [],
      "source": [
        "x=np.random.randint(10,100, size=(4,6))"
      ]
    },
    {
      "cell_type": "code",
      "execution_count": null,
      "id": "2b079688",
      "metadata": {
        "id": "2b079688",
        "outputId": "b16ef53c-9dc8-4c0f-d992-ed0c0ad5a264"
      },
      "outputs": [
        {
          "data": {
            "text/plain": [
              "array([[34, 55, 17, 66, 34, 60],\n",
              "       [39, 82, 35, 23, 73, 31],\n",
              "       [10, 36, 58, 54, 57, 72],\n",
              "       [74, 77, 30, 50, 49, 84]])"
            ]
          },
          "execution_count": 127,
          "metadata": {},
          "output_type": "execute_result"
        }
      ],
      "source": [
        "x"
      ]
    },
    {
      "cell_type": "code",
      "execution_count": null,
      "id": "3a80aae6",
      "metadata": {
        "id": "3a80aae6"
      },
      "outputs": [],
      "source": [
        "y= (x>30)"
      ]
    },
    {
      "cell_type": "code",
      "execution_count": null,
      "id": "d8f2ba55",
      "metadata": {
        "id": "d8f2ba55",
        "outputId": "ac25224b-e635-4d4a-ac7f-659c918cd713"
      },
      "outputs": [
        {
          "data": {
            "text/plain": [
              "array([[ True,  True, False,  True,  True,  True],\n",
              "       [ True,  True,  True, False,  True,  True],\n",
              "       [False,  True,  True,  True,  True,  True],\n",
              "       [ True,  True, False,  True,  True,  True]])"
            ]
          },
          "execution_count": 129,
          "metadata": {},
          "output_type": "execute_result"
        }
      ],
      "source": [
        "y"
      ]
    },
    {
      "cell_type": "code",
      "execution_count": null,
      "id": "b221498b",
      "metadata": {
        "id": "b221498b",
        "outputId": "fefe2085-e5ec-46a3-eaa6-dd395e59465a"
      },
      "outputs": [
        {
          "data": {
            "text/plain": [
              "array([34, 55, 66, 34, 60, 39, 82, 35, 73, 31, 36, 58, 54, 57, 72, 74, 77,\n",
              "       50, 49, 84])"
            ]
          },
          "execution_count": 130,
          "metadata": {},
          "output_type": "execute_result"
        }
      ],
      "source": [
        "x[y]"
      ]
    },
    {
      "cell_type": "code",
      "execution_count": null,
      "id": "2cd4e3cf",
      "metadata": {
        "id": "2cd4e3cf",
        "outputId": "02a2b17a-3d15-442e-98b2-3115d85b6c04"
      },
      "outputs": [
        {
          "data": {
            "text/plain": [
              "array([[34, 55, 17, 66, 34, 60],\n",
              "       [39, 82, 35, 23, 73, 31],\n",
              "       [10, 36, 58, 54, 57, 72],\n",
              "       [74, 77, 30, 50, 49, 84]])"
            ]
          },
          "execution_count": 131,
          "metadata": {},
          "output_type": "execute_result"
        }
      ],
      "source": [
        "x"
      ]
    },
    {
      "cell_type": "code",
      "execution_count": null,
      "id": "c5d4ed8e",
      "metadata": {
        "id": "c5d4ed8e",
        "outputId": "b379c220-a0eb-4684-de5e-3f6a1c75cc5c"
      },
      "outputs": [
        {
          "data": {
            "text/plain": [
              "array([[34, 55, 17, 66, 34, 60],\n",
              "       [39, 82, 35, 23, 73, 31],\n",
              "       [10, 36, 58, 54, 57, 72],\n",
              "       [74, 77, 30, 50, 49, 84]])"
            ]
          },
          "execution_count": 132,
          "metadata": {},
          "output_type": "execute_result"
        }
      ],
      "source": [
        "x"
      ]
    },
    {
      "cell_type": "markdown",
      "id": "c27c2fc9",
      "metadata": {
        "id": "c27c2fc9"
      },
      "source": [
        "## sum() metodu\n",
        "* dizi içindeki değerlerin toplamını döndürür"
      ]
    },
    {
      "cell_type": "code",
      "execution_count": null,
      "id": "b983b52f",
      "metadata": {
        "id": "b983b52f",
        "outputId": "eaf73166-9793-4d28-f494-5b48d410c3e4"
      },
      "outputs": [
        {
          "data": {
            "text/plain": [
              "1200"
            ]
          },
          "execution_count": 133,
          "metadata": {},
          "output_type": "execute_result"
        }
      ],
      "source": [
        "x.sum()"
      ]
    },
    {
      "cell_type": "markdown",
      "id": "ea7a608c",
      "metadata": {
        "id": "ea7a608c"
      },
      "source": [
        "## mean() metodu\n",
        "* dizinin değerlerinin ortalamasını döndürür"
      ]
    },
    {
      "cell_type": "code",
      "execution_count": null,
      "id": "4cc3a71e",
      "metadata": {
        "id": "4cc3a71e",
        "outputId": "954810f4-4a7c-4414-80a3-979b11fa8893"
      },
      "outputs": [
        {
          "data": {
            "text/plain": [
              "50.0"
            ]
          },
          "execution_count": 134,
          "metadata": {},
          "output_type": "execute_result"
        }
      ],
      "source": [
        "x.mean()"
      ]
    },
    {
      "cell_type": "markdown",
      "id": "7debc76a",
      "metadata": {
        "id": "7debc76a"
      },
      "source": [
        "## std() metodu\n",
        "* Standart sapma bir dizindeki verilerin ortalamaya göre dağılımının sayısal olarak gösterimidir\n",
        "* dizinin standart sapmasını bulur "
      ]
    },
    {
      "cell_type": "code",
      "execution_count": null,
      "id": "5c140010",
      "metadata": {
        "id": "5c140010",
        "outputId": "dbbd72ac-e989-4914-a25e-f44dc3803680"
      },
      "outputs": [
        {
          "data": {
            "text/plain": [
              "20.657928260113597"
            ]
          },
          "execution_count": 135,
          "metadata": {},
          "output_type": "execute_result"
        }
      ],
      "source": [
        "x.std()"
      ]
    },
    {
      "cell_type": "markdown",
      "id": "cbe58035",
      "metadata": {
        "id": "cbe58035"
      },
      "source": [
        "## median() metodu\n",
        "* Bir dizinin medyanı o dizini sıraladığımızda tam ortasına denk gelen elemana denir\n",
        "* dizinin medyanını bulur"
      ]
    },
    {
      "cell_type": "code",
      "execution_count": null,
      "id": "6253aaf2",
      "metadata": {
        "id": "6253aaf2",
        "outputId": "a564bd81-197e-4a5e-ca88-c1be88265e89"
      },
      "outputs": [
        {
          "data": {
            "text/plain": [
              "52.0"
            ]
          },
          "execution_count": 136,
          "metadata": {},
          "output_type": "execute_result"
        }
      ],
      "source": [
        "np.median(x)"
      ]
    },
    {
      "cell_type": "markdown",
      "id": "87e0868e",
      "metadata": {
        "id": "87e0868e"
      },
      "source": [
        "## min() metodu\n",
        "* dizideki en küçük elemanı döndürür"
      ]
    },
    {
      "cell_type": "code",
      "execution_count": null,
      "id": "2a5dc56c",
      "metadata": {
        "id": "2a5dc56c",
        "outputId": "7e5cd32d-83ec-44c5-fe44-a2e0c35a6192"
      },
      "outputs": [
        {
          "data": {
            "text/plain": [
              "10"
            ]
          },
          "execution_count": 137,
          "metadata": {},
          "output_type": "execute_result"
        }
      ],
      "source": [
        "x.min()"
      ]
    },
    {
      "cell_type": "markdown",
      "id": "835e1544",
      "metadata": {
        "id": "835e1544"
      },
      "source": [
        "## max() metodu\n",
        "* dizideki en büyük elemanı döndürür"
      ]
    },
    {
      "cell_type": "code",
      "execution_count": null,
      "id": "f60fc90c",
      "metadata": {
        "id": "f60fc90c",
        "outputId": "31c8b49e-8773-4910-d7bb-5accc9409071"
      },
      "outputs": [
        {
          "data": {
            "text/plain": [
              "84"
            ]
          },
          "execution_count": 138,
          "metadata": {},
          "output_type": "execute_result"
        }
      ],
      "source": [
        "x.max()"
      ]
    },
    {
      "cell_type": "markdown",
      "id": "e1e26341",
      "metadata": {
        "id": "e1e26341"
      },
      "source": [
        "## cumsum() metodu\n",
        "* verilen eksen boyunca dizi öğelerinin kümülatif toplamını döndürmek için kullanılır\n",
        "* Çıktı belirtilmedikçe sonucu tutan yeni bir dizi döndürür"
      ]
    },
    {
      "cell_type": "code",
      "execution_count": null,
      "id": "1ec797f8",
      "metadata": {
        "id": "1ec797f8",
        "outputId": "4a47d63a-b6f1-4476-c6d8-9791edb2cdad"
      },
      "outputs": [
        {
          "data": {
            "text/plain": [
              "array([  34,   89,  106,  172,  206,  266,  305,  387,  422,  445,  518,\n",
              "        549,  559,  595,  653,  707,  764,  836,  910,  987, 1017, 1067,\n",
              "       1116, 1200], dtype=int32)"
            ]
          },
          "execution_count": 139,
          "metadata": {},
          "output_type": "execute_result"
        }
      ],
      "source": [
        "x.cumsum()"
      ]
    },
    {
      "cell_type": "markdown",
      "id": "23142375",
      "metadata": {
        "id": "23142375"
      },
      "source": [
        "## cumprod() metodu\n",
        "* Belirli bir eksen boyunca öğelerin kümülatif çarpımını döndürür\n",
        "* Çıktı belirtilmedikçe sonucu tutan yeni bir dizi döndürür"
      ]
    },
    {
      "cell_type": "code",
      "execution_count": null,
      "id": "6434fbbe",
      "metadata": {
        "id": "6434fbbe",
        "outputId": "c09b1b81-ac52-4ced-8103-e062e72b4bc1"
      },
      "outputs": [
        {
          "data": {
            "text/plain": [
              "array([         34,        1870,       31790,     2098140,    71336760,\n",
              "         -14761696,  -575706144,    36736448,  1285775680,  -491930432,\n",
              "       -1551183168,  -842037952,   169555072,  1809015296,  1843672064,\n",
              "         774043648,  1170814976, -1600667648,  1809678336,  1906278400,\n",
              "        1353777152, -1030619136,  1039269888,  1399324672], dtype=int32)"
            ]
          },
          "execution_count": 140,
          "metadata": {},
          "output_type": "execute_result"
        }
      ],
      "source": [
        "x.cumprod()"
      ]
    },
    {
      "cell_type": "code",
      "execution_count": null,
      "id": "8fc7171d",
      "metadata": {
        "id": "8fc7171d",
        "outputId": "0a6bc556-baea-4526-b89c-e68966a048bd"
      },
      "outputs": [
        {
          "data": {
            "text/plain": [
              "array([[34, 55, 17, 66, 34, 60],\n",
              "       [39, 82, 35, 23, 73, 31],\n",
              "       [10, 36, 58, 54, 57, 72],\n",
              "       [74, 77, 30, 50, 49, 84]])"
            ]
          },
          "execution_count": 141,
          "metadata": {},
          "output_type": "execute_result"
        }
      ],
      "source": [
        "x"
      ]
    },
    {
      "cell_type": "markdown",
      "id": "0c3c8917",
      "metadata": {
        "id": "0c3c8917"
      },
      "source": [
        "# Dosya kayıt etme ve okuma metot örnekleri"
      ]
    },
    {
      "cell_type": "code",
      "execution_count": null,
      "id": "de3141bd",
      "metadata": {
        "id": "de3141bd"
      },
      "outputs": [],
      "source": [
        "file =\"deneme.npy\"\n",
        "np.save(file,x)"
      ]
    },
    {
      "cell_type": "code",
      "execution_count": null,
      "id": "e0b36c8e",
      "metadata": {
        "id": "e0b36c8e"
      },
      "outputs": [],
      "source": [
        "c=np.load(file)"
      ]
    },
    {
      "cell_type": "code",
      "execution_count": null,
      "id": "b6871515",
      "metadata": {
        "id": "b6871515",
        "outputId": "42fafa37-2144-44d0-f36d-1c4d06f147c8"
      },
      "outputs": [
        {
          "data": {
            "text/plain": [
              "array([[34, 55, 17, 66, 34, 60],\n",
              "       [39, 82, 35, 23, 73, 31],\n",
              "       [10, 36, 58, 54, 57, 72],\n",
              "       [74, 77, 30, 50, 49, 84]])"
            ]
          },
          "execution_count": 144,
          "metadata": {},
          "output_type": "execute_result"
        }
      ],
      "source": [
        "c"
      ]
    },
    {
      "cell_type": "code",
      "execution_count": null,
      "id": "75ca185f",
      "metadata": {
        "id": "75ca185f"
      },
      "outputs": [],
      "source": [
        "import random"
      ]
    },
    {
      "cell_type": "markdown",
      "id": "e08a0367",
      "metadata": {
        "id": "e08a0367"
      },
      "source": [
        "## numPy'ın normal listelere göre daha verimli olduğunun kanıtı"
      ]
    },
    {
      "cell_type": "code",
      "execution_count": null,
      "id": "d55c9c3a",
      "metadata": {
        "id": "d55c9c3a",
        "outputId": "08dc1d24-370d-4756-a608-761eba78a81a"
      },
      "outputs": [
        {
          "name": "stdout",
          "output_type": "stream",
          "text": [
            "3.61 s ± 4.06 ms per loop (mean ± std. dev. of 2 runs, 3 loops each)\n"
          ]
        }
      ],
      "source": [
        "%timeit -n3 -r2 l = [random.randrange(1,7) for i in range(0, 6000000)]"
      ]
    },
    {
      "cell_type": "code",
      "execution_count": null,
      "id": "870aa210",
      "metadata": {
        "id": "870aa210",
        "outputId": "acfed29d-262e-44d0-a1d2-dd017514d3bc"
      },
      "outputs": [
        {
          "name": "stdout",
          "output_type": "stream",
          "text": [
            "46.6 ms ± 509 µs per loop (mean ± std. dev. of 2 runs, 3 loops each)\n"
          ]
        }
      ],
      "source": [
        "%timeit -n3 -r2 n = np.random.randint (1,7, 6000000)"
      ]
    },
    {
      "cell_type": "markdown",
      "id": "e6364d1b",
      "metadata": {
        "id": "e6364d1b"
      },
      "source": [
        "# PANDAS\n",
        "## Pandas Veri Yapıları\n",
        "* Pandas’da verileri kolay analiz etmek için bazı veri yapıları vardır. Bunlardan en çok kullanılanları Series ve DataFrame veri yapılarıdır\n",
        "\t* Series veri yapısı bir boyutludur yani bir sütundan oluşur \n",
        "    * DataFrame veri yapısı iki boyutludur yani satırlar ve sütunlardan oluşur\n",
        "    * Pandas’ı import ettikten sonra Pandas’ı pd kısaltması ile kullanmak için:"
      ]
    },
    {
      "cell_type": "code",
      "execution_count": null,
      "id": "3a4e4f9d",
      "metadata": {
        "id": "3a4e4f9d"
      },
      "outputs": [],
      "source": [
        " import pandas as pd"
      ]
    },
    {
      "cell_type": "markdown",
      "id": "cd81e956",
      "metadata": {
        "id": "cd81e956"
      },
      "source": [
        "# read_csv metodu\n",
        "* veri setini import eder"
      ]
    },
    {
      "cell_type": "code",
      "execution_count": null,
      "id": "d17ddbe6",
      "metadata": {
        "id": "d17ddbe6",
        "outputId": "587d5a05-6db2-4aab-eea9-d3b732e793d9"
      },
      "outputs": [
        {
          "ename": "AttributeError",
          "evalue": "module 'pandas' has no attribute 'read_cvs'",
          "output_type": "error",
          "traceback": [
            "\u001b[1;31m---------------------------------------------------------------------------\u001b[0m",
            "\u001b[1;31mAttributeError\u001b[0m                            Traceback (most recent call last)",
            "\u001b[1;32m~\\AppData\\Local\\Temp\\ipykernel_22952\\196015359.py\u001b[0m in \u001b[0;36m<module>\u001b[1;34m\u001b[0m\n\u001b[1;32m----> 1\u001b[1;33m \u001b[0mpd\u001b[0m\u001b[1;33m.\u001b[0m\u001b[0mread_cvs\u001b[0m\u001b[1;33m(\u001b[0m\u001b[1;34m\"Ann.cvs\"\u001b[0m\u001b[1;33m)\u001b[0m\u001b[1;33m\u001b[0m\u001b[1;33m\u001b[0m\u001b[0m\n\u001b[0m",
            "\u001b[1;32mC:\\ANACONDA\\lib\\site-packages\\pandas\\__init__.py\u001b[0m in \u001b[0;36m__getattr__\u001b[1;34m(name)\u001b[0m\n\u001b[0;32m    259\u001b[0m         \u001b[1;32mreturn\u001b[0m \u001b[0m_SparseArray\u001b[0m\u001b[1;33m\u001b[0m\u001b[1;33m\u001b[0m\u001b[0m\n\u001b[0;32m    260\u001b[0m \u001b[1;33m\u001b[0m\u001b[0m\n\u001b[1;32m--> 261\u001b[1;33m     \u001b[1;32mraise\u001b[0m \u001b[0mAttributeError\u001b[0m\u001b[1;33m(\u001b[0m\u001b[1;34mf\"module 'pandas' has no attribute '{name}'\"\u001b[0m\u001b[1;33m)\u001b[0m\u001b[1;33m\u001b[0m\u001b[1;33m\u001b[0m\u001b[0m\n\u001b[0m\u001b[0;32m    262\u001b[0m \u001b[1;33m\u001b[0m\u001b[0m\n\u001b[0;32m    263\u001b[0m \u001b[1;33m\u001b[0m\u001b[0m\n",
            "\u001b[1;31mAttributeError\u001b[0m: module 'pandas' has no attribute 'read_cvs'"
          ]
        }
      ],
      "source": [
        "pd.read_cvs(\"Ann.cvs\")"
      ]
    },
    {
      "cell_type": "markdown",
      "id": "71a45341",
      "metadata": {
        "id": "71a45341"
      },
      "source": [
        "# Seri tanımlama örneği"
      ]
    },
    {
      "cell_type": "code",
      "execution_count": null,
      "id": "e38fad8a",
      "metadata": {
        "id": "e38fad8a"
      },
      "outputs": [],
      "source": [
        "a=pd.Series([87,10,20])"
      ]
    },
    {
      "cell_type": "code",
      "execution_count": null,
      "id": "35a2bb7b",
      "metadata": {
        "id": "35a2bb7b",
        "outputId": "e7d26e0d-e305-471b-b1e6-2b1844fbe67e"
      },
      "outputs": [
        {
          "data": {
            "text/plain": [
              "0    87\n",
              "1    10\n",
              "2    20\n",
              "dtype: int64"
            ]
          },
          "execution_count": 151,
          "metadata": {},
          "output_type": "execute_result"
        }
      ],
      "source": [
        "a"
      ]
    },
    {
      "cell_type": "markdown",
      "id": "a9fe149f",
      "metadata": {
        "id": "a9fe149f"
      },
      "source": [
        "* uzunluğu 5 olan seri tanımlama"
      ]
    },
    {
      "cell_type": "code",
      "execution_count": null,
      "id": "d1df7712",
      "metadata": {
        "id": "d1df7712"
      },
      "outputs": [],
      "source": [
        "b=pd.Series([10, range(5)])"
      ]
    },
    {
      "cell_type": "markdown",
      "id": "56a64c1a",
      "metadata": {
        "id": "56a64c1a"
      },
      "source": [
        "* a serisinin ilk indexindeki elemana erişme"
      ]
    },
    {
      "cell_type": "code",
      "execution_count": null,
      "id": "169eadf5",
      "metadata": {
        "id": "169eadf5",
        "outputId": "abd607c3-265e-4c93-db66-64867e169c0e"
      },
      "outputs": [
        {
          "data": {
            "text/plain": [
              "87"
            ]
          },
          "execution_count": 265,
          "metadata": {},
          "output_type": "execute_result"
        }
      ],
      "source": [
        "a[0]"
      ]
    },
    {
      "cell_type": "markdown",
      "id": "b2fc3c08",
      "metadata": {
        "id": "b2fc3c08"
      },
      "source": [
        "## count() methodu \n",
        "* Serinin eleman sayısını döndürür"
      ]
    },
    {
      "cell_type": "code",
      "execution_count": null,
      "id": "09a459f8",
      "metadata": {
        "id": "09a459f8",
        "outputId": "8b356e35-a240-408c-b17e-fd76d914859e"
      },
      "outputs": [
        {
          "data": {
            "text/plain": [
              "3"
            ]
          },
          "execution_count": 266,
          "metadata": {},
          "output_type": "execute_result"
        }
      ],
      "source": [
        "a.count()"
      ]
    },
    {
      "cell_type": "markdown",
      "id": "14d0f2cf",
      "metadata": {
        "id": "14d0f2cf"
      },
      "source": [
        "## mean() methodu \n",
        "* Serinin ortalamasını döndürür"
      ]
    },
    {
      "cell_type": "code",
      "execution_count": null,
      "id": "f7ab9a16",
      "metadata": {
        "id": "f7ab9a16",
        "outputId": "6411a52d-7a37-4fa9-de58-b1060a87483e"
      },
      "outputs": [
        {
          "data": {
            "text/plain": [
              "39.0"
            ]
          },
          "execution_count": 205,
          "metadata": {},
          "output_type": "execute_result"
        }
      ],
      "source": [
        "a.mean()"
      ]
    },
    {
      "cell_type": "markdown",
      "id": "25feb3c7",
      "metadata": {
        "id": "25feb3c7"
      },
      "source": [
        "## describe() methodu \n",
        "* metinsel olarak istatistiki sonuç döner"
      ]
    },
    {
      "cell_type": "code",
      "execution_count": null,
      "id": "60a6b66e",
      "metadata": {
        "id": "60a6b66e",
        "outputId": "2674b65e-35a2-4710-dec7-42308db13ced"
      },
      "outputs": [
        {
          "data": {
            "text/plain": [
              "count     3.000000\n",
              "mean     39.000000\n",
              "std      41.868843\n",
              "min      10.000000\n",
              "25%      15.000000\n",
              "50%      20.000000\n",
              "75%      53.500000\n",
              "max      87.000000\n",
              "dtype: float64"
            ]
          },
          "execution_count": 239,
          "metadata": {},
          "output_type": "execute_result"
        }
      ],
      "source": [
        "a.describe()"
      ]
    },
    {
      "cell_type": "markdown",
      "id": "cc29a3f2",
      "metadata": {
        "id": "cc29a3f2"
      },
      "source": [
        "# key value pair örnekleri "
      ]
    },
    {
      "cell_type": "code",
      "execution_count": null,
      "id": "093fa754",
      "metadata": {
        "id": "093fa754"
      },
      "outputs": [],
      "source": [
        "c=pd.Series([1,2,3], index=[\"A\",\"B\",\"C\"])"
      ]
    },
    {
      "cell_type": "code",
      "execution_count": null,
      "id": "9d0ae4a1",
      "metadata": {
        "id": "9d0ae4a1",
        "outputId": "ba4477e6-6b16-4bfe-c24d-160ec348212d"
      },
      "outputs": [
        {
          "data": {
            "text/plain": [
              "A    1\n",
              "B    2\n",
              "C    3\n",
              "dtype: int64"
            ]
          },
          "execution_count": 269,
          "metadata": {},
          "output_type": "execute_result"
        }
      ],
      "source": [
        "c"
      ]
    },
    {
      "cell_type": "code",
      "execution_count": null,
      "id": "285c0325",
      "metadata": {
        "id": "285c0325"
      },
      "outputs": [],
      "source": [
        "d=pd.Series({\"A\":1,\"B\":2,\"C\":3})"
      ]
    },
    {
      "cell_type": "code",
      "execution_count": null,
      "id": "d6801a40",
      "metadata": {
        "id": "d6801a40",
        "outputId": "4e36cb18-37ed-4853-e060-8f009cb19af1"
      },
      "outputs": [
        {
          "data": {
            "text/plain": [
              "A    1\n",
              "B    2\n",
              "C    3\n",
              "dtype: int64"
            ]
          },
          "execution_count": 281,
          "metadata": {},
          "output_type": "execute_result"
        }
      ],
      "source": [
        "d"
      ]
    },
    {
      "cell_type": "code",
      "execution_count": null,
      "id": "14666d41",
      "metadata": {
        "id": "14666d41",
        "outputId": "cf6eea3b-df77-46d3-922a-5763b2c124cf"
      },
      "outputs": [
        {
          "data": {
            "text/plain": [
              "1"
            ]
          },
          "execution_count": 282,
          "metadata": {},
          "output_type": "execute_result"
        }
      ],
      "source": [
        "d[0]"
      ]
    },
    {
      "cell_type": "code",
      "execution_count": null,
      "id": "ddca0e69",
      "metadata": {
        "id": "ddca0e69",
        "outputId": "aa2102a1-6dbe-4eb2-a194-14a86a088756"
      },
      "outputs": [
        {
          "data": {
            "text/plain": [
              "1"
            ]
          },
          "execution_count": 283,
          "metadata": {},
          "output_type": "execute_result"
        }
      ],
      "source": [
        "d[\"A\"]"
      ]
    },
    {
      "cell_type": "code",
      "execution_count": null,
      "id": "f9cd143f",
      "metadata": {
        "id": "f9cd143f",
        "outputId": "ec4330e0-738f-4124-e0da-a1b633e58c7c"
      },
      "outputs": [
        {
          "data": {
            "text/plain": [
              "dtype('int64')"
            ]
          },
          "execution_count": 284,
          "metadata": {},
          "output_type": "execute_result"
        }
      ],
      "source": [
        "d.dtype"
      ]
    },
    {
      "cell_type": "markdown",
      "id": "2072cc92",
      "metadata": {
        "id": "2072cc92"
      },
      "source": [
        "# values fonksiyonu\n",
        "* d serisindeki değerleri döndürür"
      ]
    },
    {
      "cell_type": "code",
      "execution_count": null,
      "id": "db02eaea",
      "metadata": {
        "id": "db02eaea",
        "outputId": "837f0929-4aa9-4f9d-bddd-87f3f54ed9bb"
      },
      "outputs": [
        {
          "data": {
            "text/plain": [
              "array([1, 2, 3], dtype=int64)"
            ]
          },
          "execution_count": 285,
          "metadata": {},
          "output_type": "execute_result"
        }
      ],
      "source": [
        "d.values"
      ]
    },
    {
      "cell_type": "markdown",
      "id": "6d2134b2",
      "metadata": {
        "id": "6d2134b2"
      },
      "source": [
        "# DataFrame\n",
        "* DataFrame’in her bir sütunu Series veri yapısındadır"
      ]
    },
    {
      "cell_type": "code",
      "execution_count": null,
      "id": "8674aeaf",
      "metadata": {
        "id": "8674aeaf"
      },
      "outputs": [],
      "source": [
        "x = {\"A\":[1,2,3],\"B\":[4,5,6],\"C\":[7,8,9],}"
      ]
    },
    {
      "cell_type": "code",
      "execution_count": null,
      "id": "c12f2cf3",
      "metadata": {
        "id": "c12f2cf3"
      },
      "outputs": [],
      "source": [
        "#d = pd.DataFrame({\"A\":[1,2,3],\"B\":[4,5,6],\"C\":[7,8,9],})\n",
        "d = pd.DataFrame(x)"
      ]
    },
    {
      "cell_type": "code",
      "execution_count": null,
      "id": "0728a1a4",
      "metadata": {
        "id": "0728a1a4",
        "outputId": "dcb02413-763a-4ef9-d8e9-0d68666dd848"
      },
      "outputs": [
        {
          "data": {
            "text/html": [
              "<div>\n",
              "<style scoped>\n",
              "    .dataframe tbody tr th:only-of-type {\n",
              "        vertical-align: middle;\n",
              "    }\n",
              "\n",
              "    .dataframe tbody tr th {\n",
              "        vertical-align: top;\n",
              "    }\n",
              "\n",
              "    .dataframe thead th {\n",
              "        text-align: right;\n",
              "    }\n",
              "</style>\n",
              "<table border=\"1\" class=\"dataframe\">\n",
              "  <thead>\n",
              "    <tr style=\"text-align: right;\">\n",
              "      <th></th>\n",
              "      <th>A</th>\n",
              "      <th>B</th>\n",
              "      <th>C</th>\n",
              "    </tr>\n",
              "  </thead>\n",
              "  <tbody>\n",
              "    <tr>\n",
              "      <th>0</th>\n",
              "      <td>1</td>\n",
              "      <td>4</td>\n",
              "      <td>7</td>\n",
              "    </tr>\n",
              "    <tr>\n",
              "      <th>1</th>\n",
              "      <td>2</td>\n",
              "      <td>5</td>\n",
              "      <td>8</td>\n",
              "    </tr>\n",
              "    <tr>\n",
              "      <th>2</th>\n",
              "      <td>3</td>\n",
              "      <td>6</td>\n",
              "      <td>9</td>\n",
              "    </tr>\n",
              "  </tbody>\n",
              "</table>\n",
              "</div>"
            ],
            "text/plain": [
              "   A  B  C\n",
              "0  1  4  7\n",
              "1  2  5  8\n",
              "2  3  6  9"
            ]
          },
          "execution_count": 155,
          "metadata": {},
          "output_type": "execute_result"
        }
      ],
      "source": [
        "d"
      ]
    },
    {
      "cell_type": "markdown",
      "id": "74727a41",
      "metadata": {
        "id": "74727a41"
      },
      "source": [
        "### index anahtar kelimesi ile satırlara index atamış olduk"
      ]
    },
    {
      "cell_type": "code",
      "execution_count": null,
      "id": "0c7ee1c2",
      "metadata": {
        "id": "0c7ee1c2"
      },
      "outputs": [],
      "source": [
        "d.index=[\"t1\",\"t2\",\"t3\"]"
      ]
    },
    {
      "cell_type": "code",
      "execution_count": null,
      "id": "f213011a",
      "metadata": {
        "id": "f213011a",
        "outputId": "e418c244-a486-4551-8626-5588f2d0243c"
      },
      "outputs": [
        {
          "data": {
            "text/html": [
              "<div>\n",
              "<style scoped>\n",
              "    .dataframe tbody tr th:only-of-type {\n",
              "        vertical-align: middle;\n",
              "    }\n",
              "\n",
              "    .dataframe tbody tr th {\n",
              "        vertical-align: top;\n",
              "    }\n",
              "\n",
              "    .dataframe thead th {\n",
              "        text-align: right;\n",
              "    }\n",
              "</style>\n",
              "<table border=\"1\" class=\"dataframe\">\n",
              "  <thead>\n",
              "    <tr style=\"text-align: right;\">\n",
              "      <th></th>\n",
              "      <th>A</th>\n",
              "      <th>B</th>\n",
              "      <th>C</th>\n",
              "    </tr>\n",
              "  </thead>\n",
              "  <tbody>\n",
              "    <tr>\n",
              "      <th>t1</th>\n",
              "      <td>1</td>\n",
              "      <td>4</td>\n",
              "      <td>7</td>\n",
              "    </tr>\n",
              "    <tr>\n",
              "      <th>t2</th>\n",
              "      <td>2</td>\n",
              "      <td>5</td>\n",
              "      <td>8</td>\n",
              "    </tr>\n",
              "    <tr>\n",
              "      <th>t3</th>\n",
              "      <td>3</td>\n",
              "      <td>6</td>\n",
              "      <td>9</td>\n",
              "    </tr>\n",
              "  </tbody>\n",
              "</table>\n",
              "</div>"
            ],
            "text/plain": [
              "    A  B  C\n",
              "t1  1  4  7\n",
              "t2  2  5  8\n",
              "t3  3  6  9"
            ]
          },
          "execution_count": 157,
          "metadata": {},
          "output_type": "execute_result"
        }
      ],
      "source": [
        "d"
      ]
    },
    {
      "cell_type": "markdown",
      "id": "f3fff696",
      "metadata": {
        "id": "f3fff696"
      },
      "source": [
        "### Sütundan veri çekme işlemi"
      ]
    },
    {
      "cell_type": "code",
      "execution_count": null,
      "id": "efc7fb1e",
      "metadata": {
        "id": "efc7fb1e",
        "outputId": "e000ec4d-03ba-420e-c962-fd026e6ad9fd"
      },
      "outputs": [
        {
          "data": {
            "text/plain": [
              "t1    1\n",
              "t2    2\n",
              "t3    3\n",
              "Name: A, dtype: int64"
            ]
          },
          "execution_count": 292,
          "metadata": {},
          "output_type": "execute_result"
        }
      ],
      "source": [
        "d[\"A\"]"
      ]
    },
    {
      "cell_type": "code",
      "execution_count": null,
      "id": "0a9f5c9d",
      "metadata": {
        "id": "0a9f5c9d",
        "outputId": "9bb543da-e5dd-4f19-d6eb-bd0d9048492b"
      },
      "outputs": [
        {
          "data": {
            "text/plain": [
              "t1    1\n",
              "t2    2\n",
              "t3    3\n",
              "Name: A, dtype: int64"
            ]
          },
          "execution_count": 293,
          "metadata": {},
          "output_type": "execute_result"
        }
      ],
      "source": [
        "d.A"
      ]
    },
    {
      "cell_type": "markdown",
      "id": "10996c68",
      "metadata": {
        "id": "10996c68"
      },
      "source": [
        "### loc[] fonksiyonu sayesinde satırdan veri çekme işlemi"
      ]
    },
    {
      "cell_type": "code",
      "execution_count": null,
      "id": "2c013a66",
      "metadata": {
        "id": "2c013a66",
        "outputId": "5f4a4f12-8044-4bde-fd22-5072ac7f87de"
      },
      "outputs": [
        {
          "data": {
            "text/plain": [
              "A    3\n",
              "B    6\n",
              "C    9\n",
              "Name: t3, dtype: int64"
            ]
          },
          "execution_count": 294,
          "metadata": {},
          "output_type": "execute_result"
        }
      ],
      "source": [
        "d.loc[\"t3\"]"
      ]
    },
    {
      "cell_type": "markdown",
      "id": "7119c923",
      "metadata": {
        "id": "7119c923"
      },
      "source": [
        "###  iloc[] fonksiyonu sayesinde satırdan integer değer ile veri çekme işlemi"
      ]
    },
    {
      "cell_type": "code",
      "execution_count": null,
      "id": "ee855377",
      "metadata": {
        "id": "ee855377",
        "outputId": "9b38da0a-06ef-482a-caea-c8ed536048bd"
      },
      "outputs": [
        {
          "data": {
            "text/plain": [
              "A    3\n",
              "B    6\n",
              "C    9\n",
              "Name: t3, dtype: int64"
            ]
          },
          "execution_count": 296,
          "metadata": {},
          "output_type": "execute_result"
        }
      ],
      "source": [
        "d.iloc[2]"
      ]
    },
    {
      "cell_type": "markdown",
      "id": "6741c66b",
      "metadata": {
        "id": "6741c66b"
      },
      "source": [
        "### loc[] ve iloc[] fonksiyonunda slicing örnekleri"
      ]
    },
    {
      "cell_type": "code",
      "execution_count": null,
      "id": "2a0dd976",
      "metadata": {
        "id": "2a0dd976",
        "outputId": "2fa84abc-0839-4b6f-a1f4-50ec377fd6da"
      },
      "outputs": [
        {
          "data": {
            "text/html": [
              "<div>\n",
              "<style scoped>\n",
              "    .dataframe tbody tr th:only-of-type {\n",
              "        vertical-align: middle;\n",
              "    }\n",
              "\n",
              "    .dataframe tbody tr th {\n",
              "        vertical-align: top;\n",
              "    }\n",
              "\n",
              "    .dataframe thead th {\n",
              "        text-align: right;\n",
              "    }\n",
              "</style>\n",
              "<table border=\"1\" class=\"dataframe\">\n",
              "  <thead>\n",
              "    <tr style=\"text-align: right;\">\n",
              "      <th></th>\n",
              "      <th>A</th>\n",
              "      <th>B</th>\n",
              "      <th>C</th>\n",
              "    </tr>\n",
              "  </thead>\n",
              "  <tbody>\n",
              "    <tr>\n",
              "      <th>t1</th>\n",
              "      <td>1</td>\n",
              "      <td>4</td>\n",
              "      <td>7</td>\n",
              "    </tr>\n",
              "    <tr>\n",
              "      <th>t2</th>\n",
              "      <td>2</td>\n",
              "      <td>5</td>\n",
              "      <td>8</td>\n",
              "    </tr>\n",
              "    <tr>\n",
              "      <th>t3</th>\n",
              "      <td>3</td>\n",
              "      <td>6</td>\n",
              "      <td>9</td>\n",
              "    </tr>\n",
              "  </tbody>\n",
              "</table>\n",
              "</div>"
            ],
            "text/plain": [
              "    A  B  C\n",
              "t1  1  4  7\n",
              "t2  2  5  8\n",
              "t3  3  6  9"
            ]
          },
          "execution_count": 297,
          "metadata": {},
          "output_type": "execute_result"
        }
      ],
      "source": [
        "d.loc[\"t1\":\"t3\"]"
      ]
    },
    {
      "cell_type": "code",
      "execution_count": null,
      "id": "24454c2a",
      "metadata": {
        "id": "24454c2a",
        "outputId": "329b05a8-02d7-4cdc-f482-734d5ff08768"
      },
      "outputs": [
        {
          "data": {
            "text/html": [
              "<div>\n",
              "<style scoped>\n",
              "    .dataframe tbody tr th:only-of-type {\n",
              "        vertical-align: middle;\n",
              "    }\n",
              "\n",
              "    .dataframe tbody tr th {\n",
              "        vertical-align: top;\n",
              "    }\n",
              "\n",
              "    .dataframe thead th {\n",
              "        text-align: right;\n",
              "    }\n",
              "</style>\n",
              "<table border=\"1\" class=\"dataframe\">\n",
              "  <thead>\n",
              "    <tr style=\"text-align: right;\">\n",
              "      <th></th>\n",
              "      <th>A</th>\n",
              "      <th>B</th>\n",
              "      <th>C</th>\n",
              "    </tr>\n",
              "  </thead>\n",
              "  <tbody>\n",
              "    <tr>\n",
              "      <th>t1</th>\n",
              "      <td>1</td>\n",
              "      <td>4</td>\n",
              "      <td>7</td>\n",
              "    </tr>\n",
              "    <tr>\n",
              "      <th>t2</th>\n",
              "      <td>2</td>\n",
              "      <td>5</td>\n",
              "      <td>8</td>\n",
              "    </tr>\n",
              "    <tr>\n",
              "      <th>t3</th>\n",
              "      <td>3</td>\n",
              "      <td>6</td>\n",
              "      <td>9</td>\n",
              "    </tr>\n",
              "  </tbody>\n",
              "</table>\n",
              "</div>"
            ],
            "text/plain": [
              "    A  B  C\n",
              "t1  1  4  7\n",
              "t2  2  5  8\n",
              "t3  3  6  9"
            ]
          },
          "execution_count": 299,
          "metadata": {},
          "output_type": "execute_result"
        }
      ],
      "source": [
        "d.iloc[0:3]"
      ]
    },
    {
      "cell_type": "code",
      "execution_count": null,
      "id": "4cf1bad1",
      "metadata": {
        "id": "4cf1bad1",
        "outputId": "9e4cd26e-aeb8-481c-8ede-17b476120947"
      },
      "outputs": [
        {
          "data": {
            "text/html": [
              "<div>\n",
              "<style scoped>\n",
              "    .dataframe tbody tr th:only-of-type {\n",
              "        vertical-align: middle;\n",
              "    }\n",
              "\n",
              "    .dataframe tbody tr th {\n",
              "        vertical-align: top;\n",
              "    }\n",
              "\n",
              "    .dataframe thead th {\n",
              "        text-align: right;\n",
              "    }\n",
              "</style>\n",
              "<table border=\"1\" class=\"dataframe\">\n",
              "  <thead>\n",
              "    <tr style=\"text-align: right;\">\n",
              "      <th></th>\n",
              "      <th>A</th>\n",
              "      <th>B</th>\n",
              "      <th>C</th>\n",
              "    </tr>\n",
              "  </thead>\n",
              "  <tbody>\n",
              "    <tr>\n",
              "      <th>t1</th>\n",
              "      <td>1</td>\n",
              "      <td>4</td>\n",
              "      <td>7</td>\n",
              "    </tr>\n",
              "    <tr>\n",
              "      <th>t3</th>\n",
              "      <td>3</td>\n",
              "      <td>6</td>\n",
              "      <td>9</td>\n",
              "    </tr>\n",
              "  </tbody>\n",
              "</table>\n",
              "</div>"
            ],
            "text/plain": [
              "    A  B  C\n",
              "t1  1  4  7\n",
              "t3  3  6  9"
            ]
          },
          "execution_count": 304,
          "metadata": {},
          "output_type": "execute_result"
        }
      ],
      "source": [
        "d.iloc[[0,2]]"
      ]
    },
    {
      "cell_type": "code",
      "execution_count": null,
      "id": "674f6b94",
      "metadata": {
        "id": "674f6b94",
        "outputId": "eed2cb84-abac-4f71-c306-4a7d9103e131"
      },
      "outputs": [
        {
          "data": {
            "text/html": [
              "<div>\n",
              "<style scoped>\n",
              "    .dataframe tbody tr th:only-of-type {\n",
              "        vertical-align: middle;\n",
              "    }\n",
              "\n",
              "    .dataframe tbody tr th {\n",
              "        vertical-align: top;\n",
              "    }\n",
              "\n",
              "    .dataframe thead th {\n",
              "        text-align: right;\n",
              "    }\n",
              "</style>\n",
              "<table border=\"1\" class=\"dataframe\">\n",
              "  <thead>\n",
              "    <tr style=\"text-align: right;\">\n",
              "      <th></th>\n",
              "      <th>A</th>\n",
              "      <th>C</th>\n",
              "    </tr>\n",
              "  </thead>\n",
              "  <tbody>\n",
              "    <tr>\n",
              "      <th>t1</th>\n",
              "      <td>1</td>\n",
              "      <td>7</td>\n",
              "    </tr>\n",
              "    <tr>\n",
              "      <th>t3</th>\n",
              "      <td>3</td>\n",
              "      <td>9</td>\n",
              "    </tr>\n",
              "  </tbody>\n",
              "</table>\n",
              "</div>"
            ],
            "text/plain": [
              "    A  C\n",
              "t1  1  7\n",
              "t3  3  9"
            ]
          },
          "execution_count": 306,
          "metadata": {},
          "output_type": "execute_result"
        }
      ],
      "source": [
        "d.iloc[[0,2], [0,2]]"
      ]
    },
    {
      "cell_type": "code",
      "execution_count": null,
      "id": "6c0f584f",
      "metadata": {
        "id": "6c0f584f",
        "outputId": "c26faef9-d098-45b8-8303-c2d7f4bff366"
      },
      "outputs": [
        {
          "data": {
            "text/html": [
              "<div>\n",
              "<style scoped>\n",
              "    .dataframe tbody tr th:only-of-type {\n",
              "        vertical-align: middle;\n",
              "    }\n",
              "\n",
              "    .dataframe tbody tr th {\n",
              "        vertical-align: top;\n",
              "    }\n",
              "\n",
              "    .dataframe thead th {\n",
              "        text-align: right;\n",
              "    }\n",
              "</style>\n",
              "<table border=\"1\" class=\"dataframe\">\n",
              "  <thead>\n",
              "    <tr style=\"text-align: right;\">\n",
              "      <th></th>\n",
              "      <th>A</th>\n",
              "      <th>B</th>\n",
              "    </tr>\n",
              "  </thead>\n",
              "  <tbody>\n",
              "    <tr>\n",
              "      <th>t1</th>\n",
              "      <td>1</td>\n",
              "      <td>4</td>\n",
              "    </tr>\n",
              "    <tr>\n",
              "      <th>t2</th>\n",
              "      <td>2</td>\n",
              "      <td>5</td>\n",
              "    </tr>\n",
              "  </tbody>\n",
              "</table>\n",
              "</div>"
            ],
            "text/plain": [
              "    A  B\n",
              "t1  1  4\n",
              "t2  2  5"
            ]
          },
          "execution_count": 307,
          "metadata": {},
          "output_type": "execute_result"
        }
      ],
      "source": [
        "d.iloc[0:2,0:2]"
      ]
    },
    {
      "cell_type": "code",
      "execution_count": null,
      "id": "549992f9",
      "metadata": {
        "id": "549992f9",
        "outputId": "3c0cd65a-058e-46df-ae1e-23abbbcb2b14"
      },
      "outputs": [
        {
          "data": {
            "text/html": [
              "<div>\n",
              "<style scoped>\n",
              "    .dataframe tbody tr th:only-of-type {\n",
              "        vertical-align: middle;\n",
              "    }\n",
              "\n",
              "    .dataframe tbody tr th {\n",
              "        vertical-align: top;\n",
              "    }\n",
              "\n",
              "    .dataframe thead th {\n",
              "        text-align: right;\n",
              "    }\n",
              "</style>\n",
              "<table border=\"1\" class=\"dataframe\">\n",
              "  <thead>\n",
              "    <tr style=\"text-align: right;\">\n",
              "      <th></th>\n",
              "      <th>A</th>\n",
              "      <th>B</th>\n",
              "    </tr>\n",
              "  </thead>\n",
              "  <tbody>\n",
              "    <tr>\n",
              "      <th>t1</th>\n",
              "      <td>1</td>\n",
              "      <td>4</td>\n",
              "    </tr>\n",
              "    <tr>\n",
              "      <th>t2</th>\n",
              "      <td>2</td>\n",
              "      <td>5</td>\n",
              "    </tr>\n",
              "  </tbody>\n",
              "</table>\n",
              "</div>"
            ],
            "text/plain": [
              "    A  B\n",
              "t1  1  4\n",
              "t2  2  5"
            ]
          },
          "execution_count": 308,
          "metadata": {},
          "output_type": "execute_result"
        }
      ],
      "source": [
        "d.iloc[:2,:2]"
      ]
    },
    {
      "cell_type": "markdown",
      "id": "20991ce4",
      "metadata": {
        "id": "20991ce4"
      },
      "source": [
        "### DataFrame'de mantıksal operatörlerin kullanım örnekleri"
      ]
    },
    {
      "cell_type": "code",
      "execution_count": null,
      "id": "76005cd3",
      "metadata": {
        "id": "76005cd3",
        "outputId": "0ff19906-bf0e-4632-fba4-c62d6e62cbaa"
      },
      "outputs": [
        {
          "data": {
            "text/html": [
              "<div>\n",
              "<style scoped>\n",
              "    .dataframe tbody tr th:only-of-type {\n",
              "        vertical-align: middle;\n",
              "    }\n",
              "\n",
              "    .dataframe tbody tr th {\n",
              "        vertical-align: top;\n",
              "    }\n",
              "\n",
              "    .dataframe thead th {\n",
              "        text-align: right;\n",
              "    }\n",
              "</style>\n",
              "<table border=\"1\" class=\"dataframe\">\n",
              "  <thead>\n",
              "    <tr style=\"text-align: right;\">\n",
              "      <th></th>\n",
              "      <th>A</th>\n",
              "      <th>B</th>\n",
              "      <th>C</th>\n",
              "    </tr>\n",
              "  </thead>\n",
              "  <tbody>\n",
              "    <tr>\n",
              "      <th>t1</th>\n",
              "      <td>NaN</td>\n",
              "      <td>NaN</td>\n",
              "      <td>7</td>\n",
              "    </tr>\n",
              "    <tr>\n",
              "      <th>t2</th>\n",
              "      <td>NaN</td>\n",
              "      <td>NaN</td>\n",
              "      <td>8</td>\n",
              "    </tr>\n",
              "    <tr>\n",
              "      <th>t3</th>\n",
              "      <td>NaN</td>\n",
              "      <td>6.0</td>\n",
              "      <td>9</td>\n",
              "    </tr>\n",
              "  </tbody>\n",
              "</table>\n",
              "</div>"
            ],
            "text/plain": [
              "     A    B  C\n",
              "t1 NaN  NaN  7\n",
              "t2 NaN  NaN  8\n",
              "t3 NaN  6.0  9"
            ]
          },
          "execution_count": 310,
          "metadata": {},
          "output_type": "execute_result"
        }
      ],
      "source": [
        "d[d>5]"
      ]
    },
    {
      "cell_type": "code",
      "execution_count": null,
      "id": "9033eb09",
      "metadata": {
        "id": "9033eb09",
        "outputId": "7695d766-3a95-4d09-9799-432c3899b23f"
      },
      "outputs": [
        {
          "data": {
            "text/html": [
              "<div>\n",
              "<style scoped>\n",
              "    .dataframe tbody tr th:only-of-type {\n",
              "        vertical-align: middle;\n",
              "    }\n",
              "\n",
              "    .dataframe tbody tr th {\n",
              "        vertical-align: top;\n",
              "    }\n",
              "\n",
              "    .dataframe thead th {\n",
              "        text-align: right;\n",
              "    }\n",
              "</style>\n",
              "<table border=\"1\" class=\"dataframe\">\n",
              "  <thead>\n",
              "    <tr style=\"text-align: right;\">\n",
              "      <th></th>\n",
              "      <th>A</th>\n",
              "      <th>B</th>\n",
              "      <th>C</th>\n",
              "    </tr>\n",
              "  </thead>\n",
              "  <tbody>\n",
              "    <tr>\n",
              "      <th>t1</th>\n",
              "      <td>NaN</td>\n",
              "      <td>NaN</td>\n",
              "      <td>7.0</td>\n",
              "    </tr>\n",
              "    <tr>\n",
              "      <th>t2</th>\n",
              "      <td>NaN</td>\n",
              "      <td>NaN</td>\n",
              "      <td>NaN</td>\n",
              "    </tr>\n",
              "    <tr>\n",
              "      <th>t3</th>\n",
              "      <td>NaN</td>\n",
              "      <td>6.0</td>\n",
              "      <td>NaN</td>\n",
              "    </tr>\n",
              "  </tbody>\n",
              "</table>\n",
              "</div>"
            ],
            "text/plain": [
              "     A    B    C\n",
              "t1 NaN  NaN  7.0\n",
              "t2 NaN  NaN  NaN\n",
              "t3 NaN  6.0  NaN"
            ]
          },
          "execution_count": 311,
          "metadata": {},
          "output_type": "execute_result"
        }
      ],
      "source": [
        "d[(d>5) & (d<8)]"
      ]
    },
    {
      "cell_type": "markdown",
      "id": "54fe968c",
      "metadata": {
        "id": "54fe968c"
      },
      "source": [
        "## iat[] fonksiyonu \n",
        "* Bir DataFrame veya Series'de integer kullanarak yalnızca tek bir değer almanız veya ayarlamanız gerekiyorsa iat'ı kullanılır"
      ]
    },
    {
      "cell_type": "code",
      "execution_count": null,
      "id": "a88a8aa8",
      "metadata": {
        "id": "a88a8aa8",
        "outputId": "14c91447-6d04-43e1-8637-559ed46dce50"
      },
      "outputs": [
        {
          "data": {
            "text/plain": [
              "7"
            ]
          },
          "execution_count": 312,
          "metadata": {},
          "output_type": "execute_result"
        }
      ],
      "source": [
        "d.iat[0,2]"
      ]
    },
    {
      "cell_type": "markdown",
      "id": "a60d6d1b",
      "metadata": {
        "id": "a60d6d1b"
      },
      "source": [
        "## at[] fonksiyonu \n",
        "* Bir DataFrame veya Series'de yalnızca tek bir değer almanız veya ayarlamanız gerekiyorsa iat'ı kullanılır"
      ]
    },
    {
      "cell_type": "code",
      "execution_count": null,
      "id": "165b1563",
      "metadata": {
        "id": "165b1563"
      },
      "outputs": [],
      "source": [
        "d.at[\"t1\",\"C\"]=100"
      ]
    },
    {
      "cell_type": "code",
      "execution_count": null,
      "id": "aa91f0b6",
      "metadata": {
        "id": "aa91f0b6",
        "outputId": "7ed78cd1-e131-4e4e-e0c8-723b994d0b8a"
      },
      "outputs": [
        {
          "data": {
            "text/html": [
              "<div>\n",
              "<style scoped>\n",
              "    .dataframe tbody tr th:only-of-type {\n",
              "        vertical-align: middle;\n",
              "    }\n",
              "\n",
              "    .dataframe tbody tr th {\n",
              "        vertical-align: top;\n",
              "    }\n",
              "\n",
              "    .dataframe thead th {\n",
              "        text-align: right;\n",
              "    }\n",
              "</style>\n",
              "<table border=\"1\" class=\"dataframe\">\n",
              "  <thead>\n",
              "    <tr style=\"text-align: right;\">\n",
              "      <th></th>\n",
              "      <th>A</th>\n",
              "      <th>B</th>\n",
              "      <th>C</th>\n",
              "    </tr>\n",
              "  </thead>\n",
              "  <tbody>\n",
              "    <tr>\n",
              "      <th>t1</th>\n",
              "      <td>1</td>\n",
              "      <td>4</td>\n",
              "      <td>100</td>\n",
              "    </tr>\n",
              "    <tr>\n",
              "      <th>t2</th>\n",
              "      <td>2</td>\n",
              "      <td>5</td>\n",
              "      <td>8</td>\n",
              "    </tr>\n",
              "    <tr>\n",
              "      <th>t3</th>\n",
              "      <td>3</td>\n",
              "      <td>6</td>\n",
              "      <td>9</td>\n",
              "    </tr>\n",
              "  </tbody>\n",
              "</table>\n",
              "</div>"
            ],
            "text/plain": [
              "    A  B    C\n",
              "t1  1  4  100\n",
              "t2  2  5    8\n",
              "t3  3  6    9"
            ]
          },
          "execution_count": 314,
          "metadata": {},
          "output_type": "execute_result"
        }
      ],
      "source": [
        "d"
      ]
    },
    {
      "cell_type": "markdown",
      "id": "c8dbb89f",
      "metadata": {
        "id": "c8dbb89f"
      },
      "source": [
        "## axis anahtar kelimesi\n",
        "* ulaşmak istediğimiz değerler kümesi satırlar ise axis'i bir'e eşitleriz\n",
        "* ulaşmak istediğimiz değerler kümesi stünlar ise axis'i sıfır'a eşitleriz"
      ]
    },
    {
      "cell_type": "code",
      "execution_count": null,
      "id": "1a1f3068",
      "metadata": {
        "id": "1a1f3068",
        "outputId": "5c03fa68-5ee2-443b-9e03-9c5884ffa759"
      },
      "outputs": [
        {
          "data": {
            "text/plain": [
              "t1    4.0\n",
              "t2    5.0\n",
              "t3    6.0\n",
              "dtype: float64"
            ]
          },
          "execution_count": 169,
          "metadata": {},
          "output_type": "execute_result"
        }
      ],
      "source": [
        "d.mean(axis=1)"
      ]
    },
    {
      "cell_type": "code",
      "execution_count": null,
      "id": "f687dcae",
      "metadata": {
        "id": "f687dcae",
        "outputId": "43a6d2c6-2668-4c3d-aa06-b60dc3c540a9"
      },
      "outputs": [
        {
          "data": {
            "text/html": [
              "<div>\n",
              "<style scoped>\n",
              "    .dataframe tbody tr th:only-of-type {\n",
              "        vertical-align: middle;\n",
              "    }\n",
              "\n",
              "    .dataframe tbody tr th {\n",
              "        vertical-align: top;\n",
              "    }\n",
              "\n",
              "    .dataframe thead th {\n",
              "        text-align: right;\n",
              "    }\n",
              "</style>\n",
              "<table border=\"1\" class=\"dataframe\">\n",
              "  <thead>\n",
              "    <tr style=\"text-align: right;\">\n",
              "      <th></th>\n",
              "      <th>A</th>\n",
              "      <th>B</th>\n",
              "      <th>C</th>\n",
              "    </tr>\n",
              "  </thead>\n",
              "  <tbody>\n",
              "    <tr>\n",
              "      <th>count</th>\n",
              "      <td>3.0</td>\n",
              "      <td>3.0</td>\n",
              "      <td>3.0</td>\n",
              "    </tr>\n",
              "    <tr>\n",
              "      <th>mean</th>\n",
              "      <td>2.0</td>\n",
              "      <td>5.0</td>\n",
              "      <td>8.0</td>\n",
              "    </tr>\n",
              "    <tr>\n",
              "      <th>std</th>\n",
              "      <td>1.0</td>\n",
              "      <td>1.0</td>\n",
              "      <td>1.0</td>\n",
              "    </tr>\n",
              "    <tr>\n",
              "      <th>min</th>\n",
              "      <td>1.0</td>\n",
              "      <td>4.0</td>\n",
              "      <td>7.0</td>\n",
              "    </tr>\n",
              "    <tr>\n",
              "      <th>25%</th>\n",
              "      <td>1.5</td>\n",
              "      <td>4.5</td>\n",
              "      <td>7.5</td>\n",
              "    </tr>\n",
              "    <tr>\n",
              "      <th>50%</th>\n",
              "      <td>2.0</td>\n",
              "      <td>5.0</td>\n",
              "      <td>8.0</td>\n",
              "    </tr>\n",
              "    <tr>\n",
              "      <th>75%</th>\n",
              "      <td>2.5</td>\n",
              "      <td>5.5</td>\n",
              "      <td>8.5</td>\n",
              "    </tr>\n",
              "    <tr>\n",
              "      <th>max</th>\n",
              "      <td>3.0</td>\n",
              "      <td>6.0</td>\n",
              "      <td>9.0</td>\n",
              "    </tr>\n",
              "  </tbody>\n",
              "</table>\n",
              "</div>"
            ],
            "text/plain": [
              "         A    B    C\n",
              "count  3.0  3.0  3.0\n",
              "mean   2.0  5.0  8.0\n",
              "std    1.0  1.0  1.0\n",
              "min    1.0  4.0  7.0\n",
              "25%    1.5  4.5  7.5\n",
              "50%    2.0  5.0  8.0\n",
              "75%    2.5  5.5  8.5\n",
              "max    3.0  6.0  9.0"
            ]
          },
          "execution_count": 170,
          "metadata": {},
          "output_type": "execute_result"
        }
      ],
      "source": [
        "d.describe()"
      ]
    },
    {
      "cell_type": "code",
      "execution_count": null,
      "id": "990a19c2",
      "metadata": {
        "id": "990a19c2"
      },
      "outputs": [],
      "source": [
        "y = {\"A\":[1,2,3,4,5,6.25689,7,8,9],\"B\":[4,5,6,7,8,9.2525,1,2,3],\"C\":[7,8,9,1,2,3.25252,4,5,6],}"
      ]
    },
    {
      "cell_type": "code",
      "execution_count": null,
      "id": "87c817ba",
      "metadata": {
        "id": "87c817ba"
      },
      "outputs": [],
      "source": [
        "veri=pd.DataFrame(y)"
      ]
    },
    {
      "cell_type": "markdown",
      "id": "e6f9cc0e",
      "metadata": {
        "id": "e6f9cc0e"
      },
      "source": [
        "## head metodu\n",
        "* veri setinin ilk 5 satırını gösterir"
      ]
    },
    {
      "cell_type": "code",
      "execution_count": null,
      "id": "cd03781b",
      "metadata": {
        "id": "cd03781b",
        "outputId": "d596d6ca-2b30-4635-8328-0e8510306b67"
      },
      "outputs": [
        {
          "data": {
            "text/html": [
              "<div>\n",
              "<style scoped>\n",
              "    .dataframe tbody tr th:only-of-type {\n",
              "        vertical-align: middle;\n",
              "    }\n",
              "\n",
              "    .dataframe tbody tr th {\n",
              "        vertical-align: top;\n",
              "    }\n",
              "\n",
              "    .dataframe thead th {\n",
              "        text-align: right;\n",
              "    }\n",
              "</style>\n",
              "<table border=\"1\" class=\"dataframe\">\n",
              "  <thead>\n",
              "    <tr style=\"text-align: right;\">\n",
              "      <th></th>\n",
              "      <th>A</th>\n",
              "      <th>B</th>\n",
              "      <th>C</th>\n",
              "    </tr>\n",
              "  </thead>\n",
              "  <tbody>\n",
              "    <tr>\n",
              "      <th>0</th>\n",
              "      <td>1.0</td>\n",
              "      <td>4.0</td>\n",
              "      <td>7.0</td>\n",
              "    </tr>\n",
              "    <tr>\n",
              "      <th>1</th>\n",
              "      <td>2.0</td>\n",
              "      <td>5.0</td>\n",
              "      <td>8.0</td>\n",
              "    </tr>\n",
              "    <tr>\n",
              "      <th>2</th>\n",
              "      <td>3.0</td>\n",
              "      <td>6.0</td>\n",
              "      <td>9.0</td>\n",
              "    </tr>\n",
              "    <tr>\n",
              "      <th>3</th>\n",
              "      <td>4.0</td>\n",
              "      <td>7.0</td>\n",
              "      <td>1.0</td>\n",
              "    </tr>\n",
              "    <tr>\n",
              "      <th>4</th>\n",
              "      <td>5.0</td>\n",
              "      <td>8.0</td>\n",
              "      <td>2.0</td>\n",
              "    </tr>\n",
              "  </tbody>\n",
              "</table>\n",
              "</div>"
            ],
            "text/plain": [
              "     A    B    C\n",
              "0  1.0  4.0  7.0\n",
              "1  2.0  5.0  8.0\n",
              "2  3.0  6.0  9.0\n",
              "3  4.0  7.0  1.0\n",
              "4  5.0  8.0  2.0"
            ]
          },
          "execution_count": 219,
          "metadata": {},
          "output_type": "execute_result"
        }
      ],
      "source": [
        "veri.head()"
      ]
    },
    {
      "cell_type": "code",
      "execution_count": null,
      "id": "c0c9f145",
      "metadata": {
        "id": "c0c9f145",
        "outputId": "99d18520-5d1c-4b5a-b6d1-9ae3c1c4b242"
      },
      "outputs": [
        {
          "data": {
            "text/html": [
              "<div>\n",
              "<style scoped>\n",
              "    .dataframe tbody tr th:only-of-type {\n",
              "        vertical-align: middle;\n",
              "    }\n",
              "\n",
              "    .dataframe tbody tr th {\n",
              "        vertical-align: top;\n",
              "    }\n",
              "\n",
              "    .dataframe thead th {\n",
              "        text-align: right;\n",
              "    }\n",
              "</style>\n",
              "<table border=\"1\" class=\"dataframe\">\n",
              "  <thead>\n",
              "    <tr style=\"text-align: right;\">\n",
              "      <th></th>\n",
              "      <th>A</th>\n",
              "      <th>B</th>\n",
              "      <th>C</th>\n",
              "    </tr>\n",
              "  </thead>\n",
              "  <tbody>\n",
              "    <tr>\n",
              "      <th>count</th>\n",
              "      <td>9.000000</td>\n",
              "      <td>9.000000</td>\n",
              "      <td>9.000000</td>\n",
              "    </tr>\n",
              "    <tr>\n",
              "      <th>mean</th>\n",
              "      <td>5.028543</td>\n",
              "      <td>5.028056</td>\n",
              "      <td>5.028058</td>\n",
              "    </tr>\n",
              "    <tr>\n",
              "      <th>std</th>\n",
              "      <td>2.751646</td>\n",
              "      <td>2.785603</td>\n",
              "      <td>2.716767</td>\n",
              "    </tr>\n",
              "    <tr>\n",
              "      <th>min</th>\n",
              "      <td>1.000000</td>\n",
              "      <td>1.000000</td>\n",
              "      <td>1.000000</td>\n",
              "    </tr>\n",
              "    <tr>\n",
              "      <th>25%</th>\n",
              "      <td>3.000000</td>\n",
              "      <td>3.000000</td>\n",
              "      <td>3.252520</td>\n",
              "    </tr>\n",
              "    <tr>\n",
              "      <th>50%</th>\n",
              "      <td>5.000000</td>\n",
              "      <td>5.000000</td>\n",
              "      <td>5.000000</td>\n",
              "    </tr>\n",
              "    <tr>\n",
              "      <th>75%</th>\n",
              "      <td>7.000000</td>\n",
              "      <td>7.000000</td>\n",
              "      <td>7.000000</td>\n",
              "    </tr>\n",
              "    <tr>\n",
              "      <th>max</th>\n",
              "      <td>9.000000</td>\n",
              "      <td>9.252500</td>\n",
              "      <td>9.000000</td>\n",
              "    </tr>\n",
              "  </tbody>\n",
              "</table>\n",
              "</div>"
            ],
            "text/plain": [
              "              A         B         C\n",
              "count  9.000000  9.000000  9.000000\n",
              "mean   5.028543  5.028056  5.028058\n",
              "std    2.751646  2.785603  2.716767\n",
              "min    1.000000  1.000000  1.000000\n",
              "25%    3.000000  3.000000  3.252520\n",
              "50%    5.000000  5.000000  5.000000\n",
              "75%    7.000000  7.000000  7.000000\n",
              "max    9.000000  9.252500  9.000000"
            ]
          },
          "execution_count": 220,
          "metadata": {},
          "output_type": "execute_result"
        }
      ],
      "source": [
        "veri.describe()"
      ]
    },
    {
      "cell_type": "markdown",
      "id": "4afebb1f",
      "metadata": {
        "id": "4afebb1f"
      },
      "source": [
        "## set_option() metodu\n",
        "* veriyi formatlamayı sağlar"
      ]
    },
    {
      "cell_type": "code",
      "execution_count": null,
      "id": "fed388b8",
      "metadata": {
        "id": "fed388b8",
        "outputId": "b738eda6-18e1-4ddf-8aa2-1cbfdeeeab00"
      },
      "outputs": [
        {
          "ename": "OptionError",
          "evalue": "'Pattern matched multiple keys'",
          "output_type": "error",
          "traceback": [
            "\u001b[1;31m---------------------------------------------------------------------------\u001b[0m",
            "\u001b[1;31mOptionError\u001b[0m                               Traceback (most recent call last)",
            "\u001b[1;32m~\\AppData\\Local\\Temp\\ipykernel_22952\\1981155718.py\u001b[0m in \u001b[0;36m<module>\u001b[1;34m\u001b[0m\n\u001b[1;32m----> 1\u001b[1;33m \u001b[0mpd\u001b[0m\u001b[1;33m.\u001b[0m\u001b[0mset_option\u001b[0m\u001b[1;33m(\u001b[0m\u001b[1;34m\"precision\"\u001b[0m\u001b[1;33m,\u001b[0m \u001b[1;36m3\u001b[0m\u001b[1;33m)\u001b[0m\u001b[1;33m\u001b[0m\u001b[1;33m\u001b[0m\u001b[0m\n\u001b[0m",
            "\u001b[1;32mC:\\ANACONDA\\lib\\site-packages\\pandas\\_config\\config.py\u001b[0m in \u001b[0;36m__call__\u001b[1;34m(self, *args, **kwds)\u001b[0m\n\u001b[0;32m    254\u001b[0m \u001b[1;33m\u001b[0m\u001b[0m\n\u001b[0;32m    255\u001b[0m     \u001b[1;32mdef\u001b[0m \u001b[0m__call__\u001b[0m\u001b[1;33m(\u001b[0m\u001b[0mself\u001b[0m\u001b[1;33m,\u001b[0m \u001b[1;33m*\u001b[0m\u001b[0margs\u001b[0m\u001b[1;33m,\u001b[0m \u001b[1;33m**\u001b[0m\u001b[0mkwds\u001b[0m\u001b[1;33m)\u001b[0m\u001b[1;33m:\u001b[0m\u001b[1;33m\u001b[0m\u001b[1;33m\u001b[0m\u001b[0m\n\u001b[1;32m--> 256\u001b[1;33m         \u001b[1;32mreturn\u001b[0m \u001b[0mself\u001b[0m\u001b[1;33m.\u001b[0m\u001b[0m__func__\u001b[0m\u001b[1;33m(\u001b[0m\u001b[1;33m*\u001b[0m\u001b[0margs\u001b[0m\u001b[1;33m,\u001b[0m \u001b[1;33m**\u001b[0m\u001b[0mkwds\u001b[0m\u001b[1;33m)\u001b[0m\u001b[1;33m\u001b[0m\u001b[1;33m\u001b[0m\u001b[0m\n\u001b[0m\u001b[0;32m    257\u001b[0m \u001b[1;33m\u001b[0m\u001b[0m\n\u001b[0;32m    258\u001b[0m     \u001b[1;33m@\u001b[0m\u001b[0mproperty\u001b[0m\u001b[1;33m\u001b[0m\u001b[1;33m\u001b[0m\u001b[0m\n",
            "\u001b[1;32mC:\\ANACONDA\\lib\\site-packages\\pandas\\_config\\config.py\u001b[0m in \u001b[0;36m_set_option\u001b[1;34m(*args, **kwargs)\u001b[0m\n\u001b[0;32m    147\u001b[0m \u001b[1;33m\u001b[0m\u001b[0m\n\u001b[0;32m    148\u001b[0m     \u001b[1;32mfor\u001b[0m \u001b[0mk\u001b[0m\u001b[1;33m,\u001b[0m \u001b[0mv\u001b[0m \u001b[1;32min\u001b[0m \u001b[0mzip\u001b[0m\u001b[1;33m(\u001b[0m\u001b[0margs\u001b[0m\u001b[1;33m[\u001b[0m\u001b[1;33m:\u001b[0m\u001b[1;33m:\u001b[0m\u001b[1;36m2\u001b[0m\u001b[1;33m]\u001b[0m\u001b[1;33m,\u001b[0m \u001b[0margs\u001b[0m\u001b[1;33m[\u001b[0m\u001b[1;36m1\u001b[0m\u001b[1;33m:\u001b[0m\u001b[1;33m:\u001b[0m\u001b[1;36m2\u001b[0m\u001b[1;33m]\u001b[0m\u001b[1;33m)\u001b[0m\u001b[1;33m:\u001b[0m\u001b[1;33m\u001b[0m\u001b[1;33m\u001b[0m\u001b[0m\n\u001b[1;32m--> 149\u001b[1;33m         \u001b[0mkey\u001b[0m \u001b[1;33m=\u001b[0m \u001b[0m_get_single_key\u001b[0m\u001b[1;33m(\u001b[0m\u001b[0mk\u001b[0m\u001b[1;33m,\u001b[0m \u001b[0msilent\u001b[0m\u001b[1;33m)\u001b[0m\u001b[1;33m\u001b[0m\u001b[1;33m\u001b[0m\u001b[0m\n\u001b[0m\u001b[0;32m    150\u001b[0m \u001b[1;33m\u001b[0m\u001b[0m\n\u001b[0;32m    151\u001b[0m         \u001b[0mo\u001b[0m \u001b[1;33m=\u001b[0m \u001b[0m_get_registered_option\u001b[0m\u001b[1;33m(\u001b[0m\u001b[0mkey\u001b[0m\u001b[1;33m)\u001b[0m\u001b[1;33m\u001b[0m\u001b[1;33m\u001b[0m\u001b[0m\n",
            "\u001b[1;32mC:\\ANACONDA\\lib\\site-packages\\pandas\\_config\\config.py\u001b[0m in \u001b[0;36m_get_single_key\u001b[1;34m(pat, silent)\u001b[0m\n\u001b[0;32m    114\u001b[0m         \u001b[1;32mraise\u001b[0m \u001b[0mOptionError\u001b[0m\u001b[1;33m(\u001b[0m\u001b[1;34mf\"No such keys(s): {repr(pat)}\"\u001b[0m\u001b[1;33m)\u001b[0m\u001b[1;33m\u001b[0m\u001b[1;33m\u001b[0m\u001b[0m\n\u001b[0;32m    115\u001b[0m     \u001b[1;32mif\u001b[0m \u001b[0mlen\u001b[0m\u001b[1;33m(\u001b[0m\u001b[0mkeys\u001b[0m\u001b[1;33m)\u001b[0m \u001b[1;33m>\u001b[0m \u001b[1;36m1\u001b[0m\u001b[1;33m:\u001b[0m\u001b[1;33m\u001b[0m\u001b[1;33m\u001b[0m\u001b[0m\n\u001b[1;32m--> 116\u001b[1;33m         \u001b[1;32mraise\u001b[0m \u001b[0mOptionError\u001b[0m\u001b[1;33m(\u001b[0m\u001b[1;34m\"Pattern matched multiple keys\"\u001b[0m\u001b[1;33m)\u001b[0m\u001b[1;33m\u001b[0m\u001b[1;33m\u001b[0m\u001b[0m\n\u001b[0m\u001b[0;32m    117\u001b[0m     \u001b[0mkey\u001b[0m \u001b[1;33m=\u001b[0m \u001b[0mkeys\u001b[0m\u001b[1;33m[\u001b[0m\u001b[1;36m0\u001b[0m\u001b[1;33m]\u001b[0m\u001b[1;33m\u001b[0m\u001b[1;33m\u001b[0m\u001b[0m\n\u001b[0;32m    118\u001b[0m \u001b[1;33m\u001b[0m\u001b[0m\n",
            "\u001b[1;31mOptionError\u001b[0m: 'Pattern matched multiple keys'"
          ]
        }
      ],
      "source": [
        "pd.set_option(\"precision\", 3)"
      ]
    },
    {
      "cell_type": "code",
      "execution_count": null,
      "id": "752d997e",
      "metadata": {
        "id": "752d997e",
        "outputId": "141d8f34-24d2-40be-8f37-6c1627682ff6"
      },
      "outputs": [
        {
          "data": {
            "text/html": [
              "<div>\n",
              "<style scoped>\n",
              "    .dataframe tbody tr th:only-of-type {\n",
              "        vertical-align: middle;\n",
              "    }\n",
              "\n",
              "    .dataframe tbody tr th {\n",
              "        vertical-align: top;\n",
              "    }\n",
              "\n",
              "    .dataframe thead th {\n",
              "        text-align: right;\n",
              "    }\n",
              "</style>\n",
              "<table border=\"1\" class=\"dataframe\">\n",
              "  <thead>\n",
              "    <tr style=\"text-align: right;\">\n",
              "      <th></th>\n",
              "      <th>A</th>\n",
              "      <th>B</th>\n",
              "      <th>C</th>\n",
              "    </tr>\n",
              "  </thead>\n",
              "  <tbody>\n",
              "    <tr>\n",
              "      <th>count</th>\n",
              "      <td>9.000000</td>\n",
              "      <td>9.000000</td>\n",
              "      <td>9.000000</td>\n",
              "    </tr>\n",
              "    <tr>\n",
              "      <th>mean</th>\n",
              "      <td>5.000000</td>\n",
              "      <td>5.000000</td>\n",
              "      <td>5.000000</td>\n",
              "    </tr>\n",
              "    <tr>\n",
              "      <th>std</th>\n",
              "      <td>2.738613</td>\n",
              "      <td>2.738613</td>\n",
              "      <td>2.738613</td>\n",
              "    </tr>\n",
              "    <tr>\n",
              "      <th>min</th>\n",
              "      <td>1.000000</td>\n",
              "      <td>1.000000</td>\n",
              "      <td>1.000000</td>\n",
              "    </tr>\n",
              "    <tr>\n",
              "      <th>25%</th>\n",
              "      <td>3.000000</td>\n",
              "      <td>3.000000</td>\n",
              "      <td>3.000000</td>\n",
              "    </tr>\n",
              "    <tr>\n",
              "      <th>50%</th>\n",
              "      <td>5.000000</td>\n",
              "      <td>5.000000</td>\n",
              "      <td>5.000000</td>\n",
              "    </tr>\n",
              "    <tr>\n",
              "      <th>75%</th>\n",
              "      <td>7.000000</td>\n",
              "      <td>7.000000</td>\n",
              "      <td>7.000000</td>\n",
              "    </tr>\n",
              "    <tr>\n",
              "      <th>max</th>\n",
              "      <td>9.000000</td>\n",
              "      <td>9.000000</td>\n",
              "      <td>9.000000</td>\n",
              "    </tr>\n",
              "  </tbody>\n",
              "</table>\n",
              "</div>"
            ],
            "text/plain": [
              "              A         B         C\n",
              "count  9.000000  9.000000  9.000000\n",
              "mean   5.000000  5.000000  5.000000\n",
              "std    2.738613  2.738613  2.738613\n",
              "min    1.000000  1.000000  1.000000\n",
              "25%    3.000000  3.000000  3.000000\n",
              "50%    5.000000  5.000000  5.000000\n",
              "75%    7.000000  7.000000  7.000000\n",
              "max    9.000000  9.000000  9.000000"
            ]
          },
          "execution_count": 193,
          "metadata": {},
          "output_type": "execute_result"
        }
      ],
      "source": [
        "veri.describe()"
      ]
    },
    {
      "cell_type": "code",
      "execution_count": null,
      "id": "1c579911",
      "metadata": {
        "id": "1c579911",
        "outputId": "3cf7b285-ea90-405a-ee42-9f45822e5b9e"
      },
      "outputs": [
        {
          "data": {
            "text/plain": [
              "A    5.0\n",
              "B    5.0\n",
              "C    5.0\n",
              "dtype: float64"
            ]
          },
          "execution_count": 194,
          "metadata": {},
          "output_type": "execute_result"
        }
      ],
      "source": [
        "veri.mean()"
      ]
    },
    {
      "cell_type": "markdown",
      "id": "00f454df",
      "metadata": {
        "id": "00f454df"
      },
      "source": [
        "## Her bir satırın ortalama değerinin bulunması"
      ]
    },
    {
      "cell_type": "code",
      "execution_count": null,
      "id": "1b11fecf",
      "metadata": {
        "id": "1b11fecf",
        "outputId": "3741f00d-69d9-4e2f-f6d9-f1365d3216e9"
      },
      "outputs": [
        {
          "data": {
            "text/plain": [
              "0    4.0\n",
              "1    5.0\n",
              "2    6.0\n",
              "3    4.0\n",
              "4    5.0\n",
              "5    6.0\n",
              "6    4.0\n",
              "7    5.0\n",
              "8    6.0\n",
              "dtype: float64"
            ]
          },
          "execution_count": 195,
          "metadata": {},
          "output_type": "execute_result"
        }
      ],
      "source": [
        "veri.mean(axis=1)"
      ]
    },
    {
      "cell_type": "markdown",
      "id": "6b5f550f",
      "metadata": {
        "id": "6b5f550f"
      },
      "source": [
        "## Verinin Transpose edilmesi örneği"
      ]
    },
    {
      "cell_type": "code",
      "execution_count": null,
      "id": "66e53867",
      "metadata": {
        "id": "66e53867",
        "outputId": "a883e4ea-a436-4d91-ebc0-3bbf10091425"
      },
      "outputs": [
        {
          "data": {
            "text/html": [
              "<div>\n",
              "<style scoped>\n",
              "    .dataframe tbody tr th:only-of-type {\n",
              "        vertical-align: middle;\n",
              "    }\n",
              "\n",
              "    .dataframe tbody tr th {\n",
              "        vertical-align: top;\n",
              "    }\n",
              "\n",
              "    .dataframe thead th {\n",
              "        text-align: right;\n",
              "    }\n",
              "</style>\n",
              "<table border=\"1\" class=\"dataframe\">\n",
              "  <thead>\n",
              "    <tr style=\"text-align: right;\">\n",
              "      <th></th>\n",
              "      <th>0</th>\n",
              "      <th>1</th>\n",
              "      <th>2</th>\n",
              "      <th>3</th>\n",
              "      <th>4</th>\n",
              "      <th>5</th>\n",
              "      <th>6</th>\n",
              "      <th>7</th>\n",
              "      <th>8</th>\n",
              "    </tr>\n",
              "  </thead>\n",
              "  <tbody>\n",
              "    <tr>\n",
              "      <th>A</th>\n",
              "      <td>1</td>\n",
              "      <td>2</td>\n",
              "      <td>3</td>\n",
              "      <td>4</td>\n",
              "      <td>5</td>\n",
              "      <td>6</td>\n",
              "      <td>7</td>\n",
              "      <td>8</td>\n",
              "      <td>9</td>\n",
              "    </tr>\n",
              "    <tr>\n",
              "      <th>B</th>\n",
              "      <td>4</td>\n",
              "      <td>5</td>\n",
              "      <td>6</td>\n",
              "      <td>7</td>\n",
              "      <td>8</td>\n",
              "      <td>9</td>\n",
              "      <td>1</td>\n",
              "      <td>2</td>\n",
              "      <td>3</td>\n",
              "    </tr>\n",
              "    <tr>\n",
              "      <th>C</th>\n",
              "      <td>7</td>\n",
              "      <td>8</td>\n",
              "      <td>9</td>\n",
              "      <td>1</td>\n",
              "      <td>2</td>\n",
              "      <td>3</td>\n",
              "      <td>4</td>\n",
              "      <td>5</td>\n",
              "      <td>6</td>\n",
              "    </tr>\n",
              "  </tbody>\n",
              "</table>\n",
              "</div>"
            ],
            "text/plain": [
              "   0  1  2  3  4  5  6  7  8\n",
              "A  1  2  3  4  5  6  7  8  9\n",
              "B  4  5  6  7  8  9  1  2  3\n",
              "C  7  8  9  1  2  3  4  5  6"
            ]
          },
          "execution_count": 196,
          "metadata": {},
          "output_type": "execute_result"
        }
      ],
      "source": [
        "veri.T"
      ]
    },
    {
      "cell_type": "code",
      "execution_count": null,
      "id": "981103a5",
      "metadata": {
        "id": "981103a5",
        "outputId": "ba47742c-9772-4d20-9f2b-6b97f00416be"
      },
      "outputs": [
        {
          "data": {
            "text/html": [
              "<div>\n",
              "<style scoped>\n",
              "    .dataframe tbody tr th:only-of-type {\n",
              "        vertical-align: middle;\n",
              "    }\n",
              "\n",
              "    .dataframe tbody tr th {\n",
              "        vertical-align: top;\n",
              "    }\n",
              "\n",
              "    .dataframe thead th {\n",
              "        text-align: right;\n",
              "    }\n",
              "</style>\n",
              "<table border=\"1\" class=\"dataframe\">\n",
              "  <thead>\n",
              "    <tr style=\"text-align: right;\">\n",
              "      <th></th>\n",
              "      <th>0</th>\n",
              "      <th>1</th>\n",
              "      <th>2</th>\n",
              "      <th>3</th>\n",
              "      <th>4</th>\n",
              "      <th>5</th>\n",
              "      <th>6</th>\n",
              "      <th>7</th>\n",
              "      <th>8</th>\n",
              "    </tr>\n",
              "  </thead>\n",
              "  <tbody>\n",
              "    <tr>\n",
              "      <th>count</th>\n",
              "      <td>3.0</td>\n",
              "      <td>3.0</td>\n",
              "      <td>3.0</td>\n",
              "      <td>3.0</td>\n",
              "      <td>3.0</td>\n",
              "      <td>3.0</td>\n",
              "      <td>3.0</td>\n",
              "      <td>3.0</td>\n",
              "      <td>3.0</td>\n",
              "    </tr>\n",
              "    <tr>\n",
              "      <th>mean</th>\n",
              "      <td>4.0</td>\n",
              "      <td>5.0</td>\n",
              "      <td>6.0</td>\n",
              "      <td>4.0</td>\n",
              "      <td>5.0</td>\n",
              "      <td>6.0</td>\n",
              "      <td>4.0</td>\n",
              "      <td>5.0</td>\n",
              "      <td>6.0</td>\n",
              "    </tr>\n",
              "    <tr>\n",
              "      <th>std</th>\n",
              "      <td>3.0</td>\n",
              "      <td>3.0</td>\n",
              "      <td>3.0</td>\n",
              "      <td>3.0</td>\n",
              "      <td>3.0</td>\n",
              "      <td>3.0</td>\n",
              "      <td>3.0</td>\n",
              "      <td>3.0</td>\n",
              "      <td>3.0</td>\n",
              "    </tr>\n",
              "    <tr>\n",
              "      <th>min</th>\n",
              "      <td>1.0</td>\n",
              "      <td>2.0</td>\n",
              "      <td>3.0</td>\n",
              "      <td>1.0</td>\n",
              "      <td>2.0</td>\n",
              "      <td>3.0</td>\n",
              "      <td>1.0</td>\n",
              "      <td>2.0</td>\n",
              "      <td>3.0</td>\n",
              "    </tr>\n",
              "    <tr>\n",
              "      <th>25%</th>\n",
              "      <td>2.5</td>\n",
              "      <td>3.5</td>\n",
              "      <td>4.5</td>\n",
              "      <td>2.5</td>\n",
              "      <td>3.5</td>\n",
              "      <td>4.5</td>\n",
              "      <td>2.5</td>\n",
              "      <td>3.5</td>\n",
              "      <td>4.5</td>\n",
              "    </tr>\n",
              "    <tr>\n",
              "      <th>50%</th>\n",
              "      <td>4.0</td>\n",
              "      <td>5.0</td>\n",
              "      <td>6.0</td>\n",
              "      <td>4.0</td>\n",
              "      <td>5.0</td>\n",
              "      <td>6.0</td>\n",
              "      <td>4.0</td>\n",
              "      <td>5.0</td>\n",
              "      <td>6.0</td>\n",
              "    </tr>\n",
              "    <tr>\n",
              "      <th>75%</th>\n",
              "      <td>5.5</td>\n",
              "      <td>6.5</td>\n",
              "      <td>7.5</td>\n",
              "      <td>5.5</td>\n",
              "      <td>6.5</td>\n",
              "      <td>7.5</td>\n",
              "      <td>5.5</td>\n",
              "      <td>6.5</td>\n",
              "      <td>7.5</td>\n",
              "    </tr>\n",
              "    <tr>\n",
              "      <th>max</th>\n",
              "      <td>7.0</td>\n",
              "      <td>8.0</td>\n",
              "      <td>9.0</td>\n",
              "      <td>7.0</td>\n",
              "      <td>8.0</td>\n",
              "      <td>9.0</td>\n",
              "      <td>7.0</td>\n",
              "      <td>8.0</td>\n",
              "      <td>9.0</td>\n",
              "    </tr>\n",
              "  </tbody>\n",
              "</table>\n",
              "</div>"
            ],
            "text/plain": [
              "         0    1    2    3    4    5    6    7    8\n",
              "count  3.0  3.0  3.0  3.0  3.0  3.0  3.0  3.0  3.0\n",
              "mean   4.0  5.0  6.0  4.0  5.0  6.0  4.0  5.0  6.0\n",
              "std    3.0  3.0  3.0  3.0  3.0  3.0  3.0  3.0  3.0\n",
              "min    1.0  2.0  3.0  1.0  2.0  3.0  1.0  2.0  3.0\n",
              "25%    2.5  3.5  4.5  2.5  3.5  4.5  2.5  3.5  4.5\n",
              "50%    4.0  5.0  6.0  4.0  5.0  6.0  4.0  5.0  6.0\n",
              "75%    5.5  6.5  7.5  5.5  6.5  7.5  5.5  6.5  7.5\n",
              "max    7.0  8.0  9.0  7.0  8.0  9.0  7.0  8.0  9.0"
            ]
          },
          "execution_count": 197,
          "metadata": {},
          "output_type": "execute_result"
        }
      ],
      "source": [
        "veri.T.describe()"
      ]
    },
    {
      "cell_type": "code",
      "execution_count": null,
      "id": "0db5d132",
      "metadata": {
        "id": "0db5d132",
        "outputId": "ca12983f-887e-4d46-c8c8-b104f6dba3c5"
      },
      "outputs": [
        {
          "data": {
            "text/html": [
              "<div>\n",
              "<style scoped>\n",
              "    .dataframe tbody tr th:only-of-type {\n",
              "        vertical-align: middle;\n",
              "    }\n",
              "\n",
              "    .dataframe tbody tr th {\n",
              "        vertical-align: top;\n",
              "    }\n",
              "\n",
              "    .dataframe thead th {\n",
              "        text-align: right;\n",
              "    }\n",
              "</style>\n",
              "<table border=\"1\" class=\"dataframe\">\n",
              "  <thead>\n",
              "    <tr style=\"text-align: right;\">\n",
              "      <th></th>\n",
              "      <th>A</th>\n",
              "      <th>B</th>\n",
              "      <th>C</th>\n",
              "    </tr>\n",
              "  </thead>\n",
              "  <tbody>\n",
              "    <tr>\n",
              "      <th>0</th>\n",
              "      <td>1</td>\n",
              "      <td>4</td>\n",
              "      <td>7</td>\n",
              "    </tr>\n",
              "    <tr>\n",
              "      <th>1</th>\n",
              "      <td>2</td>\n",
              "      <td>5</td>\n",
              "      <td>8</td>\n",
              "    </tr>\n",
              "    <tr>\n",
              "      <th>2</th>\n",
              "      <td>3</td>\n",
              "      <td>6</td>\n",
              "      <td>9</td>\n",
              "    </tr>\n",
              "    <tr>\n",
              "      <th>3</th>\n",
              "      <td>4</td>\n",
              "      <td>7</td>\n",
              "      <td>1</td>\n",
              "    </tr>\n",
              "    <tr>\n",
              "      <th>4</th>\n",
              "      <td>5</td>\n",
              "      <td>8</td>\n",
              "      <td>2</td>\n",
              "    </tr>\n",
              "    <tr>\n",
              "      <th>5</th>\n",
              "      <td>6</td>\n",
              "      <td>9</td>\n",
              "      <td>3</td>\n",
              "    </tr>\n",
              "    <tr>\n",
              "      <th>6</th>\n",
              "      <td>7</td>\n",
              "      <td>1</td>\n",
              "      <td>4</td>\n",
              "    </tr>\n",
              "    <tr>\n",
              "      <th>7</th>\n",
              "      <td>8</td>\n",
              "      <td>2</td>\n",
              "      <td>5</td>\n",
              "    </tr>\n",
              "    <tr>\n",
              "      <th>8</th>\n",
              "      <td>9</td>\n",
              "      <td>3</td>\n",
              "      <td>6</td>\n",
              "    </tr>\n",
              "  </tbody>\n",
              "</table>\n",
              "</div>"
            ],
            "text/plain": [
              "   A  B  C\n",
              "0  1  4  7\n",
              "1  2  5  8\n",
              "2  3  6  9\n",
              "3  4  7  1\n",
              "4  5  8  2\n",
              "5  6  9  3\n",
              "6  7  1  4\n",
              "7  8  2  5\n",
              "8  9  3  6"
            ]
          },
          "execution_count": 198,
          "metadata": {},
          "output_type": "execute_result"
        }
      ],
      "source": [
        "veri"
      ]
    },
    {
      "cell_type": "markdown",
      "id": "a171ea7f",
      "metadata": {
        "id": "a171ea7f"
      },
      "source": [
        "## columns foksiyonu\n",
        "* verinin kolonlarını liste olarak döndürür"
      ]
    },
    {
      "cell_type": "code",
      "execution_count": null,
      "id": "3c72e4ed",
      "metadata": {
        "id": "3c72e4ed",
        "outputId": "93939f99-a1ac-407c-bf2b-cc0878fad222"
      },
      "outputs": [
        {
          "data": {
            "text/plain": [
              "Index(['A', 'B', 'C'], dtype='object')"
            ]
          },
          "execution_count": 199,
          "metadata": {},
          "output_type": "execute_result"
        }
      ],
      "source": [
        "veri.columns"
      ]
    },
    {
      "cell_type": "markdown",
      "id": "90b83341",
      "metadata": {
        "id": "90b83341"
      },
      "source": [
        "## to_numpy() fonksiyonu \n",
        "* Veriyi numPy dizisine dönüştürür"
      ]
    },
    {
      "cell_type": "code",
      "execution_count": null,
      "id": "0f9c4963",
      "metadata": {
        "id": "0f9c4963"
      },
      "outputs": [],
      "source": [
        "veri2=veri.to_numpy()"
      ]
    },
    {
      "cell_type": "code",
      "execution_count": null,
      "id": "efb9603f",
      "metadata": {
        "id": "efb9603f",
        "outputId": "b10731e1-2c76-4cd8-909c-87d4b9dcb16e"
      },
      "outputs": [
        {
          "data": {
            "text/plain": [
              "array([[1, 4, 7],\n",
              "       [2, 5, 8],\n",
              "       [3, 6, 9],\n",
              "       [4, 7, 1],\n",
              "       [5, 8, 2],\n",
              "       [6, 9, 3],\n",
              "       [7, 1, 4],\n",
              "       [8, 2, 5],\n",
              "       [9, 3, 6]], dtype=int64)"
            ]
          },
          "execution_count": 201,
          "metadata": {},
          "output_type": "execute_result"
        }
      ],
      "source": [
        "veri2"
      ]
    },
    {
      "cell_type": "code",
      "execution_count": null,
      "id": "2cb4e372",
      "metadata": {
        "id": "2cb4e372",
        "outputId": "2f7e34e3-c191-4ec6-a359-068bfaf8bde7"
      },
      "outputs": [
        {
          "data": {
            "text/plain": [
              "(9, 3)"
            ]
          },
          "execution_count": 202,
          "metadata": {},
          "output_type": "execute_result"
        }
      ],
      "source": [
        "veri2.shape"
      ]
    },
    {
      "cell_type": "code",
      "execution_count": null,
      "id": "4971dadd",
      "metadata": {
        "id": "4971dadd",
        "outputId": "af832502-8d40-4ee8-83ef-d22af25e7279"
      },
      "outputs": [
        {
          "data": {
            "text/plain": [
              "2"
            ]
          },
          "execution_count": 203,
          "metadata": {},
          "output_type": "execute_result"
        }
      ],
      "source": [
        "veri2.ndim"
      ]
    },
    {
      "cell_type": "markdown",
      "id": "19457c3d",
      "metadata": {
        "id": "19457c3d"
      },
      "source": [
        "###  deep copy örneği"
      ]
    },
    {
      "cell_type": "code",
      "execution_count": null,
      "id": "0e223a13",
      "metadata": {
        "id": "0e223a13"
      },
      "outputs": [],
      "source": [
        "x=veri.copy"
      ]
    },
    {
      "cell_type": "code",
      "execution_count": null,
      "id": "ba9bbeaa",
      "metadata": {
        "id": "ba9bbeaa",
        "outputId": "eb8912a1-ffe8-468f-91ab-4464fef2998b"
      },
      "outputs": [
        {
          "data": {
            "text/plain": [
              "<bound method NDFrame.copy of    A  B  C\n",
              "0  1  4  7\n",
              "1  2  5  8\n",
              "2  3  6  9\n",
              "3  4  7  1\n",
              "4  5  8  2\n",
              "5  6  9  3\n",
              "6  7  1  4\n",
              "7  8  2  5\n",
              "8  9  3  6>"
            ]
          },
          "execution_count": 205,
          "metadata": {},
          "output_type": "execute_result"
        }
      ],
      "source": [
        "x"
      ]
    },
    {
      "cell_type": "code",
      "execution_count": null,
      "id": "5f649b2d",
      "metadata": {
        "id": "5f649b2d"
      },
      "outputs": [],
      "source": []
    }
  ],
  "metadata": {
    "kernelspec": {
      "display_name": "Python 3 (ipykernel)",
      "language": "python",
      "name": "python3"
    },
    "language_info": {
      "codemirror_mode": {
        "name": "ipython",
        "version": 3
      },
      "file_extension": ".py",
      "mimetype": "text/x-python",
      "name": "python",
      "nbconvert_exporter": "python",
      "pygments_lexer": "ipython3",
      "version": "3.9.13"
    },
    "colab": {
      "provenance": []
    }
  },
  "nbformat": 4,
  "nbformat_minor": 5
}