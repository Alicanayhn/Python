{
 "cells": [
  {
   "cell_type": "markdown",
   "id": "e4553501",
   "metadata": {},
   "source": [
    "# FONKSİYONLAR"
   ]
  },
  {
   "cell_type": "markdown",
   "id": "513c779a",
   "metadata": {},
   "source": [
    "## Fonksiyonlar programlama dillerinde ne işe yarar?\n",
    "* Bir kodu birden fazla kez yazmamak için kullanılır. Kod tekrarını önler.\n",
    "* Karmaşıklaşan kodlarda hata yapma olasılığı arttığı için tek bir yerde bunu çözmek daha kolaydır.\n",
    "* Birden fazla yerde aynı kod kullanımının olması okunurluğu azaltır.\n",
    "* Bir problemi ayrı ayrı parçalara ayırıp çözmek işimizi kolaylaştırır.\n",
    "* İş paylaşımında da kolaylık sağlar.\n",
    "* Nesneye yönelik programlamada fonksiyonlar önemli bir yere sahiptir."
   ]
  },
  {
   "cell_type": "markdown",
   "id": "f3ff1569",
   "metadata": {},
   "source": [
    "## Fonksiyon Oluşturma\n",
    "* def => burada fonksiyon için kullandığımız keyword\n",
    "* deneme => fonksiyon ismi\n",
    "* (parametre):\n",
    "* a değerini yazdırmak istersek bir çıktı elde edemeyiz. Atama geçerli olur ama a kendi başına yazdırılamaz."
   ]
  },
  {
   "cell_type": "code",
   "execution_count": 9,
   "id": "6eee4c16",
   "metadata": {},
   "outputs": [],
   "source": [
    "def deneme():\n",
    "    \"\"\"docstring fonksiyon için açıklama: Fonksiyonun ne işe yaradığını anlatır.\"\"\"\n",
    "    print(\"deneme\")\n",
    "    print(\"deneme\")\n",
    "    #return None var aslında!"
   ]
  },
  {
   "cell_type": "code",
   "execution_count": 10,
   "id": "d94f75b4",
   "metadata": {},
   "outputs": [
    {
     "name": "stdout",
     "output_type": "stream",
     "text": [
      "deneme\n",
      "deneme\n"
     ]
    }
   ],
   "source": [
    "deneme()"
   ]
  },
  {
   "cell_type": "code",
   "execution_count": 11,
   "id": "62a3849f",
   "metadata": {},
   "outputs": [
    {
     "name": "stdout",
     "output_type": "stream",
     "text": [
      "deneme\n",
      "deneme\n"
     ]
    }
   ],
   "source": [
    "a = deneme()"
   ]
  },
  {
   "cell_type": "code",
   "execution_count": 18,
   "id": "0498b1ef",
   "metadata": {},
   "outputs": [],
   "source": [
    "a"
   ]
  },
  {
   "cell_type": "markdown",
   "id": "3e718384",
   "metadata": {},
   "source": [
    "## NoneType\n",
    "* return değeri olmadığı için a gibi bir değere fonksiyonu atarsak fonksiyonun tipini NoneType olarak görüntüleriz.\n",
    "* Biz return için fonksiyona bir şey yazmasak bile return None değerini otomatik olarak alır."
   ]
  },
  {
   "cell_type": "code",
   "execution_count": 12,
   "id": "fb0ef217",
   "metadata": {},
   "outputs": [
    {
     "data": {
      "text/plain": [
       "NoneType"
      ]
     },
     "execution_count": 12,
     "metadata": {},
     "output_type": "execute_result"
    }
   ],
   "source": [
    "type(a)"
   ]
  },
  {
   "cell_type": "markdown",
   "id": "f4ec9c6e",
   "metadata": {},
   "source": [
    "## Tanımladığımız topla() fonksiyonu:\n",
    "* topla fonksiyonuna girilen her değere koddaki işlem yapılarak sonuç return ettirilir.\n",
    "* topla fonksiyonu girilen string karakterleri de birleştirir.\n",
    "* topla fonksiyonunu istediğimiz yerde kullanabiliyoruz.\n",
    "* math sınıfından math.sqrt() ile karekök alma işlemi yapılarak çıkan değer ile girilen ikinci değer topla fonksiyonu ile toplanır. Sonuç return edilir.\n",
    "* Parametre kısıtlaması yok."
   ]
  },
  {
   "cell_type": "code",
   "execution_count": 99,
   "id": "bcc02339",
   "metadata": {},
   "outputs": [],
   "source": [
    "def topla(x,y):\n",
    "    z = x + y\n",
    "    return z"
   ]
  },
  {
   "cell_type": "code",
   "execution_count": 16,
   "id": "be087828",
   "metadata": {},
   "outputs": [
    {
     "data": {
      "text/plain": [
       "15"
      ]
     },
     "execution_count": 16,
     "metadata": {},
     "output_type": "execute_result"
    }
   ],
   "source": [
    "topla(10,5)"
   ]
  },
  {
   "cell_type": "code",
   "execution_count": 17,
   "id": "01d50455",
   "metadata": {},
   "outputs": [
    {
     "data": {
      "text/plain": [
       "'ab'"
      ]
     },
     "execution_count": 17,
     "metadata": {},
     "output_type": "execute_result"
    }
   ],
   "source": [
    "topla(\"a\",\"b\")"
   ]
  },
  {
   "cell_type": "code",
   "execution_count": 19,
   "id": "adc19dfc",
   "metadata": {},
   "outputs": [
    {
     "name": "stdout",
     "output_type": "stream",
     "text": [
      "deneme 11\n"
     ]
    }
   ],
   "source": [
    "print(\"deneme\", topla(5,6))"
   ]
  },
  {
   "cell_type": "code",
   "execution_count": 23,
   "id": "5581d7f2",
   "metadata": {},
   "outputs": [
    {
     "data": {
      "text/plain": [
       "8.0"
      ]
     },
     "execution_count": 23,
     "metadata": {},
     "output_type": "execute_result"
    }
   ],
   "source": [
    "import math\n",
    "topla(math.sqrt(16),4)"
   ]
  },
  {
   "cell_type": "markdown",
   "id": "4bb939d1",
   "metadata": {},
   "source": [
    "## topla? kullanımı ne işe yarar?\n",
    "* Bu şekilde kodumuzu çalıştırırsak topla fonksiyonunun imzasını görebiliriz."
   ]
  },
  {
   "cell_type": "code",
   "execution_count": 24,
   "id": "417f9b18",
   "metadata": {},
   "outputs": [],
   "source": [
    "topla?"
   ]
  },
  {
   "cell_type": "markdown",
   "id": "1e707f55",
   "metadata": {},
   "source": [
    "## topla?? kullanımı ne işe yarar?\n",
    "* Bu şekilde kodumuzu çalıştırırsak kendi yazdığımız kod olduğu için topla fonksiyonunun kodunu da görebiliriz."
   ]
  },
  {
   "cell_type": "code",
   "execution_count": 25,
   "id": "6726f5c4",
   "metadata": {},
   "outputs": [],
   "source": [
    "topla??"
   ]
  },
  {
   "cell_type": "markdown",
   "id": "85ea1657",
   "metadata": {},
   "source": [
    "## Tanımladığımız us() fonksiyonu:\n",
    "* range(2, y+1) şeklinde tanımlamamamızın sebebi:\n",
    "    * sonuc değerine başta ilk değer olan x'i atadık.\n",
    "    * 2. değerden başlayıp (y+1). değere kadar olan değerleri çarpar.\n",
    "    * (y+1)'e kadar (y+1). değer dahil değildir."
   ]
  },
  {
   "cell_type": "code",
   "execution_count": 26,
   "id": "64d62bfb",
   "metadata": {},
   "outputs": [],
   "source": [
    "def us(x,y):\n",
    "    sonuc = x\n",
    "    for i in range(2, y+1):\n",
    "        sonuc *= x\n",
    "    return sonuc"
   ]
  },
  {
   "cell_type": "code",
   "execution_count": 27,
   "id": "e2c4a291",
   "metadata": {},
   "outputs": [
    {
     "data": {
      "text/plain": [
       "32"
      ]
     },
     "execution_count": 27,
     "metadata": {},
     "output_type": "execute_result"
    }
   ],
   "source": [
    "us(2,5)"
   ]
  },
  {
   "cell_type": "markdown",
   "id": "eca9b85c",
   "metadata": {},
   "source": [
    "## Fonksiyonda parametre sıraları\n",
    "* Fonksiyona gönderdiğimiz parametreler sırayla çıktı verir.\n",
    "* Fonksiyona yerleri farklı bir şekilde parametreleri girersek yine parametreleri fonksiyonda tanımladığımız sırada çıktı olarak verir.\n",
    "* Son parametrede keyword argümanı tanımlanmazsa error ile karşılaşırız.\n",
    "* Veriyi kendi sırasında göndermeliyiz.\n",
    "* İlk girilen parametre kimden olarak kabul eder. Ama devamında kimden = 'parametre' olarak bir giriş yapılınca o sıraya uymadığı için error ile karşılaşılır."
   ]
  },
  {
   "cell_type": "code",
   "execution_count": 28,
   "id": "11b295fa",
   "metadata": {},
   "outputs": [],
   "source": [
    "def gonder(kimden, kime, konu, mesaj):\n",
    "    print(\"Kimden:\",kimden)\n",
    "    print(\"Kime:\",kime)\n",
    "    print(\"Konu:\",konu)\n",
    "    print(\"Mesaj:\",mesaj)"
   ]
  },
  {
   "cell_type": "code",
   "execution_count": 29,
   "id": "840a746f",
   "metadata": {},
   "outputs": [
    {
     "name": "stdout",
     "output_type": "stream",
     "text": [
      "Kimden: deneme@gmail.com\n",
      "Kime: deneme2@gmail.com\n",
      "Konu: ders\n",
      "Mesaj: proje bilgileri\n"
     ]
    }
   ],
   "source": [
    "gonder('deneme@gmail.com', 'deneme2@gmail.com','ders','proje bilgileri')"
   ]
  },
  {
   "cell_type": "code",
   "execution_count": 32,
   "id": "59ffc6bc",
   "metadata": {},
   "outputs": [
    {
     "name": "stdout",
     "output_type": "stream",
     "text": [
      "Kimden: deneme@gmail.com\n",
      "Kime: deneme2@gmail.com\n",
      "Konu: ders\n",
      "Mesaj: proje bilgileri\n"
     ]
    }
   ],
   "source": [
    "gonder(konu= 'ders',mesaj = 'proje bilgileri',kimden = 'deneme@gmail.com',kime = 'deneme2@gmail.com')"
   ]
  },
  {
   "cell_type": "code",
   "execution_count": 33,
   "id": "69c75e68",
   "metadata": {},
   "outputs": [
    {
     "ename": "SyntaxError",
     "evalue": "positional argument follows keyword argument (2791227459.py, line 1)",
     "output_type": "error",
     "traceback": [
      "\u001b[1;36m  File \u001b[1;32m\"C:\\Users\\user\\AppData\\Local\\Temp\\ipykernel_4260\\2791227459.py\"\u001b[1;36m, line \u001b[1;32m1\u001b[0m\n\u001b[1;33m    gonder(konu='deneme@gmail.com',mesaj = 'deneme2@gmail.com',kimden = 'ders','proje bilgileri')\u001b[0m\n\u001b[1;37m                                                                                                ^\u001b[0m\n\u001b[1;31mSyntaxError\u001b[0m\u001b[1;31m:\u001b[0m positional argument follows keyword argument\n"
     ]
    }
   ],
   "source": [
    "gonder(konu='deneme@gmail.com',mesaj = 'deneme2@gmail.com',kimden = 'ders','proje bilgileri')"
   ]
  },
  {
   "cell_type": "code",
   "execution_count": 34,
   "id": "7f2e8978",
   "metadata": {},
   "outputs": [
    {
     "ename": "TypeError",
     "evalue": "gonder() got multiple values for argument 'kimden'",
     "output_type": "error",
     "traceback": [
      "\u001b[1;31m---------------------------------------------------------------------------\u001b[0m",
      "\u001b[1;31mTypeError\u001b[0m                                 Traceback (most recent call last)",
      "\u001b[1;32m~\\AppData\\Local\\Temp\\ipykernel_4260\\2424375151.py\u001b[0m in \u001b[0;36m<module>\u001b[1;34m\u001b[0m\n\u001b[1;32m----> 1\u001b[1;33m \u001b[0mgonder\u001b[0m\u001b[1;33m(\u001b[0m\u001b[1;34m'deneme@gmail.com'\u001b[0m\u001b[1;33m,\u001b[0m\u001b[0mkime\u001b[0m \u001b[1;33m=\u001b[0m \u001b[1;34m'deneme2@gmail.com'\u001b[0m\u001b[1;33m,\u001b[0m\u001b[0mkimden\u001b[0m \u001b[1;33m=\u001b[0m \u001b[1;34m'ders'\u001b[0m\u001b[1;33m,\u001b[0m \u001b[0mkonu\u001b[0m \u001b[1;33m=\u001b[0m \u001b[1;34m'proje bilgileri'\u001b[0m\u001b[1;33m)\u001b[0m\u001b[1;33m\u001b[0m\u001b[1;33m\u001b[0m\u001b[0m\n\u001b[0m",
      "\u001b[1;31mTypeError\u001b[0m: gonder() got multiple values for argument 'kimden'"
     ]
    }
   ],
   "source": [
    "gonder('deneme@gmail.com',kime = 'deneme2@gmail.com',kimden = 'ders', konu = 'proje bilgileri')"
   ]
  },
  {
   "cell_type": "markdown",
   "id": "7c6909f3",
   "metadata": {},
   "source": [
    "## Tanımladığımız soruUret() fonksiyonu:\n",
    "* soruUret fonksiyonunda (soru, cevap=3) \n",
    "    * soru: sorulan sorudur.  \n",
    "    * cevap=3: cevabın kaç defa kullanıcıdan alınacağını belirtir.\n",
    "* İkinci değer girildiği takdirde kodda ikinci değer için tanımlananın yerine soruyu kullanıcıya girdiği değer kadar sorar."
   ]
  },
  {
   "cell_type": "code",
   "execution_count": 35,
   "id": "de79ab77",
   "metadata": {},
   "outputs": [],
   "source": [
    "def soruUret(soru,cevap=3):\n",
    "    while cevap>0:\n",
    "        x = int(input(\"\"))\n",
    "        if x =='1234':\n",
    "            return True\n",
    "        cevap-=1\n",
    "    return False"
   ]
  },
  {
   "cell_type": "code",
   "execution_count": 39,
   "id": "88ec7672",
   "metadata": {
    "scrolled": true
   },
   "outputs": [
    {
     "name": "stdout",
     "output_type": "stream",
     "text": [
      "12\n",
      "85\n",
      "67\n"
     ]
    },
    {
     "data": {
      "text/plain": [
       "False"
      ]
     },
     "execution_count": 39,
     "metadata": {},
     "output_type": "execute_result"
    }
   ],
   "source": [
    "soruUret(\"deneme\")"
   ]
  },
  {
   "cell_type": "code",
   "execution_count": 40,
   "id": "65bb4212",
   "metadata": {},
   "outputs": [
    {
     "name": "stdout",
     "output_type": "stream",
     "text": [
      "12\n",
      "54\n",
      "98\n",
      "10596\n",
      "179\n"
     ]
    },
    {
     "data": {
      "text/plain": [
       "False"
      ]
     },
     "execution_count": 40,
     "metadata": {},
     "output_type": "execute_result"
    }
   ],
   "source": [
    "soruUret(\"deneme\",5)"
   ]
  },
  {
   "cell_type": "markdown",
   "id": "705083ba",
   "metadata": {},
   "source": [
    "## Fonksiyonda parametrelere değer atama\n",
    "* Eğer fonksiyonda bir parametre için değer belirtimemişse fonksiyona hiç değer göndermeden çalıştıramayız. \n",
    "* Sadece bir parametre için değer belirtilmemişse tek parametre ile çalıştırabiliriz. Girilen değeri o parametreye atar.\n",
    "* Eğer bir parametre için değer belirtilmemişse iki parametre ile çalıştırabiliriz. İlk değeri, değeri belirtilmeyen parametreye  ikinci değeri de ikinci parametredeki değeri silerek onun yerine atar.\n",
    "* Eğer bir parametre için değer belirtilmemişse üç parametre ile çalıştırabiliriz. İlk değeri, değeri belirtilmeyen parametreye ikinci değeri ikinci parametredeki değeri silerek onun yerine atar, üçüncü değeri de üçüncü parametredeki değeri silerek onun yerine atar.\n",
    "* Fonksiyon kaç parametreli tanımlandıysa daha fazla parametre değeri ile çalıştıramayız."
   ]
  },
  {
   "cell_type": "code",
   "execution_count": 41,
   "id": "3408ce21",
   "metadata": {},
   "outputs": [],
   "source": [
    "def f(a,b=2,c=10):\n",
    "    print(a,b,c)"
   ]
  },
  {
   "cell_type": "code",
   "execution_count": 42,
   "id": "62ed79df",
   "metadata": {},
   "outputs": [
    {
     "ename": "TypeError",
     "evalue": "f() missing 1 required positional argument: 'a'",
     "output_type": "error",
     "traceback": [
      "\u001b[1;31m---------------------------------------------------------------------------\u001b[0m",
      "\u001b[1;31mTypeError\u001b[0m                                 Traceback (most recent call last)",
      "\u001b[1;32m~\\AppData\\Local\\Temp\\ipykernel_4260\\3782956317.py\u001b[0m in \u001b[0;36m<module>\u001b[1;34m\u001b[0m\n\u001b[1;32m----> 1\u001b[1;33m \u001b[0mf\u001b[0m\u001b[1;33m(\u001b[0m\u001b[1;33m)\u001b[0m\u001b[1;33m\u001b[0m\u001b[1;33m\u001b[0m\u001b[0m\n\u001b[0m",
      "\u001b[1;31mTypeError\u001b[0m: f() missing 1 required positional argument: 'a'"
     ]
    }
   ],
   "source": [
    "f()"
   ]
  },
  {
   "cell_type": "code",
   "execution_count": 43,
   "id": "532c9111",
   "metadata": {},
   "outputs": [
    {
     "name": "stdout",
     "output_type": "stream",
     "text": [
      "5 2 10\n"
     ]
    }
   ],
   "source": [
    "f(5)"
   ]
  },
  {
   "cell_type": "code",
   "execution_count": 45,
   "id": "0b335b0e",
   "metadata": {},
   "outputs": [
    {
     "name": "stdout",
     "output_type": "stream",
     "text": [
      "5 7 10\n"
     ]
    }
   ],
   "source": [
    "f(5,7)"
   ]
  },
  {
   "cell_type": "code",
   "execution_count": 47,
   "id": "56f248ab",
   "metadata": {},
   "outputs": [
    {
     "name": "stdout",
     "output_type": "stream",
     "text": [
      "5 7 9\n"
     ]
    }
   ],
   "source": [
    "f(5,7,9)"
   ]
  },
  {
   "cell_type": "code",
   "execution_count": 48,
   "id": "cdc188f1",
   "metadata": {},
   "outputs": [
    {
     "ename": "TypeError",
     "evalue": "f() takes from 1 to 3 positional arguments but 4 were given",
     "output_type": "error",
     "traceback": [
      "\u001b[1;31m---------------------------------------------------------------------------\u001b[0m",
      "\u001b[1;31mTypeError\u001b[0m                                 Traceback (most recent call last)",
      "\u001b[1;32m~\\AppData\\Local\\Temp\\ipykernel_4260\\2738637812.py\u001b[0m in \u001b[0;36m<module>\u001b[1;34m\u001b[0m\n\u001b[1;32m----> 1\u001b[1;33m \u001b[0mf\u001b[0m\u001b[1;33m(\u001b[0m\u001b[1;36m5\u001b[0m\u001b[1;33m,\u001b[0m\u001b[1;36m7\u001b[0m\u001b[1;33m,\u001b[0m\u001b[1;36m9\u001b[0m\u001b[1;33m,\u001b[0m\u001b[1;36m12\u001b[0m\u001b[1;33m)\u001b[0m\u001b[1;33m\u001b[0m\u001b[1;33m\u001b[0m\u001b[0m\n\u001b[0m",
      "\u001b[1;31mTypeError\u001b[0m: f() takes from 1 to 3 positional arguments but 4 were given"
     ]
    }
   ],
   "source": [
    "f(5,7,9,12)"
   ]
  },
  {
   "cell_type": "markdown",
   "id": "00414c68",
   "metadata": {},
   "source": [
    "## generic fonksiyonlar:\n",
    "* Yazmış olduğumuz sınıfların, fonksiyonların vb. belli bir türe göre değil, her türe göre çalışmasını sağlamaktadır.\n",
    "* Örneğin; sum, len, int gibi fonksiyonlar"
   ]
  },
  {
   "cell_type": "markdown",
   "id": "73387ebc",
   "metadata": {},
   "source": [
    "## max(), min() ve sum() Fonksiyonları\n",
    "* max() fonksiyonu, girilen değerlerin en büyüğünü döndürür.\n",
    "* min() fonksiyonu, girilen değerlerin en küçüğünü döndürür.\n",
    "* sum() fonksiyonu, girilen değerlerin toplamını döndürür.\n",
    "    * max'a string değerler verdiğimizde en büyük karakteri verir. Her karakterin ASCII karşılığı vardır ve buna göre en büyük değeri döndürür.\n",
    "    * Birden fazla string değeri max'a verdiğimizde onların arasından en büyük olanı döndürür. Yine ASCII'ye göre karşılaştırır."
   ]
  },
  {
   "cell_type": "code",
   "execution_count": 49,
   "id": "1c833c10",
   "metadata": {},
   "outputs": [
    {
     "data": {
      "text/plain": [
       "9"
      ]
     },
     "execution_count": 49,
     "metadata": {},
     "output_type": "execute_result"
    }
   ],
   "source": [
    "max(4,5,6,8,9,7)"
   ]
  },
  {
   "cell_type": "code",
   "execution_count": 50,
   "id": "083576de",
   "metadata": {},
   "outputs": [
    {
     "data": {
      "text/plain": [
       "'n'"
      ]
     },
     "execution_count": 50,
     "metadata": {},
     "output_type": "execute_result"
    }
   ],
   "source": [
    "max(\"deneme\")"
   ]
  },
  {
   "cell_type": "code",
   "execution_count": 51,
   "id": "7a7c85b7",
   "metadata": {},
   "outputs": [
    {
     "data": {
      "text/plain": [
       "'f'"
      ]
     },
     "execution_count": 51,
     "metadata": {},
     "output_type": "execute_result"
    }
   ],
   "source": [
    "max('a','f','def')"
   ]
  },
  {
   "cell_type": "markdown",
   "id": "a95c3f0e",
   "metadata": {},
   "source": [
    "## Tanımladığımız topla2() fonksiyonumuz:\n",
    "* topla2() fonksiyonumuz *x şeklinde tanımlandığı için topla() fonksiyonumuzdaki gibi sadece tanımlanan parametre kadar değeri değil girilen değerlerin hepsi ile toplama işlemi yapar. \n",
    "* topla2() aslında rastgele parametre alabilen argümandır.\n",
    "* topla2(*x) burada * operatörü gereklidir.\n",
    "* topla2() birçok parametre ile çalıştırılabilir. Hata vermez. Çünkü generic bir durum söz konusudur.\n",
    "* topla2()'de değer girilmezse boş olarak yazdırır. Toplam da 0 olur.\n",
    "* topla2()'de bir değer girilirse o sayı yazdırılır. Toplam da kendisine eşittir.\n",
    "* topla2()'de iki değer girilirse o sayılar yazdırılır. Toplam da ikisinin toplamına eşittir.\n",
    "* topla2()'de üç değer girilirse o sayılar yazdırılır. Toplam da üçünün toplamına eşittir."
   ]
  },
  {
   "cell_type": "code",
   "execution_count": 53,
   "id": "7a0adb78",
   "metadata": {},
   "outputs": [],
   "source": [
    "def topla2(*x):\n",
    "    print(x)\n",
    "    toplam = 0\n",
    "    for i in x:\n",
    "        toplam += i\n",
    "    return toplam"
   ]
  },
  {
   "cell_type": "code",
   "execution_count": 54,
   "id": "d5bf907c",
   "metadata": {},
   "outputs": [
    {
     "name": "stdout",
     "output_type": "stream",
     "text": [
      "()\n"
     ]
    },
    {
     "data": {
      "text/plain": [
       "0"
      ]
     },
     "execution_count": 54,
     "metadata": {},
     "output_type": "execute_result"
    }
   ],
   "source": [
    "topla2()"
   ]
  },
  {
   "cell_type": "code",
   "execution_count": 55,
   "id": "3cb459d1",
   "metadata": {},
   "outputs": [
    {
     "name": "stdout",
     "output_type": "stream",
     "text": [
      "(1,)\n"
     ]
    },
    {
     "data": {
      "text/plain": [
       "1"
      ]
     },
     "execution_count": 55,
     "metadata": {},
     "output_type": "execute_result"
    }
   ],
   "source": [
    "topla2(1)"
   ]
  },
  {
   "cell_type": "code",
   "execution_count": 56,
   "id": "590e5319",
   "metadata": {},
   "outputs": [
    {
     "name": "stdout",
     "output_type": "stream",
     "text": [
      "(1, 2)\n"
     ]
    },
    {
     "data": {
      "text/plain": [
       "3"
      ]
     },
     "execution_count": 56,
     "metadata": {},
     "output_type": "execute_result"
    }
   ],
   "source": [
    "topla2(1,2)"
   ]
  },
  {
   "cell_type": "code",
   "execution_count": 58,
   "id": "ceef44c9",
   "metadata": {},
   "outputs": [
    {
     "name": "stdout",
     "output_type": "stream",
     "text": [
      "(1, 2, 7)\n"
     ]
    },
    {
     "data": {
      "text/plain": [
       "10"
      ]
     },
     "execution_count": 58,
     "metadata": {},
     "output_type": "execute_result"
    }
   ],
   "source": [
    "topla2(1,2,7)"
   ]
  },
  {
   "cell_type": "code",
   "execution_count": 59,
   "id": "72bee7b4",
   "metadata": {},
   "outputs": [
    {
     "name": "stdout",
     "output_type": "stream",
     "text": [
      "(1, 2, 7, 7, 9, 6, 45)\n"
     ]
    },
    {
     "data": {
      "text/plain": [
       "77"
      ]
     },
     "execution_count": 59,
     "metadata": {},
     "output_type": "execute_result"
    }
   ],
   "source": [
    "topla2(1,2,7,7,9,6,45)"
   ]
  },
  {
   "cell_type": "code",
   "execution_count": 61,
   "id": "21a0f183",
   "metadata": {},
   "outputs": [
    {
     "name": "stdout",
     "output_type": "stream",
     "text": [
      "(0, 1, 2, 3, 4, 5, 6, 7, 8, 9)\n"
     ]
    },
    {
     "data": {
      "text/plain": [
       "45"
      ]
     },
     "execution_count": 61,
     "metadata": {},
     "output_type": "execute_result"
    }
   ],
   "source": [
    "l = [i for i in range(10)]\n",
    "topla2(*l)"
   ]
  },
  {
   "cell_type": "markdown",
   "id": "82c82000",
   "metadata": {},
   "source": [
    "## for döngüsü içinde iterasyon kullanımı:\n",
    "* for döngüsü içinde bir iterasyon kullanılmadığı takdirde error verir.\n",
    "* iterasyon bir sayı girilirse sayıdaki rakamlar kadar fonksiyon çalışır.\n",
    "    * Örneğin; '100' şeklinde iterasyonda, 100 sayısında 3 rakam yan yana olduğu için 3 kere çalışır.\n",
    "* for dögüsü içinde liste de kullanılabilir, tanımlı listedeki eleman sayısı kadar fonksiyon çalışır."
   ]
  },
  {
   "cell_type": "code",
   "execution_count": 65,
   "id": "8e0538c4",
   "metadata": {},
   "outputs": [
    {
     "ename": "TypeError",
     "evalue": "'int' object is not iterable",
     "output_type": "error",
     "traceback": [
      "\u001b[1;31m---------------------------------------------------------------------------\u001b[0m",
      "\u001b[1;31mTypeError\u001b[0m                                 Traceback (most recent call last)",
      "\u001b[1;32m~\\AppData\\Local\\Temp\\ipykernel_4260\\2736345579.py\u001b[0m in \u001b[0;36m<module>\u001b[1;34m\u001b[0m\n\u001b[1;32m----> 1\u001b[1;33m \u001b[1;32mfor\u001b[0m \u001b[0mi\u001b[0m \u001b[1;32min\u001b[0m \u001b[1;36m100\u001b[0m\u001b[1;33m:\u001b[0m\u001b[1;33m\u001b[0m\u001b[1;33m\u001b[0m\u001b[0m\n\u001b[0m\u001b[0;32m      2\u001b[0m     \u001b[0mprint\u001b[0m\u001b[1;33m(\u001b[0m\u001b[1;34m\"deneme\"\u001b[0m\u001b[1;33m)\u001b[0m\u001b[1;33m\u001b[0m\u001b[1;33m\u001b[0m\u001b[0m\n",
      "\u001b[1;31mTypeError\u001b[0m: 'int' object is not iterable"
     ]
    }
   ],
   "source": [
    "for i in 100:\n",
    "    print(\"deneme\")"
   ]
  },
  {
   "cell_type": "code",
   "execution_count": 66,
   "id": "60534953",
   "metadata": {},
   "outputs": [
    {
     "name": "stdout",
     "output_type": "stream",
     "text": [
      "deneme\n",
      "deneme\n",
      "deneme\n"
     ]
    }
   ],
   "source": [
    "for i in \"100\":\n",
    "    print(\"deneme\")"
   ]
  },
  {
   "cell_type": "code",
   "execution_count": 68,
   "id": "3afe08d8",
   "metadata": {},
   "outputs": [
    {
     "name": "stdout",
     "output_type": "stream",
     "text": [
      "deneme\n",
      "deneme\n",
      "deneme\n",
      "deneme\n",
      "deneme\n",
      "deneme\n",
      "deneme\n",
      "deneme\n",
      "deneme\n",
      "deneme\n"
     ]
    }
   ],
   "source": [
    "for i in l:\n",
    "    print(\"deneme\")"
   ]
  },
  {
   "cell_type": "code",
   "execution_count": 69,
   "id": "2b01f436",
   "metadata": {
    "scrolled": true
   },
   "outputs": [
    {
     "name": "stdout",
     "output_type": "stream",
     "text": [
      "(0, 1, 2, 3, 4, 5, 6, 7, 8, 9)\n"
     ]
    },
    {
     "data": {
      "text/plain": [
       "45"
      ]
     },
     "execution_count": 69,
     "metadata": {},
     "output_type": "execute_result"
    }
   ],
   "source": [
    "l = [i for i in range(10)]\n",
    "topla2(*l)"
   ]
  },
  {
   "cell_type": "markdown",
   "id": "4b8c49fd",
   "metadata": {},
   "source": [
    "* topla(*l) olarak l bir liste kendisi bir iterasyon tekrardan iterasyona dönüştürme demek için * işareti kullanılır."
   ]
  },
  {
   "cell_type": "markdown",
   "id": "15644188",
   "metadata": {},
   "source": [
    "## Tanımladığımız islem1() fonksiyonumuz:\n",
    "* Genelde fonksiyon parametrelerinde * operatörü kullanılıcaksa sona konulması tavsiye edilir.\n",
    "* Girilen değerler operatöre göre işlem yapılır."
   ]
  },
  {
   "cell_type": "code",
   "execution_count": 2,
   "id": "c843d2e2",
   "metadata": {},
   "outputs": [],
   "source": [
    "def islem1(operator,*operand):\n",
    "    print(operand)\n",
    "    if operator == '+':\n",
    "        sonuc = 0\n",
    "        for i in operand:\n",
    "            sonuc += i\n",
    "    elif operator == '*':\n",
    "        sonuc = 1\n",
    "        for i in operand:\n",
    "            sonuc *= i\n",
    "    return sonuc"
   ]
  },
  {
   "cell_type": "code",
   "execution_count": 3,
   "id": "29a47dfe",
   "metadata": {},
   "outputs": [
    {
     "name": "stdout",
     "output_type": "stream",
     "text": [
      "(10, 2, 15)\n"
     ]
    },
    {
     "data": {
      "text/plain": [
       "27"
      ]
     },
     "execution_count": 3,
     "metadata": {},
     "output_type": "execute_result"
    }
   ],
   "source": [
    "islem1('+',10,2,15)"
   ]
  },
  {
   "cell_type": "markdown",
   "id": "ab941d21",
   "metadata": {},
   "source": [
    "## Tanımladığımız islem2() fonksiyonumuz:\n",
    "* x = 10 atanır.\n",
    "* y = 20 atanır.\n",
    "* z = 30 atanır.\n",
    "* d = 40 atanır.\n",
    "**e ise sonrasında girilen tüm değerlerdir. print(e) olarak yazdırdığımız için *e'deki değerler çıktı olarak alınır."
   ]
  },
  {
   "cell_type": "code",
   "execution_count": 78,
   "id": "9f087093",
   "metadata": {},
   "outputs": [],
   "source": [
    "def islem2(x,y,z,d,*e):\n",
    "    print(e)"
   ]
  },
  {
   "cell_type": "code",
   "execution_count": 79,
   "id": "2c331b0f",
   "metadata": {},
   "outputs": [
    {
     "name": "stdout",
     "output_type": "stream",
     "text": [
      "(10, 2, 0, 2, 5, 6, 4, 8, 5, 6)\n"
     ]
    }
   ],
   "source": [
    "islem2(10,20,30,40,10,2,0,2,5,6,4,8,5,6)"
   ]
  },
  {
   "cell_type": "markdown",
   "id": "d33755ca",
   "metadata": {},
   "source": [
    "## Tanımladığımız fonk() fonksiyonumuz:\n",
    "* fonk()'da ve topla2()'de de hata vermiyor çünkü ikisi de farklı veri tipi döndürüyor. \n",
    "* {} Python'da dictionary (sözlük) veri tipi, () Python'da tupple (demet) veri tipidir.\n",
    "* topla2() bir değerle de iki değerle de çalışır.\n",
    "* Fakat fonk() bir değerle de iki değerle de çalışmaz.\n",
    "* fonk() sözlük veri tipi yapısında çaılştığı için a = 5 gibi bir atama yapmak gereklidir."
   ]
  },
  {
   "cell_type": "code",
   "execution_count": 80,
   "id": "e2c3366e",
   "metadata": {},
   "outputs": [],
   "source": [
    "def fonk(**kw):\n",
    "    print(kw)"
   ]
  },
  {
   "cell_type": "code",
   "execution_count": 81,
   "id": "8767e34c",
   "metadata": {},
   "outputs": [
    {
     "name": "stdout",
     "output_type": "stream",
     "text": [
      "{}\n"
     ]
    }
   ],
   "source": [
    "fonk()"
   ]
  },
  {
   "cell_type": "code",
   "execution_count": 82,
   "id": "d3c3471a",
   "metadata": {},
   "outputs": [
    {
     "name": "stdout",
     "output_type": "stream",
     "text": [
      "()\n"
     ]
    },
    {
     "data": {
      "text/plain": [
       "0"
      ]
     },
     "execution_count": 82,
     "metadata": {},
     "output_type": "execute_result"
    }
   ],
   "source": [
    "topla2()"
   ]
  },
  {
   "cell_type": "code",
   "execution_count": 83,
   "id": "9c78752a",
   "metadata": {},
   "outputs": [
    {
     "name": "stdout",
     "output_type": "stream",
     "text": [
      "(5,)\n"
     ]
    },
    {
     "data": {
      "text/plain": [
       "5"
      ]
     },
     "execution_count": 83,
     "metadata": {},
     "output_type": "execute_result"
    }
   ],
   "source": [
    "topla2(5)"
   ]
  },
  {
   "cell_type": "code",
   "execution_count": 84,
   "id": "44a41385",
   "metadata": {},
   "outputs": [
    {
     "name": "stdout",
     "output_type": "stream",
     "text": [
      "(5, 2)\n"
     ]
    },
    {
     "data": {
      "text/plain": [
       "7"
      ]
     },
     "execution_count": 84,
     "metadata": {},
     "output_type": "execute_result"
    }
   ],
   "source": [
    "topla2(5,2)"
   ]
  },
  {
   "cell_type": "code",
   "execution_count": 85,
   "id": "cf3c7225",
   "metadata": {},
   "outputs": [
    {
     "ename": "TypeError",
     "evalue": "fonk() takes 0 positional arguments but 1 was given",
     "output_type": "error",
     "traceback": [
      "\u001b[1;31m---------------------------------------------------------------------------\u001b[0m",
      "\u001b[1;31mTypeError\u001b[0m                                 Traceback (most recent call last)",
      "\u001b[1;32m~\\AppData\\Local\\Temp\\ipykernel_4260\\347569807.py\u001b[0m in \u001b[0;36m<module>\u001b[1;34m\u001b[0m\n\u001b[1;32m----> 1\u001b[1;33m \u001b[0mfonk\u001b[0m\u001b[1;33m(\u001b[0m\u001b[1;36m5\u001b[0m\u001b[1;33m)\u001b[0m\u001b[1;33m\u001b[0m\u001b[1;33m\u001b[0m\u001b[0m\n\u001b[0m",
      "\u001b[1;31mTypeError\u001b[0m: fonk() takes 0 positional arguments but 1 was given"
     ]
    }
   ],
   "source": [
    "fonk(5)"
   ]
  },
  {
   "cell_type": "code",
   "execution_count": 86,
   "id": "6b083160",
   "metadata": {
    "scrolled": true
   },
   "outputs": [
    {
     "ename": "TypeError",
     "evalue": "fonk() takes 0 positional arguments but 2 were given",
     "output_type": "error",
     "traceback": [
      "\u001b[1;31m---------------------------------------------------------------------------\u001b[0m",
      "\u001b[1;31mTypeError\u001b[0m                                 Traceback (most recent call last)",
      "\u001b[1;32m~\\AppData\\Local\\Temp\\ipykernel_4260\\1348281208.py\u001b[0m in \u001b[0;36m<module>\u001b[1;34m\u001b[0m\n\u001b[1;32m----> 1\u001b[1;33m \u001b[0mfonk\u001b[0m\u001b[1;33m(\u001b[0m\u001b[1;36m5\u001b[0m\u001b[1;33m,\u001b[0m\u001b[1;36m2\u001b[0m\u001b[1;33m)\u001b[0m\u001b[1;33m\u001b[0m\u001b[1;33m\u001b[0m\u001b[0m\n\u001b[0m",
      "\u001b[1;31mTypeError\u001b[0m: fonk() takes 0 positional arguments but 2 were given"
     ]
    }
   ],
   "source": [
    "fonk(5,2)"
   ]
  },
  {
   "cell_type": "code",
   "execution_count": 87,
   "id": "0281e74c",
   "metadata": {},
   "outputs": [
    {
     "name": "stdout",
     "output_type": "stream",
     "text": [
      "{'a': 5, 'b': 'w'}\n"
     ]
    }
   ],
   "source": [
    "fonk(a=5, b='w')"
   ]
  },
  {
   "cell_type": "markdown",
   "id": "a8169239",
   "metadata": {},
   "source": [
    "### ÖRNEK BİR SORU:\n",
    "Aşağıdaki kodun;\n",
    "\n",
    "a) g(2) için,\n",
    "\n",
    "b) g(2,3) için,\n",
    "\n",
    "c) g(2,3,4,5,6,7) için,\n",
    "\n",
    "d) g(2,3,4,5,6,7, a = 10, b='20') için\n",
    "\n",
    "çıktıları ne olur?"
   ]
  },
  {
   "cell_type": "code",
   "execution_count": 90,
   "id": "0c90d74b",
   "metadata": {},
   "outputs": [],
   "source": [
    "def g(x ,y = 0, *a, **b):\n",
    "    print(x)\n",
    "    print(y)\n",
    "    print(a)\n",
    "    print(b)"
   ]
  },
  {
   "cell_type": "code",
   "execution_count": 91,
   "id": "3c21216f",
   "metadata": {},
   "outputs": [
    {
     "name": "stdout",
     "output_type": "stream",
     "text": [
      "2\n",
      "0\n",
      "()\n",
      "{}\n"
     ]
    }
   ],
   "source": [
    "g(2)"
   ]
  },
  {
   "cell_type": "code",
   "execution_count": 92,
   "id": "28066082",
   "metadata": {},
   "outputs": [
    {
     "name": "stdout",
     "output_type": "stream",
     "text": [
      "2\n",
      "3\n",
      "()\n",
      "{}\n"
     ]
    }
   ],
   "source": [
    "g(2,3)"
   ]
  },
  {
   "cell_type": "code",
   "execution_count": 94,
   "id": "2dc4381c",
   "metadata": {},
   "outputs": [
    {
     "name": "stdout",
     "output_type": "stream",
     "text": [
      "2\n",
      "3\n",
      "(4, 5, 6, 7)\n",
      "{}\n"
     ]
    }
   ],
   "source": [
    "g(2,3,4,5,6,7)"
   ]
  },
  {
   "cell_type": "code",
   "execution_count": 96,
   "id": "72e9a257",
   "metadata": {},
   "outputs": [
    {
     "name": "stdout",
     "output_type": "stream",
     "text": [
      "2\n",
      "3\n",
      "(4, 5, 6, 7)\n",
      "{'a': 10, 'b': '20'}\n"
     ]
    }
   ],
   "source": [
    "g(2,3,4,5,6,7, a = 10, b = '20')"
   ]
  },
  {
   "cell_type": "code",
   "execution_count": 100,
   "id": "d490181a",
   "metadata": {},
   "outputs": [
    {
     "data": {
      "text/plain": [
       "12"
      ]
     },
     "execution_count": 100,
     "metadata": {},
     "output_type": "execute_result"
    }
   ],
   "source": [
    "topla(5,7)"
   ]
  },
  {
   "cell_type": "markdown",
   "id": "2d7304b4",
   "metadata": {},
   "source": [
    "### Örnek Sorunun Çözümü:\n",
    "* a) g(2) için x'e 2 değeri atanır, y = 0 olarak belirtilmişti, diğerlerinin çıktıları da sırayla () ve {} dir.\n",
    "* b) g(2,3) için x'e 2 değeri atanır, y'ye 3 değeri atanır, (y için 0 değeri ortadan kalkar) diğerlerinin çıktıları da yine sırayla () ve {} dir.\n",
    "* c) g(2,3,4,5,6,7) için x'e 2 değeri atanır, y'ye 3 değeri atanır, (y için 0 değeri ortadan kalkar) diğer girilen 4,5,6,7 sayıları (4,5,6,7) şeklinde yazılır, {} yine boş olarak çıktı oluşur.\n",
    "* d) g(2,3,4,5,6,7, a = 10, b = '20' ) için x'e 2 değeri atanır, y'ye 3 değeri atanır, (y için 0 değeri ortadan kalkar) diğer girilen 4,5,6,7 sayıları (4,5,6,7) şeklinde yazılır, a = 10 ve b = '20' ataması {} içine yazılır çünkü sözlük veri yapısı tipindedir. "
   ]
  },
  {
   "cell_type": "markdown",
   "id": "3aae77df",
   "metadata": {},
   "source": [
    "## Bir fonksiyonunun iki farklı şekilde tanımlanması sonucunda ne olur?\n",
    "* Python 2. deklarasyonda 1. deklarasyonu override etmiş olur. İlk deklarasyon kullanılmaz hale gelir.\n",
    "* Arka tarafta ilk fonksiyon garbage collector tarafından silinir.\n",
    "* topla() fonksiyonunda olduğu gibi."
   ]
  },
  {
   "cell_type": "code",
   "execution_count": 101,
   "id": "53d624cb",
   "metadata": {},
   "outputs": [],
   "source": [
    "def topla(x):\n",
    "    return x+x"
   ]
  },
  {
   "cell_type": "code",
   "execution_count": 102,
   "id": "5e2aceed",
   "metadata": {},
   "outputs": [
    {
     "data": {
      "text/plain": [
       "10"
      ]
     },
     "execution_count": 102,
     "metadata": {},
     "output_type": "execute_result"
    }
   ],
   "source": [
    "topla(5)"
   ]
  },
  {
   "cell_type": "markdown",
   "id": "5be54875",
   "metadata": {},
   "source": [
    "## Özyinelemeli (Recursive) Fonksiyon:\n",
    "* Kendi kendini çağıran fonksiyonlara Özyinelemeli (Recursive) Fonksiyonlar denilir. \n",
    "* Özyinelemeli fonksiyonlar, ileri bilgisayar uygulamalarında çok kullanılır. \n",
    "* Bilgisayar biliminin zor sayılan konularından birisidir. Çoğunlukla, döngülerle çözülebilen problemler, özyinelemeli fonksiyonlarla çok daha kolay olarak çözülebilir.\n",
    "* Biz de recursive şeklinde faktöriyel fonksiyonu tanımladık."
   ]
  },
  {
   "cell_type": "code",
   "execution_count": 103,
   "id": "3cabe6e0",
   "metadata": {},
   "outputs": [],
   "source": [
    "def fak(x):\n",
    "    sonuc = 1\n",
    "    if x == 0: #basecase\n",
    "        return 1\n",
    "    return x*fak(x-1)"
   ]
  },
  {
   "cell_type": "code",
   "execution_count": 105,
   "id": "6606380d",
   "metadata": {},
   "outputs": [
    {
     "data": {
      "text/plain": [
       "120"
      ]
     },
     "execution_count": 105,
     "metadata": {},
     "output_type": "execute_result"
    }
   ],
   "source": [
    "fak(5)"
   ]
  }
 ],
 "metadata": {
  "kernelspec": {
   "display_name": "Python 3 (ipykernel)",
   "language": "python",
   "name": "python3"
  },
  "language_info": {
   "codemirror_mode": {
    "name": "ipython",
    "version": 3
   },
   "file_extension": ".py",
   "mimetype": "text/x-python",
   "name": "python",
   "nbconvert_exporter": "python",
   "pygments_lexer": "ipython3",
   "version": "3.9.13"
  }
 },
 "nbformat": 4,
 "nbformat_minor": 5
}
