{
 "cells": [
  {
   "cell_type": "markdown",
   "id": "92231db7",
   "metadata": {
    "id": "92231db7"
   },
   "source": [
    "# List Comprehension"
   ]
  },
  {
   "cell_type": "markdown",
   "id": "9e6a709b",
   "metadata": {
    "id": "9e6a709b"
   },
   "source": [
    "List Compherension, mevcut bir listenin değerlerine dayalı olarak yeni bir liste oluşturmak istediğinizde daha kısa bir sözdizimi sunar."
   ]
  },
  {
   "cell_type": "markdown",
   "id": "ab09ad5e",
   "metadata": {
    "id": "ab09ad5e"
   },
   "source": [
    "* Biz daha öncesinden öğrendiğimiz şekilde bir boş liste tanımlayıp for döngüsü yardımıyla append (ekleme) komutu  ile listemizi oluşturup çıktı alabiliriz."
   ]
  },
  {
   "cell_type": "code",
   "execution_count": null,
   "id": "f5d03311",
   "metadata": {
    "id": "f5d03311"
   },
   "outputs": [],
   "source": [
    "l = []"
   ]
  },
  {
   "cell_type": "code",
   "execution_count": null,
   "id": "e7a5bb52",
   "metadata": {
    "id": "e7a5bb52"
   },
   "outputs": [],
   "source": [
    "for i in range(6):\n",
    "    l.append(i)"
   ]
  },
  {
   "cell_type": "code",
   "execution_count": null,
   "id": "dfe2e01e",
   "metadata": {
    "id": "dfe2e01e",
    "outputId": "8028e57d-79b4-4ccb-c964-1f45d24ea299"
   },
   "outputs": [
    {
     "data": {
      "text/plain": [
       "[0, 1, 2, 3, 4, 5]"
      ]
     },
     "execution_count": 7,
     "metadata": {},
     "output_type": "execute_result"
    }
   ],
   "source": [
    "l"
   ]
  },
  {
   "cell_type": "code",
   "execution_count": null,
   "id": "3b2c4f80",
   "metadata": {
    "id": "3b2c4f80",
    "outputId": "69799975-e336-4223-ea3d-7206039f0896"
   },
   "outputs": [
    {
     "data": {
      "text/plain": [
       "[0, 1, 2, 3, 4, 5]"
      ]
     },
     "execution_count": 8,
     "metadata": {},
     "output_type": "execute_result"
    }
   ],
   "source": [
    "list(range(6))"
   ]
  },
  {
   "cell_type": "markdown",
   "id": "6986d04b",
   "metadata": {
    "id": "6986d04b"
   },
   "source": [
    "* Bunun yerine [list comprehension] şeklinde listemizi oluşturabiliriz.\n",
    "* Aslında for döngüsünün çıktısını direkt list comprehension ile liste tanımlarken alabiliriz.\n",
    "* List Comprehension içindeki ilk kısım çıktımızı nasıl return edeceğini gösterir. **Örneğin:** i, i**i vb.\n",
    "* List Comprehension içindeki diğer kısım ne işlem yapılacağını gösterir. **Örneğin:** for, range(), if vb.\n",
    "* List Comprehension ile tanımlanan bir listeyi başka bir listedeki list comprehension içindeki for döngüsünde iteratif bir yapı olarak kullanabiliriz.\n",
    "* Yeni listedeki list comprehensiondaki return edilecek değerde, önceki listedeki her bir eleman için kullanılabilecek metotları kullanarak return edebiliriz. **Örneğin:** i.upper() vb.  "
   ]
  },
  {
   "cell_type": "code",
   "execution_count": null,
   "id": "251f5524",
   "metadata": {
    "id": "251f5524"
   },
   "outputs": [],
   "source": [
    "l2 = [i for i in range(6)]"
   ]
  },
  {
   "cell_type": "code",
   "execution_count": null,
   "id": "4ebe0264",
   "metadata": {
    "id": "4ebe0264",
    "outputId": "f23a9462-31de-4ece-ef21-abef2b2ffe8d"
   },
   "outputs": [
    {
     "data": {
      "text/plain": [
       "[0, 1, 2, 3, 4, 5]"
      ]
     },
     "execution_count": 10,
     "metadata": {},
     "output_type": "execute_result"
    }
   ],
   "source": [
    "l2"
   ]
  },
  {
   "cell_type": "code",
   "execution_count": null,
   "id": "4167d671",
   "metadata": {
    "id": "4167d671"
   },
   "outputs": [],
   "source": [
    "l2 = [i**i for i in range(6)]"
   ]
  },
  {
   "cell_type": "code",
   "execution_count": null,
   "id": "fbca2d46",
   "metadata": {
    "id": "fbca2d46",
    "outputId": "c9cca8d2-35db-4d78-f3ed-2cdd6f8a3828"
   },
   "outputs": [
    {
     "data": {
      "text/plain": [
       "[1, 1, 4, 27, 256, 3125]"
      ]
     },
     "execution_count": 12,
     "metadata": {},
     "output_type": "execute_result"
    }
   ],
   "source": [
    "l2"
   ]
  },
  {
   "cell_type": "code",
   "execution_count": null,
   "id": "0ebcb4cd",
   "metadata": {
    "id": "0ebcb4cd"
   },
   "outputs": [],
   "source": [
    "l2 = [i**i for i in range(10) if i%2 == 0]"
   ]
  },
  {
   "cell_type": "code",
   "execution_count": null,
   "id": "cb4c00bc",
   "metadata": {
    "id": "cb4c00bc",
    "outputId": "1bc594a5-11ec-4757-bcec-7231575ed64e"
   },
   "outputs": [
    {
     "data": {
      "text/plain": [
       "[1, 4, 256, 46656, 16777216]"
      ]
     },
     "execution_count": 14,
     "metadata": {},
     "output_type": "execute_result"
    }
   ],
   "source": [
    "l2"
   ]
  },
  {
   "cell_type": "code",
   "execution_count": null,
   "id": "ba661b15",
   "metadata": {
    "id": "ba661b15"
   },
   "outputs": [],
   "source": [
    "l3 = [\"deneme\", \"merhaba\", \"ben\"]"
   ]
  },
  {
   "cell_type": "code",
   "execution_count": null,
   "id": "ba1c3198",
   "metadata": {
    "id": "ba1c3198"
   },
   "outputs": [],
   "source": [
    "l4 = [i for i in l3]"
   ]
  },
  {
   "cell_type": "code",
   "execution_count": null,
   "id": "7cc94e2c",
   "metadata": {
    "id": "7cc94e2c",
    "outputId": "990187fd-13dd-4d7c-85da-f343a5ab99b9"
   },
   "outputs": [
    {
     "data": {
      "text/plain": [
       "['deneme', 'merhaba', 'ben']"
      ]
     },
     "execution_count": 17,
     "metadata": {},
     "output_type": "execute_result"
    }
   ],
   "source": [
    "l4"
   ]
  },
  {
   "cell_type": "markdown",
   "id": "8350bc8d",
   "metadata": {
    "id": "8350bc8d"
   },
   "source": [
    "### .upper() metodu"
   ]
  },
  {
   "cell_type": "markdown",
   "id": "7dde41a3",
   "metadata": {
    "id": "7dde41a3"
   },
   "source": [
    "Bu metot yazıdaki harflerin hepsini büyük harfe dönüştürür."
   ]
  },
  {
   "cell_type": "code",
   "execution_count": null,
   "id": "9d45ba1b",
   "metadata": {
    "id": "9d45ba1b"
   },
   "outputs": [],
   "source": [
    "l4 = [i.upper() for i in l3]"
   ]
  },
  {
   "cell_type": "code",
   "execution_count": null,
   "id": "0ea577f4",
   "metadata": {
    "id": "0ea577f4",
    "outputId": "3c25d419-adb8-432f-aa96-91d253f53535"
   },
   "outputs": [
    {
     "data": {
      "text/plain": [
       "['DENEME', 'MERHABA', 'BEN']"
      ]
     },
     "execution_count": 19,
     "metadata": {},
     "output_type": "execute_result"
    }
   ],
   "source": [
    "l4"
   ]
  },
  {
   "cell_type": "markdown",
   "id": "466bc2bf",
   "metadata": {
    "id": "466bc2bf"
   },
   "source": [
    "# Generator Object"
   ]
  },
  {
   "cell_type": "markdown",
   "id": "326b0448",
   "metadata": {
    "id": "326b0448"
   },
   "source": [
    "* dir() olarak baktığımızda listeden ve diğer veri yapılarından farklı olduğunu, farklı sınıfları ve fonksiyonları geriye döndürdüğünü görebiliriz.\n",
    "* Elemanlarına listede olduğu gibi for ile erişilip yazdırılabilir."
   ]
  },
  {
   "cell_type": "code",
   "execution_count": null,
   "id": "b920c258",
   "metadata": {
    "id": "b920c258"
   },
   "outputs": [],
   "source": [
    "l5 = (i**i for i in range(6))"
   ]
  },
  {
   "cell_type": "code",
   "execution_count": null,
   "id": "b2889f24",
   "metadata": {
    "id": "b2889f24",
    "outputId": "0c8cffde-0b59-432c-df3f-a76d2662847e"
   },
   "outputs": [
    {
     "name": "stdout",
     "output_type": "stream",
     "text": [
      "1\n",
      "1\n",
      "4\n",
      "27\n",
      "256\n",
      "3125\n"
     ]
    }
   ],
   "source": [
    "for i in l5:\n",
    "    print(i)"
   ]
  },
  {
   "cell_type": "code",
   "execution_count": null,
   "id": "13c1c6d7",
   "metadata": {
    "id": "13c1c6d7",
    "outputId": "29f9a446-4225-4201-bc5f-49ae12e4915a"
   },
   "outputs": [
    {
     "data": {
      "text/plain": [
       "<generator object <genexpr> at 0x0000021CDA05E580>"
      ]
     },
     "execution_count": 22,
     "metadata": {},
     "output_type": "execute_result"
    }
   ],
   "source": [
    "l5"
   ]
  },
  {
   "cell_type": "code",
   "execution_count": null,
   "id": "6cf0d28e",
   "metadata": {
    "id": "6cf0d28e",
    "outputId": "85449844-77fb-48ff-fe0e-c1ce8e568cdc"
   },
   "outputs": [
    {
     "data": {
      "text/plain": [
       "generator"
      ]
     },
     "execution_count": 23,
     "metadata": {},
     "output_type": "execute_result"
    }
   ],
   "source": [
    "type(l5)"
   ]
  },
  {
   "cell_type": "code",
   "execution_count": null,
   "id": "ba1ad69c",
   "metadata": {
    "id": "ba1ad69c",
    "outputId": "6010d101-908f-46b1-cc96-3fe9dc16ede9"
   },
   "outputs": [
    {
     "data": {
      "text/plain": [
       "['__class__',\n",
       " '__del__',\n",
       " '__delattr__',\n",
       " '__dir__',\n",
       " '__doc__',\n",
       " '__eq__',\n",
       " '__format__',\n",
       " '__ge__',\n",
       " '__getattribute__',\n",
       " '__gt__',\n",
       " '__hash__',\n",
       " '__init__',\n",
       " '__init_subclass__',\n",
       " '__iter__',\n",
       " '__le__',\n",
       " '__lt__',\n",
       " '__name__',\n",
       " '__ne__',\n",
       " '__new__',\n",
       " '__next__',\n",
       " '__qualname__',\n",
       " '__reduce__',\n",
       " '__reduce_ex__',\n",
       " '__repr__',\n",
       " '__setattr__',\n",
       " '__sizeof__',\n",
       " '__str__',\n",
       " '__subclasshook__',\n",
       " 'close',\n",
       " 'gi_code',\n",
       " 'gi_frame',\n",
       " 'gi_running',\n",
       " 'gi_yieldfrom',\n",
       " 'send',\n",
       " 'throw']"
      ]
     },
     "execution_count": 24,
     "metadata": {},
     "output_type": "execute_result"
    }
   ],
   "source": [
    "dir(l5)"
   ]
  },
  {
   "cell_type": "code",
   "execution_count": null,
   "id": "376eb9ed",
   "metadata": {
    "id": "376eb9ed",
    "outputId": "afd6cc33-6a8e-4436-96d9-db41f0262dff"
   },
   "outputs": [
    {
     "ename": "TypeError",
     "evalue": "'generator' object is not subscriptable",
     "output_type": "error",
     "traceback": [
      "\u001b[1;31m---------------------------------------------------------------------------\u001b[0m",
      "\u001b[1;31mTypeError\u001b[0m                                 Traceback (most recent call last)",
      "\u001b[1;32m~\\AppData\\Local\\Temp\\ipykernel_30728\\687979789.py\u001b[0m in \u001b[0;36m<module>\u001b[1;34m\u001b[0m\n\u001b[1;32m----> 1\u001b[1;33m \u001b[0ml5\u001b[0m\u001b[1;33m[\u001b[0m\u001b[1;36m0\u001b[0m\u001b[1;33m]\u001b[0m\u001b[1;33m\u001b[0m\u001b[1;33m\u001b[0m\u001b[0m\n\u001b[0m",
      "\u001b[1;31mTypeError\u001b[0m: 'generator' object is not subscriptable"
     ]
    }
   ],
   "source": [
    "l5[0]"
   ]
  },
  {
   "cell_type": "markdown",
   "id": "d1de9b27",
   "metadata": {
    "id": "d1de9b27"
   },
   "source": [
    "**ERROR SEBEBİ:** İndis çağırılamadı diyor çünkü hafızada fazla yer kaplanmasın diye fonksiyonu biz ihtiyaç duyduğumuzda çağırıyor."
   ]
  },
  {
   "cell_type": "markdown",
   "id": "df017a8d",
   "metadata": {
    "id": "df017a8d"
   },
   "source": [
    "## List Comprehension ile Generator Object arasındaki fark:"
   ]
  },
  {
   "cell_type": "markdown",
   "id": "c6805036",
   "metadata": {
    "id": "c6805036"
   },
   "source": [
    "* List Comprehension'da greddy yaklaşımı vardır. Bu yaklaşım, o esnada hafızada yer edinip bütün elemanları çalıştırıyor eğer çok büyük bir veriyse hafızada çok büyük bir alan kaplıyor. Yani biz onu çağırdığımızda onu hafızadan çağırıyor ve çıktısını alıyoruz.\n",
    "* Generator Object'te ise lazzy evaluation tekniği kullanılıyor. Çok büyük verilerde hafızada fazla yer barındırmasın, daha hızlı çalışsın diye birnevi (zipliyor) sıkıştırıyor. Hafızada fonksiyonu çağırmıyor. Fonksiyonu biz ihtiyaç duyduğumuzda çağırıyor. \n",
    "* List comprehension'da if yapıları kullanılıyor olması çok kullanışlı fakat büyük verilerle çalışırken generator object kullanmak daha faydalı olabilir."
   ]
  },
  {
   "cell_type": "code",
   "execution_count": null,
   "id": "e8975aa0",
   "metadata": {
    "id": "e8975aa0"
   },
   "outputs": [],
   "source": [
    "l4 = [i**i for i in range(6)]\n",
    "l5 = (i**i for i in range(6))"
   ]
  },
  {
   "cell_type": "code",
   "execution_count": null,
   "id": "233ed91d",
   "metadata": {
    "id": "233ed91d"
   },
   "outputs": [],
   "source": [
    "def deneme(x):\n",
    "    print(f\"{x} karesi: \")\n",
    "    return x**2"
   ]
  },
  {
   "cell_type": "code",
   "execution_count": null,
   "id": "59e7122b",
   "metadata": {
    "id": "59e7122b"
   },
   "outputs": [],
   "source": [
    "sayi = [1,5,8]"
   ]
  },
  {
   "cell_type": "code",
   "execution_count": null,
   "id": "02842971",
   "metadata": {
    "id": "02842971",
    "outputId": "2b299369-1808-4885-a010-8bde352c2926"
   },
   "outputs": [
    {
     "name": "stdout",
     "output_type": "stream",
     "text": [
      "1 karesi: \n",
      "5 karesi: \n",
      "8 karesi: \n",
      "Liste\n",
      "1\n",
      "25\n",
      "64\n"
     ]
    }
   ],
   "source": [
    "l = [deneme(i) for i in sayi]\n",
    "print(\"Liste\")\n",
    "for i in l:\n",
    "    print(i)"
   ]
  },
  {
   "cell_type": "code",
   "execution_count": null,
   "id": "47a4262b",
   "metadata": {
    "id": "47a4262b",
    "outputId": "daa62ce6-5ddc-471f-fa5d-7e032f0fdf08"
   },
   "outputs": [
    {
     "name": "stdout",
     "output_type": "stream",
     "text": [
      "Generator\n",
      "1 karesi: \n",
      "1\n",
      "5 karesi: \n",
      "25\n",
      "8 karesi: \n",
      "64\n"
     ]
    }
   ],
   "source": [
    "g = (deneme(i) for i in sayi)\n",
    "print(\"Generator\")\n",
    "for i in g:\n",
    "    print(i)"
   ]
  },
  {
   "cell_type": "code",
   "execution_count": null,
   "id": "1ef0f49e",
   "metadata": {
    "id": "1ef0f49e",
    "outputId": "c25c12df-b5c1-4cf5-9d10-ffa2fa7edb38"
   },
   "outputs": [
    {
     "data": {
      "text/plain": [
       "[0,\n",
       " 4,\n",
       " 16,\n",
       " 36,\n",
       " 64,\n",
       " 100,\n",
       " 144,\n",
       " 196,\n",
       " 256,\n",
       " 324,\n",
       " 400,\n",
       " 484,\n",
       " 576,\n",
       " 676,\n",
       " 784,\n",
       " 900,\n",
       " 1024,\n",
       " 1156,\n",
       " 1296,\n",
       " 1444,\n",
       " 1600,\n",
       " 1764,\n",
       " 1936,\n",
       " 2116,\n",
       " 2304,\n",
       " 2500,\n",
       " 2704,\n",
       " 2916,\n",
       " 3136,\n",
       " 3364,\n",
       " 3600,\n",
       " 3844,\n",
       " 4096,\n",
       " 4356,\n",
       " 4624,\n",
       " 4900,\n",
       " 5184,\n",
       " 5476,\n",
       " 5776,\n",
       " 6084,\n",
       " 6400,\n",
       " 6724,\n",
       " 7056,\n",
       " 7396,\n",
       " 7744,\n",
       " 8100,\n",
       " 8464,\n",
       " 8836,\n",
       " 9216,\n",
       " 9604]"
      ]
     },
     "execution_count": 31,
     "metadata": {},
     "output_type": "execute_result"
    }
   ],
   "source": [
    "[i**2 for i in range(100) if i%2 == 0]"
   ]
  },
  {
   "cell_type": "markdown",
   "id": "1e6e70cb",
   "metadata": {
    "id": "1e6e70cb"
   },
   "source": [
    "## yield keywordu:"
   ]
  },
  {
   "cell_type": "markdown",
   "id": "82a0197c",
   "metadata": {
    "id": "82a0197c"
   },
   "source": [
    "Bir fonksiyonda yield keywordu kullanarak iteratif bir yapı tanımladığımızı ifade ediyoruz."
   ]
  },
  {
   "cell_type": "code",
   "execution_count": null,
   "id": "fb193b32",
   "metadata": {
    "id": "fb193b32"
   },
   "outputs": [],
   "source": [
    "def f():\n",
    "    yield 10\n",
    "    yield 20\n",
    "    yield 30"
   ]
  },
  {
   "cell_type": "code",
   "execution_count": null,
   "id": "ec9712bd",
   "metadata": {
    "id": "ec9712bd"
   },
   "outputs": [],
   "source": [
    "a = f()"
   ]
  },
  {
   "cell_type": "code",
   "execution_count": null,
   "id": "19800a57",
   "metadata": {
    "id": "19800a57",
    "outputId": "a177b8f6-1bce-4753-f13a-769694baeb31"
   },
   "outputs": [
    {
     "data": {
      "text/plain": [
       "<generator object f at 0x0000021CDA0655F0>"
      ]
     },
     "execution_count": 34,
     "metadata": {},
     "output_type": "execute_result"
    }
   ],
   "source": [
    "a"
   ]
  },
  {
   "cell_type": "markdown",
   "id": "3e7a2f68",
   "metadata": {
    "id": "3e7a2f68"
   },
   "source": [
    "## next() generic fonksiyonu:"
   ]
  },
  {
   "cell_type": "markdown",
   "id": "7adafe23",
   "metadata": {
    "id": "7adafe23"
   },
   "source": [
    "* Fonksiyondaki her bir elemanı sırayla çağırır.\n",
    "* Her çağırışımızda bir sonraki elemanı verir.\n",
    "* İçindeki eleman sayısı bittiğinde StopIteration ile karşılaşırız. Bu da eleman sayısının bittiği anlamına gelir. \n",
    "* Bir for döngüsüyle her elemana ulaşabiliriz ve sonra next() olarak çağırıldığında StopIteration ile karşılaşırız. Çünkü her eleman çıktı olarak geri döndürülmüştür ve eleman sayısının bittiğini bildirir."
   ]
  },
  {
   "cell_type": "code",
   "execution_count": null,
   "id": "82770b38",
   "metadata": {
    "id": "82770b38",
    "outputId": "533c9158-6238-4353-fa11-c36971fa1dd5"
   },
   "outputs": [
    {
     "data": {
      "text/plain": [
       "10"
      ]
     },
     "execution_count": 35,
     "metadata": {},
     "output_type": "execute_result"
    }
   ],
   "source": [
    "next(a)"
   ]
  },
  {
   "cell_type": "code",
   "execution_count": null,
   "id": "50918db1",
   "metadata": {
    "id": "50918db1",
    "outputId": "14e03568-c0f0-4d1b-def1-515943d39cf2"
   },
   "outputs": [
    {
     "data": {
      "text/plain": [
       "20"
      ]
     },
     "execution_count": 36,
     "metadata": {},
     "output_type": "execute_result"
    }
   ],
   "source": [
    "next(a)"
   ]
  },
  {
   "cell_type": "code",
   "execution_count": null,
   "id": "87e51d12",
   "metadata": {
    "id": "87e51d12",
    "outputId": "c5239cd7-52d9-478b-fa61-593e9034057f"
   },
   "outputs": [
    {
     "data": {
      "text/plain": [
       "30"
      ]
     },
     "execution_count": 37,
     "metadata": {},
     "output_type": "execute_result"
    }
   ],
   "source": [
    "next(a)"
   ]
  },
  {
   "cell_type": "code",
   "execution_count": null,
   "id": "6267ba6f",
   "metadata": {
    "id": "6267ba6f",
    "outputId": "85f951db-ece8-4bae-ef8b-c7b57d87f580"
   },
   "outputs": [
    {
     "ename": "StopIteration",
     "evalue": "",
     "output_type": "error",
     "traceback": [
      "\u001b[1;31m---------------------------------------------------------------------------\u001b[0m",
      "\u001b[1;31mStopIteration\u001b[0m                             Traceback (most recent call last)",
      "\u001b[1;32m~\\AppData\\Local\\Temp\\ipykernel_30728\\1242322984.py\u001b[0m in \u001b[0;36m<module>\u001b[1;34m\u001b[0m\n\u001b[1;32m----> 1\u001b[1;33m \u001b[0mnext\u001b[0m\u001b[1;33m(\u001b[0m\u001b[0ma\u001b[0m\u001b[1;33m)\u001b[0m\u001b[1;33m\u001b[0m\u001b[1;33m\u001b[0m\u001b[0m\n\u001b[0m",
      "\u001b[1;31mStopIteration\u001b[0m: "
     ]
    }
   ],
   "source": [
    "next(a)"
   ]
  },
  {
   "cell_type": "markdown",
   "id": "c46cf0e8",
   "metadata": {
    "id": "c46cf0e8"
   },
   "source": [
    "**ERROR SEBEBİ:** StopIteration eleman sayısının bittiği anlamına gelir."
   ]
  },
  {
   "cell_type": "code",
   "execution_count": null,
   "id": "5cb2965b",
   "metadata": {
    "id": "5cb2965b",
    "outputId": "0e0f1b19-ebb9-4ac9-e2eb-4278fa14b08c"
   },
   "outputs": [
    {
     "name": "stdout",
     "output_type": "stream",
     "text": [
      "10\n",
      "20\n",
      "30\n"
     ]
    }
   ],
   "source": [
    "a1 = f()\n",
    "\n",
    "for i in a1:\n",
    "    print(i)"
   ]
  },
  {
   "cell_type": "code",
   "execution_count": null,
   "id": "4910c069",
   "metadata": {
    "id": "4910c069",
    "outputId": "cc203210-5036-49ea-ad83-5519ec9916c1"
   },
   "outputs": [
    {
     "ename": "StopIteration",
     "evalue": "",
     "output_type": "error",
     "traceback": [
      "\u001b[1;31m---------------------------------------------------------------------------\u001b[0m",
      "\u001b[1;31mStopIteration\u001b[0m                             Traceback (most recent call last)",
      "\u001b[1;32m~\\AppData\\Local\\Temp\\ipykernel_30728\\605388799.py\u001b[0m in \u001b[0;36m<module>\u001b[1;34m\u001b[0m\n\u001b[1;32m----> 1\u001b[1;33m \u001b[0mnext\u001b[0m\u001b[1;33m(\u001b[0m\u001b[0ma1\u001b[0m\u001b[1;33m)\u001b[0m\u001b[1;33m\u001b[0m\u001b[1;33m\u001b[0m\u001b[0m\n\u001b[0m",
      "\u001b[1;31mStopIteration\u001b[0m: "
     ]
    }
   ],
   "source": [
    "next(a1)"
   ]
  },
  {
   "cell_type": "markdown",
   "id": "6742edb7",
   "metadata": {
    "id": "6742edb7"
   },
   "source": [
    "**ERROR SEBEBİ:** StopIteration eleman sayısının bittiği anlamına gelir."
   ]
  },
  {
   "cell_type": "markdown",
   "id": "6e0ecbeb",
   "metadata": {
    "id": "6e0ecbeb"
   },
   "source": [
    "## .getsizeof() yöntemi:"
   ]
  },
  {
   "cell_type": "markdown",
   "id": "0351c8d5",
   "metadata": {
    "id": "0351c8d5"
   },
   "source": [
    "* Sisteme özgü bir yöntemdir ve onu kullanmak için sys modülünü import etmemiz gerekmektedir.\n",
    "* Ne kadar alan kapladığını gösterir.\n",
    "* byte türünden bir değeri döndürür.\n",
    "* List Comprehension ile Generator Object'in hafızada kapladığı alanlara bakarsak neden generator object kullanmanın daha mantıklı olduğunu anlayabiliriz."
   ]
  },
  {
   "cell_type": "code",
   "execution_count": null,
   "id": "f9a9bb5a",
   "metadata": {
    "id": "f9a9bb5a"
   },
   "outputs": [],
   "source": [
    "import sys"
   ]
  },
  {
   "cell_type": "code",
   "execution_count": null,
   "id": "11a36868",
   "metadata": {
    "id": "11a36868"
   },
   "outputs": [],
   "source": [
    "l = [i*2 for i in range(1000)]\n",
    "g = (i*2 for i in range(1000))"
   ]
  },
  {
   "cell_type": "code",
   "execution_count": null,
   "id": "1d27dbe8",
   "metadata": {
    "id": "1d27dbe8",
    "outputId": "54abcb82-5a5f-4dda-e7aa-771d1d022b9f"
   },
   "outputs": [
    {
     "data": {
      "text/plain": [
       "8856"
      ]
     },
     "execution_count": 43,
     "metadata": {},
     "output_type": "execute_result"
    }
   ],
   "source": [
    "sys.getsizeof(l)"
   ]
  },
  {
   "cell_type": "code",
   "execution_count": null,
   "id": "82035950",
   "metadata": {
    "id": "82035950",
    "outputId": "6fab221f-cae6-40df-fc71-93068a930f42"
   },
   "outputs": [
    {
     "data": {
      "text/plain": [
       "112"
      ]
     },
     "execution_count": 44,
     "metadata": {},
     "output_type": "execute_result"
    }
   ],
   "source": [
    "sys.getsizeof(g)"
   ]
  },
  {
   "cell_type": "code",
   "execution_count": null,
   "id": "ca94e2e1",
   "metadata": {
    "id": "ca94e2e1",
    "outputId": "e71c52f8-17d9-42ac-fb5e-cfced0f81993"
   },
   "outputs": [
    {
     "data": {
      "text/plain": [
       "10"
      ]
     },
     "execution_count": 45,
     "metadata": {},
     "output_type": "execute_result"
    }
   ],
   "source": [
    "l[5]"
   ]
  },
  {
   "cell_type": "code",
   "execution_count": null,
   "id": "48585c72",
   "metadata": {
    "id": "48585c72",
    "outputId": "e993b59f-7005-4c9f-954b-bc583d7e68bd"
   },
   "outputs": [
    {
     "ename": "TypeError",
     "evalue": "'generator' object is not subscriptable",
     "output_type": "error",
     "traceback": [
      "\u001b[1;31m---------------------------------------------------------------------------\u001b[0m",
      "\u001b[1;31mTypeError\u001b[0m                                 Traceback (most recent call last)",
      "\u001b[1;32m~\\AppData\\Local\\Temp\\ipykernel_30728\\2518101053.py\u001b[0m in \u001b[0;36m<module>\u001b[1;34m\u001b[0m\n\u001b[1;32m----> 1\u001b[1;33m \u001b[0mg\u001b[0m\u001b[1;33m[\u001b[0m\u001b[1;36m5\u001b[0m\u001b[1;33m]\u001b[0m\u001b[1;33m\u001b[0m\u001b[1;33m\u001b[0m\u001b[0m\n\u001b[0m",
      "\u001b[1;31mTypeError\u001b[0m: 'generator' object is not subscriptable"
     ]
    }
   ],
   "source": [
    "g[5]"
   ]
  },
  {
   "cell_type": "markdown",
   "id": "e9dc7fd4",
   "metadata": {
    "id": "e9dc7fd4"
   },
   "source": [
    "**ERROR SEBEBİ:** Yapı tanımlı değil. Önce o yapıyı tanımlayacağız ki çağırabilelim."
   ]
  },
  {
   "cell_type": "code",
   "execution_count": null,
   "id": "7296ea24",
   "metadata": {
    "id": "7296ea24"
   },
   "outputs": [],
   "source": [
    "l2 = [1,2,3,4,5]"
   ]
  },
  {
   "cell_type": "code",
   "execution_count": null,
   "id": "b23faaec",
   "metadata": {
    "id": "b23faaec",
    "outputId": "90ac4220-e26a-4cca-93fb-9d46056b705c"
   },
   "outputs": [
    {
     "data": {
      "text/plain": [
       "[1, 2, 3, 4, 5]"
      ]
     },
     "execution_count": 48,
     "metadata": {},
     "output_type": "execute_result"
    }
   ],
   "source": [
    "l2"
   ]
  },
  {
   "cell_type": "code",
   "execution_count": null,
   "id": "0bbf5d03",
   "metadata": {
    "id": "0bbf5d03"
   },
   "outputs": [],
   "source": [
    "def f(x):\n",
    "    return x%2 != 0"
   ]
  },
  {
   "cell_type": "markdown",
   "id": "86b4cbea",
   "metadata": {
    "id": "86b4cbea"
   },
   "source": [
    "## filter() fonksiyonu:"
   ]
  },
  {
   "cell_type": "markdown",
   "id": "e9cf4794",
   "metadata": {
    "id": "e9cf4794"
   },
   "source": [
    "* Generic bir fonksiyondur.\n",
    "* Her bir elemanı alıp onu bir süzgeçten geçirip ilgili değerleri return etmek için kullanılıyor.\n",
    "* İki parametre alır:\n",
    "    * Birinci parametre filtreleme yapacağı fonksiyondur. \n",
    "    * İkinci parametre ise bu fonksiyonu çalıştıracağı iteratif yapıdır."
   ]
  },
  {
   "cell_type": "code",
   "execution_count": null,
   "id": "bcca53df",
   "metadata": {
    "id": "bcca53df",
    "outputId": "8a9e5e20-8f55-4fea-9f69-86eb268b49c0"
   },
   "outputs": [
    {
     "ename": "TypeError",
     "evalue": "'int' object is not iterable",
     "output_type": "error",
     "traceback": [
      "\u001b[1;31m---------------------------------------------------------------------------\u001b[0m",
      "\u001b[1;31mTypeError\u001b[0m                                 Traceback (most recent call last)",
      "\u001b[1;32m~\\AppData\\Local\\Temp\\ipykernel_30728\\243748453.py\u001b[0m in \u001b[0;36m<module>\u001b[1;34m\u001b[0m\n\u001b[1;32m----> 1\u001b[1;33m \u001b[0mlist\u001b[0m\u001b[1;33m(\u001b[0m\u001b[0mfilter\u001b[0m\u001b[1;33m(\u001b[0m\u001b[0mf\u001b[0m\u001b[1;33m,\u001b[0m \u001b[1;36m10\u001b[0m\u001b[1;33m)\u001b[0m\u001b[1;33m)\u001b[0m\u001b[1;33m\u001b[0m\u001b[1;33m\u001b[0m\u001b[0m\n\u001b[0m",
      "\u001b[1;31mTypeError\u001b[0m: 'int' object is not iterable"
     ]
    }
   ],
   "source": [
    "list(filter(f, 10))"
   ]
  },
  {
   "cell_type": "markdown",
   "id": "2c49f7df",
   "metadata": {
    "id": "2c49f7df"
   },
   "source": [
    "**ERROR SEBEBİ:** filter() fonksiyonunda ikinci parametre iteratif yapı olmadığı için hata verir."
   ]
  },
  {
   "cell_type": "code",
   "execution_count": null,
   "id": "13a4979f",
   "metadata": {
    "id": "13a4979f",
    "outputId": "be0450e8-6c2f-4e96-e7f4-b46bc2f0db7e"
   },
   "outputs": [
    {
     "data": {
      "text/plain": [
       "[1, 3, 5]"
      ]
     },
     "execution_count": 51,
     "metadata": {},
     "output_type": "execute_result"
    }
   ],
   "source": [
    "list(filter(f, l2))"
   ]
  },
  {
   "cell_type": "code",
   "execution_count": null,
   "id": "9479e557",
   "metadata": {
    "id": "9479e557",
    "outputId": "f5842a89-8a6c-460c-d67c-79ce60ff34ce"
   },
   "outputs": [
    {
     "data": {
      "text/plain": [
       "[1, 3, 5]"
      ]
     },
     "execution_count": 52,
     "metadata": {},
     "output_type": "execute_result"
    }
   ],
   "source": [
    "[i for i in l2 if f(i)]"
   ]
  },
  {
   "cell_type": "markdown",
   "id": "57d03b63",
   "metadata": {
    "id": "57d03b63"
   },
   "source": [
    "**Yukarıdaki gibi** filter() gibi bir fonksiyon ile List Comprehension'daki if ile aynı işlemi gerçekleştirebiliriz."
   ]
  },
  {
   "cell_type": "markdown",
   "id": "dc205b37",
   "metadata": {
    "id": "dc205b37"
   },
   "source": [
    "# lambda kullanımı:"
   ]
  },
  {
   "cell_type": "markdown",
   "id": "ff406144",
   "metadata": {
    "id": "ff406144"
   },
   "source": [
    "def() şeklinde tanımladığımız fonksiyonumuzu lambda notasyonu ile daha kısa bir şekilde tanımlayabiliriz."
   ]
  },
  {
   "cell_type": "markdown",
   "id": "4e43544b",
   "metadata": {
    "id": "4e43544b"
   },
   "source": [
    "def adı(parametre):\n",
    "\n",
    "    return ifade\n",
    "\n",
    "lambda parametreler:ifade"
   ]
  },
  {
   "cell_type": "code",
   "execution_count": null,
   "id": "7a85ce4d",
   "metadata": {
    "id": "7a85ce4d",
    "outputId": "704de7c8-c307-48bb-a2cd-4a7a0215e8a2"
   },
   "outputs": [
    {
     "data": {
      "text/plain": [
       "[1, 3, 5]"
      ]
     },
     "execution_count": 53,
     "metadata": {},
     "output_type": "execute_result"
    }
   ],
   "source": [
    "list(filter(lambda x: x%2 != 0, l2))"
   ]
  },
  {
   "cell_type": "markdown",
   "id": "923a398b",
   "metadata": {
    "id": "923a398b"
   },
   "source": [
    "# map fonksiyonu:"
   ]
  },
  {
   "cell_type": "markdown",
   "id": "f198ade4",
   "metadata": {
    "id": "f198ade4"
   },
   "source": [
    "* Generic bir fonksiyondur.\n",
    "* Her bir elemanı alıp her bir eleman üzerinde işlem yaparak kullanılıyor.\n",
    "* İlk parametresi bir fonksiyon olmak zorundadır.\n",
    "* İkinci parametresi de iterasyon olmalıdır."
   ]
  },
  {
   "cell_type": "code",
   "execution_count": null,
   "id": "7420b702",
   "metadata": {
    "id": "7420b702",
    "outputId": "1da04b5e-2c6f-4d53-c1c2-9bda4e766517"
   },
   "outputs": [
    {
     "data": {
      "text/plain": [
       "(1, 4, 9, 16, 25)"
      ]
     },
     "execution_count": 54,
     "metadata": {},
     "output_type": "execute_result"
    }
   ],
   "source": [
    "tuple(map(lambda x: x**2 , l2))"
   ]
  },
  {
   "cell_type": "code",
   "execution_count": null,
   "id": "55443ff5",
   "metadata": {
    "id": "55443ff5",
    "outputId": "f0c723e8-7433-4ffd-c782-73be86da7a96"
   },
   "outputs": [
    {
     "data": {
      "text/plain": [
       "[1, 4, 9, 16, 25]"
      ]
     },
     "execution_count": 55,
     "metadata": {},
     "output_type": "execute_result"
    }
   ],
   "source": [
    "[i**2 for i in l2]"
   ]
  },
  {
   "cell_type": "markdown",
   "id": "77bff058",
   "metadata": {
    "id": "77bff058"
   },
   "source": [
    "**Bu aslında** list comprehension ile yapılan birnevi map işlemidir."
   ]
  },
  {
   "cell_type": "code",
   "execution_count": null,
   "id": "3a0c5a1b",
   "metadata": {
    "id": "3a0c5a1b",
    "outputId": "a5ff9647-dbf3-4c95-8faf-538923288857"
   },
   "outputs": [
    {
     "data": {
      "text/plain": [
       "[1, 9, 25]"
      ]
     },
     "execution_count": 56,
     "metadata": {},
     "output_type": "execute_result"
    }
   ],
   "source": [
    "[i**2 for i in l2 if i%2 != 0]"
   ]
  },
  {
   "cell_type": "markdown",
   "id": "030af976",
   "metadata": {
    "id": "030af976"
   },
   "source": [
    "**iften sonraki kısım** filter işlemidir."
   ]
  },
  {
   "cell_type": "code",
   "execution_count": null,
   "id": "5c2a6e6e",
   "metadata": {
    "id": "5c2a6e6e",
    "outputId": "509e8aad-eec8-465b-f9f6-f0b0c4cb2eb1"
   },
   "outputs": [
    {
     "data": {
      "text/plain": [
       "(1, 9, 25)"
      ]
     },
     "execution_count": 57,
     "metadata": {},
     "output_type": "execute_result"
    }
   ],
   "source": [
    "tuple(map(lambda x: x**2, filter(lambda x: x%2 != 0, l2)))"
   ]
  },
  {
   "cell_type": "markdown",
   "id": "53c624ca",
   "metadata": {
    "id": "53c624ca"
   },
   "source": [
    "### ÖRNEK BİR SORU:\n",
    "Aşağıdaki gibi tanımlanan bir l2 listesinin tek sayıların karesinin alındığı, çift sayıların ise aynı kalıp l2 listesindeki her değerin karşılığının yazıldığı bir kod yazınız."
   ]
  },
  {
   "cell_type": "code",
   "execution_count": null,
   "id": "8ccd98f9",
   "metadata": {
    "id": "8ccd98f9"
   },
   "outputs": [],
   "source": [
    "l2 = [1,2,3,4,5,6]"
   ]
  },
  {
   "cell_type": "code",
   "execution_count": null,
   "id": "3cb5de65",
   "metadata": {
    "id": "3cb5de65",
    "outputId": "c7c4309d-5278-4e07-b2a0-1e21cebfa93d"
   },
   "outputs": [
    {
     "data": {
      "text/plain": [
       "[1, 2, 3, 4, 5, 6]"
      ]
     },
     "execution_count": 59,
     "metadata": {},
     "output_type": "execute_result"
    }
   ],
   "source": [
    "l2"
   ]
  },
  {
   "cell_type": "markdown",
   "id": "c39bde75",
   "metadata": {
    "id": "c39bde75"
   },
   "source": [
    "### Örnek sorunun çözümü:"
   ]
  },
  {
   "cell_type": "code",
   "execution_count": null,
   "id": "4ee14e46",
   "metadata": {
    "id": "4ee14e46",
    "outputId": "dea4a6ca-98b6-4e20-e2fe-d9019a8a9159"
   },
   "outputs": [
    {
     "data": {
      "text/plain": [
       "[1, 2, 9, 4, 25, 6]"
      ]
     },
     "execution_count": 60,
     "metadata": {},
     "output_type": "execute_result"
    }
   ],
   "source": [
    "[i**2 if i%2!=0 else i for i in l2]"
   ]
  },
  {
   "cell_type": "markdown",
   "id": "e740de12",
   "metadata": {
    "id": "e740de12"
   },
   "source": [
    "* [i**2 if i%2!=0 else i for i in l2 ] map kısmı, filter() gibi gözükebilir ama değildir.\n",
    "* for i in l2 filter kısmı (filtreleme)"
   ]
  },
  {
   "cell_type": "code",
   "execution_count": null,
   "id": "8a3cfb7e",
   "metadata": {
    "id": "8a3cfb7e"
   },
   "outputs": [],
   "source": [
    "l3 = [i**2 if i%2!=0 else i for i in l2]"
   ]
  },
  {
   "cell_type": "code",
   "execution_count": null,
   "id": "eef8ac02",
   "metadata": {
    "id": "eef8ac02",
    "outputId": "f94ffbf1-cecc-4f15-bfc4-7bcbf616a44f"
   },
   "outputs": [
    {
     "data": {
      "text/plain": [
       "[1, 2, 3, 4, 5, 6]"
      ]
     },
     "execution_count": 62,
     "metadata": {},
     "output_type": "execute_result"
    }
   ],
   "source": [
    "l2"
   ]
  },
  {
   "cell_type": "code",
   "execution_count": null,
   "id": "da2bcc44",
   "metadata": {
    "id": "da2bcc44",
    "outputId": "55759a3c-8d0b-4dd5-e8dc-d41fa2b14bba"
   },
   "outputs": [
    {
     "data": {
      "text/plain": [
       "[1, 2, 9, 4, 25, 6]"
      ]
     },
     "execution_count": 63,
     "metadata": {},
     "output_type": "execute_result"
    }
   ],
   "source": [
    "l3"
   ]
  },
  {
   "cell_type": "markdown",
   "id": "95fb7c1e",
   "metadata": {
    "id": "95fb7c1e"
   },
   "source": [
    "## zip metodu:"
   ]
  },
  {
   "cell_type": "markdown",
   "id": "b6a926c8",
   "metadata": {
    "id": "b6a926c8"
   },
   "source": [
    "* Bu metot, elimizde iki vektör varsa her iki vektörün de ilk elemanını alıp diğer elamanlara ata ve bunları kullan demektir.\n",
    "* Yeni atanan değerlerle istediğimiz işlemi yapabiliriz."
   ]
  },
  {
   "cell_type": "code",
   "execution_count": null,
   "id": "1baa992e",
   "metadata": {
    "id": "1baa992e",
    "outputId": "777276e5-864a-466f-f77a-fc6ddb5adffc"
   },
   "outputs": [
    {
     "ename": "ValueError",
     "evalue": "too many values to unpack (expected 2)",
     "output_type": "error",
     "traceback": [
      "\u001b[1;31m---------------------------------------------------------------------------\u001b[0m",
      "\u001b[1;31mValueError\u001b[0m                                Traceback (most recent call last)",
      "\u001b[1;32m~\\AppData\\Local\\Temp\\ipykernel_30728\\1812393910.py\u001b[0m in \u001b[0;36m<module>\u001b[1;34m\u001b[0m\n\u001b[1;32m----> 1\u001b[1;33m \u001b[1;32mfor\u001b[0m \u001b[0mi\u001b[0m\u001b[1;33m,\u001b[0m\u001b[0mj\u001b[0m \u001b[1;32min\u001b[0m \u001b[0ml2\u001b[0m\u001b[1;33m,\u001b[0m\u001b[0ml3\u001b[0m\u001b[1;33m:\u001b[0m\u001b[1;33m\u001b[0m\u001b[1;33m\u001b[0m\u001b[0m\n\u001b[0m\u001b[0;32m      2\u001b[0m     \u001b[0mprint\u001b[0m\u001b[1;33m(\u001b[0m\u001b[0mi\u001b[0m\u001b[1;33m,\u001b[0m\u001b[0mj\u001b[0m\u001b[1;33m)\u001b[0m\u001b[1;33m\u001b[0m\u001b[1;33m\u001b[0m\u001b[0m\n",
      "\u001b[1;31mValueError\u001b[0m: too many values to unpack (expected 2)"
     ]
    }
   ],
   "source": [
    "for i,j in l2,l3:\n",
    "    print(i,j)"
   ]
  },
  {
   "cell_type": "markdown",
   "id": "444cf161",
   "metadata": {
    "id": "444cf161"
   },
   "source": [
    "**ERROR SEBEBİ:** Bu hata, değişken sayısı değer sayısıyla eşleşmediğinde ortaya çıkar. Eşitsizliğin bir sonucu olarak, Python hangi değerlerin hangi değişkenlere atanacağını bilmez."
   ]
  },
  {
   "cell_type": "code",
   "execution_count": null,
   "id": "28bcbf66",
   "metadata": {
    "id": "28bcbf66",
    "outputId": "f5a5d813-7ccd-4f59-9c3a-e77d59c1c332"
   },
   "outputs": [
    {
     "name": "stdout",
     "output_type": "stream",
     "text": [
      "1 1\n",
      "2 2\n",
      "3 9\n",
      "4 4\n",
      "5 25\n",
      "6 6\n"
     ]
    }
   ],
   "source": [
    "for i,j in zip(l2,l3):\n",
    "    print(i,j)"
   ]
  },
  {
   "cell_type": "code",
   "execution_count": null,
   "id": "e249dc39",
   "metadata": {
    "id": "e249dc39",
    "outputId": "d0801eba-7689-4fa5-f6b3-f70974dd33f2"
   },
   "outputs": [
    {
     "data": {
      "text/plain": [
       "[2, 4, 12, 8, 30, 12]"
      ]
     },
     "execution_count": 66,
     "metadata": {},
     "output_type": "execute_result"
    }
   ],
   "source": [
    "[i+j for i,j in zip(l2,l3)]"
   ]
  },
  {
   "cell_type": "markdown",
   "id": "d6032c80",
   "metadata": {
    "id": "d6032c80"
   },
   "source": [
    "## İki boyutlu liste tanımlama:"
   ]
  },
  {
   "cell_type": "code",
   "execution_count": null,
   "id": "9d580380",
   "metadata": {
    "id": "9d580380"
   },
   "outputs": [],
   "source": [
    "l=[[1,2,3],[4,5,6],[7,8,9]]"
   ]
  },
  {
   "cell_type": "code",
   "execution_count": null,
   "id": "697ec112",
   "metadata": {
    "id": "697ec112",
    "outputId": "4fd5fb31-7ddb-4d60-d8bd-de867e17f530"
   },
   "outputs": [
    {
     "data": {
      "text/plain": [
       "[[1, 2, 3], [4, 5, 6], [7, 8, 9]]"
      ]
     },
     "execution_count": 68,
     "metadata": {},
     "output_type": "execute_result"
    }
   ],
   "source": [
    "l"
   ]
  },
  {
   "cell_type": "markdown",
   "id": "f615b415",
   "metadata": {
    "id": "f615b415"
   },
   "source": [
    "**Aşağıdaki gibi** listenin satırlarını matris şeklinde yazdırabiliriz."
   ]
  },
  {
   "cell_type": "code",
   "execution_count": null,
   "id": "1a93c0dc",
   "metadata": {
    "id": "1a93c0dc",
    "outputId": "9856ab5c-e73e-4d62-ea98-44cd6318c1a1"
   },
   "outputs": [
    {
     "name": "stdout",
     "output_type": "stream",
     "text": [
      "1 2 3 \n",
      "4 5 6 \n",
      "7 8 9 \n"
     ]
    }
   ],
   "source": [
    "for i in l:\n",
    "    for j in i:\n",
    "        print(j, end=' ')\n",
    "    print()"
   ]
  },
  {
   "cell_type": "markdown",
   "id": "cab04b78",
   "metadata": {
    "id": "cab04b78"
   },
   "source": [
    "## dict kullanımı:"
   ]
  },
  {
   "cell_type": "markdown",
   "id": "4ac35b9e",
   "metadata": {
    "id": "4ac35b9e"
   },
   "source": [
    "* Yani sözlükler\n",
    "* Python'daki sözlük, bir öge olarak yalnızca tek bir değer tutan diğer veri türlerinin aksine, bir harita gibi veri değerlerini depolamak için kullanılan bir anahtar değerler koleksiyonudur.\n",
    "* key:value pair dediğimiz bir yapıya sahiptir.\n",
    "* unordered yani sırasızdır, içindeki elemanlar sıralı değildir. İçindeki değerlerin sırasına göre elemanlara erişmek mümkün değildir.\n",
    "* Slicing uygulanmıyor! \n",
    "* **Slicing:** Bu sözdizimini kullanarak bir dizi karakter döndürebilirsiniz. Dizenin bir bölümünü döndürmek için başlangıç dizinini ve bitiş dizinini iki nokta üst üste ile ayırarak belirtin.\n",
    "* key değerleri immutable veri yapılarında olmalıdır. Yani int, float, str, tuple olabilir ama list olamaz.\n",
    "* generic kendine ait fonksiyonları vardır.\n",
    "* value değerinin tekrar etmesi problem değildir yani farklı key'lere aynı value'lar atanabilir.\n",
    "* key değerleri aynı olmamalıdır. Eğer aynı olursa override eder. Bu durumda ilk key değerini kaldırıp yeni key değerini ekleyecektir."
   ]
  },
  {
   "cell_type": "code",
   "execution_count": null,
   "id": "72e8c7c6",
   "metadata": {
    "id": "72e8c7c6"
   },
   "outputs": [],
   "source": [
    "a = {}"
   ]
  },
  {
   "cell_type": "code",
   "execution_count": null,
   "id": "705eb3fc",
   "metadata": {
    "id": "705eb3fc",
    "outputId": "1d1adf2e-70ee-4be1-d73b-a3e5a1a9e68e"
   },
   "outputs": [
    {
     "data": {
      "text/plain": [
       "{}"
      ]
     },
     "execution_count": 71,
     "metadata": {},
     "output_type": "execute_result"
    }
   ],
   "source": [
    "a"
   ]
  },
  {
   "cell_type": "code",
   "execution_count": null,
   "id": "07be0b33",
   "metadata": {
    "id": "07be0b33",
    "outputId": "653a63dc-bbbe-49d7-bb6a-4db8b9e50ff4"
   },
   "outputs": [
    {
     "data": {
      "text/plain": [
       "dict"
      ]
     },
     "execution_count": 72,
     "metadata": {},
     "output_type": "execute_result"
    }
   ],
   "source": [
    "type(a)"
   ]
  },
  {
   "cell_type": "code",
   "execution_count": null,
   "id": "9ad9cdb4",
   "metadata": {
    "id": "9ad9cdb4",
    "outputId": "c5ad79c6-2bae-4eb8-9a23-1429f772c364"
   },
   "outputs": [
    {
     "data": {
      "text/plain": [
       "['__class__',\n",
       " '__class_getitem__',\n",
       " '__contains__',\n",
       " '__delattr__',\n",
       " '__delitem__',\n",
       " '__dir__',\n",
       " '__doc__',\n",
       " '__eq__',\n",
       " '__format__',\n",
       " '__ge__',\n",
       " '__getattribute__',\n",
       " '__getitem__',\n",
       " '__gt__',\n",
       " '__hash__',\n",
       " '__init__',\n",
       " '__init_subclass__',\n",
       " '__ior__',\n",
       " '__iter__',\n",
       " '__le__',\n",
       " '__len__',\n",
       " '__lt__',\n",
       " '__ne__',\n",
       " '__new__',\n",
       " '__or__',\n",
       " '__reduce__',\n",
       " '__reduce_ex__',\n",
       " '__repr__',\n",
       " '__reversed__',\n",
       " '__ror__',\n",
       " '__setattr__',\n",
       " '__setitem__',\n",
       " '__sizeof__',\n",
       " '__str__',\n",
       " '__subclasshook__',\n",
       " 'clear',\n",
       " 'copy',\n",
       " 'fromkeys',\n",
       " 'get',\n",
       " 'items',\n",
       " 'keys',\n",
       " 'pop',\n",
       " 'popitem',\n",
       " 'setdefault',\n",
       " 'update',\n",
       " 'values']"
      ]
     },
     "execution_count": 73,
     "metadata": {},
     "output_type": "execute_result"
    }
   ],
   "source": [
    "dir(a)"
   ]
  },
  {
   "cell_type": "code",
   "execution_count": null,
   "id": "5c4b1bdf",
   "metadata": {
    "id": "5c4b1bdf"
   },
   "outputs": [],
   "source": [
    "a={1:'A', 2:'B', 3:'C'}"
   ]
  },
  {
   "cell_type": "code",
   "execution_count": null,
   "id": "1585332c",
   "metadata": {
    "id": "1585332c",
    "outputId": "1d935983-b08d-424f-cc03-1ec7e54f6b67"
   },
   "outputs": [
    {
     "data": {
      "text/plain": [
       "{1: 'A', 2: 'B', 3: 'C'}"
      ]
     },
     "execution_count": 75,
     "metadata": {},
     "output_type": "execute_result"
    }
   ],
   "source": [
    "a"
   ]
  },
  {
   "cell_type": "code",
   "execution_count": null,
   "id": "8f18e64f",
   "metadata": {
    "id": "8f18e64f"
   },
   "outputs": [],
   "source": [
    "a={1.5:'A', 2:'B', 3:'C'}"
   ]
  },
  {
   "cell_type": "code",
   "execution_count": null,
   "id": "432861af",
   "metadata": {
    "id": "432861af",
    "outputId": "2294ba84-7bf8-4742-87e3-890e02eff3c3"
   },
   "outputs": [
    {
     "data": {
      "text/plain": [
       "{1.5: 'A', 2: 'B', 3: 'C'}"
      ]
     },
     "execution_count": 77,
     "metadata": {},
     "output_type": "execute_result"
    }
   ],
   "source": [
    "a"
   ]
  },
  {
   "cell_type": "code",
   "execution_count": null,
   "id": "cc48c7a0",
   "metadata": {
    "id": "cc48c7a0"
   },
   "outputs": [],
   "source": [
    "a={'deneme':'A', 2:'B', 3:'C'}"
   ]
  },
  {
   "cell_type": "code",
   "execution_count": null,
   "id": "47296aca",
   "metadata": {
    "id": "47296aca",
    "outputId": "768fdb0e-2a5f-416d-a27f-4f9feae85570"
   },
   "outputs": [
    {
     "data": {
      "text/plain": [
       "{'deneme': 'A', 2: 'B', 3: 'C'}"
      ]
     },
     "execution_count": 79,
     "metadata": {},
     "output_type": "execute_result"
    }
   ],
   "source": [
    "a"
   ]
  },
  {
   "cell_type": "code",
   "execution_count": null,
   "id": "1500320e",
   "metadata": {
    "id": "1500320e"
   },
   "outputs": [],
   "source": [
    "a={'key':'B', 2:'B', 3:'C'}"
   ]
  },
  {
   "cell_type": "code",
   "execution_count": null,
   "id": "f5e907bf",
   "metadata": {
    "id": "f5e907bf",
    "outputId": "8798795a-44b4-43b1-b820-db748b78cbfd"
   },
   "outputs": [
    {
     "data": {
      "text/plain": [
       "{'key': 'B', 2: 'B', 3: 'C'}"
      ]
     },
     "execution_count": 81,
     "metadata": {},
     "output_type": "execute_result"
    }
   ],
   "source": [
    "a"
   ]
  },
  {
   "cell_type": "code",
   "execution_count": null,
   "id": "d6896e9b",
   "metadata": {
    "id": "d6896e9b"
   },
   "outputs": [],
   "source": [
    "a={1:'A', 2:'B', 1:'C'}"
   ]
  },
  {
   "cell_type": "code",
   "execution_count": null,
   "id": "91c3fa66",
   "metadata": {
    "id": "91c3fa66",
    "outputId": "1f273466-390b-4a4c-adfb-329fd667ee48"
   },
   "outputs": [
    {
     "data": {
      "text/plain": [
       "{1: 'C', 2: 'B'}"
      ]
     },
     "execution_count": 83,
     "metadata": {},
     "output_type": "execute_result"
    }
   ],
   "source": [
    "a"
   ]
  },
  {
   "cell_type": "code",
   "execution_count": null,
   "id": "7cc42bdc",
   "metadata": {
    "id": "7cc42bdc"
   },
   "outputs": [],
   "source": [
    "a={1:'A', 2:'B', 3:[1,2,3]}"
   ]
  },
  {
   "cell_type": "code",
   "execution_count": null,
   "id": "bb1cc248",
   "metadata": {
    "id": "bb1cc248",
    "outputId": "e4907936-a523-4eb6-ba9f-4bcc29a0f90f"
   },
   "outputs": [
    {
     "data": {
      "text/plain": [
       "{1: 'A', 2: 'B', 3: [1, 2, 3]}"
      ]
     },
     "execution_count": 85,
     "metadata": {},
     "output_type": "execute_result"
    }
   ],
   "source": [
    "a"
   ]
  },
  {
   "cell_type": "code",
   "execution_count": null,
   "id": "b5ad026c",
   "metadata": {
    "id": "b5ad026c"
   },
   "outputs": [],
   "source": [
    "a={1:'A', 2:{1:'a',2:'b'}, 3:'C'}"
   ]
  },
  {
   "cell_type": "code",
   "execution_count": null,
   "id": "e00b03ec",
   "metadata": {
    "id": "e00b03ec",
    "outputId": "1d9839e6-7fd1-47fe-e5f0-ee03473bc8c5"
   },
   "outputs": [
    {
     "data": {
      "text/plain": [
       "{1: 'A', 2: {1: 'a', 2: 'b'}, 3: 'C'}"
      ]
     },
     "execution_count": 87,
     "metadata": {},
     "output_type": "execute_result"
    }
   ],
   "source": [
    "a"
   ]
  },
  {
   "cell_type": "code",
   "execution_count": null,
   "id": "bc6968e4",
   "metadata": {
    "id": "bc6968e4"
   },
   "outputs": [],
   "source": [
    "a= {(1,2):'A', 2:'B', 3:'C'}"
   ]
  },
  {
   "cell_type": "code",
   "execution_count": null,
   "id": "4d0dccbd",
   "metadata": {
    "id": "4d0dccbd",
    "outputId": "d3225c7a-68de-4f48-a477-22d7807057c6"
   },
   "outputs": [
    {
     "data": {
      "text/plain": [
       "{(1, 2): 'A', 2: 'B', 3: 'C'}"
      ]
     },
     "execution_count": 89,
     "metadata": {},
     "output_type": "execute_result"
    }
   ],
   "source": [
    "a"
   ]
  },
  {
   "cell_type": "code",
   "execution_count": null,
   "id": "05b09a70",
   "metadata": {
    "id": "05b09a70",
    "outputId": "bf1c1bda-32a1-4f28-e84f-3517f488bc95"
   },
   "outputs": [
    {
     "ename": "TypeError",
     "evalue": "unhashable type: 'list'",
     "output_type": "error",
     "traceback": [
      "\u001b[1;31m---------------------------------------------------------------------------\u001b[0m",
      "\u001b[1;31mTypeError\u001b[0m                                 Traceback (most recent call last)",
      "\u001b[1;32m~\\AppData\\Local\\Temp\\ipykernel_30728\\440619954.py\u001b[0m in \u001b[0;36m<module>\u001b[1;34m\u001b[0m\n\u001b[1;32m----> 1\u001b[1;33m \u001b[0ma\u001b[0m\u001b[1;33m=\u001b[0m \u001b[1;33m{\u001b[0m\u001b[1;33m[\u001b[0m\u001b[1;36m1\u001b[0m\u001b[1;33m,\u001b[0m\u001b[1;36m2\u001b[0m\u001b[1;33m]\u001b[0m\u001b[1;33m:\u001b[0m\u001b[1;34m'A'\u001b[0m\u001b[1;33m,\u001b[0m \u001b[1;36m2\u001b[0m\u001b[1;33m:\u001b[0m\u001b[1;34m'B'\u001b[0m\u001b[1;33m,\u001b[0m \u001b[1;36m3\u001b[0m\u001b[1;33m:\u001b[0m\u001b[1;34m'C'\u001b[0m\u001b[1;33m}\u001b[0m\u001b[1;33m\u001b[0m\u001b[1;33m\u001b[0m\u001b[0m\n\u001b[0m",
      "\u001b[1;31mTypeError\u001b[0m: unhashable type: 'list'"
     ]
    }
   ],
   "source": [
    "a= {[1,2]:'A', 2:'B', 3:'C'}"
   ]
  },
  {
   "cell_type": "markdown",
   "id": "69aeb46b",
   "metadata": {
    "id": "69aeb46b"
   },
   "source": [
    "**ERROR SEBEBİ:** List yapısının immutable olmamasıdır."
   ]
  },
  {
   "cell_type": "code",
   "execution_count": null,
   "id": "76c41098",
   "metadata": {
    "id": "76c41098",
    "outputId": "9400f6e2-7ef1-4f73-f602-5cb1414aeb5d"
   },
   "outputs": [
    {
     "data": {
      "text/plain": [
       "{(1, 2): 'A', 2: 'B', 3: 'C'}"
      ]
     },
     "execution_count": 91,
     "metadata": {},
     "output_type": "execute_result"
    }
   ],
   "source": [
    "a"
   ]
  },
  {
   "cell_type": "code",
   "execution_count": null,
   "id": "8f02f040",
   "metadata": {
    "id": "8f02f040",
    "outputId": "7b8aa730-1576-4c31-865a-2fbcaf27c2eb"
   },
   "outputs": [
    {
     "data": {
      "text/plain": [
       "3"
      ]
     },
     "execution_count": 92,
     "metadata": {},
     "output_type": "execute_result"
    }
   ],
   "source": [
    "len(a)"
   ]
  },
  {
   "cell_type": "markdown",
   "id": "ebd97a45",
   "metadata": {
    "id": "ebd97a45"
   },
   "source": [
    "### true-false return:"
   ]
  },
  {
   "cell_type": "markdown",
   "id": "ca8e5d24",
   "metadata": {
    "id": "ca8e5d24"
   },
   "source": [
    "**true return:**"
   ]
  },
  {
   "cell_type": "code",
   "execution_count": null,
   "id": "27094f4a",
   "metadata": {
    "id": "27094f4a",
    "outputId": "62c1a6e8-5185-44dd-f786-2825dd846e61"
   },
   "outputs": [
    {
     "name": "stdout",
     "output_type": "stream",
     "text": [
      "eleman var\n"
     ]
    }
   ],
   "source": [
    "if a:\n",
    "    print(\"eleman var\")\n",
    "else:\n",
    "    print(\"eleman yok\")"
   ]
  },
  {
   "cell_type": "markdown",
   "id": "82b31a78",
   "metadata": {
    "id": "82b31a78"
   },
   "source": [
    "### .clear() kullanımı:"
   ]
  },
  {
   "cell_type": "markdown",
   "id": "e894072d",
   "metadata": {
    "id": "e894072d"
   },
   "source": [
    "İçindeki bütün değerleri boşaltır."
   ]
  },
  {
   "cell_type": "code",
   "execution_count": null,
   "id": "33a4eaed",
   "metadata": {
    "id": "33a4eaed"
   },
   "outputs": [],
   "source": [
    "a.clear()"
   ]
  },
  {
   "cell_type": "code",
   "execution_count": null,
   "id": "1dc121ec",
   "metadata": {
    "id": "1dc121ec",
    "outputId": "0063bf29-6201-4b78-c1b9-5f4fab242811"
   },
   "outputs": [
    {
     "data": {
      "text/plain": [
       "{}"
      ]
     },
     "execution_count": 95,
     "metadata": {},
     "output_type": "execute_result"
    }
   ],
   "source": [
    "a"
   ]
  },
  {
   "cell_type": "markdown",
   "id": "06ca2912",
   "metadata": {
    "id": "06ca2912"
   },
   "source": [
    "**false return:**"
   ]
  },
  {
   "cell_type": "code",
   "execution_count": null,
   "id": "c71db446",
   "metadata": {
    "id": "c71db446",
    "outputId": "9134935b-8b3b-4516-d9a8-eeb6984b05d5"
   },
   "outputs": [
    {
     "name": "stdout",
     "output_type": "stream",
     "text": [
      "eleman yok\n"
     ]
    }
   ],
   "source": [
    "if a:\n",
    "    print(\"eleman var\")\n",
    "else:\n",
    "    print(\"eleman yok\")"
   ]
  },
  {
   "cell_type": "code",
   "execution_count": null,
   "id": "3dc0a99b",
   "metadata": {
    "id": "3dc0a99b"
   },
   "outputs": [],
   "source": [
    "a={1:'A', 2:'B', 3:'C'}"
   ]
  },
  {
   "cell_type": "code",
   "execution_count": null,
   "id": "95053203",
   "metadata": {
    "id": "95053203",
    "outputId": "92e3d124-73c2-466b-acf3-9308a29737ba"
   },
   "outputs": [
    {
     "data": {
      "text/plain": [
       "{1: 'A', 2: 'B', 3: 'C'}"
      ]
     },
     "execution_count": 98,
     "metadata": {},
     "output_type": "execute_result"
    }
   ],
   "source": [
    "a"
   ]
  },
  {
   "cell_type": "code",
   "execution_count": null,
   "id": "8dd42711",
   "metadata": {
    "id": "8dd42711",
    "outputId": "cc8ab427-bd3b-4b7d-a7db-74c329ec11dc"
   },
   "outputs": [
    {
     "name": "stdout",
     "output_type": "stream",
     "text": [
      "1\n",
      "2\n",
      "3\n"
     ]
    }
   ],
   "source": [
    "for i in a:\n",
    "    print(i)"
   ]
  },
  {
   "cell_type": "markdown",
   "id": "16c9ba59",
   "metadata": {
    "id": "16c9ba59"
   },
   "source": [
    "## .items() metodu:"
   ]
  },
  {
   "cell_type": "markdown",
   "id": "cffca798",
   "metadata": {
    "id": "cffca798"
   },
   "source": [
    "* Her bir elemanı görüntülemek için kullanılır.\n",
    "* Her bir elemanı tuple olarak return eder.\n",
    "* Hem key hem value değerlerini çıktı olarak alabiliriz.\n",
    "* Key değerleri de string değerler olabilir hem key hem de value değerler yine çıktı olarak görünür."
   ]
  },
  {
   "cell_type": "code",
   "execution_count": null,
   "id": "2e48ab10",
   "metadata": {
    "id": "2e48ab10",
    "outputId": "cacf4632-4849-4beb-bb05-48d960cdfeef"
   },
   "outputs": [
    {
     "name": "stdout",
     "output_type": "stream",
     "text": [
      "(1, 'A')\n",
      "(2, 'B')\n",
      "(3, 'C')\n"
     ]
    }
   ],
   "source": [
    "for i in a.items():\n",
    "    print(i)"
   ]
  },
  {
   "cell_type": "code",
   "execution_count": null,
   "id": "edd58cf4",
   "metadata": {
    "id": "edd58cf4",
    "outputId": "5bc6654f-c37a-49fa-8e8b-ff4025e738ce"
   },
   "outputs": [
    {
     "name": "stdout",
     "output_type": "stream",
     "text": [
      "1 A\n",
      "2 B\n",
      "3 C\n"
     ]
    }
   ],
   "source": [
    "for i,j in a.items():\n",
    "    print(i,j)"
   ]
  },
  {
   "cell_type": "code",
   "execution_count": null,
   "id": "1f6088f0",
   "metadata": {
    "id": "1f6088f0"
   },
   "outputs": [],
   "source": [
    "a={'1':'A', '2': 'B','3':'C'}"
   ]
  },
  {
   "cell_type": "code",
   "execution_count": null,
   "id": "2db99396",
   "metadata": {
    "id": "2db99396",
    "outputId": "45ba6e34-60ef-4f36-dd27-534454113d19"
   },
   "outputs": [
    {
     "data": {
      "text/plain": [
       "{'1': 'A', '2': 'B', '3': 'C'}"
      ]
     },
     "execution_count": 103,
     "metadata": {},
     "output_type": "execute_result"
    }
   ],
   "source": [
    "a"
   ]
  },
  {
   "cell_type": "code",
   "execution_count": null,
   "id": "a12fc620",
   "metadata": {
    "id": "a12fc620",
    "outputId": "46f214aa-6f2e-4d53-a062-1c8816f1c30f"
   },
   "outputs": [
    {
     "name": "stdout",
     "output_type": "stream",
     "text": [
      "1 A\n",
      "2 B\n",
      "3 C\n"
     ]
    }
   ],
   "source": [
    "for i,j in a.items():\n",
    "    print(i,j)"
   ]
  },
  {
   "cell_type": "code",
   "execution_count": null,
   "id": "2cbc307b",
   "metadata": {
    "id": "2cbc307b",
    "outputId": "b291ee2e-94b6-48f2-e024-497fc76ccf56"
   },
   "outputs": [
    {
     "data": {
      "text/plain": [
       "'A'"
      ]
     },
     "execution_count": 105,
     "metadata": {},
     "output_type": "execute_result"
    }
   ],
   "source": [
    "a['1']"
   ]
  },
  {
   "cell_type": "code",
   "execution_count": null,
   "id": "9edbb047",
   "metadata": {
    "id": "9edbb047"
   },
   "outputs": [],
   "source": [
    "a['1'] = 100"
   ]
  },
  {
   "cell_type": "code",
   "execution_count": null,
   "id": "ebd586df",
   "metadata": {
    "id": "ebd586df",
    "outputId": "85781b8f-5033-4493-cccb-2ab0292088d0"
   },
   "outputs": [
    {
     "data": {
      "text/plain": [
       "{'1': 100, '2': 'B', '3': 'C'}"
      ]
     },
     "execution_count": 107,
     "metadata": {},
     "output_type": "execute_result"
    }
   ],
   "source": [
    "a"
   ]
  },
  {
   "cell_type": "code",
   "execution_count": null,
   "id": "5c4d5999",
   "metadata": {
    "id": "5c4d5999",
    "outputId": "948f4222-1b5b-4fd4-e811-052a60755784"
   },
   "outputs": [
    {
     "ename": "KeyError",
     "evalue": "'deneme'",
     "output_type": "error",
     "traceback": [
      "\u001b[1;31m---------------------------------------------------------------------------\u001b[0m",
      "\u001b[1;31mKeyError\u001b[0m                                  Traceback (most recent call last)",
      "\u001b[1;32m~\\AppData\\Local\\Temp\\ipykernel_30728\\2713466938.py\u001b[0m in \u001b[0;36m<module>\u001b[1;34m\u001b[0m\n\u001b[1;32m----> 1\u001b[1;33m \u001b[0ma\u001b[0m\u001b[1;33m[\u001b[0m\u001b[1;34m'deneme'\u001b[0m\u001b[1;33m]\u001b[0m\u001b[1;33m\u001b[0m\u001b[1;33m\u001b[0m\u001b[0m\n\u001b[0m",
      "\u001b[1;31mKeyError\u001b[0m: 'deneme'"
     ]
    }
   ],
   "source": [
    "a['deneme']"
   ]
  },
  {
   "cell_type": "markdown",
   "id": "3bd7c8a0",
   "metadata": {
    "id": "3bd7c8a0"
   },
   "source": [
    "**ERROR SEBEBİ:** Hiç olmayan bir değeri çıktı olarak alamayız."
   ]
  },
  {
   "cell_type": "code",
   "execution_count": null,
   "id": "c49780ad",
   "metadata": {
    "id": "c49780ad"
   },
   "outputs": [],
   "source": [
    "a['deneme'] = 1234"
   ]
  },
  {
   "cell_type": "code",
   "execution_count": null,
   "id": "6daf2ccc",
   "metadata": {
    "id": "6daf2ccc",
    "outputId": "7a551c59-e887-4e6d-927b-87a7ae26f601"
   },
   "outputs": [
    {
     "data": {
      "text/plain": [
       "{'1': 100, '2': 'B', '3': 'C', 'deneme': 1234}"
      ]
     },
     "execution_count": 110,
     "metadata": {},
     "output_type": "execute_result"
    }
   ],
   "source": [
    "a"
   ]
  },
  {
   "cell_type": "markdown",
   "id": "5422d8c7",
   "metadata": {
    "id": "5422d8c7"
   },
   "source": [
    "**Ama** hiç olmayan bir değere atama yapılabilir."
   ]
  },
  {
   "cell_type": "markdown",
   "id": "011d5b5e",
   "metadata": {
    "id": "011d5b5e"
   },
   "source": [
    "## del işlemi:"
   ]
  },
  {
   "cell_type": "markdown",
   "id": "206d975b",
   "metadata": {
    "id": "206d975b"
   },
   "source": [
    "Girilen değeri siler."
   ]
  },
  {
   "cell_type": "code",
   "execution_count": null,
   "id": "2e4007aa",
   "metadata": {
    "id": "2e4007aa"
   },
   "outputs": [],
   "source": [
    "del a['1']"
   ]
  },
  {
   "cell_type": "code",
   "execution_count": null,
   "id": "af7b8359",
   "metadata": {
    "id": "af7b8359",
    "outputId": "a515f18a-884b-44b3-f778-3c58f00d65d3"
   },
   "outputs": [
    {
     "data": {
      "text/plain": [
       "{'2': 'B', '3': 'C', 'deneme': 1234}"
      ]
     },
     "execution_count": 112,
     "metadata": {},
     "output_type": "execute_result"
    }
   ],
   "source": [
    "a"
   ]
  },
  {
   "cell_type": "markdown",
   "id": "d223bf85",
   "metadata": {
    "id": "d223bf85"
   },
   "source": [
    "## .pop() metodu:"
   ]
  },
  {
   "cell_type": "markdown",
   "id": "2eb581dc",
   "metadata": {
    "id": "2eb581dc"
   },
   "source": [
    "Bu metotla yazılan değeri çıkarır."
   ]
  },
  {
   "cell_type": "code",
   "execution_count": null,
   "id": "1b3bd540",
   "metadata": {
    "id": "1b3bd540",
    "outputId": "0b565c92-f11a-47ff-9fbd-e3666927588f"
   },
   "outputs": [
    {
     "data": {
      "text/plain": [
       "1234"
      ]
     },
     "execution_count": 113,
     "metadata": {},
     "output_type": "execute_result"
    }
   ],
   "source": [
    "a.pop('deneme')"
   ]
  },
  {
   "cell_type": "code",
   "execution_count": null,
   "id": "9432331c",
   "metadata": {
    "id": "9432331c",
    "outputId": "31f7cc7c-5885-47f2-a812-4241ad4ed9b0"
   },
   "outputs": [
    {
     "data": {
      "text/plain": [
       "{'2': 'B', '3': 'C'}"
      ]
     },
     "execution_count": 114,
     "metadata": {},
     "output_type": "execute_result"
    }
   ],
   "source": [
    "a"
   ]
  },
  {
   "cell_type": "markdown",
   "id": "1d29f559",
   "metadata": {
    "id": "1d29f559"
   },
   "source": [
    "## .get() metodu:"
   ]
  },
  {
   "cell_type": "markdown",
   "id": "087018ed",
   "metadata": {
    "id": "087018ed"
   },
   "source": [
    "* Bu metotla değeri alabiliriz.\n",
    "* Eğer olmayan bir değeri almaya kalkarsak hata ile karşılaşmayız değer olmadığı için çıktı almayız."
   ]
  },
  {
   "cell_type": "code",
   "execution_count": null,
   "id": "76d50097",
   "metadata": {
    "id": "76d50097",
    "outputId": "e51b3806-530e-41a6-9f93-0a8c99b0b001"
   },
   "outputs": [
    {
     "data": {
      "text/plain": [
       "'C'"
      ]
     },
     "execution_count": 115,
     "metadata": {},
     "output_type": "execute_result"
    }
   ],
   "source": [
    "a.get('3')"
   ]
  },
  {
   "cell_type": "code",
   "execution_count": null,
   "id": "fa76d6b7",
   "metadata": {
    "id": "fa76d6b7"
   },
   "outputs": [],
   "source": [
    "a.get('45')"
   ]
  },
  {
   "cell_type": "markdown",
   "id": "e676efab",
   "metadata": {
    "id": "e676efab"
   },
   "source": [
    "### true-false dönüşü alma:"
   ]
  },
  {
   "cell_type": "code",
   "execution_count": null,
   "id": "90efc3b7",
   "metadata": {
    "id": "90efc3b7",
    "outputId": "045b87c6-d328-426b-e5ff-c537537632d2"
   },
   "outputs": [
    {
     "data": {
      "text/plain": [
       "True"
      ]
     },
     "execution_count": 117,
     "metadata": {},
     "output_type": "execute_result"
    }
   ],
   "source": [
    "'3' in a"
   ]
  },
  {
   "cell_type": "code",
   "execution_count": null,
   "id": "0765401a",
   "metadata": {
    "id": "0765401a",
    "outputId": "2d2ccdee-1727-4d5f-b676-8afea57d80c2"
   },
   "outputs": [
    {
     "data": {
      "text/plain": [
       "False"
      ]
     },
     "execution_count": 118,
     "metadata": {},
     "output_type": "execute_result"
    }
   ],
   "source": [
    "'55' in a"
   ]
  },
  {
   "cell_type": "markdown",
   "id": "f8458c0d",
   "metadata": {
    "id": "f8458c0d"
   },
   "source": [
    "## .keys() metodu:"
   ]
  },
  {
   "cell_type": "markdown",
   "id": "0fa7580c",
   "metadata": {
    "id": "0fa7580c"
   },
   "source": [
    "Sadece key değerlerini döndürebiliriz."
   ]
  },
  {
   "cell_type": "code",
   "execution_count": null,
   "id": "8013a3d4",
   "metadata": {
    "id": "8013a3d4",
    "outputId": "2b3f5417-65aa-4c00-f51a-4c8b9633988b"
   },
   "outputs": [
    {
     "name": "stdout",
     "output_type": "stream",
     "text": [
      "2\n",
      "3\n"
     ]
    }
   ],
   "source": [
    "for i in a.keys():\n",
    "    print(i)"
   ]
  },
  {
   "cell_type": "markdown",
   "id": "33152863",
   "metadata": {
    "id": "33152863"
   },
   "source": [
    "## .values() metodu:"
   ]
  },
  {
   "cell_type": "markdown",
   "id": "47e24b3a",
   "metadata": {
    "id": "47e24b3a"
   },
   "source": [
    "Sedece value değerlerini döndürebiliriz."
   ]
  },
  {
   "cell_type": "code",
   "execution_count": null,
   "id": "30950e1a",
   "metadata": {
    "id": "30950e1a",
    "outputId": "7fef83ba-4883-48d5-b100-34d91ef4fa31"
   },
   "outputs": [
    {
     "name": "stdout",
     "output_type": "stream",
     "text": [
      "B\n",
      "C\n"
     ]
    }
   ],
   "source": [
    "for i in a.values():\n",
    "    print(i)"
   ]
  },
  {
   "cell_type": "markdown",
   "id": "25016c83",
   "metadata": {
    "id": "25016c83"
   },
   "source": [
    "## shallow copy (sığ kopyalama)"
   ]
  },
  {
   "cell_type": "markdown",
   "id": "6b362164",
   "metadata": {
    "id": "6b362164"
   },
   "source": [
    "* Atama a ile b arasındaki ilişkiyi koparmaz.\n",
    "* a üzerinde yapılan değişiklikler b üzerine yansır.\n",
    "* b farklı bir yerde tutulmasına rağmen a'nın bir temsilini gösterir. \n",
    "* b üzerinde yapılan değişiklikler hataya sebep olabilir çünkü a üzerinde etkilidir.\n",
    "* Riskli bir durumdur."
   ]
  },
  {
   "cell_type": "code",
   "execution_count": null,
   "id": "d9349010",
   "metadata": {
    "id": "d9349010"
   },
   "outputs": [],
   "source": [
    "b=a.keys()"
   ]
  },
  {
   "cell_type": "code",
   "execution_count": null,
   "id": "c03fc5ac",
   "metadata": {
    "id": "c03fc5ac",
    "outputId": "b53efa2b-9257-4e16-e4ab-ed9d423b4981"
   },
   "outputs": [
    {
     "data": {
      "text/plain": [
       "dict_keys"
      ]
     },
     "execution_count": 122,
     "metadata": {},
     "output_type": "execute_result"
    }
   ],
   "source": [
    "type(b)"
   ]
  },
  {
   "cell_type": "code",
   "execution_count": null,
   "id": "40a03eb1",
   "metadata": {
    "id": "40a03eb1",
    "outputId": "03625609-6481-4f7d-f5c2-92c456ed1c73"
   },
   "outputs": [
    {
     "data": {
      "text/plain": [
       "2322939154000"
      ]
     },
     "execution_count": 123,
     "metadata": {},
     "output_type": "execute_result"
    }
   ],
   "source": [
    "id(b)"
   ]
  },
  {
   "cell_type": "code",
   "execution_count": null,
   "id": "146379aa",
   "metadata": {
    "id": "146379aa",
    "outputId": "1d80f720-2bde-4c62-8f90-e1a1e023d9b2"
   },
   "outputs": [
    {
     "data": {
      "text/plain": [
       "2322940254144"
      ]
     },
     "execution_count": 124,
     "metadata": {},
     "output_type": "execute_result"
    }
   ],
   "source": [
    "id(a)"
   ]
  },
  {
   "cell_type": "code",
   "execution_count": null,
   "id": "8b506e2e",
   "metadata": {
    "id": "8b506e2e",
    "outputId": "0b287625-ac57-4a12-db9e-e2378348370e"
   },
   "outputs": [
    {
     "name": "stdout",
     "output_type": "stream",
     "text": [
      "2\n",
      "3\n"
     ]
    }
   ],
   "source": [
    "for i in b:\n",
    "    print(i)"
   ]
  },
  {
   "cell_type": "code",
   "execution_count": null,
   "id": "3ab8f11a",
   "metadata": {
    "id": "3ab8f11a"
   },
   "outputs": [],
   "source": [
    "a['3']=123"
   ]
  },
  {
   "cell_type": "code",
   "execution_count": null,
   "id": "f5370656",
   "metadata": {
    "id": "f5370656",
    "outputId": "e04e782b-01bc-473c-b756-a17f5a36d207"
   },
   "outputs": [
    {
     "data": {
      "text/plain": [
       "{'2': 'B', '3': 123}"
      ]
     },
     "execution_count": 127,
     "metadata": {},
     "output_type": "execute_result"
    }
   ],
   "source": [
    "a"
   ]
  },
  {
   "cell_type": "code",
   "execution_count": null,
   "id": "31f0ac19",
   "metadata": {
    "id": "31f0ac19",
    "outputId": "ececbd01-96d0-4e50-bc4f-24417e4617de"
   },
   "outputs": [
    {
     "data": {
      "text/plain": [
       "dict_keys(['2', '3'])"
      ]
     },
     "execution_count": 128,
     "metadata": {},
     "output_type": "execute_result"
    }
   ],
   "source": [
    "b"
   ]
  },
  {
   "cell_type": "code",
   "execution_count": null,
   "id": "cebd21f9",
   "metadata": {
    "id": "cebd21f9"
   },
   "outputs": [],
   "source": [
    "a['5']=123"
   ]
  },
  {
   "cell_type": "code",
   "execution_count": null,
   "id": "4023d880",
   "metadata": {
    "id": "4023d880",
    "outputId": "0907fb56-0d2b-4880-e353-38eaaf0c7126"
   },
   "outputs": [
    {
     "data": {
      "text/plain": [
       "{'2': 'B', '3': 123, '5': 123}"
      ]
     },
     "execution_count": 130,
     "metadata": {},
     "output_type": "execute_result"
    }
   ],
   "source": [
    "a"
   ]
  },
  {
   "cell_type": "code",
   "execution_count": null,
   "id": "d3a02555",
   "metadata": {
    "id": "d3a02555",
    "outputId": "c429d42b-cbec-40b0-94d0-76e25f843964"
   },
   "outputs": [
    {
     "data": {
      "text/plain": [
       "dict_keys(['2', '3', '5'])"
      ]
     },
     "execution_count": 131,
     "metadata": {},
     "output_type": "execute_result"
    }
   ],
   "source": [
    "b"
   ]
  },
  {
   "cell_type": "markdown",
   "id": "e6c72d84",
   "metadata": {
    "id": "e6c72d84"
   },
   "source": [
    "## deep copy (derin kopyalama) işlemi"
   ]
  },
  {
   "cell_type": "markdown",
   "id": "1c5fb22d",
   "metadata": {
    "id": "1c5fb22d"
   },
   "source": [
    "* a ve b ilişkisi kopmuş olur.\n",
    "* a üzerinde yapılan değişiklikler b'yi etkilemez.\n"
   ]
  },
  {
   "cell_type": "code",
   "execution_count": null,
   "id": "6af65cd0",
   "metadata": {
    "id": "6af65cd0"
   },
   "outputs": [],
   "source": [
    "b = a.copy()"
   ]
  },
  {
   "cell_type": "code",
   "execution_count": null,
   "id": "de6eff4b",
   "metadata": {
    "id": "de6eff4b",
    "outputId": "647ff3d2-2bcd-4eb8-9061-be4ce78844b1"
   },
   "outputs": [
    {
     "data": {
      "text/plain": [
       "{'2': 'B', '3': 123, '5': 123}"
      ]
     },
     "execution_count": 133,
     "metadata": {},
     "output_type": "execute_result"
    }
   ],
   "source": [
    "b"
   ]
  },
  {
   "cell_type": "code",
   "execution_count": null,
   "id": "58f0e4c8",
   "metadata": {
    "id": "58f0e4c8"
   },
   "outputs": [],
   "source": [
    "a['1234'] = 123"
   ]
  },
  {
   "cell_type": "code",
   "execution_count": null,
   "id": "aade182c",
   "metadata": {
    "id": "aade182c",
    "outputId": "6c40b0e3-21aa-4e60-fd71-0227b05be493"
   },
   "outputs": [
    {
     "data": {
      "text/plain": [
       "{'2': 'B', '3': 123, '5': 123, '1234': 123}"
      ]
     },
     "execution_count": 135,
     "metadata": {},
     "output_type": "execute_result"
    }
   ],
   "source": [
    "a"
   ]
  },
  {
   "cell_type": "code",
   "execution_count": null,
   "id": "6c10be63",
   "metadata": {
    "id": "6c10be63",
    "outputId": "3ebd4a35-ae40-4d98-c17a-6001f6cd4090"
   },
   "outputs": [
    {
     "data": {
      "text/plain": [
       "{'2': 'B', '3': 123, '5': 123}"
      ]
     },
     "execution_count": 136,
     "metadata": {},
     "output_type": "execute_result"
    }
   ],
   "source": [
    "b"
   ]
  },
  {
   "cell_type": "markdown",
   "id": "97d193f5",
   "metadata": {
    "id": "97d193f5"
   },
   "source": [
    "### eşittir veya eşit değildir operatörleri"
   ]
  },
  {
   "cell_type": "code",
   "execution_count": null,
   "id": "15e568d1",
   "metadata": {
    "id": "15e568d1",
    "outputId": "38bb8e84-a808-4e8d-c2bd-16cd2ead9847"
   },
   "outputs": [
    {
     "data": {
      "text/plain": [
       "False"
      ]
     },
     "execution_count": 137,
     "metadata": {},
     "output_type": "execute_result"
    }
   ],
   "source": [
    "a == b"
   ]
  },
  {
   "cell_type": "code",
   "execution_count": null,
   "id": "77370218",
   "metadata": {
    "id": "77370218",
    "outputId": "fc138742-1b8d-4fb6-8ed8-ac6b11ef381c"
   },
   "outputs": [
    {
     "data": {
      "text/plain": [
       "True"
      ]
     },
     "execution_count": 138,
     "metadata": {},
     "output_type": "execute_result"
    }
   ],
   "source": [
    "a != b"
   ]
  },
  {
   "cell_type": "markdown",
   "id": "49080f88",
   "metadata": {
    "id": "49080f88"
   },
   "source": [
    "### küçüktür ve büyüktür operatörleri"
   ]
  },
  {
   "cell_type": "markdown",
   "id": "88e15ff8",
   "metadata": {
    "id": "88e15ff8"
   },
   "source": [
    "* Sözlükte desteklenmez.\n",
    "* İçindeki değerin ne olduğu önemsenmeksizin sözlük tarafından desteklenmezler."
   ]
  },
  {
   "cell_type": "code",
   "execution_count": null,
   "id": "b23629f9",
   "metadata": {
    "id": "b23629f9",
    "outputId": "513be8e8-3c3f-4604-dc93-f7785879102b"
   },
   "outputs": [
    {
     "ename": "TypeError",
     "evalue": "'<' not supported between instances of 'dict' and 'dict'",
     "output_type": "error",
     "traceback": [
      "\u001b[1;31m---------------------------------------------------------------------------\u001b[0m",
      "\u001b[1;31mTypeError\u001b[0m                                 Traceback (most recent call last)",
      "\u001b[1;32m~\\AppData\\Local\\Temp\\ipykernel_30728\\1572605836.py\u001b[0m in \u001b[0;36m<module>\u001b[1;34m\u001b[0m\n\u001b[1;32m----> 1\u001b[1;33m \u001b[0ma\u001b[0m \u001b[1;33m<\u001b[0m \u001b[0mb\u001b[0m\u001b[1;33m\u001b[0m\u001b[1;33m\u001b[0m\u001b[0m\n\u001b[0m",
      "\u001b[1;31mTypeError\u001b[0m: '<' not supported between instances of 'dict' and 'dict'"
     ]
    }
   ],
   "source": [
    "a < b"
   ]
  },
  {
   "cell_type": "code",
   "execution_count": null,
   "id": "28adad40",
   "metadata": {
    "id": "28adad40"
   },
   "outputs": [],
   "source": [
    "a={1:1,2:2,3:4}\n",
    "b={1:1,2:2,3:4}"
   ]
  },
  {
   "cell_type": "code",
   "execution_count": null,
   "id": "c5285128",
   "metadata": {
    "id": "c5285128",
    "outputId": "33b05947-4b36-439c-ac5d-706f8b174816"
   },
   "outputs": [
    {
     "data": {
      "text/plain": [
       "{1: 1, 2: 2, 3: 4}"
      ]
     },
     "execution_count": 141,
     "metadata": {},
     "output_type": "execute_result"
    }
   ],
   "source": [
    "a"
   ]
  },
  {
   "cell_type": "code",
   "execution_count": null,
   "id": "14e03bcd",
   "metadata": {
    "id": "14e03bcd",
    "outputId": "ad8f2fe6-db5e-49da-f83f-ce48d8af3581"
   },
   "outputs": [
    {
     "data": {
      "text/plain": [
       "{1: 1, 2: 2, 3: 4}"
      ]
     },
     "execution_count": 142,
     "metadata": {},
     "output_type": "execute_result"
    }
   ],
   "source": [
    "b"
   ]
  },
  {
   "cell_type": "code",
   "execution_count": null,
   "id": "59b5bd32",
   "metadata": {
    "id": "59b5bd32",
    "outputId": "e11160b0-974e-4b68-d692-ed4858b8dea8"
   },
   "outputs": [
    {
     "ename": "TypeError",
     "evalue": "'<' not supported between instances of 'dict' and 'dict'",
     "output_type": "error",
     "traceback": [
      "\u001b[1;31m---------------------------------------------------------------------------\u001b[0m",
      "\u001b[1;31mTypeError\u001b[0m                                 Traceback (most recent call last)",
      "\u001b[1;32m~\\AppData\\Local\\Temp\\ipykernel_30728\\1572605836.py\u001b[0m in \u001b[0;36m<module>\u001b[1;34m\u001b[0m\n\u001b[1;32m----> 1\u001b[1;33m \u001b[0ma\u001b[0m \u001b[1;33m<\u001b[0m \u001b[0mb\u001b[0m\u001b[1;33m\u001b[0m\u001b[1;33m\u001b[0m\u001b[0m\n\u001b[0m",
      "\u001b[1;31mTypeError\u001b[0m: '<' not supported between instances of 'dict' and 'dict'"
     ]
    }
   ],
   "source": [
    "a < b"
   ]
  },
  {
   "cell_type": "markdown",
   "id": "8f1e9ae8",
   "metadata": {
    "id": "8f1e9ae8"
   },
   "source": [
    "### GÜZEL BİR ÖRNEK"
   ]
  },
  {
   "cell_type": "markdown",
   "id": "a59c0c93",
   "metadata": {
    "id": "a59c0c93"
   },
   "source": [
    "**.split()** Bir string değeri, her kelimenin bir liste ögesi olduğu bir listeye ayırır.\n",
    "* metini {} şeklinde tanımlarsak set tipinde olur ve kod hata verir.\n",
    "* metin () şeklinde tanımlarsak string olur ve hata vermez."
   ]
  },
  {
   "cell_type": "code",
   "execution_count": null,
   "id": "7b0e809d",
   "metadata": {
    "id": "7b0e809d"
   },
   "outputs": [],
   "source": [
    "metin = (\"Lorem Ipsum is simply dummy text of the printing and typesetting industry. Lorem Ipsum has been the industry's standard dummy text ever since the 1500s, when an unknown printer took a galley of type and scrambled it to make a type specimen book. It has survived not only five centuries, but also the leap into electronic typesetting, remaining essentially unchanged. It was popularised in the 1960s with the release of Letraset sheets containing Lorem Ipsum passages, and more recently with desktop publishing software like Aldus PageMaker including versions of Lorem Ipsum.\")\n",
    "\n",
    "a={}\n",
    "\n",
    "for kelime in metin.split():\n",
    "    if kelime in a:\n",
    "        a[kelime] += 1\n",
    "    else:\n",
    "        a[kelime] = 1"
   ]
  },
  {
   "cell_type": "code",
   "execution_count": null,
   "id": "e227eadd",
   "metadata": {
    "id": "e227eadd",
    "outputId": "fd04e15a-252f-4092-f8e4-a22d2d753cc9"
   },
   "outputs": [
    {
     "data": {
      "text/plain": [
       "{'Lorem': 4,\n",
       " 'Ipsum': 3,\n",
       " 'is': 1,\n",
       " 'simply': 1,\n",
       " 'dummy': 2,\n",
       " 'text': 2,\n",
       " 'of': 4,\n",
       " 'the': 6,\n",
       " 'printing': 1,\n",
       " 'and': 3,\n",
       " 'typesetting': 1,\n",
       " 'industry.': 1,\n",
       " 'has': 2,\n",
       " 'been': 1,\n",
       " \"industry's\": 1,\n",
       " 'standard': 1,\n",
       " 'ever': 1,\n",
       " 'since': 1,\n",
       " '1500s,': 1,\n",
       " 'when': 1,\n",
       " 'an': 1,\n",
       " 'unknown': 1,\n",
       " 'printer': 1,\n",
       " 'took': 1,\n",
       " 'a': 2,\n",
       " 'galley': 1,\n",
       " 'type': 2,\n",
       " 'scrambled': 1,\n",
       " 'it': 1,\n",
       " 'to': 1,\n",
       " 'make': 1,\n",
       " 'specimen': 1,\n",
       " 'book.': 1,\n",
       " 'It': 2,\n",
       " 'survived': 1,\n",
       " 'not': 1,\n",
       " 'only': 1,\n",
       " 'five': 1,\n",
       " 'centuries,': 1,\n",
       " 'but': 1,\n",
       " 'also': 1,\n",
       " 'leap': 1,\n",
       " 'into': 1,\n",
       " 'electronic': 1,\n",
       " 'typesetting,': 1,\n",
       " 'remaining': 1,\n",
       " 'essentially': 1,\n",
       " 'unchanged.': 1,\n",
       " 'was': 1,\n",
       " 'popularised': 1,\n",
       " 'in': 1,\n",
       " '1960s': 1,\n",
       " 'with': 2,\n",
       " 'release': 1,\n",
       " 'Letraset': 1,\n",
       " 'sheets': 1,\n",
       " 'containing': 1,\n",
       " 'passages,': 1,\n",
       " 'more': 1,\n",
       " 'recently': 1,\n",
       " 'desktop': 1,\n",
       " 'publishing': 1,\n",
       " 'software': 1,\n",
       " 'like': 1,\n",
       " 'Aldus': 1,\n",
       " 'PageMaker': 1,\n",
       " 'including': 1,\n",
       " 'versions': 1,\n",
       " 'Ipsum.': 1}"
      ]
     },
     "execution_count": 145,
     "metadata": {},
     "output_type": "execute_result"
    }
   ],
   "source": [
    "a"
   ]
  },
  {
   "cell_type": "code",
   "execution_count": null,
   "id": "48d1a5d5",
   "metadata": {
    "id": "48d1a5d5",
    "outputId": "83f5dbbc-26e5-4828-82e1-4e5c534675bd"
   },
   "outputs": [
    {
     "data": {
      "text/plain": [
       "69"
      ]
     },
     "execution_count": 146,
     "metadata": {},
     "output_type": "execute_result"
    }
   ],
   "source": [
    "len(a)"
   ]
  },
  {
   "cell_type": "markdown",
   "id": "1509bb94",
   "metadata": {
    "id": "1509bb94"
   },
   "source": [
    "### .update() kullanımı:"
   ]
  },
  {
   "cell_type": "markdown",
   "id": "d6da770e",
   "metadata": {
    "id": "d6da770e"
   },
   "source": [
    "* Kullanılan stringin kaç kere kullanıldığı değiştirilebilir.\n",
    "* Hiç kullanılmayan bir stringi de ekleyebiliriz.\n"
   ]
  },
  {
   "cell_type": "code",
   "execution_count": null,
   "id": "d7d9f264",
   "metadata": {
    "id": "d7d9f264",
    "outputId": "acc0d3e6-e612-46e5-938d-d9c65fad75a9"
   },
   "outputs": [
    {
     "ename": "SyntaxError",
     "evalue": "invalid syntax (2754257891.py, line 1)",
     "output_type": "error",
     "traceback": [
      "\u001b[1;36m  File \u001b[1;32m\"C:\\Users\\user\\AppData\\Local\\Temp\\ipykernel_30728\\2754257891.py\"\u001b[1;36m, line \u001b[1;32m1\u001b[0m\n\u001b[1;33m    a.update('Lorem': 6)\u001b[0m\n\u001b[1;37m                    ^\u001b[0m\n\u001b[1;31mSyntaxError\u001b[0m\u001b[1;31m:\u001b[0m invalid syntax\n"
     ]
    }
   ],
   "source": [
    "a.update('Lorem': 6)"
   ]
  },
  {
   "cell_type": "markdown",
   "id": "77ad1435",
   "metadata": {
    "id": "77ad1435"
   },
   "source": [
    "**ERROR SEBEBİ:** ({}) şeklinde tanımlanmalıdır ya da atama işlemi (...=...) bu şekilde gerçekleşmelidir. "
   ]
  },
  {
   "cell_type": "code",
   "execution_count": null,
   "id": "460903fc",
   "metadata": {
    "id": "460903fc"
   },
   "outputs": [],
   "source": [
    "a.update({'Lorem': 6})"
   ]
  },
  {
   "cell_type": "code",
   "execution_count": null,
   "id": "3eb007e9",
   "metadata": {
    "id": "3eb007e9",
    "outputId": "bfb2475e-8eb2-4530-a76a-9642ea9420c6"
   },
   "outputs": [
    {
     "data": {
      "text/plain": [
       "{'Lorem': 6,\n",
       " 'Ipsum': 3,\n",
       " 'is': 1,\n",
       " 'simply': 1,\n",
       " 'dummy': 2,\n",
       " 'text': 2,\n",
       " 'of': 4,\n",
       " 'the': 6,\n",
       " 'printing': 1,\n",
       " 'and': 3,\n",
       " 'typesetting': 1,\n",
       " 'industry.': 1,\n",
       " 'has': 2,\n",
       " 'been': 1,\n",
       " \"industry's\": 1,\n",
       " 'standard': 1,\n",
       " 'ever': 1,\n",
       " 'since': 1,\n",
       " '1500s,': 1,\n",
       " 'when': 1,\n",
       " 'an': 1,\n",
       " 'unknown': 1,\n",
       " 'printer': 1,\n",
       " 'took': 1,\n",
       " 'a': 2,\n",
       " 'galley': 1,\n",
       " 'type': 2,\n",
       " 'scrambled': 1,\n",
       " 'it': 1,\n",
       " 'to': 1,\n",
       " 'make': 1,\n",
       " 'specimen': 1,\n",
       " 'book.': 1,\n",
       " 'It': 2,\n",
       " 'survived': 1,\n",
       " 'not': 1,\n",
       " 'only': 1,\n",
       " 'five': 1,\n",
       " 'centuries,': 1,\n",
       " 'but': 1,\n",
       " 'also': 1,\n",
       " 'leap': 1,\n",
       " 'into': 1,\n",
       " 'electronic': 1,\n",
       " 'typesetting,': 1,\n",
       " 'remaining': 1,\n",
       " 'essentially': 1,\n",
       " 'unchanged.': 1,\n",
       " 'was': 1,\n",
       " 'popularised': 1,\n",
       " 'in': 1,\n",
       " '1960s': 1,\n",
       " 'with': 2,\n",
       " 'release': 1,\n",
       " 'Letraset': 1,\n",
       " 'sheets': 1,\n",
       " 'containing': 1,\n",
       " 'passages,': 1,\n",
       " 'more': 1,\n",
       " 'recently': 1,\n",
       " 'desktop': 1,\n",
       " 'publishing': 1,\n",
       " 'software': 1,\n",
       " 'like': 1,\n",
       " 'Aldus': 1,\n",
       " 'PageMaker': 1,\n",
       " 'including': 1,\n",
       " 'versions': 1,\n",
       " 'Ipsum.': 1}"
      ]
     },
     "execution_count": 149,
     "metadata": {},
     "output_type": "execute_result"
    }
   ],
   "source": [
    "a"
   ]
  },
  {
   "cell_type": "code",
   "execution_count": null,
   "id": "8a6eb59d",
   "metadata": {
    "id": "8a6eb59d"
   },
   "outputs": [],
   "source": [
    "a.update({'deneme':4})"
   ]
  },
  {
   "cell_type": "code",
   "execution_count": null,
   "id": "3b3048c7",
   "metadata": {
    "id": "3b3048c7",
    "outputId": "4ff77ea4-1044-4b7c-84ab-8542e0ea871e"
   },
   "outputs": [
    {
     "data": {
      "text/plain": [
       "{'Lorem': 6,\n",
       " 'Ipsum': 3,\n",
       " 'is': 1,\n",
       " 'simply': 1,\n",
       " 'dummy': 2,\n",
       " 'text': 2,\n",
       " 'of': 4,\n",
       " 'the': 6,\n",
       " 'printing': 1,\n",
       " 'and': 3,\n",
       " 'typesetting': 1,\n",
       " 'industry.': 1,\n",
       " 'has': 2,\n",
       " 'been': 1,\n",
       " \"industry's\": 1,\n",
       " 'standard': 1,\n",
       " 'ever': 1,\n",
       " 'since': 1,\n",
       " '1500s,': 1,\n",
       " 'when': 1,\n",
       " 'an': 1,\n",
       " 'unknown': 1,\n",
       " 'printer': 1,\n",
       " 'took': 1,\n",
       " 'a': 2,\n",
       " 'galley': 1,\n",
       " 'type': 2,\n",
       " 'scrambled': 1,\n",
       " 'it': 1,\n",
       " 'to': 1,\n",
       " 'make': 1,\n",
       " 'specimen': 1,\n",
       " 'book.': 1,\n",
       " 'It': 2,\n",
       " 'survived': 1,\n",
       " 'not': 1,\n",
       " 'only': 1,\n",
       " 'five': 1,\n",
       " 'centuries,': 1,\n",
       " 'but': 1,\n",
       " 'also': 1,\n",
       " 'leap': 1,\n",
       " 'into': 1,\n",
       " 'electronic': 1,\n",
       " 'typesetting,': 1,\n",
       " 'remaining': 1,\n",
       " 'essentially': 1,\n",
       " 'unchanged.': 1,\n",
       " 'was': 1,\n",
       " 'popularised': 1,\n",
       " 'in': 1,\n",
       " '1960s': 1,\n",
       " 'with': 2,\n",
       " 'release': 1,\n",
       " 'Letraset': 1,\n",
       " 'sheets': 1,\n",
       " 'containing': 1,\n",
       " 'passages,': 1,\n",
       " 'more': 1,\n",
       " 'recently': 1,\n",
       " 'desktop': 1,\n",
       " 'publishing': 1,\n",
       " 'software': 1,\n",
       " 'like': 1,\n",
       " 'Aldus': 1,\n",
       " 'PageMaker': 1,\n",
       " 'including': 1,\n",
       " 'versions': 1,\n",
       " 'Ipsum.': 1,\n",
       " 'deneme': 4}"
      ]
     },
     "execution_count": 151,
     "metadata": {},
     "output_type": "execute_result"
    }
   ],
   "source": [
    "a"
   ]
  },
  {
   "cell_type": "code",
   "execution_count": null,
   "id": "7d695905",
   "metadata": {
    "id": "7d695905"
   },
   "outputs": [],
   "source": [
    "a.update(denemee=5)"
   ]
  },
  {
   "cell_type": "code",
   "execution_count": null,
   "id": "7629a428",
   "metadata": {
    "id": "7629a428",
    "outputId": "49d6cc2e-c16c-42fa-ac06-a4347feede55"
   },
   "outputs": [
    {
     "data": {
      "text/plain": [
       "{'Lorem': 6,\n",
       " 'Ipsum': 3,\n",
       " 'is': 1,\n",
       " 'simply': 1,\n",
       " 'dummy': 2,\n",
       " 'text': 2,\n",
       " 'of': 4,\n",
       " 'the': 6,\n",
       " 'printing': 1,\n",
       " 'and': 3,\n",
       " 'typesetting': 1,\n",
       " 'industry.': 1,\n",
       " 'has': 2,\n",
       " 'been': 1,\n",
       " \"industry's\": 1,\n",
       " 'standard': 1,\n",
       " 'ever': 1,\n",
       " 'since': 1,\n",
       " '1500s,': 1,\n",
       " 'when': 1,\n",
       " 'an': 1,\n",
       " 'unknown': 1,\n",
       " 'printer': 1,\n",
       " 'took': 1,\n",
       " 'a': 2,\n",
       " 'galley': 1,\n",
       " 'type': 2,\n",
       " 'scrambled': 1,\n",
       " 'it': 1,\n",
       " 'to': 1,\n",
       " 'make': 1,\n",
       " 'specimen': 1,\n",
       " 'book.': 1,\n",
       " 'It': 2,\n",
       " 'survived': 1,\n",
       " 'not': 1,\n",
       " 'only': 1,\n",
       " 'five': 1,\n",
       " 'centuries,': 1,\n",
       " 'but': 1,\n",
       " 'also': 1,\n",
       " 'leap': 1,\n",
       " 'into': 1,\n",
       " 'electronic': 1,\n",
       " 'typesetting,': 1,\n",
       " 'remaining': 1,\n",
       " 'essentially': 1,\n",
       " 'unchanged.': 1,\n",
       " 'was': 1,\n",
       " 'popularised': 1,\n",
       " 'in': 1,\n",
       " '1960s': 1,\n",
       " 'with': 2,\n",
       " 'release': 1,\n",
       " 'Letraset': 1,\n",
       " 'sheets': 1,\n",
       " 'containing': 1,\n",
       " 'passages,': 1,\n",
       " 'more': 1,\n",
       " 'recently': 1,\n",
       " 'desktop': 1,\n",
       " 'publishing': 1,\n",
       " 'software': 1,\n",
       " 'like': 1,\n",
       " 'Aldus': 1,\n",
       " 'PageMaker': 1,\n",
       " 'including': 1,\n",
       " 'versions': 1,\n",
       " 'Ipsum.': 1,\n",
       " 'deneme': 4,\n",
       " 'denemee': 5}"
      ]
     },
     "execution_count": 153,
     "metadata": {},
     "output_type": "execute_result"
    }
   ],
   "source": [
    "a"
   ]
  },
  {
   "cell_type": "code",
   "execution_count": null,
   "id": "f1f8bead",
   "metadata": {
    "id": "f1f8bead"
   },
   "outputs": [],
   "source": [
    "c={i:j for i, j in a.items()}"
   ]
  },
  {
   "cell_type": "code",
   "execution_count": null,
   "id": "fad2fdeb",
   "metadata": {
    "id": "fad2fdeb",
    "outputId": "a92492e3-eb32-47a0-84bc-7c8788f351a2"
   },
   "outputs": [
    {
     "data": {
      "text/plain": [
       "{'Lorem': 6,\n",
       " 'Ipsum': 3,\n",
       " 'is': 1,\n",
       " 'simply': 1,\n",
       " 'dummy': 2,\n",
       " 'text': 2,\n",
       " 'of': 4,\n",
       " 'the': 6,\n",
       " 'printing': 1,\n",
       " 'and': 3,\n",
       " 'typesetting': 1,\n",
       " 'industry.': 1,\n",
       " 'has': 2,\n",
       " 'been': 1,\n",
       " \"industry's\": 1,\n",
       " 'standard': 1,\n",
       " 'ever': 1,\n",
       " 'since': 1,\n",
       " '1500s,': 1,\n",
       " 'when': 1,\n",
       " 'an': 1,\n",
       " 'unknown': 1,\n",
       " 'printer': 1,\n",
       " 'took': 1,\n",
       " 'a': 2,\n",
       " 'galley': 1,\n",
       " 'type': 2,\n",
       " 'scrambled': 1,\n",
       " 'it': 1,\n",
       " 'to': 1,\n",
       " 'make': 1,\n",
       " 'specimen': 1,\n",
       " 'book.': 1,\n",
       " 'It': 2,\n",
       " 'survived': 1,\n",
       " 'not': 1,\n",
       " 'only': 1,\n",
       " 'five': 1,\n",
       " 'centuries,': 1,\n",
       " 'but': 1,\n",
       " 'also': 1,\n",
       " 'leap': 1,\n",
       " 'into': 1,\n",
       " 'electronic': 1,\n",
       " 'typesetting,': 1,\n",
       " 'remaining': 1,\n",
       " 'essentially': 1,\n",
       " 'unchanged.': 1,\n",
       " 'was': 1,\n",
       " 'popularised': 1,\n",
       " 'in': 1,\n",
       " '1960s': 1,\n",
       " 'with': 2,\n",
       " 'release': 1,\n",
       " 'Letraset': 1,\n",
       " 'sheets': 1,\n",
       " 'containing': 1,\n",
       " 'passages,': 1,\n",
       " 'more': 1,\n",
       " 'recently': 1,\n",
       " 'desktop': 1,\n",
       " 'publishing': 1,\n",
       " 'software': 1,\n",
       " 'like': 1,\n",
       " 'Aldus': 1,\n",
       " 'PageMaker': 1,\n",
       " 'including': 1,\n",
       " 'versions': 1,\n",
       " 'Ipsum.': 1,\n",
       " 'deneme': 4,\n",
       " 'denemee': 5}"
      ]
     },
     "execution_count": 155,
     "metadata": {},
     "output_type": "execute_result"
    }
   ],
   "source": [
    "c"
   ]
  },
  {
   "cell_type": "code",
   "execution_count": null,
   "id": "87a23f90",
   "metadata": {
    "id": "87a23f90"
   },
   "outputs": [],
   "source": [
    "d={i: j**2 for i, j in a.items()}"
   ]
  },
  {
   "cell_type": "code",
   "execution_count": null,
   "id": "a0c63cf3",
   "metadata": {
    "id": "a0c63cf3",
    "outputId": "0a922597-580b-4c8a-bf33-1ff29af2d995"
   },
   "outputs": [
    {
     "data": {
      "text/plain": [
       "{'Lorem': 36,\n",
       " 'Ipsum': 9,\n",
       " 'is': 1,\n",
       " 'simply': 1,\n",
       " 'dummy': 4,\n",
       " 'text': 4,\n",
       " 'of': 16,\n",
       " 'the': 36,\n",
       " 'printing': 1,\n",
       " 'and': 9,\n",
       " 'typesetting': 1,\n",
       " 'industry.': 1,\n",
       " 'has': 4,\n",
       " 'been': 1,\n",
       " \"industry's\": 1,\n",
       " 'standard': 1,\n",
       " 'ever': 1,\n",
       " 'since': 1,\n",
       " '1500s,': 1,\n",
       " 'when': 1,\n",
       " 'an': 1,\n",
       " 'unknown': 1,\n",
       " 'printer': 1,\n",
       " 'took': 1,\n",
       " 'a': 4,\n",
       " 'galley': 1,\n",
       " 'type': 4,\n",
       " 'scrambled': 1,\n",
       " 'it': 1,\n",
       " 'to': 1,\n",
       " 'make': 1,\n",
       " 'specimen': 1,\n",
       " 'book.': 1,\n",
       " 'It': 4,\n",
       " 'survived': 1,\n",
       " 'not': 1,\n",
       " 'only': 1,\n",
       " 'five': 1,\n",
       " 'centuries,': 1,\n",
       " 'but': 1,\n",
       " 'also': 1,\n",
       " 'leap': 1,\n",
       " 'into': 1,\n",
       " 'electronic': 1,\n",
       " 'typesetting,': 1,\n",
       " 'remaining': 1,\n",
       " 'essentially': 1,\n",
       " 'unchanged.': 1,\n",
       " 'was': 1,\n",
       " 'popularised': 1,\n",
       " 'in': 1,\n",
       " '1960s': 1,\n",
       " 'with': 4,\n",
       " 'release': 1,\n",
       " 'Letraset': 1,\n",
       " 'sheets': 1,\n",
       " 'containing': 1,\n",
       " 'passages,': 1,\n",
       " 'more': 1,\n",
       " 'recently': 1,\n",
       " 'desktop': 1,\n",
       " 'publishing': 1,\n",
       " 'software': 1,\n",
       " 'like': 1,\n",
       " 'Aldus': 1,\n",
       " 'PageMaker': 1,\n",
       " 'including': 1,\n",
       " 'versions': 1,\n",
       " 'Ipsum.': 1,\n",
       " 'deneme': 16,\n",
       " 'denemee': 25}"
      ]
     },
     "execution_count": 157,
     "metadata": {},
     "output_type": "execute_result"
    }
   ],
   "source": [
    "d"
   ]
  },
  {
   "cell_type": "code",
   "execution_count": null,
   "id": "d502651f",
   "metadata": {
    "id": "d502651f"
   },
   "outputs": [],
   "source": [
    "x={'A':[1,2,3,4],'B':[5,6,8,7]}"
   ]
  },
  {
   "cell_type": "code",
   "execution_count": null,
   "id": "d9cc098d",
   "metadata": {
    "id": "d9cc098d",
    "outputId": "632ac0e9-26dc-451a-8cb9-98caceb6d8bb"
   },
   "outputs": [
    {
     "data": {
      "text/plain": [
       "{'A': [1, 2, 3, 4], 'B': [5, 6, 8, 7]}"
      ]
     },
     "execution_count": 159,
     "metadata": {},
     "output_type": "execute_result"
    }
   ],
   "source": [
    "x"
   ]
  },
  {
   "cell_type": "code",
   "execution_count": null,
   "id": "c6cec7e8",
   "metadata": {
    "id": "c6cec7e8",
    "outputId": "f58d399f-c84e-4a5c-ec10-7e85553d041e"
   },
   "outputs": [
    {
     "data": {
      "text/plain": [
       "{'A': 2.5, 'B': 6.5}"
      ]
     },
     "execution_count": 160,
     "metadata": {},
     "output_type": "execute_result"
    }
   ],
   "source": [
    "{i: sum(j)/len(j) for i,j in x.items()}"
   ]
  },
  {
   "cell_type": "markdown",
   "id": "6047ed5e",
   "metadata": {
    "id": "6047ed5e"
   },
   "source": [
    "# set kullanımı:"
   ]
  },
  {
   "cell_type": "markdown",
   "id": "6f043d3b",
   "metadata": {
    "id": "6f043d3b"
   },
   "source": [
    "* Kümelerdir.\n",
    "* Sırasızdır.\n",
    "* unique değerler barındırır yani veri tekrarlamaz.\n",
    "* Sadece immutable veri yapılarını destekler. (int, str, float, tuple gibi)\n",
    "* Bu yüzden liste kullanılamaz.\n",
    "* indexing, slicing mekanizmalarını desteklemez.\n",
    "* {' '} şeklinde tanımlanmalıdır.\n",
    "* Kümelerle ilgili tüm işlemler ve fonksiyonlar kullanılabilir."
   ]
  },
  {
   "cell_type": "code",
   "execution_count": null,
   "id": "f0017862",
   "metadata": {
    "id": "f0017862"
   },
   "outputs": [],
   "source": [
    "s={}"
   ]
  },
  {
   "cell_type": "code",
   "execution_count": null,
   "id": "58c2340c",
   "metadata": {
    "id": "58c2340c",
    "outputId": "c707aefd-f0cc-4cf9-d37f-e62a23c3d592"
   },
   "outputs": [
    {
     "data": {
      "text/plain": [
       "dict"
      ]
     },
     "execution_count": 162,
     "metadata": {},
     "output_type": "execute_result"
    }
   ],
   "source": [
    "type(s)"
   ]
  },
  {
   "cell_type": "code",
   "execution_count": null,
   "id": "4b639639",
   "metadata": {
    "id": "4b639639"
   },
   "outputs": [],
   "source": [
    "s={'a'}"
   ]
  },
  {
   "cell_type": "code",
   "execution_count": null,
   "id": "d55bf8f8",
   "metadata": {
    "id": "d55bf8f8",
    "outputId": "7fe4ad17-1e2a-41db-8920-aac82453e006"
   },
   "outputs": [
    {
     "data": {
      "text/plain": [
       "set"
      ]
     },
     "execution_count": 164,
     "metadata": {},
     "output_type": "execute_result"
    }
   ],
   "source": [
    "type(s)"
   ]
  },
  {
   "cell_type": "code",
   "execution_count": null,
   "id": "88f7d49e",
   "metadata": {
    "id": "88f7d49e",
    "outputId": "ce93b01d-6b1f-46ab-c9bd-4aa48045a9de"
   },
   "outputs": [
    {
     "data": {
      "text/plain": [
       "['__and__',\n",
       " '__class__',\n",
       " '__class_getitem__',\n",
       " '__contains__',\n",
       " '__delattr__',\n",
       " '__dir__',\n",
       " '__doc__',\n",
       " '__eq__',\n",
       " '__format__',\n",
       " '__ge__',\n",
       " '__getattribute__',\n",
       " '__gt__',\n",
       " '__hash__',\n",
       " '__iand__',\n",
       " '__init__',\n",
       " '__init_subclass__',\n",
       " '__ior__',\n",
       " '__isub__',\n",
       " '__iter__',\n",
       " '__ixor__',\n",
       " '__le__',\n",
       " '__len__',\n",
       " '__lt__',\n",
       " '__ne__',\n",
       " '__new__',\n",
       " '__or__',\n",
       " '__rand__',\n",
       " '__reduce__',\n",
       " '__reduce_ex__',\n",
       " '__repr__',\n",
       " '__ror__',\n",
       " '__rsub__',\n",
       " '__rxor__',\n",
       " '__setattr__',\n",
       " '__sizeof__',\n",
       " '__str__',\n",
       " '__sub__',\n",
       " '__subclasshook__',\n",
       " '__xor__',\n",
       " 'add',\n",
       " 'clear',\n",
       " 'copy',\n",
       " 'difference',\n",
       " 'difference_update',\n",
       " 'discard',\n",
       " 'intersection',\n",
       " 'intersection_update',\n",
       " 'isdisjoint',\n",
       " 'issubset',\n",
       " 'issuperset',\n",
       " 'pop',\n",
       " 'remove',\n",
       " 'symmetric_difference',\n",
       " 'symmetric_difference_update',\n",
       " 'union',\n",
       " 'update']"
      ]
     },
     "execution_count": 165,
     "metadata": {},
     "output_type": "execute_result"
    }
   ],
   "source": [
    "dir(s)"
   ]
  },
  {
   "cell_type": "code",
   "execution_count": null,
   "id": "6106d9ab",
   "metadata": {
    "id": "6106d9ab"
   },
   "outputs": [],
   "source": [
    "s={'a', 1, 2.5, (1,2)}"
   ]
  },
  {
   "cell_type": "code",
   "execution_count": null,
   "id": "5ff08642",
   "metadata": {
    "id": "5ff08642",
    "outputId": "c20bd7b1-2fe1-4b7f-e059-34e4e9fca9e6"
   },
   "outputs": [
    {
     "data": {
      "text/plain": [
       "{(1, 2), 1, 2.5, 'a'}"
      ]
     },
     "execution_count": 167,
     "metadata": {},
     "output_type": "execute_result"
    }
   ],
   "source": [
    "s"
   ]
  },
  {
   "cell_type": "code",
   "execution_count": null,
   "id": "5e7d6745",
   "metadata": {
    "id": "5e7d6745",
    "outputId": "54714abb-e19c-410e-914c-e3f1f8688c4d"
   },
   "outputs": [
    {
     "ename": "TypeError",
     "evalue": "unhashable type: 'list'",
     "output_type": "error",
     "traceback": [
      "\u001b[1;31m---------------------------------------------------------------------------\u001b[0m",
      "\u001b[1;31mTypeError\u001b[0m                                 Traceback (most recent call last)",
      "\u001b[1;32m~\\AppData\\Local\\Temp\\ipykernel_30728\\886862083.py\u001b[0m in \u001b[0;36m<module>\u001b[1;34m\u001b[0m\n\u001b[1;32m----> 1\u001b[1;33m \u001b[0ms\u001b[0m\u001b[1;33m=\u001b[0m\u001b[1;33m{\u001b[0m\u001b[1;34m'a'\u001b[0m\u001b[1;33m,\u001b[0m \u001b[1;36m1\u001b[0m\u001b[1;33m,\u001b[0m \u001b[1;36m2.5\u001b[0m\u001b[1;33m,\u001b[0m \u001b[1;33m(\u001b[0m\u001b[1;36m1\u001b[0m\u001b[1;33m,\u001b[0m\u001b[1;36m2\u001b[0m\u001b[1;33m)\u001b[0m\u001b[1;33m,\u001b[0m \u001b[1;33m[\u001b[0m\u001b[1;36m1\u001b[0m\u001b[1;33m,\u001b[0m\u001b[1;36m2\u001b[0m\u001b[1;33m,\u001b[0m\u001b[1;36m3\u001b[0m\u001b[1;33m]\u001b[0m\u001b[1;33m}\u001b[0m\u001b[1;33m\u001b[0m\u001b[1;33m\u001b[0m\u001b[0m\n\u001b[0m",
      "\u001b[1;31mTypeError\u001b[0m: unhashable type: 'list'"
     ]
    }
   ],
   "source": [
    "s={'a', 1, 2.5, (1,2), [1,2,3]}"
   ]
  },
  {
   "cell_type": "markdown",
   "id": "1f744eda",
   "metadata": {
    "id": "1f744eda"
   },
   "source": [
    "**ERROR SEBEBİ:** Sadece immutable veri yapılarını destekler. (int, str, float, tuple gibi) Bu yüzden liste kullanılamaz."
   ]
  },
  {
   "cell_type": "code",
   "execution_count": null,
   "id": "43976782",
   "metadata": {
    "id": "43976782",
    "outputId": "9ab6cadf-30d6-4519-f0c9-58984f020d1b"
   },
   "outputs": [
    {
     "ename": "TypeError",
     "evalue": "unhashable type: 'dict'",
     "output_type": "error",
     "traceback": [
      "\u001b[1;31m---------------------------------------------------------------------------\u001b[0m",
      "\u001b[1;31mTypeError\u001b[0m                                 Traceback (most recent call last)",
      "\u001b[1;32m~\\AppData\\Local\\Temp\\ipykernel_30728\\3112694688.py\u001b[0m in \u001b[0;36m<module>\u001b[1;34m\u001b[0m\n\u001b[1;32m----> 1\u001b[1;33m \u001b[0ms\u001b[0m\u001b[1;33m=\u001b[0m\u001b[1;33m{\u001b[0m\u001b[1;34m'a'\u001b[0m\u001b[1;33m,\u001b[0m \u001b[1;36m1\u001b[0m\u001b[1;33m,\u001b[0m \u001b[1;36m2.5\u001b[0m\u001b[1;33m,\u001b[0m \u001b[1;33m(\u001b[0m\u001b[1;36m1\u001b[0m\u001b[1;33m,\u001b[0m\u001b[1;36m2\u001b[0m\u001b[1;33m)\u001b[0m\u001b[1;33m,\u001b[0m \u001b[1;33m{\u001b[0m\u001b[1;36m1\u001b[0m\u001b[1;33m:\u001b[0m\u001b[1;36m1\u001b[0m\u001b[1;33m,\u001b[0m\u001b[1;36m2\u001b[0m\u001b[1;33m:\u001b[0m\u001b[1;36m2\u001b[0m\u001b[1;33m}\u001b[0m\u001b[1;33m}\u001b[0m\u001b[1;33m\u001b[0m\u001b[1;33m\u001b[0m\u001b[0m\n\u001b[0m",
      "\u001b[1;31mTypeError\u001b[0m: unhashable type: 'dict'"
     ]
    }
   ],
   "source": [
    "s={'a', 1, 2.5, (1,2), {1:1,2:2}}"
   ]
  },
  {
   "cell_type": "markdown",
   "id": "b34421dd",
   "metadata": {
    "id": "b34421dd"
   },
   "source": [
    "**ERROR SEBEBİ:** Sadece immutable veri yapılarını destekler. (int, str, float, tuple gibi) Bu yüzden sözlük veri yapısı desteklenmediği için kullanılamaz."
   ]
  },
  {
   "cell_type": "code",
   "execution_count": null,
   "id": "6131dfec",
   "metadata": {
    "id": "6131dfec",
    "outputId": "eccd1818-4443-4438-e41e-9e0293bdb9a6"
   },
   "outputs": [
    {
     "ename": "TypeError",
     "evalue": "unhashable type: 'set'",
     "output_type": "error",
     "traceback": [
      "\u001b[1;31m---------------------------------------------------------------------------\u001b[0m",
      "\u001b[1;31mTypeError\u001b[0m                                 Traceback (most recent call last)",
      "\u001b[1;32m~\\AppData\\Local\\Temp\\ipykernel_30728\\833216319.py\u001b[0m in \u001b[0;36m<module>\u001b[1;34m\u001b[0m\n\u001b[1;32m----> 1\u001b[1;33m \u001b[0ms\u001b[0m\u001b[1;33m=\u001b[0m\u001b[1;33m{\u001b[0m\u001b[1;34m'a'\u001b[0m\u001b[1;33m,\u001b[0m \u001b[1;36m1\u001b[0m\u001b[1;33m,\u001b[0m \u001b[1;36m2.5\u001b[0m\u001b[1;33m,\u001b[0m \u001b[1;33m(\u001b[0m\u001b[1;36m1\u001b[0m\u001b[1;33m,\u001b[0m\u001b[1;36m2\u001b[0m\u001b[1;33m)\u001b[0m\u001b[1;33m,\u001b[0m \u001b[1;33m{\u001b[0m\u001b[1;36m1\u001b[0m\u001b[1;33m,\u001b[0m\u001b[1;36m2\u001b[0m\u001b[1;33m,\u001b[0m\u001b[1;36m3\u001b[0m\u001b[1;33m}\u001b[0m\u001b[1;33m}\u001b[0m\u001b[1;33m\u001b[0m\u001b[1;33m\u001b[0m\u001b[0m\n\u001b[0m",
      "\u001b[1;31mTypeError\u001b[0m: unhashable type: 'set'"
     ]
    }
   ],
   "source": [
    "s={'a', 1, 2.5, (1,2), {1,2,3}}"
   ]
  },
  {
   "cell_type": "markdown",
   "id": "796c79a7",
   "metadata": {
    "id": "796c79a7"
   },
   "source": [
    "**ERROR SEBEBİ:** set kendi veri yapısını da içerisinde kullanımını desteklemez. Sadece immutable veri yapılarını destekler."
   ]
  },
  {
   "cell_type": "code",
   "execution_count": null,
   "id": "6ef63ed6",
   "metadata": {
    "id": "6ef63ed6"
   },
   "outputs": [],
   "source": [
    "s={1,2,3,4,5}"
   ]
  },
  {
   "cell_type": "code",
   "execution_count": null,
   "id": "e9db4701",
   "metadata": {
    "id": "e9db4701",
    "outputId": "f52f1a18-05a0-4575-dadf-76cf5588a956"
   },
   "outputs": [
    {
     "data": {
      "text/plain": [
       "5"
      ]
     },
     "execution_count": 172,
     "metadata": {},
     "output_type": "execute_result"
    }
   ],
   "source": [
    "len(s)"
   ]
  },
  {
   "cell_type": "code",
   "execution_count": null,
   "id": "1516631b",
   "metadata": {
    "id": "1516631b",
    "outputId": "3215b2fd-c183-4bdf-e834-7720a6e50898"
   },
   "outputs": [
    {
     "data": {
      "text/plain": [
       "True"
      ]
     },
     "execution_count": 173,
     "metadata": {},
     "output_type": "execute_result"
    }
   ],
   "source": [
    "3 in s"
   ]
  },
  {
   "cell_type": "code",
   "execution_count": null,
   "id": "b1e9af7d",
   "metadata": {
    "id": "b1e9af7d"
   },
   "outputs": [],
   "source": [
    "l = list(range(10)) + list(range(5))"
   ]
  },
  {
   "cell_type": "markdown",
   "id": "c4b1707e",
   "metadata": {
    "id": "c4b1707e"
   },
   "source": [
    "### Listenin set yapısına dönüşümü:"
   ]
  },
  {
   "cell_type": "markdown",
   "id": "dec490f5",
   "metadata": {
    "id": "dec490f5"
   },
   "source": [
    "* Otomatik olarak dönüştürebiliriz.\n",
    "* Kümeye dönüşüm gerçekleşeceğinden tekrarlanan elemanlar yalnızca bir defa yazılır."
   ]
  },
  {
   "cell_type": "code",
   "execution_count": null,
   "id": "be0b785b",
   "metadata": {
    "id": "be0b785b",
    "outputId": "6927b041-0605-41db-8c2f-50833a5eda9e"
   },
   "outputs": [
    {
     "data": {
      "text/plain": [
       "[0, 1, 2, 3, 4, 5, 6, 7, 8, 9, 0, 1, 2, 3, 4]"
      ]
     },
     "execution_count": 175,
     "metadata": {},
     "output_type": "execute_result"
    }
   ],
   "source": [
    "l"
   ]
  },
  {
   "cell_type": "code",
   "execution_count": null,
   "id": "aed1255b",
   "metadata": {
    "id": "aed1255b"
   },
   "outputs": [],
   "source": [
    "s1 = set(l)"
   ]
  },
  {
   "cell_type": "code",
   "execution_count": null,
   "id": "39c75dfb",
   "metadata": {
    "id": "39c75dfb",
    "outputId": "4ad899f1-abdc-4be4-9065-4bc7b5953a06"
   },
   "outputs": [
    {
     "data": {
      "text/plain": [
       "{0, 1, 2, 3, 4, 5, 6, 7, 8, 9}"
      ]
     },
     "execution_count": 177,
     "metadata": {},
     "output_type": "execute_result"
    }
   ],
   "source": [
    "s1"
   ]
  },
  {
   "cell_type": "code",
   "execution_count": null,
   "id": "0dbde20a",
   "metadata": {
    "id": "0dbde20a",
    "outputId": "2d3d55b0-82b1-493d-d152-37e09b266f00"
   },
   "outputs": [
    {
     "ename": "TypeError",
     "evalue": "'set' object is not subscriptable",
     "output_type": "error",
     "traceback": [
      "\u001b[1;31m---------------------------------------------------------------------------\u001b[0m",
      "\u001b[1;31mTypeError\u001b[0m                                 Traceback (most recent call last)",
      "\u001b[1;32m~\\AppData\\Local\\Temp\\ipykernel_30728\\243613605.py\u001b[0m in \u001b[0;36m<module>\u001b[1;34m\u001b[0m\n\u001b[1;32m----> 1\u001b[1;33m \u001b[0ms\u001b[0m\u001b[1;33m[\u001b[0m\u001b[1;36m0\u001b[0m\u001b[1;33m]\u001b[0m\u001b[1;33m\u001b[0m\u001b[1;33m\u001b[0m\u001b[0m\n\u001b[0m",
      "\u001b[1;31mTypeError\u001b[0m: 'set' object is not subscriptable"
     ]
    }
   ],
   "source": [
    "s[0]"
   ]
  },
  {
   "cell_type": "markdown",
   "id": "28709c88",
   "metadata": {
    "id": "28709c88"
   },
   "source": [
    "**ERROR SEBEBİ:** indexing kullanımı yoktur."
   ]
  },
  {
   "cell_type": "code",
   "execution_count": null,
   "id": "7709e154",
   "metadata": {
    "id": "7709e154",
    "outputId": "acda24de-96aa-486e-f6de-0395732f093d"
   },
   "outputs": [
    {
     "ename": "TypeError",
     "evalue": "'set' object is not subscriptable",
     "output_type": "error",
     "traceback": [
      "\u001b[1;31m---------------------------------------------------------------------------\u001b[0m",
      "\u001b[1;31mTypeError\u001b[0m                                 Traceback (most recent call last)",
      "\u001b[1;32m~\\AppData\\Local\\Temp\\ipykernel_30728\\3566339463.py\u001b[0m in \u001b[0;36m<module>\u001b[1;34m\u001b[0m\n\u001b[1;32m----> 1\u001b[1;33m \u001b[0ms\u001b[0m\u001b[1;33m[\u001b[0m\u001b[1;36m0\u001b[0m\u001b[1;33m:\u001b[0m\u001b[1;36m1\u001b[0m\u001b[1;33m]\u001b[0m\u001b[1;33m\u001b[0m\u001b[1;33m\u001b[0m\u001b[0m\n\u001b[0m",
      "\u001b[1;31mTypeError\u001b[0m: 'set' object is not subscriptable"
     ]
    }
   ],
   "source": [
    "s[0:1]"
   ]
  },
  {
   "cell_type": "markdown",
   "id": "ec3e5576",
   "metadata": {
    "id": "ec3e5576"
   },
   "source": [
    "**ERROR SEBEBİ:** slicing kullanımı yoktur."
   ]
  },
  {
   "cell_type": "code",
   "execution_count": null,
   "id": "8bb6ed8f",
   "metadata": {
    "id": "8bb6ed8f",
    "outputId": "afc95f06-7b6f-436f-9960-1a913597ff87"
   },
   "outputs": [
    {
     "data": {
      "text/plain": [
       "{1, 2, 3, 4, 5}"
      ]
     },
     "execution_count": 180,
     "metadata": {},
     "output_type": "execute_result"
    }
   ],
   "source": [
    "s"
   ]
  },
  {
   "cell_type": "code",
   "execution_count": null,
   "id": "9e75415e",
   "metadata": {
    "id": "9e75415e",
    "outputId": "0634da2f-c916-4593-ff75-58360a10e4df"
   },
   "outputs": [
    {
     "data": {
      "text/plain": [
       "{0, 1, 2, 3, 4, 5, 6, 7, 8, 9}"
      ]
     },
     "execution_count": 181,
     "metadata": {},
     "output_type": "execute_result"
    }
   ],
   "source": [
    "s1"
   ]
  },
  {
   "cell_type": "markdown",
   "id": "0aff1161",
   "metadata": {
    "id": "0aff1161"
   },
   "source": [
    "### Karşılaştırma operatörleriyle true-false döndürme"
   ]
  },
  {
   "cell_type": "code",
   "execution_count": null,
   "id": "8f942072",
   "metadata": {
    "id": "8f942072",
    "outputId": "f11b02f5-5ba2-4ae5-f2ae-b7b67993c425"
   },
   "outputs": [
    {
     "data": {
      "text/plain": [
       "False"
      ]
     },
     "execution_count": 182,
     "metadata": {},
     "output_type": "execute_result"
    }
   ],
   "source": [
    "s == s1"
   ]
  },
  {
   "cell_type": "code",
   "execution_count": null,
   "id": "47c61816",
   "metadata": {
    "id": "47c61816",
    "outputId": "c2c81f21-00d4-45c3-8e46-6368e055ac75"
   },
   "outputs": [
    {
     "data": {
      "text/plain": [
       "True"
      ]
     },
     "execution_count": 183,
     "metadata": {},
     "output_type": "execute_result"
    }
   ],
   "source": [
    "s != s1"
   ]
  },
  {
   "cell_type": "code",
   "execution_count": null,
   "id": "5973589d",
   "metadata": {
    "id": "5973589d",
    "outputId": "4e4d1fda-5ede-4a9d-e1e1-2debfc5d6b79"
   },
   "outputs": [
    {
     "data": {
      "text/plain": [
       "True"
      ]
     },
     "execution_count": 184,
     "metadata": {},
     "output_type": "execute_result"
    }
   ],
   "source": [
    "s < s1"
   ]
  },
  {
   "cell_type": "code",
   "execution_count": null,
   "id": "165f7ee5",
   "metadata": {
    "id": "165f7ee5",
    "outputId": "4a36ecd6-6782-4d3a-bbe5-19f4f66a2589"
   },
   "outputs": [
    {
     "data": {
      "text/plain": [
       "False"
      ]
     },
     "execution_count": 185,
     "metadata": {},
     "output_type": "execute_result"
    }
   ],
   "source": [
    "s > s1"
   ]
  },
  {
   "cell_type": "markdown",
   "id": "5dcb75a0",
   "metadata": {
    "id": "5dcb75a0"
   },
   "source": [
    "### .issubset() kullanımı:"
   ]
  },
  {
   "cell_type": "markdown",
   "id": "62ca925e",
   "metadata": {
    "id": "62ca925e"
   },
   "source": [
    "* s kümesi s1'in bir alt kümesi midir? şeklinde kullanılır.\n",
    "* true-false return edilir."
   ]
  },
  {
   "cell_type": "code",
   "execution_count": null,
   "id": "40aa27d6",
   "metadata": {
    "id": "40aa27d6",
    "outputId": "a79bc980-ebe5-4aec-e8a1-7e7ddc19c321"
   },
   "outputs": [
    {
     "data": {
      "text/plain": [
       "True"
      ]
     },
     "execution_count": 186,
     "metadata": {},
     "output_type": "execute_result"
    }
   ],
   "source": [
    "s.issubset(s1)"
   ]
  },
  {
   "cell_type": "markdown",
   "id": "a1c6e5da",
   "metadata": {
    "id": "a1c6e5da"
   },
   "source": [
    "### .issuperset() kullanımı:"
   ]
  },
  {
   "cell_type": "markdown",
   "id": "f5fbf666",
   "metadata": {
    "id": "f5fbf666"
   },
   "source": [
    "* set(string1).issuperset(string2) şeklindeki bir gösterimde string2, string1'de bulunuyor mu? şeklinde kullanılır.\n",
    "* true-false return edilir."
   ]
  },
  {
   "cell_type": "code",
   "execution_count": null,
   "id": "4179ef15",
   "metadata": {
    "id": "4179ef15",
    "outputId": "942ce78d-2d51-40cc-98d3-6852d5343b4f"
   },
   "outputs": [
    {
     "data": {
      "text/plain": [
       "True"
      ]
     },
     "execution_count": 187,
     "metadata": {},
     "output_type": "execute_result"
    }
   ],
   "source": [
    "set('ben devam ederken okula python dersine girerken konuyu dinlerken').issuperset('ders')"
   ]
  },
  {
   "cell_type": "markdown",
   "id": "7cdf57b2",
   "metadata": {
    "id": "7cdf57b2"
   },
   "source": [
    "### Birleştirme işlemi:"
   ]
  },
  {
   "cell_type": "code",
   "execution_count": null,
   "id": "598bf0a9",
   "metadata": {
    "id": "598bf0a9",
    "outputId": "3104539f-98b6-426e-d475-465eef3d4dff"
   },
   "outputs": [
    {
     "data": {
      "text/plain": [
       "{0, 1, 2, 3, 4, 5, 6, 7, 8, 9}"
      ]
     },
     "execution_count": 188,
     "metadata": {},
     "output_type": "execute_result"
    }
   ],
   "source": [
    "s | s1"
   ]
  },
  {
   "cell_type": "markdown",
   "id": "e4d47b32",
   "metadata": {
    "id": "e4d47b32"
   },
   "source": [
    "### .union() yani birleştirme işlemi"
   ]
  },
  {
   "cell_type": "code",
   "execution_count": null,
   "id": "d3fde82d",
   "metadata": {
    "id": "d3fde82d",
    "outputId": "6e9ad05c-2457-4537-b210-d6bba117de95"
   },
   "outputs": [
    {
     "data": {
      "text/plain": [
       "{0, 1, 2, 3, 4, 5, 6, 7, 8, 9}"
      ]
     },
     "execution_count": 189,
     "metadata": {},
     "output_type": "execute_result"
    }
   ],
   "source": [
    "s.union(s1)"
   ]
  },
  {
   "cell_type": "markdown",
   "id": "c8ad8af5",
   "metadata": {
    "id": "c8ad8af5"
   },
   "source": [
    "### Kesişim işlemi:"
   ]
  },
  {
   "cell_type": "code",
   "execution_count": null,
   "id": "46a03461",
   "metadata": {
    "id": "46a03461",
    "outputId": "9a8da8ab-8061-4714-b7c3-dba0a4660fe4"
   },
   "outputs": [
    {
     "data": {
      "text/plain": [
       "{1, 2, 3, 4, 5}"
      ]
     },
     "execution_count": 190,
     "metadata": {},
     "output_type": "execute_result"
    }
   ],
   "source": [
    "s & s1"
   ]
  },
  {
   "cell_type": "markdown",
   "id": "b4bd2b2e",
   "metadata": {
    "id": "b4bd2b2e"
   },
   "source": [
    "### .intersection() yani kesişim işlemi"
   ]
  },
  {
   "cell_type": "code",
   "execution_count": null,
   "id": "a624edd2",
   "metadata": {
    "id": "a624edd2",
    "outputId": "cd36b2d7-4f8c-4139-b182-9b1dd67a2cbf"
   },
   "outputs": [
    {
     "data": {
      "text/plain": [
       "{1, 2, 3, 4, 5}"
      ]
     },
     "execution_count": 191,
     "metadata": {},
     "output_type": "execute_result"
    }
   ],
   "source": [
    "s.intersection(s1)"
   ]
  },
  {
   "cell_type": "markdown",
   "id": "106ae0ff",
   "metadata": {
    "id": "106ae0ff"
   },
   "source": [
    "### .difference() fark alma işlemi"
   ]
  },
  {
   "cell_type": "code",
   "execution_count": null,
   "id": "f9baa9e0",
   "metadata": {
    "id": "f9baa9e0",
    "outputId": "cd8a8b68-3c2e-4d5c-8a02-44731dd030cc"
   },
   "outputs": [
    {
     "data": {
      "text/plain": [
       "{0, 6, 7, 8, 9}"
      ]
     },
     "execution_count": 192,
     "metadata": {},
     "output_type": "execute_result"
    }
   ],
   "source": [
    "s1.difference(s)"
   ]
  },
  {
   "cell_type": "markdown",
   "id": "171ce1f2",
   "metadata": {
    "id": "171ce1f2"
   },
   "source": [
    "### .add() veri ekleme işlemi"
   ]
  },
  {
   "cell_type": "markdown",
   "id": "53a62e4b",
   "metadata": {
    "id": "53a62e4b"
   },
   "source": [
    "Sırasız gerçekleşir."
   ]
  },
  {
   "cell_type": "code",
   "execution_count": null,
   "id": "8f9e14dc",
   "metadata": {
    "id": "8f9e14dc"
   },
   "outputs": [],
   "source": [
    "s.add(10)"
   ]
  },
  {
   "cell_type": "code",
   "execution_count": null,
   "id": "455f18ca",
   "metadata": {
    "id": "455f18ca",
    "outputId": "309fc790-93d5-48ac-ebe8-b1b4b390ea0e"
   },
   "outputs": [
    {
     "data": {
      "text/plain": [
       "{1, 2, 3, 4, 5, 10}"
      ]
     },
     "execution_count": 194,
     "metadata": {},
     "output_type": "execute_result"
    }
   ],
   "source": [
    "s"
   ]
  },
  {
   "cell_type": "markdown",
   "id": "23c75062",
   "metadata": {
    "id": "23c75062"
   },
   "source": [
    "### .pop() işlemi"
   ]
  },
  {
   "cell_type": "markdown",
   "id": "a1ffab41",
   "metadata": {
    "id": "a1ffab41"
   },
   "source": [
    "Sırasız olarak çalıştığı için pop() istediği elemanı alabilir."
   ]
  },
  {
   "cell_type": "code",
   "execution_count": null,
   "id": "86831154",
   "metadata": {
    "id": "86831154",
    "outputId": "9b73fb2f-d70c-46d4-ec24-3cde3c1f374e"
   },
   "outputs": [
    {
     "data": {
      "text/plain": [
       "1"
      ]
     },
     "execution_count": 195,
     "metadata": {},
     "output_type": "execute_result"
    }
   ],
   "source": [
    "s.pop()"
   ]
  },
  {
   "cell_type": "code",
   "execution_count": null,
   "id": "1ee0955f",
   "metadata": {
    "id": "1ee0955f",
    "outputId": "dc7339cd-eb56-4d8e-bd25-9c0fab51e9dd"
   },
   "outputs": [
    {
     "data": {
      "text/plain": [
       "{2, 3, 4, 5, 10}"
      ]
     },
     "execution_count": 196,
     "metadata": {},
     "output_type": "execute_result"
    }
   ],
   "source": [
    "s"
   ]
  },
  {
   "cell_type": "code",
   "execution_count": null,
   "id": "4bf9b42e",
   "metadata": {
    "id": "4bf9b42e",
    "outputId": "a7616917-47d6-41f4-a934-57d9f362b96a"
   },
   "outputs": [
    {
     "data": {
      "text/plain": [
       "2"
      ]
     },
     "execution_count": 197,
     "metadata": {},
     "output_type": "execute_result"
    }
   ],
   "source": [
    "s.pop()"
   ]
  },
  {
   "cell_type": "code",
   "execution_count": null,
   "id": "4ffbd187",
   "metadata": {
    "id": "4ffbd187",
    "outputId": "497425ab-72ed-43d6-e6bf-3b7be940032f"
   },
   "outputs": [
    {
     "data": {
      "text/plain": [
       "{3, 4, 5, 10}"
      ]
     },
     "execution_count": 198,
     "metadata": {},
     "output_type": "execute_result"
    }
   ],
   "source": [
    "s"
   ]
  },
  {
   "cell_type": "code",
   "execution_count": null,
   "id": "fb542bd0",
   "metadata": {
    "id": "fb542bd0",
    "outputId": "8a8caee0-f7a6-4b56-c9cf-8e6d8649719d"
   },
   "outputs": [
    {
     "data": {
      "text/plain": [
       "3"
      ]
     },
     "execution_count": 199,
     "metadata": {},
     "output_type": "execute_result"
    }
   ],
   "source": [
    "s.pop()"
   ]
  },
  {
   "cell_type": "code",
   "execution_count": null,
   "id": "4e97de09",
   "metadata": {
    "id": "4e97de09",
    "outputId": "159be473-4c5c-454c-898c-c306ef3951f0"
   },
   "outputs": [
    {
     "data": {
      "text/plain": [
       "{4, 5, 10}"
      ]
     },
     "execution_count": 200,
     "metadata": {},
     "output_type": "execute_result"
    }
   ],
   "source": [
    "s"
   ]
  },
  {
   "cell_type": "markdown",
   "id": "d73c97fa",
   "metadata": {
    "id": "d73c97fa"
   },
   "source": [
    "### .clear() işlemi"
   ]
  },
  {
   "cell_type": "markdown",
   "id": "dfd42eaa",
   "metadata": {
    "id": "dfd42eaa"
   },
   "source": [
    "Bütün seti boşaltabiliriz."
   ]
  },
  {
   "cell_type": "code",
   "execution_count": null,
   "id": "3bdf2d2b",
   "metadata": {
    "id": "3bdf2d2b"
   },
   "outputs": [],
   "source": [
    "s.clear()"
   ]
  },
  {
   "cell_type": "code",
   "execution_count": null,
   "id": "f6d916fb",
   "metadata": {
    "id": "f6d916fb",
    "outputId": "2f67af26-bff4-43d9-f0c2-ceb13726df68"
   },
   "outputs": [
    {
     "data": {
      "text/plain": [
       "set()"
      ]
     },
     "execution_count": 202,
     "metadata": {},
     "output_type": "execute_result"
    }
   ],
   "source": [
    "s"
   ]
  },
  {
   "cell_type": "markdown",
   "id": "fd4f0266",
   "metadata": {
    "id": "fd4f0266"
   },
   "source": [
    "### .isdisjoint() metodu"
   ]
  },
  {
   "cell_type": "markdown",
   "id": "d88b46d2",
   "metadata": {
    "id": "d88b46d2"
   },
   "source": [
    ".isdisjoint() yöntemi, öğelerin hiçbiri her iki kümede de yoksa True döndürür, aksi takdirde False döndürür."
   ]
  },
  {
   "cell_type": "code",
   "execution_count": null,
   "id": "6b9a7205",
   "metadata": {
    "id": "6b9a7205",
    "outputId": "fa6099ef-523d-4883-fe5e-8a49eee4e529"
   },
   "outputs": [
    {
     "data": {
      "text/plain": [
       "True"
      ]
     },
     "execution_count": 209,
     "metadata": {},
     "output_type": "execute_result"
    }
   ],
   "source": [
    "{1,2,3,4}.isdisjoint({0,5,7})"
   ]
  },
  {
   "cell_type": "markdown",
   "id": "bc85000e",
   "metadata": {
    "id": "bc85000e"
   },
   "source": [
    "### Fark alma işlemi"
   ]
  },
  {
   "cell_type": "markdown",
   "id": "4d7b669a",
   "metadata": {
    "id": "4d7b669a"
   },
   "source": [
    "Kümelerde olduğu gibi, ikinci kümede olmayıp ilk kümede olan elemanları yazdırır."
   ]
  },
  {
   "cell_type": "code",
   "execution_count": null,
   "id": "f59355d8",
   "metadata": {
    "id": "f59355d8",
    "outputId": "092fa153-1e47-4a12-f42e-60fdfa99f641"
   },
   "outputs": [
    {
     "data": {
      "text/plain": [
       "{1, 3, 4}"
      ]
     },
     "execution_count": 210,
     "metadata": {},
     "output_type": "execute_result"
    }
   ],
   "source": [
    "{1,2,3,4} - {0,5,7,2}"
   ]
  },
  {
   "cell_type": "markdown",
   "id": "acbcb9f9",
   "metadata": {
    "id": "acbcb9f9"
   },
   "source": [
    "### Birleşim işlemi"
   ]
  },
  {
   "cell_type": "markdown",
   "id": "c65a2c3e",
   "metadata": {
    "id": "c65a2c3e"
   },
   "source": [
    "İki kümedeki elamanların hepsini yazdırır, tekrar eden elemanlar bir kez yazılır."
   ]
  },
  {
   "cell_type": "code",
   "execution_count": null,
   "id": "3189d82e",
   "metadata": {
    "id": "3189d82e",
    "outputId": "a9b2364d-fac0-4f12-dfd5-f7a8945361f7"
   },
   "outputs": [
    {
     "data": {
      "text/plain": [
       "{0, 1, 3, 4, 5, 7}"
      ]
     },
     "execution_count": 211,
     "metadata": {},
     "output_type": "execute_result"
    }
   ],
   "source": [
    "{1,2,3,4} ^ {0,5,7,2}"
   ]
  },
  {
   "cell_type": "markdown",
   "id": "123b502b",
   "metadata": {
    "id": "123b502b"
   },
   "source": [
    "### .discard() işlemi"
   ]
  },
  {
   "cell_type": "markdown",
   "id": "a3c6a76b",
   "metadata": {
    "id": "a3c6a76b"
   },
   "source": [
    "* Belirtilen ögeyi kümeden kaldırır.\n",
    "* Olmayan bir ögeyi kaldırmak istersek hata oluşmaz.\n",
    "* Bu yöntem .remove() yönteminden farklıdır. Çünkü belirtilen öge mevcut değilse .remove() yöntemi bir hataya neden olur."
   ]
  },
  {
   "cell_type": "code",
   "execution_count": null,
   "id": "b4ec92c5",
   "metadata": {
    "id": "b4ec92c5"
   },
   "outputs": [],
   "source": [
    "kume = {1,2,3,4}"
   ]
  },
  {
   "cell_type": "code",
   "execution_count": null,
   "id": "b920f0a5",
   "metadata": {
    "id": "b920f0a5",
    "outputId": "edda593b-34ed-453a-e205-90d6c5ebcca4"
   },
   "outputs": [
    {
     "data": {
      "text/plain": [
       "{1, 2, 3}"
      ]
     },
     "execution_count": 216,
     "metadata": {},
     "output_type": "execute_result"
    }
   ],
   "source": [
    "kume.discard(4)\n",
    "kume"
   ]
  },
  {
   "cell_type": "code",
   "execution_count": null,
   "id": "c30144a1",
   "metadata": {
    "id": "c30144a1",
    "outputId": "b3bc9133-7f21-4fb5-d050-d04010ccdf00"
   },
   "outputs": [
    {
     "data": {
      "text/plain": [
       "{1, 2, 3}"
      ]
     },
     "execution_count": 217,
     "metadata": {},
     "output_type": "execute_result"
    }
   ],
   "source": [
    "kume.discard(5)\n",
    "kume"
   ]
  },
  {
   "cell_type": "code",
   "execution_count": null,
   "id": "cc3ea16d",
   "metadata": {
    "id": "cc3ea16d",
    "outputId": "895903a6-78f6-448a-dd7f-50b75e6d60d7"
   },
   "outputs": [
    {
     "ename": "KeyError",
     "evalue": "4",
     "output_type": "error",
     "traceback": [
      "\u001b[1;31m---------------------------------------------------------------------------\u001b[0m",
      "\u001b[1;31mKeyError\u001b[0m                                  Traceback (most recent call last)",
      "\u001b[1;32m~\\AppData\\Local\\Temp\\ipykernel_30728\\4039564894.py\u001b[0m in \u001b[0;36m<module>\u001b[1;34m\u001b[0m\n\u001b[1;32m----> 1\u001b[1;33m \u001b[0mkume\u001b[0m\u001b[1;33m.\u001b[0m\u001b[0mremove\u001b[0m\u001b[1;33m(\u001b[0m\u001b[1;36m4\u001b[0m\u001b[1;33m)\u001b[0m\u001b[1;33m\u001b[0m\u001b[1;33m\u001b[0m\u001b[0m\n\u001b[0m",
      "\u001b[1;31mKeyError\u001b[0m: 4"
     ]
    }
   ],
   "source": [
    "kume.remove(4)"
   ]
  },
  {
   "cell_type": "markdown",
   "id": "25f385f4",
   "metadata": {
    "id": "25f385f4"
   },
   "source": [
    "**ERROR SEBEBİ:** Belirtilen öge mevcut değilse .remove() yöntemi bir hataya neden olur."
   ]
  },
  {
   "cell_type": "markdown",
   "id": "454bbe0b",
   "metadata": {
    "id": "454bbe0b"
   },
   "source": [
    "## set ile dict kullanımı arasındaki fark:"
   ]
  },
  {
   "cell_type": "code",
   "execution_count": null,
   "id": "9baaccd6",
   "metadata": {
    "id": "9baaccd6"
   },
   "outputs": [],
   "source": [
    "l=[1,2,3,4,5]\n",
    "c={i for i in l if i%2 == 0}"
   ]
  },
  {
   "cell_type": "code",
   "execution_count": null,
   "id": "4fbc19f0",
   "metadata": {
    "id": "4fbc19f0",
    "outputId": "82013c2c-dfda-480f-953b-ff232be30721"
   },
   "outputs": [
    {
     "data": {
      "text/plain": [
       "set"
      ]
     },
     "execution_count": 205,
     "metadata": {},
     "output_type": "execute_result"
    }
   ],
   "source": [
    "type(c)"
   ]
  },
  {
   "cell_type": "code",
   "execution_count": null,
   "id": "b412d903",
   "metadata": {
    "id": "b412d903"
   },
   "outputs": [],
   "source": [
    "l=[1,2,3,4,5]\n",
    "c={i:i for i in l if i%2 == 0}"
   ]
  },
  {
   "cell_type": "code",
   "execution_count": null,
   "id": "673aaebc",
   "metadata": {
    "id": "673aaebc",
    "outputId": "33747b0f-ed94-4951-8a4b-cfd4390a9929"
   },
   "outputs": [
    {
     "data": {
      "text/plain": [
       "dict"
      ]
     },
     "execution_count": 207,
     "metadata": {},
     "output_type": "execute_result"
    }
   ],
   "source": [
    "type(c)"
   ]
  }
 ],
 "metadata": {
  "colab": {
   "provenance": []
  },
  "kernelspec": {
   "display_name": "Python 3 (ipykernel)",
   "language": "python",
   "name": "python3"
  },
  "language_info": {
   "codemirror_mode": {
    "name": "ipython",
    "version": 3
   },
   "file_extension": ".py",
   "mimetype": "text/x-python",
   "name": "python",
   "nbconvert_exporter": "python",
   "pygments_lexer": "ipython3",
   "version": "3.9.7"
  }
 },
 "nbformat": 4,
 "nbformat_minor": 5
}
