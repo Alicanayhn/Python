{
  "cells": [
    {
      "cell_type": "markdown",
      "id": "487a978c",
      "metadata": {
        "id": "487a978c"
      },
      "source": [
        "### Kendi Özel Sınıflarınızı Oluşturma\n",
        "* Sınıflar yeni veri tipleridir\n",
        "* Oluşturacağınız çoğu uygulama genellikle özel sınıflar kullanmaz veya sadece birkaçını kullanır\n",
        "* Endüstride bir geliştirme ekibinin bir parçası haline gelirseniz, binlerce hatta binlerce sınıf içeren uygulamalar üzerinde çalışabilirsiniz"
      ]
    },
    {
      "cell_type": "markdown",
      "id": "9b6dabc7",
      "metadata": {
        "id": "9b6dabc7"
      },
      "source": [
        "### Kalıtım (Inheritance)\n",
        "* Yeni bir sınıf oluştururken, önceden tanımlanmış bir temel sınıfın (aynı zamanda bir üst sınıf olarak da adlandırılır) özelliklerini (değişkenler) ve yöntemlerini (fonksiyonlerin sınıf versiyonları) devralabilirsiniz.\n",
        "* Yeni sınıf türetilmiş sınıf (veya alt sınıf) olarak adlandırılır.\n",
        "* Daha sonra türetilmiş sınıfı, uygulamanızın belirli ihtiyaçlarını karşılamak için özelleştirebilirsiniz."
      ]
    },
    {
      "cell_type": "markdown",
      "id": "05728223",
      "metadata": {
        "id": "05728223"
      },
      "source": [
        "### Çok biçimlilik (Polymorphism)\n",
        "* Sizi \"özel durumda\" değil, \"genel durumda\" programlamaya olanak tanır\n",
        "* Aynı yöntem çağrısını farklı tiplere ait nesnelere gönderebilirsiniz\n",
        "* Her bir nesne, \"doğru işlemi\" yaparak yanıt verir \n",
        "* Bu nedenle, aynı yöntem çağrısı \"çoklu biçim\" alır, bu yüzden \"polimorfizm\" terimi kullanılır. "
      ]
    },
    {
      "cell_type": "code",
      "execution_count": null,
      "id": "f44d609b",
      "metadata": {
        "id": "f44d609b"
      },
      "outputs": [],
      "source": [
        "class Sinif1:\n",
        "    # yapıcı (constructor)  sınıf ilk oluşturulan yapılacak işlemlerin tanımlandığı özel bir metottur.\n",
        "    # bu sınıfın nesne/örnek oluştururken oluştururken çağrılan ilk metottur.\n",
        "    def __init__(self,c):\n",
        "        # self nesnenin kendisi yani this diğer dillerdeki this parametresinin karşılığıdır\n",
        "        self.x=c #nesnenin x değişkeninin değeri\n",
        "    def __repr__(self):\n",
        "        return f\"repr ben {self.x} \"\n",
        "    \n",
        "    def __str__(self):\n",
        "        return f\"str  ben {self.x} \"\n",
        "    \n",
        "\n"
      ]
    },
    {
      "cell_type": "code",
      "execution_count": null,
      "id": "9253ec3e",
      "metadata": {
        "id": "9253ec3e",
        "outputId": "101574fd-738f-4784-c5e1-a233fbef1a6c"
      },
      "outputs": [
        {
          "name": "stdout",
          "output_type": "stream",
          "text": [
            "adres str  ben 10 \n",
            "nesnenin x değeri  10\n",
            "str  ben 10 \n"
          ]
        },
        {
          "data": {
            "text/plain": [
              "repr ben 10 "
            ]
          },
          "execution_count": 336,
          "metadata": {},
          "output_type": "execute_result"
        }
      ],
      "source": [
        "d1=Sinif1(10)\n",
        "print(\"adres\",d1) # nesnenin adresini yazar\n",
        "x=5\n",
        "print(\"nesnenin x değeri \",d1.x) # nesnenin x değişkenini yazar -> (10)\n",
        "d2=Sinif1(10)\n",
        "print(d2) # -> __str__ \n",
        "d2 # __repr__"
      ]
    },
    {
      "cell_type": "code",
      "execution_count": null,
      "id": "d3430a63",
      "metadata": {
        "id": "d3430a63",
        "outputId": "abcd48a4-bfc2-415d-a6e8-cbf829d4f1ca"
      },
      "outputs": [
        {
          "data": {
            "text/plain": [
              "20"
            ]
          },
          "execution_count": 337,
          "metadata": {},
          "output_type": "execute_result"
        }
      ],
      "source": [
        "d2.y=20 # bu şekilde tanımlanabilir\n",
        "d2.y"
      ]
    },
    {
      "cell_type": "code",
      "execution_count": null,
      "id": "050fe6b9",
      "metadata": {
        "id": "050fe6b9"
      },
      "outputs": [],
      "source": []
    },
    {
      "cell_type": "code",
      "execution_count": null,
      "id": "2069d8e6",
      "metadata": {
        "id": "2069d8e6"
      },
      "outputs": [],
      "source": [
        "# kalıtım (Inheritance)\n",
        "class Sinif2(Sinif1):\n",
        "    def  __init__(self):\n",
        "        pass"
      ]
    },
    {
      "cell_type": "code",
      "execution_count": null,
      "id": "16b01f27",
      "metadata": {
        "id": "16b01f27"
      },
      "outputs": [],
      "source": []
    },
    {
      "cell_type": "code",
      "execution_count": null,
      "id": "ddb7c8c1",
      "metadata": {
        "id": "ddb7c8c1",
        "outputId": "779b2038-603d-4bba-df1e-5fa376584e72"
      },
      "outputs": [
        {
          "data": {
            "text/plain": [
              "['__add__',\n",
              " '__class__',\n",
              " '__class_getitem__',\n",
              " '__contains__',\n",
              " '__delattr__',\n",
              " '__delitem__',\n",
              " '__dir__',\n",
              " '__doc__',\n",
              " '__eq__',\n",
              " '__format__',\n",
              " '__ge__',\n",
              " '__getattribute__',\n",
              " '__getitem__',\n",
              " '__gt__',\n",
              " '__hash__',\n",
              " '__iadd__',\n",
              " '__imul__',\n",
              " '__init__',\n",
              " '__init_subclass__',\n",
              " '__iter__',\n",
              " '__le__',\n",
              " '__len__',\n",
              " '__lt__',\n",
              " '__mul__',\n",
              " '__ne__',\n",
              " '__new__',\n",
              " '__reduce__',\n",
              " '__reduce_ex__',\n",
              " '__repr__',\n",
              " '__reversed__',\n",
              " '__rmul__',\n",
              " '__setattr__',\n",
              " '__setitem__',\n",
              " '__sizeof__',\n",
              " '__str__',\n",
              " '__subclasshook__',\n",
              " 'append',\n",
              " 'clear',\n",
              " 'copy',\n",
              " 'count',\n",
              " 'extend',\n",
              " 'index',\n",
              " 'insert',\n",
              " 'pop',\n",
              " 'remove',\n",
              " 'reverse',\n",
              " 'sort']"
            ]
          },
          "execution_count": 339,
          "metadata": {},
          "output_type": "execute_result"
        }
      ],
      "source": [
        "l=[1,2,3]\n",
        "dir(l) # __metod__ olanlar özel metodlardır"
      ]
    },
    {
      "cell_type": "code",
      "execution_count": null,
      "id": "cb855ad3",
      "metadata": {
        "id": "cb855ad3",
        "outputId": "4a5d38f4-5fb4-41c2-b53e-1eda10237b2d"
      },
      "outputs": [
        {
          "name": "stdout",
          "output_type": "stream",
          "text": [
            "<__main__.Deneme object at 0x000001DC3C9C9280>\n",
            "<class '__main__.Deneme'>\n",
            "Deneme\n",
            "['__class__', '__delattr__', '__dict__', '__dir__', '__doc__', '__eq__', '__format__', '__ge__', '__getattribute__', '__gt__', '__hash__', '__init__', '__init_subclass__', '__le__', '__lt__', '__module__', '__ne__', '__new__', '__reduce__', '__reduce_ex__', '__repr__', '__setattr__', '__sizeof__', '__str__', '__subclasshook__', '__weakref__']\n"
          ]
        }
      ],
      "source": [
        "class Deneme:\n",
        "    pass\n",
        "if __name__ == '__main__':\n",
        "    x=Deneme()\n",
        "    print(x) # tip ve adress\n",
        "    print(type(x)) # class tipi ->  <class '__main__.Deneme'>\n",
        "    print(x.__class__.__name__)# -> Deneme\n",
        "    \n",
        "    print(dir(x))\n",
        "    "
      ]
    },
    {
      "cell_type": "markdown",
      "id": "01fe6a89",
      "metadata": {
        "id": "01fe6a89"
      },
      "source": [
        "* Person Sınıfı Oluşturulur\n",
        "* Sınıfın __ ____init______ metodu, sınıfın bir örneği oluşturulduğunda otomatik olarak çağrılır.\n",
        "* fonk adlı bir fonksiyonu vardır. Bu fonksiyon, sınıf örneği tarafından çağrılır ve merhaba yazdırır.\n",
        "* @classmethod ifadesinden sonra fonk2 adında bir sınıf metodu  tanımlanmıştır. Bu metod, sınıfın kendisine uygulanan işlemler için kullanılır. cls adında bir argüman alır ve bu argüman, sınıfın kendisini temsil eder.\n",
        "* Özetle, Deneme sınıfı, bir örnek niteliği olan isim ve örnek fonksiyon fonk içeren bir sınıftır. Sınıf ayrıca, sınıf niteliği a ve sınıf fonksiyonu fonk2 içerir."
      ]
    },
    {
      "cell_type": "code",
      "execution_count": null,
      "id": "bc8d4fce",
      "metadata": {
        "id": "bc8d4fce"
      },
      "outputs": [],
      "source": [
        "class Person():\n",
        "    a = 0  # sınıf niteliği\n",
        "\n",
        "    def __init__(self, isim):\n",
        "        self.isim = isim  # örnek niteliği\n",
        "        Person.a += 1\n",
        "\n",
        "        \n",
        "\n",
        "    def fonk(self):  # örnek yöntemi\n",
        "        print(\"merhaba\")\n",
        "\n",
        "    @classmethod  # sınıf yöntemi\n",
        "    def fonk2(cls, string):\n",
        "        isim, age = string.split(\",\")\n",
        "        if not hasattr(Person, 'age'):\n",
        "            Person.age = []\n",
        "        if not hasattr(Person, 'isim'):\n",
        "            Person.isim = []        \n",
        "        Person.age.append(age)\n",
        "        Person.isim.append(isim)\n",
        "\n",
        "        return cls(isim)\n",
        "    @classmethod  # sınıf metodu\n",
        "    def yaz(cls):\n",
        "        print(f\"yaşlar : {Person.age}\")\n",
        "        print(f\"isimler : {Person.isim}\")\n",
        "        print(f\"a : {Person.a}\")"
      ]
    },
    {
      "cell_type": "code",
      "execution_count": null,
      "id": "40d5055d",
      "metadata": {
        "id": "40d5055d",
        "outputId": "1339c32e-677d-4247-c54c-3256cf69a632"
      },
      "outputs": [
        {
          "name": "stdout",
          "output_type": "stream",
          "text": [
            "yaşlar : ['18', '19', '20']\n",
            "isimler : ['damla', 'Sami', 'cafer']\n",
            "a : 3\n",
            "merhaba\n"
          ]
        },
        {
          "data": {
            "text/plain": [
              "'Sami'"
            ]
          },
          "execution_count": 342,
          "metadata": {},
          "output_type": "execute_result"
        }
      ],
      "source": [
        "d_obj1=Person.fonk2(\"damla,18\")\n",
        "d_obj2=Person.fonk2(\"Sami,19\")\n",
        "d_obj3=Person.fonk2(\"cafer,20\")\n",
        "Person.yaz()\n",
        "d_obj1.fonk()\n",
        "d_obj2.isim"
      ]
    },
    {
      "cell_type": "code",
      "execution_count": null,
      "id": "c6a4d728",
      "metadata": {
        "id": "c6a4d728",
        "outputId": "6ef5d6df-e65d-4cf0-d7c7-967a9c9cdab6"
      },
      "outputs": [
        {
          "name": "stdout",
          "output_type": "stream",
          "text": [
            "3\n",
            "4\n",
            "5\n"
          ]
        }
      ],
      "source": [
        "print(Person.a)\n",
        "x=Person('Ali')\n",
        "print(Person.a)\n",
        "y=Person('Veli')\n",
        "print(Person.a)"
      ]
    },
    {
      "cell_type": "code",
      "execution_count": null,
      "id": "be9669ea",
      "metadata": {
        "id": "be9669ea",
        "outputId": "763c730a-898b-47bd-9b6a-19115fbd7b35"
      },
      "outputs": [
        {
          "data": {
            "text/plain": [
              "<__main__.Person at 0x1dc3d2078e0>"
            ]
          },
          "execution_count": 344,
          "metadata": {},
          "output_type": "execute_result"
        }
      ],
      "source": [
        "y  # y=Person('Veli')"
      ]
    },
    {
      "cell_type": "code",
      "execution_count": null,
      "id": "a6441b4e",
      "metadata": {
        "id": "a6441b4e",
        "outputId": "12d564ae-0552-4633-8585-f5dc70694011"
      },
      "outputs": [
        {
          "data": {
            "text/plain": [
              "'Ali'"
            ]
          },
          "execution_count": 345,
          "metadata": {},
          "output_type": "execute_result"
        }
      ],
      "source": [
        "x.isim # x=Person('Ali')"
      ]
    },
    {
      "cell_type": "code",
      "execution_count": null,
      "id": "c9a3e02f",
      "metadata": {
        "id": "c9a3e02f",
        "outputId": "290ba32d-4a91-4d4d-a619-f1a071e21783"
      },
      "outputs": [
        {
          "data": {
            "text/plain": [
              "'DENEME'"
            ]
          },
          "execution_count": 346,
          "metadata": {},
          "output_type": "execute_result"
        }
      ],
      "source": [
        "x.soyisim=\"DENEME\" # olmayan parametreyi oluşturduk\n",
        "x.soyisim\n"
      ]
    },
    {
      "cell_type": "code",
      "execution_count": null,
      "id": "f90d993f",
      "metadata": {
        "id": "f90d993f",
        "outputId": "f109c10c-2c90-4557-fa0e-27ae72fdcbc8"
      },
      "outputs": [
        {
          "ename": "AttributeError",
          "evalue": "'Person' object has no attribute 'soyisim'",
          "output_type": "error",
          "traceback": [
            "\u001b[1;31m---------------------------------------------------------------------------\u001b[0m",
            "\u001b[1;31mAttributeError\u001b[0m                            Traceback (most recent call last)",
            "\u001b[1;32m~\\AppData\\Local\\Temp\\ipykernel_9484\\3175941016.py\u001b[0m in \u001b[0;36m<module>\u001b[1;34m\u001b[0m\n\u001b[1;32m----> 1\u001b[1;33m \u001b[0my\u001b[0m\u001b[1;33m.\u001b[0m\u001b[0msoyisim\u001b[0m \u001b[1;31m# hata verir -> y nin soyisim değişkeni yoktur\u001b[0m\u001b[1;33m\u001b[0m\u001b[1;33m\u001b[0m\u001b[0m\n\u001b[0m",
            "\u001b[1;31mAttributeError\u001b[0m: 'Person' object has no attribute 'soyisim'"
          ]
        }
      ],
      "source": [
        "y.soyisim # hata verir -> y nin soyisim değişkeni yoktur "
      ]
    },
    {
      "cell_type": "code",
      "execution_count": null,
      "id": "d2b0af38",
      "metadata": {
        "id": "d2b0af38",
        "outputId": "0c0a74de-5363-4aef-c4f6-99a939737707"
      },
      "outputs": [
        {
          "name": "stdout",
          "output_type": "stream",
          "text": [
            "merhaba\n"
          ]
        }
      ],
      "source": [
        "x.fonk() # Person sınıfının fonk fonksiyonu çağırır"
      ]
    },
    {
      "cell_type": "code",
      "execution_count": null,
      "id": "6f5023dd",
      "metadata": {
        "id": "6f5023dd",
        "outputId": "257f8815-01c2-421c-9974-af6679b33a42"
      },
      "outputs": [
        {
          "name": "stdout",
          "output_type": "stream",
          "text": [
            "{'isim': 'Ali', 'soyisim': 'DENEME', 'a': 13}\n",
            "{'__module__': '__main__', '__dict__': <attribute '__dict__' of 'Deneme' objects>, '__weakref__': <attribute '__weakref__' of 'Deneme' objects>, '__doc__': None}\n"
          ]
        }
      ],
      "source": [
        "x.a=13\n",
        "print(x.__dict__)\n",
        "print(Deneme.__dict__)"
      ]
    },
    {
      "cell_type": "markdown",
      "id": "b9dd62da",
      "metadata": {
        "id": "b9dd62da"
      },
      "source": [
        "## 10.2.1 Class Account'ı Test Etmek\n",
        "* Oluşturduğunuz her yeni sınıf yeni bir veri tipi haline gelir.\n",
        "* Python, genişletilebilir bir dil'dir.\n",
        "* Account sınıfının tanımına bakmadan önce, yeteneklerini gösterelim."
      ]
    },
    {
      "cell_type": "code",
      "execution_count": null,
      "id": "06a6a4b7",
      "metadata": {
        "id": "06a6a4b7",
        "outputId": "03b74a2d-7754-4f90-e9b3-e51e6c08bdb7"
      },
      "outputs": [
        {
          "data": {
            "text/plain": [
              "'\\nimport account\\ndir(account)# Account sınıfı yok ?? \\n'"
            ]
          },
          "execution_count": 350,
          "metadata": {},
          "output_type": "execute_result"
        }
      ],
      "source": [
        "\"\"\"\n",
        "import account\n",
        "dir(account)# Account sınıfı yok ?? \n",
        "\"\"\"\n",
        "\n",
        "# bunun yerine kendi accoun sınıfımızı oluşturalım"
      ]
    },
    {
      "cell_type": "markdown",
      "id": "1bb7cc53",
      "metadata": {
        "id": "1bb7cc53"
      },
      "source": [
        "### Create an `Account` Object with a Constructor Expression\n",
        "* Bir nesne oluşturun ve onu oluşturan ve başlatan **initialize edecek** bir Oluşturucu  **constructor ** kullanın\n",
        "* Oluşturucu ifadeler, parantezlerle belirtilen bağımsız değişken kullanarak yeni nesneler oluşturur ve verilerini başlatır. \n",
        "* Sınıf adından sonra argüman olmasa bile  parantezler gereklidir."
      ]
    },
    {
      "cell_type": "code",
      "execution_count": null,
      "id": "f0fb2ed2",
      "metadata": {
        "id": "f0fb2ed2"
      },
      "outputs": [],
      "source": [
        "from decimal import Decimal\n",
        "class Account:\n",
        "    \"\"\"Account class for maintaining a bank account balance.\"\"\"\n",
        "    \n",
        "    def __init__(self, name, balance):\n",
        "        \"\"\"Initialize an Account object.\"\"\"\n",
        "\n",
        "        # if balance is less than 0.00, raise an exception\n",
        "        if balance < Decimal('0.00'):\n",
        "            raise ValueError('Initial balance must be >= to 0.00.')\n",
        "\n",
        "        self.name = name\n",
        "        self.balance = balance\n",
        "\n",
        "    def balance(self):\n",
        "        return self.balance\n",
        "    def deposit(self,amount):\n",
        "        #eğer miktar negatif ise hata mesajı verir\n",
        "        if amount < Decimal('0.00'):\n",
        "            raise ValueError('miktar pozitif olmalıdır')\n",
        "        self.balance += amount"
      ]
    },
    {
      "cell_type": "markdown",
      "id": "06fbc1f3",
      "metadata": {
        "id": "06fbc1f3"
      },
      "source": []
    },
    {
      "cell_type": "code",
      "execution_count": null,
      "id": "86974388",
      "metadata": {
        "id": "86974388",
        "outputId": "c45445da-1951-433f-d341-3a36c76c9485"
      },
      "outputs": [
        {
          "data": {
            "text/plain": [
              "['__class__',\n",
              " '__delattr__',\n",
              " '__dict__',\n",
              " '__dir__',\n",
              " '__doc__',\n",
              " '__eq__',\n",
              " '__format__',\n",
              " '__ge__',\n",
              " '__getattribute__',\n",
              " '__gt__',\n",
              " '__hash__',\n",
              " '__init__',\n",
              " '__init_subclass__',\n",
              " '__le__',\n",
              " '__lt__',\n",
              " '__module__',\n",
              " '__ne__',\n",
              " '__new__',\n",
              " '__reduce__',\n",
              " '__reduce_ex__',\n",
              " '__repr__',\n",
              " '__setattr__',\n",
              " '__sizeof__',\n",
              " '__str__',\n",
              " '__subclasshook__',\n",
              " '__weakref__',\n",
              " 'balance',\n",
              " 'deposit']"
            ]
          },
          "execution_count": 352,
          "metadata": {},
          "output_type": "execute_result"
        }
      ],
      "source": [
        "dir(Account)# ozel metodlarına bakalım"
      ]
    },
    {
      "cell_type": "code",
      "execution_count": null,
      "id": "72fd5513",
      "metadata": {
        "id": "72fd5513"
      },
      "outputs": [],
      "source": []
    },
    {
      "cell_type": "code",
      "execution_count": null,
      "id": "7f0d4d7b",
      "metadata": {
        "id": "7f0d4d7b"
      },
      "outputs": [],
      "source": [
        "account1 = Account('John Green', Decimal('50.00')) "
      ]
    },
    {
      "cell_type": "markdown",
      "id": "5bc26fbc",
      "metadata": {
        "id": "5bc26fbc"
      },
      "source": [
        "### Hesabın Adını ve Bakiyesini erişme (Getting an `Account`’s Name and Balance)\n",
        "* Hesap nesnesinin adı ve bakiye niteliklerine erişin (Access the `Account` object’s `name` and `balance` attributes)"
      ]
    },
    {
      "cell_type": "code",
      "execution_count": null,
      "id": "2bd3c777",
      "metadata": {
        "id": "2bd3c777",
        "outputId": "c295e85f-7b43-41b3-da0f-0330e55ff89e"
      },
      "outputs": [
        {
          "data": {
            "text/plain": [
              "'John Green'"
            ]
          },
          "execution_count": 354,
          "metadata": {},
          "output_type": "execute_result"
        }
      ],
      "source": [
        "account1.name"
      ]
    },
    {
      "cell_type": "code",
      "execution_count": null,
      "id": "0afb9c1a",
      "metadata": {
        "id": "0afb9c1a",
        "outputId": "aea0dbf3-947f-458b-8844-960c9e49829a"
      },
      "outputs": [
        {
          "data": {
            "text/plain": [
              "Decimal('50.00')"
            ]
          },
          "execution_count": 355,
          "metadata": {},
          "output_type": "execute_result"
        }
      ],
      "source": [
        "account1.balance"
      ]
    },
    {
      "cell_type": "markdown",
      "id": "773f81ee",
      "metadata": {
        "id": "773f81ee"
      },
      "source": [
        "### Hesaba Para Yatırma (Depositing Money into an `Account`) \n",
        "* Bu yöntem, pozitif dolar miktarını alır ve bunu hesap bakiyesine ekler. (`deposit` method receives a positive dollar amount and adds it to the balance)"
      ]
    },
    {
      "cell_type": "code",
      "execution_count": null,
      "id": "7b7a514d",
      "metadata": {
        "id": "7b7a514d"
      },
      "outputs": [],
      "source": [
        "account1.deposit(Decimal('25.53'))"
      ]
    },
    {
      "cell_type": "code",
      "execution_count": null,
      "id": "da4f635c",
      "metadata": {
        "id": "da4f635c",
        "outputId": "dbc9da0e-b912-4814-f62b-b2a1845fcf80"
      },
      "outputs": [
        {
          "data": {
            "text/plain": [
              "Decimal('75.53')"
            ]
          },
          "execution_count": 357,
          "metadata": {},
          "output_type": "execute_result"
        }
      ],
      "source": [
        "account1.balance"
      ]
    },
    {
      "cell_type": "markdown",
      "id": "56ff8605",
      "metadata": {
        "id": "56ff8605"
      },
      "source": [
        "### Account sınıfının yöntemleri, argümanları doğrularlar. (`Account` Methods Perform Validation)\n",
        "* `Hesap` yöntemleri bağımsız değişkenlerini doğrular (`Account`’s methods validate their arguments)"
      ]
    },
    {
      "cell_type": "code",
      "execution_count": null,
      "id": "f77f4c0a",
      "metadata": {
        "id": "f77f4c0a",
        "outputId": "ded9e53e-5c69-4b16-ba86-06cb5b8417fe"
      },
      "outputs": [
        {
          "ename": "ValueError",
          "evalue": "miktar pozitif olmalıdır",
          "output_type": "error",
          "traceback": [
            "\u001b[1;31m---------------------------------------------------------------------------\u001b[0m",
            "\u001b[1;31mValueError\u001b[0m                                Traceback (most recent call last)",
            "\u001b[1;32m~\\AppData\\Local\\Temp\\ipykernel_9484\\170039444.py\u001b[0m in \u001b[0;36m<module>\u001b[1;34m\u001b[0m\n\u001b[1;32m----> 1\u001b[1;33m \u001b[0maccount1\u001b[0m\u001b[1;33m.\u001b[0m\u001b[0mdeposit\u001b[0m\u001b[1;33m(\u001b[0m\u001b[0mDecimal\u001b[0m\u001b[1;33m(\u001b[0m\u001b[1;34m'-123.45'\u001b[0m\u001b[1;33m)\u001b[0m\u001b[1;33m)\u001b[0m \u001b[1;31m# sadece pozitif değer alır\u001b[0m\u001b[1;33m\u001b[0m\u001b[1;33m\u001b[0m\u001b[0m\n\u001b[0m",
            "\u001b[1;32m~\\AppData\\Local\\Temp\\ipykernel_9484\\4030065187.py\u001b[0m in \u001b[0;36mdeposit\u001b[1;34m(self, amount)\u001b[0m\n\u001b[0;32m     18\u001b[0m         \u001b[1;31m#eğer miktar negatif ise hata mesajı verir\u001b[0m\u001b[1;33m\u001b[0m\u001b[1;33m\u001b[0m\u001b[0m\n\u001b[0;32m     19\u001b[0m         \u001b[1;32mif\u001b[0m \u001b[0mamount\u001b[0m \u001b[1;33m<\u001b[0m \u001b[0mDecimal\u001b[0m\u001b[1;33m(\u001b[0m\u001b[1;34m'0.00'\u001b[0m\u001b[1;33m)\u001b[0m\u001b[1;33m:\u001b[0m\u001b[1;33m\u001b[0m\u001b[1;33m\u001b[0m\u001b[0m\n\u001b[1;32m---> 20\u001b[1;33m             \u001b[1;32mraise\u001b[0m \u001b[0mValueError\u001b[0m\u001b[1;33m(\u001b[0m\u001b[1;34m'miktar pozitif olmalıdır'\u001b[0m\u001b[1;33m)\u001b[0m\u001b[1;33m\u001b[0m\u001b[1;33m\u001b[0m\u001b[0m\n\u001b[0m\u001b[0;32m     21\u001b[0m         \u001b[0mself\u001b[0m\u001b[1;33m.\u001b[0m\u001b[0mbalance\u001b[0m \u001b[1;33m+=\u001b[0m \u001b[0mamount\u001b[0m\u001b[1;33m\u001b[0m\u001b[1;33m\u001b[0m\u001b[0m\n",
            "\u001b[1;31mValueError\u001b[0m: miktar pozitif olmalıdır"
          ]
        }
      ],
      "source": [
        "account1.deposit(Decimal('-123.45')) # sadece pozitif değer alır"
      ]
    },
    {
      "cell_type": "markdown",
      "id": "aefedc90",
      "metadata": {
        "id": "aefedc90"
      },
      "source": [
        "**kalın metin**### Sınıf tanımlaması (cont.) \n",
        "* Her sınıf genellikle açıklayıcı bir dokümantasyon dizesi sağlar.\n",
        "* Bu dize, sınıf başlığını takip eden satır veya satırlarda yer almalıdır.\n",
        "* Python'da herhangi bir sınıfın dokümantasyon dizesini görüntülemek için, sınıf adını yazıp bir soru işareti ekleyerek ve ardından Enter tuşuna basarak sorgulayabilirsiniz.\n",
        "* Örnek: Account?\n",
        "\n",
        "\n",
        "\n",
        "### Sınıf tanımlaması (cont.) \n",
        "* Account, hem sınıfın adıdır hem de bir yapıcı ifadesinde kullanılan Account nesnesini oluşturmak ve sınıfın __init__ yöntemini çağırmak için kullanılan addır.\n",
        "* Python'ın yardım mekanizması, hem sınıfın dokümantasyon dizesini (\"Docstring:\") hem de __init__ yönteminin dokümantasyon dizesini (\"Init docstring:\") gösterir.\n",
        "\n",
        "\n",
        "\n",
        "### Account Nesnelerini Başlatma: __init__ Yöntemi\n",
        "* Bir yapılandırıcı ifadesi yeni bir nesne oluşturur ve ardından sınıfın __init__ yöntemini çağırarak verilerini başlatır.\n",
        "* Her yeni sınıf, bir nesnenin veri özelliklerini nasıl başlatacağını belirten bir __init__ yöntemi sağlayabilir.\n",
        "* __init__ yönteminden None dışında bir değer döndürmek, TypeError hatasına neden olur.\n",
        "* Account sınıfının __init__ yöntemi, bir Account nesnesinin name ve balance özelliklerini başlatır, ancak balance geçerli bir değer ise.\n",
        "\n",
        "### Account Nesnelerini Başlatma: __init__ Yöntemi (cont.)\n",
        "```python\n",
        "    def __init__(self, name, balance):\n",
        "        \"\"\"Initialize an Account object.\"\"\"\n",
        "\n",
        "        # if balance is less than 0.00, raise an exception\n",
        "        if balance < Decimal('0.00'):\n",
        "            raise ValueError('Initial balance must be >= to 0.00.')\n",
        "\n",
        "        self.name = name\n",
        "        self.balance = balance\n",
        "\n",
        "\n",
        "```\n",
        "### Account Nesnelerini Başlatma: __init__ Yöntemi (cont.)\n",
        "* Bir nesne için bir yöntemi çağırdığınızda, Python bu nesneye bir başvuruyu (referansı) o yöntemin ilk argümanı olarak örtük olarak geçer.\n",
        "* Bu nedenle, bir sınıfın tüm yöntemleri en az bir parametre belirtmelidir.\n",
        "* Geleneksel olarak, bir yöntemin ilk parametresine self adı verilir.\n",
        "* Yöntemler, bu referans (self) kullanarak nesnenin özelliklerine ve diğer yöntemlerine erişmelidir.\n",
        "\n",
        "### Account Nesnelerini Başlatma: __init__ Yöntemi (cont.)\n",
        "* Bir nesne oluşturulduğunda henüz herhangi bir özelliği (attribute) bulunmaz.\n",
        "* Özellikler, aşağıdaki gibi atamalar aracılığıyla dinamik olarak eklenir:\n",
        "```python\n",
        "self.attribute_name `=` value\n",
        "``` \n",
        "\n",
        "### Account Nesnelerini Başlatma: __init__ Yöntemi(cont.)\n",
        "*Python sınıfları, __init__ gibi birçok özel yöntemi tanımlayabilir, (https://docs.python.org/3/reference/datamodel.html#special-method-names)\n",
        "* Her biri yöntem adında önde ve arkada çift alt çizgi (__) ile belirtilir.\n",
        "* Sınıf object, tüm Python nesneleri için geçerli olan özel yöntemleri tanımlar.\n",
        "\n",
        "\n",
        "### 'deposit' Yöntemi \n",
        "* Pozitif bir amount değerini hesabın balance özelliğine ekler.\n",
        "* amount, 0.00'dan küçükse ValueError hatası oluşturur.\n",
        "\n",
        "```python\n",
        "    def deposit(self, amount):\n",
        "        \"\"\"Deposit money to the account.\"\"\"\n",
        "\n",
        "        # if amount is less than 0.00, raise an exception\n",
        "        if amount < Decimal('0.00'):\n",
        "            raise ValueError('amount must be positive.')\n",
        "\n",
        "        self.balance += amount\n",
        "\n",
        "```\n",
        "\n",
        "\n",
        "## 10.2.3 Kompozisyon: Sınıfların Üyeleri Olarak Nesne Referansları\n",
        "* Bir Account'un bir name'i vardır ve bir Account'un bir balance'ı vardır.\n",
        "* Bir nesnenin özellikleri, diğer sınıfların nesnelerine referanslardır.\n",
        "* Başka türdeki nesnelere referansları gömmek, bazen kompozisyon olarak adlandırılan ve bazen de \"bir ilişkisi\" olarak adlandırılan yazılım yeniden kullanılabilirliğin bir formudur.\n",
        "\n",
        "# 10.3 Özelliklere Erişimi Kontrol Etme \n",
        "* Önceki örnekte, name ve balance özellikleri yalnızca bu özelliklerin değerlerini almak için kullanıldı.\n",
        "* Bu özellikleri, değerlerini değiştirmek için de kullanabilirsiniz."
      ]
    },
    {
      "cell_type": "code",
      "execution_count": null,
      "id": "d4b66056",
      "metadata": {
        "id": "d4b66056"
      },
      "outputs": [],
      "source": [
        "#from account import Account # import etmek için packege eklenmelidi  onun yerine classı biz tanımladık şimdilik \n",
        "from decimal import Decimal"
      ]
    },
    {
      "cell_type": "code",
      "execution_count": null,
      "id": "a675d939",
      "metadata": {
        "id": "a675d939",
        "outputId": "d6bdf3f0-46fa-43b4-9848-ced9f6bdf8f1"
      },
      "outputs": [
        {
          "data": {
            "text/plain": [
              "Decimal('50.00')"
            ]
          },
          "execution_count": 360,
          "metadata": {},
          "output_type": "execute_result"
        }
      ],
      "source": [
        "account1 = Account('John Green', Decimal('50.00'))\n",
        "account1.balance #get methodu"
      ]
    },
    {
      "cell_type": "markdown",
      "id": "11b00c15",
      "metadata": {
        "id": "11b00c15"
      },
      "source": [
        "* Set the `balance` attribute to an _invalid_ negative value, then display the `balance`"
      ]
    },
    {
      "cell_type": "code",
      "execution_count": null,
      "id": "5a94857f",
      "metadata": {
        "id": "5a94857f"
      },
      "outputs": [],
      "source": [
        "account1.balance = Decimal('-1000.00')  #set methodu"
      ]
    },
    {
      "cell_type": "code",
      "execution_count": null,
      "id": "828074eb",
      "metadata": {
        "id": "828074eb",
        "outputId": "eced6ebf-3873-445d-f5ad-ea5ca83fbffc"
      },
      "outputs": [
        {
          "data": {
            "text/plain": [
              "Decimal('-1000.00')"
            ]
          },
          "execution_count": 362,
          "metadata": {},
          "output_type": "execute_result"
        }
      ],
      "source": [
        "account1.balance"
      ]
    },
    {
      "cell_type": "markdown",
      "id": "af6cf900",
      "metadata": {
        "id": "af6cf900"
      },
      "source": [
        "### Kapsülleme \n",
        "* Bir sınıfın istemci kodu, sınıfın nesnelerini kullanan herhangi bir koddur.\n",
        "* Çoğu nesne yönelimli programlama dili, bir nesnenin verilerini istemci kodundan gizlemek veya kapsüllemek için olanak sağlar.\n",
        "    * _private data_"
      ]
    },
    {
      "cell_type": "markdown",
      "id": "09b9d605",
      "metadata": {
        "id": "09b9d605"
      },
      "source": [
        "### Önde Gelen Alt Çizgi (_) İsimlendirme Kuralı\n",
        "* Python'da özel veri kavramı yoktur.\n",
        "* Doğru kullanımı teşvik eden sınıflar tasarlamak için isimlendirme kuralı kullanılır.\n",
        "* Geleneksel olarak, Python programcıları herhangi bir alt çizgi (_) ile başlayan bir özniteliğin sadece sınıfın iç kullanımı için olduğunu bilir.\n",
        "* Alt çizgi (_) ile başlamayan öznitelikler ise istemci kodunda genel olarak erişilebilir olarak kabul edilir."
      ]
    },
    {
      "cell_type": "code",
      "execution_count": null,
      "id": "ca96a928",
      "metadata": {
        "id": "ca96a928"
      },
      "outputs": [],
      "source": [
        "class Deneme:\n",
        "    def __init__(self, a, b):\n",
        "        self.a=a #public a\n",
        "        self._a=a #semi private a\n",
        "        self.__a=a #private a"
      ]
    },
    {
      "cell_type": "markdown",
      "id": "e397c16d",
      "metadata": {
        "id": "e397c16d"
      },
      "source": [
        "# 10.4 `Time ` Sınıfı, Veri Erişimi için Özelliklerle\n",
        "\n",
        "* Özellikler, bir nesnenin verilerine erişim ve değiştirme şeklini kontrol edebilirler - **programcılar belirli kurallara uydukları sürece**\n",
        "* Güçlü tarih ve saat manipülasyon yetenekleri için, Python'un datetime modülüne bakın.[**datetime** module]( https://docs.python.org/3/library/datetime.html)"
      ]
    },
    {
      "cell_type": "code",
      "execution_count": null,
      "id": "ae0e4ac6",
      "metadata": {
        "id": "ae0e4ac6"
      },
      "outputs": [],
      "source": []
    },
    {
      "cell_type": "markdown",
      "id": "fe8f3aac",
      "metadata": {
        "id": "fe8f3aac"
      },
      "source": [
        "## 10.4.1 Test-Driving Class \n",
        "Before we look at class `Time`’s definition, let’s demonstrate its capabilities\n",
        "#  `Time`   Sınıfı Test Edilmesi\n",
        "`Time`  sınıfının tanımına bakmadan önce, yeteneklerini gösterelim."
      ]
    },
    {
      "cell_type": "code",
      "execution_count": null,
      "id": "e19bae65",
      "metadata": {
        "scrolled": true,
        "id": "e19bae65"
      },
      "outputs": [],
      "source": [
        "# from timewithproperties import Time # import etmek için eklenmelidir # kendimi oluşturacagiz  simdilik"
      ]
    },
    {
      "cell_type": "code",
      "execution_count": null,
      "id": "529be4bb",
      "metadata": {
        "id": "529be4bb"
      },
      "outputs": [],
      "source": [
        "class Time:\n",
        "    \"\"\"Class Time with read-write properties.\"\"\"\n",
        "\n",
        "    def __init__(self, hour=0, minute=0, second=0):\n",
        "        \"\"\"Initialize each attribute.\"\"\"\n",
        "        self.hour = hour  # 0-23\n",
        "        self.minute = minute  # 0-59\n",
        "        self.second = second  # 0-59\n",
        "\n",
        "    @property\n",
        "    def hour(self):\n",
        "        \"\"\"Return the hour.\"\"\"\n",
        "        return self._hour\n",
        "\n",
        "    @hour.setter\n",
        "    def hour(self, hour):\n",
        "        \"\"\"Set the hour.\"\"\"\n",
        "        if not (0 <= hour < 24):\n",
        "            raise ValueError(f'saat ({hour})  0-23 araliginda olmalidir')\n",
        "\n",
        "        self._hour = hour\n",
        "\n",
        "    @property\n",
        "    def minute(self):\n",
        "        \"\"\"Return the minute.\"\"\"\n",
        "        return self._minute\n",
        "\n",
        "    @minute.setter\n",
        "    def minute(self, minute):\n",
        "        \"\"\"Set the minute.\"\"\"\n",
        "        if not (0 <= minute < 60):\n",
        "            raise ValueError(f'Dakika ({minute}) araliginda olmalidir')\n",
        "\n",
        "        self._minute = minute\n",
        "\n",
        "    @property\n",
        "    def second(self):\n",
        "        \"\"\"Return the second.\"\"\"\n",
        "        return self._second\n",
        "\n",
        "    @second.setter\n",
        "    def second(self, second):\n",
        "        \"\"\"Set the second.\"\"\"\n",
        "        if not (0 <= second < 60):\n",
        "            raise ValueError(f'Saniye ({second})  0-59 araliginda olmalidir')\n",
        "\n",
        "        self._second = second\n",
        "\n",
        "    def set_time(self, hour=0, minute=0, second=0):\n",
        "        \"\"\"Set values of hour, minute, and second.\"\"\"\n",
        "        self.hour = hour\n",
        "        self.minute = minute\n",
        "        self.second = second\n",
        "\n",
        "    def __repr__(self):\n",
        "        \"\"\"Return Time string for repr().\"\"\"\n",
        "        return (f'Time(hour={self.hour}, minute={self.minute}, ' + \n",
        "                f'second={self.second})')\n",
        "\n",
        "    def __str__(self):\n",
        "        \"\"\"Return Time string in 12-hour clock format.\"\"\"\n",
        "        return (('12' if self.hour in (0, 12) else str(self.hour % 12)) + \n",
        "                f':{self.minute:0>2}:{self.second:0>2}' + \n",
        "                (' AM' if self.hour < 12 else ' PM'))"
      ]
    },
    {
      "cell_type": "code",
      "execution_count": null,
      "id": "25bf7d44",
      "metadata": {
        "id": "25bf7d44",
        "outputId": "018c4b72-11fc-4840-caa8-742595caf82f"
      },
      "outputs": [
        {
          "data": {
            "text/plain": [
              "['__class__',\n",
              " '__delattr__',\n",
              " '__dict__',\n",
              " '__dir__',\n",
              " '__doc__',\n",
              " '__eq__',\n",
              " '__format__',\n",
              " '__ge__',\n",
              " '__getattribute__',\n",
              " '__gt__',\n",
              " '__hash__',\n",
              " '__init__',\n",
              " '__init_subclass__',\n",
              " '__le__',\n",
              " '__lt__',\n",
              " '__module__',\n",
              " '__ne__',\n",
              " '__new__',\n",
              " '__reduce__',\n",
              " '__reduce_ex__',\n",
              " '__repr__',\n",
              " '__setattr__',\n",
              " '__sizeof__',\n",
              " '__str__',\n",
              " '__subclasshook__',\n",
              " '__weakref__',\n",
              " 'hour',\n",
              " 'minute',\n",
              " 'second',\n",
              " 'set_time']"
            ]
          },
          "execution_count": 366,
          "metadata": {},
          "output_type": "execute_result"
        }
      ],
      "source": [
        "dir(Time)"
      ]
    },
    {
      "cell_type": "markdown",
      "id": "084d97aa",
      "metadata": {
        "id": "084d97aa"
      },
      "source": [
        "### Zaman (Time) Nesnesi Oluşturma\n",
        "* Bir Time nesnesi oluşturma\n",
        "* Time sınıfının __init__ metodu, varsayılan olarak 0 değerine sahip olan hour (saat), minute (dakika) ve second (saniye) parametrelerine sahiptir."
      ]
    },
    {
      "cell_type": "markdown",
      "id": "525d3d07",
      "metadata": {
        "id": "525d3d07"
      },
      "source": [
        "### Bir Time Nesnesini Gösterme\n",
        "* Time sınıfı, Time nesnesinin dize temsillerini oluşturan iki yöntem tanımlar.\n",
        "* Python'da bir değişkeni değerlendirdiğinizde, nesnenin dize temsilini oluşturmak için nesnenin __repr__ özel yöntemini çağırır."
      ]
    },
    {
      "cell_type": "code",
      "execution_count": null,
      "id": "a3c21066",
      "metadata": {
        "id": "a3c21066"
      },
      "outputs": [],
      "source": [
        "wake_up = Time(hour=6, minute=30)"
      ]
    },
    {
      "cell_type": "code",
      "execution_count": null,
      "id": "ab015552",
      "metadata": {
        "id": "ab015552",
        "outputId": "e7d198ff-80af-4347-f8de-92a36d304c12"
      },
      "outputs": [
        {
          "data": {
            "text/plain": [
              "Time(hour=6, minute=30, second=0)"
            ]
          },
          "execution_count": 368,
          "metadata": {},
          "output_type": "execute_result"
        }
      ],
      "source": [
        "wake_up  #__repr__"
      ]
    },
    {
      "cell_type": "markdown",
      "id": "ad740f33",
      "metadata": {
        "id": "ad740f33"
      },
      "source": [
        "* __str__ özel yöntemi, bir nesnenin bir dizeye dönüştürüldüğünde çağrılır, örneğin nesneyi print ile çıktı olarak verdiğinizde"
      ]
    },
    {
      "cell_type": "code",
      "execution_count": null,
      "id": "4c2c1cf9",
      "metadata": {
        "id": "4c2c1cf9",
        "outputId": "c5499848-937b-4e3d-ddf8-7af25314f69c"
      },
      "outputs": [
        {
          "name": "stdout",
          "output_type": "stream",
          "text": [
            "6:30:00 AM\n"
          ]
        }
      ],
      "source": [
        "print(wake_up)"
      ]
    },
    {
      "cell_type": "markdown",
      "id": "0a0af99f",
      "metadata": {
        "id": "0a0af99f"
      },
      "source": [
        "### Bir Özelliği Kullanarak Bir Özelliği Alma\n",
        "* Time sınıfı, hour, minute ve second özelliklerini sağlar\n",
        "    * Bir nesnenin verilerini alma ve değiştirme kolaylığı sağlar\n",
        "    * Yöntem olarak uygulandığı için ek mantık içerebilir"
      ]
    },
    {
      "cell_type": "code",
      "execution_count": null,
      "id": "37b7e46a",
      "metadata": {
        "id": "37b7e46a",
        "outputId": "2104da18-4428-4863-d24e-62f990c358a3"
      },
      "outputs": [
        {
          "data": {
            "text/plain": [
              "6"
            ]
          },
          "execution_count": 370,
          "metadata": {},
          "output_type": "execute_result"
        }
      ],
      "source": [
        "wake_up.hour"
      ]
    },
    {
      "cell_type": "markdown",
      "id": "12a41aa8",
      "metadata": {
        "id": "12a41aa8"
      },
      "source": [
        "* hour özelliği, bir hour veri özniteliğinin değerini döndüren bir yönteme benzer şekilde görünmektedir.\n",
        "* Aslında, _hour veri özniteliğinin değerini döndüren bir _hour yöntemi çağrısıdır."
      ]
    },
    {
      "cell_type": "markdown",
      "id": "c95a42e3",
      "metadata": {
        "id": "c95a42e3"
      },
      "source": [
        "### Time'ı Ayarlama\n",
        "\n",
        "* Time sınıfının set_time yöntemi, varsayılan olarak her biri 0 olan hour, minute ve second parametrelerini sağlar."
      ]
    },
    {
      "cell_type": "code",
      "execution_count": null,
      "id": "19d06ca4",
      "metadata": {
        "id": "19d06ca4",
        "outputId": "125ede4a-8484-403a-b67a-09f3b28f26c3"
      },
      "outputs": [
        {
          "data": {
            "text/plain": [
              "Time(hour=7, minute=45, second=0)"
            ]
          },
          "execution_count": 371,
          "metadata": {},
          "output_type": "execute_result"
        }
      ],
      "source": [
        "wake_up.set_time(hour=7, minute=45)\n",
        "wake_up"
      ]
    },
    {
      "cell_type": "markdown",
      "id": "78b05110",
      "metadata": {
        "id": "78b05110"
      },
      "source": [
        "### Bir Özelliği Kullanarak Bir Özniteliği Ayarlama \n",
        "* Time sınıfı, özellikleri aracılığıyla hour, minute ve second değerlerini ayrı ayrı ayarlamayı da destekler."
      ]
    },
    {
      "cell_type": "code",
      "execution_count": null,
      "id": "316f0829",
      "metadata": {
        "id": "316f0829",
        "outputId": "575fa919-5ea1-4d8e-b3ee-ca59462a2575"
      },
      "outputs": [
        {
          "data": {
            "text/plain": [
              "Time(hour=6, minute=45, second=0)"
            ]
          },
          "execution_count": 372,
          "metadata": {},
          "output_type": "execute_result"
        }
      ],
      "source": [
        "wake_up.hour = 6\n",
        "wake_up"
      ]
    },
    {
      "cell_type": "markdown",
      "id": "51ab1ba8",
      "metadata": {
        "id": "51ab1ba8"
      },
      "source": [
        "* Görünüşe göre sadece bir veri özniteliğine değer atıyor gibi görünüyor\n",
        "* Aslında hour yöntemi çağrısıdır ve 6 değerini bir argüman olarak alır, değeri doğrular ve _hour adında ilgili bir veri özniteliğine atar."
      ]
    },
    {
      "cell_type": "markdown",
      "id": "fc2cbc7a",
      "metadata": {
        "id": "fc2cbc7a"
      },
      "source": [
        "### Geçersiz Bir Değer Atama Girişimi\n",
        "Sınıf Time'ın özelliklerinin atandıkları değerleri doğruladığını kanıtlamak için, hour özelliğine geçersiz bir değer atamayı deneyelim ve böylece bir ValueError hatası alalım:"
      ]
    },
    {
      "cell_type": "code",
      "execution_count": null,
      "id": "e3ce0ec5",
      "metadata": {
        "id": "e3ce0ec5",
        "outputId": "663e7ef1-5b36-409d-d4a2-0a28811f17c5"
      },
      "outputs": [
        {
          "ename": "ValueError",
          "evalue": "saat (100)  0-23 araliginda olmalidir",
          "output_type": "error",
          "traceback": [
            "\u001b[1;31m---------------------------------------------------------------------------\u001b[0m",
            "\u001b[1;31mValueError\u001b[0m                                Traceback (most recent call last)",
            "\u001b[1;32m~\\AppData\\Local\\Temp\\ipykernel_9484\\238335704.py\u001b[0m in \u001b[0;36m<module>\u001b[1;34m\u001b[0m\n\u001b[1;32m----> 1\u001b[1;33m \u001b[0mwake_up\u001b[0m\u001b[1;33m.\u001b[0m\u001b[0mhour\u001b[0m \u001b[1;33m=\u001b[0m \u001b[1;36m100\u001b[0m\u001b[1;33m\u001b[0m\u001b[1;33m\u001b[0m\u001b[0m\n\u001b[0m",
            "\u001b[1;32m~\\AppData\\Local\\Temp\\ipykernel_9484\\3813918088.py\u001b[0m in \u001b[0;36mhour\u001b[1;34m(self, hour)\u001b[0m\n\u001b[0;32m     17\u001b[0m         \u001b[1;34m\"\"\"Set the hour.\"\"\"\u001b[0m\u001b[1;33m\u001b[0m\u001b[1;33m\u001b[0m\u001b[0m\n\u001b[0;32m     18\u001b[0m         \u001b[1;32mif\u001b[0m \u001b[1;32mnot\u001b[0m \u001b[1;33m(\u001b[0m\u001b[1;36m0\u001b[0m \u001b[1;33m<=\u001b[0m \u001b[0mhour\u001b[0m \u001b[1;33m<\u001b[0m \u001b[1;36m24\u001b[0m\u001b[1;33m)\u001b[0m\u001b[1;33m:\u001b[0m\u001b[1;33m\u001b[0m\u001b[1;33m\u001b[0m\u001b[0m\n\u001b[1;32m---> 19\u001b[1;33m             \u001b[1;32mraise\u001b[0m \u001b[0mValueError\u001b[0m\u001b[1;33m(\u001b[0m\u001b[1;34mf'saat ({hour})  0-23 araliginda olmalidir'\u001b[0m\u001b[1;33m)\u001b[0m\u001b[1;33m\u001b[0m\u001b[1;33m\u001b[0m\u001b[0m\n\u001b[0m\u001b[0;32m     20\u001b[0m \u001b[1;33m\u001b[0m\u001b[0m\n\u001b[0;32m     21\u001b[0m         \u001b[0mself\u001b[0m\u001b[1;33m.\u001b[0m\u001b[0m_hour\u001b[0m \u001b[1;33m=\u001b[0m \u001b[0mhour\u001b[0m\u001b[1;33m\u001b[0m\u001b[1;33m\u001b[0m\u001b[0m\n",
            "\u001b[1;31mValueError\u001b[0m: saat (100)  0-23 araliginda olmalidir"
          ]
        }
      ],
      "source": [
        "wake_up.hour = 100"
      ]
    },
    {
      "cell_type": "markdown",
      "id": "00a665fa",
      "metadata": {
        "id": "00a665fa"
      },
      "source": [
        "## 10.4.2 Time Sınıfı Tanımı\n",
        "\n",
        "### Sınıf Time: Varsayılan Parametre Değerleriyle __init__ Metodu\n",
        "* hour, minute ve second parametrelerini belirtir, her birinin varsayılan argümanı 0 olarak ayarlanmıştır.\n",
        "* self.hour, self.minute ve self.second içeren ifadeler, yeni Time nesnesi (self) için hour, minute ve second öznitelikleri oluşturur gibi görünmektedir.\n",
        "* Bu ifadeler aslında, sınıfın hour, minute ve second özelliklerini uygulayan yöntemleri çağırmaktadır.\n",
        "* Bu yöntemler, _hour, _minute ve _second adında öznitelikler oluşturur."
      ]
    },
    {
      "cell_type": "markdown",
      "id": "751baa2d",
      "metadata": {
        "id": "751baa2d"
      },
      "source": [
        "# timewithproperties.py\n",
        "\"\"\"Class Time with read-write properties.\"\"\"\n",
        "\n",
        "class Time:\n",
        "    \"\"\"Class Time with read-write properties.\"\"\"\n",
        "\n",
        "    def __init__(self, hour=0, minute=0, second=0):\n",
        "        \"\"\"Initialize each attribute.\"\"\"\n",
        "        self.hour = hour  # 0-23\n",
        "        self.minute = minute  # 0-59\n",
        "        self.second = second  # 0-59\n"
      ]
    },
    {
      "cell_type": "markdown",
      "id": "22576397",
      "metadata": {
        "id": "22576397"
      },
      "source": [
        "### Sınıf Time: hour Okunabilir-Yazılabilir Özelliği\n",
        "* hour adlı yöntemler, _hour adlı bir veri özniteliğini değiştiren okunabilir-yazılabilir bir özellik olan hour adlı bir özelliği tanımlar.\n",
        "* Tek başına çift alt çizgi (_) kullanma kuralı, müşteri kodunun _hour özniteliğine doğrudan erişmemesi gerektiğini gösterir.\n",
        "* Özellikler, Time nesneleriyle çalışan programcılara veri öznitelikleri gibi görünür, ancak yöntemler olarak uygulanır.\n",
        "* Her özellik, bir veri özniteliğinin değerini alırken (döndürme) kullanılan bir getter yöntemi tanımlar. \n",
        "* Her özellik, bir veri özniteliğinin değerini ayarlamak için (set etmek) isteğe bağlı olarak bir setter yöntemi tanımlayabilir."
      ]
    },
    {
      "cell_type": "markdown",
      "id": "a1c7276a",
      "metadata": {
        "id": "a1c7276a"
      },
      "source": [
        " @property\n",
        "    def hour(self):\n",
        "        \"\"\"Return the hour.\"\"\"\n",
        "        return self._hour\n",
        "\n",
        "    @hour.setter\n",
        "    def hour(self, hour):\n",
        "        \"\"\"Set the hour.\"\"\"\n",
        "        if not (0 <= hour < 24):\n",
        "            raise ValueError(f'Hour ({hour}) must be 0-23')\n",
        "\n",
        "        self._hour = hour\n"
      ]
    },
    {
      "cell_type": "code",
      "execution_count": null,
      "id": "7f85a55a",
      "metadata": {
        "id": "7f85a55a"
      },
      "outputs": [],
      "source": []
    },
    {
      "cell_type": "markdown",
      "id": "3995b9c5",
      "metadata": {
        "id": "3995b9c5"
      },
      "source": [
        "### Sınıf Time: hour Okunabilir-Yazılabilir Özelliği (cont.)\n",
        "* @property dekoratörü, özelliğin getter yönteminden önce yer alır ve yalnızca bir self parametresi alır.\n",
        "* Bir dekoratör, dekore edilen işleve kod ekler.\n",
        "    * hour işlevini öznitelik sözdizimiyle çalışır hale getirir.\n",
        "* getter yönteminin adı özelliğin adıdır."
      ]
    },
    {
      "cell_type": "markdown",
      "id": "bef93b34",
      "metadata": {
        "id": "bef93b34"
      },
      "source": [
        "### Sınıf Time: hour Okunabilir-Yazılabilir Özelliği (cont.)\n",
        "* @property_name.setter (@hour.setter) şeklindeki bir dekoratör, özelliğin setter yönteminden önce yer alır.\n",
        "* Yöntem, self ve özniteliğe atanan değeri temsil eden bir parametre (hour) olmak üzere iki parametre alır.\n",
        "* __init__, nesnenin _hour özniteliğini oluşturmadan ve başlatmadan önce __init__'in saat argümanını doğrulamak için bu setter'ı çağırdı.\n",
        "* okunabilir-yazılabilir bir özellik, hem bir getter hem de bir setter'a sahiptir.\n",
        "* sadece okunabilir bir özellik, yalnızca bir getter'a sahiptir. [bağlantı metni](https://)"
      ]
    },
    {
      "cell_type": "markdown",
      "id": "e1932a1e",
      "metadata": {
        "id": "e1932a1e"
      },
      "source": [
        "### Class Time: minute ve second Okunabilir-Yazılabilir Özellikleri\n",
        "* Aşağıdaki minute ve second adlı yöntemler, okunabilir-yazılabilir minute ve second özelliklerini tanımlar.\n",
        "* Her özelliğin setter'ı, ikinci argümanın 0-59 aralığında olduğunu (dakika ve saniyelerin geçerli değer aralığı) sağlar.\n",
        "\n",
        "```python\n",
        "    @property\n",
        "    def minute(self):\n",
        "        \"\"\"Return the minute.\"\"\"\n",
        "        return self._minute\n",
        "\n",
        "    @minute.setter\n",
        "    def minute(self, minute):\n",
        "        \"\"\"Set the minute.\"\"\"\n",
        "        if not (0 <= minute < 60):\n",
        "            raise ValueError(f'Minute ({minute}) must be 0-59')\n",
        "\n",
        "        self._minute = minute\n",
        "\n",
        "    @property\n",
        "    def second(self):\n",
        "        \"\"\"Return the second.\"\"\"\n",
        "        return self._second\n",
        "\n",
        "    @second.setter\n",
        "    def second(self, second):\n",
        "        \"\"\"Set the second.\"\"\"\n",
        "        if not (0 <= second < 60):\n",
        "            raise ValueError(f'Second ({second}) must be 0-59')\n",
        "\n",
        "        self._second = second\n",
        "\n",
        "\n",
        "```"
      ]
    },
    {
      "cell_type": "markdown",
      "id": "65c045a4",
      "metadata": {
        "id": "65c045a4"
      },
      "source": [
        "### Class Time: set_time Yöntemi\n",
        "* set_time yöntemi, bir tek yöntem çağrısı ile üç özniteliği değiştirir.\n",
        "* Yöntem, yukarıda tanımlanan sınıfın özelliklerini kullanır.\n",
        "\n",
        "```python\n",
        "    def set_time(self, hour=0, minute=0, second=0):\n",
        "        \"\"\"Set values of hour, minute, and second.\"\"\"\n",
        "        self.hour = hour\n",
        "        self.minute = minute\n",
        "        self.second = second\n",
        "\n",
        "\n",
        "```"
      ]
    },
    {
      "cell_type": "markdown",
      "id": "1de8941d",
      "metadata": {
        "id": "1de8941d"
      },
      "source": [
        "### Class Time: Özel Yöntem  `__repr__`\n",
        "* Bir nesneyi repr yerleşik fonksiyonuna geçirdiğinizde - ki bu, bir değişkeni bir IPython oturumunda değerlendirdiğinizde örtük olarak gerçekleşir - ilgili sınıfın __repr__ özel yöntemi çağrılır ve nesnenin bir dize temsilini alır.\n",
        "\n",
        "```python\n",
        "    def __repr__(self):\n",
        "        \"\"\"Return Time string for repr().\"\"\"\n",
        "        return (f'Time(hour={self.hour}, minute={self.minute}, ' + \n",
        "                f'second={self.second})')\n",
        "\n",
        "\n",
        "```"
      ]
    },
    {
      "cell_type": "markdown",
      "id": "5fd0575d",
      "metadata": {
        "id": "5fd0575d"
      },
      "source": [
        "### Class Time: Özel Yöntem `__repr__` (cont.)\n",
        "* Python belgeleri, __repr__'in nesnenin \"resmi\" dize temsilini döndürdüğünü belirtir.\n",
        "* Oluşturur ve nesneyi başlatan bir yapıcı ifadesi gibi görünmelidir. (Should look like a constructor expression that creates and initializes the object)"
      ]
    },
    {
      "cell_type": "markdown",
      "id": "11cc5b78",
      "metadata": {
        "id": "11cc5b78"
      },
      "source": [
        "### Class Time: Özel Yöntem `__str__` \n",
        "* __str__ özel yöntemi, aşağıdaki durumlarda örtük olarak çağrılır:\n",
        "    * Bir nesneyi yerleşik str fonksiyonuyla bir dizeye dönüştürdüğünüzde\n",
        "    * Bir nesneyi print komutuyla yazdırdığınızda"
      ]
    },
    {
      "cell_type": "markdown",
      "id": "bd347e45",
      "metadata": {
        "id": "bd347e45"
      },
      "source": [
        "```python\n",
        "    def __str__(self):\n",
        "        \"\"\"Print Time in 12-hour clock format.\"\"\"\n",
        "        return (('12' if self.hour in (0, 12) else str(self.hour % 12)) + \n",
        "                f':{self.minute:0>2}:{self.second:0>2}' + \n",
        "                (' AM' if self.hour < 12 else ' PM'))\n",
        "\n",
        "```"
      ]
    },
    {
      "cell_type": "markdown",
      "id": "0991109d",
      "metadata": {
        "id": "0991109d"
      },
      "source": [
        "## 10.4.3 Class `Time` Tanımı Tasarım Notları"
      ]
    },
    {
      "cell_type": "markdown",
      "id": "94974be9",
      "metadata": {
        "id": "94974be9"
      },
      "source": [
        "### Sınıfın Arayüzü (Interface of a Class)\n",
        "* Sınıf Time'ın özellikleri ve yöntemleri, sınıfın ** public interface ** tanımlar—\n",
        "    * Bu, programcıların sınıfın nesneleriyle etkileşimde bulunmak için kullanması gereken özellikler ve yöntemlerdir."
      ]
    },
    {
      "cell_type": "markdown",
      "id": "fc9c48d9",
      "metadata": {
        "id": "fc9c48d9"
      },
      "source": [
        "### Özellikler Her Zaman Erişilebilirdir\n",
        "* Python, veri özelliklerini (_hour, _minute ve _second) doğrudan değiştirmenizi engellemez. Yani, Python doğrudan bu özelliklere erişerek değerlerini değiştirmenize izin verir."
      ]
    },
    {
      "cell_type": "code",
      "execution_count": null,
      "id": "47b09af8",
      "metadata": {
        "id": "47b09af8"
      },
      "outputs": [],
      "source": [
        "# from timewithproperties import Time"
      ]
    },
    {
      "cell_type": "code",
      "execution_count": null,
      "id": "6de1c538",
      "metadata": {
        "id": "6de1c538",
        "outputId": "dd99590e-dd0d-4db8-8d4e-1558823e792a"
      },
      "outputs": [
        {
          "data": {
            "text/plain": [
              "7"
            ]
          },
          "execution_count": 375,
          "metadata": {},
          "output_type": "execute_result"
        }
      ],
      "source": [
        "wake_up = Time(hour=7, minute=45, second=30)\n",
        "wake_up._hour\n"
      ]
    },
    {
      "cell_type": "code",
      "execution_count": null,
      "id": "f9bc1cf2",
      "metadata": {
        "id": "f9bc1cf2",
        "outputId": "749be1bf-a3f2-4783-c7ce-558b9a9f095b"
      },
      "outputs": [
        {
          "data": {
            "text/plain": [
              "Time(hour=100, minute=45, second=30)"
            ]
          },
          "execution_count": 376,
          "metadata": {},
          "output_type": "execute_result"
        }
      ],
      "source": [
        "wake_up._hour = 100\n",
        "wake_up"
      ]
    },
    {
      "cell_type": "markdown",
      "id": "c1d7e0a2",
      "metadata": {
        "id": "c1d7e0a2"
      },
      "source": [
        "* [4] kod örneğinden sonra, wake_up nesnesi geçersiz veri içeriyor çünkü sınıfta veri doğrulaması uygulanmamıştır.\n",
        "* Python'ın belgelerinde \"Python'da veri gizlemeyi zorunlu kılan bir mekanizma bulunmamaktadır, her şey anlaşmaya dayalıdır\" şeklinde bir ifade bulunmaktadır."
      ]
    },
    {
      "cell_type": "markdown",
      "id": "d27d1c6f",
      "metadata": {
        "id": "d27d1c6f"
      },
      "source": [
        "### Dahili Veri Temsili\n",
        "* Zamanı dahili olarak gece yarısından beri geçen saniye sayısı olarak temsil edebiliriz.\n",
        "    * Bu durumda hour, minute ve second özelliklerini yeniden uygulamamız gerekecektir.\n",
        "* Diğer programcılar, bu değişikliklerden haberdar olmadan aynı arayüzü kullanabilir ve aynı sonuçları elde edebilir."
      ]
    },
    {
      "cell_type": "markdown",
      "id": "43eb42f9",
      "metadata": {
        "id": "43eb42f9"
      },
      "source": [
        "### Bir Sınıfın Uygulama Detaylarını Geliştirmek\n",
        "* Başka programcılara sunulmadan önce bir sınıfın arayüzünü dikkatlice düşünmek önemlidir.\n",
        "* Sınıfın arayüzünü, mevcut kodların kırılmadan sınıfın uygulama detaylarını güncellemesine izin verecek şekilde tasarlamak önemlidir."
      ]
    },
    {
      "cell_type": "markdown",
      "id": "f251ead8",
      "metadata": {
        "id": "f251ead8"
      },
      "source": [
        "### Yardımcı Metodlar\n",
        "* Tüm metodlar bir sınıfın arayüzünün bir parçası olmak zorunda değildir.\n",
        "* Bazıları sadece sınıf içinde kullanılan yardımcı metodlar olarak hizmet eder ve istemci kodu tarafından sınıfın genel arayüzünün bir parçası olmayı amaçlamaz.\n",
        "* Bu tür metodlar tek bir alt çizgi ile başlayan bir isme sahip olmalıdır. Bu, diğer programcıların bu metodların sınıfın genel kullanımına dahil olmadığını ve içsel kullanım amaçlı olduğunu anlamasına yardımcı olur."
      ]
    },
    {
      "cell_type": "markdown",
      "id": "9fbab818",
      "metadata": {
        "id": "9fbab818"
      },
      "source": [
        "### datetime Modülü\n",
        "* Zaman ve tarihleri temsil etmek için kendi sınıflarınızı oluşturmak yerine, Python Standart Kütüphanesi'nin datetime modülünün yeteneklerini kullanabilirsiniz.\n",
        "> https://docs.python.org/3/library/datetime.html"
      ]
    },
    {
      "cell_type": "markdown",
      "id": "90518a67",
      "metadata": {
        "id": "90518a67"
      },
      "source": [
        "# 10.5 \"Özel\" Nitelikleri Taklit Etmek \n",
        "* Python programcıları genellikle, bir sınıfın iç işleyişinde önemli olan ancak sınıfın genel erişim arayüzünün bir parçası olmayan veri veya yardımcı yöntemler için \"özel\" nitelikler kullanır.\n",
        "* İki başlı çizgiyle başlayan (__hour gibi) bir niteliğin veya yöntemin \"özel\" olduğunu ve sınıfın istemcilerinin bunlara erişememesi gerektiğini belirtir.\n",
        "* Python, bu tür tanımlayıcıları, nitelik adını SınıfAdı_ şeklinde değiştirerek yeniden adlandırır.\n",
        "    * buna ad değiştirme (name mangling) denir."
      ]
    },
    {
      "cell_type": "markdown",
      "id": "551af733",
      "metadata": {
        "id": "551af733"
      },
      "source": [
        "### IPython Otomatik Tamamlama Yalnızca \"Genel\" Nitelikleri Gösterir\n",
        "* IPython, bir ifadeyi otomatik tamamlamak için Tab tuşuna bastığınızda, tek veya çift başlı çizgiyle başlayan nitelikleri göstermez."
      ]
    },
    {
      "cell_type": "markdown",
      "id": "13c8e29d",
      "metadata": {
        "id": "13c8e29d"
      },
      "source": [
        "### Demonstrating “Private” Attributes\n",
        "```python\n",
        "# private.py\n",
        "\"\"\"Class with public and private attributes.\"\"\"\n",
        "\n",
        "class PrivateClass:\n",
        "    \"\"\"Class with public and private attributes.\"\"\"\n",
        "\n",
        "    def __init__(self):\n",
        "        \"\"\"Initialize the public and private attributes.\"\"\"\n",
        "        self.public_data = \"public\"  # public attribute\n",
        "        self.__private_data = \"private\"  # private attribute\n",
        "\n",
        "```"
      ]
    },
    {
      "cell_type": "markdown",
      "id": "f6e3f412",
      "metadata": {
        "id": "f6e3f412"
      },
      "source": [
        "* \"PrivateData\" sınıfından bir nesne oluşturun"
      ]
    },
    {
      "cell_type": "code",
      "execution_count": null,
      "id": "07e31c21",
      "metadata": {
        "id": "07e31c21"
      },
      "outputs": [],
      "source": [
        "class PrivateClass:\n",
        "    \"\"\"Class with public and private attributes.\"\"\"\n",
        "\n",
        "    def __init__(self):\n",
        "        \"\"\"Initialize the public and private attributes.\"\"\"\n",
        "        self.public_data = \"public\"  # public attribute  public\n",
        "        self._semi_private_data = \"semi private\"  # semi private attribute  internal\n",
        "        self.__private_data = \"private\"  # private attribute"
      ]
    },
    {
      "cell_type": "code",
      "execution_count": null,
      "id": "f73cad42",
      "metadata": {
        "id": "f73cad42"
      },
      "outputs": [],
      "source": [
        "my_object = PrivateClass()"
      ]
    },
    {
      "cell_type": "markdown",
      "id": "81603fb0",
      "metadata": {
        "id": "81603fb0"
      },
      "source": [
        "* `public_data` özniteliğine doğrudan erişin "
      ]
    },
    {
      "cell_type": "code",
      "execution_count": null,
      "id": "c611d3d8",
      "metadata": {
        "id": "c611d3d8",
        "outputId": "9167c5ae-cf98-4b5b-b356-6fa73c9a879c"
      },
      "outputs": [
        {
          "data": {
            "text/plain": [
              "'public'"
            ]
          },
          "execution_count": 379,
          "metadata": {},
          "output_type": "execute_result"
        }
      ],
      "source": [
        "my_object.public_data"
      ]
    },
    {
      "cell_type": "code",
      "execution_count": null,
      "id": "c8c60f4c",
      "metadata": {
        "id": "c8c60f4c",
        "outputId": "8375ecc3-d602-47ee-ca23-1f75b6b5ae72"
      },
      "outputs": [
        {
          "data": {
            "text/plain": [
              "'semi private'"
            ]
          },
          "execution_count": 380,
          "metadata": {},
          "output_type": "execute_result"
        }
      ],
      "source": [
        "my_object._semi_private_data"
      ]
    },
    {
      "cell_type": "markdown",
      "id": "fa8e7238",
      "metadata": {
        "id": "fa8e7238"
      },
      "source": [
        "* `__private_data`doğrudan erişme girişimi "
      ]
    },
    {
      "cell_type": "code",
      "execution_count": null,
      "id": "ba767b84",
      "metadata": {
        "id": "ba767b84",
        "outputId": "a117ff7e-a805-40ef-f629-6860f3f2b1f9"
      },
      "outputs": [
        {
          "ename": "AttributeError",
          "evalue": "'PrivateClass' object has no attribute '__private_data'",
          "output_type": "error",
          "traceback": [
            "\u001b[1;31m---------------------------------------------------------------------------\u001b[0m",
            "\u001b[1;31mAttributeError\u001b[0m                            Traceback (most recent call last)",
            "\u001b[1;32m~\\AppData\\Local\\Temp\\ipykernel_9484\\3291977527.py\u001b[0m in \u001b[0;36m<module>\u001b[1;34m\u001b[0m\n\u001b[1;32m----> 1\u001b[1;33m \u001b[0mmy_object\u001b[0m\u001b[1;33m.\u001b[0m\u001b[0m__private_data\u001b[0m\u001b[1;33m\u001b[0m\u001b[1;33m\u001b[0m\u001b[0m\n\u001b[0m",
            "\u001b[1;31mAttributeError\u001b[0m: 'PrivateClass' object has no attribute '__private_data'"
          ]
        }
      ],
      "source": [
        "my_object.__private_data"
      ]
    },
    {
      "cell_type": "code",
      "execution_count": null,
      "id": "a026d0fa",
      "metadata": {
        "id": "a026d0fa",
        "outputId": "59144e17-5385-4523-9bf7-2e5718cfc9e8"
      },
      "outputs": [
        {
          "data": {
            "text/plain": [
              "'private'"
            ]
          },
          "execution_count": 382,
          "metadata": {},
          "output_type": "execute_result"
        }
      ],
      "source": [
        "my_object._PrivateClass__private_data"
      ]
    },
    {
      "cell_type": "code",
      "execution_count": null,
      "id": "de359d3b",
      "metadata": {
        "id": "de359d3b",
        "outputId": "d7f2bf79-89a6-4a87-b1ab-ebcaf1103a9d"
      },
      "outputs": [
        {
          "data": {
            "text/plain": [
              "'modified'"
            ]
          },
          "execution_count": 383,
          "metadata": {},
          "output_type": "execute_result"
        }
      ],
      "source": [
        "my_object._PrivateClass__private_data = 'modified'\n",
        "my_object._PrivateClass__private_data"
      ]
    },
    {
      "cell_type": "markdown",
      "id": "021bfaab",
      "metadata": {
        "id": "021bfaab"
      },
      "source": [
        "# 10.7 Kalıtım: Temel Sınıflar ve Alt Sınıflar\n",
        "* Sıklıkla, bir sınıfın nesnesi aynı zamanda başka bir sınıfın nesnesidir\n",
        "* CarLoan bir Loan'dır ve aynı şekilde HomeImprovementLoan'lar ve MortgageLoan'lar da birer Loan'dır\n",
        "* CarLoan sınıfı, Loan sınıfından kalıtım aldığı söylenebilir.\n",
        "* Bu bağlamda, Loan sınıfı bir temel sınıf olarak adlandırılırken, CarLoan sınıfı bir alt sınıftır.\n",
        "* CarLoan, Loan'ın belirli bir türüdür, ancak her Loan'ın bir CarLoan olduğunu iddia etmek yanlıştır."
      ]
    },
    {
      "cell_type": "markdown",
      "id": "5c10029a",
      "metadata": {
        "id": "5c10029a"
      },
      "source": [
        "# 10.7 Kalıtım: Temel Sınıflar ve Alt Sınıflar  (cont.)\n",
        "* Temel sınıfların ve alt sınıfların tablosu - temel sınıflar genellikle \"daha genel\" ve alt sınıflar \"daha spesifik\" olma eğilimindedir:\n",
        "\n",
        "| Base class\t| Subclasses\n",
        "| --------\t| --------\n",
        "| `Student`\t| `GraduateStudent`, `UndergraduateStuden`\n",
        "| `Shape`\t| `Circle`, `Triangle`, `Rectangle`, `Sphere`, `Cube`\n",
        "| `Loan`\t| `CarLoan`, `HomeImprovementLoan`, `MortgageLoan`\n",
        "| `Employee`\t| `Faculty`, `Staff`\n",
        "| `BankAccount`\t| `CheckingAccount`, `SavingsAccount`"
      ]
    },
    {
      "cell_type": "markdown",
      "id": "d15b44cd",
      "metadata": {
        "id": "d15b44cd"
      },
      "source": [
        "# 10.7 Kalıtım: Temel Sınıflar ve Alt Sınıflar (cont.)\n",
        "* Her alt sınıf nesnesi, temel sınıfın bir nesnesidir.\n",
        "* Bir temel sınıf tarafından temsil edilen nesneler kümesi, genellikle alt sınıflardan herhangi biri tarafından temsil edilen nesneler kümesinden daha büyüktür.\n"
      ]
    },
    {
      "cell_type": "markdown",
      "id": "a82c3a5f",
      "metadata": {
        "id": "a82c3a5f"
      },
      "source": [
        "### CommunityMember Kalıtım Hiyerarşisi\n",
        "* Kalıtım ilişkileri, ağaç benzeri hiyerarşik yapılar oluşturur.\n",
        "* Bir temel sınıf, alt sınıflarıyla hiyerarşik bir ilişkide bulunur.\n",
        "* Tek kalıtım ile bir sınıf, bir temel sınıftan türetilir.\n",
        "* Çoklu kalıtım ile bir alt sınıf, iki veya daha fazla temel sınıftan kalıtım alır.\n",
        "* Üniversite topluluğu için örnek sınıf hiyerarşisi, aynı zamanda bir kalıtım hiyerarşisi olarak adlandırılır."
      ]
    },
    {
      "cell_type": "markdown",
      "id": "ead16cc0",
      "metadata": {
        "id": "ead16cc0"
      },
      "source": [
        "![Sample class hierarchy for a university community](ch10images/AAEMYRT0.png \"Sample class hierarchy for a university community\")"
      ]
    },
    {
      "cell_type": "markdown",
      "id": "af98bc46",
      "metadata": {
        "id": "af98bc46"
      },
      "source": [
        "* Hiyerarşideki her ok, bir bir ilişkiyi temsil eder.\n",
        "    * “bir Employee, bir CommunityMember'dır”\n",
        "    * “bir Teacher, bir Faculty üyesidir”\n",
        "* CommunityMember, Employee, Student ve Alum'un doğrudan temel sınıfıdır ve diyagramdaki diğer sınıfların hepsinin dolaylı temel sınıfıdır.\n",
        "En alttan başlayarak okları takip ederek ve bir ilişkisini uygulayarak en üstteki en üst sınıfa kadar gidebilirsiniz."
      ]
    },
    {
      "cell_type": "markdown",
      "id": "7c8b02b2",
      "metadata": {
        "id": "7c8b02b2"
      },
      "source": [
        "### `Shape` Kalıtım Hiyerarşisi"
      ]
    },
    {
      "cell_type": "markdown",
      "id": "4df1a0f8",
      "metadata": {
        "id": "4df1a0f8"
      },
      "source": [
        "![Shape inheritance hierarchy](ch10images/AAEMYRU0.png \"Shape inheritance hierarchy\")"
      ]
    },
    {
      "cell_type": "markdown",
      "id": "64e24392",
      "metadata": {
        "id": "64e24392"
      },
      "source": [
        "### “is-a” ve “has-a” arasındaki fark şudur:\n",
        "* Miras alma (inheritance) ile \"is-a\" ilişkisi oluşturulur. Bu durumda, bir alt sınıfın bir nesnesi aynı zamanda bir üst sınıfın bir nesnesi gibi davranabilir.\n",
        "* \"Has-a\" ilişkisi (kompozisyon) ise bir sınıfın diğer sınıfların nesnelerine referanslar olarak sahip olduğu ilişkiyi ifade eder. Bu durumda, bir sınıf başka sınıfların nesnelerini üyeleri olarak içerir."
      ]
    },
    {
      "cell_type": "markdown",
      "id": "08d0c664",
      "metadata": {
        "id": "08d0c664"
      },
      "source": [
        "# 10.8 Bir Miras Hiyerarşisi Oluşturma; Polimorfizmi Tanıtma\n",
        "* Bir şirketin maaş uygulamasında çalışan tiplerini içeren bir hiyerarşi\n",
        "* Şirketin tüm çalışanları arasında birçok ortak nokta vardır\n",
        "    * komisyonlu çalışanlar (bir üst sınıfın nesneleri olarak temsil edilecekler) satışlarının bir yüzdesini alır\n",
        "    * sabit maaşlı komisyonlu çalışanlar (bir alt sınıfın nesneleri olarak temsil edilecekler) satışlarının bir yüzdesini artı bir sabit maaş alır"
      ]
    },
    {
      "cell_type": "markdown",
      "id": "c4cea76d",
      "metadata": {
        "id": "c4cea76d"
      },
      "source": [
        "## 10.8.1 Temel Sınıf CommissionEmployee\n",
        "Sınıf CommissionEmployee, aşağıdaki özellikleri sağlar:\n",
        "* __init__ metodu, _first_name, _last_name ve _ssn (Sosyal Güvenlik numarası) veri özelliklerini oluşturur ve gross_sales ve commission_rate özelliklerinin setter'larını kullanarak ilgili veri özelliklerini oluşturur.\n",
        "* Salt okunur olan first_name, last_name ve ssn özellikleri, ilgili veri özelliklerini döndürür.\n",
        "* Okuma ve yazma yetkisine sahip olan gross_sales ve commission_rate özellikleri, setter'larında veri doğrulaması yapar.\n",
        "* earnings metodu, bir CommissionEmployee'nin kazançlarını hesaplar ve döndürür.\n",
        "* __repr__ metodu, bir CommissionEmployee'nin bir dize temsilini döndürür."
      ]
    },
    {
      "cell_type": "code",
      "execution_count": null,
      "id": "fed0147b",
      "metadata": {
        "id": "fed0147b"
      },
      "outputs": [],
      "source": [
        "\n",
        "# commmissionemployee.py\n",
        "\"\"\"CommissionEmployee base class.\"\"\"\n",
        "from decimal import Decimal\n",
        "\n",
        "class CommissionEmployee:\n",
        "    \"\"\"An employee who gets paid commission based on gross sales.\"\"\"\n",
        "\n",
        "    def __init__(self, first_name, last_name, ssn, \n",
        "                 gross_sales, commission_rate):\n",
        "        \"\"\"Initialize CommissionEmployee's attributes.\"\"\"\n",
        "        self._first_name = first_name\n",
        "        self._last_name = last_name\n",
        "        self._ssn = ssn\n",
        "        self.gross_sales = gross_sales  # validate via property\n",
        "        self.commission_rate = commission_rate  # validate via property\n",
        "\n",
        "    @property\n",
        "    def first_name(self):\n",
        "        return self._first_name\n",
        "\n",
        "    @property\n",
        "    def last_name(self):\n",
        "        return self._last_name\n",
        "\n",
        "    @property\n",
        "    def ssn(self):\n",
        "        return self._ssn\n",
        "\n",
        "    @property\n",
        "    def gross_sales(self):\n",
        "        return self._gross_sales\n",
        "\n",
        "    @gross_sales.setter\n",
        "    def gross_sales(self, sales):\n",
        "        \"\"\"Set gross sales or raise ValueError if invalid.\"\"\"\n",
        "        if sales < Decimal('0.00'):\n",
        "            raise ValueError('Gross sales must be >= to 0')\n",
        "        \n",
        "        self._gross_sales = sales\n",
        "        \n",
        "    @property\n",
        "    def commission_rate(self):\n",
        "        return self._commission_rate\n",
        "\n",
        "    @commission_rate.setter\n",
        "    def commission_rate(self, rate):\n",
        "        \"\"\"Set commission rate or raise ValueError if invalid.\"\"\"\n",
        "        if not (Decimal('0.0') < rate < Decimal('1.0')):\n",
        "            raise ValueError(\n",
        "               'Interest rate must be greater than 0 and less than 1')\n",
        "        \n",
        "        self._commission_rate = rate\n",
        "\n",
        "    def earnings(self):\n",
        "        \"\"\"Calculate earnings.\"\"\"   \n",
        "        return self.gross_sales * self.commission_rate\n",
        "\n",
        "    def __repr__(self):\n",
        "        \"\"\"Return string representation for repr().\"\"\"\n",
        "        return ('CommissionEmployee: ' + \n",
        "            f'{self.first_name} {self.last_name}\\n' +\n",
        "            f'social security number: {self.ssn}\\n' +\n",
        "            f'gross sales: {self.gross_sales:.2f}\\n' +\n",
        "            f'commission rate: {self.commission_rate:.2f}')\n",
        "\n"
      ]
    },
    {
      "cell_type": "markdown",
      "id": "6d7d5c6d",
      "metadata": {
        "id": "6d7d5c6d"
      },
      "source": [
        "### Tüm Sınıflar Dolaylı veya Dolaysız Olarak object Sınıfından Miras Alır\n",
        "* Her Python sınıfı mevcut bir sınıftan miras alır.\n",
        "* Yeni bir sınıf için açıkça temel sınıf belirtmediğinizde, Python sınıfın doğrudan object sınıfından miras aldığını varsayar.\n",
        "* CommissionEmployee sınıfının başlığı şu şekilde yazılabilirdi:\n",
        ">```python\n",
        "class CommissionEmployee(object):\n",
        "```\n",
        "* CommissionEmployee sınıfının ardından gelen parantezler, mirası gösterir ve\n",
        "    * tek miras için tek bir sınıfı veya\n",
        "    * çoklu miras için virgülle ayrılmış bir temel sınıf listesini içerebilir."
      ]
    },
    {
      "cell_type": "markdown",
      "id": "6503d07f",
      "metadata": {
        "id": "6503d07f"
      },
      "source": [
        "### Tüm Sınıflar Doğrudan veya Dolaylı Olarak \"nesne\" Sınıfından Miras Alır (cont.)\n",
        "* CommissionEmployee, object sınıfının tüm yöntemlerini miras alır.\n",
        "* object sınıfından miras alınan birçok yöntemden ikisi __repr__ ve __str__ yöntemleridir.\n",
        "    * Bu nedenle, her sınıfın, üzerlerinde çağrıldıklarında nesnelerin dize temsillerini döndüren bu yöntemlere sahip olduğu söylenebilir.\n",
        "* Türetilmiş bir sınıfta temel sınıfın yöntem uygulaması uygun değilse, bu yöntem uygun bir uygulama ile türetilmiş sınıfta geçersiz kılınabilir (yani yeniden tanımlanabilir).\n",
        "    * __repr__ yöntemi, object sınıfındaki varsayılan uygulamayı geçersiz kılar."
      ]
    },
    {
      "cell_type": "markdown",
      "id": "60cceb05",
      "metadata": {
        "id": "60cceb05"
      },
      "source": [
        "### Test Sınıfı `CommissionEmployee`  \n",
        "* `CommissionEmployee`özelliklerinden bazılarını test edin"
      ]
    },
    {
      "cell_type": "code",
      "execution_count": null,
      "id": "b5ce2d4a",
      "metadata": {
        "id": "b5ce2d4a"
      },
      "outputs": [],
      "source": [
        "c = CommissionEmployee('Sue', 'Jones', '333-33-3333', \n",
        "    Decimal('10000.00'), Decimal('0.06'))"
      ]
    },
    {
      "cell_type": "code",
      "execution_count": null,
      "id": "b739c5f2",
      "metadata": {
        "id": "b739c5f2",
        "outputId": "d845f4dd-6100-485b-8f61-42adc9a216e3"
      },
      "outputs": [
        {
          "data": {
            "text/plain": [
              "CommissionEmployee: Sue Jones\n",
              "social security number: 333-33-3333\n",
              "gross sales: 10000.00\n",
              "commission rate: 0.06"
            ]
          },
          "execution_count": 386,
          "metadata": {},
          "output_type": "execute_result"
        }
      ],
      "source": [
        "c"
      ]
    },
    {
      "cell_type": "markdown",
      "id": "1f4c5283",
      "metadata": {
        "id": "1f4c5283"
      },
      "source": [
        "* calculate and display the `CommissionEmployee`’s earnings"
      ]
    },
    {
      "cell_type": "code",
      "execution_count": null,
      "id": "5eaf3e84",
      "metadata": {
        "id": "5eaf3e84",
        "outputId": "db1c43bc-59b6-4d82-d39b-a44e210316d0"
      },
      "outputs": [
        {
          "name": "stdout",
          "output_type": "stream",
          "text": [
            "600.00\n"
          ]
        }
      ],
      "source": [
        "print(f'{c.earnings():,.2f}')"
      ]
    },
    {
      "cell_type": "code",
      "execution_count": null,
      "id": "09750694",
      "metadata": {
        "id": "09750694",
        "outputId": "d131d636-6779-447f-dbeb-fe4aba6b79f4"
      },
      "outputs": [
        {
          "ename": "AttributeError",
          "evalue": "can't set attribute",
          "output_type": "error",
          "traceback": [
            "\u001b[1;31m---------------------------------------------------------------------------\u001b[0m",
            "\u001b[1;31mAttributeError\u001b[0m                            Traceback (most recent call last)",
            "\u001b[1;32m~\\AppData\\Local\\Temp\\ipykernel_9484\\2448427201.py\u001b[0m in \u001b[0;36m<module>\u001b[1;34m\u001b[0m\n\u001b[1;32m----> 1\u001b[1;33m \u001b[0mc\u001b[0m\u001b[1;33m.\u001b[0m\u001b[0mlast_name\u001b[0m\u001b[1;33m=\u001b[0m\u001b[1;34m\"deneme\"\u001b[0m\u001b[1;33m\u001b[0m\u001b[1;33m\u001b[0m\u001b[0m\n\u001b[0m",
            "\u001b[1;31mAttributeError\u001b[0m: can't set attribute"
          ]
        }
      ],
      "source": [
        "c.last_name=\"deneme\""
      ]
    },
    {
      "cell_type": "markdown",
      "id": "fea4430d",
      "metadata": {
        "id": "fea4430d"
      },
      "source": [
        "* change the `CommissionEmployee`’s gross sales and commission rate, then recalculate the earnings"
      ]
    },
    {
      "cell_type": "code",
      "execution_count": null,
      "id": "dc74c81c",
      "metadata": {
        "id": "dc74c81c"
      },
      "outputs": [],
      "source": [
        "c.gross_sales = Decimal('20000.00')"
      ]
    },
    {
      "cell_type": "code",
      "execution_count": null,
      "id": "aee5e2bb",
      "metadata": {
        "id": "aee5e2bb"
      },
      "outputs": [],
      "source": [
        "c.commission_rate = Decimal('0.1')"
      ]
    },
    {
      "cell_type": "code",
      "execution_count": null,
      "id": "61d9d48b",
      "metadata": {
        "id": "61d9d48b",
        "outputId": "cb32c3af-8d6a-4bf8-fcdc-520156a44163"
      },
      "outputs": [
        {
          "name": "stdout",
          "output_type": "stream",
          "text": [
            "2,000.00\n"
          ]
        }
      ],
      "source": [
        "print(f'{c.earnings():,.2f}')"
      ]
    },
    {
      "cell_type": "markdown",
      "id": "3ac3c6c9",
      "metadata": {
        "id": "3ac3c6c9"
      },
      "source": [
        "## 10.8.2 Alt Sınıf SalariedCommissionEmployee\n",
        "* Tek miras ile, alt sınıf temel sınıf ile aynı şekilde başlar\n",
        "* Mirasın gerçek gücü, alt sınıfta temel sınıftan miras alınan özellikler için eklemeler, değişiklikler veya iyileştirmeler yapabilme yeteneğinden gelir.\n",
        "* SalariedCommissionEmployee'nin birçok yeteneği, CommissionEmployee sınıfınınkilere benzer veya aynıdır\n",
        "    * Her iki tür çalışanın da ad, soyad, T.C. kimlik numarası, brüt satış ve komisyon oranı veri öznitelikleri ve bu verileri manipüle etmek için özellikleri ve yöntemleri vardır\n",
        "* Miras, kodu tekrarlamadan bir sınıfın özelliklerini \"emsal\" edebilmemizi sağlar"
      ]
    },
    {
      "cell_type": "markdown",
      "id": "60ffe4b1",
      "metadata": {
        "id": "60ffe4b1"
      },
      "source": [
        "### SalariedCommissionEmployee Sınıfının Tanımlanması\n",
        "* Alt sınıf SalariedCommissionEmployee, çoğu yeteneğini CommissionEmployee sınıfından miras alır\n",
        "* SalariedCommissionEmployee, bir CommissionEmployee'dir (çünkü miras, CommissionEmployee sınıfının yeteneklerini aktarır)\n",
        "* SalariedCommissionEmployee sınıfı ayrıca aşağıdaki özelliklere sahiptir:\n",
        "    * __init__ yöntemi, CommissionEmployee sınıfından miras alınan tüm verileri başlatır, ardından base_salary özelliğinin setter'ını kullanarak _base_salary veri özniteliğini oluşturur\n",
        "    * Okunabilir-yazılabilir base_salary özelliği, setter'ın veri doğrulaması yapmasını sağlar.\n",
        "    * Özelleştirilmiş bir earnings yöntemi\n",
        "    * Özelleştirilmiş bir __repr__ yöntemi"
      ]
    },
    {
      "cell_type": "code",
      "execution_count": null,
      "id": "321ec51a",
      "metadata": {
        "id": "321ec51a"
      },
      "outputs": [],
      "source": []
    },
    {
      "cell_type": "code",
      "execution_count": null,
      "id": "4684bfa5",
      "metadata": {
        "id": "4684bfa5"
      },
      "outputs": [],
      "source": [
        "\n",
        "# salariedcommissionemployee.py\n",
        "\"\"\"SalariedCommissionEmployee derived from CommissionEmployee.\"\"\"\n",
        "\n",
        "class SalariedCommissionEmployee(CommissionEmployee):\n",
        "    \"\"\"An employee who gets paid a salary plus \n",
        "    commission based on gross sales.\"\"\"\n",
        "\n",
        "    def __init__(self, first_name, last_name, ssn, \n",
        "                 gross_sales, commission_rate, base_salary):\n",
        "        \"\"\"Initialize SalariedCommissionEmployee's attributes.\"\"\"\n",
        "        super().__init__(first_name, last_name, ssn, \n",
        "                         gross_sales, commission_rate)\n",
        "        self.base_salary = base_salary  # validate via property\n",
        "\n",
        "    @property\n",
        "    def base_salary(self):\n",
        "        return self._base_salary\n",
        "\n",
        "    @base_salary.setter\n",
        "    def base_salary(self, salary):\n",
        "        \"\"\"Set base salary or raise ValueError if invalid.\"\"\"\n",
        "        if salary < Decimal('0.00'):\n",
        "            raise ValueError('Base salary must be >= to 0')\n",
        "        \n",
        "        self._base_salary = salary\n",
        "\n",
        "    def earnings(self):\n",
        "        \"\"\"Calculate earnings.\"\"\"   \n",
        "        return super().earnings() + self.base_salary\n",
        "\n",
        "    def __repr__(self):\n",
        "        \"\"\"Return string representation for repr().\"\"\"\n",
        "        return ('Salaried' + super().__repr__() +      \n",
        "            f'\\nbase salary: {self.base_salary:.2f}')\n",
        "\n"
      ]
    },
    {
      "cell_type": "markdown",
      "id": "6f2d0c42",
      "metadata": {
        "id": "6f2d0c42"
      },
      "source": [
        "### CommissionEmployee Sınıfından Miras Almak\n",
        "\n",
        "```python\n",
        "class SalariedCommissionEmployee(CommissionEmployee):\n",
        "```\n",
        "* SalariedCommissionEmployee sınıfının CommissionEmployee sınıfından miras aldığını belirtir\n",
        "* SalariedCommissionEmployee sınıfında CommissionEmployee sınıfının veri özniteliklerini, özelliklerini ve yöntemlerini görmüyorsunuz, ancak onlar mevcuttur"
      ]
    },
    {
      "cell_type": "markdown",
      "id": "c022651f",
      "metadata": {
        "id": "c022651f"
      },
      "source": [
        "### Method __init__ ve Yerleşik Fonksiyon super\n",
        "* _Her alt sınıfın __init__ yöntemi, miras alınan veri özniteliklerini başlatmak için açıkça üst sınıfın __init__ yöntemini çağırmalıdır\n",
        "    * Bu çağrı, alt sınıfın __init__ yöntemindeki ilk ifade olmalıdır\n",
        "* super().__init__ gösterimi, yerleşik super fonksiyonunu kullanarak üst sınıfın __init__ yöntemini bulup çağırmak için kullanılır"
      ]
    },
    {
      "cell_type": "markdown",
      "id": "c8cad2eb",
      "metadata": {
        "id": "c8cad2eb"
      },
      "source": [
        "### Method earnings'i Geçersiz Kılma\n",
        "* Sınıf SalariedCommissionEmployee'nin earnings yöntemi, bir SalariedCommissionEmployee'nin kazancını hesaplamak için sınıf CommissionEmployee'nin earnings yöntemini geçersiz kılar\n",
        "    * Kazancın sadece komisyon kısmını elde etmek için super().earnings() ifadesi ile CommissionEmployee'nin earnings yöntemini çağırır"
      ]
    },
    {
      "cell_type": "markdown",
      "id": "c0067fdf",
      "metadata": {
        "id": "c0067fdf"
      },
      "source": [
        "### Method __repr__'i Geçersiz Kılma\n",
        "* SalariedCommissionEmployee'nin __repr__ yöntemi, bir SalariedCommissionEmployee için uygun olan bir String temsilini döndürmek için sınıf CommissionEmployee'nin __repr__ yöntemini geçersiz kılar\n",
        "* super().__repr__() ifadesi, CommissionEmployee'nin __repr__ yöntemini çağırır"
      ]
    },
    {
      "cell_type": "markdown",
      "id": "1f840187",
      "metadata": {
        "id": "1f840187"
      },
      "source": [
        "### Test Sınıfı `SalariedCommissionEmployee` "
      ]
    },
    {
      "cell_type": "code",
      "execution_count": null,
      "id": "ab6a78cd",
      "metadata": {
        "id": "ab6a78cd"
      },
      "outputs": [],
      "source": [
        "s = SalariedCommissionEmployee('Bob', 'Lewis', '444-44-4444',\n",
        "        Decimal('5000.00'), Decimal('0.04'), Decimal('300.00'))"
      ]
    },
    {
      "cell_type": "code",
      "execution_count": null,
      "id": "e0e501a4",
      "metadata": {
        "id": "e0e501a4",
        "outputId": "7c2f63bb-385d-4b1a-d28b-3126d47dc3fd"
      },
      "outputs": [
        {
          "name": "stdout",
          "output_type": "stream",
          "text": [
            "Bob Lewis 444-44-4444 5000.00 0.04 300.00\n"
          ]
        }
      ],
      "source": [
        "print(s.first_name, s.last_name, s.ssn, s.gross_sales, \n",
        "      s.commission_rate, s.base_salary)"
      ]
    },
    {
      "cell_type": "markdown",
      "id": "2c26ba21",
      "metadata": {
        "id": "2c26ba21"
      },
      "source": [
        "* SalariedCommissionEmployee nesnesi, CommissionEmployee ve SalariedCommissionEmployee sınıflarının tüm özelliklerine sahiptir.\n",
        "* SalariedCommissionEmployee'nin kazançlarını hesaplayıp görüntüleyebilirsiniz."
      ]
    },
    {
      "cell_type": "code",
      "execution_count": null,
      "id": "02fae118",
      "metadata": {
        "id": "02fae118",
        "outputId": "d180e9b9-3d67-4396-d0af-85693f1c9a5b"
      },
      "outputs": [
        {
          "name": "stdout",
          "output_type": "stream",
          "text": [
            "500.00\n"
          ]
        }
      ],
      "source": [
        "print(f'{s.earnings():,.2f}')"
      ]
    },
    {
      "cell_type": "markdown",
      "id": "b70a24df",
      "metadata": {
        "id": "b70a24df"
      },
      "source": [
        "* Modify the `gross_sales`, `commission_rate` and `base_salary` properties, then display the updated data via the `SalariedCommissionEmployee`’s `__repr__` method"
      ]
    },
    {
      "cell_type": "code",
      "execution_count": null,
      "id": "a81d47ee",
      "metadata": {
        "id": "a81d47ee"
      },
      "outputs": [],
      "source": [
        "s.gross_sales = Decimal('10000.00')"
      ]
    },
    {
      "cell_type": "code",
      "execution_count": null,
      "id": "4e002847",
      "metadata": {
        "id": "4e002847"
      },
      "outputs": [],
      "source": [
        "s.commission_rate = Decimal('0.05')"
      ]
    },
    {
      "cell_type": "code",
      "execution_count": null,
      "id": "b1a3d44c",
      "metadata": {
        "id": "b1a3d44c"
      },
      "outputs": [],
      "source": [
        "s.base_salary = Decimal('1000.00')"
      ]
    },
    {
      "cell_type": "code",
      "execution_count": null,
      "id": "1d173537",
      "metadata": {
        "id": "1d173537",
        "outputId": "0a65e9f9-1de1-49a8-cee1-ba798c0dafa8"
      },
      "outputs": [
        {
          "name": "stdout",
          "output_type": "stream",
          "text": [
            "SalariedCommissionEmployee: Bob Lewis\n",
            "social security number: 444-44-4444\n",
            "gross sales: 10000.00\n",
            "commission rate: 0.05\n",
            "base salary: 1000.00\n"
          ]
        }
      ],
      "source": [
        "print(s)"
      ]
    },
    {
      "cell_type": "markdown",
      "id": "2fcbbcd2",
      "metadata": {
        "id": "2fcbbcd2"
      },
      "source": [
        "* `SalariedCommissionEmployee`nin güncellenmiş kazançlarını hesaplayın ve görüntüleyin"
      ]
    },
    {
      "cell_type": "code",
      "execution_count": null,
      "id": "91e13300",
      "metadata": {
        "id": "91e13300",
        "outputId": "2fa6f9fc-0e86-4aa6-de07-3d639c25ed12"
      },
      "outputs": [
        {
          "name": "stdout",
          "output_type": "stream",
          "text": [
            "1,500.00\n"
          ]
        }
      ],
      "source": [
        "print(f'{s.earnings():,.2f}')"
      ]
    },
    {
      "cell_type": "markdown",
      "id": "c49678c2",
      "metadata": {
        "id": "c49678c2"
      },
      "source": [
        "### “is a” İlişkisini Test Etme\n",
        "**`issubclass`** ve **`isinstance`** işlevleri, \"is a\" ilişkilerini test etmek için kullanılır\n",
        "* \"issubclass\", bir sınıfın diğerinden türetilip türetilmediğini belirler"
      ]
    },
    {
      "cell_type": "code",
      "execution_count": null,
      "id": "fbbb1a4f",
      "metadata": {
        "id": "fbbb1a4f",
        "outputId": "ee8cd5b7-0b06-43b4-b455-00d068a2ecd3"
      },
      "outputs": [
        {
          "data": {
            "text/plain": [
              "True"
            ]
          },
          "execution_count": 401,
          "metadata": {},
          "output_type": "execute_result"
        }
      ],
      "source": [
        "issubclass(SalariedCommissionEmployee, CommissionEmployee)"
      ]
    },
    {
      "cell_type": "markdown",
      "id": "5bbf7514",
      "metadata": {
        "id": "5bbf7514"
      },
      "source": [
        "* 'isinstance' fonksiyonu, bir nesnenin belirli bir türle \"is a\" ilişkisi olup olmadığını kontrol etmek için kullanılır."
      ]
    },
    {
      "cell_type": "code",
      "execution_count": null,
      "id": "c4555c39",
      "metadata": {
        "id": "c4555c39",
        "outputId": "4ef00ce5-90a2-4078-9189-bc2abb00ad8e"
      },
      "outputs": [
        {
          "data": {
            "text/plain": [
              "True"
            ]
          },
          "execution_count": 402,
          "metadata": {},
          "output_type": "execute_result"
        }
      ],
      "source": [
        "isinstance(s, CommissionEmployee)"
      ]
    },
    {
      "cell_type": "code",
      "execution_count": null,
      "id": "9b601f22",
      "metadata": {
        "id": "9b601f22",
        "outputId": "ca36d386-cf1d-4a28-8713-2cc86a0b728b"
      },
      "outputs": [
        {
          "data": {
            "text/plain": [
              "False"
            ]
          },
          "execution_count": 403,
          "metadata": {},
          "output_type": "execute_result"
        }
      ],
      "source": [
        "isinstance(c, SalariedCommissionEmployee) "
      ]
    },
    {
      "cell_type": "code",
      "execution_count": null,
      "id": "26a1db14",
      "metadata": {
        "id": "26a1db14",
        "outputId": "aa007bf7-83f9-44cc-a97c-3f9d26107a43"
      },
      "outputs": [
        {
          "data": {
            "text/plain": [
              "True"
            ]
          },
          "execution_count": 404,
          "metadata": {},
          "output_type": "execute_result"
        }
      ],
      "source": [
        "isinstance(s, SalariedCommissionEmployee)"
      ]
    },
    {
      "cell_type": "markdown",
      "id": "46d7e787",
      "metadata": {
        "id": "46d7e787"
      },
      "source": [
        "## 10.8.3 Polimorfik Olarak CommissionEmployee ve SalariedCommissionEmployee İşleme\n",
        "* Miras ile, bir alt sınıfın her nesnesi aynı zamanda o alt sınıfın üst sınıfının bir nesnesi olarak da işlenebilir.\n",
        "* Bu ilişkiden yararlanarak, miras yoluyla ilişkili nesneleri bir liste içine yerleştirebilir ve ardından listenin üzerinde döngü oluşturabilir ve her öğeyi bir üst sınıf nesnesi olarak işleyebilirsiniz.\n",
        "    * Bu, çeşitli nesnelerin genel bir şekilde işlenmesine olanak sağlar."
      ]
    },
    {
      "cell_type": "code",
      "execution_count": null,
      "id": "44b27695",
      "metadata": {
        "id": "44b27695"
      },
      "outputs": [],
      "source": [
        "employees = [c, s]"
      ]
    },
    {
      "cell_type": "code",
      "execution_count": null,
      "id": "090d6c96",
      "metadata": {
        "id": "090d6c96",
        "outputId": "5e7a1ac0-c769-473f-fa44-dbbdf01f9989"
      },
      "outputs": [
        {
          "name": "stdout",
          "output_type": "stream",
          "text": [
            "CommissionEmployee: Sue Jones\n",
            "social security number: 333-33-3333\n",
            "gross sales: 20000.00\n",
            "commission rate: 0.10\n",
            "2,000.00\n",
            "\n",
            "SalariedCommissionEmployee: Bob Lewis\n",
            "social security number: 444-44-4444\n",
            "gross sales: 10000.00\n",
            "commission rate: 0.05\n",
            "base salary: 1000.00\n",
            "1,500.00\n",
            "\n"
          ]
        }
      ],
      "source": [
        "for employee in employees:\n",
        "    print(employee)\n",
        "    print(f'{employee.earnings():,.2f}\\n')"
      ]
    },
    {
      "cell_type": "markdown",
      "id": "97f56855",
      "metadata": {
        "id": "97f56855"
      },
      "source": [
        "* Her çalışan için doğru string temsili ve kazançlar gösterilir.\n",
        "* Bu, nesne tabanlı programlamanın (OOP) temel bir yeteneği olan polimorfizm olarak adlandırılır."
      ]
    },
    {
      "cell_type": "markdown",
      "id": "bf50bc24",
      "metadata": {
        "id": "bf50bc24"
      },
      "source": [
        "# 10.9 Duck Typing and Polymorphism\n",
        "* Çoğu nesne tabanlı programlama dili, polimorfik davranışı elde etmek için miras tabanlı \"is a\" ilişkilerini gerektirir.\n",
        "* Python, aynı zamanda Python belgelerinde tanımlanan ördek yazmayı da destekler:\n",
        "> Bir nesnenin doğru arayüze sahip olup olmadığını belirlemek için nesnenin türüne bakmayan bir programlama stili; bunun yerine, yöntem veya özelliği sadece çağrılır veya kullanılır (\"Eğer bir ördek gibi görünüyorsa ve ördek gibi ötüyorsa, o zaman bir ördek olmalıdır.\").\n",
        "* Bir nesneyi çalışma zamanında işlerken, nesnenin türü önemli değildir.\n",
        "* Nesne, erişmek istediğiniz veri özelliği, özellik veya yöntemi (uygun parametrelerle) içeriyorsa, kod çalışacaktır."
      ]
    },
    {
      "cell_type": "markdown",
      "id": "22007fac",
      "metadata": {
        "id": "22007fac"
      },
      "source": [
        "# 10.9 Duck Typing and Polymorphism (cont.)\n",
        "* Reconsider the loop at the end of Section 10.8.3\n",
        "``` python\n",
        "for employee in employees:\n",
        "    print(employee)\n",
        "    print(f'{employee.earnings():,.2f}\\n')\n",
        "```\n",
        "* Çalışma doğru şekilde gerçekleşir, yeter ki employees sadece aşağıdaki özelliklere sahip nesneler içersin:\n",
        "    * print ile görüntülenebilir (yani bir dize temsiliyeti vardır)\n",
        "    * argumentsız çağrılabilen bir earnings yöntemine sahiptir"
      ]
    },
    {
      "cell_type": "markdown",
      "id": "a69bc4c2",
      "metadata": {
        "id": "a69bc4c2"
      },
      "source": [
        "# 10.9 Duck Typing and Polymorphism (cont.)\n",
        "* Tüm sınıflar doğrudan veya dolaylı olarak object'den miras alır, bu yüzden hepsi print'in görüntüleyebileceği dize temsilleri için varsayılan yöntemleri miras alır\n",
        "* Bir sınıfın, argümansız çağrılabilen bir earnings yöntemi varsa, nesnenin sınıfı CommissionEmployee ile \"is a\" ilişkisi olsa da olmasa da, o sınıfın nesnelerini employees listesine dahil edebiliriz\n",
        "* WellPaidDuck sınıfını düşünelim:"
      ]
    },
    {
      "cell_type": "code",
      "execution_count": null,
      "id": "ba40e646",
      "metadata": {
        "id": "ba40e646"
      },
      "outputs": [],
      "source": [
        "class WellPaidDuck:\n",
        "    def __repr__(self):\n",
        "        return 'I am a well-paid duck'\n",
        "    def earnings(self):\n",
        "        return Decimal('1_000_000.00')"
      ]
    },
    {
      "cell_type": "markdown",
      "id": "82d4d84b",
      "metadata": {
        "id": "82d4d84b"
      },
      "source": [
        "* Açıkça çalışanlar olmadığı belli\n",
        "* Ancak, önceki döngü ile çalışacaktır"
      ]
    },
    {
      "cell_type": "code",
      "execution_count": null,
      "id": "e0a6fd79",
      "metadata": {
        "id": "e0a6fd79"
      },
      "outputs": [],
      "source": [
        "c = CommissionEmployee('Sue', 'Jones', '333-33-3333',\n",
        "                       Decimal('10000.00'), Decimal('0.06'))"
      ]
    },
    {
      "cell_type": "code",
      "execution_count": null,
      "id": "8acdb399",
      "metadata": {
        "id": "8acdb399"
      },
      "outputs": [],
      "source": [
        "s = SalariedCommissionEmployee('Bob', 'Lewis', '444-44-4444',\n",
        "    Decimal('5000.00'), Decimal('0.04'), Decimal('300.00'))"
      ]
    },
    {
      "cell_type": "code",
      "execution_count": null,
      "id": "5f415c2f",
      "metadata": {
        "id": "5f415c2f"
      },
      "outputs": [],
      "source": [
        "d = WellPaidDuck()"
      ]
    },
    {
      "cell_type": "code",
      "execution_count": null,
      "id": "2f548176",
      "metadata": {
        "id": "2f548176"
      },
      "outputs": [],
      "source": [
        "employees = [c, s, d]"
      ]
    },
    {
      "cell_type": "markdown",
      "id": "311e3eef",
      "metadata": {
        "id": "311e3eef"
      },
      "source": [
        "*Listedeki üç nesneyi de _polymorphically_ işlemek için Duck typing kullanın"
      ]
    },
    {
      "cell_type": "code",
      "execution_count": null,
      "id": "6789a903",
      "metadata": {
        "id": "6789a903",
        "outputId": "6e908a8c-b2c0-4514-80cd-f23299929d40"
      },
      "outputs": [
        {
          "name": "stdout",
          "output_type": "stream",
          "text": [
            "CommissionEmployee: Sue Jones\n",
            "social security number: 333-33-3333\n",
            "gross sales: 10000.00\n",
            "commission rate: 0.06\n",
            "600.00\n",
            "\n",
            "SalariedCommissionEmployee: Bob Lewis\n",
            "social security number: 444-44-4444\n",
            "gross sales: 5000.00\n",
            "commission rate: 0.04\n",
            "base salary: 300.00\n",
            "500.00\n",
            "\n",
            "I am a well-paid duck\n",
            "1,000,000.00\n",
            "\n"
          ]
        }
      ],
      "source": [
        "for employee in employees:\n",
        "    print(employee)\n",
        "    print(f'{employee.earnings():,.2f}\\n')"
      ]
    },
    {
      "cell_type": "markdown",
      "id": "2403b882",
      "metadata": {
        "id": "2403b882"
      },
      "source": [
        "# 10.10 Operator Overloading \n",
        "* Python operatörlerinin kendi türünüzdeki nesneleri nasıl işlemesi gerektiğini tanımlamak için **operator overloading** kullanabilir\n",
        "* çoğu operator overload edilebilir\n",
        "* For every overloadable operator, class `object` defines a special method\n",
        "    * e.g., `__add__` for addition (`+`) or `__mul__` for multiplication (`*`)\n",
        "*  Bu yöntemlerin Override edilmesi, belirli bir işlecin özel sınıfınızın nesneleri için nasıl çalıştığını tanımlamanıza olanak tanır\n",
        "* Özel yöntemlerin tam listesi\n",
        ">https://docs.python.org/3/reference/datamodel.html#special-method-names"
      ]
    },
    {
      "cell_type": "code",
      "execution_count": null,
      "id": "8ecc34da",
      "metadata": {
        "scrolled": true,
        "id": "8ecc34da",
        "outputId": "f1f990fb-d87e-48df-de30-c9d1f0dde99b"
      },
      "outputs": [
        {
          "data": {
            "text/plain": [
              "['__add__',\n",
              " '__class__',\n",
              " '__class_getitem__',\n",
              " '__contains__',\n",
              " '__delattr__',\n",
              " '__delitem__',\n",
              " '__dir__',\n",
              " '__doc__',\n",
              " '__eq__',\n",
              " '__format__',\n",
              " '__ge__',\n",
              " '__getattribute__',\n",
              " '__getitem__',\n",
              " '__gt__',\n",
              " '__hash__',\n",
              " '__iadd__',\n",
              " '__imul__',\n",
              " '__init__',\n",
              " '__init_subclass__',\n",
              " '__iter__',\n",
              " '__le__',\n",
              " '__len__',\n",
              " '__lt__',\n",
              " '__mul__',\n",
              " '__ne__',\n",
              " '__new__',\n",
              " '__reduce__',\n",
              " '__reduce_ex__',\n",
              " '__repr__',\n",
              " '__reversed__',\n",
              " '__rmul__',\n",
              " '__setattr__',\n",
              " '__setitem__',\n",
              " '__sizeof__',\n",
              " '__str__',\n",
              " '__subclasshook__',\n",
              " 'append',\n",
              " 'clear',\n",
              " 'copy',\n",
              " 'count',\n",
              " 'extend',\n",
              " 'index',\n",
              " 'insert',\n",
              " 'pop',\n",
              " 'remove',\n",
              " 'reverse',\n",
              " 'sort']"
            ]
          },
          "execution_count": 413,
          "metadata": {},
          "output_type": "execute_result"
        }
      ],
      "source": [
        "l=[]\n",
        "dir(l)"
      ]
    },
    {
      "cell_type": "code",
      "execution_count": null,
      "id": "dedd722c",
      "metadata": {
        "id": "dedd722c",
        "outputId": "1b4c126c-0732-4e45-a3f9-9265e024fd4b"
      },
      "outputs": [
        {
          "data": {
            "text/plain": [
              "'murtaza hocamm'"
            ]
          },
          "execution_count": 414,
          "metadata": {},
          "output_type": "execute_result"
        }
      ],
      "source": [
        "4+5 # toplama işlemi yapar\n",
        "l1=[1,2]\n",
        "l2=[3,1]\n",
        "l1 + l2 # 2 listeyi concate yapacak şekilde overload yapılmıştır\n",
        "\"murtaza\"+\" hocamm\""
      ]
    },
    {
      "cell_type": "markdown",
      "id": "aad95822",
      "metadata": {
        "id": "aad95822"
      },
      "source": [
        "* object.__ lt__(self, other)\n",
        "* object.__ le__(self, other)\n",
        "* object.__ eq__(self, other)\n",
        "* object.__ ne__(self, other)\n",
        "* object.__ gt__(self, other)\n",
        "* object.__ ge__(self, other)\n",
        "* These are the so-called “rich comparison” methods. \n",
        "* The correspondence between operator symbols and method names is as follows: \n",
        "* x<y calls x.__ lt__(y), x<=y calls x.__ le__(y), x==y calls x.__ eq__(y), \n",
        "* x!=y calls x.__ ne__(y), x>y calls x.__ gt__(y), and x>=y calls x.__ ge _(y)."
      ]
    },
    {
      "cell_type": "markdown",
      "id": "1e442ce4",
      "metadata": {
        "id": "1e442ce4"
      },
      "source": [
        "### Operator Overloading kısıtlamaları\n",
        "* öncelik  overloading ile değiştirilemez\n",
        "* Bir operatörün soldan sağa veya sağdan sola gruplaması değiştirilemez\n",
        "* İster tekli ister ikili olsun, bir operatörün “Arity” değeri değiştirilemez\n",
        "* yeni operatorler oluşturlamaz\n",
        "* Bir operatörün yerleşik türdeki nesneler üzerinde nasıl çalıştığı değiştirilemez \n",
        "* Yalnızca özel sınıftaki nesnelerle veya özel sınıftaki bir nesne ile yerleşik türdeki bir nesnenin karışımıyla çalışır"
      ]
    },
    {
      "cell_type": "markdown",
      "id": "14704aba",
      "metadata": {
        "id": "14704aba"
      },
      "source": [
        "### Complex Numbers \n",
        "* We’ll define a class named `Complex` that represents complex numbers\n",
        "* Complex numbers, like –3 + 4i and 6.2 – 11.73i, have the form \n",
        "```python\n",
        "realPart `+` imaginaryPart `* i`\n",
        "``` \n",
        "* `i` is the square root of -1\n",
        "* We'll overload `+` and `+=` "
      ]
    },
    {
      "cell_type": "markdown",
      "id": "791d8668",
      "metadata": {
        "id": "791d8668"
      },
      "source": [
        "## 10.10.1 Test-Driving Class `Complex` "
      ]
    },
    {
      "cell_type": "code",
      "execution_count": null,
      "id": "bcb1c4fc",
      "metadata": {
        "id": "bcb1c4fc",
        "outputId": "d7f057c0-5c82-4227-c36f-000146c10ac8"
      },
      "outputs": [
        {
          "name": "stdout",
          "output_type": "stream",
          "text": [
            "complex import edildi\n"
          ]
        }
      ],
      "source": [
        "try:\n",
        "    import complex\n",
        "    print(\"complex import edildi\")\n",
        "except:\n",
        "    s=input(\"Complex indirilsin mi e/h\")\n",
        "    if \"e\"==s.lower():\n",
        "        print(\"!pip install Complex\")\n",
        "        !pip install complex\n",
        "        \n",
        "\n",
        "from complex import Complex"
      ]
    },
    {
      "cell_type": "code",
      "execution_count": null,
      "id": "d2b408f8",
      "metadata": {
        "id": "d2b408f8",
        "outputId": "a3428a77-ec51-4956-ad22-668e5b889ad3"
      },
      "outputs": [
        {
          "name": "stdout",
          "output_type": "stream",
          "text": [
            "5.00+1.00i\n"
          ]
        },
        {
          "data": {
            "text/plain": [
              "<complex.Complex at 0x1dc3c527310>"
            ]
          },
          "execution_count": 416,
          "metadata": {},
          "output_type": "execute_result"
        }
      ],
      "source": [
        "y=Complex(real=5,imaginary=1)\n",
        "print(y)\n",
        "y"
      ]
    },
    {
      "cell_type": "code",
      "execution_count": null,
      "id": "cf9fd38d",
      "metadata": {
        "id": "cf9fd38d",
        "outputId": "da97edc0-e238-47db-a2f4-494bbf867d71"
      },
      "outputs": [
        {
          "name": "stdout",
          "output_type": "stream",
          "text": [
            "4.00-1.00i\n"
          ]
        },
        {
          "data": {
            "text/plain": [
              "<complex.Complex at 0x1dc3c527940>"
            ]
          },
          "execution_count": 417,
          "metadata": {},
          "output_type": "execute_result"
        }
      ],
      "source": [
        "x=Complex(real=4,imaginary=-1)\n",
        "print(x)\n",
        "x"
      ]
    },
    {
      "cell_type": "code",
      "execution_count": null,
      "id": "f640a042",
      "metadata": {
        "id": "f640a042",
        "outputId": "41c22974-5e11-4a12-cd10-3ab4e32ca8a0"
      },
      "outputs": [
        {
          "data": {
            "text/plain": [
              "<complex.Complex at 0x1dc3c527130>"
            ]
          },
          "execution_count": 418,
          "metadata": {},
          "output_type": "execute_result"
        }
      ],
      "source": [
        "x + y"
      ]
    },
    {
      "cell_type": "code",
      "execution_count": null,
      "id": "28eb7c42",
      "metadata": {
        "id": "28eb7c42",
        "outputId": "d8225f05-8db0-4e3b-ea0f-8799522a8160"
      },
      "outputs": [
        {
          "name": "stdout",
          "output_type": "stream",
          "text": [
            "9.00+0.00i\n",
            "4.00-1.00i\n",
            "5.00+1.00i\n"
          ]
        }
      ],
      "source": [
        "print(x+y)\n",
        "print(x)\n",
        "print(y)\n"
      ]
    },
    {
      "cell_type": "markdown",
      "id": "8521eed9",
      "metadata": {
        "id": "8521eed9"
      },
      "source": [
        "* x ve y Complex nesnelerini + operatörü ile toplamak için __add__ metodunu tanımlayabilirsiniz\n",
        "* İki işlenenin gerçek kısımlarını ve iki işlenenin hayali kısımlarını toplar, ardından yeni bir \"Karmaşık\" nesnesi döndürür"
      ]
    },
    {
      "cell_type": "markdown",
      "id": "7a445726",
      "metadata": {
        "id": "7a445726"
      },
      "source": [
        "* `+` does not modify either of its operands"
      ]
    },
    {
      "cell_type": "code",
      "execution_count": null,
      "id": "bf7c19b5",
      "metadata": {
        "id": "bf7c19b5",
        "outputId": "51b33ae4-f9c5-47a6-dfb8-68bf4498572d"
      },
      "outputs": [
        {
          "name": "stdout",
          "output_type": "stream",
          "text": [
            "4.00-1.00i\n"
          ]
        }
      ],
      "source": [
        "print(x)"
      ]
    },
    {
      "cell_type": "markdown",
      "id": "f89aa127",
      "metadata": {
        "id": "f89aa127"
      },
      "source": [
        "* Use `+=` to add `y` to `x` and store the result in `x`\n",
        "* `+=` operator _modifies_ its left operand"
      ]
    },
    {
      "cell_type": "code",
      "execution_count": null,
      "id": "78c8b727",
      "metadata": {
        "id": "78c8b727"
      },
      "outputs": [],
      "source": [
        "x += y"
      ]
    },
    {
      "cell_type": "code",
      "execution_count": null,
      "id": "4ec65841",
      "metadata": {
        "id": "4ec65841",
        "outputId": "eb81643e-0682-4ab1-e453-77c20d37c786"
      },
      "outputs": [
        {
          "name": "stdout",
          "output_type": "stream",
          "text": [
            "9.00+0.00i\n"
          ]
        }
      ],
      "source": [
        "print(x)"
      ]
    },
    {
      "cell_type": "code",
      "execution_count": null,
      "id": "b5e56a1b",
      "metadata": {
        "id": "b5e56a1b",
        "outputId": "a4f16a2a-7540-4792-936b-4532ee9248c8"
      },
      "outputs": [
        {
          "data": {
            "text/plain": [
              "['__add__',\n",
              " '__class__',\n",
              " '__delattr__',\n",
              " '__dict__',\n",
              " '__dir__',\n",
              " '__doc__',\n",
              " '__eq__',\n",
              " '__format__',\n",
              " '__ge__',\n",
              " '__getattribute__',\n",
              " '__gt__',\n",
              " '__hash__',\n",
              " '__init__',\n",
              " '__init_subclass__',\n",
              " '__le__',\n",
              " '__lt__',\n",
              " '__module__',\n",
              " '__mul__',\n",
              " '__ne__',\n",
              " '__new__',\n",
              " '__reduce__',\n",
              " '__reduce_ex__',\n",
              " '__repr__',\n",
              " '__setattr__',\n",
              " '__sizeof__',\n",
              " '__str__',\n",
              " '__sub__',\n",
              " '__subclasshook__',\n",
              " '__truediv__',\n",
              " '__weakref__',\n",
              " 'angle',\n",
              " 'conjugate',\n",
              " 'imaginary',\n",
              " 'log',\n",
              " 'mod',\n",
              " 'real']"
            ]
          },
          "execution_count": 423,
          "metadata": {},
          "output_type": "execute_result"
        }
      ],
      "source": [
        "dir(x)"
      ]
    },
    {
      "cell_type": "markdown",
      "id": "081ed831",
      "metadata": {
        "id": "081ed831"
      },
      "source": [
        "### Overloaded `+` Operator\n",
        "* Python'da + operatörünü aşırı yüklemek için özel olarak tanımlanmış __add__ metodunu kullanırız. Bu metot, + operatörünün nasıl davranacağını belirlemek için özelleştirilmiştir"
      ]
    },
    {
      "cell_type": "markdown",
      "id": "385cc40b",
      "metadata": {
        "id": "385cc40b"
      },
      "source": [
        "```python\n",
        "    def __add__(self, right):\n",
        "        \"\"\"Overrides the + operator.\"\"\"\n",
        "        return Complex(self.real + right.real, \n",
        "                       self.imaginary + right.imaginary)\n",
        "\n",
        "\n",
        "```"
      ]
    },
    {
      "cell_type": "markdown",
      "id": "5503e833",
      "metadata": {
        "id": "5503e833"
      },
      "source": [
        "* İkili operatörleri aşırı yükleyen yöntemler iki parametre sağlamalıdır\n",
        "    * İlk parametre (self), sol operandı temsil eder.\n",
        "    * İkinci parametre (right), sağ operandı temsil eder.\n",
        "* Bu metodlar, iki operandı alarak istenilen işlemi gerçekleştirir ve sonucu döndürür.\n",
        "    * Orijinal operandların içeriğini değiştirmediğimize dikkat etmek önemlidir."
      ]
    },
    {
      "cell_type": "markdown",
      "id": "807ae8a9",
      "metadata": {
        "id": "807ae8a9"
      },
      "source": [
        "### Overloaded `+=` Augmented Assignment\n",
        "* Override special method **`__iadd__`** to define how `+=` adds two `Complex` objects"
      ]
    },
    {
      "cell_type": "markdown",
      "id": "64bae0b1",
      "metadata": {
        "id": "64bae0b1"
      },
      "source": [
        "```python\n",
        "    def __iadd__(self, right):\n",
        "        \"\"\"Overrides the += operator.\"\"\"\n",
        "        self.real += right.real\n",
        "        self.imaginary += right.imaginary\n",
        "        return self\n",
        "\n",
        "\n",
        "```"
      ]
    },
    {
      "cell_type": "markdown",
      "id": "064d40f9",
      "metadata": {
        "id": "064d40f9"
      },
      "source": [
        "## 10.10.2 Class `Complex` Definition\n",
        "### Method `__init__` \n",
        "```python\n",
        "# complexnumber.py\n",
        "\"\"\"Complex class with overloaded operators.\"\"\"\n",
        "\n",
        "class Complex:\n",
        "    \"\"\"Complex class that represents a complex number \n",
        "    with real and imaginary parts.\"\"\"\n",
        "\n",
        "    def __init__(self, real, imaginary):\n",
        "        \"\"\"Initialize Complex class's attributes.\"\"\"\n",
        "        self.real = real\n",
        "        self.imaginary = imaginary\n",
        "\n",
        "\n",
        "```\n",
        "### Overloaded `+` Operator\n",
        "```python\n",
        "\n",
        "    def __add__(self, right):\n",
        "        \"\"\"Overrides the + operator.\"\"\"\n",
        "        return Complex(self.real + right.real, \n",
        "                       self.imaginary + right.imaginary)\n",
        "\n",
        "\n",
        "```\n",
        "### Overloaded `+=` Augmented Assignment\n",
        "```python\n",
        "\n",
        "    def __iadd__(self, right):\n",
        "        \"\"\"Overrides the += operator.\"\"\"\n",
        "        self.real += right.real\n",
        "        self.imaginary += right.imaginary\n",
        "        return self\n",
        "\n",
        "\n",
        "```\n",
        "### Method `__repr__`\n",
        "```python\n",
        "\n",
        "    def __repr__(self):\n",
        "       \"\"\"Return string representation for repr().\"\"\"\n",
        "        return (f'({self.real} ' + \n",
        "                ('+' if self.imaginary >= 0 else '-') +\n",
        "                f' {abs(self.imaginary)}i)')\n",
        "\n",
        "```\n",
        "\n",
        "\n"
      ]
    },
    {
      "cell_type": "code",
      "execution_count": null,
      "id": "51e0910d",
      "metadata": {
        "id": "51e0910d"
      },
      "outputs": [],
      "source": [
        "class Complex:\n",
        "  \n",
        "    # Constructor\n",
        "    def __init__(self, real, imag):\n",
        "        self.real = real\n",
        "        self.imag = imag\n",
        "  \n",
        "    # For call to repr(). Prints object's information\n",
        "    def __repr__(self):\n",
        "        return 'Rational(%s, %s)' % (self.real, self.imag)    \n",
        "  \n",
        "    # For call to str(). Prints readable form\n",
        "    def __str__(self):\n",
        "        return '%s + i%s' % (self.real, self.imag)    \n",
        "\n",
        "\n",
        "    def __add__(self, right):\n",
        "        return str(Complex(self.real + right.real, self.imag + right.imag))\n",
        "    \n",
        "    def __iadd__(self, right):\n",
        "        self.real += right.real\n",
        "        self.imag += right.imag\n",
        "        return self\n",
        "\n"
      ]
    },
    {
      "cell_type": "code",
      "execution_count": null,
      "id": "5eef7986",
      "metadata": {
        "id": "5eef7986",
        "outputId": "2b8898c0-f2f9-45f6-e2f8-dbce5cfebc92"
      },
      "outputs": [
        {
          "name": "stdout",
          "output_type": "stream",
          "text": [
            "5 + i1\n"
          ]
        },
        {
          "data": {
            "text/plain": [
              "Rational(5, 1)"
            ]
          },
          "execution_count": 425,
          "metadata": {},
          "output_type": "execute_result"
        }
      ],
      "source": [
        "y=Complex(real=5,imag=1)\n",
        "print(y)\n",
        "y"
      ]
    },
    {
      "cell_type": "code",
      "execution_count": null,
      "id": "bb66c4a2",
      "metadata": {
        "id": "bb66c4a2"
      },
      "outputs": [],
      "source": [
        "def __imult__(self, right):\n",
        "        \"\"\"Overrides the *= operator.\"\"\"\n",
        "        self.real *= right.real\n",
        "        self.imaginary *= right.imaginary\n",
        "        return self"
      ]
    },
    {
      "cell_type": "code",
      "execution_count": null,
      "id": "f336a1e3",
      "metadata": {
        "id": "f336a1e3",
        "outputId": "8458181c-beab-44f2-b726-2035524d8099"
      },
      "outputs": [
        {
          "name": "stdout",
          "output_type": "stream",
          "text": [
            "10 + i20\n",
            "Rational(10, 20)\n"
          ]
        },
        {
          "data": {
            "text/plain": [
              "'13 + i13'"
            ]
          },
          "execution_count": 427,
          "metadata": {},
          "output_type": "execute_result"
        }
      ],
      "source": [
        "# Driver program to test above\n",
        "t = Complex(10, 20)\n",
        "t2= Complex(3,-7)\n",
        "# Same as \"print t\"\n",
        "print (str(t))  \n",
        "print (repr(t))\n",
        "t+t2"
      ]
    },
    {
      "cell_type": "code",
      "execution_count": null,
      "id": "5a25b33b",
      "metadata": {
        "id": "5a25b33b",
        "outputId": "f8056ff3-72a7-409d-c55f-14c36e042ce0"
      },
      "outputs": [
        {
          "ename": "TypeError",
          "evalue": "unsupported operand type(s) for *: 'Complex' and 'Complex'",
          "output_type": "error",
          "traceback": [
            "\u001b[1;31m---------------------------------------------------------------------------\u001b[0m",
            "\u001b[1;31mTypeError\u001b[0m                                 Traceback (most recent call last)",
            "\u001b[1;32m~\\AppData\\Local\\Temp\\ipykernel_9484\\1726468461.py\u001b[0m in \u001b[0;36m<module>\u001b[1;34m\u001b[0m\n\u001b[1;32m----> 1\u001b[1;33m \u001b[0mt\u001b[0m \u001b[1;33m*\u001b[0m \u001b[0mt2\u001b[0m\u001b[1;33m\u001b[0m\u001b[1;33m\u001b[0m\u001b[0m\n\u001b[0m",
            "\u001b[1;31mTypeError\u001b[0m: unsupported operand type(s) for *: 'Complex' and 'Complex'"
          ]
        }
      ],
      "source": [
        "t * t2"
      ]
    },
    {
      "cell_type": "code",
      "execution_count": null,
      "id": "e0cd2abd",
      "metadata": {
        "id": "e0cd2abd",
        "outputId": "8b3d0d77-ba0a-4f8f-f433-02ec29d76139"
      },
      "outputs": [
        {
          "ename": "TypeError",
          "evalue": "'>' not supported between instances of 'Complex' and 'Complex'",
          "output_type": "error",
          "traceback": [
            "\u001b[1;31m---------------------------------------------------------------------------\u001b[0m",
            "\u001b[1;31mTypeError\u001b[0m                                 Traceback (most recent call last)",
            "\u001b[1;32m~\\AppData\\Local\\Temp\\ipykernel_9484\\4056519683.py\u001b[0m in \u001b[0;36m<module>\u001b[1;34m\u001b[0m\n\u001b[1;32m----> 1\u001b[1;33m \u001b[0mt\u001b[0m\u001b[1;33m>\u001b[0m\u001b[0mt2\u001b[0m\u001b[1;33m\u001b[0m\u001b[1;33m\u001b[0m\u001b[0m\n\u001b[0m",
            "\u001b[1;31mTypeError\u001b[0m: '>' not supported between instances of 'Complex' and 'Complex'"
          ]
        }
      ],
      "source": [
        "t>t2"
      ]
    },
    {
      "cell_type": "code",
      "execution_count": null,
      "id": "93f3dc82",
      "metadata": {
        "id": "93f3dc82",
        "outputId": "d741449d-daa0-43cc-e76a-41a2a8e90821"
      },
      "outputs": [
        {
          "ename": "TypeError",
          "evalue": "unsupported operand type(s) for -: 'Complex' and 'Complex'",
          "output_type": "error",
          "traceback": [
            "\u001b[1;31m---------------------------------------------------------------------------\u001b[0m",
            "\u001b[1;31mTypeError\u001b[0m                                 Traceback (most recent call last)",
            "\u001b[1;32m~\\AppData\\Local\\Temp\\ipykernel_9484\\4053020568.py\u001b[0m in \u001b[0;36m<module>\u001b[1;34m\u001b[0m\n\u001b[1;32m----> 1\u001b[1;33m \u001b[0mt\u001b[0m\u001b[1;33m-\u001b[0m\u001b[0mt2\u001b[0m\u001b[1;33m\u001b[0m\u001b[1;33m\u001b[0m\u001b[0m\n\u001b[0m",
            "\u001b[1;31mTypeError\u001b[0m: unsupported operand type(s) for -: 'Complex' and 'Complex'"
          ]
        }
      ],
      "source": [
        "t-t2"
      ]
    },
    {
      "cell_type": "code",
      "execution_count": null,
      "id": "c6e9ee20",
      "metadata": {
        "id": "c6e9ee20"
      },
      "outputs": [],
      "source": [
        "class Complex:\n",
        "    def __init__(self, real, imaginary):\n",
        "        self.real = real\n",
        "        self.imaginary = imaginary\n",
        "        \n",
        "        \n",
        "  \n",
        "    # For call to repr(). Prints object's information\n",
        "    def __repr__(self):\n",
        "        return 'Rational(%s, %s)' % (self.real, self.imaginary)    \n",
        "  \n",
        "    # For call to str(). Prints readable form\n",
        "    def __str__(self):\n",
        "        return '%s + i%s' % (self.real, self.imaginary)    \n",
        "\n",
        "\n",
        "    def __add__(self, right):\n",
        "        return str(Complex(self.real + right.real, self.imaginary + right.imaginary))\n",
        "    \n",
        "    def __iadd__(self, right):\n",
        "        self.real += right.real\n",
        "        self.imaginary += right.imaginary\n",
        "        return self\n",
        "\n",
        "    #x - y   \n",
        "    def __sub__(self, right):\n",
        "        # __sub__ metodu, iki karmaşık sayıyı çıkarır ve sonucu yeni bir karmaşık sayı olarak döndürür\n",
        "        return Complex(self.real - right.real, self.imaginary - right.imaginary)\n",
        "    #x -= y   \n",
        "    def __isub__(self, right):\n",
        "        # __isub__ metodu, sağ operand olan bir karmaşık sayıyı sol operand olan karmaşık sayıdan çıkarır ve sonucu sol operand olan nesneye atar\n",
        "        self.real -= right.real\n",
        "        if(right.imaginary<0):\n",
        "            right.imaginary=abs(right.imaginary)\n",
        "        self.imaginary -= right.imaginary\n",
        "        return self\n",
        "\n",
        "    #x * y\n",
        "    def __mul__(self, right):\n",
        "        # __mul__ metodu, iki karmaşık sayının çarpımını hesaplar ve sonucu yeni bir karmaşık sayı olarak döndürür\n",
        "        return Complex((self.real * right.real) - (self.imaginary * right.imaginary), \n",
        "                       (self.imaginary * right.real) + (self.real * right.imaginary))\n",
        "\n",
        "    #x *= y\n",
        "    def __imul__(self, right):\n",
        "        new_real = (self.real * right.real) - (self.imaginary * right.imaginary)\n",
        "        new_imaginary = (self.imaginary * right.real) + (self.real * right.imaginary)\n",
        "        # değerler nesnenin değerleriyle değiştirilir ve nesne döndürülür\n",
        "        self.real = new_real\n",
        "        self.imaginary = new_imaginary\n",
        "        return self\n"
      ]
    },
    {
      "cell_type": "code",
      "execution_count": null,
      "id": "9f355000",
      "metadata": {
        "id": "9f355000",
        "outputId": "d3f533b7-53ce-4aef-b036-baf66db8a90b"
      },
      "outputs": [
        {
          "name": "stdout",
          "output_type": "stream",
          "text": [
            "10 + i20\n",
            "Rational(10, 20)\n",
            "7 + i27\n",
            "170 + i-10\n"
          ]
        }
      ],
      "source": [
        "# Driver program to test above\n",
        "t = Complex(10, 20)\n",
        "t2= Complex(3,-7)\n",
        "# Same as \"print t\"\n",
        "print (str(t))  \n",
        "print (repr(t))\n",
        "print(t-t2)\n",
        "print(t * t2)"
      ]
    },
    {
      "cell_type": "code",
      "execution_count": null,
      "id": "dcb61e0c",
      "metadata": {
        "id": "dcb61e0c"
      },
      "outputs": [],
      "source": []
    },
    {
      "cell_type": "code",
      "execution_count": null,
      "id": "67ead175",
      "metadata": {
        "id": "67ead175"
      },
      "outputs": [],
      "source": []
    },
    {
      "cell_type": "code",
      "execution_count": null,
      "id": "dda5f74a",
      "metadata": {
        "id": "dda5f74a"
      },
      "outputs": [],
      "source": []
    },
    {
      "cell_type": "markdown",
      "id": "6015fd80",
      "metadata": {
        "id": "6015fd80"
      },
      "source": [
        "    \n",
        "# 10.11 İstisna Sınıf Hiyerarşisi ve Özel İstisnalar\n",
        "* Her istisna, Python'un istisna sınıf hiyerarşisinde yer alan bir sınıfın nesnesidir veya bu sınıflardan birine miras alan bir sınıfın nesnesidir.\n",
        "* İstisna sınıfları, doğrudan veya dolaylı olarak temel sınıf `BaseException` 'dan miras alır ve `exceptions` modülünde tanımlanır.\n",
        "* Dört temel `BaseException` alt sınıfı vardır:\n",
        "    * `SystemExit`, program yürütmesini (veya etkileşimli bir oturumu) sonlandırır ve diğer istisna türleri gibi takip edilmediğinde bir izleme çıktısı üretmez.\n",
        "    * `KeyboardInterrupt`, kullanıcı Ctrl + C (veya control + C) kesme komutunu yazdığında ortaya çıkar ve birçok sistemde hareketi durdurur.\n",
        "    * `GeneratorExit`, bir üreteç kapatıldığında, normalde değerler üretmeyi bıraktığında veya `close` yöntemi açık bir şekilde çağrıldığında ortaya çıkar.\n",
        "    * `Exception` , karşılaşabileceğiniz çoğu yaygın istisna için temel sınıftır."
      ]
    },
    {
      "cell_type": "markdown",
      "id": "f143bc40",
      "metadata": {
        "id": "f143bc40"
      },
      "source": [
        "\n",
        "###  Temel Sınıf İstisnalarını Yakalama\n",
        "* Bir `except` işleyicisi, belirli bir türdeki istisnaları yakalayabilir veya temel sınıf türünü kullanarak bu temel sınıf  ( base-class ) istisnalarını ve tüm ilgili alt sınıf istisnalarını yakalayabilir."
      ]
    },
    {
      "cell_type": "markdown",
      "id": "eb14fcde",
      "metadata": {
        "id": "eb14fcde"
      },
      "source": [
        "### Custom Exception Classes\n",
        "* When you raise an exception from your code, you should generally use one of the existing exception classes from the Python Standard Library\n",
        "* Can create your own custom exception classes that derive directly or indirectly from class `Exception`\n",
        "* Before creating custom exception classes, look for an appropriate existing exception class in the Python exception hierarchy\n",
        "\n",
        "###  Özel İstisna Sınıfları\n",
        "* Kodunuzdan bir istisna yükselttiğinizde, genellikle Python Standart Kütüphanesindeki mevcut istisna sınıflarından birini kullanmalısınız.\n",
        "* Kendi özel istisna sınıflarınızı, doğrudan veya dolaylı olarak `Exception` sınıfından türeyen sınıflar olarak oluşturabilirsiniz.\n",
        "* Özel istisna sınıfları oluşturmadan önce, Python istisna hiyerarşisinde uygun bir mevcut istisna sınıfı arayın."
      ]
    },
    {
      "cell_type": "markdown",
      "id": "55874598",
      "metadata": {
        "id": "55874598"
      },
      "source": [
        "# 10.12 Named Tuples\n",
        "* Tuples to aggregate several data attributes into a single object\n",
        "* **`collections` module** provides **named tuples** \n",
        "    * Enable you to reference a tuple’s members by name rather than by index number\n",
        "* Create a simple named tuple that might be used to represent a card in a deck of cards:\n",
        "\n",
        "# 10.12 İsimlendirilmiş Demetler\n",
        "* Birden çok veri niteliğini tek bir nesne olarak birleştirmek için tuple kullanılır.\n",
        "* **`collections ` modülü** , **named tuples** sağlar.\n",
        "    * tuple elemanlarına indeks numarası yerine isim kullanmanızı sağlar.\n",
        "* Bir kart destesi içindeki bir kartı temsil etmek için kullanılabilecek basit bir isimlendirilmiş tuple oluşturma:"
      ]
    },
    {
      "cell_type": "code",
      "execution_count": null,
      "id": "2ccfdafb",
      "metadata": {
        "id": "2ccfdafb"
      },
      "outputs": [],
      "source": []
    },
    {
      "cell_type": "code",
      "execution_count": null,
      "id": "824187e2",
      "metadata": {
        "id": "824187e2"
      },
      "outputs": [],
      "source": [
        "from collections import namedtuple"
      ]
    },
    {
      "cell_type": "markdown",
      "id": "82d58e74",
      "metadata": {
        "id": "82d58e74"
      },
      "source": [
        "* **`namedtuple`** fonksiyonu, yerleşik tuple türünün bir alt sınıfını oluşturur.\n",
        "* İlk argüman, yeni **tipinizin adıdır**.\n",
        "* Ikinci argüman, yeni tipin elemanlarını belirlemek için kullanılan tanımlayıcıları temsil eden bir liste şeklindedir."
      ]
    },
    {
      "cell_type": "code",
      "execution_count": null,
      "id": "abb7c290",
      "metadata": {
        "id": "abb7c290"
      },
      "outputs": [],
      "source": [
        "Card = namedtuple('Card', ['face', 'suit'])"
      ]
    },
    {
      "cell_type": "markdown",
      "id": "da509b2c",
      "metadata": {
        "id": "da509b2c"
      },
      "source": [
        "* Now have a new tuple type named `Card` \n",
        "* Create a `Card` object, access its members by name and display its string representation:"
      ]
    },
    {
      "cell_type": "code",
      "execution_count": null,
      "id": "9717a307",
      "metadata": {
        "id": "9717a307"
      },
      "outputs": [],
      "source": [
        "c1= Card(face='Ace', suit='Spades')\n",
        "c2= Card(face='Ace', suit='Spades')\n",
        "c3= Card(face='face', suit='suit')\n",
        "c4= Card(face='face', suit='suit')\n"
      ]
    },
    {
      "cell_type": "code",
      "execution_count": null,
      "id": "85b117ef",
      "metadata": {
        "id": "85b117ef",
        "outputId": "5cdd58c0-30a3-4cc8-b9b8-de62a73b1f80"
      },
      "outputs": [
        {
          "data": {
            "text/plain": [
              "'Ace'"
            ]
          },
          "execution_count": 436,
          "metadata": {},
          "output_type": "execute_result"
        }
      ],
      "source": [
        "c1.face"
      ]
    },
    {
      "cell_type": "code",
      "execution_count": null,
      "id": "b66bc13d",
      "metadata": {
        "id": "b66bc13d",
        "outputId": "5f1904b1-ff93-4633-f929-877d0ff25ed0"
      },
      "outputs": [
        {
          "data": {
            "text/plain": [
              "'Spades'"
            ]
          },
          "execution_count": 437,
          "metadata": {},
          "output_type": "execute_result"
        }
      ],
      "source": [
        "c1.suit"
      ]
    },
    {
      "cell_type": "code",
      "execution_count": null,
      "id": "a56c06a8",
      "metadata": {
        "id": "a56c06a8",
        "outputId": "5baf196f-8638-4986-cccd-bbb0c919d395"
      },
      "outputs": [
        {
          "data": {
            "text/plain": [
              "__main__.Card"
            ]
          },
          "execution_count": 438,
          "metadata": {},
          "output_type": "execute_result"
        }
      ],
      "source": [
        "type(c1)"
      ]
    },
    {
      "cell_type": "code",
      "execution_count": null,
      "id": "5c2e8aa8",
      "metadata": {
        "id": "5c2e8aa8",
        "outputId": "73dd966b-3c78-401a-89b2-5c490229cc9b"
      },
      "outputs": [
        {
          "data": {
            "text/plain": [
              "Card(face='Ace', suit='Spades')"
            ]
          },
          "execution_count": 439,
          "metadata": {},
          "output_type": "execute_result"
        }
      ],
      "source": [
        "c1"
      ]
    },
    {
      "cell_type": "markdown",
      "id": "75522f37",
      "metadata": {
        "id": "75522f37"
      },
      "source": [
        "### Her adlandırılmış demet türü, ek yöntemlere sahiptir.\n",
        "* _make sınıf yöntemi, bir değerler dizisi alır ve adlandırılmış demet türünden bir nesne döndürür."
      ]
    },
    {
      "cell_type": "code",
      "execution_count": null,
      "id": "f2dd7592",
      "metadata": {
        "id": "f2dd7592"
      },
      "outputs": [],
      "source": [
        "values = ['Queen', 'Hearts']"
      ]
    },
    {
      "cell_type": "code",
      "execution_count": null,
      "id": "734502bb",
      "metadata": {
        "id": "734502bb"
      },
      "outputs": [],
      "source": [
        "c1 = Card._make(values)"
      ]
    },
    {
      "cell_type": "code",
      "execution_count": null,
      "id": "0fd7d56e",
      "metadata": {
        "id": "0fd7d56e",
        "outputId": "4172e946-46bd-4217-d2b4-01bb8db6cf8a"
      },
      "outputs": [
        {
          "data": {
            "text/plain": [
              "Card(face='Queen', suit='Hearts')"
            ]
          },
          "execution_count": 442,
          "metadata": {},
          "output_type": "execute_result"
        }
      ],
      "source": [
        "c1"
      ]
    },
    {
      "cell_type": "markdown",
      "id": "2e7fb79a",
      "metadata": {
        "id": "2e7fb79a"
      },
      "source": [
        "* bir CSV dosyasındaki kayıtları temsil eden bir adlandırılmış demet türünüz varsa faydalı olabilir\n",
        "    * CSV kayıtlarını okurken ve parçalarken, onları adlandırılmış demet nesnelerine dönüştürebilirsiniz\n",
        "* Ayrıca, bir adlandırılmış demet nesnesinin üye isimlerini ve değerlerini içeren bir OrderedDict (Sıralanmış Sözlük) sözlük temsili alabilirsiniz. \n",
        "    * Bu sözlük, key-değer çiftlerinin sözlüğe eklendiği sırayı hatırlar."
      ]
    },
    {
      "cell_type": "code",
      "execution_count": null,
      "id": "49610c2a",
      "metadata": {
        "id": "49610c2a",
        "outputId": "887d861e-5345-4c32-90af-41ea20271b7f"
      },
      "outputs": [
        {
          "data": {
            "text/plain": [
              "{'face': 'Queen', 'suit': 'Hearts'}"
            ]
          },
          "execution_count": 443,
          "metadata": {},
          "output_type": "execute_result"
        }
      ],
      "source": [
        "c1._asdict()"
      ]
    },
    {
      "cell_type": "markdown",
      "id": "b66a9707",
      "metadata": {
        "id": "b66a9707"
      },
      "source": [
        "* Additional named tuple features: \n",
        ">https://docs.python.org/3/library/collections.html#collections.namedtuple"
      ]
    },
    {
      "cell_type": "code",
      "execution_count": null,
      "id": "8e39ff00",
      "metadata": {
        "id": "8e39ff00",
        "outputId": "8684882a-0f44-475e-f528-2a954ea48b55"
      },
      "outputs": [
        {
          "data": {
            "text/plain": [
              "False"
            ]
          },
          "execution_count": 444,
          "metadata": {},
          "output_type": "execute_result"
        }
      ],
      "source": [
        "c1 == c2"
      ]
    },
    {
      "cell_type": "code",
      "execution_count": null,
      "id": "a7d56d45",
      "metadata": {
        "id": "a7d56d45",
        "outputId": "4d19d8af-d8f7-45ff-e670-38d6502c83b4"
      },
      "outputs": [
        {
          "data": {
            "text/plain": [
              "True"
            ]
          },
          "execution_count": 445,
          "metadata": {},
          "output_type": "execute_result"
        }
      ],
      "source": [
        "c1 != c3"
      ]
    },
    {
      "cell_type": "code",
      "execution_count": null,
      "id": "5967bd05",
      "metadata": {
        "id": "5967bd05",
        "outputId": "8fdb63e0-8f2a-48dd-cb71-b10ed8ee76cc"
      },
      "outputs": [
        {
          "data": {
            "text/plain": [
              "True"
            ]
          },
          "execution_count": 446,
          "metadata": {},
          "output_type": "execute_result"
        }
      ],
      "source": [
        "c3==c4"
      ]
    },
    {
      "cell_type": "code",
      "execution_count": null,
      "id": "a3cc8f05",
      "metadata": {
        "id": "a3cc8f05",
        "outputId": "113e17f1-95c0-4cd9-cc96-0a98eb199c3a"
      },
      "outputs": [
        {
          "data": {
            "text/plain": [
              "['__add__',\n",
              " '__class__',\n",
              " '__class_getitem__',\n",
              " '__contains__',\n",
              " '__delattr__',\n",
              " '__dir__',\n",
              " '__doc__',\n",
              " '__eq__',\n",
              " '__format__',\n",
              " '__ge__',\n",
              " '__getattribute__',\n",
              " '__getitem__',\n",
              " '__getnewargs__',\n",
              " '__gt__',\n",
              " '__hash__',\n",
              " '__init__',\n",
              " '__init_subclass__',\n",
              " '__iter__',\n",
              " '__le__',\n",
              " '__len__',\n",
              " '__lt__',\n",
              " '__module__',\n",
              " '__mul__',\n",
              " '__ne__',\n",
              " '__new__',\n",
              " '__reduce__',\n",
              " '__reduce_ex__',\n",
              " '__repr__',\n",
              " '__rmul__',\n",
              " '__setattr__',\n",
              " '__sizeof__',\n",
              " '__slots__',\n",
              " '__str__',\n",
              " '__subclasshook__',\n",
              " '_asdict',\n",
              " '_field_defaults',\n",
              " '_fields',\n",
              " '_make',\n",
              " '_replace',\n",
              " 'count',\n",
              " 'face',\n",
              " 'index',\n",
              " 'suit']"
            ]
          },
          "execution_count": 447,
          "metadata": {},
          "output_type": "execute_result"
        }
      ],
      "source": [
        "dir(c1)"
      ]
    },
    {
      "cell_type": "code",
      "execution_count": null,
      "id": "0e63bb41",
      "metadata": {
        "id": "0e63bb41",
        "outputId": "959f2456-934b-4038-e9b3-fc484f049041"
      },
      "outputs": [
        {
          "name": "stdout",
          "output_type": "stream",
          "text": [
            "13 30 40\n"
          ]
        },
        {
          "data": {
            "text/plain": [
              "Time(hour=13, minute=30, second=40)"
            ]
          },
          "execution_count": 448,
          "metadata": {},
          "output_type": "execute_result"
        }
      ],
      "source": [
        "from collections import namedtuple\n",
        "Time = namedtuple('Time', ['hour', 'minute', 'second'])\n",
        "t = Time(13, 30, 40)\n",
        "print(t.hour, t.minute, t.second)\n",
        "t\n",
        "#Time(hour=13, minute=30, second=45)"
      ]
    },
    {
      "cell_type": "code",
      "execution_count": null,
      "id": "b463877e",
      "metadata": {
        "id": "b463877e",
        "outputId": "354b59bd-1ee3-4eb0-9b0c-4abe1f531a61"
      },
      "outputs": [
        {
          "data": {
            "text/plain": [
              "Account(type='premium', balance=0)"
            ]
          },
          "execution_count": 449,
          "metadata": {},
          "output_type": "execute_result"
        }
      ],
      "source": [
        "Account = namedtuple('Account', ['type', 'balance'], defaults=[0])\n",
        "Account._field_defaults\n",
        "#{'balance': 0}\n",
        "Account('premium')"
      ]
    },
    {
      "cell_type": "markdown",
      "id": "195aa7cd",
      "metadata": {
        "id": "195aa7cd"
      },
      "source": [
        "# 10.13 Python 3.7'nin Yeni Veri Sınıflarına Kısa Bir Giriş\n",
        "* İsimlendirilmiş demetler üyelerine isimle erişme imkanı sağlasa da, hala sadece demetlerdir ve sınıflar değillerdir.\n",
        "* İsimlendirilmiş demetlerin sağladığı bazı faydaların yanı sıra, geleneksel Python sınıflarının sağladığı yetenekleri de içeren Python 3.7'nin yeni veri sınıflarını Python Standart Kütüphanesi'ndeki dataclasses modülü ile kullanabilirsiniz.\n",
        "* Daha özlü bir sözdizimi kullanarak ve çoğu sınıfta yaygın olan \"boilerplate\" kodunu otomatik olarak oluşturarak sınıfları daha hızlı oluşturmanıza yardımcı olurlar."
      ]
    },
    {
      "cell_type": "markdown",
      "id": "0283caa2",
      "metadata": {
        "id": "0283caa2"
      },
      "source": [
        "### Veri Sınıfları Otomatik Kod Oluşturur\n",
        "* Çoğu sınıf, bir nesnenin özniteliklerini oluşturmak ve başlatmak için bir __init__ yöntemi ve bir nesnenin özel dize temsilini belirtmek için bir __repr__ yöntemi sağlar.\n",
        "* Veri sınıfları, veri özniteliklerini ve __init__ ve __repr__ yöntemlerini sizin için otomatik olarak oluştururlar.\n",
        "* Veri sınıfları ayrıca bir alan adları listesinden (örneğin CSV dosyasındaki sütun adları gibi) dinamik olarak oluşturulabilir.\n",
        "* Veri sınıfları, == operatörünü aşırı yükleyen __eq__ yöntemini otomatik olarak oluştururlar.\n",
        "* Herhangi bir sınıfın bir __eq__ yöntemi varsa, aynı zamanda != operatörünü de destekler.\n",
        "* Veri sınıfları otomatik olarak <, <=, > ve >= karşılaştırma operatörleri için yöntemleri oluşturmazlar, ancak bunları destekleyebilirler."
      ]
    },
    {
      "cell_type": "markdown",
      "id": "11fee976",
      "metadata": {
        "id": "11fee976"
      },
      "source": [
        "## 10.13.1 Bir Card Veri Sınıfı Oluşturma\n",
        "### dataclasses ve typing Modüllerinden İçe Aktarma\n",
        "* dataclasses modülü, veri sınıflarını uygulamak için dekoratörler ve fonksiyonlar tanımlar.\n",
        "* `@dataclass dekoratörü, yeni bir sınıfın bir veri sınıfı olduğunu belirtir ve çeşitli kodların sizin için yazılmasını sağlar.\n",
        "* typing modülünden ClassVar ve List, FACES ve SUITS'in listelere başvuran sınıf değişkenleri olduğunu belirtecektir."
      ]
    },
    {
      "cell_type": "markdown",
      "id": "4f2d8b59",
      "metadata": {
        "id": "4f2d8b59"
      },
      "source": [
        "```python\n",
        "# carddataclass.py\n",
        "\"\"\"Card data class with class attributes, data attributes, \n",
        "autogenerated methods and explicitly defined methods.\"\"\"\n",
        "from dataclasses import dataclass\n",
        "from typing import ClassVar, List\n",
        "```"
      ]
    },
    {
      "cell_type": "markdown",
      "id": "4b6fc6a4",
      "metadata": {
        "id": "4b6fc6a4"
      },
      "source": [
        "### @dataclass Dekoratörünü Kullanma\n",
        "* Bir sınıfın bir veri sınıfı olduğunu belirtmek için tanımından önce @dataclass dekoratörünü kullanın:\n",
        "\n",
        "```python\n",
        "@dataclass\n",
        "class Card:\n",
        "\n",
        "```\n",
        "* @dataclass(order=True) dekoratörü, veri sınıfının <, <=, >, >= için aşırı yüklenmiş karşılaştırma operatörü yöntemlerini otomatik olarak oluşturmasını sağlar\n",
        "    * Veri sınıfı nesnelerinizi karşılaştırmak veya sıralamak gerektiğinde faydalıdır\n"
      ]
    },
    {
      "cell_type": "markdown",
      "id": "c9c930ff",
      "metadata": {
        "id": "c9c930ff"
      },
      "source": [
        "### Değişken İşaretlemeleri: Sınıf Öznitelikleri\n",
        "* Veri sınıfları, sınıf özniteliklerini ve veri özniteliklerini sınıfın içine, ancak sınıfın yöntemlerinin dışına bildirir.\n",
        "* Veri sınıfları, sınıf özniteliklerini veri özniteliklerinden ayırt etmek için ek bilgi veya ipuçları gerektirir.\n",
        "    * Ayrıca, otomatik olarak oluşturulan yöntemlerin uygulama ayrıntılarını etkiler."
      ]
    },
    {
      "cell_type": "markdown",
      "id": "7e7bd448",
      "metadata": {
        "id": "7e7bd448"
      },
      "source": [
        "```python\n",
        "    FACES: ClassVar[List[str]] = ['Ace', '2', '3', '4', '5', '6', '7', \n",
        "                                  '8', '9', '10', 'Jack', 'Queen', 'King']\n",
        "    SUITS: ClassVar[List[str]] = ['Hearts', 'Diamonds', 'Clubs', 'Spades']\n",
        "```"
      ]
    },
    {
      "cell_type": "markdown",
      "id": "075daa8f",
      "metadata": {
        "id": "075daa8f"
      },
      "source": [
        "* Değişken işaretleme : ClassVar[List[str]] (bazen bir tip işareti olarak adlandırılır), FACES'in bir sınıf özniteliği (ClassVar) olduğunu ve stringlerden oluşan bir liste (List[str]) olduğunu belirtir.\n",
        "* SUITS da bir sınıf özniteliğidir ve stringlerden oluşan bir liste olarak belirtilir.\n",
        "* Sınıf değişkenleri tanımlamada başlatılır ve sınıfa özgüdür, sınıfın bireysel nesnelerine değil.\n",
        "* Bununla birlikte, __init__, __repr__ ve __eq__ yöntemleri sadece sınıfın nesneleriyle kullanılır.\n",
        "    * Bir veri sınıfı bu yöntemleri oluşturduğunda, tüm değişken işaretlemelerini inceleyerek, yalnızca veri özniteliklerini yöntem uygulamalarına dahil eder."
      ]
    },
    {
      "cell_type": "markdown",
      "id": "1286158e",
      "metadata": {
        "id": "1286158e"
      },
      "source": [
        "### Variable Annotations: Data Attributes\n",
        "* Normalde, bir nesnenin veri özniteliklerini sınıfın __init__ yöntemi içinde oluştururuz.\n",
        "* Sınıfın içine veri özniteliği adlarını koymak, NameError hatası üretir, örneğin:"
      ]
    },
    {
      "cell_type": "code",
      "execution_count": null,
      "id": "91d6fd7d",
      "metadata": {
        "id": "91d6fd7d"
      },
      "outputs": [],
      "source": [
        "from dataclasses import dataclass"
      ]
    },
    {
      "cell_type": "code",
      "execution_count": null,
      "id": "86269056",
      "metadata": {
        "id": "86269056",
        "outputId": "bdc891c4-e5f7-4e2c-e29d-64be9ab67c5b"
      },
      "outputs": [
        {
          "name": "stdout",
          "output_type": "stream",
          "text": [
            "False\n"
          ]
        }
      ],
      "source": [
        "@dataclass(eq=False) #defult False gelir\n",
        "class Demo:\n",
        "    x:int  # attempting to create a data attribute x\n",
        "D1=Demo(10)\n",
        "D2=Demo(20)\n",
        "print(D1 == D2)"
      ]
    },
    {
      "cell_type": "code",
      "execution_count": null,
      "id": "abdd554a",
      "metadata": {
        "id": "abdd554a",
        "outputId": "e80539e9-8baf-4091-9725-5666256ca2a9"
      },
      "outputs": [
        {
          "name": "stdout",
          "output_type": "stream",
          "text": [
            "False\n"
          ]
        }
      ],
      "source": [
        "@dataclass(eq=False) #defult True gelir\n",
        "class Demo:\n",
        "    x:int  # attempting to create a data attribute x\n",
        "D1=Demo(10)\n",
        "D2=Demo(10)\n",
        "print(D1 == D2) # doğru olduğu halde hata vermez onun yerine sonuç ne olursa olsun varsayılan olarak False döner"
      ]
    },
    {
      "cell_type": "code",
      "execution_count": null,
      "id": "a21de3e1",
      "metadata": {
        "id": "a21de3e1",
        "outputId": "4b3f709e-2aea-4108-cc38-16f51a569dab"
      },
      "outputs": [
        {
          "name": "stdout",
          "output_type": "stream",
          "text": [
            "True\n"
          ]
        }
      ],
      "source": [
        "@dataclass(eq=True) #defult True gelir\n",
        "class Demo:\n",
        "    x:int  # attempting to create a data attribute x\n",
        "D1=Demo(10)\n",
        "D2=Demo(10)\n",
        "print(D1 == D2) # doğru olduğu halde hata vermez onun yerine sonuç ne olursa olsun varsayılan olarak False döner"
      ]
    },
    {
      "cell_type": "markdown",
      "id": "1e222636",
      "metadata": {
        "id": "1e222636"
      },
      "source": [
        "### @dataclass(init=True, repr=True, eq=True, order=False, unsafe_hash=False, frozen=False, match_args=True, kw_only=False, slots=False, weakref_slot=False)"
      ]
    },
    {
      "cell_type": "code",
      "execution_count": null,
      "id": "d73b9255",
      "metadata": {
        "id": "d73b9255",
        "outputId": "20ebe1b6-0021-4f4b-b491-9381024589d3"
      },
      "outputs": [
        {
          "ename": "SyntaxError",
          "evalue": "invalid syntax (928300985.py, line 1)",
          "output_type": "error",
          "traceback": [
            "\u001b[1;36m  File \u001b[1;32m\"C:\\Users\\memati\\AppData\\Local\\Temp\\ipykernel_9484\\928300985.py\"\u001b[1;36m, line \u001b[1;32m1\u001b[0m\n\u001b[1;33m    * Like class attributes, each data attribute must be declared with a variable annotation\u001b[0m\n\u001b[1;37m           ^\u001b[0m\n\u001b[1;31mSyntaxError\u001b[0m\u001b[1;31m:\u001b[0m invalid syntax\n"
          ]
        }
      ],
      "source": [
        "* Like class attributes, each data attribute must be declared with a variable annotation\n",
        "* The variable annotation `\": str\"` indicates `face` and `suit` should refer to string objects"
      ]
    },
    {
      "cell_type": "code",
      "execution_count": null,
      "id": "57086f9c",
      "metadata": {
        "id": "57086f9c",
        "outputId": "d8b434f6-232c-4208-be5e-937dfd19d198"
      },
      "outputs": [
        {
          "ename": "SyntaxError",
          "evalue": "invalid syntax (2805280249.py, line 2)",
          "output_type": "error",
          "traceback": [
            "\u001b[1;36m  File \u001b[1;32m\"C:\\Users\\memati\\AppData\\Local\\Temp\\ipykernel_9484\\2805280249.py\"\u001b[1;36m, line \u001b[1;32m2\u001b[0m\n\u001b[1;33m    * Data classes are classes, so they may contain properties and methods and participate in class hierarchies\u001b[0m\n\u001b[1;37m           ^\u001b[0m\n\u001b[1;31mSyntaxError\u001b[0m\u001b[1;31m:\u001b[0m invalid syntax\n"
          ]
        }
      ],
      "source": [
        "### Defining a Property and Other Methods\n",
        "* Data classes are classes, so they may contain properties and methods and participate in class hierarchies"
      ]
    },
    {
      "cell_type": "markdown",
      "id": "c7cfed01",
      "metadata": {
        "id": "c7cfed01"
      },
      "source": [
        "```python\n",
        "    @property\n",
        "    def image_name(self):\n",
        "        \"\"\"Return the Card's image file name.\"\"\"\n",
        "        return str(self).replace(' ', '_') + '.png'\n",
        "\n",
        "    def __str__(self):\n",
        "        \"\"\"Return string representation for str().\"\"\"\n",
        "        return f'{self.face} of {self.suit}'\n",
        "    \n",
        "    def __format__(self, format):\n",
        "        \"\"\"Return formatted string representation.\"\"\"\n",
        "        return f'{str(self):{format}}'\n",
        "\n",
        "```"
      ]
    },
    {
      "cell_type": "markdown",
      "id": "406db023",
      "metadata": {
        "id": "406db023"
      },
      "source": [
        "### Değişken Bildirim Notları\n",
        "* Tür bildirimleri olsa bile Python hâlâ dinamik tipli bir dil olarak kalır.\n",
        "* Bu nedenle, tür bildirimleri çalışma zamanında zorunlu kılınmaz."
      ]
    },
    {
      "cell_type": "markdown",
      "id": "235edb5e",
      "metadata": {
        "id": "235edb5e"
      },
      "source": [
        "## 10.13.2 Using the `Card` Data Class \n",
        "* Create a Card`: "
      ]
    },
    {
      "cell_type": "markdown",
      "id": "52cea5c8",
      "metadata": {
        "id": "52cea5c8"
      },
      "source": [
        "## 10.13.3 Veri Sınıfının Adlandırılmış Demetlere Göre Avantajları\n",
        "* Farklı adlandırılmış demet türlerine ait nesneler, aynı sayıda üyeye ve bu üyelerin aynı değerlerine sahipse eşit olarak kabul edilebilir.\n",
        "    * Farklı veri sınıfı nesnelerini karşılaştırmak her zaman False döndürür, aynı şekilde bir veri sınıfı nesnesini bir demet nesnesiyle karşılaştırmak da False döndürür.\n",
        "* Bir demeti açan kodunuz varsa, bu demete daha fazla üye eklemek, açma kodunu bozar.\n",
        "    * Veri sınıfı nesneleri açılamaz.\n",
        "    * Varolan kodu bozmadan bir veri sınıfına daha fazla veri özelliği ekleyebilirsiniz.\n",
        "* Veri sınıfı, bir kalıtım hiyerarşisinde bir temel sınıf veya alt sınıf olabilir. \n"
      ]
    },
    {
      "cell_type": "markdown",
      "id": "be6b8fd3",
      "metadata": {
        "id": "be6b8fd3"
      },
      "source": [
        "## 10.13.4 Veri Sınıflarının Geleneksel Sınıflara Göre Avantajları\n",
        "* Bir veri sınıfı, __init__, __repr__ ve __eq__ metodlarını otomatik olarak oluşturarak size zaman kazandırır.\n",
        "* Bir veri sınıfı, <, <=, >, >= karşılaştırma operatörlerini aşırı yükleyen özel metotları otomatik olarak oluşturabilir.\n",
        "* Bir veri sınıfında tanımlanan veri özelliklerini değiştirdiğinizde, otomatik olarak oluşturulan kod güncellenir.\n",
        "    * Daha az kodu yönetmeniz ve hata ayıklamanız gerekmektedir.\n",
        "* Gerekli değişken açıklamaları, statik kod analizi araçlarından faydalanmanızı sağlar.\n",
        "    * Yürütme zamanında ortaya çıkmadan önce ek hataları önleyebilirsiniz.\n",
        "    * Bazı statik kod analizi araçları ve IDE'ler, değişken açıklamalarını inceleyebilir ve yanlış türü kullanan kodlarda uyarı verebilir."
      ]
    },
    {
      "cell_type": "code",
      "execution_count": null,
      "id": "ab8b5cf5",
      "metadata": {
        "id": "ab8b5cf5"
      },
      "outputs": [],
      "source": [
        "from dataclasses import dataclass\n",
        "\n",
        "@dataclass\n",
        "class InventoryItem:\n",
        "    name: str\n",
        "    unit_price: float\n",
        "    quantity_on_hand: int = 0\n",
        "\n",
        "    def total_cost(self) -> float:\n",
        "        return self.unit_price * self.quantity_on_hand"
      ]
    },
    {
      "cell_type": "code",
      "execution_count": null,
      "id": "6a68043b",
      "metadata": {
        "id": "6a68043b",
        "outputId": "4e0e8409-a8ae-4a1e-9c02-24494d934fed"
      },
      "outputs": [
        {
          "name": "stdout",
          "output_type": "stream",
          "text": [
            "<__main__.Deneme object at 0x000001DC3C5395B0>\n"
          ]
        }
      ],
      "source": [
        "#without dataclasses\n",
        "class Deneme:          # değişkenlerin tipi\n",
        "    def __init__(self, ad:str, soyad:str):\n",
        "        self.ad=ad\n",
        "        self.soyad=soyad\n",
        "         # döndürülecek değer tipi\n",
        "def main() -> None:\n",
        "    d1=Deneme(ad=\"Ali\", soyad=\"Bursalı\")\n",
        "    print(d1)\n",
        "\n",
        "if __name__==\"__main__\":\n",
        "    main()"
      ]
    },
    {
      "cell_type": "code",
      "execution_count": null,
      "id": "225d73e3",
      "metadata": {
        "id": "225d73e3",
        "outputId": "d3315e77-5df2-4c1b-d5bf-4174cca1d578"
      },
      "outputs": [
        {
          "name": "stdout",
          "output_type": "stream",
          "text": [
            "Ali, Bursalı\n"
          ]
        }
      ],
      "source": [
        "#without dataclasses\n",
        "class Deneme:\n",
        "    def __init__(self, ad:str, soyad:str):\n",
        "        self.ad=ad\n",
        "        self.soyad=soyad\n",
        "    \n",
        "    #with __repr__\n",
        "    def __repr__(self) -> str:\n",
        "        return f\"{self.ad}, {self.soyad}\"\n",
        "        \n",
        "def main() -> None:\n",
        "    d1=Deneme(ad=\"Ali\", soyad=\"Bursalı\")\n",
        "    print(d1)\n",
        "\n",
        "if __name__==\"__main__\":\n",
        "    main()"
      ]
    },
    {
      "cell_type": "code",
      "execution_count": null,
      "id": "3c438fd0",
      "metadata": {
        "id": "3c438fd0"
      },
      "outputs": [],
      "source": [
        "# Dataclass kullanarak"
      ]
    },
    {
      "cell_type": "code",
      "execution_count": null,
      "id": "9eb39205",
      "metadata": {
        "id": "9eb39205",
        "outputId": "c982a623-5dfe-43a3-adcc-ae3fd5263d7e"
      },
      "outputs": [
        {
          "name": "stdout",
          "output_type": "stream",
          "text": [
            "Deneme(ad='Ali', soyad='Bursalı')\n"
          ]
        }
      ],
      "source": [
        "from dataclasses import dataclass\n",
        "\n",
        "@dataclass\n",
        "class Deneme:\n",
        "    ad:str\n",
        "    soyad:str\n",
        "        \n",
        "def main() -> None:\n",
        "    d1=Deneme(ad=\"Ali\", soyad=\"Bursalı\")\n",
        "    print(d1)\n",
        "\n",
        "if __name__==\"__main__\":\n",
        "    main()"
      ]
    },
    {
      "cell_type": "code",
      "execution_count": null,
      "id": "0439a5b5",
      "metadata": {
        "id": "0439a5b5",
        "outputId": "c0055565-0697-42f5-a8af-d7d209195037"
      },
      "outputs": [
        {
          "name": "stdout",
          "output_type": "stream",
          "text": [
            "Deneme(ad='Ali', soyad='Bursalı', durum=False)\n"
          ]
        }
      ],
      "source": [
        "@dataclass\n",
        "class Deneme:\n",
        "    ad:str\n",
        "    soyad:str\n",
        "    durum:bool = True #default değer\n",
        "        \n",
        "def main() -> None:\n",
        "    d1=Deneme(ad=\"Ali\", soyad=\"Bursalı\", durum=False)\n",
        "    print(d1)\n",
        "\n",
        "if __name__==\"__main__\":\n",
        "    main()"
      ]
    },
    {
      "cell_type": "code",
      "execution_count": null,
      "id": "64e970e0",
      "metadata": {
        "id": "64e970e0",
        "outputId": "1441f002-9bb4-42e8-eddf-759627b130be"
      },
      "outputs": [
        {
          "name": "stdout",
          "output_type": "stream",
          "text": [
            "Deneme(ad='Ali', soyad='Bursalı', durum=False, liste=[])\n"
          ]
        }
      ],
      "source": [
        "from dataclasses import dataclass, field\n",
        "import random\n",
        "@dataclass\n",
        "class Deneme:\n",
        "    ad:str\n",
        "    soyad:str\n",
        "    durum:bool = True #default value\n",
        "    #liste: list[str] = [] #problematic for every new instance new list\n",
        "    liste: list[str] = field(default_factory=list)\n",
        "        \n",
        "def main() -> None:\n",
        "    d1=Deneme(ad=\"Ali\", soyad=\"Bursalı\", durum=False)\n",
        "    print(d1)\n",
        "\n",
        "if __name__==\"__main__\":\n",
        "    main()"
      ]
    },
    {
      "cell_type": "code",
      "execution_count": null,
      "id": "a7b2b2d3",
      "metadata": {
        "id": "a7b2b2d3",
        "outputId": "c20bc214-e73f-4d8d-afe9-1a745f09fdea"
      },
      "outputs": [
        {
          "name": "stdout",
          "output_type": "stream",
          "text": [
            "Deneme(ad='Ali', soyad='Bursalı', durum=True, listeler=[], sayac=0.3888101903029909)\n",
            "Deneme(ad='Ayşe', soyad='Bolulu', durum=True, listeler=[], sayac=0.9934819393247375)\n"
          ]
        }
      ],
      "source": [
        "from dataclasses import dataclass, field\n",
        "import random\n",
        "@dataclass\n",
        "class Deneme:\n",
        "    ad:str\n",
        "    soyad:str\n",
        "    durum:bool = True #default value\n",
        "    #listeler: list[str] = [] problematic for every new instance new list\n",
        "    listeler: list[str] = field(default_factory=list)\n",
        "    sayac: int = field(default_factory=random.random)\n",
        "        \n",
        "def main() -> None:\n",
        "    d1=Deneme(ad=\"Ali\", soyad=\"Bursalı\")\n",
        "    print(d1)\n",
        "    d2=Deneme(ad=\"Ayşe\", soyad=\"Bolulu\")\n",
        "    print(d2)\n",
        "\n",
        "if __name__==\"__main__\":\n",
        "    main()"
      ]
    },
    {
      "cell_type": "code",
      "execution_count": null,
      "id": "1af897b8",
      "metadata": {
        "id": "1af897b8",
        "outputId": "00d88681-d9e7-44ca-986e-063a17210d7e"
      },
      "outputs": [
        {
          "name": "stdout",
          "output_type": "stream",
          "text": [
            "Deneme(ad='Ali', soyad='Bursalı', durum=True, listeler=[], names=[])\n",
            "Deneme(ad='Ayşe', soyad='Bolulu', durum=True, listeler=[], names=[])\n",
            "Deneme(ad='Ali', soyad='Bursalı', durum=True, listeler=[], names=['Apple', 'Banana'])\n"
          ]
        }
      ],
      "source": [
        "from dataclasses import dataclass, field\n",
        "import random\n",
        "@dataclass\n",
        "class Deneme:\n",
        "    ad:str\n",
        "    soyad:str\n",
        "    durum:bool = True #default value\n",
        "    #listeler: list[str] = [] problematic for every new instance new list\n",
        "    listeler: list[str] = field(default_factory=list)\n",
        "    names : list = field(default_factory=lambda : [])\n",
        "        \n",
        "def main() -> None:\n",
        "    d1=Deneme(ad=\"Ali\", soyad=\"Bursalı\")\n",
        "    print(d1)\n",
        "    d2=Deneme(ad=\"Ayşe\", soyad=\"Bolulu\")\n",
        "    print(d2)\n",
        "    d1.names.append('Apple')\n",
        "    d1.names.append('Banana')\n",
        "    print(d1)      # Fruits(names=['Apple', 'Banana'])\n",
        "    #d3 = Deneme(['Peach', 'Pear'])\n",
        "    #print(d3)\n",
        "    \n",
        "if __name__==\"__main__\":\n",
        "    main()"
      ]
    },
    {
      "cell_type": "code",
      "execution_count": null,
      "id": "9ece97e5",
      "metadata": {
        "id": "9ece97e5",
        "outputId": "f81e9d69-c247-4ba0-db45-6ecae85484e7"
      },
      "outputs": [
        {
          "name": "stdout",
          "output_type": "stream",
          "text": [
            "Deneme(ad='Ali', soyad='Bursalı', durum=True, listeler=[], sayac='123')\n",
            "Deneme(ad='Ayşe', soyad='Bolulu', durum=True, listeler=[], sayac=0.8117431361444702)\n"
          ]
        }
      ],
      "source": [
        "from dataclasses import dataclass, field\n",
        "import random\n",
        "@dataclass\n",
        "class Deneme:\n",
        "    ad:str\n",
        "    soyad:str\n",
        "    durum:bool = True #default value\n",
        "    #listeler: list[str] = [] problematic for every new instance new list\n",
        "    listeler: list[str] = field(default_factory=list)\n",
        "    sayac: int = field(init=True, default_factory=random.random)#init default değeri True, sayaca varsayılan olarak random değer atar\n",
        "        \n",
        "def main() -> None:\n",
        "    d1=Deneme(ad=\"Ali\", soyad=\"Bursalı\", sayac=\"123\") #init=False -> hata verir \n",
        "    print(d1)\n",
        "    d2=Deneme(ad=\"Ayşe\", soyad=\"Bolulu\")\n",
        "    print(d2)\n",
        "\n",
        "if __name__==\"__main__\":\n",
        "    main()"
      ]
    },
    {
      "cell_type": "markdown",
      "id": "7a337000",
      "metadata": {
        "id": "7a337000"
      },
      "source": [
        "* _ara: str = field(init=False) satırı, Deneme sınıfı için _ara isimli bir özellik tanımlar. Bu özellik, ad ve soyad özelliklerinin birleşimini tutacak bir özelliktir.\n",
        " * \n",
        "* _ara özelliği, init=False argümanı ile tanımlanmıştır. init argümanı, özelliğin __init__ metodunda atanıp atanmayacağını belirler. init=False olarak ayarlandığında, _ara özelliği, sınıfın __init__ metodunda atanmaz. Bunun yerine, _ara değeri, __ post_init __ adlı bir özel metotta atanır.\n",
        "* \n",
        "* field dekoratörü, dataclass sınıfının özelliklerini tanımlamak için kullanılır. Bu dekoratör, özelliklere varsayılan değerler atamak, özelliklerin varsayılan değerlerini değiştirmek, özelliklerin okunabilirliğini veya yazılabilirliğini değiştirmek gibi özelliklere sahiptir. _ara: str = field(init=False) satırındaki _ (alt çizgi) sembolü, Python'da genellikle ismi önemsiz olan bir değişkeni ifade etmek için kullanılır. _ sembolü, _ara özelliğinin isminin önemsiz olduğunu gösterir.\n",
        "* \n",
        "* field ise, dataclass sınıfının özelliklerini tanımlamak için kullanılan bir dekoratördür. field dekoratörü, özelliklerin varsayılan değerlerini belirlemek, yazılabilirliğini veya okunabilirliğini değiştirmek, özellikleri sınıfın dışında tanımlamak gibi özelliklere sahiptir.\n",
        "* \n",
        "* Bu örnekte _ara özelliği, init=False parametresi ile tanımlanmıştır. Bu, _ara özelliğinin sınıfın __init__ metodunda atanmayacağı anlamına gelir. Bunun yerine, _ara özelliği __ post_init __ adlı bir özel metotta atanır."
      ]
    },
    {
      "cell_type": "code",
      "execution_count": null,
      "id": "f7ce041c",
      "metadata": {
        "id": "f7ce041c",
        "outputId": "a5900e90-9bbf-4749-ceb9-b53b94a49e89"
      },
      "outputs": [
        {
          "name": "stdout",
          "output_type": "stream",
          "text": [
            "Deneme(ad='Ali', soyad='Bursalı', durum=True, listeler=[], sayac=0.31101655520285154, _ara='Ali Bursalı')\n"
          ]
        }
      ],
      "source": [
        "from dataclasses import dataclass, field\n",
        "import random\n",
        "\n",
        "@dataclass\n",
        "class Deneme:\n",
        "    ad: str\n",
        "    soyad: str\n",
        "    durum: bool = True  # Varsayılan değer\n",
        "    listeler: list[str] = field(default_factory=list)  # Boş bir liste oluşturulur\n",
        "    sayac: int = field(init=False, default_factory=random.random)  # Rasgele bir sayı atanır\n",
        "    _ara: str = field(init=False)  # \"ad\" ve \"soyad\" özelliklerinin birleşimini tutacak bir özellik\n",
        "    \n",
        "    def __post_init__(self) -> None:\n",
        "        self._ara = f\"{self.ad} {self.soyad}\"  # \"_ara\" özelliği \"ad\" ve \"soyad\" özelliklerinin birleşiminden oluşturulur\n",
        "        \n",
        "def main() -> None:\n",
        "    # \"Deneme\" sınıfından bir örnek oluşturulur\n",
        "    d1 = Deneme(ad=\"Ali\", soyad=\"Bursalı\")\n",
        "    \n",
        "    # Oluşturulan örnek ekrana yazdırılır\n",
        "    print(d1)\n",
        "\n",
        "if __name__ == \"__main__\":\n",
        "    main()"
      ]
    },
    {
      "cell_type": "code",
      "execution_count": null,
      "id": "b869b4c0",
      "metadata": {
        "id": "b869b4c0",
        "outputId": "cec8523c-be40-47fd-8feb-94e53d372814"
      },
      "outputs": [
        {
          "name": "stdout",
          "output_type": "stream",
          "text": [
            "Deneme(ad='Ali', soyad='Bursalı', durum=True, listeler=[], sayac=0.0019055482659819933)\n"
          ]
        }
      ],
      "source": [
        "from dataclasses import dataclass, field\n",
        "import random\n",
        "@dataclass\n",
        "class Deneme:\n",
        "    ad:str\n",
        "    soyad:str\n",
        "    durum:bool = True #default value\n",
        "    #listeler: list[str] = [] problematic for every new instance new list\n",
        "    listeler: list[str] = field(default_factory=list)\n",
        "    sayac: int = field(init=False, default_factory=random.random)\n",
        "    _ara: str = field(init=False, repr=False) #internal usage\n",
        "    \n",
        "    def __post_init__(self)->None:\n",
        "        self._ara=f\"{self.ad} {self.soyad}\"\n",
        "        \n",
        "def main() -> None:\n",
        "    d1=Deneme(ad=\"Ali\", soyad=\"Bursalı\")\n",
        "    print(d1)\n",
        "\n",
        "if __name__==\"__main__\":\n",
        "    main()"
      ]
    },
    {
      "cell_type": "code",
      "execution_count": null,
      "id": "ab7aa406",
      "metadata": {
        "id": "ab7aa406",
        "outputId": "54c65e12-1c97-43a6-a26f-44d0ccbb77f1"
      },
      "outputs": [
        {
          "name": "stdout",
          "output_type": "stream",
          "text": [
            "Deneme(ad='Ali', soyad='Bursalı', durum=True, listeler=[], sayac=0.8996440586690976)\n"
          ]
        }
      ],
      "source": [
        "from dataclasses import dataclass, field\n",
        "import random\n",
        "@dataclass (frozen=True)\n",
        "class Deneme:\n",
        "    ad:str\n",
        "    soyad:str\n",
        "    durum:bool = True #default value\n",
        "    #listeler: list[str] = [] problematic for every new instance new list\n",
        "    listeler: list[str] = field(default_factory=list)\n",
        "    sayac: int = field(init=False, default_factory=random.random)\n",
        "    _ara: str = field(init=False, repr=False) #internal usage\n",
        "    \n",
        "    def __post_init__(self)->None:\n",
        "        #self._ara=f\"{self.ad} {self.soyad}\"\n",
        "        pass\n",
        "def main() -> None:\n",
        "    d1=Deneme(ad=\"Ali\", soyad=\"Bursalı\")\n",
        "    print(d1)\n",
        "    \n",
        "if __name__==\"__main__\":\n",
        "    main()"
      ]
    },
    {
      "cell_type": "markdown",
      "id": "10effb9e",
      "metadata": {
        "id": "10effb9e"
      },
      "source": [
        "# 10.14 Docstring ve doctest ile Birim Testleri\n",
        "\n",
        "** Kolaylık sağlaması için bu notebook, accountdoctest.py dosyasının tamamını içermektedir, böylece onu değiştirebilir ve testleri yeniden çalıştırabilirsiniz. accountdoctest.py içeren hücreyi çalıştırdığınızda, doctestler çalışacaktır. **\n",
        "\n"
      ]
    },
    {
      "cell_type": "markdown",
      "id": "7d361257",
      "metadata": {
        "id": "7d361257"
      },
      "source": [
        "* Yazılım geliştirmenin önemli bir yönü, kodunuzun doğru çalıştığından emin olmak için onu test etmektir.\n",
        "* Kapsamlı bir test yapmış olsanız bile, kod hala hatalar içerebilir.\n",
        "* Ünlü Hollandalı bilgisayar bilimcisi Edsger Dijkstra'ya göre, \"Test etmek hataların yokluğunu değil, varlığını gösterir.\""
      ]
    },
    {
      "cell_type": "markdown",
      "id": "62b0840d",
      "metadata": {
        "id": "62b0840d"
      },
      "source": [
        "### Modül doctest ve testmod Fonksiyonu\n",
        "* doctest modülü, kodunuzu test etmenize ve değişiklikler yaptıktan sonra kolayca yeniden test etmenize yardımcı olur.\n",
        "* doctest modülünün testmod fonksiyonu çalıştırıldığında, fonksiyonlarınızın, metodlarınızın ve sınıflarınızın docstring'lerini inceler ve her biri >>> ile başlayan örnek Python ifadelerini arar. Her bir ifade bir sonraki satırda beklenen çıktıyı (varsa) belirtir.\n",
        "* testmod, bu ifadeleri çalıştırır ve beklenen çıktıyı üretip üretmediğini doğrular.\n",
        "* Eğer doğru çıktı üretilmezse, testmod hataları rapor eder ve hangi testlerin başarısız olduğunu belirtir, böylece kodunuzdaki sorunları bulup düzeltebilirsiniz.\n",
        "* Bir docstring içinde tanımladığınız her bir test, bir fonksiyon, bir metod veya bir sınıf gibi belirli bir kod birimini test eder.\n",
        "* Bu tür testlere birim testleri denir."
      ]
    },
    {
      "cell_type": "markdown",
      "id": "06054730",
      "metadata": {
        "id": "06054730"
      },
      "source": [
        "### Değiştirilmiş Account Sınıfı\n",
        "accountdoctest.py dosyası, bu bölümün ilk örneğindeki Account sınıfını içerir.\n",
        "* __init__ metodunun docstring'i dört test içerecek şekilde değiştirildi ve bu testler, metodun doğru çalıştığını sağlamak için kullanılabilir:\n",
        "    * İlk test, account1 adında bir örnek Account nesnesi oluşturur\n",
        "        * Bu ifade herhangi bir çıktı üretmez\n",
        "    * İkinci test, ilk test başarıyla gerçekleştirildiyse account1'in name özelliğinin değeri ne olması gerektiğini gösterir\n",
        "    * Üçüncü test, ilk test başarıyla gerçekleştirildiyse account1'in balance özelliğinin değeri ne olması gerektiğini gösterir\n",
        "    * Son test, geçersiz bir başlangıç bakiyesiyle bir Account nesnesi oluşturur\n",
        "        * Örnek çıktı, bu durumda bir ValueError istisnasının meydana gelmesi gerektiğini gösterir\n",
        "        * İstisnalar için, doctest modülünün belgeleri sadece takip zincirinin ilk ve son satırlarını göstermeyi önerir\n",
        "* Testlerinizi açıklayıcı metinlerle birleştirebilirsiniz."
      ]
    },
    {
      "cell_type": "code",
      "execution_count": null,
      "id": "9e48db45",
      "metadata": {
        "id": "9e48db45",
        "outputId": "cf30432f-fde3-4c67-9e8b-e44cf5c05889"
      },
      "outputs": [
        {
          "name": "stdout",
          "output_type": "stream",
          "text": [
            "Trying:\n",
            "    account1 = Account('John Green', Decimal('50.00'))\n",
            "Expecting nothing\n",
            "ok\n",
            "Trying:\n",
            "    account1.name\n",
            "Expecting:\n",
            "    'John Green'\n",
            "ok\n",
            "Trying:\n",
            "    account1.balance\n",
            "Expecting:\n",
            "    Decimal('50.00')\n",
            "ok\n",
            "Trying:\n",
            "    account2 = Account('John Green', Decimal('-50.00'))\n",
            "Expecting:\n",
            "    Traceback (most recent call last):\n",
            "        ...\n",
            "    ValueError: Initial balance must be >= to 0.00.\n",
            "ok\n",
            "71 items had no tests:\n",
            "    __main__\n",
            "    __main__.Account\n",
            "    __main__.Account.deposit\n",
            "    __main__.Card\n",
            "    __main__.CommissionEmployee\n",
            "    __main__.CommissionEmployee.__init__\n",
            "    __main__.CommissionEmployee.__repr__\n",
            "    __main__.CommissionEmployee.commission_rate\n",
            "    __main__.CommissionEmployee.earnings\n",
            "    __main__.CommissionEmployee.first_name\n",
            "    __main__.CommissionEmployee.gross_sales\n",
            "    __main__.CommissionEmployee.last_name\n",
            "    __main__.CommissionEmployee.ssn\n",
            "    __main__.Complex\n",
            "    __main__.Complex.__add__\n",
            "    __main__.Complex.__iadd__\n",
            "    __main__.Complex.__imul__\n",
            "    __main__.Complex.__init__\n",
            "    __main__.Complex.__isub__\n",
            "    __main__.Complex.__mul__\n",
            "    __main__.Complex.__repr__\n",
            "    __main__.Complex.__str__\n",
            "    __main__.Complex.__sub__\n",
            "    __main__.Demo\n",
            "    __main__.Demo.__eq__\n",
            "    __main__.Demo.__init__\n",
            "    __main__.Demo.__repr__\n",
            "    __main__.Deneme\n",
            "    __main__.Deneme.__delattr__\n",
            "    __main__.Deneme.__eq__\n",
            "    __main__.Deneme.__hash__\n",
            "    __main__.Deneme.__init__\n",
            "    __main__.Deneme.__post_init__\n",
            "    __main__.Deneme.__repr__\n",
            "    __main__.Deneme.__setattr__\n",
            "    __main__.InventoryItem\n",
            "    __main__.InventoryItem.__eq__\n",
            "    __main__.InventoryItem.__init__\n",
            "    __main__.InventoryItem.__repr__\n",
            "    __main__.InventoryItem.total_cost\n",
            "    __main__.Person\n",
            "    __main__.Person.__init__\n",
            "    __main__.Person.fonk\n",
            "    __main__.Person.fonk2\n",
            "    __main__.Person.yaz\n",
            "    __main__.PrivateClass\n",
            "    __main__.PrivateClass.__init__\n",
            "    __main__.SalariedCommissionEmployee\n",
            "    __main__.SalariedCommissionEmployee.__init__\n",
            "    __main__.SalariedCommissionEmployee.__repr__\n",
            "    __main__.SalariedCommissionEmployee.base_salary\n",
            "    __main__.SalariedCommissionEmployee.earnings\n",
            "    __main__.Sinif1\n",
            "    __main__.Sinif1.__init__\n",
            "    __main__.Sinif1.__repr__\n",
            "    __main__.Sinif1.__str__\n",
            "    __main__.Sinif2\n",
            "    __main__.Sinif2.__init__\n",
            "    __main__.Time\n",
            "    __main__.WellPaidDuck\n",
            "    __main__.WellPaidDuck.__repr__\n",
            "    __main__.WellPaidDuck.earnings\n",
            "    __main__._214\n",
            "    __main__._259\n",
            "    __main__.__imult__\n",
            "    __main__.__isub__\n",
            "    __main__.__sub__\n",
            "    __main__.imul\n",
            "    __main__.main\n",
            "    __main__.mul\n",
            "    __main__.print_variables\n",
            "1 items passed all tests:\n",
            "   4 tests in __main__.Account.__init__\n",
            "4 tests in 72 items.\n",
            "4 passed and 0 failed.\n",
            "Test passed.\n"
          ]
        }
      ],
      "source": [
        "# accountdoctest.py\n",
        "\"\"\"Account class definition.\"\"\"\n",
        "from decimal import Decimal\n",
        "\n",
        "class Account:\n",
        "    \"\"\"Account class for demonstrating doctest.\"\"\"\n",
        "    \n",
        "    def __init__(self, name, balance):\n",
        "        \"\"\"Initialize an Account object.\n",
        "        \n",
        "        >>> account1 = Account('John Green', Decimal('50.00'))\n",
        "        >>> account1.name\n",
        "        'John Green'\n",
        "        >>> account1.balance\n",
        "        Decimal('50.00')\n",
        "\n",
        "        The balance argument must be greater than or equal to 0.\n",
        "        >>> account2 = Account('John Green', Decimal('-50.00'))\n",
        "        Traceback (most recent call last):\n",
        "            ...\n",
        "        ValueError: Initial balance must be >= to 0.00.\n",
        "        \"\"\"\n",
        "\n",
        "        # if balance is less than 0.00, raise an exception\n",
        "        if balance < Decimal('0.00'):\n",
        "            raise ValueError('Initial balance must be >= to 0.00.')\n",
        "\n",
        "        self.name = name\n",
        "        self.balance = balance\n",
        "\n",
        "    def deposit(self, amount):\n",
        "        \"\"\"Deposit money to the account.\"\"\"\n",
        "\n",
        "        # if amount is less than 0.00, raise an exception\n",
        "        if amount < Decimal('0.00'):\n",
        "            raise ValueError('amount must be positive.')\n",
        "\n",
        "        self.balance += amount\n",
        "\n",
        "if __name__ == '__main__':\n",
        "    import doctest\n",
        "    doctest.testmod(verbose=True)\n"
      ]
    },
    {
      "cell_type": "markdown",
      "id": "0f0234ce",
      "metadata": {
        "id": "0f0234ce"
      },
      "source": [
        "### Module `__main__` \n",
        "* Herhangi bir modülü yüklediğinizde, Python modülün adını içeren bir dizeyi, modülün __name__ adlı global bir özniteliğine atar.\n",
        "* Bir Python kaynak dosyasını bir betik olarak çalıştırdığınızda, Python, modülün adı olarak '__main__' dizesini kullanır.\n",
        "* __name__'i bir if ifadesinde kullanarak, kaynak dosyasının yalnızca bir betik olarak çalıştırıldığında çalışması gereken kodu belirtebilirsiniz.\n",
        "    * doctest modülünü içe aktarır ve modülün testmod fonksiyonunu çağırarak docstring birim testlerini yürütürüz."
      ]
    },
    {
      "cell_type": "markdown",
      "id": "0576e74c",
      "metadata": {
        "id": "0576e74c"
      },
      "source": [
        "### Running Tests\n",
        "* Testleri yürütmek için accountdoctest.py dosyasını bir betik olarak çalıştırın.\n",
        "* Eğer testmod'u hiçbir argüman vermeden çağırırsanız, başarılı test sonuçlarını göstermez.\n",
        "* Bu örnekte, testmod'u verbose=True anahtar kelime argümanıyla çağırarak her testin sonuçlarını gösteririz.\n",
        "* Bir başarısız testi göstermek için, accountdoctest.py dosyasındaki 25-26. satırları başına # işareti ekleyerek yorum satırı yapın, ardından accountdoctest.py dosyasını bir betik olarak çalıştırın."
      ]
    },
    {
      "cell_type": "markdown",
      "id": "d8a6787e",
      "metadata": {
        "id": "d8a6787e"
      },
      "source": [
        "### IPython `%doctest_mode` Magic\n",
        "* Varolan kod için doctest oluşturmanın pratik bir yolu, kodunuzu test etmek için IPython etkileşimli bir oturum kullanmak ve bu oturumu bir docstring'e kopyalamak ve yapıştırmaktır.\n",
        "* IPython'in In [] ve Out [] işaretleri doctest ile uyumlu değildir, bu yüzden IPython, doğru doctest formatında işaretleri görüntülemek için %doctest_mode büyüsünü sağlar.\n",
        "    * İki işaret stili arasında geçiş yapar."
      ]
    },
    {
      "cell_type": "markdown",
      "id": "212ded9e",
      "metadata": {
        "id": "212ded9e"
      },
      "source": [
        "# 10.15 İsim Alanları ve Kapsamlar\n",
        "* Her tanımlayıcının, programınızda nerede kullanabileceğinizi belirleyen bir kapsamı vardır ve yerel ve global kapsamları tanıttık.\n",
        "* Kapsamlar, tanımlayıcıları nesnelerle ilişkilendiren ve sözlük olarak \"arka planda\" uygulanan isim alanları tarafından belirlenir.\n",
        "* İsim alanları birbirinden bağımsızdır.\n",
        "    * Aynı tanımlayıcı birden çok isim alanında görünebilir.\n",
        "* Üç temel isim alanı vardır: yerel, global ve yerleşik."
      ]
    },
    {
      "cell_type": "markdown",
      "id": "3df8292e",
      "metadata": {
        "id": "3df8292e"
      },
      "source": [
        "### Yerel İsim Alanı\n",
        "* Her fonksiyonun ve metodun bir yerel isim alanı vardır ve yerel tanımlayıcıları (parametreler ve yerel değişkenler) nesnelerle ilişkilendirir.\n",
        "* Yerel isim alanı, fonksiyon veya metod çağrıldığı anda oluşur ve sonlandığı ana kadar var olur, yalnızca o fonksiyon veya metoda erişilebilir.\n",
        "* Bir fonksiyonun veya metodun bloğunda, mevcut olmayan bir değişkene atama yapmak, yerel bir değişken oluşturur ve yerel isim alanına ekler.\n",
        "* Yerel isim alanındaki tanımlayıcılar, onları tanımladığınız noktadan fonksiyon veya metodun sonlandığı ana kadar geçerli kapsamdadır."
      ]
    },
    {
      "cell_type": "markdown",
      "id": "e52d4bf9",
      "metadata": {
        "id": "e52d4bf9"
      },
      "source": [
        "### Global İsim Alanı (Global Namespace)\n",
        "* Her modülün bir global isim alanı vardır ve bir modülün global tanımlayıcılarını (global değişkenler, fonksiyon adları ve sınıf adları gibi) nesnelerle ilişkilendirir.\n",
        "* Python, modülü yüklediğinde modülün global isim alanını oluşturur.\n",
        "* Modülün global isim alanı ve tanımlayıcıları, programın (veya etkileşimli oturumun) sona erdiği ana kadar o modüldeki kod için geçerli kapsamdadır.\n",
        "* Bir IPython oturumu, bu oturumda oluşturduğunuz tüm tanımlayıcılar için kendi global isim alanına sahiptir.\n",
        "* Her modülün global isim alanı ayrıca modülün adını içeren bir tanımlayıcı olan __name__ adlı bir tanımlayıcı içerir. Örneğin, math modülü için 'math' veya random modülü için 'random' gibi."
      ]
    },
    {
      "cell_type": "markdown",
      "id": "35ed6022",
      "metadata": {
        "id": "35ed6022"
      },
      "source": [
        "### Yerleşik İsim Alanı (Built-In Namespace)\n",
        "* Python'ın yerleşik işlevlerini (örneğin, input ve range) ve tiplerini (örneğin, int, float ve str) tanımlayan nesneleriyle ilişkilendiren tanımlayıcıları içerir.\n",
        "* Python yorumlayıcısı çalışmaya başladığında yerleşik isim alanını oluşturur.\n",
        "* Yerleşik isim alanının tanımlayıcıları, programın (veya etkileşimli oturumun) sona erdiği ana kadar tüm kod için geçerli kapsamda kalır"
      ]
    },
    {
      "cell_type": "markdown",
      "id": "1dcd5f97",
      "metadata": {
        "id": "1dcd5f97"
      },
      "source": [
        "### İsim Alanlarında Tanımlayıcıları Bulma (Finding Identifiers in Namespaces)\n",
        "* Bir tanımlayıcı kullandığınızda, Python o tanımlayıcıyı şu anda erişilebilir olan isim alanlarında arar ve sırasıyla yerel, global ve yerleşik olarak ilerler."
      ]
    },
    {
      "cell_type": "code",
      "execution_count": null,
      "id": "6aad2eef",
      "metadata": {
        "id": "6aad2eef"
      },
      "outputs": [],
      "source": [
        "z = 'global z'"
      ]
    },
    {
      "cell_type": "code",
      "execution_count": null,
      "id": "bb53b336",
      "metadata": {
        "id": "bb53b336"
      },
      "outputs": [],
      "source": [
        "del y"
      ]
    },
    {
      "cell_type": "code",
      "execution_count": null,
      "id": "93b8918f",
      "metadata": {
        "id": "93b8918f"
      },
      "outputs": [],
      "source": [
        "\n",
        "def print_variables():\n",
        "    y = 'local y in print_variables'\n",
        "    print(y)\n",
        "    print(z)"
      ]
    },
    {
      "cell_type": "code",
      "execution_count": null,
      "id": "51eb58b3",
      "metadata": {
        "id": "51eb58b3",
        "outputId": "823a47ed-a4c1-4728-fbf6-6ecf04c470f1"
      },
      "outputs": [
        {
          "name": "stdout",
          "output_type": "stream",
          "text": [
            "local y in print_variables\n",
            "global z\n"
          ]
        }
      ],
      "source": [
        "print_variables()"
      ]
    },
    {
      "cell_type": "markdown",
      "id": "4d7c7c82",
      "metadata": {
        "id": "4d7c7c82"
      },
      "source": [
        "* Snippet [3] print_variables çağırıldığında, Python aşağıdaki şekilde yerel, global ve yerleşik isim alanlarında arama yapar:\n",
        "    * Snippet [3] bir fonksiyon veya metodun içinde değil, bu yüzden oturumun global isim alanı ve yerleşik isim alanı şu anda erişilebilir durumdadır\n",
        "        * Python önce oturumun global isim alanında print_variables'ı arar\n",
        "        * print_variables, kapsam içinde olduğu için, Python ilgili nesneyi kullanarak print_variables'ı çağırır\n",
        "    * print_variables çalışmaya başladığında, Python fonksiyonun yerel isim alanını oluşturur\n",
        "        * print_variables fonksiyonu, yerel değişken y'yi tanımladığında, Python y'yi fonksiyonun yerel isim alanına ekler\n",
        "        * Değişken y artık fonksiyon sona erene kadar kapsam içinde kalır.\n",
        "    * Ardından, print_variables, y'yi argüman olarak geçirerek yerleşik fonksiyon print'i çağırır\n",
        "        * Bu çağrıyı gerçekleştirmek için, Python y ve print tanımlayıcılarını çözmeli.\n",
        "        * y tanımlayıcısı yerel isim alanında tanımlanmış olduğundan kapsam içindedir ve Python print'in argümanı olarak ilgili nesneyi kullanacak\n",
        "        * Fonksiyonu çağırmak için, Python print'in ilgili nesnesini bulmalı\n",
        "        * Python, yerel isim alanında printi bulamaz\n",
        "        * Sonra Python, oturumun global isim alanına bakar ve printi bulamaz\n",
        "        * Son olarak, Python, yerleşik isim alanına bakar ve printi bulur\n",
        "        * print, kapsam içinde olduğu için, Python ilgili nesneyi kullanarak print'i çağırır\n",
        "    * Ardından, print_variables, yerleşik fonksiyon print'i tekrar z argümanı ile çağırır, ancak z yerel isim alanında tanımlanmamıştır\n",
        "        * Python, global isim alanına bakar\n",
        "        * z argümanı, global isim alanında tanımlı olduğundan, z kapsam içindedir ve Python print'in argümanı olarak ilgili nesneyi kullanır\n",
        "* Bu noktada, print_variables fonksiyonunun suite'inin sonuna ulaşırız, bu yüzden fonksiyon sona erer ve yerel isim alanı artık mevcut değildir, bu da yerel deği"
      ]
    },
    {
      "cell_type": "code",
      "execution_count": null,
      "id": "c3b9fc04",
      "metadata": {
        "id": "c3b9fc04",
        "outputId": "9ee273d1-430f-42b2-a114-03ba4cf2f946"
      },
      "outputs": [
        {
          "ename": "NameError",
          "evalue": "name 'y' is not defined",
          "output_type": "error",
          "traceback": [
            "\u001b[1;31m---------------------------------------------------------------------------\u001b[0m",
            "\u001b[1;31mNameError\u001b[0m                                 Traceback (most recent call last)",
            "\u001b[1;32m~\\AppData\\Local\\Temp\\ipykernel_9484\\3563912222.py\u001b[0m in \u001b[0;36m<module>\u001b[1;34m\u001b[0m\n\u001b[1;32m----> 1\u001b[1;33m \u001b[0my\u001b[0m\u001b[1;33m\u001b[0m\u001b[1;33m\u001b[0m\u001b[0m\n\u001b[0m",
            "\u001b[1;31mNameError\u001b[0m: name 'y' is not defined"
          ]
        }
      ],
      "source": [
        "y"
      ]
    },
    {
      "cell_type": "markdown",
      "id": "2609aeee",
      "metadata": {
        "id": "2609aeee"
      },
      "source": [
        "* Bir yerel isim alanı olmadığı için Python, y'yi oturumun global isim alanında arar\n",
        "* Tanımlayıcı y orada tanımlanmamıştır, bu yüzden Python, y'yi yerleşik isim alanında arar\n",
        "* Tekrar Python, y'yi bulamaz\n",
        "* Python, y tanımlı değil hatası (NameError) döner.\n",
        "* print_variables ve z tanımlayıcıları hala oturumun global isim alanında var olduğu için bunları kullanmaya devam edebiliriz."
      ]
    },
    {
      "cell_type": "markdown",
      "id": "8bd13c42",
      "metadata": {
        "id": "8bd13c42"
      },
      "source": [
        "### İç İçe Fonksiyonlar (Nested Functions)\n",
        "* Ayrıca bir ** kapsayan isim alanı ** da bulunur. (**enclosing namespace**)\n",
        "* Python size diğer fonksiyonların veya metodların içinde iç içe fonksiyonlar tanımlamanıza izin verir.\n",
        "* İç içe bir fonksiyon içinde bir tanımlayıcıya eriştiğinizde, Python önce iç içe fonksiyonun yerel isim alanını, ardından kapsayan fonksiyonun isim alanını, sonra global isim alanını ve son olarak yerleşik isim alanını arar.\n",
        "* Bu bazen LEGB (local, enclosing, global, built-in) kuralı olarak adlandırılır."
      ]
    },
    {
      "cell_type": "markdown",
      "id": "629559ff",
      "metadata": {
        "id": "629559ff"
      },
      "source": [
        "### Sınıf İsim Alanı (Class Namespace)\n",
        "* Bir sınıfın, sınıf niteliklerinin depolandığı bir isim alanı vardır.\n",
        "* Bir sınıf niteliğine eriştiğinizde, Python önce o niteliği sınıfın isim alanında arar, ardından temel sınıfın isim alanında ve bu şekilde devam eder, ya niteliği bulur ya da object sınıfına ulaşır.\n",
        "* Nitelik bulunamazsa, bir NameError hatası oluşur."
      ]
    },
    {
      "cell_type": "markdown",
      "id": "c5b64523",
      "metadata": {
        "id": "c5b64523"
      },
      "source": [
        "### Nesne İsim Alanı (Object Namespace)\n",
        "* Her nesnenin, nesnenin yöntemlerini ve veri niteliklerini içeren kendi bir isim alanı vardır.\n",
        "* Sınıfın __init__ yöntemi boş bir nesne (self) ile başlar ve her niteliği nesnenin isim alanına ekler.\n",
        "* Bir nesnenin isim alanında bir niteliği tanımladıktan sonra, nesneyi kullanan istemciler niteliğin değerine erişebilir."
      ]
    },
    {
      "cell_type": "markdown",
      "id": "05c1d9ee",
      "metadata": {
        "id": "05c1d9ee"
      },
      "source": [
        "# 10.16 Intro to Data Science: Time Series and Simple Linear Regression \n",
        "* Zaman serisi: Zaman noktalarıyla ilişkilendirilmiş değerlerin (gözlemler) dizileridir.\n",
        "    * Günlük kapanış hisse senedi fiyatları\n",
        "    * Saatlik sıcaklık ölçümleri\n",
        "    * Uçak uçuşundaki konum değişiklikleri\n",
        "    * Yıllık ürün verimleri\n",
        "    * Dönemsel şirket karları\n",
        "    * Dünya çapındaki Twitter kullanıcılarının zaman damgalı tweetleri\n",
        "* Basit doğrusal regresyon kullanarak zaman serisi verilerinden tahminler yapacağız."
      ]
    },
    {
      "cell_type": "markdown",
      "id": "b07d2b19",
      "metadata": {
        "id": "b07d2b19"
      },
      "source": [
        "### Zaman Serisi (Time Series)\n",
        "* Tek değişkenli zaman serisi: Her bir zaman noktası için bir gözlem içerir.\n",
        "* Çok değişkenli zaman serisi: Her bir zaman noktası için iki veya daha fazla gözlem içerir.\n",
        "Zaman serisiyle genellikle yapılan iki işlem şunlardır:\n",
        "    * Zaman serisi analizi, mevcut zaman serisi verilerine desenler (örneğin mevsimsellik) bakarak veri analistlerinin veriyi anlamalarına yardımcı olur.\n",
        "    * Zaman serisi tahmini, geçmiş verileri kullanarak geleceği tahmin etmek için yapılır.\n",
        "* Biz zaman serisi tahmini gerçekleştireceğiz."
      ]
    },
    {
      "cell_type": "markdown",
      "id": "3ab626f4",
      "metadata": {
        "id": "3ab626f4"
      },
      "source": [
        "### Basit Doğrusal Regresyon (Simple Linear Regression)\n",
        "* Bağımsız bir değişkeni (ay/yıl kombinasyonunu) ve bağımlı bir değişkeni (o ay/yıl için ortalama yüksek sıcaklık) temsil eden bir değer koleksiyonu verildiğinde, basit doğrusal regresyon bu değişkenler arasındaki ilişkiyi bir doğru çizgisi olarak tanımlar, bu doğruya regresyon doğrusu denir."
      ]
    },
    {
      "cell_type": "markdown",
      "id": "6bfcb72b",
      "metadata": {
        "id": "6bfcb72b"
      },
      "source": [
        "### Linear Relationships\n",
        "* Given a Fahrenheit temperature, we can calculate the corresponding Celsius temperature using:\n",
        ">```python\n",
        "c = 5 / 9 * (f - 32)\n",
        "```\n",
        "* `f` (the Fahrenheit temperature) is the _independent variable_\n",
        "* `c` (the Celsius temperature) is the _dependent variable_\n",
        "* Each value of `c` _depends on_ the value of `f` used in the calculation"
      ]
    },
    {
      "cell_type": "markdown",
      "id": "9d206c13",
      "metadata": {
        "id": "9d206c13"
      },
      "source": [
        "### Linear Relationships (cont.)\n",
        "* Plotting Fahrenheit temperatures and their corresponding Celsius temperatures produces a straight line"
      ]
    },
    {
      "cell_type": "markdown",
      "id": "5951832a",
      "metadata": {
        "id": "5951832a"
      },
      "source": [
        "# enable high-res images in notebook \n",
        "%config InlineBackend.figure_format = 'retina'\n",
        "%matplotlib inline\n",
        "c = lambda f: 5 / 9 * (f - 32)"
      ]
    },
    {
      "cell_type": "code",
      "execution_count": null,
      "id": "a2503739",
      "metadata": {
        "id": "a2503739",
        "outputId": "0009c42e-8337-47ae-9d5c-ed487fd64d02"
      },
      "outputs": [
        {
          "ename": "TypeError",
          "evalue": "'CommissionEmployee' object is not callable",
          "output_type": "error",
          "traceback": [
            "\u001b[1;31m---------------------------------------------------------------------------\u001b[0m",
            "\u001b[1;31mTypeError\u001b[0m                                 Traceback (most recent call last)",
            "\u001b[1;32m~\\AppData\\Local\\Temp\\ipykernel_9484\\1286481937.py\u001b[0m in \u001b[0;36m<module>\u001b[1;34m\u001b[0m\n\u001b[1;32m----> 1\u001b[1;33m \u001b[0mtemps\u001b[0m \u001b[1;33m=\u001b[0m \u001b[1;33m[\u001b[0m\u001b[1;33m(\u001b[0m\u001b[0mf\u001b[0m\u001b[1;33m,\u001b[0m \u001b[0mc\u001b[0m\u001b[1;33m(\u001b[0m\u001b[0mf\u001b[0m\u001b[1;33m)\u001b[0m\u001b[1;33m)\u001b[0m \u001b[1;32mfor\u001b[0m \u001b[0mf\u001b[0m \u001b[1;32min\u001b[0m \u001b[0mrange\u001b[0m\u001b[1;33m(\u001b[0m\u001b[1;36m0\u001b[0m\u001b[1;33m,\u001b[0m \u001b[1;36m101\u001b[0m\u001b[1;33m,\u001b[0m \u001b[1;36m10\u001b[0m\u001b[1;33m)\u001b[0m\u001b[1;33m]\u001b[0m\u001b[1;33m\u001b[0m\u001b[1;33m\u001b[0m\u001b[0m\n\u001b[0m",
            "\u001b[1;32m~\\AppData\\Local\\Temp\\ipykernel_9484\\1286481937.py\u001b[0m in \u001b[0;36m<listcomp>\u001b[1;34m(.0)\u001b[0m\n\u001b[1;32m----> 1\u001b[1;33m \u001b[0mtemps\u001b[0m \u001b[1;33m=\u001b[0m \u001b[1;33m[\u001b[0m\u001b[1;33m(\u001b[0m\u001b[0mf\u001b[0m\u001b[1;33m,\u001b[0m \u001b[0mc\u001b[0m\u001b[1;33m(\u001b[0m\u001b[0mf\u001b[0m\u001b[1;33m)\u001b[0m\u001b[1;33m)\u001b[0m \u001b[1;32mfor\u001b[0m \u001b[0mf\u001b[0m \u001b[1;32min\u001b[0m \u001b[0mrange\u001b[0m\u001b[1;33m(\u001b[0m\u001b[1;36m0\u001b[0m\u001b[1;33m,\u001b[0m \u001b[1;36m101\u001b[0m\u001b[1;33m,\u001b[0m \u001b[1;36m10\u001b[0m\u001b[1;33m)\u001b[0m\u001b[1;33m]\u001b[0m\u001b[1;33m\u001b[0m\u001b[1;33m\u001b[0m\u001b[0m\n\u001b[0m",
            "\u001b[1;31mTypeError\u001b[0m: 'CommissionEmployee' object is not callable"
          ]
        }
      ],
      "source": [
        "temps = [(f, c(f)) for f in range(0, 101, 10)]"
      ]
    },
    {
      "cell_type": "code",
      "execution_count": null,
      "id": "64980d6f",
      "metadata": {
        "id": "64980d6f",
        "outputId": "24a0aa63-0db1-48aa-a869-6a8b6712e8fb"
      },
      "outputs": [
        {
          "data": {
            "text/plain": [
              "[(0, -17.77777777777778),\n",
              " (10, -12.222222222222223),\n",
              " (20, -6.666666666666667),\n",
              " (30, -1.1111111111111112),\n",
              " (40, 4.444444444444445),\n",
              " (50, 10.0),\n",
              " (60, 15.555555555555557),\n",
              " (70, 21.11111111111111),\n",
              " (80, 26.666666666666668),\n",
              " (90, 32.22222222222222),\n",
              " (100, 37.77777777777778)]"
            ]
          },
          "execution_count": 476,
          "metadata": {},
          "output_type": "execute_result"
        }
      ],
      "source": [
        "temps"
      ]
    },
    {
      "cell_type": "markdown",
      "id": "c4ef0310",
      "metadata": {
        "id": "c4ef0310"
      },
      "source": [
        "* Verileri bir DataFrame içine yerleştirin, ardından plot yöntemini kullanarak sıcaklıklar arasındaki doğrusal ilişkiyi gösterin\n",
        "* style kelime argümanı verilerin görünümünü kontrol eder\n",
        "    * '.-', her noktanın nokta olarak görünmesi ve noktaların birleşik çizgilerle birleştirilmesi gerektiğini gösterir"
      ]
    },
    {
      "cell_type": "code",
      "execution_count": null,
      "id": "8d7410f6",
      "metadata": {
        "id": "8d7410f6"
      },
      "outputs": [],
      "source": [
        "import pandas as pd"
      ]
    },
    {
      "cell_type": "code",
      "execution_count": null,
      "id": "8bbd6b6e",
      "metadata": {
        "id": "8bbd6b6e"
      },
      "outputs": [],
      "source": [
        "temps_df = pd.DataFrame(temps, columns=['Fahrenheit', 'Celsius'])"
      ]
    },
    {
      "cell_type": "code",
      "execution_count": null,
      "id": "b034bb07",
      "metadata": {
        "id": "b034bb07",
        "outputId": "c543c4e8-73ec-45dd-bbbf-f8a9a04eca35"
      },
      "outputs": [
        {
          "data": {
            "image/png": "[encoded data removed]",
            "text/plain": [
              "<Figure size 640x480 with 1 Axes>"
            ]
          },
          "metadata": {
            "image/png": {
              "height": 435,
              "width": 574
            }
          },
          "output_type": "display_data"
        }
      ],
      "source": [
        "axes = temps_df.plot(x='Fahrenheit', y='Celsius', style='.-')\n",
        "y_label = axes.set_ylabel('Celsius')"
      ]
    },
    {
      "cell_type": "markdown",
      "id": "707803b6",
      "metadata": {
        "id": "707803b6"
      },
      "source": [
        "### Basit Doğrusal Regresyon Denklemi Bileşenleri\n",
        "Herhangi bir düz çizginin noktaları aşağıdaki şekilde hesaplanabilir:\n",
        "\n",
        "\\begin{equation}\n",
        "y = m x + b\n",
        "\\end{equation}\n",
        "\n",
        "* m, çizginin **eğimi**dir,\n",
        "* b, çizginin y-ekseniyle olan kesişimidır (x = 0'da), \n",
        "* x, bağımsız değişkenidir (bu örnekte tarih),\n",
        "* y, bağımlı değişkenidir (bu örnekte sıcaklık),\n",
        "* Basit doğrusal regresyonda, verilen bir x için y tahmin edilen değerdir."
      ]
    },
    {
      "cell_type": "markdown",
      "id": "2a50da21",
      "metadata": {
        "id": "2a50da21"
      },
      "source": [
        "### SciPy'nin stats Modülündeki linregress Fonksiyonu\n",
        "* Basit doğrusal regresyon, verilerinize en iyi uyan bir doğru çizgide eğimi (m) ve kesişimi (b) belirler\n",
        "* Aşağıdaki diyagram, bu bölümde işleyeceğimiz zaman serisi verilerinin birkaç noktasını ve buna karşılık gelen regresyon doğrusunu göstermektedir\n",
        "    * Her bir veri noktasının regresyon doğrusundan olan uzaklığını göstermek için dikey çizgiler ekledik"
      ]
    },
    {
      "cell_type": "markdown",
      "id": "cc83ff67",
      "metadata": {
        "id": "cc83ff67"
      },
      "source": [
        "### SciPy'nin stats Modülündeki linregress Fonksiyonu (cont.)\n",
        "* Basit doğrusal regresyon algoritması, eğimi ve kesişimi iteratif olarak ayarlar ve her bir ayarlamada, her bir noktanın doğrudan olan uzaklığının karesini hesaplar\n",
        "* \"En iyi uyum\" gerçekleşirken, eğim ve kesişim değerleri bu kareli uzaklıkların toplamını en aza indirir\n",
        "    * en küçük kareler yöntemi hesaplaması\n",
        "* SciPy (Scientific Python), Python'da mühendislik, bilim ve matematik için yaygın olarak kullanılan bir kütüphanedir\n",
        "    * linregress fonksiyonu (scipy.stats modülünden) basit doğrusal regresyonu sizin için gerçekleştirir\n",
        "\n",
        "\n",
        "\n",
        "\n",
        "\n"
      ]
    },
    {
      "cell_type": "markdown",
      "id": "88023880",
      "metadata": {
        "id": "88023880"
      },
      "source": [
        "### Getting Weather Data from NOAA\n",
        "* The National Oceanic and Atmospheric Administration (NOAA) offers public historical data including time series for average high temperatures in specific cities over various time intervals\n",
        "* Obtained the January average high temperatures for New York City from 1895 through 2018 from NOAA’s “Climate at a Glance” time series at: \n",
        "> https://www.ncdc.noaa.gov/cag/\n",
        "* `ave_hi_nyc_jan_1895-2018.csv` in the `ch10` examples folder\n",
        "* Three columns per observation:\n",
        "    * `Date`—A value of the form `'YYYYMM’` (such as `'201801'`). `MM` is always `01` because we downloaded data for only January of each year. \n",
        "    * `Value`—A floating-point Fahrenheit temperature.\n",
        "    * `Anomaly`—The difference between the value for the given date and average values for all dates (not used in this example)\n",
        "\n",
        "\n",
        "    \n",
        "### NOAA'dan Hava Verisi Almak\n",
        "* National Oceanic and Atmospheric Administration (NOAA), belirli şehirler için farklı zaman aralıklarında ortalama yüksek sıcaklık zaman serilerini içeren halka açık tarihsel veriler sunar.\n",
        "* NOAA'nın \"Climate at a Glance\" zaman serisinden 1895'ten 2018'e kadar olan Ocak ayı ortalama yüksek sıcaklıkları için New York City verilerini aldık.\n",
        "* https://www.ncdc.noaa.gov/cag/\n",
        "\n",
        "* ave_hi_nyc_jan_1895-2018.csv adlı dosya, ch10 örnekler klasöründe bulunmaktadır.\n",
        "* Her bir gözlem için üç sütun bulunur:\n",
        "* Date - 'YYYYMM' formatında bir değer (örneğin '201801'). MM, yalnızca Ocak ayı için verileri indirdiğimiz için her zaman 01'dir.\n",
        "* Value - Ondalık noktalı Fahrenheit sıcaklık.\n",
        "* Anomaly - Verilen tarih için değerin tüm tarihler için ortalama değerlerden farkı (bu örnekte kullanılmamaktadır)."
      ]
    },
    {
      "cell_type": "markdown",
      "id": "60997366",
      "metadata": {
        "id": "60997366"
      },
      "source": [
        "### Loading the Average High Temperatures into a `DataFrame` "
      ]
    },
    {
      "cell_type": "code",
      "execution_count": null,
      "id": "3b9e93f0",
      "metadata": {
        "id": "3b9e93f0"
      },
      "outputs": [],
      "source": []
    }
  ],
  "metadata": {
    "kernelspec": {
      "display_name": "Python 3 (ipykernel)",
      "language": "python",
      "name": "python3"
    },
    "language_info": {
      "codemirror_mode": {
        "name": "ipython",
        "version": 3
      },
      "file_extension": ".py",
      "mimetype": "text/x-python",
      "name": "python",
      "nbconvert_exporter": "python",
      "pygments_lexer": "ipython3",
      "version": "3.9.13"
    },
    "colab": {
      "provenance": []
    }
  },
  "nbformat": 4,
  "nbformat_minor": 5
}