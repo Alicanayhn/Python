{
  "cells": [
    {
      "cell_type": "code",
      "execution_count": null,
      "id": "06d2a2ea",
      "metadata": {
        "colab": {
          "base_uri": "https://localhost:8080/",
          "height": 36
        },
        "id": "06d2a2ea",
        "outputId": "c6952960-2e45-44e2-d030-37ca606031c5"
      },
      "outputs": [
        {
          "output_type": "execute_result",
          "data": {
            "text/plain": [
              "'str+16.12'"
            ],
            "application/vnd.google.colaboratory.intrinsic+json": {
              "type": "string"
            }
          },
          "metadata": {},
          "execution_count": 95
        }
      ],
      "source": [
        "f'str+{16.123:.2f}'"
      ]
    },
    {
      "cell_type": "code",
      "execution_count": null,
      "id": "86df7cdb",
      "metadata": {
        "colab": {
          "base_uri": "https://localhost:8080/",
          "height": 36
        },
        "id": "86df7cdb",
        "outputId": "ffc7c32a-c544-41e9-f9ab-a212cbccbbf5"
      },
      "outputs": [
        {
          "output_type": "execute_result",
          "data": {
            "text/plain": [
              "'float_16.000000, int_16'"
            ],
            "application/vnd.google.colaboratory.intrinsic+json": {
              "type": "string"
            }
          },
          "metadata": {},
          "execution_count": 96
        }
      ],
      "source": [
        "f'float_{16:f}, int_{16:d}'"
      ]
    },
    {
      "cell_type": "code",
      "execution_count": null,
      "id": "c771bdb2",
      "metadata": {
        "colab": {
          "base_uri": "https://localhost:8080/",
          "height": 36
        },
        "id": "c771bdb2",
        "outputId": "e46a4de3-6e1b-4b74-acc8-4820adb81d28"
      },
      "outputs": [
        {
          "output_type": "execute_result",
          "data": {
            "text/plain": [
              "'A a'"
            ],
            "application/vnd.google.colaboratory.intrinsic+json": {
              "type": "string"
            }
          },
          "metadata": {},
          "execution_count": 97
        }
      ],
      "source": [
        "f'{65:c} {97:c}'"
      ]
    },
    {
      "cell_type": "code",
      "execution_count": null,
      "id": "6fc36c10",
      "metadata": {
        "colab": {
          "base_uri": "https://localhost:8080/"
        },
        "id": "6fc36c10",
        "outputId": "5089c99f-0c39-428d-a851-31cae6021cf9"
      },
      "outputs": [
        {
          "output_type": "execute_result",
          "data": {
            "text/plain": [
              "51"
            ]
          },
          "metadata": {},
          "execution_count": 98
        }
      ],
      "source": [
        "ord('3')"
      ]
    },
    {
      "cell_type": "code",
      "execution_count": null,
      "id": "e8c1cc3f",
      "metadata": {
        "colab": {
          "base_uri": "https://localhost:8080/",
          "height": 36
        },
        "id": "e8c1cc3f",
        "outputId": "ce84f8f9-1a83-48fd-ec09-fb79d331b867"
      },
      "outputs": [
        {
          "output_type": "execute_result",
          "data": {
            "text/plain": [
              "'asc 7'"
            ],
            "application/vnd.google.colaboratory.intrinsic+json": {
              "type": "string"
            }
          },
          "metadata": {},
          "execution_count": 99
        }
      ],
      "source": [
        "f'{\"asc\":s} {7}'"
      ]
    },
    {
      "cell_type": "code",
      "execution_count": null,
      "id": "8c669e3f",
      "metadata": {
        "id": "8c669e3f"
      },
      "outputs": [],
      "source": [
        "from decimal import Decimal"
      ]
    },
    {
      "cell_type": "code",
      "execution_count": null,
      "id": "f3609d06",
      "metadata": {
        "colab": {
          "base_uri": "https://localhost:8080/",
          "height": 36
        },
        "id": "f3609d06",
        "outputId": "cc9ef45c-c43e-45db-e009-075f61cd53db"
      },
      "outputs": [
        {
          "output_type": "execute_result",
          "data": {
            "text/plain": [
              "'1000000000000000000.000'"
            ],
            "application/vnd.google.colaboratory.intrinsic+json": {
              "type": "string"
            }
          },
          "metadata": {},
          "execution_count": 101
        }
      ],
      "source": [
        "f'{Decimal(1000000000000000000.0):.3f}'"
      ]
    },
    {
      "cell_type": "code",
      "execution_count": null,
      "id": "2135f6dd",
      "metadata": {
        "colab": {
          "base_uri": "https://localhost:8080/",
          "height": 36
        },
        "id": "2135f6dd",
        "outputId": "cf80a048-b883-46bc-9492-3607b9b77916"
      },
      "outputs": [
        {
          "output_type": "execute_result",
          "data": {
            "text/plain": [
              "'1.00e+18'"
            ],
            "application/vnd.google.colaboratory.intrinsic+json": {
              "type": "string"
            }
          },
          "metadata": {},
          "execution_count": 102
        }
      ],
      "source": [
        "f'{Decimal(1000_000_000_000_000_000.0):.2e}'"
      ]
    },
    {
      "cell_type": "markdown",
      "id": "26426671",
      "metadata": {
        "id": "26426671"
      },
      "source": [
        "Field Widths and Alignment\n",
        "• Python right-aligns numbers and left-aligns other values.\n",
        "• Python formats float values with six digits of precision.\n"
      ]
    },
    {
      "cell_type": "code",
      "execution_count": null,
      "id": "bd5affd9",
      "metadata": {
        "colab": {
          "base_uri": "https://localhost:8080/",
          "height": 36
        },
        "id": "bd5affd9",
        "outputId": "ff422cf3-7198-4660-ea32-bd0d5d2a5aae"
      },
      "outputs": [
        {
          "output_type": "execute_result",
          "data": {
            "text/plain": [
              "'[hello     ]'"
            ],
            "application/vnd.google.colaboratory.intrinsic+json": {
              "type": "string"
            }
          },
          "metadata": {},
          "execution_count": 103
        }
      ],
      "source": [
        "f'[{\"hello\":10}]'#10 karakterlik alanın var  varsayılan sağa hızalı"
      ]
    },
    {
      "cell_type": "code",
      "execution_count": null,
      "id": "0256cd56",
      "metadata": {
        "colab": {
          "base_uri": "https://localhost:8080/",
          "height": 53
        },
        "id": "0256cd56",
        "outputId": "da37746d-5885-4cbe-9973-79ba5266bc10"
      },
      "outputs": [
        {
          "output_type": "stream",
          "name": "stdout",
          "text": [
            "[        27]\n"
          ]
        },
        {
          "output_type": "execute_result",
          "data": {
            "text/plain": [
              "'[  3.500000]'"
            ],
            "application/vnd.google.colaboratory.intrinsic+json": {
              "type": "string"
            }
          },
          "metadata": {},
          "execution_count": 104
        }
      ],
      "source": [
        "print(f'[{27:10d}]')\n",
        "f'[{3.5:10f}]'# '.' dahil 10 karakter belirtilmediği için defult olarak 6 sıfır yazılır"
      ]
    },
    {
      "cell_type": "markdown",
      "id": "1fc7c13b",
      "metadata": {
        "id": "1fc7c13b"
      },
      "source": [
        "Explicitly Specifying Left and Right Alignment in a Field\n",
        "• Can specify left and right alignment with < and >:\n"
      ]
    },
    {
      "cell_type": "code",
      "execution_count": null,
      "id": "8a0b7a87",
      "metadata": {
        "colab": {
          "base_uri": "https://localhost:8080/",
          "height": 53
        },
        "id": "8a0b7a87",
        "outputId": "c01a3410-f0c0-42f5-a27f-7d60212f6e18"
      },
      "outputs": [
        {
          "output_type": "stream",
          "name": "stdout",
          "text": [
            "[             27]\n"
          ]
        },
        {
          "output_type": "execute_result",
          "data": {
            "text/plain": [
              "'[27             ]'"
            ],
            "application/vnd.google.colaboratory.intrinsic+json": {
              "type": "string"
            }
          },
          "metadata": {},
          "execution_count": 105
        }
      ],
      "source": [
        "print(f'[{27: >15d}]')# hizalama yönü\n",
        "f'[{27: <15d}]'"
      ]
    },
    {
      "cell_type": "markdown",
      "id": "a35a1a7d",
      "metadata": {
        "id": "a35a1a7d"
      },
      "source": [
        "# Centering a Value in a Field\n",
        "\t• Centering attempts to spread the remaining unoccupied character positions equally to the left and right of the formatted\n",
        "\tvalue\n",
        "\t• Python places the extra space to the right if an odd number of character positions remain\n"
      ]
    },
    {
      "cell_type": "code",
      "execution_count": null,
      "id": "10ebd841",
      "metadata": {
        "colab": {
          "base_uri": "https://localhost:8080/",
          "height": 36
        },
        "id": "10ebd841",
        "outputId": "0a3a695a-10af-40e2-f3d8-9738afe833ec"
      },
      "outputs": [
        {
          "output_type": "execute_result",
          "data": {
            "text/plain": [
              "'[  27   ]'"
            ],
            "application/vnd.google.colaboratory.intrinsic+json": {
              "type": "string"
            }
          },
          "metadata": {},
          "execution_count": 106
        }
      ],
      "source": [
        "f'[{27:^7d}]'#ortaya koyma\n"
      ]
    },
    {
      "cell_type": "code",
      "execution_count": null,
      "id": "d9762908",
      "metadata": {
        "colab": {
          "base_uri": "https://localhost:8080/",
          "height": 36
        },
        "id": "d9762908",
        "outputId": "b6144626-15a6-4701-ca23-6fe41dc137d2"
      },
      "outputs": [
        {
          "output_type": "execute_result",
          "data": {
            "text/plain": [
              "'[3.500000]'"
            ],
            "application/vnd.google.colaboratory.intrinsic+json": {
              "type": "string"
            }
          },
          "metadata": {},
          "execution_count": 107
        }
      ],
      "source": [
        "f'[{3.5:^7f}]'"
      ]
    },
    {
      "cell_type": "code",
      "execution_count": null,
      "id": "531fddf5",
      "metadata": {
        "colab": {
          "base_uri": "https://localhost:8080/",
          "height": 36
        },
        "id": "531fddf5",
        "outputId": "f9198110-85ea-4cea-f3ea-d9b9c3b0734f"
      },
      "outputs": [
        {
          "output_type": "execute_result",
          "data": {
            "text/plain": [
              "'[ hello ]'"
            ],
            "application/vnd.google.colaboratory.intrinsic+json": {
              "type": "string"
            }
          },
          "metadata": {},
          "execution_count": 108
        }
      ],
      "source": [
        "f'[{\"hello\":^7}]'"
      ]
    },
    {
      "cell_type": "markdown",
      "id": "233cff12",
      "metadata": {
        "id": "233cff12"
      },
      "source": [
        "# Formatting Positive Numbers with Signs\n",
        "* A + before the field width specifies that a positive number should be preceded by a +\n",
        "* To fill the remaining characters of the field with es rather than spaces, place a e before the field width (and after the +if there is one)\n",
        "\n"
      ]
    },
    {
      "cell_type": "code",
      "execution_count": null,
      "id": "9e3b02e2",
      "metadata": {
        "colab": {
          "base_uri": "https://localhost:8080/",
          "height": 36
        },
        "id": "9e3b02e2",
        "outputId": "700ea959-a262-425e-c99b-3db712902439"
      },
      "outputs": [
        {
          "output_type": "execute_result",
          "data": {
            "text/plain": [
              "'[       +27]'"
            ],
            "application/vnd.google.colaboratory.intrinsic+json": {
              "type": "string"
            }
          },
          "metadata": {},
          "execution_count": 109
        }
      ],
      "source": [
        "f'[{27:+10d}]'"
      ]
    },
    {
      "cell_type": "code",
      "execution_count": null,
      "id": "bb3d811b",
      "metadata": {
        "colab": {
          "base_uri": "https://localhost:8080/",
          "height": 36
        },
        "id": "bb3d811b",
        "outputId": "ba7be50a-960c-4b9c-d53f-3c30d976617e"
      },
      "outputs": [
        {
          "output_type": "execute_result",
          "data": {
            "text/plain": [
              "'[+000000027]'"
            ],
            "application/vnd.google.colaboratory.intrinsic+json": {
              "type": "string"
            }
          },
          "metadata": {},
          "execution_count": 110
        }
      ],
      "source": [
        "f'[{27:+010d}]'"
      ]
    },
    {
      "cell_type": "markdown",
      "id": "1a83e51b",
      "metadata": {
        "id": "1a83e51b"
      },
      "source": [
        "# Using a Space Where a + Sign Would Appear in a Positive Value\n",
        "• A space indicates that positive numbers should show a space character in the sign position\n",
        "\n"
      ]
    },
    {
      "cell_type": "code",
      "execution_count": null,
      "id": "565ef3bc",
      "metadata": {
        "colab": {
          "base_uri": "https://localhost:8080/"
        },
        "id": "565ef3bc",
        "outputId": "1186bda0-cc25-463c-e63c-d4bdacaa2e52"
      },
      "outputs": [
        {
          "output_type": "stream",
          "name": "stdout",
          "text": [
            "27\n",
            " 27\n",
            " -27\n"
          ]
        }
      ],
      "source": [
        "print (f'{27:d}\\n{27: d}\\n {-27: d}')"
      ]
    },
    {
      "cell_type": "markdown",
      "id": "eeddcbbc",
      "metadata": {
        "id": "eeddcbbc"
      },
      "source": [
        "# Grouping Digits"
      ]
    },
    {
      "cell_type": "code",
      "execution_count": null,
      "id": "7139238c",
      "metadata": {
        "colab": {
          "base_uri": "https://localhost:8080/",
          "height": 36
        },
        "id": "7139238c",
        "outputId": "78d42ccb-de9c-4692-c5b0-e5e95510c0e0"
      },
      "outputs": [
        {
          "output_type": "execute_result",
          "data": {
            "text/plain": [
              "'123,345,678'"
            ],
            "application/vnd.google.colaboratory.intrinsic+json": {
              "type": "string"
            }
          },
          "metadata": {},
          "execution_count": 112
        }
      ],
      "source": [
        "f'{123345678:,d}'# ',' ile ayır ve integer tipinde yaz"
      ]
    },
    {
      "cell_type": "code",
      "execution_count": null,
      "id": "85e00ccb",
      "metadata": {
        "colab": {
          "base_uri": "https://localhost:8080/",
          "height": 36
        },
        "id": "85e00ccb",
        "outputId": "811dcf64-7e6c-4a6e-b7b8-80f37e710aaf"
      },
      "outputs": [
        {
          "output_type": "execute_result",
          "data": {
            "text/plain": [
              "'123,345,678.00'"
            ],
            "application/vnd.google.colaboratory.intrinsic+json": {
              "type": "string"
            }
          },
          "metadata": {},
          "execution_count": 113
        }
      ],
      "source": [
        "f'{123345678:,.2f}'#2 sıfır"
      ]
    },
    {
      "cell_type": "code",
      "execution_count": null,
      "id": "8132b48a",
      "metadata": {
        "id": "8132b48a"
      },
      "outputs": [],
      "source": []
    },
    {
      "cell_type": "markdown",
      "id": "f82e37f9",
      "metadata": {
        "id": "f82e37f9"
      },
      "source": [
        "# 8.2.4 String's format Method\n",
        "* f-strings were added to Python in version 3.6\n",
        "* Before that, formatting was performed with the string method format\n",
        "* f-string formatting is based on the format method's capabilities\n",
        "* Call method format on a format string containing curly brace ({}) placeholders, possibly with format specifiers\n",
        "* Pass to the method the values to be formatted\n",
        "* If there's a format specifier, precede it by a colon (:)\n"
      ]
    },
    {
      "cell_type": "code",
      "execution_count": null,
      "id": "fe943871",
      "metadata": {
        "colab": {
          "base_uri": "https://localhost:8080/",
          "height": 36
        },
        "id": "fe943871",
        "outputId": "b2d1dd21-bd67-4ec5-c88a-feeec1d15e13"
      },
      "outputs": [
        {
          "output_type": "execute_result",
          "data": {
            "text/plain": [
              "'17.49'"
            ],
            "application/vnd.google.colaboratory.intrinsic+json": {
              "type": "string"
            }
          },
          "metadata": {},
          "execution_count": 114
        }
      ],
      "source": [
        "'{:.2f}'.format(17.489)"
      ]
    },
    {
      "cell_type": "markdown",
      "id": "c3c4a44f",
      "metadata": {
        "id": "c3c4a44f"
      },
      "source": [
        "# Multiple Placeholders\n",
        "* format string may contain multiple placeholders\n",
        "* format method's arguments correspond to the placeholders from left to right\n"
      ]
    },
    {
      "cell_type": "code",
      "execution_count": null,
      "id": "1819e678",
      "metadata": {
        "colab": {
          "base_uri": "https://localhost:8080/",
          "height": 36
        },
        "id": "1819e678",
        "outputId": "041c8bc2-30a1-480f-fe84-646e7aaf6321"
      },
      "outputs": [
        {
          "output_type": "execute_result",
          "data": {
            "text/plain": [
              "'ad : cafer soyad : asi'"
            ],
            "application/vnd.google.colaboratory.intrinsic+json": {
              "type": "string"
            }
          },
          "metadata": {},
          "execution_count": 115
        }
      ],
      "source": [
        "'ad : {} soyad : {}'.format('cafer', 'asi')"
      ]
    },
    {
      "cell_type": "markdown",
      "id": "f0ad3f33",
      "metadata": {
        "id": "f0ad3f33"
      },
      "source": [
        "# Referencing Arguments By Position Number\n",
        "* Format string can reference specific arguments by their position in the format method's argument list"
      ]
    },
    {
      "cell_type": "code",
      "execution_count": null,
      "id": "c08b85e6",
      "metadata": {
        "colab": {
          "base_uri": "https://localhost:8080/",
          "height": 36
        },
        "id": "c08b85e6",
        "outputId": "1e3480cf-5282-41ab-8881-b9175c5dc87d"
      },
      "outputs": [
        {
          "output_type": "execute_result",
          "data": {
            "text/plain": [
              "'Happy Happy Birthday'"
            ],
            "application/vnd.google.colaboratory.intrinsic+json": {
              "type": "string"
            }
          },
          "metadata": {},
          "execution_count": 116
        }
      ],
      "source": [
        "'{0} {0} {1}'.format('Happy', 'Birthday')"
      ]
    },
    {
      "cell_type": "markdown",
      "id": "1995be1f",
      "metadata": {
        "id": "1995be1f"
      },
      "source": [
        "# Referencing Keyword Arguments\n",
        "* Can reference keyword arguments by their keys in the placeholders"
      ]
    },
    {
      "cell_type": "code",
      "execution_count": null,
      "id": "5c73f739",
      "metadata": {
        "colab": {
          "base_uri": "https://localhost:8080/",
          "height": 36
        },
        "id": "5c73f739",
        "outputId": "87577a23-fe3d-4ee8-d977-32f35dace6d4"
      },
      "outputs": [
        {
          "output_type": "execute_result",
          "data": {
            "text/plain": [
              "'Amanda Gray'"
            ],
            "application/vnd.google.colaboratory.intrinsic+json": {
              "type": "string"
            }
          },
          "metadata": {},
          "execution_count": 117
        }
      ],
      "source": [
        "'{first} {last}'.format(first='Amanda', last='Gray')"
      ]
    },
    {
      "cell_type": "code",
      "execution_count": null,
      "id": "164095b6",
      "metadata": {
        "colab": {
          "base_uri": "https://localhost:8080/",
          "height": 36
        },
        "id": "164095b6",
        "outputId": "8c410f71-be28-43a8-d926-d2a19bbc2ae2"
      },
      "outputs": [
        {
          "output_type": "execute_result",
          "data": {
            "text/plain": [
              "'Gray Amanda'"
            ],
            "application/vnd.google.colaboratory.intrinsic+json": {
              "type": "string"
            }
          },
          "metadata": {},
          "execution_count": 118
        }
      ],
      "source": [
        "'{last} {first}'.format(first='Amanda', last='Gray')"
      ]
    },
    {
      "cell_type": "code",
      "execution_count": null,
      "id": "6cd15494",
      "metadata": {
        "id": "6cd15494"
      },
      "outputs": [],
      "source": []
    },
    {
      "cell_type": "markdown",
      "id": "4dcaedf2",
      "metadata": {
        "id": "4dcaedf2"
      },
      "source": [
        "# 8.3 Concatenating and Repeating Strings\n",
        "* Previously, we used the operator to concatenate strings and the operator to repeat strings\n",
        "* Also can perform these operations with augmented assignments\n",
        "* Strings are immutable, so each operation assigns a new string object to the variable\n"
      ]
    },
    {
      "cell_type": "code",
      "execution_count": null,
      "id": "6fb92cf6",
      "metadata": {
        "id": "6fb92cf6"
      },
      "outputs": [],
      "source": [
        "s1 = 'happy'\n",
        "s2 = 'birthday'"
      ]
    },
    {
      "cell_type": "code",
      "execution_count": null,
      "id": "6e309e03",
      "metadata": {
        "id": "6e309e03"
      },
      "outputs": [],
      "source": [
        "s1 += '  '+s2"
      ]
    },
    {
      "cell_type": "code",
      "execution_count": null,
      "id": "fb59e238",
      "metadata": {
        "colab": {
          "base_uri": "https://localhost:8080/",
          "height": 36
        },
        "id": "fb59e238",
        "outputId": "da3b744c-cf34-48a9-a338-77c4c3aaa229"
      },
      "outputs": [
        {
          "output_type": "execute_result",
          "data": {
            "text/plain": [
              "'happy  birthday'"
            ],
            "application/vnd.google.colaboratory.intrinsic+json": {
              "type": "string"
            }
          },
          "metadata": {},
          "execution_count": 121
        }
      ],
      "source": [
        "s1"
      ]
    },
    {
      "cell_type": "code",
      "execution_count": null,
      "id": "4e77b644",
      "metadata": {
        "id": "4e77b644"
      },
      "outputs": [],
      "source": [
        "symbol = '>'\n",
        "symbol *= 5 "
      ]
    },
    {
      "cell_type": "code",
      "execution_count": null,
      "id": "b5115b73",
      "metadata": {
        "colab": {
          "base_uri": "https://localhost:8080/",
          "height": 36
        },
        "id": "b5115b73",
        "outputId": "3d29507c-2a9c-4e0c-8e42-308e6609d4b4"
      },
      "outputs": [
        {
          "output_type": "execute_result",
          "data": {
            "text/plain": [
              "'>>>>>'"
            ],
            "application/vnd.google.colaboratory.intrinsic+json": {
              "type": "string"
            }
          },
          "metadata": {},
          "execution_count": 123
        }
      ],
      "source": [
        "symbol"
      ]
    },
    {
      "cell_type": "markdown",
      "id": "01f48d84",
      "metadata": {
        "id": "01f48d84"
      },
      "source": [
        "# 8.4 Stripping Whitespace from Strings\n",
        "* Methods for removing whitespace from the ends of a string each return a new string\n",
        "Removing Leading and Trailing Whitespace\n",
        "* strip removes leading and trailing whitespace\n",
        "\n"
      ]
    },
    {
      "cell_type": "code",
      "execution_count": null,
      "id": "4704c7a5",
      "metadata": {
        "id": "4704c7a5"
      },
      "outputs": [],
      "source": [
        "sentence = '\\t  \\n n This is a test string. \\t\\t \\n'\n"
      ]
    },
    {
      "cell_type": "code",
      "execution_count": null,
      "id": "fb15edff",
      "metadata": {
        "colab": {
          "base_uri": "https://localhost:8080/",
          "height": 36
        },
        "id": "fb15edff",
        "outputId": "102e80da-054b-4c59-caf0-934734ac4f60"
      },
      "outputs": [
        {
          "output_type": "execute_result",
          "data": {
            "text/plain": [
              "'n This is a test string.'"
            ],
            "application/vnd.google.colaboratory.intrinsic+json": {
              "type": "string"
            }
          },
          "metadata": {},
          "execution_count": 125
        }
      ],
      "source": [
        "sentence.strip()"
      ]
    },
    {
      "cell_type": "markdown",
      "id": "da5290ae",
      "metadata": {
        "id": "da5290ae"
      },
      "source": [
        "# Removing Leading Whitespace\n",
        "* lstrip removes only leading whitespace"
      ]
    },
    {
      "cell_type": "code",
      "execution_count": null,
      "id": "cdca979f",
      "metadata": {
        "colab": {
          "base_uri": "https://localhost:8080/",
          "height": 36
        },
        "id": "cdca979f",
        "outputId": "aa3cacd9-e476-4be5-8bc4-564862f1d82c"
      },
      "outputs": [
        {
          "output_type": "execute_result",
          "data": {
            "text/plain": [
              "'n This is a test string. \\t\\t \\n'"
            ],
            "application/vnd.google.colaboratory.intrinsic+json": {
              "type": "string"
            }
          },
          "metadata": {},
          "execution_count": 126
        }
      ],
      "source": [
        "sentence.lstrip()#sondaki boşluklarıı kaldırır"
      ]
    },
    {
      "cell_type": "markdown",
      "id": "aeb998db",
      "metadata": {
        "id": "aeb998db"
      },
      "source": [
        "Removing Leading Whitespace\n",
        "• 1strip removes only leading whitespace\n",
        "sentence. lstrip()"
      ]
    },
    {
      "cell_type": "markdown",
      "id": "57eaabd4",
      "metadata": {
        "id": "57eaabd4"
      },
      "source": [
        "# Removing Trailing Whitespace\n",
        "* rstrip removes only trailing whitespace\n"
      ]
    },
    {
      "cell_type": "code",
      "execution_count": null,
      "id": "d0dce55a",
      "metadata": {
        "colab": {
          "base_uri": "https://localhost:8080/",
          "height": 36
        },
        "id": "d0dce55a",
        "outputId": "03830e64-596b-4574-a923-be90d9841d04"
      },
      "outputs": [
        {
          "output_type": "execute_result",
          "data": {
            "text/plain": [
              "'\\t  \\n n This is a test string.'"
            ],
            "application/vnd.google.colaboratory.intrinsic+json": {
              "type": "string"
            }
          },
          "metadata": {},
          "execution_count": 127
        }
      ],
      "source": [
        "sentence.rstrip()"
      ]
    },
    {
      "cell_type": "markdown",
      "id": "cdd68295",
      "metadata": {
        "id": "cdd68295"
      },
      "source": [
        "# 8.5 Changing Character Case\n"
      ]
    },
    {
      "cell_type": "markdown",
      "id": "d9b1b932",
      "metadata": {
        "id": "d9b1b932"
      },
      "source": [
        "# Capitalizing Only a String's First Character\n",
        "* Method capitalize returns a new string with only the first letter capitalized (sometimes called sentence capitalization)"
      ]
    },
    {
      "cell_type": "code",
      "execution_count": null,
      "id": "7bf4443b",
      "metadata": {
        "colab": {
          "base_uri": "https://localhost:8080/",
          "height": 36
        },
        "id": "7bf4443b",
        "outputId": "71a7970f-286c-457a-d6fb-89c8862e9430"
      },
      "outputs": [
        {
          "output_type": "execute_result",
          "data": {
            "text/plain": [
              "'Happy birthday'"
            ],
            "application/vnd.google.colaboratory.intrinsic+json": {
              "type": "string"
            }
          },
          "metadata": {},
          "execution_count": 128
        }
      ],
      "source": [
        "\n",
        "'happy birthday' .capitalize()#ilk harf büyük yapar\n"
      ]
    },
    {
      "cell_type": "markdown",
      "id": "86442d0d",
      "metadata": {
        "id": "86442d0d"
      },
      "source": [
        "# Capitalizing the First Character of Every Word in a String\n",
        "• Method title returns a new string with only the first character of each word capitalized (sometimes called book-title\n",
        "capitalization)\n"
      ]
    },
    {
      "cell_type": "code",
      "execution_count": null,
      "id": "a07210c2",
      "metadata": {
        "colab": {
          "base_uri": "https://localhost:8080/",
          "height": 36
        },
        "id": "a07210c2",
        "outputId": "9cedcf15-0889-40f1-b892-6c4d77a52e7a"
      },
      "outputs": [
        {
          "output_type": "execute_result",
          "data": {
            "text/plain": [
              "'Strings: A Deeper Look'"
            ],
            "application/vnd.google.colaboratory.intrinsic+json": {
              "type": "string"
            }
          },
          "metadata": {},
          "execution_count": 129
        }
      ],
      "source": [
        "'strings: a deeper look'.title()"
      ]
    },
    {
      "cell_type": "markdown",
      "id": "62dc68a3",
      "metadata": {
        "id": "62dc68a3"
      },
      "source": [
        "# 8.6 Comparison Operators for Strings\n",
        "* Strings may be compared with the comparison operators\n",
        "* Strings are compared based on their underlying integer numeric values\n",
        "* Can check integer codes with ord\n"
      ]
    },
    {
      "cell_type": "code",
      "execution_count": null,
      "id": "a555da0c",
      "metadata": {
        "id": "a555da0c"
      },
      "outputs": [],
      "source": []
    },
    {
      "cell_type": "markdown",
      "source": [],
      "metadata": {
        "id": "oyg_R-oqTmCq"
      },
      "id": "oyg_R-oqTmCq"
    },
    {
      "cell_type": "code",
      "execution_count": null,
      "id": "291cde5e",
      "metadata": {
        "colab": {
          "base_uri": "https://localhost:8080/"
        },
        "id": "291cde5e",
        "outputId": "cce89131-d7c2-4143-e609-fe64e2fd74bc"
      },
      "outputs": [
        {
          "output_type": "stream",
          "name": "stdout",
          "text": [
            "A: 65; a: 97\n"
          ]
        }
      ],
      "source": [
        "print (f'A: {ord(\"A\")}; a: {ord(\"a\")}')\n"
      ]
    },
    {
      "cell_type": "markdown",
      "id": "91a0d5fb",
      "metadata": {
        "id": "91a0d5fb"
      },
      "source": [
        "* Compare the strings 'Orange' and 'orange' using the comparison operators\n"
      ]
    },
    {
      "cell_type": "code",
      "execution_count": null,
      "id": "648c7af6",
      "metadata": {
        "colab": {
          "base_uri": "https://localhost:8080/"
        },
        "id": "648c7af6",
        "outputId": "adfbf251-592b-4b0d-daab-e1f0212b4d66"
      },
      "outputs": [
        {
          "output_type": "execute_result",
          "data": {
            "text/plain": [
              "False"
            ]
          },
          "metadata": {},
          "execution_count": 131
        }
      ],
      "source": [
        "'Orange' == 'orange'\n"
      ]
    },
    {
      "cell_type": "code",
      "execution_count": null,
      "id": "82bb39d9",
      "metadata": {
        "colab": {
          "base_uri": "https://localhost:8080/"
        },
        "id": "82bb39d9",
        "outputId": "44b524d6-21b0-4c86-d81a-fc3c63924445"
      },
      "outputs": [
        {
          "output_type": "execute_result",
          "data": {
            "text/plain": [
              "True"
            ]
          },
          "metadata": {},
          "execution_count": 132
        }
      ],
      "source": [
        "'Orange' != 'orange'\n"
      ]
    },
    {
      "cell_type": "code",
      "execution_count": null,
      "id": "df358f66",
      "metadata": {
        "colab": {
          "base_uri": "https://localhost:8080/"
        },
        "id": "df358f66",
        "outputId": "cb25f50c-818f-4cfd-b093-2028986d8361"
      },
      "outputs": [
        {
          "output_type": "execute_result",
          "data": {
            "text/plain": [
              "True"
            ]
          },
          "metadata": {},
          "execution_count": 133
        }
      ],
      "source": [
        "'Orange' < 'orange'\n"
      ]
    },
    {
      "cell_type": "code",
      "execution_count": null,
      "id": "7774f6df",
      "metadata": {
        "colab": {
          "base_uri": "https://localhost:8080/"
        },
        "id": "7774f6df",
        "outputId": "00eedf63-bfe3-41e8-8ca0-aa670981c12c"
      },
      "outputs": [
        {
          "output_type": "execute_result",
          "data": {
            "text/plain": [
              "True"
            ]
          },
          "metadata": {},
          "execution_count": 134
        }
      ],
      "source": [
        "'Orange' <= 'orange'\n"
      ]
    },
    {
      "cell_type": "code",
      "execution_count": null,
      "id": "ed5602ac",
      "metadata": {
        "colab": {
          "base_uri": "https://localhost:8080/"
        },
        "id": "ed5602ac",
        "outputId": "ea2a6fc7-fcab-45d0-e153-143f9ed00c6f"
      },
      "outputs": [
        {
          "output_type": "execute_result",
          "data": {
            "text/plain": [
              "False"
            ]
          },
          "metadata": {},
          "execution_count": 135
        }
      ],
      "source": [
        "'Orange' > 'orange'"
      ]
    },
    {
      "cell_type": "code",
      "execution_count": null,
      "id": "e2f68ede",
      "metadata": {
        "id": "e2f68ede"
      },
      "outputs": [],
      "source": []
    },
    {
      "cell_type": "markdown",
      "id": "c7f3b4fd",
      "metadata": {
        "id": "c7f3b4fd"
      },
      "source": [
        "# 8.7 Searching for Substrings\n",
        ". Can search a string for a **substring to\n",
        "■count number of occurrences\n",
        "▪ determine whether a string contains a substring\n",
        "▪ determine the index at which a substring resides in a string\n",
        "• Each method shown in this section compares characters lexicographically using their underlying numeric values\n",
        "Counting Occurrences\n",
        "• count returns the number of times its argument occurs in a string\n",
        "\n"
      ]
    },
    {
      "cell_type": "code",
      "execution_count": null,
      "id": "f3a8b7ba",
      "metadata": {
        "colab": {
          "base_uri": "https://localhost:8080/"
        },
        "id": "f3a8b7ba",
        "outputId": "cc13e3b1-41f2-4329-bbf9-091c1f8ee00f"
      },
      "outputs": [
        {
          "output_type": "execute_result",
          "data": {
            "text/plain": [
              "2"
            ]
          },
          "metadata": {},
          "execution_count": 136
        }
      ],
      "source": [
        "sentence = 'to be or not to be that is the question'\n",
        "sentence.count('to')"
      ]
    },
    {
      "cell_type": "markdown",
      "id": "e558066a",
      "metadata": {
        "id": "e558066a"
      },
      "source": [
        "• If you specify as the second argument a start index, count searches only the slice_string_ [start_index:]"
      ]
    },
    {
      "cell_type": "code",
      "execution_count": null,
      "id": "290ead80",
      "metadata": {
        "colab": {
          "base_uri": "https://localhost:8080/"
        },
        "id": "290ead80",
        "outputId": "6f15773e-9de1-4280-e080-55a2b1883c81"
      },
      "outputs": [
        {
          "output_type": "execute_result",
          "data": {
            "text/plain": [
              "1"
            ]
          },
          "metadata": {},
          "execution_count": 137
        }
      ],
      "source": [
        "sentence.count('to', 12)#12. indexten sonra ,kaç tane 'to' olduğnu döndürür\n"
      ]
    },
    {
      "cell_type": "markdown",
      "id": "fa012a0a",
      "metadata": {
        "id": "fa012a0a"
      },
      "source": [
        "• If you specify as the second and third arguments the start index and end index, count searches only the slice\n",
        "_string_ [start_index: end_index ]\n"
      ]
    },
    {
      "cell_type": "code",
      "execution_count": null,
      "id": "c0ad6bc9",
      "metadata": {
        "colab": {
          "base_uri": "https://localhost:8080/"
        },
        "id": "c0ad6bc9",
        "outputId": "4ade4e37-54c7-4a20-ff63-77a50fa7f47f"
      },
      "outputs": [
        {
          "output_type": "execute_result",
          "data": {
            "text/plain": [
              "1"
            ]
          },
          "metadata": {},
          "execution_count": 138
        }
      ],
      "source": [
        "sentence.count('that', 12,25)#12. ve 25. inedx arasınaki 'that' sayısına bakar\n"
      ]
    },
    {
      "cell_type": "markdown",
      "id": "743e6d89",
      "metadata": {
        "id": "743e6d89"
      },
      "source": [
        "• Like count, the other string methods presented in this section each have start index and end index arguments\n",
        "\n"
      ]
    },
    {
      "cell_type": "markdown",
      "id": "0fd09606",
      "metadata": {
        "id": "0fd09606"
      },
      "source": [
        "# Locating a Substring in a String\n",
        "• index searches for a substring within a string and returns the first index at which the substring is found; otherwise, a\n",
        "ValueError occurs:"
      ]
    },
    {
      "cell_type": "code",
      "execution_count": null,
      "id": "4f3ed1fe",
      "metadata": {
        "colab": {
          "base_uri": "https://localhost:8080/"
        },
        "id": "4f3ed1fe",
        "outputId": "aefa5b0a-ceef-4e37-a795-2a134a570f7e"
      },
      "outputs": [
        {
          "output_type": "execute_result",
          "data": {
            "text/plain": [
              "3"
            ]
          },
          "metadata": {},
          "execution_count": 139
        }
      ],
      "source": [
        "sentence.index('be')"
      ]
    },
    {
      "cell_type": "markdown",
      "id": "2f5e3cd9",
      "metadata": {
        "id": "2f5e3cd9"
      },
      "source": [
        "• rindex performs the same operation as index, but searches from the end of the string"
      ]
    },
    {
      "cell_type": "code",
      "execution_count": null,
      "id": "bb2cca24",
      "metadata": {
        "colab": {
          "base_uri": "https://localhost:8080/"
        },
        "id": "bb2cca24",
        "outputId": "e758e755-f83d-4fd0-dc7d-f39fb0426d7d"
      },
      "outputs": [
        {
          "output_type": "execute_result",
          "data": {
            "text/plain": [
              "16"
            ]
          },
          "metadata": {},
          "execution_count": 140
        }
      ],
      "source": [
        "sentence.rindex ('be')\n"
      ]
    },
    {
      "cell_type": "markdown",
      "id": "0cb47714",
      "metadata": {
        "id": "0cb47714"
      },
      "source": [
        "• find and rfind perform the same tasks as index and rindex but return -1 if the substring is not found\n",
        "Determining Whether a String Contains a Substring\n",
        "• To check whether a string contains a substring, use operator in or not in\n"
      ]
    },
    {
      "cell_type": "code",
      "source": [
        "#sentence.rindex ('bee')\n"
      ],
      "metadata": {
        "id": "IohuC6XgUsz2"
      },
      "id": "IohuC6XgUsz2",
      "execution_count": null,
      "outputs": []
    },
    {
      "cell_type": "code",
      "source": [
        "sentence.rfind ('bee')"
      ],
      "metadata": {
        "id": "luUQP2ocYyiG"
      },
      "id": "luUQP2ocYyiG",
      "execution_count": null,
      "outputs": []
    },
    {
      "cell_type": "code",
      "execution_count": null,
      "id": "fceb7b58",
      "metadata": {
        "colab": {
          "base_uri": "https://localhost:8080/"
        },
        "id": "fceb7b58",
        "outputId": "c58f95f8-321e-424c-a641-f59476f585d2"
      },
      "outputs": [
        {
          "output_type": "execute_result",
          "data": {
            "text/plain": [
              "True"
            ]
          },
          "metadata": {},
          "execution_count": 142
        }
      ],
      "source": [
        "'that' in sentence\n"
      ]
    },
    {
      "cell_type": "code",
      "execution_count": null,
      "id": "be1656e5",
      "metadata": {
        "colab": {
          "base_uri": "https://localhost:8080/"
        },
        "id": "be1656e5",
        "outputId": "e8feed94-20b9-4d7e-a6a9-0f0f303b28da"
      },
      "outputs": [
        {
          "output_type": "execute_result",
          "data": {
            "text/plain": [
              "False"
            ]
          },
          "metadata": {},
          "execution_count": 143
        }
      ],
      "source": [
        "'THAT' in sentence\n"
      ]
    },
    {
      "cell_type": "code",
      "execution_count": null,
      "id": "f9e4b003",
      "metadata": {
        "colab": {
          "base_uri": "https://localhost:8080/"
        },
        "id": "f9e4b003",
        "outputId": "d2a50421-316b-48a4-eee8-12917b876c5f"
      },
      "outputs": [
        {
          "output_type": "execute_result",
          "data": {
            "text/plain": [
              "True"
            ]
          },
          "metadata": {},
          "execution_count": 144
        }
      ],
      "source": [
        "'THAT' not in sentence"
      ]
    },
    {
      "cell_type": "markdown",
      "id": "c722ede2",
      "metadata": {
        "id": "c722ede2"
      },
      "source": [
        "# Locating a Substring at the Beginning or End of a String\n",
        "• startswith and endswith return True if the string starts with or ends with a specified substring\n"
      ]
    },
    {
      "cell_type": "code",
      "execution_count": null,
      "id": "1d9d5d3b",
      "metadata": {
        "colab": {
          "base_uri": "https://localhost:8080/"
        },
        "id": "1d9d5d3b",
        "outputId": "46c449ac-b1d2-4ae2-e3ab-285dc951fa8e"
      },
      "outputs": [
        {
          "output_type": "execute_result",
          "data": {
            "text/plain": [
              "True"
            ]
          },
          "metadata": {},
          "execution_count": 145
        }
      ],
      "source": [
        "sentence.startswith('to')#'to' ile başlıyor mu"
      ]
    },
    {
      "cell_type": "code",
      "execution_count": null,
      "id": "c6421aab",
      "metadata": {
        "id": "c6421aab",
        "colab": {
          "base_uri": "https://localhost:8080/"
        },
        "outputId": "43cd0350-8a8a-4bd1-9b1d-c3facb5636da"
      },
      "outputs": [
        {
          "output_type": "execute_result",
          "data": {
            "text/plain": [
              "False"
            ]
          },
          "metadata": {},
          "execution_count": 146
        }
      ],
      "source": [
        "sentence.startswith('be')"
      ]
    },
    {
      "cell_type": "code",
      "execution_count": null,
      "id": "5d9f580c",
      "metadata": {
        "id": "5d9f580c",
        "colab": {
          "base_uri": "https://localhost:8080/"
        },
        "outputId": "968690fe-c72c-443e-f264-962edbdee722"
      },
      "outputs": [
        {
          "output_type": "execute_result",
          "data": {
            "text/plain": [
              "True"
            ]
          },
          "metadata": {},
          "execution_count": 147
        }
      ],
      "source": [
        "sentence.endswith('question')#'question' ile bitiyor mu"
      ]
    },
    {
      "cell_type": "code",
      "execution_count": null,
      "id": "582f1dc7",
      "metadata": {
        "id": "582f1dc7",
        "colab": {
          "base_uri": "https://localhost:8080/"
        },
        "outputId": "807a10ec-121f-47ac-80e0-7508d91bf725"
      },
      "outputs": [
        {
          "output_type": "execute_result",
          "data": {
            "text/plain": [
              "False"
            ]
          },
          "metadata": {},
          "execution_count": 148
        }
      ],
      "source": [
        "sentence.endswith('quest')"
      ]
    },
    {
      "cell_type": "markdown",
      "id": "789bf15b",
      "metadata": {
        "id": "789bf15b"
      },
      "source": [
        "# 8.8 Replacing Substrings\n",
        "• A common text manipulation is to locate a substring and replace its value\n",
        "• replace searches a string for the substring in its first argument and replaces each occurrence with the substring in its\n",
        "second argument\n",
        "• Can receive an optional third argument specifying the maximum number of replacements\n"
      ]
    },
    {
      "cell_type": "code",
      "execution_count": null,
      "id": "021dd6c0",
      "metadata": {
        "id": "021dd6c0"
      },
      "outputs": [],
      "source": [
        "values= '1\\t2\\t3\\t4\\t5'"
      ]
    },
    {
      "cell_type": "code",
      "execution_count": null,
      "id": "9c595dc6",
      "metadata": {
        "id": "9c595dc6",
        "colab": {
          "base_uri": "https://localhost:8080/",
          "height": 36
        },
        "outputId": "6b2139f1-8d16-48a9-b0e8-1941cc0a0d16"
      },
      "outputs": [
        {
          "output_type": "execute_result",
          "data": {
            "text/plain": [
              "'1, 2, 3, 4, 5'"
            ],
            "application/vnd.google.colaboratory.intrinsic+json": {
              "type": "string"
            }
          },
          "metadata": {},
          "execution_count": 150
        }
      ],
      "source": [
        "values.replace('\\t', ', ') # \\t yi , ile değiştirir"
      ]
    },
    {
      "cell_type": "code",
      "execution_count": null,
      "id": "482829cb",
      "metadata": {
        "id": "482829cb"
      },
      "outputs": [],
      "source": []
    },
    {
      "cell_type": "code",
      "execution_count": null,
      "id": "c9254c88",
      "metadata": {
        "id": "c9254c88"
      },
      "outputs": [],
      "source": []
    },
    {
      "cell_type": "code",
      "execution_count": null,
      "id": "532bfff4",
      "metadata": {
        "id": "532bfff4"
      },
      "outputs": [],
      "source": []
    },
    {
      "cell_type": "code",
      "execution_count": null,
      "id": "8df20507",
      "metadata": {
        "id": "8df20507"
      },
      "outputs": [],
      "source": []
    },
    {
      "cell_type": "markdown",
      "id": "484f2b29",
      "metadata": {
        "id": "484f2b29"
      },
      "source": [
        "# 8.9 Splitting and Joining Strings\n",
        "* Tokens typically are separated by whitespace characters such as blank, tab and newline, though other characters may\n",
        "used the separators are known as delimiters\n"
      ]
    },
    {
      "cell_type": "markdown",
      "source": [
        "# Splitting Strings\n",
        "• To tokenize a string at a custom delimiter, specify the delimiter string that split uses to tokenize the string\n"
      ],
      "metadata": {
        "id": "M8JGq4Dtl4ws"
      },
      "id": "M8JGq4Dtl4ws"
    },
    {
      "cell_type": "code",
      "execution_count": null,
      "id": "91cd9ba7",
      "metadata": {
        "id": "91cd9ba7"
      },
      "outputs": [],
      "source": [
        "letters= 'A,B,C,D'"
      ]
    },
    {
      "cell_type": "code",
      "execution_count": null,
      "id": "322587b2",
      "metadata": {
        "id": "322587b2",
        "colab": {
          "base_uri": "https://localhost:8080/"
        },
        "outputId": "ca3d3a12-4008-4e97-8c47-51fa277b4f8c"
      },
      "outputs": [
        {
          "output_type": "execute_result",
          "data": {
            "text/plain": [
              "['A', 'B', 'C', 'D']"
            ]
          },
          "metadata": {},
          "execution_count": 152
        }
      ],
      "source": [
        "letters.split(',')"
      ]
    },
    {
      "cell_type": "markdown",
      "source": [
        "* Specify the maximum number of splits with an integer as the second argument\n",
        "* Last token is the remainder of the string\n"
      ],
      "metadata": {
        "id": "E0p0FI2tmA7x"
      },
      "id": "E0p0FI2tmA7x"
    },
    {
      "cell_type": "code",
      "source": [
        "letters.split(', ', 2)"
      ],
      "metadata": {
        "id": "QAWNhVmamGXp",
        "colab": {
          "base_uri": "https://localhost:8080/"
        },
        "outputId": "0e5b4bd7-8641-4fd6-acd9-f1c7a39f1a86"
      },
      "id": "QAWNhVmamGXp",
      "execution_count": null,
      "outputs": [
        {
          "output_type": "execute_result",
          "data": {
            "text/plain": [
              "['A,B,C,D']"
            ]
          },
          "metadata": {},
          "execution_count": 153
        }
      ]
    },
    {
      "cell_type": "markdown",
      "source": [
        "* rsplit performs the same task as split but processes the maximum number of splits from the end of the string\n",
        "toward the beginning\n",
        "\n"
      ],
      "metadata": {
        "id": "kXWFBNmj2hVi"
      },
      "id": "kXWFBNmj2hVi"
    },
    {
      "cell_type": "markdown",
      "source": [
        "# Joining Strings\n",
        "* join concatenates the strings in its argument, which must be an iterable containing only string values\n",
        "* The separator between the concatenated items is the string on which you call join"
      ],
      "metadata": {
        "id": "khL90OYZmpMp"
      },
      "id": "khL90OYZmpMp"
    },
    {
      "cell_type": "code",
      "execution_count": null,
      "id": "83429adb",
      "metadata": {
        "id": "83429adb",
        "colab": {
          "base_uri": "https://localhost:8080/",
          "height": 36
        },
        "outputId": "49e1fa7a-3914-4d90-93b5-3d1253915358"
      },
      "outputs": [
        {
          "output_type": "execute_result",
          "data": {
            "text/plain": [
              "'A,B,C,D'"
            ],
            "application/vnd.google.colaboratory.intrinsic+json": {
              "type": "string"
            }
          },
          "metadata": {},
          "execution_count": 154
        }
      ],
      "source": [
        "letters_list = ['A', 'B', 'C', 'D']\n",
        "','.join(letters_list)"
      ]
    },
    {
      "cell_type": "markdown",
      "id": "def6f022",
      "metadata": {
        "id": "def6f022"
      },
      "source": [
        "• Join the results of a list comprehension that creates a list of strings\n"
      ]
    },
    {
      "cell_type": "code",
      "execution_count": null,
      "id": "dc3044ac",
      "metadata": {
        "colab": {
          "base_uri": "https://localhost:8080/",
          "height": 36
        },
        "id": "dc3044ac",
        "outputId": "f9e282bf-6ab4-4fd2-f0e7-e42ab8555dce"
      },
      "outputs": [
        {
          "output_type": "execute_result",
          "data": {
            "text/plain": [
              "'0,1,2,3,4,5,6,7,8,9'"
            ],
            "application/vnd.google.colaboratory.intrinsic+json": {
              "type": "string"
            }
          },
          "metadata": {},
          "execution_count": 155
        }
      ],
      "source": [
        "','.join([str(i) for i in range(10)])"
      ]
    },
    {
      "cell_type": "markdown",
      "id": "c9f865d0",
      "metadata": {
        "id": "c9f865d0"
      },
      "source": [
        "# String Methods  partition and rpartition\n",
        "## String method partition splits a string into a tuple of three strings based on the method's separator argument\n",
        "* the part of the original string before the separator\n",
        "* the separator itself\n",
        "*the part of the string after the separator"
      ]
    },
    {
      "cell_type": "code",
      "execution_count": null,
      "id": "b73e1746",
      "metadata": {
        "colab": {
          "base_uri": "https://localhost:8080/"
        },
        "id": "b73e1746",
        "outputId": "52912934-baa9-4eba-92f9-f8cd53c2b09c"
      },
      "outputs": [
        {
          "output_type": "execute_result",
          "data": {
            "text/plain": [
              "('Amanda', ': ', '89, 97, 92')"
            ]
          },
          "metadata": {},
          "execution_count": 156
        }
      ],
      "source": [
        "'Amanda: 89, 97, 92'.partition (': ')# : öncesi ayrı  3e bölüyor"
      ]
    },
    {
      "cell_type": "markdown",
      "id": "ff4b9b96",
      "metadata": {
        "id": "ff4b9b96"
      },
      "source": [
        "• To search for the separator from the end of the string, use method rpartition\n"
      ]
    },
    {
      "cell_type": "code",
      "execution_count": null,
      "id": "d540ad60",
      "metadata": {
        "id": "d540ad60"
      },
      "outputs": [],
      "source": [
        "url = 'http://www.deitel.com/books/PyCDS/table_of_contents.html'"
      ]
    },
    {
      "cell_type": "code",
      "execution_count": null,
      "id": "d4aaa457",
      "metadata": {
        "id": "d4aaa457"
      },
      "outputs": [],
      "source": [
        "rest_of_url, separator, document = url.rpartition('/')"
      ]
    },
    {
      "cell_type": "code",
      "execution_count": null,
      "id": "3b666b66",
      "metadata": {
        "colab": {
          "base_uri": "https://localhost:8080/"
        },
        "id": "3b666b66",
        "outputId": "3550e5f6-0110-4bca-f804-bc4ed5b60014"
      },
      "outputs": [
        {
          "output_type": "execute_result",
          "data": {
            "text/plain": [
              "('http://www.deitel.com/books/PyCDS', '/', 'table_of_contents.html')"
            ]
          },
          "metadata": {},
          "execution_count": 159
        }
      ],
      "source": [
        "rest_of_url, separator, document "
      ]
    },
    {
      "cell_type": "markdown",
      "id": "172a37bd",
      "metadata": {
        "id": "172a37bd"
      },
      "source": [
        "# String Method splitlines\n",
        "* splitlines returns a list of new strings representing lines of text split at each newline character in the original string"
      ]
    },
    {
      "cell_type": "code",
      "execution_count": null,
      "id": "d6e89a84",
      "metadata": {
        "id": "d6e89a84"
      },
      "outputs": [],
      "source": [
        "lines=\"\"\"This is line 1\n",
        "This is line2\n",
        "This is line3\"\"\""
      ]
    },
    {
      "cell_type": "code",
      "execution_count": null,
      "id": "3ca6e519",
      "metadata": {
        "colab": {
          "base_uri": "https://localhost:8080/",
          "height": 36
        },
        "id": "3ca6e519",
        "outputId": "2a59456f-d923-4216-c6cd-62261b0e1735"
      },
      "outputs": [
        {
          "output_type": "execute_result",
          "data": {
            "text/plain": [
              "'This is line 1\\nThis is line2\\nThis is line3'"
            ],
            "application/vnd.google.colaboratory.intrinsic+json": {
              "type": "string"
            }
          },
          "metadata": {},
          "execution_count": 161
        }
      ],
      "source": [
        "lines"
      ]
    },
    {
      "cell_type": "code",
      "execution_count": null,
      "id": "a7a5f1d2",
      "metadata": {
        "colab": {
          "base_uri": "https://localhost:8080/"
        },
        "id": "a7a5f1d2",
        "outputId": "85f9319f-c017-49c2-b5d1-e090feee6665"
      },
      "outputs": [
        {
          "output_type": "execute_result",
          "data": {
            "text/plain": [
              "['This is line 1', 'This is line2', 'This is line3']"
            ]
          },
          "metadata": {},
          "execution_count": 162
        }
      ],
      "source": [
        "lines.splitlines() # \\n e göre bölüyor"
      ]
    },
    {
      "cell_type": "code",
      "source": [
        "lines.split('\\n')"
      ],
      "metadata": {
        "colab": {
          "base_uri": "https://localhost:8080/"
        },
        "id": "TM3PcUQUodF_",
        "outputId": "3d145a42-7df4-41c9-a123-df6b925a80db"
      },
      "id": "TM3PcUQUodF_",
      "execution_count": null,
      "outputs": [
        {
          "output_type": "execute_result",
          "data": {
            "text/plain": [
              "['This is line 1', 'This is line2', 'This is line3']"
            ]
          },
          "metadata": {},
          "execution_count": 163
        }
      ]
    },
    {
      "cell_type": "markdown",
      "id": "c822c6b7",
      "metadata": {
        "id": "c822c6b7"
      },
      "source": [
        "• Passing True to splitlines keeps the newlines\n"
      ]
    },
    {
      "cell_type": "code",
      "execution_count": null,
      "id": "ebac54cd",
      "metadata": {
        "colab": {
          "base_uri": "https://localhost:8080/"
        },
        "id": "ebac54cd",
        "outputId": "056f0b02-149b-484b-b805-b35f06b74a87"
      },
      "outputs": [
        {
          "output_type": "execute_result",
          "data": {
            "text/plain": [
              "['This is line 1\\n', 'This is line2\\n', 'This is line3']"
            ]
          },
          "metadata": {},
          "execution_count": 164
        }
      ],
      "source": [
        "lines.splitlines (True)# daha sonra birleştirilecekse sorun çıkmaması için '\\n' leri silmez"
      ]
    },
    {
      "cell_type": "markdown",
      "id": "14973a23",
      "metadata": {
        "id": "14973a23"
      },
      "source": [
        "# 8.10 Characters and Character-Testing Methods\n",
        "* in Pythan a character is simply a one character string\n",
        "* Python provides string methods for testing whether a string matches certain chatic\n",
        "* isdigit returns True if the string or which you call the method contains only the digit characters (0-9)\n",
        "\t* Useful for val dating data\n",
        "\n"
      ]
    },
    {
      "cell_type": "code",
      "execution_count": null,
      "id": "d5d0c3eb",
      "metadata": {
        "colab": {
          "base_uri": "https://localhost:8080/"
        },
        "id": "d5d0c3eb",
        "outputId": "8eb8c5b8-cbe1-4c8a-8bc1-e2a78814b860"
      },
      "outputs": [
        {
          "name": "stdout",
          "output_type": "stream",
          "text": [
            "sayi girin12\n"
          ]
        }
      ],
      "source": [
        "a=int(input(\"sayi girin\"))"
      ]
    },
    {
      "cell_type": "code",
      "execution_count": null,
      "id": "f8efb51c",
      "metadata": {
        "id": "f8efb51c",
        "colab": {
          "base_uri": "https://localhost:8080/"
        },
        "outputId": "dce5b0e9-d033-4656-872a-bc7b271267f3"
      },
      "outputs": [
        {
          "output_type": "execute_result",
          "data": {
            "text/plain": [
              "False"
            ]
          },
          "metadata": {},
          "execution_count": 166
        }
      ],
      "source": [
        "'-27'.isdigit()\n"
      ]
    },
    {
      "cell_type": "code",
      "execution_count": null,
      "id": "382bb81f",
      "metadata": {
        "id": "382bb81f",
        "colab": {
          "base_uri": "https://localhost:8080/"
        },
        "outputId": "7041fb08-8a30-4304-de1a-9dab9a84bea3"
      },
      "outputs": [
        {
          "output_type": "execute_result",
          "data": {
            "text/plain": [
              "True"
            ]
          },
          "metadata": {},
          "execution_count": 167
        }
      ],
      "source": [
        "'27'.isdigit()\n"
      ]
    },
    {
      "cell_type": "markdown",
      "id": "21d09f7e",
      "metadata": {
        "id": "21d09f7e"
      },
      "source": [
        "# 8.10 Chacters and Character-Testing Methods (cont.)\n",
        "*    Isalnum returns True it the string or which you call the method is aphanumeric (only cats and letters)"
      ]
    },
    {
      "cell_type": "code",
      "execution_count": null,
      "id": "1e2b59f3",
      "metadata": {
        "id": "1e2b59f3"
      },
      "outputs": [],
      "source": [
        "'A9876'.isalnum();"
      ]
    },
    {
      "cell_type": "code",
      "source": [],
      "metadata": {
        "id": "UhPHguj-phfC"
      },
      "id": "UhPHguj-phfC",
      "execution_count": null,
      "outputs": []
    },
    {
      "cell_type": "markdown",
      "source": [
        "<table class=\"ws-table-all notranslate\">\n",
        "    <tbody><tr>\n",
        "    <th>Method</th>\n",
        "    <th>Description</th>\n",
        "    </tr>\n",
        "      <tr>\n",
        "        <td>capitalize()</a></td><td>Converts the first \n",
        "        character to upper case</td>\n",
        "      </tr>\n",
        "      <tr>\n",
        "        <td>casefold()</a></td><td>Converts string into \n",
        "        lower case</td>\n",
        "      </tr>\n",
        "      <tr>\n",
        "        <td>center()</a></td><td>Returns a centered \n",
        "        string</td>\n",
        "      </tr>\n",
        "      <tr>\n",
        "        <td>count()</a></td><td>Returns the number of \n",
        "        times a specified value occurs in a string</td>\n",
        "      </tr>\n",
        "      <tr>\n",
        "        <td>encode()</a></td><td>Returns an encoded \n",
        "        version of the string</td>\n",
        "      </tr>\n",
        "      <tr>\n",
        "        <td>endswith()</a></td><td>Returns true if the \n",
        "        string ends with the specified value</td>\n",
        "      </tr>\n",
        "      <tr>\n",
        "        <td>expandtabs()</a></td><td>Sets the \n",
        "        tab size of the string</td>\n",
        "      </tr>\n",
        "      <tr>\n",
        "        <td>find()</a></td><td>Searches the string for a \n",
        "        specified value and returns the position of where it was found</td>\n",
        "      </tr>\n",
        "      <tr>\n",
        "        <td>format()</a></td><td>Formats specified \n",
        "        values in a string</td>\n",
        "      </tr>\n",
        "      <tr>\n",
        "        <td>format_map()</td><td>Formats specified \n",
        "        values in a string</td>\n",
        "      </tr>\n",
        "      <tr>\n",
        "        <td>index()</a></td><td>Searches the string \n",
        "        for a specified value and returns the position of where it was found</td>\n",
        "      </tr>\n",
        "      <tr>\n",
        "        <td>isalnum()</a></td><td>Returns True if all \n",
        "        characters in the string are alphanumeric</td>\n",
        "      </tr>\n",
        "      <tr>\n",
        "        <td>isalpha()</a></td><td>Returns True if all \n",
        "        characters in the string are in the alphabet</td>\n",
        "      </tr>\n",
        "      <tr>\n",
        "        <td>isascii()</a></td><td>Returns True if all \n",
        "        characters in the string are ascii characters</td>\n",
        "      </tr>\n",
        "      <tr>\n",
        "        <td>isdecimal()</a></td><td>Returns True if all \n",
        "        characters in the string are decimals</td>\n",
        "      </tr>\n",
        "      <tr>\n",
        "        <td>isdigit()</a></td><td>Returns True if all \n",
        "        characters in the string are digits</td>\n",
        "      </tr>\n",
        "      <tr>\n",
        "        <td>isidentifier()</a></td><td>Returns True if \n",
        "        the string is an identifier</td>\n",
        "      </tr>\n",
        "      <tr>\n",
        "        <td>islower()</a></td><td>Returns True if all \n",
        "        characters in the string are lower case</td>\n",
        "      </tr>\n",
        "      <tr>\n",
        "        <td>isnumeric()</a></td><td>Returns True if \n",
        "        all characters in the string are numeric</td>\n",
        "      </tr>\n",
        "      <tr>\n",
        "        <td>isprintable()</a></td><td>Returns True if \n",
        "        all characters in the string are printable</td>\n",
        "      </tr>\n",
        "      <tr>\n",
        "        <td>isspace()</a></td><td>Returns True if all \n",
        "        characters in the string are whitespaces</td>\n",
        "      </tr>\n",
        "      <tr>\n",
        "        <td>istitle()</a></td>\n",
        "        <td>Returns True if the string follows the rules of a \n",
        "        title</td>\n",
        "      </tr>\n",
        "      <tr>\n",
        "        <td>isupper()</a></td><td>Returns True if all \n",
        "        characters in the string are upper case</td>\n",
        "      </tr>\n",
        "      <tr>\n",
        "        <td>join()</a></td><td>Converts the elements of \n",
        "        an iterable into a string</td>\n",
        "      </tr>\n",
        "      <tr>\n",
        "        <td>ljust()</a></td><td>Returns a left justified \n",
        "        version of the string</td>\n",
        "      </tr>\n",
        "      <tr>\n",
        "        <td>lower()</a></td><td>Converts a string into \n",
        "        lower case</td>\n",
        "      </tr>\n",
        "      <tr>\n",
        "        <td>lstrip()</a></td><td>Returns a left trim \n",
        "        version of the string</td>\n",
        "      </tr>\n",
        "      <tr>\n",
        "        <td>maketrans()</a></td><td>Returns a \n",
        "        translation table to be used in translations</td>\n",
        "      </tr>\n",
        "      <tr>\n",
        "        <td>partition()</a></td><td>Returns a tuple \n",
        "        where the string is parted into three parts</td>\n",
        "      </tr>\n",
        "      <tr>\n",
        "        <td>replace()</a></td><td>Returns a string \n",
        "        where a specified value is replaced with a specified value</td>\n",
        "      </tr>\n",
        "      <tr>\n",
        "        <td>rfind()</a></td><td>Searches the string for \n",
        "        a specified value and returns the last position of where it was found</td>\n",
        "      </tr>\n",
        "      <tr>\n",
        "        <td>rindex()</a></td><td>Searches the string for \n",
        "        a specified value and returns the last position of where it was found</td>\n",
        "      </tr>\n",
        "      <tr>\n",
        "        <td>rjust()</a></td><td>Returns a right justified \n",
        "        version of the string</td>\n",
        "      </tr>\n",
        "      <tr>\n",
        "        <td>rpartition()</a></td><td>Returns a tuple \n",
        "        where the string is parted into three parts</td>\n",
        "      </tr>\n",
        "      <tr>\n",
        "        <td>rsplit()</a></td><td>Splits the string at \n",
        "        the specified separator, and returns a list</td>\n",
        "      </tr>\n",
        "      <tr>\n",
        "        <td>rstrip()</a></td><td>Returns a right trim \n",
        "        version of the string</td>\n",
        "      </tr>\n",
        "      <tr>\n",
        "        <td>split()</a></td><td>Splits the string at \n",
        "        the specified separator, and returns a list</td>\n",
        "      </tr>\n",
        "      <tr>\n",
        "        <td>splitlines()</a></td><td>Splits the string \n",
        "        at line breaks and returns a list</td>\n",
        "      </tr>\n",
        "      <tr>\n",
        "        <td>startswith()</a></td><td>Returns true if \n",
        "        the string starts with the specified value</td>\n",
        "      </tr>\n",
        "      <tr>\n",
        "        <td>strip()</a></td><td>Returns a trimmed version of the string</td>\n",
        "      </tr>\n",
        "      <tr>\n",
        "        <td>swapcase()</a></td><td>Swaps cases, lower \n",
        "        case becomes upper case and vice versa</td>\n",
        "      </tr>\n",
        "      <tr>\n",
        "        <td>title()</a></td><td>Converts the first \n",
        "        character of each word to upper case</td>\n",
        "      </tr>\n",
        "      <tr>\n",
        "        <td>translate()</a></td><td>Returns a \n",
        "        translated string</td>\n",
        "      </tr>\n",
        "      <tr>\n",
        "        <td>upper()</a></td><td>Converts a string \n",
        "        into upper case</td>\n",
        "      </tr>\n",
        "    <tr><td>zfill()</a></td><td>Fills the string with \n",
        "      a specified number of 0 values at the beginning</td></tr>\n",
        "    </tbody></table>"
      ],
      "metadata": {
        "id": "UL4_5COJpiUs"
      },
      "id": "UL4_5COJpiUs"
    },
    {
      "cell_type": "code",
      "execution_count": null,
      "id": "aefcbc27",
      "metadata": {
        "id": "aefcbc27"
      },
      "outputs": [],
      "source": [
        "# methodları incelemek için kullanılır\n",
        "str.*?"
      ]
    },
    {
      "cell_type": "code",
      "execution_count": null,
      "id": "9f730698",
      "metadata": {
        "id": "9f730698"
      },
      "outputs": [],
      "source": [
        "str.isalnum?"
      ]
    },
    {
      "cell_type": "code",
      "execution_count": null,
      "id": "97faf122",
      "metadata": {
        "id": "97faf122"
      },
      "outputs": [],
      "source": [
        "str.isalpha?"
      ]
    },
    {
      "cell_type": "markdown",
      "id": "2a4fbcfd",
      "metadata": {
        "id": "2a4fbcfd"
      },
      "source": [
        "# 8.11 Raw Strings\n",
        "  * Backslash characters in strings introduce _escape sequences_ like \\n for newline and \\t for tab\n",
        " * To include a backslash in a string, use two backslash characters \\\\\n",
        "  * Makes some strings difficult to read\n",
        " *  Consider a Microsoft Windows file location:\n"
      ]
    },
    {
      "cell_type": "code",
      "source": [],
      "metadata": {
        "id": "HXrwdxoqBZ_A"
      },
      "id": "HXrwdxoqBZ_A",
      "execution_count": null,
      "outputs": []
    },
    {
      "cell_type": "code",
      "source": [
        "s"
      ],
      "metadata": {
        "id": "CrdZg3kR6EcV"
      },
      "id": "CrdZg3kR6EcV",
      "execution_count": null,
      "outputs": []
    },
    {
      "cell_type": "code",
      "execution_count": null,
      "id": "dfa25722",
      "metadata": {
        "colab": {
          "base_uri": "https://localhost:8080/"
        },
        "id": "dfa25722",
        "outputId": "9a3a11b1-81d4-4a7d-c148-09535f97151a"
      },
      "outputs": [
        {
          "output_type": "stream",
          "name": "stdout",
          "text": [
            "as\n",
            "as\n",
            "--\n"
          ]
        }
      ],
      "source": [
        "\"\"\" \n",
        "alfa nümerik ve küçük harf\n",
        "merhaba\n",
        "-------\n",
        "\"\"\"\n",
        "\n",
        "veri = input(\"\")\n",
        "if veri.isalnum():\n",
        "    if veri.islower():\n",
        "        print(veri) \n",
        "        print('-' * len(veri))\n"
      ]
    },
    {
      "cell_type": "markdown",
      "id": "017b7568",
      "metadata": {
        "id": "017b7568"
      },
      "source": [
        "# 8.11 Raw Strings (cont.)\n",
        "\n",
        "* Faw strings—preceded by the character —are more convenient\n",
        "* They teat each backstash as a regular character, rather than the beginning ofan escape sequence\n",
        "\n"
      ]
    },
    {
      "cell_type": "code",
      "execution_count": null,
      "id": "a5288ffa",
      "metadata": {
        "id": "a5288ffa"
      },
      "outputs": [],
      "source": [
        "\n",
        "File_path = r'C:\\tyFolder\\WySubFolder\\WyFile.txt'"
      ]
    },
    {
      "cell_type": "code",
      "execution_count": null,
      "id": "e327e5f6",
      "metadata": {
        "colab": {
          "base_uri": "https://localhost:8080/",
          "height": 36
        },
        "id": "e327e5f6",
        "outputId": "14ee924d-7718-4482-f943-c51010079253"
      },
      "outputs": [
        {
          "output_type": "execute_result",
          "data": {
            "text/plain": [
              "'C:\\\\tyFolder\\\\WySubFolder\\\\WyFile.txt'"
            ],
            "application/vnd.google.colaboratory.intrinsic+json": {
              "type": "string"
            }
          },
          "metadata": {},
          "execution_count": 174
        }
      ],
      "source": [
        "File_path#windows formatın açevirir"
      ]
    },
    {
      "cell_type": "markdown",
      "id": "23293850",
      "metadata": {
        "id": "23293850"
      },
      "source": [
        "# 8.12.1 re Module and Function fullmatch\n",
        "\n",
        "* fuldmateh checks whether the entire string in its second argument matches the pattem in its first argument\n"
      ]
    },
    {
      "cell_type": "code",
      "execution_count": null,
      "id": "9b1ff09f",
      "metadata": {
        "id": "9b1ff09f"
      },
      "outputs": [],
      "source": [
        "import re\n"
      ]
    },
    {
      "cell_type": "code",
      "execution_count": null,
      "id": "e43ee699",
      "metadata": {
        "id": "e43ee699"
      },
      "outputs": [],
      "source": [
        "# Matching Literal Characters\n"
      ]
    },
    {
      "cell_type": "code",
      "execution_count": null,
      "id": "be57af3b",
      "metadata": {
        "colab": {
          "base_uri": "https://localhost:8080/",
          "height": 36
        },
        "id": "be57af3b",
        "outputId": "976d3362-e029-4da0-8867-e9d457abc983"
      },
      "outputs": [
        {
          "output_type": "execute_result",
          "data": {
            "text/plain": [
              "'No match'"
            ],
            "application/vnd.google.colaboratory.intrinsic+json": {
              "type": "string"
            }
          },
          "metadata": {},
          "execution_count": 177
        }
      ],
      "source": [
        "pattern = \"92215\"\n",
        "\n",
        "\"Match\" if re.fullmatch(pattern, '02215') else \"No match\"\n",
        "\n"
      ]
    },
    {
      "cell_type": "code",
      "execution_count": null,
      "id": "c3770ef7",
      "metadata": {
        "colab": {
          "base_uri": "https://localhost:8080/",
          "height": 36
        },
        "id": "c3770ef7",
        "outputId": "59728d20-1ab8-43b7-ac8d-9044daf49e0d"
      },
      "outputs": [
        {
          "output_type": "execute_result",
          "data": {
            "text/plain": [
              "'Match'"
            ],
            "application/vnd.google.colaboratory.intrinsic+json": {
              "type": "string"
            }
          },
          "metadata": {},
          "execution_count": 178
        }
      ],
      "source": [
        "\"Match\" if re.fullmatch(pattern, '92215') else \"No match\"\n"
      ]
    },
    {
      "cell_type": "markdown",
      "id": "1b714b0a",
      "metadata": {
        "id": "1b714b0a"
      },
      "source": [
        "* First argument is the regular expression patterh to match\n",
        "    * Any string can be a regular expression\n",
        "    * literal characters match themselves in the specified order\n",
        "* Second argument is the string that should entirely match the pattern\n",
        "* Ifthe second argument matches the pattern in the first argument, fullmatch retums an object containing the matching text, which evaluates to True\n",
        "* Forno match, fullmatch retums None , which evaluates to False\n",
        "\n"
      ]
    },
    {
      "cell_type": "markdown",
      "id": "9b7172eb",
      "metadata": {
        "id": "9b7172eb"
      },
      "source": [
        "# Metacharacters, Character Classes and Quantifiers\n",
        "\n",
        "* Regular expressions typically contain various special symbols called metacharacters:\n",
        "\n"
      ]
    },
    {
      "cell_type": "markdown",
      "source": [
        "<tbody><tr>\n",
        "<th style=\"width:120px\">Character</th>\n",
        "<th>Description</th>\n",
        "<th style=\"width:120px\">Example</th>\n",
        "</tr>\n",
        "<tr>\n",
        "<td>[]</td>\n",
        "<td>A set of characters</td>\n",
        "<td>\"[a-m]\"</td>\n",
        "</tr>\n",
        "<tr>\n",
        "<td>\\</td>\n",
        "<td>Signals a special sequence (can also be used to escape special characters)</td>\n",
        "<td>\"\\d\"</td>\n",
        "</tr>\n",
        "<tr>\n",
        "<td>.</td>\n",
        "<td>Any character (except newline character)</td>\n",
        "<td>\"he..o\"</td>\n",
        "</tr>\n",
        "<tr>\n",
        "<td>^</td>\n",
        "<td>Starts with</td>\n",
        "<td>\"^hello\"</td>\n",
        "</tr>\n",
        "<tr>\n",
        "<td>*</td>\n",
        "<td>Zero or more occurrences</td>\n",
        "<td>\"he.*o\"</td>\n",
        "  </tr>\n",
        "  <tr>\n",
        "<td>+</td>\n",
        "<td>One or more occurrences</td>\n",
        "<td>\"he.+o\"</td>\n",
        "  </tr>\n",
        "  <tr>\n",
        "<td>?</td>\n",
        "<td>Zero or one occurrences</td>\n",
        "<td>\"he.?o\"</td>\n",
        "  </tr>\n",
        "  <tr>\n",
        "<td>{}</td>\n",
        "<td>Exactly the specified number of occurrences</td>\n",
        "<td>\"he.{2}o\"</td>\n",
        "  </tr>\n",
        "  <tr>\n",
        "<td>|</td>\n",
        "<td>Either or</td>\n",
        "<td>\"falls|stays\"</td>\n",
        "\n",
        "  </tr>\n",
        "  <tr>\n",
        "<td>()</td>\n",
        "<td>Capture and group</td>\n",
        "<td>&nbsp;</td>\n",
        "<td>&nbsp;</td>\n",
        "  </tr>\n",
        "\n",
        "<td>$</td>\n",
        "<td>Capture and group</td>\n",
        "<td> \"planet$$\"</td>\n",
        "<td>&nbsp;</td>\n",
        "  </tr>\n",
        "</tbody>"
      ],
      "metadata": {
        "id": "ucxnh1Ah9G_4"
      },
      "id": "ucxnh1Ah9G_4"
    },
    {
      "cell_type": "markdown",
      "id": "dcb62984",
      "metadata": {
        "id": "dcb62984"
      },
      "source": [
        "* \\ metacharacter begins each predefined character class\n",
        "* Each matches a specific set of characters\n"
      ]
    },
    {
      "cell_type": "code",
      "execution_count": null,
      "id": "397fa736",
      "metadata": {
        "colab": {
          "base_uri": "https://localhost:8080/",
          "height": 36
        },
        "id": "397fa736",
        "outputId": "319113f6-fb83-4053-c8ec-e3c699e09a9e"
      },
      "outputs": [
        {
          "output_type": "execute_result",
          "data": {
            "text/plain": [
              "'Invalid'"
            ],
            "application/vnd.google.colaboratory.intrinsic+json": {
              "type": "string"
            }
          },
          "metadata": {},
          "execution_count": 179
        }
      ],
      "source": [
        "'Valid' if re.fullmatch(r'\\d{5}', '2215') else \"Invalid\"\n",
        "\n"
      ]
    },
    {
      "cell_type": "markdown",
      "id": "b4dde8d4",
      "metadata": {
        "id": "b4dde8d4"
      },
      "source": [
        "\n",
        " \n",
        "\n",
        "+ In \\d{5}, \\d isa character class representing a digit (0-9)\n",
        "+ Acharacter class is a regular expression escape sequence that matches one character\n",
        "+ To match more than one, follow the character class with a quantifier\n",
        "\n",
        "+ {5} repeats \\d five times to match five consecutive digits\n"
      ]
    },
    {
      "cell_type": "code",
      "execution_count": null,
      "id": "c9a7d2be",
      "metadata": {
        "colab": {
          "base_uri": "https://localhost:8080/"
        },
        "id": "c9a7d2be",
        "outputId": "a4b84465-50fe-4906-8da7-33143efcd2d7"
      },
      "outputs": [
        {
          "output_type": "stream",
          "name": "stdout",
          "text": [
            "Match found!\n"
          ]
        }
      ],
      "source": [
        "import re\n",
        "\n",
        "# ^ (Caret): Satırın başlangıcına karşılık gelir.\n",
        "# Örnek: \"hello\" kelimesinin bir satırın başında olup olmadığını kontrol edin.\n",
        "pattern = r\"^hello\"\n",
        "text = \"hello world\"\n",
        "match = re.search(pattern, text)\n",
        "if match:\n",
        "    print(\"Match found!\")\n",
        "else:\n",
        "    print(\"Match not found.\")\n"
      ]
    },
    {
      "cell_type": "code",
      "execution_count": null,
      "id": "37b74d42",
      "metadata": {
        "colab": {
          "base_uri": "https://localhost:8080/"
        },
        "id": "37b74d42",
        "outputId": "5014607f-e990-4939-f8d1-c8abdd006f7f"
      },
      "outputs": [
        {
          "output_type": "stream",
          "name": "stdout",
          "text": [
            "Match found!\n"
          ]
        }
      ],
      "source": [
        "\n",
        "# $ (Dollar): Satırın sonuna karşılık gelir.\n",
        "# Örnek: \"world\" kelimesinin bir satırın sonunda olup olmadığını kontrol edin.\n",
        "pattern = r\"world$\"\n",
        "text = \"hello world\"\n",
        "match = re.search(pattern, text)\n",
        "if match:\n",
        "    print(\"Match found!\")\n",
        "else:\n",
        "    print(\"Match not found.\")\n"
      ]
    },
    {
      "cell_type": "code",
      "execution_count": null,
      "id": "5ead4bed",
      "metadata": {
        "colab": {
          "base_uri": "https://localhost:8080/"
        },
        "id": "5ead4bed",
        "outputId": "405ae9a7-ee36-456c-9e45-ac109558588e"
      },
      "outputs": [
        {
          "output_type": "stream",
          "name": "stdout",
          "text": [
            "Match found!\n"
          ]
        }
      ],
      "source": [
        "\n",
        "# . (Dot): Herhangi bir tek karakteri eşleştirir.\n",
        "# Örnek: \"cat\" kelimesinin bir \"c\" karakteri, herhangi bir karakter ve bir \"t\" karakteriyle oluştuğunu kontrol edin.\n",
        "pattern = r\"c.t\"\n",
        "text = \"The cat in the hat\"\n",
        "match = re.search(pattern, text)\n",
        "if match:\n",
        "    print(\"Match found!\")\n",
        "else:\n",
        "    print(\"Match not found.\")\n"
      ]
    },
    {
      "cell_type": "code",
      "execution_count": null,
      "id": "127d2d60",
      "metadata": {
        "colab": {
          "base_uri": "https://localhost:8080/"
        },
        "id": "127d2d60",
        "outputId": "383e84de-434e-4a64-95ea-10aeab186b14"
      },
      "outputs": [
        {
          "output_type": "stream",
          "name": "stdout",
          "text": [
            "['', 'a', '', 'a', '', 'a', '']\n"
          ]
        }
      ],
      "source": [
        "\n",
        "# * (Asterisk): Önceki karakterin sıfır veya daha fazla tekrarını eşleştirir.\n",
        "# Örnek: \"a\" harfinin sıfır veya daha fazla tekrarını eşleştirin.\n",
        "pattern = r\"a*\"\n",
        "text = \"banana\"\n",
        "match = re.findall(pattern, text)\n",
        "print(match)\n"
      ]
    },
    {
      "cell_type": "code",
      "execution_count": null,
      "id": "a58a604d",
      "metadata": {
        "colab": {
          "base_uri": "https://localhost:8080/"
        },
        "id": "a58a604d",
        "outputId": "fb4bd9cf-dda6-4779-d1fb-6e4e31817aa9"
      },
      "outputs": [
        {
          "output_type": "stream",
          "name": "stdout",
          "text": [
            "['a', 'a', 'a']\n"
          ]
        }
      ],
      "source": [
        "\n",
        "# + (Plus): Önceki karakterin bir veya daha fazla tekrarını eşleştirir.\n",
        "# Örnek: \"a\" harfinin bir veya daha fazla tekrarını eşleştirin.\n",
        "pattern = r\"a+\"\n",
        "text = \"banana\"\n",
        "match = re.findall(pattern, text)\n",
        "print(match)\n"
      ]
    },
    {
      "cell_type": "code",
      "execution_count": null,
      "id": "3f688933",
      "metadata": {
        "colab": {
          "base_uri": "https://localhost:8080/"
        },
        "id": "3f688933",
        "outputId": "ad829d63-dcad-477b-be2c-cad8682eed3b"
      },
      "outputs": [
        {
          "output_type": "stream",
          "name": "stdout",
          "text": [
            "Match found in text1!\n",
            "Match found in text2!\n"
          ]
        }
      ],
      "source": [
        "\n",
        "# ? (Question Mark): Önceki karakterin sıfır veya bir kez tekrarını eşleştirir.\n",
        "# Örnek: \"color\" veya \"colour\" kelimesini eşleştirin.\n",
        "pattern = r\"colou?r\"\n",
        "text1 = \"color\"\n",
        "text2 = \"colour\"\n",
        "match1 = re.search(pattern, text1)\n",
        "match2 = re.search(pattern, text2)\n",
        "if match1:\n",
        "    print(\"Match found in text1!\")\n",
        "if match2:\n",
        "    print(\"Match found in text2!\")\n",
        "\n"
      ]
    },
    {
      "cell_type": "code",
      "execution_count": null,
      "id": "2ab69021",
      "metadata": {
        "colab": {
          "base_uri": "https://localhost:8080/"
        },
        "id": "2ab69021",
        "outputId": "185fd8f0-6dfd-4cae-b088-67906f300171"
      },
      "outputs": [
        {
          "output_type": "stream",
          "name": "stdout",
          "text": [
            "['e', 'i', 'e', 'e', 'a']\n"
          ]
        }
      ],
      "source": [
        "# [] (Square Brackets): Belirli bir karakter kümesini eşleştirir.\n",
        "# Örnek: \"a\", \"e\" veya \"i\" karakterlerinden herhangi birini eşleştirin.\n",
        "pattern = r\"[aei]\"\n",
        "text = \"The quick brown fox jumps over the lazy dog\"\n",
        "match = re.findall(pattern, text)\n",
        "print(match)\n"
      ]
    },
    {
      "cell_type": "code",
      "execution_count": null,
      "id": "32102463",
      "metadata": {
        "colab": {
          "base_uri": "https://localhost:8080/"
        },
        "id": "32102463",
        "outputId": "ca0795ad-57a5-48e7-e946-fd6e54f82a61"
      },
      "outputs": [
        {
          "output_type": "stream",
          "name": "stdout",
          "text": [
            "Match not found\n"
          ]
        }
      ],
      "source": [
        "\n",
        "# [^] (Caret inside Square Brackets): Belirli bir karakter kümesi dışındaki herhangi bir karakteri eşleştirir.\n",
        "# Örnek: \"The\" ile başlayan ve \"over\" kelimesini içeren herhangi bir karakter dizisini eşleştirin.\n",
        "pattern = r\"^The[^over]*over.*$\"\n",
        "text = \"The quick brown fox jumps over the lazy dog\"\n",
        "match = re.search(pattern, text)\n",
        "if match:\n",
        "    print(\"Match found!\")\n",
        "else:\n",
        "    print(\"Match not found\")"
      ]
    },
    {
      "cell_type": "code",
      "execution_count": null,
      "id": "4d61da88",
      "metadata": {
        "colab": {
          "base_uri": "https://localhost:8080/"
        },
        "id": "4d61da88",
        "outputId": "22449303-a7ea-4153-a381-15db5735c36e"
      },
      "outputs": [
        {
          "output_type": "stream",
          "name": "stdout",
          "text": [
            "['c', 'b']\n"
          ]
        }
      ],
      "source": [
        "# () (Parantheses): Bir grup karakteri eşleştirir.\n",
        "# Örnek: \"cat\" veya \"bat\" kelimelerini eşleştirin.\n",
        "pattern = r\"(c|b)at\"\n",
        "text = \"The cat in the hat chased the bat\"\n",
        "match = re.findall(pattern, text)\n",
        "print(match)"
      ]
    },
    {
      "cell_type": "code",
      "execution_count": null,
      "id": "8bb89f5a",
      "metadata": {
        "colab": {
          "base_uri": "https://localhost:8080/"
        },
        "id": "8bb89f5a",
        "outputId": "ae2a67c3-2a39-4c5e-d903-28ab472b6a0c"
      },
      "outputs": [
        {
          "output_type": "stream",
          "name": "stdout",
          "text": [
            "[]\n"
          ]
        }
      ],
      "source": [
        "\n",
        "\n",
        "# {n} (Curly Braces): Önceki karakterin tam olarak n kez tekrarını eşleştirir.\n",
        "# Örnek: \"a\" harfini üç kez tekrar eden karakter dizilerini eşleştirin.\n",
        "pattern = r\"a{3}\"\n",
        "text = \"banana\"\n",
        "match = re.findall(pattern, text)\n",
        "print(match)"
      ]
    },
    {
      "cell_type": "code",
      "execution_count": null,
      "id": "0d5f3cbe",
      "metadata": {
        "colab": {
          "base_uri": "https://localhost:8080/"
        },
        "id": "0d5f3cbe",
        "outputId": "4bd02c44-7f06-4abe-ebcd-a8c0c801707c"
      },
      "outputs": [
        {
          "output_type": "stream",
          "name": "stdout",
          "text": [
            "['aa', 'aaa']\n"
          ]
        }
      ],
      "source": [
        "\n",
        "\n",
        "# {m,n} (Curly Braces with two parameters): Önceki karakterin en az m ve en fazla n kez tekrarını eşleştirir.\n",
        "# Örnek: \"a\" harfini en az 2, en fazla 4 kez tekrar eden karakter dizilerini eşleştirin.\n",
        "pattern = r\"a{2,4}\"\n",
        "text = \"baananaaa\"\n",
        "match = re.findall(pattern, text)\n",
        "print(match)\n"
      ]
    },
    {
      "cell_type": "code",
      "execution_count": null,
      "id": "14afec0d",
      "metadata": {
        "colab": {
          "base_uri": "https://localhost:8080/"
        },
        "id": "14afec0d",
        "outputId": "2be4184f-739f-4822-ed01-0c203e8d352b"
      },
      "outputs": [
        {
          "output_type": "stream",
          "name": "stdout",
          "text": [
            "Match found!\n"
          ]
        }
      ],
      "source": [
        "\n",
        "# | (Vertical Bar): Alternatif karakterler arasında seçim yapar.\n",
        "# Örnek: \"cat\" veya \"dog\" kelimelerini eşleştirin.\n",
        "pattern = r\"cat|dog\"\n",
        "text = \"I have a cat and a dog\"\n",
        "match = re.search(pattern, text)\n",
        "if match:\n",
        "    print(\"Match found!\")\n",
        "else:\n",
        "    print(\"Match not found.\")\n"
      ]
    },
    {
      "cell_type": "code",
      "execution_count": null,
      "id": "de581369",
      "metadata": {
        "colab": {
          "base_uri": "https://localhost:8080/"
        },
        "id": "de581369",
        "outputId": "e30b9181-3ef6-49de-e876-55988b5bf66f"
      },
      "outputs": [
        {
          "output_type": "stream",
          "name": "stdout",
          "text": [
            "Match not found.\n",
            "5'9\\\\\n",
            "I am 5'9\" tall\n"
          ]
        }
      ],
      "source": [
        "\n",
        "# \\ (Backslash): Metacharacterleri kaçırmak için kullanılır.\n",
        "# Örnek: \"I am 5'9\\\" tall\" cümlesindeki tırnak işaretini eşleştirin.\n",
        "pattern = r\"5'9\\\\\"\n",
        "text = \"I am 5'9\\\" tall\"\n",
        "text2=\"I am 5'9\\\\\\\" tall\"#text2 içinn Match found! dödürecektir\n",
        "match = re.search(pattern, text)\n",
        "if match:\n",
        "    print(\"Match found!\")\n",
        "else:\n",
        "    print(\"Match not found.\")\n",
        "print(pattern)\n",
        "print(text)"
      ]
    },
    {
      "cell_type": "code",
      "execution_count": null,
      "id": "71d8600e",
      "metadata": {
        "colab": {
          "base_uri": "https://localhost:8080/",
          "height": 36
        },
        "id": "71d8600e",
        "outputId": "91508701-47a3-4fb7-e18f-5fdc66109846"
      },
      "outputs": [
        {
          "output_type": "execute_result",
          "data": {
            "text/plain": [
              "'Invalid'"
            ],
            "application/vnd.google.colaboratory.intrinsic+json": {
              "type": "string"
            }
          },
          "metadata": {},
          "execution_count": 193
        }
      ],
      "source": [
        "'Valid'  if re.fullmatch(r'\\d{5}', '9876') else \"Invalid\"\n"
      ]
    },
    {
      "cell_type": "markdown",
      "id": "e5ea87d6",
      "metadata": {
        "id": "e5ea87d6"
      },
      "source": [
        "\n",
        "# Other Predefined Character Classes\n",
        "\n",
        "* To match any metacharacter as its literal value, precede it by a backslash ( \\ )\n",
        "    * For example, \\\\\\ matches a backslash ( \\\\) and \\\\\\\\$ matches a dollar sign ( $ )\n"
      ]
    },
    {
      "cell_type": "code",
      "execution_count": null,
      "id": "c2c8dea6",
      "metadata": {
        "id": "c2c8dea6"
      },
      "outputs": [],
      "source": [
        "##################"
      ]
    },
    {
      "cell_type": "markdown",
      "id": "7f5d162c",
      "metadata": {
        "id": "7f5d162c"
      },
      "source": [
        "\\d Any digit (0-9)\n",
        "\\D Any character that is not a digit.\n",
        "\n",
        "\n",
        "\\s Any whitespace character (such as spaces, tabs and newlines)\n",
        "\\S Any character that is not a vinitespace character.\n",
        "\n",
        "\\w Any word character (also called an alphanumeric character}—that is, any uppercase or lowercase letter, any digit or an\n",
        "underscore\n",
        "\n",
        "\n",
        "\n",
        "\\W Any character that is not a word character.\n"
      ]
    },
    {
      "cell_type": "markdown",
      "id": "e9f3e344",
      "metadata": {
        "id": "e9f3e344"
      },
      "source": [
        "# Custom Character Classes\n",
        "\n",
        "* Square brackets  []  , define a custom character class that matches a single character\n",
        "* [aeibu) matches a lowercase vowel\n",
        "\n",
        "* [A-Z] matches an uppercase letter\n",
        "\n",
        "* [a-z] matches a lowercase letter\n",
        "\n",
        "* [a-zA-Z] matches any lowercase or uppercase letter\n"
      ]
    },
    {
      "cell_type": "code",
      "execution_count": null,
      "id": "17d6e5f9",
      "metadata": {
        "colab": {
          "base_uri": "https://localhost:8080/",
          "height": 36
        },
        "id": "17d6e5f9",
        "outputId": "9f149093-dc90-4c2a-aeeb-a99d9cd50c90"
      },
      "outputs": [
        {
          "output_type": "execute_result",
          "data": {
            "text/plain": [
              "'Valid'"
            ],
            "application/vnd.google.colaboratory.intrinsic+json": {
              "type": "string"
            }
          },
          "metadata": {},
          "execution_count": 195
        }
      ],
      "source": [
        "\"Valid\" if re.fullmatch(\"[A-z][a-z]*\", 'Wally') else \"Invalid\"\n",
        "\n"
      ]
    },
    {
      "cell_type": "code",
      "execution_count": null,
      "id": "18224f94",
      "metadata": {
        "colab": {
          "base_uri": "https://localhost:8080/",
          "height": 36
        },
        "id": "18224f94",
        "outputId": "7ddc241f-c669-4c1b-8dbe-697119896637"
      },
      "outputs": [
        {
          "output_type": "execute_result",
          "data": {
            "text/plain": [
              "'Valid'"
            ],
            "application/vnd.google.colaboratory.intrinsic+json": {
              "type": "string"
            }
          },
          "metadata": {},
          "execution_count": 196
        }
      ],
      "source": [
        "\"Valid\" if re.fullmatch(\"[A-z][a-z]*\", 'eva') else \"Invalid\"\n"
      ]
    },
    {
      "cell_type": "code",
      "execution_count": null,
      "id": "be13a967",
      "metadata": {
        "colab": {
          "base_uri": "https://localhost:8080/",
          "height": 36
        },
        "id": "be13a967",
        "outputId": "9676189b-fce2-4777-e9b7-aea8226bb78a"
      },
      "outputs": [
        {
          "output_type": "execute_result",
          "data": {
            "text/plain": [
              "'Match'"
            ],
            "application/vnd.google.colaboratory.intrinsic+json": {
              "type": "string"
            }
          },
          "metadata": {},
          "execution_count": 197
        }
      ],
      "source": [
        "\"Match\" if re.fullmatch('[^a-z]', 'A') else 'No match'\n"
      ]
    },
    {
      "cell_type": "code",
      "execution_count": null,
      "id": "ff73659b",
      "metadata": {
        "colab": {
          "base_uri": "https://localhost:8080/",
          "height": 36
        },
        "id": "ff73659b",
        "outputId": "e3e2297e-d597-4992-96ab-84921ece3c84"
      },
      "outputs": [
        {
          "output_type": "execute_result",
          "data": {
            "text/plain": [
              "'No match'"
            ],
            "application/vnd.google.colaboratory.intrinsic+json": {
              "type": "string"
            }
          },
          "metadata": {},
          "execution_count": 198
        }
      ],
      "source": [
        "\"Match\" if re.fullmatch('[^a-z]', 'a') else 'No match'\n"
      ]
    },
    {
      "cell_type": "code",
      "execution_count": null,
      "id": "54c52f13",
      "metadata": {
        "colab": {
          "base_uri": "https://localhost:8080/",
          "height": 36
        },
        "id": "54c52f13",
        "outputId": "483bb0d9-dcdc-469f-c597-d4b2aef70bfe"
      },
      "outputs": [
        {
          "output_type": "execute_result",
          "data": {
            "text/plain": [
              "'Match'"
            ],
            "application/vnd.google.colaboratory.intrinsic+json": {
              "type": "string"
            }
          },
          "metadata": {},
          "execution_count": 199
        }
      ],
      "source": [
        "\"Match\" if re.fullmatch(\"[*+$]\", '*') else 'No match'\n"
      ]
    },
    {
      "cell_type": "code",
      "execution_count": null,
      "id": "cca67b9a",
      "metadata": {
        "colab": {
          "base_uri": "https://localhost:8080/",
          "height": 36
        },
        "id": "cca67b9a",
        "outputId": "32ef5f74-30d1-41de-d730-dbbc3f9bfb68"
      },
      "outputs": [
        {
          "output_type": "execute_result",
          "data": {
            "text/plain": [
              "'No match'"
            ],
            "application/vnd.google.colaboratory.intrinsic+json": {
              "type": "string"
            }
          },
          "metadata": {},
          "execution_count": 200
        }
      ],
      "source": [
        "\"Match\" if re.fullmatch('[*+$]', '!') else 'No match'\n"
      ]
    },
    {
      "cell_type": "markdown",
      "id": "0997f93a",
      "metadata": {
        "id": "0997f93a"
      },
      "source": [
        "# * vs. + Quantifier\n",
        "\n",
        "* \\+ matches at least one occurrence of a subexpression\n",
        "* \\* and + are greedy—they match as many characters as possible\n",
        "\n"
      ]
    },
    {
      "cell_type": "code",
      "execution_count": null,
      "id": "017b4cbd",
      "metadata": {
        "colab": {
          "base_uri": "https://localhost:8080/",
          "height": 36
        },
        "id": "017b4cbd",
        "outputId": "8fd0c26d-9f01-4fee-c3ca-df2b42dd59a0"
      },
      "outputs": [
        {
          "output_type": "execute_result",
          "data": {
            "text/plain": [
              "'Valid'"
            ],
            "application/vnd.google.colaboratory.intrinsic+json": {
              "type": "string"
            }
          },
          "metadata": {},
          "execution_count": 201
        }
      ],
      "source": [
        "'Valid' if re.fullmatch( '[A-Z][a-z]+' , 'Wally') else 'Invalid'\n",
        "\n",
        "\n"
      ]
    },
    {
      "cell_type": "code",
      "execution_count": null,
      "id": "6d349022",
      "metadata": {
        "colab": {
          "base_uri": "https://localhost:8080/",
          "height": 36
        },
        "id": "6d349022",
        "outputId": "24490710-61bd-4db9-8e00-3e49b22e7aec"
      },
      "outputs": [
        {
          "output_type": "execute_result",
          "data": {
            "text/plain": [
              "'Valid'"
            ],
            "application/vnd.google.colaboratory.intrinsic+json": {
              "type": "string"
            }
          },
          "metadata": {},
          "execution_count": 202
        }
      ],
      "source": [
        "'Valid' if re.fullmatch(\"[A-Z][a-z]+\", 'Wally') else 'Invalid'\n"
      ]
    },
    {
      "cell_type": "markdown",
      "id": "bf16487c",
      "metadata": {
        "id": "bf16487c"
      },
      "source": [
        "\n",
        "\n",
        "# Other Quantifiers\n",
        "\n",
        "* ? quantifier matches zero or one occurrences of a subexpression\n",
        "\n"
      ]
    },
    {
      "cell_type": "code",
      "execution_count": null,
      "id": "901581a1",
      "metadata": {
        "colab": {
          "base_uri": "https://localhost:8080/",
          "height": 36
        },
        "id": "901581a1",
        "outputId": "407a2db1-83c0-4d70-853f-e02f8830c0d0"
      },
      "outputs": [
        {
          "output_type": "execute_result",
          "data": {
            "text/plain": [
              "'match'"
            ],
            "application/vnd.google.colaboratory.intrinsic+json": {
              "type": "string"
            }
          },
          "metadata": {},
          "execution_count": 203
        }
      ],
      "source": [
        "'match' if re.fullmatch('labell?ed', 'labelled') else 'No match'\n"
      ]
    },
    {
      "cell_type": "code",
      "execution_count": null,
      "id": "004d8574",
      "metadata": {
        "colab": {
          "base_uri": "https://localhost:8080/",
          "height": 36
        },
        "id": "004d8574",
        "outputId": "7980c5bb-e1f6-4e36-8b27-83cea817c757"
      },
      "outputs": [
        {
          "output_type": "execute_result",
          "data": {
            "text/plain": [
              "'match'"
            ],
            "application/vnd.google.colaboratory.intrinsic+json": {
              "type": "string"
            }
          },
          "metadata": {},
          "execution_count": 204
        }
      ],
      "source": [
        "'match' if re.fullmatch('labell?ed', 'labeled') else 'No match'\n"
      ]
    },
    {
      "cell_type": "code",
      "execution_count": null,
      "id": "02e0960c",
      "metadata": {
        "colab": {
          "base_uri": "https://localhost:8080/",
          "height": 36
        },
        "id": "02e0960c",
        "outputId": "eabf6ffb-900c-4958-bf71-936db15fd42d"
      },
      "outputs": [
        {
          "output_type": "execute_result",
          "data": {
            "text/plain": [
              "'No match'"
            ],
            "application/vnd.google.colaboratory.intrinsic+json": {
              "type": "string"
            }
          },
          "metadata": {},
          "execution_count": 205
        }
      ],
      "source": [
        "'match' if re.fullmatch('labell?ed', 'labellled') else 'No match'\n"
      ]
    },
    {
      "cell_type": "code",
      "execution_count": null,
      "id": "493bb74d",
      "metadata": {
        "id": "493bb74d"
      },
      "outputs": [],
      "source": []
    },
    {
      "cell_type": "markdown",
      "id": "c3887a99",
      "metadata": {
        "id": "c3887a99"
      },
      "source": [
        "# 8.12.2 Replacing Substrings and Splitting Strings\n",
        "\n",
        "* sub function replaces patterns in a string\n",
        "+ split function breaks a string into pieces, based on patterns\n",
        "\n"
      ]
    },
    {
      "cell_type": "markdown",
      "id": "cb57c474",
      "metadata": {
        "id": "cb57c474"
      },
      "source": [
        "## Function sub—Replacing Patterns \n",
        "\n",
        "* sub function replaces all occurrences of a pattern with the replacement text you specify\n"
      ]
    },
    {
      "cell_type": "code",
      "execution_count": null,
      "id": "c74c55c1",
      "metadata": {
        "colab": {
          "base_uri": "https://localhost:8080/",
          "height": 36
        },
        "id": "c74c55c1",
        "outputId": "1cb25a8a-5ea5-43e3-a62a-4a2eacb028a7"
      },
      "outputs": [
        {
          "output_type": "execute_result",
          "data": {
            "text/plain": [
              "'1,2,3,4'"
            ],
            "application/vnd.google.colaboratory.intrinsic+json": {
              "type": "string"
            }
          },
          "metadata": {},
          "execution_count": 206
        }
      ],
      "source": [
        "import re\n",
        "\n",
        " \n",
        "\n",
        "re.sub(r'\\t', ',', '1\\t2\\t3\\t4')\n",
        "\n"
      ]
    },
    {
      "cell_type": "markdown",
      "id": "2442ba94",
      "metadata": {
        "id": "2442ba94"
      },
      "source": [
        "* Three required arguments:\n",
        "\t* the pattern to match (the tab character *\\t\" )\n",
        "\t* the replacement text (\" , \" ) and\n",
        "\t* the string to be searched ( 1\\t2\\t3\\t4' )\n",
        "* Keyword argument count can be used to specify the maximum number of replacements\n"
      ]
    },
    {
      "cell_type": "code",
      "execution_count": null,
      "id": "d1b44817",
      "metadata": {
        "colab": {
          "base_uri": "https://localhost:8080/",
          "height": 36
        },
        "id": "d1b44817",
        "outputId": "2c00207a-e34d-4010-b337-5901d340b712"
      },
      "outputs": [
        {
          "output_type": "execute_result",
          "data": {
            "text/plain": [
              "'1, 2, 3\\t4'"
            ],
            "application/vnd.google.colaboratory.intrinsic+json": {
              "type": "string"
            }
          },
          "metadata": {},
          "execution_count": 207
        }
      ],
      "source": [
        "re.sub(r'\\t', ', ', '1\\t2\\t3\\t4', count=2)\n",
        "\n"
      ]
    },
    {
      "cell_type": "markdown",
      "id": "998ca2df",
      "metadata": {
        "id": "998ca2df"
      },
      "source": [
        "\n",
        "#Function split\n",
        "\n",
        "* split function fokenizes a string, using a regular expression to specify the delimiter\n",
        "* Retums a list of strings\n",
        "\n"
      ]
    },
    {
      "cell_type": "code",
      "execution_count": null,
      "id": "ad6df513",
      "metadata": {
        "colab": {
          "base_uri": "https://localhost:8080/"
        },
        "id": "ad6df513",
        "outputId": "e2b646dd-7070-4e8e-8eb6-ff1cdae128a1"
      },
      "outputs": [
        {
          "output_type": "execute_result",
          "data": {
            "text/plain": [
              "['1', '2', '3', '4', '5', '6', '7', '8']"
            ]
          },
          "metadata": {},
          "execution_count": 208
        }
      ],
      "source": [
        "re.split(r',\\s*', \"1, 2, 3,4,  5,6,7,8\")"
      ]
    },
    {
      "cell_type": "markdown",
      "id": "46c5dd22",
      "metadata": {
        "id": "46c5dd22"
      },
      "source": [
        "* Keyword argument maxsplit specifies maximum number of splits"
      ]
    },
    {
      "cell_type": "code",
      "execution_count": null,
      "id": "db433a50",
      "metadata": {
        "colab": {
          "base_uri": "https://localhost:8080/"
        },
        "id": "db433a50",
        "outputId": "2fdbfc61-8b0f-44d1-ff30-d65a7f591d12"
      },
      "outputs": [
        {
          "output_type": "execute_result",
          "data": {
            "text/plain": [
              "['1', '2', '3', '4,   5,6,7,8']"
            ]
          },
          "metadata": {},
          "execution_count": 209
        }
      ],
      "source": [
        "re.split(r',\\s*', '1, 2, 3,4,   5,6,7,8', maxsplit=3)"
      ]
    },
    {
      "cell_type": "code",
      "execution_count": null,
      "id": "2a5b068d",
      "metadata": {
        "id": "2a5b068d"
      },
      "outputs": [],
      "source": []
    },
    {
      "cell_type": "markdown",
      "id": "e5a364a7",
      "metadata": {
        "id": "e5a364a7"
      },
      "source": [
        "# Function search —Finding the First Match Anywhere in a String\n",
        "\n",
        "* search looks in a string for the first occurrence of a substring that matches a regular expression and returns a match\n",
        "* object (of type SRE_Match ) that contains the matching substring\n",
        "* Match object’s group method returns that substring\n"
      ]
    },
    {
      "cell_type": "code",
      "execution_count": null,
      "id": "fdfdf81d",
      "metadata": {
        "id": "fdfdf81d"
      },
      "outputs": [],
      "source": [
        "import re "
      ]
    },
    {
      "cell_type": "code",
      "execution_count": null,
      "id": "d072540f",
      "metadata": {
        "id": "d072540f"
      },
      "outputs": [],
      "source": [
        "result = re.search('Python', 'Python is fun')\n"
      ]
    },
    {
      "cell_type": "code",
      "execution_count": null,
      "id": "91670048",
      "metadata": {
        "colab": {
          "base_uri": "https://localhost:8080/",
          "height": 36
        },
        "id": "91670048",
        "outputId": "66806f0f-c3d8-47ad-cbd2-854fb28aa9c6"
      },
      "outputs": [
        {
          "output_type": "execute_result",
          "data": {
            "text/plain": [
              "'Python'"
            ],
            "application/vnd.google.colaboratory.intrinsic+json": {
              "type": "string"
            }
          },
          "metadata": {},
          "execution_count": 212
        }
      ],
      "source": [
        "result.group() if result else 'not found'"
      ]
    },
    {
      "cell_type": "markdown",
      "id": "38ebfaa6",
      "metadata": {
        "id": "38ebfaa6"
      },
      "source": [
        "* search retums None if the string does not contain the pattern\n"
      ]
    },
    {
      "cell_type": "code",
      "execution_count": null,
      "id": "18fdbb0b",
      "metadata": {
        "colab": {
          "base_uri": "https://localhost:8080/",
          "height": 36
        },
        "id": "18fdbb0b",
        "outputId": "17ce73df-aeb2-43a2-a698-3a01ba5c8937"
      },
      "outputs": [
        {
          "output_type": "execute_result",
          "data": {
            "text/plain": [
              "'not found'"
            ],
            "application/vnd.google.colaboratory.intrinsic+json": {
              "type": "string"
            }
          },
          "metadata": {},
          "execution_count": 213
        }
      ],
      "source": [
        "\n",
        "result2 = re.search('fun!', 'Python is fun')\n",
        "\n",
        "result2.group() if result2 else 'not found'"
      ]
    },
    {
      "cell_type": "markdown",
      "id": "868e0adf",
      "metadata": {
        "id": "868e0adf"
      },
      "source": [
        "# Ignoring Case with the Optional flags Keyword Argument\n",
        "\n",
        "* Many re module functions receive an optional flags keyword argument\n",
        "* Changes how regular expressions are matched\n",
        "\n"
      ]
    },
    {
      "cell_type": "code",
      "execution_count": null,
      "id": "106ea603",
      "metadata": {
        "colab": {
          "base_uri": "https://localhost:8080/",
          "height": 36
        },
        "id": "106ea603",
        "outputId": "853e879c-14c2-44a3-a69e-05c6e6838926"
      },
      "outputs": [
        {
          "output_type": "execute_result",
          "data": {
            "text/plain": [
              "'SAM'"
            ],
            "application/vnd.google.colaboratory.intrinsic+json": {
              "type": "string"
            }
          },
          "metadata": {},
          "execution_count": 214
        }
      ],
      "source": [
        "result3 = re.search('Sam', 'SAM WHITE', flags=re.IGNORECASE)\n",
        "\n",
        "\n",
        "result3.group() if result3 else 'not found'\n",
        " "
      ]
    },
    {
      "cell_type": "markdown",
      "id": "57e7872c",
      "metadata": {
        "id": "57e7872c"
      },
      "source": [
        "\n",
        "# Metacharacters That Restrict Matches to the Beginning or End of a String\n",
        "\n",
        "* metacharacter at the beginning of a regular expression (and not inside square brackets) is an anchor\n",
        "* Indicaties that the expression matches only the beginning of a string\n"
      ]
    },
    {
      "cell_type": "code",
      "execution_count": null,
      "id": "a77a1c01",
      "metadata": {
        "colab": {
          "base_uri": "https://localhost:8080/",
          "height": 36
        },
        "id": "a77a1c01",
        "outputId": "2b33b10b-ba46-40e2-9bbc-04782b311012"
      },
      "outputs": [
        {
          "output_type": "execute_result",
          "data": {
            "text/plain": [
              "'Python'"
            ],
            "application/vnd.google.colaboratory.intrinsic+json": {
              "type": "string"
            }
          },
          "metadata": {},
          "execution_count": 215
        }
      ],
      "source": [
        "\n",
        "result = re.search('Python', 'Python is fun')\n",
        "\n",
        "result.group() if result else 'not found'"
      ]
    },
    {
      "cell_type": "code",
      "execution_count": null,
      "id": "ef45a5ac",
      "metadata": {
        "colab": {
          "base_uri": "https://localhost:8080/",
          "height": 36
        },
        "id": "ef45a5ac",
        "outputId": "501d0fc0-7fd3-4cac-be92-d899051555b7"
      },
      "outputs": [
        {
          "output_type": "execute_result",
          "data": {
            "text/plain": [
              "'fun'"
            ],
            "application/vnd.google.colaboratory.intrinsic+json": {
              "type": "string"
            }
          },
          "metadata": {},
          "execution_count": 216
        }
      ],
      "source": [
        "result = re.search('fun', 'Python is fun')\n",
        "\n",
        "result.group() if result else 'not found'"
      ]
    },
    {
      "cell_type": "markdown",
      "id": "beff9548",
      "metadata": {
        "id": "beff9548"
      },
      "source": [
        "\n",
        "* $ metacharacter at the end of a regular expression is an anchor indicating that the expression matches only the end of\n",
        "asstring\n"
      ]
    },
    {
      "cell_type": "code",
      "execution_count": null,
      "id": "28dd4c22",
      "metadata": {
        "colab": {
          "base_uri": "https://localhost:8080/",
          "height": 36
        },
        "id": "28dd4c22",
        "outputId": "893c0a71-4e4f-41cf-e38a-56457a741a23"
      },
      "outputs": [
        {
          "output_type": "execute_result",
          "data": {
            "text/plain": [
              "'not found'"
            ],
            "application/vnd.google.colaboratory.intrinsic+json": {
              "type": "string"
            }
          },
          "metadata": {},
          "execution_count": 217
        }
      ],
      "source": [
        "\n",
        "result = re.search('Python$', 'Python is fun')\n",
        "\n",
        "result.group() if result else 'not found'"
      ]
    },
    {
      "cell_type": "code",
      "execution_count": null,
      "id": "5e6f0da5",
      "metadata": {
        "colab": {
          "base_uri": "https://localhost:8080/",
          "height": 36
        },
        "id": "5e6f0da5",
        "outputId": "beb34a9c-901b-4d38-bcb2-b25fc116e7d4"
      },
      "outputs": [
        {
          "output_type": "execute_result",
          "data": {
            "text/plain": [
              "'fun'"
            ],
            "application/vnd.google.colaboratory.intrinsic+json": {
              "type": "string"
            }
          },
          "metadata": {},
          "execution_count": 218
        }
      ],
      "source": [
        "\n",
        "result = re.search('fun$', 'Python is fun')\n",
        "\n",
        "result.group() if result else 'not found'"
      ]
    },
    {
      "cell_type": "code",
      "execution_count": null,
      "id": "c874d103",
      "metadata": {
        "id": "c874d103"
      },
      "outputs": [],
      "source": []
    },
    {
      "cell_type": "code",
      "execution_count": null,
      "id": "b33310e4",
      "metadata": {
        "id": "b33310e4"
      },
      "outputs": [],
      "source": []
    },
    {
      "cell_type": "code",
      "execution_count": null,
      "id": "193820b2",
      "metadata": {
        "id": "193820b2"
      },
      "outputs": [],
      "source": []
    },
    {
      "cell_type": "code",
      "execution_count": null,
      "id": "7bb50fbd",
      "metadata": {
        "id": "7bb50fbd"
      },
      "outputs": [],
      "source": []
    },
    {
      "cell_type": "code",
      "execution_count": null,
      "id": "b623e0fe",
      "metadata": {
        "id": "b623e0fe"
      },
      "outputs": [],
      "source": []
    },
    {
      "cell_type": "markdown",
      "id": "55f70ddf",
      "metadata": {
        "id": "55f70ddf"
      },
      "source": [
        "\n",
        "# Function findall and finditer —Finding All Matches in a String\n",
        "\n",
        "* findall finds every matching substring in a string\n",
        "* Retums a list of the matching substrings\n"
      ]
    },
    {
      "cell_type": "code",
      "execution_count": null,
      "id": "decea3a2",
      "metadata": {
        "colab": {
          "base_uri": "https://localhost:8080/"
        },
        "id": "decea3a2",
        "outputId": "795ad6a7-0443-469e-b653-f7fe169ced85"
      },
      "outputs": [
        {
          "output_type": "execute_result",
          "data": {
            "text/plain": [
              "['555-555-1234', '555-555-4321']"
            ]
          },
          "metadata": {},
          "execution_count": 219
        }
      ],
      "source": [
        "\n",
        "contact = \"Wally White, Home: 555-555-1234, Work: 555-555-4321\"\n",
        "\n",
        "re. findall(r'\\d{3}-\\d{3}-\\d{4}', contact)\n"
      ]
    },
    {
      "cell_type": "markdown",
      "id": "99a2e0c5",
      "metadata": {
        "id": "99a2e0c5"
      },
      "source": [
        "\n",
        "+ finditer works like findall , but returns a lazy iterable of match objects\n",
        "\n"
      ]
    },
    {
      "cell_type": "code",
      "execution_count": null,
      "id": "7b0f621b",
      "metadata": {
        "colab": {
          "base_uri": "https://localhost:8080/"
        },
        "id": "7b0f621b",
        "outputId": "663a227e-4134-4242-8a9b-5f21b36688f2"
      },
      "outputs": [
        {
          "output_type": "stream",
          "name": "stdout",
          "text": [
            "555-555-1234\n",
            "555-555-4321\n"
          ]
        }
      ],
      "source": [
        "for phone in re.finditer(r\"\\d{3}-\\d{3}-\\d{4}\", contact):\n",
        "    print(phone.group())\n"
      ]
    },
    {
      "cell_type": "code",
      "execution_count": null,
      "id": "5cd2b902",
      "metadata": {
        "id": "5cd2b902"
      },
      "outputs": [],
      "source": [
        "\n",
        "text = 'Charlie Cyan, e-mail: demol@deitel.com'\n",
        "\n"
      ]
    },
    {
      "cell_type": "code",
      "execution_count": null,
      "id": "559fe670",
      "metadata": {
        "id": "559fe670"
      },
      "outputs": [],
      "source": [
        "pattern = r'([A-Z][a-z]+ [A-Z][a-z]+), e-mail: (\\w+@\\w+\\.\\w{3})'\n"
      ]
    },
    {
      "cell_type": "code",
      "execution_count": null,
      "id": "2e55a87e",
      "metadata": {
        "id": "2e55a87e"
      },
      "outputs": [],
      "source": [
        "result = re.search(pattern, text)"
      ]
    },
    {
      "cell_type": "code",
      "execution_count": null,
      "id": "825ab7c0",
      "metadata": {
        "colab": {
          "base_uri": "https://localhost:8080/"
        },
        "id": "825ab7c0",
        "outputId": "4ab774b9-0c39-4c85-d3ab-29634c427fb2"
      },
      "outputs": [
        {
          "output_type": "execute_result",
          "data": {
            "text/plain": [
              "('Charlie Cyan', 'demol@deitel.com')"
            ]
          },
          "metadata": {},
          "execution_count": 224
        }
      ],
      "source": [
        "result.groups()"
      ]
    },
    {
      "cell_type": "markdown",
      "id": "babe6f60",
      "metadata": {
        "id": "babe6f60"
      },
      "source": [
        "+ The regular expression specifies two substrings to capture, each denoted by the metacharacters ( and )\n",
        "* (and ) do not affect whether the pattern is found in the string text\n",
        "\n",
        "* match function returns a match object only if the entire pattern is found in the string text\n",
        "* match object's groups method returns a tuple of the captured substrings\n",
        "\n",
        "\n"
      ]
    },
    {
      "cell_type": "code",
      "execution_count": null,
      "id": "ba068fea",
      "metadata": {
        "colab": {
          "base_uri": "https://localhost:8080/"
        },
        "id": "ba068fea",
        "outputId": "e5762600-0557-40a7-826a-b19ca2b925a4"
      },
      "outputs": [
        {
          "output_type": "execute_result",
          "data": {
            "text/plain": [
              "('Charlie Cyan', 'demol@deitel.com')"
            ]
          },
          "metadata": {},
          "execution_count": 225
        }
      ],
      "source": [
        "result. groups()"
      ]
    },
    {
      "cell_type": "code",
      "execution_count": null,
      "id": "7e003901",
      "metadata": {
        "id": "7e003901"
      },
      "outputs": [],
      "source": []
    },
    {
      "cell_type": "code",
      "execution_count": null,
      "id": "16112ac8",
      "metadata": {
        "id": "16112ac8"
      },
      "outputs": [],
      "source": []
    },
    {
      "cell_type": "markdown",
      "id": "f1a8f637",
      "metadata": {
        "id": "f1a8f637"
      },
      "source": [
        "# Data Validation\n"
      ]
    },
    {
      "cell_type": "code",
      "execution_count": null,
      "id": "cf56fc76",
      "metadata": {
        "id": "cf56fc76"
      },
      "outputs": [],
      "source": [
        "import pandas as pd\n",
        "zips=pd.Series({'deston':'02215','Miami':'3310'})"
      ]
    },
    {
      "cell_type": "code",
      "execution_count": null,
      "id": "438cfe05",
      "metadata": {
        "colab": {
          "base_uri": "https://localhost:8080/"
        },
        "id": "438cfe05",
        "outputId": "49b29b23-2d87-4fef-b42e-b392feb71e5c"
      },
      "outputs": [
        {
          "output_type": "execute_result",
          "data": {
            "text/plain": [
              "deston    02215\n",
              "Miami      3310\n",
              "dtype: object"
            ]
          },
          "metadata": {},
          "execution_count": 227
        }
      ],
      "source": [
        "zips"
      ]
    },
    {
      "cell_type": "markdown",
      "id": "80247efe",
      "metadata": {
        "id": "80247efe"
      },
      "source": [
        "# Data Validation (cont.)\n",
        "\n",
        "+ The secon column represents the Series ZIP Code valves (ram the distonay’s vale)\n",
        "\n",
        "+ The at column” represents her incves (hom the dicionary's keys)\n",
        "\n",
        "+ Can use regular expression wih Pandas o validate data\n",
        "\n",
        "+ The str attribute ofa Series proves sting processing and varius regular expression methods\n",
        "+ Use the str atiibate’s match method io chackwinethar each ZIP Code is valid"
      ]
    },
    {
      "cell_type": "code",
      "execution_count": null,
      "id": "b3641ccc",
      "metadata": {
        "colab": {
          "base_uri": "https://localhost:8080/"
        },
        "id": "b3641ccc",
        "outputId": "18ffef51-3010-414f-92c3-76b14728a7ff"
      },
      "outputs": [
        {
          "output_type": "execute_result",
          "data": {
            "text/plain": [
              "deston     True\n",
              "Miami     False\n",
              "dtype: bool"
            ]
          },
          "metadata": {},
          "execution_count": 228
        }
      ],
      "source": [
        "\n",
        "zips.str.match(r'\\d{5}')"
      ]
    },
    {
      "cell_type": "markdown",
      "id": "b1240fba",
      "metadata": {
        "id": "b1240fba"
      },
      "source": [
        "+ match apples he regular exoression \\4(5} to esch Series slement\n",
        "+ Returns a new Series containing True for each valid element"
      ]
    },
    {
      "cell_type": "markdown",
      "id": "756e541f",
      "metadata": {
        "id": "756e541f"
      },
      "source": [
        "# Data Validation (cont.)\n",
        "\n",
        "+ Somatines, rather han matching an entre value pattem, youll want fo know whether a value contains a substnng that matches the patton\n",
        "+ Use matrod contains instead of watch\n",
        "\n"
      ]
    },
    {
      "cell_type": "code",
      "execution_count": null,
      "id": "881ce0ec",
      "metadata": {
        "id": "881ce0ec"
      },
      "outputs": [],
      "source": [
        "\n",
        "cities = pd.Series([\"Boston, MA 97215\", \"miami, FL 33101\"])\n"
      ]
    },
    {
      "cell_type": "code",
      "execution_count": null,
      "id": "def04d3e",
      "metadata": {
        "colab": {
          "base_uri": "https://localhost:8080/"
        },
        "id": "def04d3e",
        "outputId": "74e75f88-0aba-4a9e-ad1a-f0c43789ce15"
      },
      "outputs": [
        {
          "output_type": "execute_result",
          "data": {
            "text/plain": [
              "0    Boston, MA 97215\n",
              "1     miami, FL 33101\n",
              "dtype: object"
            ]
          },
          "metadata": {},
          "execution_count": 230
        }
      ],
      "source": [
        "cities"
      ]
    },
    {
      "cell_type": "code",
      "execution_count": null,
      "id": "52e1d501",
      "metadata": {
        "colab": {
          "base_uri": "https://localhost:8080/"
        },
        "id": "52e1d501",
        "outputId": "c0d4f0c1-5f0f-421f-ce8a-a9ea89b55c6f"
      },
      "outputs": [
        {
          "output_type": "execute_result",
          "data": {
            "text/plain": [
              "0    True\n",
              "1    True\n",
              "dtype: bool"
            ]
          },
          "metadata": {},
          "execution_count": 231
        }
      ],
      "source": [
        "\n",
        "cities.str.contains(r'[A-z]{2}')\n"
      ]
    },
    {
      "cell_type": "code",
      "execution_count": null,
      "id": "b22718e8",
      "metadata": {
        "colab": {
          "base_uri": "https://localhost:8080/"
        },
        "id": "b22718e8",
        "outputId": "fd248e6a-47ab-424c-f8e4-b9860434d8db"
      },
      "outputs": [
        {
          "output_type": "execute_result",
          "data": {
            "text/plain": [
              "0    True\n",
              "1    True\n",
              "dtype: bool"
            ]
          },
          "metadata": {},
          "execution_count": 232
        }
      ],
      "source": [
        "cities.str.match(r'[A-z]{2}')\n"
      ]
    },
    {
      "cell_type": "markdown",
      "source": [
        "# Reformatting"
      ],
      "metadata": {
        "id": "rflvyw0nFUV7"
      },
      "id": "rflvyw0nFUV7"
    },
    {
      "cell_type": "code",
      "execution_count": null,
      "id": "02d77a19",
      "metadata": {
        "id": "02d77a19"
      },
      "outputs": [],
      "source": [
        "contacts = [ \n",
        "    ['Mike Green','demo1@deitel.com','5555555555'],\n",
        "     ['sue brown','demo2@deitel.com','555 555 5535']\n",
        "     ]"
      ]
    },
    {
      "cell_type": "code",
      "source": [
        "myColumns=['Name','Mail','Phone']"
      ],
      "metadata": {
        "id": "f1xQMOFnFG3O"
      },
      "id": "f1xQMOFnFG3O",
      "execution_count": null,
      "outputs": []
    },
    {
      "cell_type": "code",
      "execution_count": null,
      "id": "ce2a2818",
      "metadata": {
        "id": "ce2a2818"
      },
      "outputs": [],
      "source": [
        "contactsDF=pd.DataFrame(contacts,columns=myColumns)"
      ]
    },
    {
      "cell_type": "code",
      "execution_count": null,
      "id": "f765c174",
      "metadata": {
        "id": "f765c174",
        "colab": {
          "base_uri": "https://localhost:8080/",
          "height": 112
        },
        "outputId": "018ba2ba-3b21-457a-e1fc-2e7ca0d88ece"
      },
      "outputs": [
        {
          "output_type": "execute_result",
          "data": {
            "text/plain": [
              "         Name              Mail         Phone\n",
              "0  Mike Green  demo1@deitel.com    5555555555\n",
              "1   sue brown  demo2@deitel.com  555 555 5535"
            ],
            "text/html": [
              "\n",
              "  <div id=\"df-e9f8866b-efef-4218-a13d-9075ff462028\">\n",
              "    <div class=\"colab-df-container\">\n",
              "      <div>\n",
              "<style scoped>\n",
              "    .dataframe tbody tr th:only-of-type {\n",
              "        vertical-align: middle;\n",
              "    }\n",
              "\n",
              "    .dataframe tbody tr th {\n",
              "        vertical-align: top;\n",
              "    }\n",
              "\n",
              "    .dataframe thead th {\n",
              "        text-align: right;\n",
              "    }\n",
              "</style>\n",
              "<table border=\"1\" class=\"dataframe\">\n",
              "  <thead>\n",
              "    <tr style=\"text-align: right;\">\n",
              "      <th></th>\n",
              "      <th>Name</th>\n",
              "      <th>Mail</th>\n",
              "      <th>Phone</th>\n",
              "    </tr>\n",
              "  </thead>\n",
              "  <tbody>\n",
              "    <tr>\n",
              "      <th>0</th>\n",
              "      <td>Mike Green</td>\n",
              "      <td>demo1@deitel.com</td>\n",
              "      <td>5555555555</td>\n",
              "    </tr>\n",
              "    <tr>\n",
              "      <th>1</th>\n",
              "      <td>sue brown</td>\n",
              "      <td>demo2@deitel.com</td>\n",
              "      <td>555 555 5535</td>\n",
              "    </tr>\n",
              "  </tbody>\n",
              "</table>\n",
              "</div>\n",
              "      <button class=\"colab-df-convert\" onclick=\"convertToInteractive('df-e9f8866b-efef-4218-a13d-9075ff462028')\"\n",
              "              title=\"Convert this dataframe to an interactive table.\"\n",
              "              style=\"display:none;\">\n",
              "        \n",
              "  <svg xmlns=\"http://www.w3.org/2000/svg\" height=\"24px\"viewBox=\"0 0 24 24\"\n",
              "       width=\"24px\">\n",
              "    <path d=\"M0 0h24v24H0V0z\" fill=\"none\"/>\n",
              "    <path d=\"M18.56 5.44l.94 2.06.94-2.06 2.06-.94-2.06-.94-.94-2.06-.94 2.06-2.06.94zm-11 1L8.5 8.5l.94-2.06 2.06-.94-2.06-.94L8.5 2.5l-.94 2.06-2.06.94zm10 10l.94 2.06.94-2.06 2.06-.94-2.06-.94-.94-2.06-.94 2.06-2.06.94z\"/><path d=\"M17.41 7.96l-1.37-1.37c-.4-.4-.92-.59-1.43-.59-.52 0-1.04.2-1.43.59L10.3 9.45l-7.72 7.72c-.78.78-.78 2.05 0 2.83L4 21.41c.39.39.9.59 1.41.59.51 0 1.02-.2 1.41-.59l7.78-7.78 2.81-2.81c.8-.78.8-2.07 0-2.86zM5.41 20L4 18.59l7.72-7.72 1.47 1.35L5.41 20z\"/>\n",
              "  </svg>\n",
              "      </button>\n",
              "      \n",
              "  <style>\n",
              "    .colab-df-container {\n",
              "      display:flex;\n",
              "      flex-wrap:wrap;\n",
              "      gap: 12px;\n",
              "    }\n",
              "\n",
              "    .colab-df-convert {\n",
              "      background-color: #E8F0FE;\n",
              "      border: none;\n",
              "      border-radius: 50%;\n",
              "      cursor: pointer;\n",
              "      display: none;\n",
              "      fill: #1967D2;\n",
              "      height: 32px;\n",
              "      padding: 0 0 0 0;\n",
              "      width: 32px;\n",
              "    }\n",
              "\n",
              "    .colab-df-convert:hover {\n",
              "      background-color: #E2EBFA;\n",
              "      box-shadow: 0px 1px 2px rgba(60, 64, 67, 0.3), 0px 1px 3px 1px rgba(60, 64, 67, 0.15);\n",
              "      fill: #174EA6;\n",
              "    }\n",
              "\n",
              "    [theme=dark] .colab-df-convert {\n",
              "      background-color: #3B4455;\n",
              "      fill: #D2E3FC;\n",
              "    }\n",
              "\n",
              "    [theme=dark] .colab-df-convert:hover {\n",
              "      background-color: #434B5C;\n",
              "      box-shadow: 0px 1px 3px 1px rgba(0, 0, 0, 0.15);\n",
              "      filter: drop-shadow(0px 1px 2px rgba(0, 0, 0, 0.3));\n",
              "      fill: #FFFFFF;\n",
              "    }\n",
              "  </style>\n",
              "\n",
              "      <script>\n",
              "        const buttonEl =\n",
              "          document.querySelector('#df-e9f8866b-efef-4218-a13d-9075ff462028 button.colab-df-convert');\n",
              "        buttonEl.style.display =\n",
              "          google.colab.kernel.accessAllowed ? 'block' : 'none';\n",
              "\n",
              "        async function convertToInteractive(key) {\n",
              "          const element = document.querySelector('#df-e9f8866b-efef-4218-a13d-9075ff462028');\n",
              "          const dataTable =\n",
              "            await google.colab.kernel.invokeFunction('convertToInteractive',\n",
              "                                                     [key], {});\n",
              "          if (!dataTable) return;\n",
              "\n",
              "          const docLinkHtml = 'Like what you see? Visit the ' +\n",
              "            '<a target=\"_blank\" href=https://colab.research.google.com/notebooks/data_table.ipynb>data table notebook</a>'\n",
              "            + ' to learn more about interactive tables.';\n",
              "          element.innerHTML = '';\n",
              "          dataTable['output_type'] = 'display_data';\n",
              "          await google.colab.output.renderOutput(dataTable, element);\n",
              "          const docLink = document.createElement('div');\n",
              "          docLink.innerHTML = docLinkHtml;\n",
              "          element.appendChild(docLink);\n",
              "        }\n",
              "      </script>\n",
              "    </div>\n",
              "  </div>\n",
              "  "
            ]
          },
          "metadata": {},
          "execution_count": 236
        }
      ],
      "source": [
        "contactsDF"
      ]
    },
    {
      "cell_type": "code",
      "execution_count": null,
      "id": "c4c0d36d",
      "metadata": {
        "id": "c4c0d36d",
        "colab": {
          "base_uri": "https://localhost:8080/"
        },
        "outputId": "96bd3c43-ce30-43c2-bcf0-245cc4e8b9df"
      },
      "outputs": [
        {
          "output_type": "execute_result",
          "data": {
            "text/plain": [
              "0      5555555555\n",
              "1    555 555 5535\n",
              "Name: Phone, dtype: object"
            ]
          },
          "metadata": {},
          "execution_count": 237
        }
      ],
      "source": [
        "contactsDF[contactsDF.columns[2]]"
      ]
    },
    {
      "cell_type": "code",
      "execution_count": null,
      "id": "80e1e502",
      "metadata": {
        "id": "80e1e502"
      },
      "outputs": [],
      "source": []
    },
    {
      "cell_type": "markdown",
      "source": [
        "# Reformatting"
      ],
      "metadata": {
        "id": "OUsl0R9kGzkc"
      },
      "id": "OUsl0R9kGzkc"
    },
    {
      "cell_type": "code",
      "execution_count": null,
      "id": "7890e185",
      "metadata": {
        "id": "7890e185"
      },
      "outputs": [],
      "source": [
        "def get_formatted_phone(value):\n",
        "  result = re.fullmatch(r'(\\d{3})(\\d{3})(\\d{4})',value)# veriyi 3- 3-4 olarak grouplanacak  ve arasına '-' koyulacak\n",
        "  return '-'.join(result.groups()) if result else value"
      ]
    },
    {
      "cell_type": "code",
      "execution_count": null,
      "id": "789e41ed",
      "metadata": {
        "id": "789e41ed"
      },
      "outputs": [],
      "source": [
        "formatted_phone=contactsDF['Phone'].map(get_formatted_phone)"
      ]
    },
    {
      "cell_type": "code",
      "execution_count": null,
      "id": "94e9353a",
      "metadata": {
        "id": "94e9353a",
        "colab": {
          "base_uri": "https://localhost:8080/"
        },
        "outputId": "bb3d40fb-03bf-4b93-e3bb-536c5f9e7291"
      },
      "outputs": [
        {
          "output_type": "execute_result",
          "data": {
            "text/plain": [
              "[['Mike Green', 'demo1@deitel.com', '5555555555'],\n",
              " ['sue brown', 'demo2@deitel.com', '555 555 5535']]"
            ]
          },
          "metadata": {},
          "execution_count": 240
        }
      ],
      "source": [
        "contacts"
      ]
    },
    {
      "cell_type": "code",
      "execution_count": null,
      "id": "601039eb",
      "metadata": {
        "id": "601039eb",
        "colab": {
          "base_uri": "https://localhost:8080/"
        },
        "outputId": "8cd45695-793b-4661-faf3-1c9903becae7"
      },
      "outputs": [
        {
          "output_type": "execute_result",
          "data": {
            "text/plain": [
              "0    555-555-5555\n",
              "1    555 555 5535\n",
              "Name: Phone, dtype: object"
            ]
          },
          "metadata": {},
          "execution_count": 241
        }
      ],
      "source": [
        "formatted_phone"
      ]
    },
    {
      "cell_type": "code",
      "execution_count": null,
      "id": "b3d378cc",
      "metadata": {
        "id": "b3d378cc"
      },
      "outputs": [],
      "source": [
        "contactsDF['Phone']=formatted_phone"
      ]
    },
    {
      "cell_type": "code",
      "source": [
        "\"\"\"\n",
        "kullanıcıdan string iki değer alın ve karşılaştır\n",
        "kullanıcıya soralım ASCII - LENGTH\n",
        "\"\"\""
      ],
      "metadata": {
        "id": "HHHBHY4NJhFC",
        "colab": {
          "base_uri": "https://localhost:8080/",
          "height": 36
        },
        "outputId": "401354e2-554c-4f6a-9a11-f8fb5c17621f"
      },
      "id": "HHHBHY4NJhFC",
      "execution_count": null,
      "outputs": [
        {
          "output_type": "execute_result",
          "data": {
            "text/plain": [
              "'\\nkullanıcıdan string iki değer alın ve karşılaştır\\nkullanıcıya soralım ASCII - LENGTH\\n'"
            ],
            "application/vnd.google.colaboratory.intrinsic+json": {
              "type": "string"
            }
          },
          "metadata": {},
          "execution_count": 243
        }
      ]
    },
    {
      "cell_type": "code",
      "source": [
        "\"\"\"\n",
        "\n",
        "SIKIŞTIRMA İSTİYORUZ\n",
        "\n",
        "AAAAAAAAAAAAABCBCBCBCBCBCAAAAAAAAAADEFDEFDEFDEF\n",
        "\n",
        "\"\"\""
      ],
      "metadata": {
        "id": "s1Q39ZVguzzq",
        "colab": {
          "base_uri": "https://localhost:8080/",
          "height": 36
        },
        "outputId": "0254f783-e84e-479a-ab90-27b7e76e32dc"
      },
      "id": "s1Q39ZVguzzq",
      "execution_count": null,
      "outputs": [
        {
          "output_type": "execute_result",
          "data": {
            "text/plain": [
              "'\\n\\nSIKIŞTIRMA İSTİYORUZ\\n\\nAAAAAAAAAAAAABCBCBCBCBCBCAAAAAAAAAADEFDEFDEFDEF\\n\\n'"
            ],
            "application/vnd.google.colaboratory.intrinsic+json": {
              "type": "string"
            }
          },
          "metadata": {},
          "execution_count": 244
        }
      ]
    },
    {
      "cell_type": "code",
      "source": [
        "a=\"AAAA AAAA AAAA BCBC BCBC BCBC AAAA AAAA DEFDEF DEFDEF\"\n",
        "b=\"A12BC6A8DEF4\""
      ],
      "metadata": {
        "id": "UfDtIzF5vJsl"
      },
      "id": "UfDtIzF5vJsl",
      "execution_count": null,
      "outputs": []
    },
    {
      "cell_type": "code",
      "source": [
        "len(a)"
      ],
      "metadata": {
        "colab": {
          "base_uri": "https://localhost:8080/"
        },
        "id": "YDkJbFF6vJdz",
        "outputId": "0e0a601c-6c49-47b8-beca-51522047cf34"
      },
      "id": "YDkJbFF6vJdz",
      "execution_count": null,
      "outputs": [
        {
          "output_type": "execute_result",
          "data": {
            "text/plain": [
              "53"
            ]
          },
          "metadata": {},
          "execution_count": 246
        }
      ]
    },
    {
      "cell_type": "code",
      "source": [
        "len(b)"
      ],
      "metadata": {
        "colab": {
          "base_uri": "https://localhost:8080/"
        },
        "id": "_hwOVQZSvlC-",
        "outputId": "58b48128-5d80-4c3c-8122-0ad9c469160a"
      },
      "id": "_hwOVQZSvlC-",
      "execution_count": null,
      "outputs": [
        {
          "output_type": "execute_result",
          "data": {
            "text/plain": [
              "12"
            ]
          },
          "metadata": {},
          "execution_count": 247
        }
      ]
    },
    {
      "cell_type": "code",
      "source": [],
      "metadata": {
        "id": "U3T9fROMvlzB"
      },
      "id": "U3T9fROMvlzB",
      "execution_count": null,
      "outputs": []
    }
  ],
  "metadata": {
    "kernelspec": {
      "display_name": "Python 3 (ipykernel)",
      "language": "python",
      "name": "python3"
    },
    "language_info": {
      "codemirror_mode": {
        "name": "ipython",
        "version": 3
      },
      "file_extension": ".py",
      "mimetype": "text/x-python",
      "name": "python",
      "nbconvert_exporter": "python",
      "pygments_lexer": "ipython3",
      "version": "3.9.13"
    },
    "colab": {
      "provenance": []
    }
  },
  "nbformat": 4,
  "nbformat_minor": 5
}