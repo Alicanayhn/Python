{
 "cells": [
  {
   "cell_type": "markdown",
   "id": "7cd87ebd",
   "metadata": {},
   "source": [
    "# Değişkenler"
   ]
  },
  {
   "cell_type": "code",
   "execution_count": 234,
   "id": "6a3553ac",
   "metadata": {},
   "outputs": [],
   "source": [
    "a=5"
   ]
  },
  {
   "cell_type": "code",
   "execution_count": 235,
   "id": "1905deae",
   "metadata": {},
   "outputs": [],
   "source": [
    "b=4.5"
   ]
  },
  {
   "cell_type": "code",
   "execution_count": 236,
   "id": "ad35c92b",
   "metadata": {},
   "outputs": [],
   "source": [
    "c=\"deneme\""
   ]
  },
  {
   "cell_type": "markdown",
   "id": "39c4d118",
   "metadata": {},
   "source": [
    "# Degisken İsimlendirme \n",
    "* Değişken adı harf, sayı veya alt çizgi karakteri içerebilir.\n",
    "* Değişken adları büyük küçük harf duyarlıdır."
   ]
  },
  {
   "cell_type": "markdown",
   "id": "7dcd2eb9",
   "metadata": {},
   "source": [
    "\n",
    "# Kabul Edilmeyen Değişken İsim Atama Senaryoları\n",
    "\n",
    "* Sayi ile baslamak\n",
    "* Bosluk icermek\n",
    "* \"*(/ gibi semboller içermek\n",
    "* Rezerve edilmis isimleri kullanmak"
   ]
  },
  {
   "cell_type": "code",
   "execution_count": 237,
   "id": "f42e327a",
   "metadata": {},
   "outputs": [],
   "source": [
    "d=True  #case sensitive"
   ]
  },
  {
   "cell_type": "code",
   "execution_count": 238,
   "id": "bd82c88b",
   "metadata": {},
   "outputs": [],
   "source": [
    "#D"
   ]
  },
  {
   "cell_type": "code",
   "execution_count": 239,
   "id": "34b067fe",
   "metadata": {},
   "outputs": [],
   "source": [
    "#[a zA Z0 9_] 1abc"
   ]
  },
  {
   "cell_type": "code",
   "execution_count": 240,
   "id": "9f2cd1db",
   "metadata": {},
   "outputs": [],
   "source": [
    "_abc123=45"
   ]
  },
  {
   "cell_type": "markdown",
   "id": "fa0f7d5b",
   "metadata": {},
   "source": [
    "# Veri Tipleri\n",
    "* Numerik (sayısal) veri tipleri → int, float, complex\n",
    "* String (metin) veri tipleri → str\n",
    "* Boolean veri tipleri → bool\n",
    "* Sequence (sıralama) veri tipleri → list, tuple\n",
    "* Set veri tipleri → set"
   ]
  },
  {
   "cell_type": "code",
   "execution_count": 241,
   "id": "5f2379f3",
   "metadata": {},
   "outputs": [
    {
     "data": {
      "text/plain": [
       "' \\nint float bool str complex \\nlist set dict tuple \\n'"
      ]
     },
     "execution_count": 241,
     "metadata": {},
     "output_type": "execute_result"
    }
   ],
   "source": [
    "\"\"\" \n",
    "int float bool str complex \n",
    "list set dict tuple \n",
    "\"\"\""
   ]
  },
  {
   "cell_type": "markdown",
   "id": "d0d32aa1",
   "metadata": {},
   "source": [
    "# Aritmetik Operatörler\n",
    "* Toplama için +\n",
    "* Çıkarma için -\n",
    "* Çarpma için *\n",
    "* Bölme için /\n",
    "* Mod almak %\n",
    "* Floor division operatörü //\n",
    "* Üs almak **"
   ]
  },
  {
   "cell_type": "code",
   "execution_count": 242,
   "id": "2e218a3e",
   "metadata": {},
   "outputs": [
    {
     "data": {
      "text/plain": [
       "65"
      ]
     },
     "execution_count": 242,
     "metadata": {},
     "output_type": "execute_result"
    }
   ],
   "source": [
    "45+20"
   ]
  },
  {
   "cell_type": "code",
   "execution_count": 243,
   "id": "b41403b5",
   "metadata": {},
   "outputs": [
    {
     "data": {
      "text/plain": [
       "512"
      ]
     },
     "execution_count": 243,
     "metadata": {},
     "output_type": "execute_result"
    }
   ],
   "source": [
    "2**3**2"
   ]
  },
  {
   "cell_type": "code",
   "execution_count": 244,
   "id": "3ea1ab93",
   "metadata": {},
   "outputs": [
    {
     "data": {
      "text/plain": [
       "16"
      ]
     },
     "execution_count": 244,
     "metadata": {},
     "output_type": "execute_result"
    }
   ],
   "source": [
    "2**4"
   ]
  },
  {
   "cell_type": "code",
   "execution_count": 245,
   "id": "a916a19d",
   "metadata": {},
   "outputs": [
    {
     "data": {
      "text/plain": [
       "NoneType"
      ]
     },
     "execution_count": 245,
     "metadata": {},
     "output_type": "execute_result"
    }
   ],
   "source": [
    "type(None)"
   ]
  },
  {
   "cell_type": "code",
   "execution_count": 246,
   "id": "3a62f947",
   "metadata": {},
   "outputs": [
    {
     "data": {
      "text/plain": [
       "float"
      ]
     },
     "execution_count": 246,
     "metadata": {},
     "output_type": "execute_result"
    }
   ],
   "source": [
    "type(10.5)"
   ]
  },
  {
   "cell_type": "code",
   "execution_count": 247,
   "id": "29321d1c",
   "metadata": {},
   "outputs": [
    {
     "data": {
      "text/plain": [
       "1.4142135623730951"
      ]
     },
     "execution_count": 247,
     "metadata": {},
     "output_type": "execute_result"
    }
   ],
   "source": [
    "2**(1/2)"
   ]
  },
  {
   "cell_type": "code",
   "execution_count": 248,
   "id": "64d062b5",
   "metadata": {},
   "outputs": [
    {
     "name": "stdout",
     "output_type": "stream",
     "text": [
      "0.30000000000000004\n"
     ]
    }
   ],
   "source": [
    "print(0.1 + 0.2)"
   ]
  },
  {
   "cell_type": "code",
   "execution_count": 249,
   "id": "855933d1",
   "metadata": {},
   "outputs": [
    {
     "data": {
      "text/plain": [
       "0.2857142857142857"
      ]
     },
     "execution_count": 249,
     "metadata": {},
     "output_type": "execute_result"
    }
   ],
   "source": [
    "2/7"
   ]
  },
  {
   "cell_type": "code",
   "execution_count": 250,
   "id": "adbe7a83",
   "metadata": {},
   "outputs": [
    {
     "data": {
      "text/plain": [
       "0"
      ]
     },
     "execution_count": 250,
     "metadata": {},
     "output_type": "execute_result"
    }
   ],
   "source": [
    "2//7"
   ]
  },
  {
   "cell_type": "code",
   "execution_count": 251,
   "id": "9bae6fb8",
   "metadata": {},
   "outputs": [
    {
     "data": {
      "text/plain": [
       "2"
      ]
     },
     "execution_count": 251,
     "metadata": {},
     "output_type": "execute_result"
    }
   ],
   "source": [
    "7//3"
   ]
  },
  {
   "cell_type": "code",
   "execution_count": 252,
   "id": "552222f2",
   "metadata": {},
   "outputs": [
    {
     "data": {
      "text/plain": [
       "-3.25"
      ]
     },
     "execution_count": 252,
     "metadata": {},
     "output_type": "execute_result"
    }
   ],
   "source": [
    "-13/4"
   ]
  },
  {
   "cell_type": "code",
   "execution_count": 253,
   "id": "a113d9bf",
   "metadata": {},
   "outputs": [
    {
     "data": {
      "text/plain": [
       "-4"
      ]
     },
     "execution_count": 253,
     "metadata": {},
     "output_type": "execute_result"
    }
   ],
   "source": [
    "-13//4"
   ]
  },
  {
   "cell_type": "markdown",
   "id": "23df85f4",
   "metadata": {},
   "source": [
    "# Bazı Hata Çeşitleri\n",
    "\n",
    "* SyntaxError: \n",
    "    * Syntax kurallarına uymadan yazdığımız durumlarda bu hata ile karşılaşırız\n",
    "    * Yanlış veya eksik noktalama işaretleri ya da parantez kullanımı\n",
    "    * Gçersiz değişken veya fonksiyon isimleri\n",
    "    \n",
    "* TypeError:\n",
    "    * Birbirinden farklı veri tipleri ile aritmetik işlemler yapmak istediğimiz durumlarda karşılaşırız\n",
    "    * Mesela integer bir değerle string bir değere toplama işlemi yaptırmak\n",
    "    \n",
    "* IndentationError:\n",
    "    * Boşluk hatası olarak adlandırılabilir\n",
    "    * if else veya for döngülerinde yapılacak işlemler bölümünde yeterli boşluk bırakılmaması durumlarında ortaya çıkar.\n",
    "    \n",
    "* NameError:\n",
    "    * Python'da daha önce tanımlamadığımız değişkenleri kullanmaya çalışırsak NameError ile karşılaşırız\n",
    "\n",
    "* ZeroDivisionError:\n",
    "    * Sayının sıfıra bölünmesi durumunda ortaya çıkar"
   ]
  },
  {
   "cell_type": "code",
   "execution_count": 254,
   "id": "4b72d5cc",
   "metadata": {},
   "outputs": [
    {
     "ename": "ZeroDivisionError",
     "evalue": "division by zero",
     "output_type": "error",
     "traceback": [
      "\u001b[1;31m---------------------------------------------------------------------------\u001b[0m",
      "\u001b[1;31mZeroDivisionError\u001b[0m                         Traceback (most recent call last)",
      "\u001b[1;32m~\\AppData\\Local\\Temp\\ipykernel_16316\\3627099327.py\u001b[0m in \u001b[0;36m<module>\u001b[1;34m\u001b[0m\n\u001b[1;32m----> 1\u001b[1;33m \u001b[1;36m2\u001b[0m\u001b[1;33m/\u001b[0m\u001b[1;36m0\u001b[0m\u001b[1;33m\u001b[0m\u001b[1;33m\u001b[0m\u001b[0m\n\u001b[0m",
      "\u001b[1;31mZeroDivisionError\u001b[0m: division by zero"
     ]
    }
   ],
   "source": [
    "2/0"
   ]
  },
  {
   "cell_type": "code",
   "execution_count": 255,
   "id": "bebee6d8",
   "metadata": {},
   "outputs": [
    {
     "ename": "NameError",
     "evalue": "name 'ff' is not defined",
     "output_type": "error",
     "traceback": [
      "\u001b[1;31m---------------------------------------------------------------------------\u001b[0m",
      "\u001b[1;31mNameError\u001b[0m                                 Traceback (most recent call last)",
      "\u001b[1;32m~\\AppData\\Local\\Temp\\ipykernel_16316\\638493014.py\u001b[0m in \u001b[0;36m<module>\u001b[1;34m\u001b[0m\n\u001b[1;32m----> 1\u001b[1;33m \u001b[0mff\u001b[0m\u001b[1;33m\u001b[0m\u001b[1;33m\u001b[0m\u001b[0m\n\u001b[0m",
      "\u001b[1;31mNameError\u001b[0m: name 'ff' is not defined"
     ]
    }
   ],
   "source": [
    "ff"
   ]
  },
  {
   "cell_type": "code",
   "execution_count": 256,
   "id": "e280388e",
   "metadata": {},
   "outputs": [
    {
     "ename": "IndentationError",
     "evalue": "expected an indented block (2368111651.py, line 2)",
     "output_type": "error",
     "traceback": [
      "\u001b[1;36m  File \u001b[1;32m\"C:\\Users\\SAMİ CİHAN\\AppData\\Local\\Temp\\ipykernel_16316\\2368111651.py\"\u001b[1;36m, line \u001b[1;32m2\u001b[0m\n\u001b[1;33m    print()\u001b[0m\n\u001b[1;37m    ^\u001b[0m\n\u001b[1;31mIndentationError\u001b[0m\u001b[1;31m:\u001b[0m expected an indented block\n"
     ]
    }
   ],
   "source": [
    "if a<5:\n",
    "print()"
   ]
  },
  {
   "cell_type": "code",
   "execution_count": 257,
   "id": "b693e210",
   "metadata": {},
   "outputs": [
    {
     "data": {
      "text/plain": [
       "2"
      ]
     },
     "execution_count": 257,
     "metadata": {},
     "output_type": "execute_result"
    }
   ],
   "source": [
    "17%5"
   ]
  },
  {
   "cell_type": "code",
   "execution_count": 258,
   "id": "02b1c360",
   "metadata": {},
   "outputs": [
    {
     "data": {
      "text/plain": [
       "70"
      ]
     },
     "execution_count": 258,
     "metadata": {},
     "output_type": "execute_result"
    }
   ],
   "source": [
    "10*(2+5)"
   ]
  },
  {
   "cell_type": "code",
   "execution_count": 259,
   "id": "bc20ab71",
   "metadata": {},
   "outputs": [
    {
     "data": {
      "text/plain": [
       "32768"
      ]
     },
     "execution_count": 259,
     "metadata": {},
     "output_type": "execute_result"
    }
   ],
   "source": [
    "(2**3)**5"
   ]
  },
  {
   "cell_type": "code",
   "execution_count": 260,
   "id": "5be0a3ce",
   "metadata": {},
   "outputs": [
    {
     "data": {
      "text/plain": [
       "14134776518227074636666380005943348126619871175004951664972849610340958208"
      ]
     },
     "execution_count": 260,
     "metadata": {},
     "output_type": "execute_result"
    }
   ],
   "source": [
    "2**3**5"
   ]
  },
  {
   "cell_type": "markdown",
   "id": "19fd98b5",
   "metadata": {},
   "source": [
    "# Print Fonksiyonu\n",
    "* print() fonksiyonunun görevi ekrana çıktı vermemizi sağlamaktır.\n",
    "\n",
    "# Escape Karakterler\n",
    "* \\t Karakteri → Kelimeler arası 1 tab boşluk bırakmak için kullanılır.\n",
    "* \\n Karakteri → Bir satır aşağıya inmek için kullanılır\n",
    "* \\\\\" karakteri → çift tırnak yazdırmak için kullanılır"
   ]
  },
  {
   "cell_type": "code",
   "execution_count": 261,
   "id": "bdadeeb8",
   "metadata": {},
   "outputs": [
    {
     "name": "stdout",
     "output_type": "stream",
     "text": [
      "merhaba dünya!\n"
     ]
    }
   ],
   "source": [
    "print(\"merhaba dünya!\")"
   ]
  },
  {
   "cell_type": "code",
   "execution_count": 262,
   "id": "43ebbfd6",
   "metadata": {},
   "outputs": [
    {
     "name": "stdout",
     "output_type": "stream",
     "text": [
      "ben sen biz\n"
     ]
    }
   ],
   "source": [
    "print('ben', 'sen', 'biz')"
   ]
  },
  {
   "cell_type": "code",
   "execution_count": 263,
   "id": "a94eae10",
   "metadata": {},
   "outputs": [
    {
     "name": "stdout",
     "output_type": "stream",
     "text": [
      "Merhaba ben \"ahmet\" \n"
     ]
    }
   ],
   "source": [
    "print('Merhaba ben \"ahmet\" ')"
   ]
  },
  {
   "cell_type": "code",
   "execution_count": 264,
   "id": "e8e4ee7d",
   "metadata": {},
   "outputs": [
    {
     "name": "stdout",
     "output_type": "stream",
     "text": [
      "Merhaba ben \"ahmet\" \n"
     ]
    }
   ],
   "source": [
    "print(\"Merhaba ben \\\"ahmet\\\" \")"
   ]
  },
  {
   "cell_type": "code",
   "execution_count": 265,
   "id": "9990b888",
   "metadata": {},
   "outputs": [
    {
     "name": "stdout",
     "output_type": "stream",
     "text": [
      "Merhaba \n",
      "ben \t\t\"ahmet\" \n"
     ]
    }
   ],
   "source": [
    "print('Merhaba \\nben \\t\\t\"ahmet\" ')"
   ]
  },
  {
   "cell_type": "code",
   "execution_count": 266,
   "id": "82b1a358",
   "metadata": {},
   "outputs": [
    {
     "name": "stdout",
     "output_type": "stream",
     "text": [
      "edejk elkjdlkej deknmdjklenld ejdlke dsfklsdşfşs sdfk şsdf s\n"
     ]
    }
   ],
   "source": [
    "print(\"edejk elkjdlkej deknmdjklenld ejdlke \\\n",
    "dsfklsdşfşs sdfk şsdf s\")"
   ]
  },
  {
   "cell_type": "code",
   "execution_count": 267,
   "id": "47e31c30",
   "metadata": {},
   "outputs": [
    {
     "name": "stdout",
     "output_type": "stream",
     "text": [
      "sonuc: 5\n"
     ]
    }
   ],
   "source": [
    "print(\"sonuc: \" + str(a))"
   ]
  },
  {
   "cell_type": "markdown",
   "id": "9044c7d6",
   "metadata": {},
   "source": [
    "# Döküman dizeleri (docstring)\n",
    "* Pythonda yazdığımız fonksiyonları, sınıfları, modülleri ve metotları dökümante ederken belirli kurallara göre yazdığımız yorum satırlarıdır \n",
    "* Python tarafından farklı karşılanır ve yazılan kod okunurken bir çeşit döküman oluşturur\n",
    "* Bir fonksiyon, method veya sınıf tanımlandıktan hemen altındaki satıra üçlü tırnak (\" \" \") ile bir yorum satırı açılır ve docstring yazılır"
   ]
  },
  {
   "cell_type": "markdown",
   "id": "a0cc817b",
   "metadata": {},
   "source": [
    "\"\"\" docstring \"\"\" class \"\"\"açıklama\"\"\" def \"\"\"açıklama\"\"\""
   ]
  },
  {
   "cell_type": "code",
   "execution_count": 268,
   "id": "1cb505f7",
   "metadata": {},
   "outputs": [
    {
     "name": "stdout",
     "output_type": "stream",
     "text": [
      "jkhjde  \" fgdfg\"  'khkhkj' \n"
     ]
    }
   ],
   "source": [
    "print(\"\"\"jkhjde  \" fgdfg\"  'khkhkj' \"\"\")"
   ]
  },
  {
   "cell_type": "code",
   "execution_count": 269,
   "id": "ca7ef687",
   "metadata": {},
   "outputs": [],
   "source": [
    "abc= \"\"\" klsdfşk şkşfs ş şkş dfsşkş sdf\n",
    "fklgşsdflgşlsdf  gsdf gsdf \"\"\""
   ]
  },
  {
   "cell_type": "code",
   "execution_count": null,
   "id": "a339ca9b",
   "metadata": {},
   "outputs": [],
   "source": [
    "abc"
   ]
  },
  {
   "cell_type": "markdown",
   "id": "516c30a8",
   "metadata": {},
   "source": [
    "## input() Fonksiyonu\n",
    "\n",
    "* Kullanıcıdan veri alma fonksiyonudur"
   ]
  },
  {
   "cell_type": "markdown",
   "id": "3d78f2c6",
   "metadata": {},
   "source": [
    "## type() Fonksiyonu\n",
    "\n",
    "* Verinin tipini veren fonksiyondur"
   ]
  },
  {
   "cell_type": "markdown",
   "id": "c9541f21",
   "metadata": {},
   "source": [
    "# Type Casting (tür dönüşümü)\n",
    "bu fonksiyolar ile yapılır;\n",
    "* int() → veriyi inteteger bir değere dönüştürür\n",
    "* float() → veriyi ondalıklı bir değere dönüştürür\n",
    "* str() → veriyi string bir değere dönüştürür"
   ]
  },
  {
   "cell_type": "code",
   "execution_count": 283,
   "id": "0bb12202",
   "metadata": {},
   "outputs": [
    {
     "name": "stdout",
     "output_type": "stream",
     "text": [
      "bir deger giriniz: 5\n",
      "bir deger giriniz: 6\n"
     ]
    }
   ],
   "source": [
    "sayi1 = input(\"bir deger giriniz: \") \n",
    "sayi2 = input(\"bir deger giriniz: \")"
   ]
  },
  {
   "cell_type": "markdown",
   "id": "a23a9ebb",
   "metadata": {},
   "source": [
    "### Stringler ile matematiksel işlemler\n",
    "* Python’da stringler bir karakter dizisi olduğu ve liste formatına benzediği için bazı matematiksel işlemleri yapmak mümkündür\n",
    "* İki dize birbiri ile toplama (+) operatörü ile birleştirilebilir\n",
    "* Python’da karakter dizeleri bir sayı gibi başka bir sayı ile çarpılabilir"
   ]
  },
  {
   "cell_type": "code",
   "execution_count": 284,
   "id": "abb97b17",
   "metadata": {},
   "outputs": [
    {
     "name": "stdout",
     "output_type": "stream",
     "text": [
      "56\n"
     ]
    }
   ],
   "source": [
    "print(sayi1+sayi2)"
   ]
  },
  {
   "cell_type": "code",
   "execution_count": 312,
   "id": "def0a182",
   "metadata": {},
   "outputs": [
    {
     "data": {
      "text/plain": [
       "'ne oldune oldune oldune oldune oldune oldu'"
      ]
     },
     "execution_count": 312,
     "metadata": {},
     "output_type": "execute_result"
    }
   ],
   "source": [
    "\"ne oldu\" *int(sayi2)"
   ]
  },
  {
   "cell_type": "code",
   "execution_count": 313,
   "id": "4c3464e7",
   "metadata": {},
   "outputs": [
    {
     "name": "stdout",
     "output_type": "stream",
     "text": [
      "ne oldune oldune oldune oldune oldune oldu\n"
     ]
    }
   ],
   "source": [
    "print(\"ne oldu\"*sayi2)"
   ]
  },
  {
   "cell_type": "code",
   "execution_count": 287,
   "id": "e7fba8e3",
   "metadata": {},
   "outputs": [
    {
     "data": {
      "text/plain": [
       "str"
      ]
     },
     "execution_count": 287,
     "metadata": {},
     "output_type": "execute_result"
    }
   ],
   "source": [
    "type(sayi1)"
   ]
  },
  {
   "cell_type": "markdown",
   "id": "e71713a6",
   "metadata": {},
   "source": [
    "#### Taype casting ve \"input()\" fonksiyonu kullanım örneği"
   ]
  },
  {
   "cell_type": "code",
   "execution_count": 289,
   "id": "109a3d7b",
   "metadata": {},
   "outputs": [
    {
     "name": "stdout",
     "output_type": "stream",
     "text": [
      "bir deger giriniz: 4\n",
      "bir deger giriniz: 6\n"
     ]
    },
    {
     "data": {
      "text/plain": [
       "10"
      ]
     },
     "execution_count": 289,
     "metadata": {},
     "output_type": "execute_result"
    }
   ],
   "source": [
    "sayi1 = int(input(\"bir deger giriniz: \")) \n",
    "sayi2 = int(input(\"bir deger giriniz: \")) \n",
    "sayi1+sayi2"
   ]
  },
  {
   "cell_type": "code",
   "execution_count": 290,
   "id": "fcc3119e",
   "metadata": {},
   "outputs": [
    {
     "data": {
      "text/plain": [
       "63"
      ]
     },
     "execution_count": 290,
     "metadata": {},
     "output_type": "execute_result"
    }
   ],
   "source": [
    "int('3f', 16)"
   ]
  },
  {
   "cell_type": "code",
   "execution_count": 291,
   "id": "a83b04ee",
   "metadata": {},
   "outputs": [
    {
     "data": {
      "text/plain": [
       "5"
      ]
     },
     "execution_count": 291,
     "metadata": {},
     "output_type": "execute_result"
    }
   ],
   "source": [
    "int(\"5\")"
   ]
  },
  {
   "cell_type": "code",
   "execution_count": 292,
   "id": "015d6b14",
   "metadata": {},
   "outputs": [],
   "source": [
    "a=125"
   ]
  },
  {
   "cell_type": "code",
   "execution_count": 293,
   "id": "2436ee73",
   "metadata": {},
   "outputs": [
    {
     "data": {
      "text/plain": [
       "2263668775152"
      ]
     },
     "execution_count": 293,
     "metadata": {},
     "output_type": "execute_result"
    }
   ],
   "source": [
    "id(a)"
   ]
  },
  {
   "cell_type": "markdown",
   "id": "71b4b9b6",
   "metadata": {},
   "source": [
    "## \"type()\" fonksiyonu kullanım örnekleri: "
   ]
  },
  {
   "cell_type": "code",
   "execution_count": 294,
   "id": "4312f620",
   "metadata": {},
   "outputs": [
    {
     "data": {
      "text/plain": [
       "int"
      ]
     },
     "execution_count": 294,
     "metadata": {},
     "output_type": "execute_result"
    }
   ],
   "source": [
    "type(a)"
   ]
  },
  {
   "cell_type": "code",
   "execution_count": 295,
   "id": "5230586b",
   "metadata": {},
   "outputs": [],
   "source": [
    "a=\"deneme\""
   ]
  },
  {
   "cell_type": "code",
   "execution_count": 296,
   "id": "351ca704",
   "metadata": {},
   "outputs": [
    {
     "data": {
      "text/plain": [
       "2263751004976"
      ]
     },
     "execution_count": 296,
     "metadata": {},
     "output_type": "execute_result"
    }
   ],
   "source": [
    "id(a)"
   ]
  },
  {
   "cell_type": "code",
   "execution_count": 297,
   "id": "5d0c02f0",
   "metadata": {},
   "outputs": [
    {
     "data": {
      "text/plain": [
       "str"
      ]
     },
     "execution_count": 297,
     "metadata": {},
     "output_type": "execute_result"
    }
   ],
   "source": [
    "type(a)"
   ]
  },
  {
   "cell_type": "code",
   "execution_count": 298,
   "id": "b5d2420c",
   "metadata": {},
   "outputs": [],
   "source": [
    "a=15.4"
   ]
  },
  {
   "cell_type": "code",
   "execution_count": 299,
   "id": "d643fb3c",
   "metadata": {},
   "outputs": [
    {
     "data": {
      "text/plain": [
       "float"
      ]
     },
     "execution_count": 299,
     "metadata": {},
     "output_type": "execute_result"
    }
   ],
   "source": [
    "type(a)"
   ]
  },
  {
   "cell_type": "code",
   "execution_count": 300,
   "id": "81d7f57f",
   "metadata": {},
   "outputs": [],
   "source": [
    "a=True"
   ]
  },
  {
   "cell_type": "code",
   "execution_count": 301,
   "id": "9fbc326f",
   "metadata": {},
   "outputs": [
    {
     "data": {
      "text/plain": [
       "bool"
      ]
     },
     "execution_count": 301,
     "metadata": {},
     "output_type": "execute_result"
    }
   ],
   "source": [
    "type(a)"
   ]
  },
  {
   "cell_type": "code",
   "execution_count": 302,
   "id": "38918550",
   "metadata": {},
   "outputs": [],
   "source": [
    "l=\"\",\"\""
   ]
  },
  {
   "cell_type": "code",
   "execution_count": 303,
   "id": "a449ea47",
   "metadata": {},
   "outputs": [
    {
     "data": {
      "text/plain": [
       "tuple"
      ]
     },
     "execution_count": 303,
     "metadata": {},
     "output_type": "execute_result"
    }
   ],
   "source": [
    "type(l)"
   ]
  },
  {
   "cell_type": "markdown",
   "id": "fe6b53dd",
   "metadata": {},
   "source": [
    "# Karşılaştırma Operatörleri\n",
    "* \" == \" → Eşitse\n",
    "* \" != \" → Eşit değilse\n",
    "* \" >  \"  → Büyükse\n",
    "* \" <  \"  → Küçükse\n",
    "* \" >= \" → Büyük veya eşitse\n",
    "* \" <= \" → Küçük veya eşitse"
   ]
  },
  {
   "cell_type": "markdown",
   "id": "b4a7034d",
   "metadata": {},
   "source": [
    "# Mantıksal Operatörler\n",
    "* and → İşlemlerin hepsinin sonucu True ise sonuç da True olur\n",
    "* or  → İşlemlerden en az bir tanesinin sonucu True olursa sonuç da True olur\n",
    "* not → Mantıksal işlemin sonucunu ters çevirir"
   ]
  },
  {
   "cell_type": "code",
   "execution_count": 304,
   "id": "189a323e",
   "metadata": {},
   "outputs": [
    {
     "data": {
      "text/plain": [
       "False"
      ]
     },
     "execution_count": 304,
     "metadata": {},
     "output_type": "execute_result"
    }
   ],
   "source": [
    "120 < 50"
   ]
  },
  {
   "cell_type": "code",
   "execution_count": 305,
   "id": "113bac6a",
   "metadata": {},
   "outputs": [
    {
     "data": {
      "text/plain": [
       "False"
      ]
     },
     "execution_count": 305,
     "metadata": {},
     "output_type": "execute_result"
    }
   ],
   "source": [
    "4 >= 5"
   ]
  },
  {
   "cell_type": "markdown",
   "id": "6f43feb8",
   "metadata": {},
   "source": [
    "# if  Sorguları"
   ]
  },
  {
   "cell_type": "markdown",
   "id": "bac5a49e",
   "metadata": {},
   "source": [
    "#### kullanım senaryosu-1:\n",
    "\n",
    "if <koşul sağlanıyorsa>:\n",
    "\n",
    "       <burda yazılanı yap> "
   ]
  },
  {
   "cell_type": "markdown",
   "id": "45eb7ab9",
   "metadata": {},
   "source": [
    "#### kullanım senaryosu-2:\n",
    "\n",
    "if <koşul sağlanıyorsa>:\n",
    "\n",
    "       <burda yazılanı yap>\n",
    "   \n",
    "else:\n",
    "        \n",
    "       <burda yazılanı yap>"
   ]
  },
  {
   "cell_type": "markdown",
   "id": "8139798d",
   "metadata": {},
   "source": [
    "#### kullanım senaryosu-3:\n",
    "\n",
    "if   <koşul sağlanıyorsa>:\n",
    "\n",
    "     <burda yazılanı yap>\n",
    "elif <alternatif koşul sağlanıyorsa>:\n",
    "    \n",
    "     <burda yazılanı yap>\n",
    "else: \n",
    "     \n",
    "     <burda yazılanı yap>"
   ]
  },
  {
   "cell_type": "code",
   "execution_count": 306,
   "id": "83a17d38",
   "metadata": {},
   "outputs": [
    {
     "name": "stdout",
     "output_type": "stream",
     "text": [
      "dede\n",
      "eee\n",
      "xxx\n"
     ]
    }
   ],
   "source": [
    "x=5\n",
    "if x<10:\n",
    "    print(\"dede\")    \n",
    "    if x==0:\n",
    "            print(\"ddd\") \n",
    "            print(\"ccc\")\n",
    "    print(\"eee\") \n",
    "print(\"xxx\")"
   ]
  },
  {
   "cell_type": "code",
   "execution_count": 307,
   "id": "d0d5df61",
   "metadata": {},
   "outputs": [
    {
     "data": {
      "text/plain": [
       "True"
      ]
     },
     "execution_count": 307,
     "metadata": {},
     "output_type": "execute_result"
    }
   ],
   "source": [
    "1 <= x <= 10"
   ]
  },
  {
   "cell_type": "code",
   "execution_count": 310,
   "id": "fb5c4ac9",
   "metadata": {},
   "outputs": [
    {
     "name": "stdout",
     "output_type": "stream",
     "text": [
      "bir deger giriniz: 5\n",
      "bir deger giriniz: 6\n",
      "bir deger giriniz: 4\n",
      "En küçük sayı: 4\n"
     ]
    }
   ],
   "source": [
    "\"\"\" en kucuk sayi \"\"\"\n",
    "\n",
    "sayi1 = int(input(\"bir deger giriniz: \")) \n",
    "sayi2 = int(input(\"bir deger giriniz: \")) \n",
    "sayi3 = int(input(\"bir deger giriniz: \"))\n",
    "\n",
    "minSayi=sayi1\n",
    "if minSayi>sayi2:\n",
    "    minSayi=sayi2\n",
    "    \n",
    "if minSayi>sayi3:     \n",
    "    minSayi=sayi3\n",
    "    \n",
    "print(f'En küçük sayı: {minSayi}')"
   ]
  },
  {
   "cell_type": "markdown",
   "id": "a1fc28cc",
   "metadata": {},
   "source": [
    "# math Kütüphanesi\n",
    "* Math kütüphanesi Python’un standart kütüphanelerinden biridir \n",
    "* Matematiksel işlemleri yapmanıza kolaylık sağlamaktadır"
   ]
  },
  {
   "cell_type": "code",
   "execution_count": 314,
   "id": "d4e8a8e5",
   "metadata": {},
   "outputs": [],
   "source": [
    "from math import *"
   ]
  },
  {
   "cell_type": "code",
   "execution_count": 315,
   "id": "473a8eaa",
   "metadata": {},
   "outputs": [],
   "source": [
    "e=23"
   ]
  },
  {
   "cell_type": "code",
   "execution_count": 316,
   "id": "375359ee",
   "metadata": {},
   "outputs": [
    {
     "data": {
      "text/plain": [
       "23"
      ]
     },
     "execution_count": 316,
     "metadata": {},
     "output_type": "execute_result"
    }
   ],
   "source": [
    "e"
   ]
  },
  {
   "cell_type": "markdown",
   "id": "9963705b",
   "metadata": {},
   "source": [
    "# min(), max() ve sum() Fonksiyonları\n",
    "* min() fonksiyonu girilen değerlerin en küçüğünü döndürür\n",
    "* max() fonksiyonu girilen değerlerin en büyüğünü döndürür\n",
    "* sum() fonksiyonu girilen değerlerin toplamını döndürür"
   ]
  },
  {
   "cell_type": "code",
   "execution_count": 317,
   "id": "658da8d0",
   "metadata": {},
   "outputs": [
    {
     "data": {
      "text/plain": [
       "10"
      ]
     },
     "execution_count": 317,
     "metadata": {},
     "output_type": "execute_result"
    }
   ],
   "source": [
    "min(10,50,20)"
   ]
  },
  {
   "cell_type": "code",
   "execution_count": 318,
   "id": "5d8c3611",
   "metadata": {},
   "outputs": [
    {
     "data": {
      "text/plain": [
       "50"
      ]
     },
     "execution_count": 318,
     "metadata": {},
     "output_type": "execute_result"
    }
   ],
   "source": [
    "max(10,50,20,50,40)"
   ]
  },
  {
   "cell_type": "code",
   "execution_count": 319,
   "id": "1609f9f9",
   "metadata": {},
   "outputs": [
    {
     "data": {
      "text/plain": [
       "60"
      ]
     },
     "execution_count": 319,
     "metadata": {},
     "output_type": "execute_result"
    }
   ],
   "source": [
    "sum([10,20,30])"
   ]
  },
  {
   "cell_type": "code",
   "execution_count": 320,
   "id": "8c9fb70e",
   "metadata": {},
   "outputs": [],
   "source": [
    "sum??"
   ]
  },
  {
   "cell_type": "markdown",
   "id": "f22bf3c2",
   "metadata": {},
   "source": [
    "### TypeError hatası örneği:"
   ]
  },
  {
   "cell_type": "code",
   "execution_count": 321,
   "id": "2bdd1440",
   "metadata": {},
   "outputs": [
    {
     "ename": "TypeError",
     "evalue": "sum() takes at most 2 arguments (3 given)",
     "output_type": "error",
     "traceback": [
      "\u001b[1;31m---------------------------------------------------------------------------\u001b[0m",
      "\u001b[1;31mTypeError\u001b[0m                                 Traceback (most recent call last)",
      "\u001b[1;32m~\\AppData\\Local\\Temp\\ipykernel_16316\\3240342679.py\u001b[0m in \u001b[0;36m<module>\u001b[1;34m\u001b[0m\n\u001b[1;32m----> 1\u001b[1;33m \u001b[0msum\u001b[0m\u001b[1;33m(\u001b[0m\u001b[1;36m10\u001b[0m\u001b[1;33m,\u001b[0m\u001b[1;36m20\u001b[0m\u001b[1;33m,\u001b[0m\u001b[1;36m30\u001b[0m\u001b[1;33m)\u001b[0m\u001b[1;33m\u001b[0m\u001b[1;33m\u001b[0m\u001b[0m\n\u001b[0m",
      "\u001b[1;31mTypeError\u001b[0m: sum() takes at most 2 arguments (3 given)"
     ]
    }
   ],
   "source": [
    "sum(10,20,30)"
   ]
  },
  {
   "cell_type": "code",
   "execution_count": 322,
   "id": "f16f13a8",
   "metadata": {},
   "outputs": [],
   "source": [
    "x=100\n",
    "if x>=500:\n",
    "    sonuc=\"deneme\" \n",
    "else:\n",
    "    sonuc=\"cc\""
   ]
  },
  {
   "cell_type": "code",
   "execution_count": 323,
   "id": "5976b468",
   "metadata": {},
   "outputs": [
    {
     "data": {
      "text/plain": [
       "'cc'"
      ]
     },
     "execution_count": 323,
     "metadata": {},
     "output_type": "execute_result"
    }
   ],
   "source": [
    "sonuc"
   ]
  },
  {
   "cell_type": "code",
   "execution_count": 324,
   "id": "5a7bb68e",
   "metadata": {},
   "outputs": [],
   "source": [
    "f='dd' if x>= 100 else \"ff\""
   ]
  },
  {
   "cell_type": "code",
   "execution_count": 325,
   "id": "3e5fa61a",
   "metadata": {},
   "outputs": [
    {
     "name": "stdout",
     "output_type": "stream",
     "text": [
      "A\n"
     ]
    }
   ],
   "source": [
    "if x>=100:\n",
    "    print(\"A\") \n",
    "elif x>=90:\n",
    "    print(\"B\") \n",
    "elif x>=80:\n",
    "    print(\"B\") \n",
    "else:\n",
    "    print(\"gg\")"
   ]
  },
  {
   "cell_type": "markdown",
   "id": "b8dd3aa4",
   "metadata": {},
   "source": [
    "# if Kullanım Örneği\n",
    "* Girilen sayıları büyükten küçüğe sıralıyor"
   ]
  },
  {
   "cell_type": "code",
   "execution_count": 326,
   "id": "20d3bc3c",
   "metadata": {},
   "outputs": [
    {
     "name": "stdout",
     "output_type": "stream",
     "text": [
      "Sayı 1 :3\n",
      "Sayı 2 :4\n",
      "Sayı 3 :5\n",
      "5 4 3\n"
     ]
    }
   ],
   "source": [
    "num1 = int(input(\"Sayı 1 :\")) \n",
    "num2 = int(input(\"Sayı 2 :\")) \n",
    "num3 = int(input(\"Sayı 3 :\"))\n",
    "\n",
    "if num1 >= num2 >= num3:\n",
    "    print(num1,num2,num3)\n",
    "    \n",
    "if num1 >= num3 >= num2:\n",
    "    print(num1,num3,num2)\n",
    "    \n",
    "if num2 >= num1 >= num3:\n",
    "    print(num2,num1,num3)\n",
    "    \n",
    "if num2 >= num3 >= num1:\n",
    "    print(num2,num3,num1)\n",
    "    \n",
    "if num3 >= num1 >= num2:\n",
    "    print(num3,num1,num2)\n",
    "    \n",
    "if num3 >= num2 >= num1:\n",
    "    print(num3,num2,num1)"
   ]
  },
  {
   "cell_type": "markdown",
   "id": "902b6f27",
   "metadata": {},
   "source": [
    "# While Döngüsü\n",
    "* While döngülerinde belirttiğimiz bir koşul doğru olduğu sürece while bloğu içerisinde tanımladığımız kod satırları tekrarlar"
   ]
  },
  {
   "cell_type": "code",
   "execution_count": 327,
   "id": "61ee143d",
   "metadata": {},
   "outputs": [
    {
     "name": "stdout",
     "output_type": "stream",
     "text": [
      "4\n",
      "5\n",
      "6\n",
      "7\n",
      "8\n",
      "9\n",
      "10\n",
      "11\n",
      "12\n",
      "13\n",
      "14\n",
      "15\n"
     ]
    }
   ],
   "source": [
    "x = 4\n",
    "while x <= 15:\n",
    "    print(x)\n",
    "    x+=1"
   ]
  },
  {
   "cell_type": "markdown",
   "id": "3be4ef0c",
   "metadata": {},
   "source": [
    "# For Döngüleri\n",
    "* for döngüleri bir eleman grubundaki (list, tuple, dictionary, set ya da string) her bir elemana ulaşmak için kullanılır\n",
    "\n",
    "* kullanım yapısı:\n",
    "\n",
    "for \\<degisken> in \\<iterable>:\n",
    "    \n",
    "    <burda yazılıanı yap>\n"
   ]
  },
  {
   "cell_type": "markdown",
   "id": "d5cecae8",
   "metadata": {},
   "source": [
    "### Iterable\n",
    "* Python'da gezinilebilen(iterable) nesne olarak kullanılabilen bir nesneye iterable obje denir\n",
    "* Liste(list), sözlük(dict), kümeler(set) ve hatta range gibi Python koleksiyonlarının çoğu iterabledir"
   ]
  },
  {
   "cell_type": "markdown",
   "id": "cfb4c64c",
   "metadata": {},
   "source": [
    "# range() fonksiyonu\n",
    "* Range fonksiyonu ile for döngüsünün dönme sayısı kadar tekrarlayan işlemler yapılabilir"
   ]
  },
  {
   "cell_type": "code",
   "execution_count": 328,
   "id": "c596d7e7",
   "metadata": {},
   "outputs": [
    {
     "name": "stdout",
     "output_type": "stream",
     "text": [
      "0 1 2 3 4 "
     ]
    }
   ],
   "source": [
    "for i in range(5):\n",
    "    print(i, end=' ')"
   ]
  },
  {
   "cell_type": "code",
   "execution_count": 329,
   "id": "087feb99",
   "metadata": {},
   "outputs": [],
   "source": [
    "a=range(5)"
   ]
  },
  {
   "cell_type": "code",
   "execution_count": 330,
   "id": "cc7b17b7",
   "metadata": {},
   "outputs": [],
   "source": [
    "c=\"deneme\""
   ]
  },
  {
   "cell_type": "code",
   "execution_count": 331,
   "id": "2da2d8f4",
   "metadata": {},
   "outputs": [
    {
     "data": {
      "text/plain": [
       "'e'"
      ]
     },
     "execution_count": 331,
     "metadata": {},
     "output_type": "execute_result"
    }
   ],
   "source": [
    "c[5]"
   ]
  },
  {
   "cell_type": "markdown",
   "id": "339adb6b",
   "metadata": {},
   "source": [
    "### For döngüsü ve range() fonksiyonu beraber kullanım örnekleri:"
   ]
  },
  {
   "cell_type": "code",
   "execution_count": 332,
   "id": "1bb5cd8b",
   "metadata": {},
   "outputs": [
    {
     "name": "stdout",
     "output_type": "stream",
     "text": [
      "r a n g e ( 5 ) "
     ]
    }
   ],
   "source": [
    "for i in \"range(5)\":    \n",
    "    print(i, end=' ')"
   ]
  },
  {
   "cell_type": "code",
   "execution_count": 333,
   "id": "85c670d5",
   "metadata": {},
   "outputs": [
    {
     "name": "stdout",
     "output_type": "stream",
     "text": [
      "10 20 30 40 "
     ]
    }
   ],
   "source": [
    "for i in [10,20,30,40]:\n",
    "    print(i, end=' ')"
   ]
  },
  {
   "cell_type": "code",
   "execution_count": 334,
   "id": "6caacb75",
   "metadata": {},
   "outputs": [
    {
     "name": "stdout",
     "output_type": "stream",
     "text": [
      "10,20,30,40\n"
     ]
    }
   ],
   "source": [
    "print(10,20,30,40, sep=\",\")"
   ]
  },
  {
   "cell_type": "code",
   "execution_count": 335,
   "id": "36b4cd4e",
   "metadata": {},
   "outputs": [],
   "source": [
    "toplam=0\n",
    "for i in [10,20,30,40]:\n",
    "    toplam+=i"
   ]
  },
  {
   "cell_type": "code",
   "execution_count": 336,
   "id": "20221847",
   "metadata": {},
   "outputs": [
    {
     "data": {
      "text/plain": [
       "100"
      ]
     },
     "execution_count": 336,
     "metadata": {},
     "output_type": "execute_result"
    }
   ],
   "source": [
    "toplam"
   ]
  },
  {
   "cell_type": "code",
   "execution_count": 337,
   "id": "14e33a02",
   "metadata": {},
   "outputs": [],
   "source": [
    "l=[i*10 for i in range(1,11)]"
   ]
  },
  {
   "cell_type": "code",
   "execution_count": 338,
   "id": "80a5998a",
   "metadata": {},
   "outputs": [
    {
     "data": {
      "text/plain": [
       "[10, 20, 30, 40, 50, 60, 70, 80, 90, 100]"
      ]
     },
     "execution_count": 338,
     "metadata": {},
     "output_type": "execute_result"
    }
   ],
   "source": [
    "l"
   ]
  },
  {
   "cell_type": "markdown",
   "id": "86bca7c4",
   "metadata": {},
   "source": [
    "## Kullanıcının girdiği sayıların ortalamalarını hesaplayan döngü örnekleri:"
   ]
  },
  {
   "cell_type": "code",
   "execution_count": 340,
   "id": "8548a409",
   "metadata": {},
   "outputs": [
    {
     "name": "stdout",
     "output_type": "stream",
     "text": [
      "döngü sayısını giriniz: 3\n",
      "döngü sayısını giriniz: 5\n",
      "döngü sayısını giriniz: 4\n",
      "döngü sayısını giriniz: 5\n",
      "Toplam: 14 ve ortalama: 4.67\n"
     ]
    }
   ],
   "source": [
    "sayac=int(input(\"döngü sayısını giriniz: \")) \n",
    "toplam=0\n",
    "for i in range(sayac):\n",
    "    deger=int(input(\"döngü sayısını giriniz: \"))\n",
    "    toplam+=deger\n",
    "print(f\"Toplam: {toplam} ve ortalama: {(toplam/sayac):.2f}\")"
   ]
  },
  {
   "cell_type": "code",
   "execution_count": 341,
   "id": "be568e5e",
   "metadata": {},
   "outputs": [
    {
     "name": "stdout",
     "output_type": "stream",
     "text": [
      "veri giriniz: cikmak icin -1 5\n",
      "veri giriniz: cikmak için -1 -1\n",
      "Toplam: 5 ve ortalama: 5.00\n"
     ]
    }
   ],
   "source": [
    "deger = int(input (\"veri giriniz: cikmak icin -1 \"))\n",
    "toplam = 0\n",
    "sayac = 0\n",
    "\n",
    "while deger != -1:\n",
    "    toplam+=deger\n",
    "    sayac+=1\n",
    "    deger=int(input(\"veri giriniz: cikmak için -1 \"))\n",
    "\n",
    "if sayac!=0:\n",
    "    print(f\"Toplam: {toplam} ve ortalama: {(toplam/sayac):.2f}\") \n",
    "else:\n",
    "    print(\"en az bir sayı giriniz: \")"
   ]
  },
  {
   "cell_type": "code",
   "execution_count": 342,
   "id": "84749947",
   "metadata": {},
   "outputs": [
    {
     "name": "stdout",
     "output_type": "stream",
     "text": [
      "10\n",
      "8\n",
      "6\n",
      "4\n",
      "2\n"
     ]
    }
   ],
   "source": [
    "for i in range(10, 1, -2):\n",
    "    print(i)"
   ]
  },
  {
   "cell_type": "code",
   "execution_count": 343,
   "id": "6dc63d03",
   "metadata": {},
   "outputs": [
    {
     "data": {
      "text/plain": [
       "0.30000000000000004"
      ]
     },
     "execution_count": 343,
     "metadata": {},
     "output_type": "execute_result"
    }
   ],
   "source": [
    "0.1 + 0.2"
   ]
  },
  {
   "cell_type": "code",
   "execution_count": 344,
   "id": "521b5a3b",
   "metadata": {},
   "outputs": [],
   "source": [
    "x=52.31"
   ]
  },
  {
   "cell_type": "code",
   "execution_count": 345,
   "id": "0bc1e3ce",
   "metadata": {},
   "outputs": [
    {
     "data": {
      "text/plain": [
       "52.31"
      ]
     },
     "execution_count": 345,
     "metadata": {},
     "output_type": "execute_result"
    }
   ],
   "source": [
    "x"
   ]
  },
  {
   "cell_type": "code",
   "execution_count": 346,
   "id": "4b67dca6",
   "metadata": {},
   "outputs": [
    {
     "name": "stdout",
     "output_type": "stream",
     "text": [
      "52.31000000000000227374\n"
     ]
    }
   ],
   "source": [
    "print(f'{x:.20f}')"
   ]
  },
  {
   "cell_type": "markdown",
   "id": "6b735141",
   "metadata": {},
   "source": [
    "# Decimal Sınıfı\n",
    "Decimal sınıfının kullanıldığı durumlar\n",
    "* Tam ondalık gösterime ihtiyaç duyan finansal uygulamalar yaparken\n",
    "* Gerekli hassasiyet seviyesini kontrol etmek istediğimizde\n",
    "* Önemli ondalık basamaklar kavramını uygulamak istediğimizde"
   ]
  },
  {
   "cell_type": "code",
   "execution_count": 347,
   "id": "cb374ebe",
   "metadata": {},
   "outputs": [],
   "source": [
    "from decimal import Decimal"
   ]
  },
  {
   "cell_type": "code",
   "execution_count": 348,
   "id": "c5398697",
   "metadata": {},
   "outputs": [],
   "source": [
    "a=Decimal('1000.00')"
   ]
  },
  {
   "cell_type": "code",
   "execution_count": 349,
   "id": "d5e23722",
   "metadata": {},
   "outputs": [
    {
     "data": {
      "text/plain": [
       "Decimal('1000.00')"
      ]
     },
     "execution_count": 349,
     "metadata": {},
     "output_type": "execute_result"
    }
   ],
   "source": [
    "a"
   ]
  },
  {
   "cell_type": "code",
   "execution_count": 350,
   "id": "449e3b27",
   "metadata": {},
   "outputs": [
    {
     "data": {
      "text/plain": [
       "decimal.Decimal"
      ]
     },
     "execution_count": 350,
     "metadata": {},
     "output_type": "execute_result"
    }
   ],
   "source": [
    "type(a)"
   ]
  },
  {
   "cell_type": "code",
   "execution_count": 351,
   "id": "f257ce1a",
   "metadata": {},
   "outputs": [
    {
     "name": "stdout",
     "output_type": "stream",
     "text": [
      "1000.00000000000000000000\n"
     ]
    }
   ],
   "source": [
    "print(f'{a:.20f}')"
   ]
  },
  {
   "cell_type": "code",
   "execution_count": 352,
   "id": "cb3ed3ed",
   "metadata": {},
   "outputs": [],
   "source": [
    "b=Decimal('0.05')"
   ]
  },
  {
   "cell_type": "code",
   "execution_count": 353,
   "id": "4769c07b",
   "metadata": {},
   "outputs": [
    {
     "data": {
      "text/plain": [
       "Decimal('1000.05')"
      ]
     },
     "execution_count": 353,
     "metadata": {},
     "output_type": "execute_result"
    }
   ],
   "source": [
    "a+b"
   ]
  },
  {
   "cell_type": "code",
   "execution_count": 354,
   "id": "f5724273",
   "metadata": {},
   "outputs": [
    {
     "data": {
      "text/plain": [
       "Decimal('20000')"
      ]
     },
     "execution_count": 354,
     "metadata": {},
     "output_type": "execute_result"
    }
   ],
   "source": [
    "a/b"
   ]
  },
  {
   "cell_type": "code",
   "execution_count": 355,
   "id": "43e6d8f8",
   "metadata": {},
   "outputs": [
    {
     "data": {
      "text/plain": [
       "Decimal('20000')"
      ]
     },
     "execution_count": 355,
     "metadata": {},
     "output_type": "execute_result"
    }
   ],
   "source": [
    "a//b"
   ]
  },
  {
   "cell_type": "markdown",
   "id": "a9489ab4",
   "metadata": {},
   "source": [
    "### For döngüsü kullanım örnekleri:"
   ]
  },
  {
   "cell_type": "code",
   "execution_count": 356,
   "id": "75bae067",
   "metadata": {},
   "outputs": [
    {
     "name": "stdout",
     "output_type": "stream",
     "text": [
      "1    1050.00\n",
      "2    1102.50\n",
      "3    1157.62\n",
      "4    1215.51\n",
      "5    1276.28\n",
      "6    1340.10\n",
      "7    1407.10\n",
      "8    1477.46\n",
      "9    1551.33\n",
      "10   1628.89\n"
     ]
    }
   ],
   "source": [
    "for i in range(1,11):\n",
    "    s=a* (1+b)**i\n",
    "    print(f\"{i:<2}{s:>10.2f}\")"
   ]
  },
  {
   "cell_type": "code",
   "execution_count": 357,
   "id": "cf921eff",
   "metadata": {},
   "outputs": [
    {
     "name": "stdout",
     "output_type": "stream",
     "text": [
      "0 1 2 3 4 7 8 9 \n",
      "0 1 2 3 4 7 8 9 \n",
      "0 1 2 3 4 7 8 9 \n",
      "0 1 2 3 4 7 8 9 \n",
      "0 1 2 3 4 7 8 9 \n"
     ]
    }
   ],
   "source": [
    "for x in range(5):    \n",
    "    for i in range(10):\n",
    "        if i == 5 or i==6:\n",
    "            continue \n",
    "        print(i, end=' ')    \n",
    "    print()"
   ]
  },
  {
   "cell_type": "code",
   "execution_count": 358,
   "id": "d7a79b1e",
   "metadata": {},
   "outputs": [
    {
     "data": {
      "text/plain": [
       "[10, 20, 30, 40, 50, 60, 70, 80, 90, 100]"
      ]
     },
     "execution_count": 358,
     "metadata": {},
     "output_type": "execute_result"
    }
   ],
   "source": [
    "l"
   ]
  },
  {
   "cell_type": "code",
   "execution_count": 359,
   "id": "186c4b35",
   "metadata": {},
   "outputs": [
    {
     "data": {
      "text/plain": [
       "55.0"
      ]
     },
     "execution_count": 359,
     "metadata": {},
     "output_type": "execute_result"
    }
   ],
   "source": [
    "sum(l)/len(l)"
   ]
  },
  {
   "cell_type": "code",
   "execution_count": 360,
   "id": "e9ad4129",
   "metadata": {},
   "outputs": [
    {
     "data": {
      "text/plain": [
       "10"
      ]
     },
     "execution_count": 360,
     "metadata": {},
     "output_type": "execute_result"
    }
   ],
   "source": [
    "len(l)"
   ]
  },
  {
   "cell_type": "markdown",
   "id": "fa8bbaa8",
   "metadata": {},
   "source": [
    "# Statistics kütüphanesi\n",
    "* Bu modül, sayısal verilerin matematiksel istatistiklerini hesaplamak için işlevler sağlar"
   ]
  },
  {
   "cell_type": "code",
   "execution_count": 361,
   "id": "48d4b459",
   "metadata": {},
   "outputs": [],
   "source": [
    "import statistics"
   ]
  },
  {
   "cell_type": "code",
   "execution_count": 362,
   "id": "3beafb42",
   "metadata": {},
   "outputs": [
    {
     "data": {
      "text/plain": [
       "55"
      ]
     },
     "execution_count": 362,
     "metadata": {},
     "output_type": "execute_result"
    }
   ],
   "source": [
    "statistics.mean(l)"
   ]
  },
  {
   "cell_type": "code",
   "execution_count": 363,
   "id": "eaed59e4",
   "metadata": {},
   "outputs": [
    {
     "data": {
      "text/plain": [
       "55.0"
      ]
     },
     "execution_count": 363,
     "metadata": {},
     "output_type": "execute_result"
    }
   ],
   "source": [
    "statistics.median(l)"
   ]
  },
  {
   "cell_type": "code",
   "execution_count": 364,
   "id": "bd831575",
   "metadata": {},
   "outputs": [
    {
     "data": {
      "text/plain": [
       "10"
      ]
     },
     "execution_count": 364,
     "metadata": {},
     "output_type": "execute_result"
    }
   ],
   "source": [
    "statistics.mode(l)"
   ]
  },
  {
   "cell_type": "code",
   "execution_count": 365,
   "id": "a8435f52",
   "metadata": {},
   "outputs": [
    {
     "data": {
      "text/plain": [
       "[10, 20, 30, 40, 50, 60, 70, 80, 90, 100]"
      ]
     },
     "execution_count": 365,
     "metadata": {},
     "output_type": "execute_result"
    }
   ],
   "source": [
    "sorted(l)"
   ]
  },
  {
   "cell_type": "code",
   "execution_count": 366,
   "id": "1752d7ba",
   "metadata": {},
   "outputs": [
    {
     "data": {
      "text/plain": [
       "[10, 20, 30, 40, 50, 60, 70, 80, 90, 100]"
      ]
     },
     "execution_count": 366,
     "metadata": {},
     "output_type": "execute_result"
    }
   ],
   "source": [
    "l"
   ]
  },
  {
   "cell_type": "code",
   "execution_count": 367,
   "id": "e3bd479f",
   "metadata": {},
   "outputs": [],
   "source": [
    "import numpy as np"
   ]
  },
  {
   "cell_type": "code",
   "execution_count": 368,
   "id": "96aa6e88",
   "metadata": {},
   "outputs": [
    {
     "data": {
      "text/plain": [
       "32.5"
      ]
     },
     "execution_count": 368,
     "metadata": {},
     "output_type": "execute_result"
    }
   ],
   "source": [
    "np.percentile(l,25)"
   ]
  },
  {
   "cell_type": "code",
   "execution_count": 369,
   "id": "6ca93dfc",
   "metadata": {},
   "outputs": [],
   "source": [
    "import math"
   ]
  }
 ],
 "metadata": {
  "kernelspec": {
   "display_name": "Python 3 (ipykernel)",
   "language": "python",
   "name": "python3"
  },
  "language_info": {
   "codemirror_mode": {
    "name": "ipython",
    "version": 3
   },
   "file_extension": ".py",
   "mimetype": "text/x-python",
   "name": "python",
   "nbconvert_exporter": "python",
   "pygments_lexer": "ipython3",
   "version": "3.9.13"
  }
 },
 "nbformat": 4,
 "nbformat_minor": 5
}
