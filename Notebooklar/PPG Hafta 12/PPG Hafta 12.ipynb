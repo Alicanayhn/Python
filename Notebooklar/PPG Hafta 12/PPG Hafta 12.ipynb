{
 "cells": [
  {
   "cell_type": "markdown",
   "id": "a7bb5683",
   "metadata": {},
   "source": [
    "# MAKİNE ÖĞRENMESİ: Sınıflandırma, Regresyon ve Kümeleme"
   ]
  },
  {
   "cell_type": "markdown",
   "id": "17eeb112",
   "metadata": {},
   "source": [
    "Makine öğrenmesi 3 kategoride incelenebilir:\n",
    "- Denetimli Öğrenme: Veri setlerinde etiketleme olan\n",
    "- Denetimsiz Öğrenme: Veri setlerinde etiketleme olmayan\n",
    "- Pekiştirmeli Öğrenme: Otonom araçlar, robotlar ile ilgilidir. Ödül-ceza sistemiyle robotun o sistemi öğrenmesi sağlanır."
   ]
  },
  {
   "cell_type": "markdown",
   "id": "2063b49e",
   "metadata": {},
   "source": [
    "<img src=\"kaynak01.png\"/>"
   ]
  },
  {
   "cell_type": "markdown",
   "id": "6d027af6",
   "metadata": {},
   "source": [
    "### HEDEFLER\n",
    "* Makine öğrenimi çalışmaları gerçekleştirmek için popüler veri kümeleriyle scikit-learn kullanılabilir.\n",
    "* Verileri görselleştirmek ve keşfetmek için Seaborn ve Matplotlib kullanılabilir.\n",
    "* k-nearest neighbors sınıflandırması ve doğrusal regresyon ile denetimli makine öğrenimi gerçekleştirilebilir.\n",
    "* Digits veri seti ile çoklu sınıflandırma gerçekleştirilebilir.\n",
    "* Bir veri kümesi eğitim, test ve doğrulama kümelerine ayrılabilir.\n",
    "* k-fold cross-validation ile model hiperparametreleri ayarlanabilir.\n",
    "* Model performansı ölçülmelidir.\n",
    "* Sınıflandırma tahmini isabetlerini ve ıskalamalarını gösteren bir karışıklık matrisi görüntülenebilir.\n",
    "* California Housing veri kümesiyle çoklu doğrusal regresyon gerçekleştirilebilir.\n",
    "* Iris ve Digits veri kümelerini iki boyutlu görselleştirmelere hazırlamak için PCA ve t-SNE ile boyutluluk azaltma gerçekleştirilebilir.\n",
    "* K-means kümeleme ve Iris veri kümesiyle denetimsiz makine öğrenimi gerçekleştirilebilir."
   ]
  },
  {
   "cell_type": "markdown",
   "id": "b5758c92",
   "metadata": {},
   "source": [
    "## Makine Öğrenimine Giriş\n",
    "* Yapay zekanın en heyecan verici ve gelecek vaat eden alt alanlarından biridir.\n",
    "* Büyük ve karmaşık bir konudur."
   ]
  },
  {
   "cell_type": "markdown",
   "id": "e78bc23e",
   "metadata": {},
   "source": [
    "## Makine Öğrenimi Nedir?\n",
    "* Makinelerimizin (bilgisayarlarımızın) gerçekten öğrenmesini sağlayabilir miyiz? Bu sorunun cevabını araştırır.\n",
    "* En önemli şey \"veri\"dir."
   ]
  },
  {
   "cell_type": "markdown",
   "id": "fd285c41",
   "metadata": {},
   "source": [
    "### Tahmin\n",
    "Aşağıdaki tahminlerin tümü bugün makine öğrenimi ile gerçekleşiyor:\n",
    "* Hava tahminleri\n",
    "* Kanser teşhisleri ve tedavi rejimlerini iyileştirme\n",
    "* İş tahminleri\n",
    "* Sahte kredi kartı satın alımlarını ve sigorta taleplerini tespit edin\n",
    "* Evlerin muhtemelen hangi fiyatlara satılacağını, yeni filmlerin bilet satışlarını ve yeni ürün ve hizmetlerin beklenen gelirini tahmin etme\n",
    "* Antrenörlerin ve oyuncuların daha fazla oyun ve şampiyonluk kazanmak için kullanabilecekleri en iyi stratejileri tahmin etme"
   ]
  },
  {
   "cell_type": "markdown",
   "id": "3be51f71",
   "metadata": {},
   "source": [
    "### Popüler Makine Öğrenimi Uygulamaları\n",
    "| Makine öğrenimi uygulamaları | &nbsp; | &nbsp; \n",
    "| :--- | :--- | :---\n",
    "| Anomali tespiti | Veri madenciliği sosyal medya (like Facebook, Twitter, LinkedIn) | Mortgage kredisi temerrütlerini tahmin etme\n",
    "| Chatbot'lar | Ekrandaki nesneleri algılama | Doğal dil çevirisi (İngilizce'den İspanyolca'ya, Fransızca'dan Japonca'ya vb.) \n",
    "| E-postaları spam veya spam değil olarak sınıflandırma | Verilerdeki kalıpları algılama | Tavsiye sistemleri (“bu ürünü alan kişiler aynı zamanda satın aldı…”)\n",
    "| Haber makalelerini spor, finans, politika vb. olarak sınıflandırmak | İlaç teşhisi | Sürücüsüz arabalar (genel olarak, otonom araçlar) \n",
    "| Bilgisayar görüşü ve görüntü sınıflandırması | Yüz tanıma | Duygu analizi (film incelemelerini olumlu, olumsuz veya tarafsız olarak sınıflandırmak gibi)\n",
    "| Kredi kartı dolandırıcılığı tespiti | Elyazısı tanıma | Spam filtreleme\n",
    "| Müşteri kaybı tahmini | Sigorta dolandırıcılığı tespiti  | Hisse senedi fiyatı tahmini ve hava durumu tahmini gibi zaman serisi tahminleri\n",
    "| Veri sıkıştırma | Bilgisayar ağlarında izinsiz giriş tespiti | Ses tanıma\n",
    "| Veri keşfi | Pazarlama: Müşterileri kümelere ayırma"
   ]
  },
  {
   "cell_type": "markdown",
   "id": "413570f6",
   "metadata": {},
   "source": [
    "## Scikit-Learn \n",
    "* En etkili makine öğrenimidir. \n",
    "* Algoritmalarını tahmin ediciler olarak uygun şekilde paketler.\n",
    "* Her biri kapsüllenmiştir, bu nedenle bu algoritmaların nasıl çalıştığına dair karmaşık ayrıntıları ve ağır matematiği görmezsiniz.\n",
    "* Scikit-learn ve az miktarda Python kodu ile verileri analiz etmek, verilerden içgörüler çıkarmak ve en önemlisi tahminler yapmak için hızlı bir şekilde güçlü modeller oluşturmak.\n",
    "* Verilerinizin bir alt kümesinde her bir modeli eğitmek için scikit-learn kullanılır, ardından modelin ne kadar iyi çalıştığını görmek için her modeli geri kalanı üzerinde test edilir.\n",
    "* Modeller eğitildikten sonra, onları görmedikleri verilere dayalı tahminler yapmak üzere çalıştırılır.\n",
    "* Daha çok ezberci işlerde kullanmış olduğunuz bilgisayar zeka özelliği kazanacaktır."
   ]
  },
  {
   "cell_type": "markdown",
   "id": "07ed0d12",
   "metadata": {},
   "source": [
    "### Projeniz için Hangi Scikit-Learn Tahmin Aracını Seçmelisiniz?\n",
    "* Verileriniz üzerinde hangi modellerin en iyi performansı göstereceğini önceden bilmek zordur, bu nedenle genellikle birçok modeli dener ve en iyi performansı göstereni seçersiniz.\n",
    "* Birçok modeli çalıştırmak ve en iyisini seçmek açısından popüler bir yaklaşımdır.\n",
    "* Hangi modelin en iyi performansı gösterdiğini nasıl değerlendirebiliriz?\n",
    "* Farklı türde veri kümeleri üzerinde birçok farklı modeli denemek isteyeceksiniz.\n",
    "* Tahmin edicilerinde karmaşık matematiksel algoritmaların ayrıntılarını öğreneceksiniz, ancak deneyimle belirli veri kümeleri ve problem türleri için hangi algoritmaların en iyi olabileceğine aşina olacaksınız.\n",
    "* Bu deneyimle bile, her yeni veri kümesi için en iyi modeli sezmeniz pek olası değildir.\n",
    "* Yani scikit-learn, \"hepsini denemenizi\" kolaylaştırır.\n",
    "* Modeller performanslarını raporlar, böylece sonuçları karşılaştırabilir ve en iyi performansa sahip modelleri seçebilirsiniz."
   ]
  },
  {
   "cell_type": "markdown",
   "id": "85172b4c",
   "metadata": {},
   "source": [
    "<img src=\"kaynak02.png\"/>"
   ]
  },
  {
   "cell_type": "markdown",
   "id": "272d4717",
   "metadata": {},
   "source": [
    "## Denetimli Makine Öğrenimi (Supervised Machine Learning)\n",
    "* Denetimli makine öğrenimi, sınıflandırma ve regresyon olmak üzere iki kategoriye ayrılır.\n",
    "* Makine öğrenimi modellerini satırlardan ve sütunlardan oluşan veri kümeleri üzerinde eğitirsiniz.\n",
    "* Her satır, bir veri örneğini temsil eder.\n",
    "* Her sütun, o örneğin bir özelliğini temsil eder.\n",
    "* Denetimli makine öğreniminde, her örneğin hedef adı verilen (\"köpek\" veya \"kedi\" gibi) ilişkili bir etiketi vardır.\n",
    "* Bu, modellerinize sunduğunuz yeni veriler için tahmin etmeye çalıştığınız değerdir."
   ]
  },
  {
   "cell_type": "markdown",
   "id": "03442ea9",
   "metadata": {},
   "source": [
    "## Veri Setleri (Data Sets)\n",
    "* Her biri sınırlı sayıda özelliğe sahip az sayıda örneğe sahip bazı \"toy\" veri kümeleriyle çalışacaksınız.\n",
    "* On binlerce örnek içeren zengin özelliklere sahip birkaç gerçek dünya veri kümesiyle de çalışılabilir.\n",
    "* Büyük veri dünyasında, veri kümelerinde genellikle milyonlarca ve milyarlarca, hatta daha fazla örnek bulunur.\n",
    "* Veri bilimi çalışmaları için çok sayıda ücretsiz ve açık veri seti mevcuttur.\n",
    "* Scikit-learn gibi kitaplıklar, denemeniz için popüler veri kümelerini paketler ve çeşitli havuzlardan (openml.org gibi) veri kümelerini yüklemek için mekanizmalar sağlar.\n",
    "* Dünya çapındaki hükümetler, işletmeler ve diğer kuruluşlar çok çeşitli konularda veri kümeleri sunar.\n",
    "* Çeşitli makine öğrenimi teknikleri kullanarak birkaç popüler ücretsiz veri kümesiyle çalışılabilir."
   ]
  },
  {
   "cell_type": "markdown",
   "id": "1ac1b736",
   "metadata": {},
   "source": [
    "## Sınıflandırma (Classification)\n",
    "* Scikit-learn ile birlikte gelen Digits veri setini analiz etmek için en basit sınıflandırma algoritmalarından biri olan k-nearest neighbors kullanacağız.\n",
    "* Sınıflandırma algoritmaları, örneklerin ait olduğu ayrık sınıfları (kategorileri) tahmin eder.\n",
    "* İkili sınıflandırma (Binary classification), bir e-posta sınıflandırma uygulamasında \"spam\" veya \"spam değil\" gibi iki sınıf kullanır.\n",
    "* Çoklu sınıflandırma (Multi-classification), Digits veri kümesinde 0'dan 9'a kadar olan 10 sınıf gibi ikiden fazla sınıf kullanır.\n",
    "* Film açıklamalarına bakan bir sınıflandırma şeması, onları \"aksiyon\", \"macera\", \"fantastik\", \"romantizm\", \"tarih\" ve benzeri olarak sınıflandırmaya çalışabilir."
   ]
  },
  {
   "cell_type": "markdown",
   "id": "ebf6431a",
   "metadata": {},
   "source": [
    "## Gerileme (Regression)\n",
    "* Regresyon modelleri sürekli bir çıktı öngörür.\n",
    "* Scikit-learn'ün LinearRegression tahmin aracını kullanarak basit bir lineer regresyon gerçekleştireceğiz.\n",
    "* Ardından, scikit-learn ile birlikte gelen California Housing veri kümesiyle çoklu doğrusal regresyon gerçekleştirmek için bir LinearRegression tahmincisi kullanıyoruz.\n",
    "* Ortalama oda sayısı, medyan ev yaşı, ortalama yatak odası sayısı ve medyan gelir gibi blok başına sekiz özelliği göz önünde bulundurarak ABD'deki bir ev bloğunun medyan ev değerini tahmin edeceğiz.\n",
    "* Doğrusal Regresyon tahmincisi, varsayılan olarak, tek özellikli basit bir doğrusal regresyonla yapabileceğinizden daha karmaşık tahminler yapmak için bir veri kümesindeki tüm sayısal özellikleri kullanır."
   ]
  },
  {
   "cell_type": "markdown",
   "id": "c454fbd4",
   "metadata": {},
   "source": [
    "## Denetimsiz Makine Öğrenimi (Unsupervised Machine Learning)\n",
    "* Ardından, kümeleme algoritmalarıyla denetimsiz makine öğrenimini tanıtacağız.\n",
    "* Görselleştirme amacıyla Digits veri kümesinin 64 özelliğini ikiye sıkıştırmak için boyut indirgeme (scikit-learn'ün TSNE tahmincisi ile) kullanacağız.\n",
    "* Bu, Digits verilerinin ne kadar iyi \"kümelendiğini\" görmemizi sağlayacaktır.\n",
    "* Bu veri kümesi, postane bilgisayarlarının her bir harfi belirlenen posta koduna yönlendirmek için tanıması gerekenler gibi el yazısı rakamlar içerir.\n",
    "* Her kişinin el yazısının benzersiz olduğu göz önüne alındığında, bu zorlu bir bilgisayarla görme sorunudur.\n",
    "* Yine de, bu kümeleme modelini sadece birkaç satır kodla oluşturacağız ve etkileyici sonuçlar elde edeceğiz.\n",
    "* Ve bunu, kümeleme algoritmasının iç işleyişini anlamak zorunda kalmadan yapacağız.\n",
    "* Bu, nesne tabanlı programlamanın güzelliğidir.\n",
    "* Açık kaynak Keras kitaplığını kullanarak güçlü derin öğrenme modelleri oluşturacağımız bir sonraki kısımda bu tür kullanışlı nesne tabanlı programlamayı yeniden göreceğiz."
   ]
  },
  {
   "cell_type": "markdown",
   "id": "01a67148",
   "metadata": {},
   "source": [
    "### K-Means Kümeleme ve İris Veri Kümesi (K-Means Clustering and the Iris Data Set)\n",
    "* En basit denetimsiz makine öğrenimi algoritması olan k-means kümelemeyi sunacağız ve bunu yine scikit-learn ile birlikte gelen Iris veri kümesinde kullanacağız.\n",
    "* Görselleştirme amacıyla Iris veri kümesinin dört özelliğini ikiye sıkıştırmak için boyut indirgeme (scikit-learn'ün PCA tahmincisi ile) kullanacağız.\n",
    "* Veri kümesindeki üç İris türünün kümelenmesini göstereceğiz ve kümenin merkez noktası olan her kümenin ağırlık merkezinin grafiğini çizeceğiz.\n",
    "* Son olarak, Iris veri kümesinin örneklerini etkili bir şekilde üç kümeye bölme yeteneklerini karşılaştırmak için birden çok kümeleme tahmincisi çalıştıracağız.\n",
    "* k, normalde istenen küme sayısını belirtir.\n",
    "* K-means, verileri o kadar çok kümeye bölmeye çalışarak çalışır.\n",
    "* Birçok makine öğrenimi algoritmasında olduğu gibi, k-means yinelemelidir ve belirttiğiniz sayıyla eşleşmek için kümelerde kademeli olarak sıfırlanır.\n",
    "* K-means kümeleme, etiketlenmemiş verilerde benzerlikler bulabilir.\n",
    "* Bu, sonuçta denetimli öğrenme tahmincilerinin verileri işleyebilmesi için bu verilere etiket atamaya yardımcı olabilir.\n",
    "* İnsanların etiketlenmemiş verilere etiket atamak zorunda kalmasının sıkıcı ve hataya açık olduğu ve dünyadaki verilerin büyük çoğunluğunun etiketlenmemiş olduğu göz önüne alındığında, denetimsiz makine öğrenimi önemli bir araçtır."
   ]
  },
  {
   "cell_type": "markdown",
   "id": "6d7ce4e6",
   "metadata": {},
   "source": [
    "## Büyük Veri ve Büyük Bilgisayar İşleme Gücü (Big Data and Big Computer Processing Power)\n",
    "* Bugün mevcut olan veri miktarı zaten çok büyük ve katlanarak büyümeye devam ediyor.\n",
    "* Dünyada son birkaç yılda üretilen veri, medeniyetin doğuşundan bu yana o ana kadar üretilen veri miktarına eşit.\n",
    "* Genellikle büyük verilerden bahsederiz, ancak \"büyük\", verilerin ne kadar büyük hale geldiğini gerçekten açıklamak için yeterince güçlü bir terim olmayabilir.\n",
    "* İnsanlar \"Veriler içinde boğuluyorum ve bununla ne yapacağımı bilmiyorum\" derdi.\n",
    "* Makine öğrenimi ile artık \"Beni büyük verilerle doldurun, böylece makine öğrenimi teknolojisini ve güçlü bilgi işlem yeteneklerini kullanarak içgörüler elde edip tahminlerde bulunabileyim\" diyoruz.\n",
    "* Bu, bilgi işlem gücünün patladığı ve bilgisayar belleği ile ikincil depolamanın kapasitesinin patladığı ve maliyetlerin önemli ölçüde düştüğü bir zamanda meydana geliyor.\n",
    "* Bütün bunlar çözüm yaklaşımları hakkında farklı düşünmemizi sağlıyor.\n",
    "* Artık bilgisayarları verilerden ve birçoğundan öğrenecek şekilde programlayabiliriz.\n",
    "* Artık her şey verilerden tahmin yapmakla ilgili."
   ]
  },
  {
   "cell_type": "markdown",
   "id": "e7acba19",
   "metadata": {},
   "source": [
    "### Scikit-Learn ile Birlikte Verilen Veri Setleri\n",
    "* Scikit-learn ayrıca, https'de bulunan 20.000 veri kümesi gibi diğer kaynaklardan veri kümelerini yüklemek için yetenekler sağlar: https://openml.org. \n",
    "\n",
    "| Scikit-learn ile birlikte verilen veri kümeleri | &nbsp;\n",
    "| :--- | :---\n",
    "| **\"Toy\" Veri Seti** | **Real-world Veri Seti**\n",
    "| Boston ev fiyatları | Olivetti'nin yüzleri\n",
    "| Iris bitkileri | 20 haber grubu metni\n",
    "| Diyabet | Vahşi yüz tanımada Etiketli Yüzler\n",
    "| El yazısı rakamların optik olarak tanınması | Orman örtüsü türleri\n",
    "| Linnerrud | RCV1\n",
    "| Wine recognition | Kddcup 99 \n",
    "| Meme kanseri Wisconsin (teşhis) | California Housing "
   ]
  },
  {
   "cell_type": "markdown",
   "id": "74e20a26",
   "metadata": {},
   "source": [
    "### Tipik bir Veri Bilimi Çalışmasındaki Adımlar:\n",
    "* Aşağıdakiler de dahil olmak üzere tipik bir makine öğrenimi vaka çalışmasının adımlarını uygulayacağız:\n",
    "    * veri kümesi yüklenmesi\n",
    "    * verileri pandas ve görselleştirmelerle keşfetme\n",
    "    * verilerinizi dönüştürme (scikit-learn sayısal veriler gerektirdiğinden sayısal olmayan verileri sayısal verilere dönüştürme; bu bölümde \"kullanıma hazır\" veri kümeleri kullanıyoruz, ancak konuyu \"Derin Öğrenme\" bölümünde tekrar ele alacağız. )\n",
    "    * eğitim ve test için verileri bölme\n",
    "    * model oluşturma\n",
    "    * modeli eğitmek ve test etmek\n",
    "    * modeli ayarlama ve doğruluğunu değerlendirme\n",
    "    * modelin daha önce görmediği canlı veriler üzerinde tahminler yapma\n",
    "* Bunlar, makine öğrenimi için kullanmadan önce verilerinizi temizlemenin önemli adımlarıdır."
   ]
  },
  {
   "cell_type": "markdown",
   "id": "6f659f8d",
   "metadata": {},
   "source": [
    "## Örnek Olay (Case Study) : k-Nearest Neighbors ve Digits Veri Kümesi ile Sınıflandırma\n",
    "* Postayı verimli bir şekilde işlemek ve her mektubu doğru hedefe yönlendirmek için, posta hizmeti bilgisayarlarının el yazısı adları, adresleri ve posta kodlarını tarayabilmesi ve harfleri ve rakamları tanıyabilmesi gerekir.\n",
    "* Scikit-learn, acemi programcıların bile bu tür makine öğrenimi sorunlarını yönetilebilir hale getirmesini sağlar."
   ]
  },
  {
   "cell_type": "markdown",
   "id": "e7d71332",
   "metadata": {},
   "source": [
    "### Denetimli Makine Öğrenimi: Sınıflandırma (Supervised Machine Learning: Classification)\n",
    "* Bir örneğin ait olduğu farklı sınıfı (kategoriyi) tahmin etmeye çalışmak\n",
    "    * İkili sınıflandırma—iki sınıf (ör. \"köpek\" veya \"kedi\")\n",
    "* Scikit-learn ile birlikte gelen Digits veri kümesi\n",
    "    * 1797 tane elle yazılmış basamağı (0'dan 9'a) temsil eden 8'e 8 piksel görüntüler\n",
    "* Hedef: Bir görüntünün hangi basamağı temsil ettiğini tahmin edin\n",
    "    * Çoklu sınıflandırma—10 olası basamak (sınıflar)\n",
    "* Etiketli verileri kullanarak bir sınıflandırma modeli eğitin; her basamağın sınıfını önceden bilin\n",
    "* El yazısı rakamları tanımak için en basit makine öğrenimi sınıflandırma algoritmalarından biri olan k-nearest neighbors (k-NN) kullanacağız. "
   ]
  },
  {
   "cell_type": "markdown",
   "id": "57a0712b",
   "metadata": {},
   "source": [
    "### k-En Yakın Komşular Algoritması (k-Nearest Neighbors Algorithm) (k-NN)\n",
    "* \"mesafe\" olarak en yakın k eğitim örneğine bakarak bir örneğin sınıfını tahmin edin.\n",
    "* Dolu noktalar dört farklı sınıfı temsil eder: \n",
    "    * A (mavi)\n",
    "    * B (yeşil)\n",
    "    * C (kırmızı)\n",
    "    * D (mor)\n",
    "* En çok \"oyu\" alan sınıf kazanır.\n",
    "* Tek k değeri bağları önler, hiçbir zaman eşit sayıda oy yoktur."
   ]
  },
  {
   "cell_type": "markdown",
   "id": "222b704b",
   "metadata": {},
   "source": [
    "<img src=\"kaynak03.png\"/>"
   ]
  },
  {
   "cell_type": "markdown",
   "id": "4c7262a6",
   "metadata": {},
   "source": [
    "### Veri Kümesini load_digits Fonksiyonuyla Yükleme\n",
    "* Digits örnekleri ve meta verileri içeren bir Bunch nesnesi döndürür.\n",
    "* Bunch, veri kümesine özgü ek özniteliklere sahip bir sözlüktür."
   ]
  },
  {
   "cell_type": "code",
   "execution_count": 1,
   "id": "4cae1e4f",
   "metadata": {},
   "outputs": [],
   "source": [
    "from sklearn.datasets import load_digits"
   ]
  },
  {
   "cell_type": "code",
   "execution_count": 2,
   "id": "679cdcf2",
   "metadata": {},
   "outputs": [],
   "source": [
    "digits = load_digits()"
   ]
  },
  {
   "cell_type": "markdown",
   "id": "2cb58b78",
   "metadata": {},
   "source": [
    "### Digits Veri Kümesinin Açıklamasını Görüntüleme\n",
    "* Digits veri kümesi, UCI (University of California Irvine) ML elle yazılmış basamak veri kümesinin bir alt kümesidir.\n",
    "    * Orijinal veri kümesi: 5620 örnekten 3823 tanesi eğitim için ve 1797 tanesi test içindir.\n",
    "* Bir Bunch DESCR özniteliği, veri kümesinin açıklamasını içerir.\n",
    "    * Her örnek, 0-16 piksel değerlerine sahip 8'e 8 görüntüyü temsil eden 64 özelliğe sahiptir.\n",
    "    * Eksik değer yok (Eksik Özellik Değerleri)\n",
    "* 64 özellik çok gibi görünebilir\n",
    "    * Veri kümeleri yüzlerce, binlerce hatta milyonlarca özelliğe sahip olabilir.\n",
    "    * Bunun gibi veri kümelerini işlemek, muazzam bilgi işlem yetenekleri gerektirebilir."
   ]
  },
  {
   "cell_type": "code",
   "execution_count": 3,
   "id": "41df1a9f",
   "metadata": {},
   "outputs": [
    {
     "name": "stdout",
     "output_type": "stream",
     "text": [
      ".. _digits_dataset:\n",
      "\n",
      "Optical recognition of handwritten digits dataset\n",
      "--------------------------------------------------\n",
      "\n",
      "**Data Set Characteristics:**\n",
      "\n",
      "    :Number of Instances: 1797\n",
      "    :Number of Attributes: 64\n",
      "    :Attribute Information: 8x8 image of integer pixels in the range 0..16.\n",
      "    :Missing Attribute Values: None\n",
      "    :Creator: E. Alpaydin (alpaydin '@' boun.edu.tr)\n",
      "    :Date: July; 1998\n",
      "\n",
      "This is a copy of the test set of the UCI ML hand-written digits datasets\n",
      "https://archive.ics.uci.edu/ml/datasets/Optical+Recognition+of+Handwritten+Digits\n",
      "\n",
      "The data set contains images of hand-written digits: 10 classes where\n",
      "each class refers to a digit.\n",
      "\n",
      "Preprocessing programs made available by NIST were used to extract\n",
      "normalized bitmaps of handwritten digits from a preprinted form. From a\n",
      "total of 43 people, 30 contributed to the training set and different 13\n",
      "to the test set. 32x32 bitmaps are divided into nonoverlapping blocks of\n",
      "4x4 and the number of on pixels are counted in each block. This generates\n",
      "an input matrix of 8x8 where each element is an integer in the range\n",
      "0..16. This reduces dimensionality and gives invariance to small\n",
      "distortions.\n",
      "\n",
      "For info on NIST preprocessing routines, see M. D. Garris, J. L. Blue, G.\n",
      "T. Candela, D. L. Dimmick, J. Geist, P. J. Grother, S. A. Janet, and C.\n",
      "L. Wilson, NIST Form-Based Handprint Recognition System, NISTIR 5469,\n",
      "1994.\n",
      "\n",
      ".. topic:: References\n",
      "\n",
      "  - C. Kaynak (1995) Methods of Combining Multiple Classifiers and Their\n",
      "    Applications to Handwritten Digit Recognition, MSc Thesis, Institute of\n",
      "    Graduate Studies in Science and Engineering, Bogazici University.\n",
      "  - E. Alpaydin, C. Kaynak (1998) Cascading Classifiers, Kybernetika.\n",
      "  - Ken Tang and Ponnuthurai N. Suganthan and Xi Yao and A. Kai Qin.\n",
      "    Linear dimensionalityreduction using relevance weighted LDA. School of\n",
      "    Electrical and Electronic Engineering Nanyang Technological University.\n",
      "    2005.\n",
      "  - Claudio Gentile. A New Approximate Maximal Margin Classification\n",
      "    Algorithm. NIPS. 2000.\n",
      "\n"
     ]
    }
   ],
   "source": [
    "print(digits.DESCR)"
   ]
  },
  {
   "cell_type": "markdown",
   "id": "214f08a1",
   "metadata": {},
   "source": [
    "### Örnek ve Hedef Büyüklüklerini Kontrol Etme\n",
    "* Grup nesnesinin verileri ve hedef öznitelikleri NumPy dizileridir:\n",
    "    * Veri dizisi: Her biri 0 (beyaz) ila 16 (siyah) değerlerine sahip 64 özelliğe sahip, piksel yoğunluklarını temsil eden 1797 örnek (rakamlı görüntüler)\n",
    "<img src=\"kaynak04.png\"/>\n",
    "    * Hedef dizi: Her görüntünün hangi basamağı temsil ettiğini gösteren görüntülerin etiketleri (sınıflar)"
   ]
  },
  {
   "cell_type": "code",
   "execution_count": 4,
   "id": "f202a778",
   "metadata": {},
   "outputs": [
    {
     "data": {
      "text/plain": [
       "array([0, 4, 1, 7, 4, 8, 2, 2, 4, 4, 1, 9, 7, 3, 2, 1, 2, 5])"
      ]
     },
     "execution_count": 4,
     "metadata": {},
     "output_type": "execute_result"
    }
   ],
   "source": [
    "digits.target[::100]  # her 100. örneğin hedef değerleri"
   ]
  },
  {
   "cell_type": "code",
   "execution_count": 5,
   "id": "99b4749e",
   "metadata": {},
   "outputs": [
    {
     "data": {
      "text/plain": [
       "(1797, 64)"
      ]
     },
     "execution_count": 5,
     "metadata": {},
     "output_type": "execute_result"
    }
   ],
   "source": [
    "digits.data.shape # 1797 satır, 64 sütun"
   ]
  },
  {
   "cell_type": "code",
   "execution_count": 6,
   "id": "b0c0c9ff",
   "metadata": {},
   "outputs": [
    {
     "data": {
      "text/plain": [
       "(1797,)"
      ]
     },
     "execution_count": 6,
     "metadata": {},
     "output_type": "execute_result"
    }
   ],
   "source": [
    "digits.target.shape"
   ]
  },
  {
   "cell_type": "markdown",
   "id": "28c1c07f",
   "metadata": {},
   "source": [
    "### Örnek Digits Görüntüsü\n",
    "* Görüntüler piksel cinsinden iki boyutludur:\n",
    "    * genişlik\n",
    "    * yükseklik\n",
    "* Digits veri kümesinin Bunch nesnesinin bir resimsel özniteliği var.\n",
    "    * Her öge, bir basamaklı görüntünün piksel yoğunluklarını temsil eden 8'e 8'lik bir dizidir.\n",
    "* Scikit-learn, yoğunluk değerlerini NumPy tipi float64 olarak saklar."
   ]
  },
  {
   "cell_type": "code",
   "execution_count": 7,
   "id": "5821c513",
   "metadata": {},
   "outputs": [
    {
     "data": {
      "text/plain": [
       "array([[ 0.,  2.,  9., 15., 14.,  9.,  3.,  0.],\n",
       "       [ 0.,  4., 13.,  8.,  9., 16.,  8.,  0.],\n",
       "       [ 0.,  0.,  0.,  6., 14., 15.,  3.,  0.],\n",
       "       [ 0.,  0.,  0., 11., 14.,  2.,  0.,  0.],\n",
       "       [ 0.,  0.,  0.,  2., 15., 11.,  0.,  0.],\n",
       "       [ 0.,  0.,  0.,  0.,  2., 15.,  4.,  0.],\n",
       "       [ 0.,  1.,  5.,  6., 13., 16.,  6.,  0.],\n",
       "       [ 0.,  2., 12., 12., 13., 11.,  0.,  0.]])"
      ]
     },
     "execution_count": 7,
     "metadata": {},
     "output_type": "execute_result"
    }
   ],
   "source": [
    "digits.images[13]  # 13. dizinde örnek görüntü için gösterim"
   ]
  },
  {
   "cell_type": "markdown",
   "id": "b6472985",
   "metadata": {},
   "source": [
    "digits.images[13] görselleştirmesi\n",
    "<img src=\"kaynak05.png\"/>"
   ]
  },
  {
   "cell_type": "markdown",
   "id": "a95d0460",
   "metadata": {},
   "source": [
    "### Verileri Scikit-Learn ile Kullanıma Hazırlama\n",
    "* Scikit-learn tahmin edicileri, örneklerin **iki boyutlu bir kayan noktalı değerler(floating-point) dizisinde** (veya listeler veya **pandas DataFrame listesi**) saklanmasını gerektirir:\n",
    "    * Her satır bir örneği temsil eder.\n",
    "    * Belirli bir satırdaki her sütun, o örnek için bir özelliği temsil eder.\n",
    "* Çok boyutlu veri örnekleri tek boyutlu bir diziye düzleştirilmelidir.\n",
    "* Kategorik özellikler için (örneğin, \"spam\" veya \"spam değil\" gibi dizeler), bu özellikleri **one-hot** kodlama olarak bilinen sayısal değerler halinde önceden işlemeniz gerekir. (daha sonra derin öğrenmede ele alınacaktır)\n",
    "* load_digits, önceden işlenmiş verileri makine öğrenimi için hazır hale getirir.\n",
    "* 8'e 8 dizi digits.images[13], 1'e 64 dizi digits.data[13]'e karşılık gelir:"
   ]
  },
  {
   "cell_type": "code",
   "execution_count": 8,
   "id": "d08d0d1b",
   "metadata": {},
   "outputs": [
    {
     "data": {
      "text/plain": [
       "array([ 0.,  2.,  9., 15., 14.,  9.,  3.,  0.,  0.,  4., 13.,  8.,  9.,\n",
       "       16.,  8.,  0.,  0.,  0.,  0.,  6., 14., 15.,  3.,  0.,  0.,  0.,\n",
       "        0., 11., 14.,  2.,  0.,  0.,  0.,  0.,  0.,  2., 15., 11.,  0.,\n",
       "        0.,  0.,  0.,  0.,  0.,  2., 15.,  4.,  0.,  0.,  1.,  5.,  6.,\n",
       "       13., 16.,  6.,  0.,  0.,  2., 12., 12., 13., 11.,  0.,  0.])"
      ]
     },
     "execution_count": 8,
     "metadata": {},
     "output_type": "execute_result"
    }
   ],
   "source": [
    "digits.data[13]"
   ]
  },
  {
   "cell_type": "markdown",
   "id": "3f8544b6",
   "metadata": {},
   "source": [
    "### Verileri Görselleştirme\n",
    "* Veri keşfi olarak adlandırılan verinize her zaman aşina olun.\n",
    "* Veri setinin ilk 24 görüntüsünü Matplotlib ile görselleştirelim.\n",
    "* El yazısı rakam tanıma probleminin ne kadar zor olduğunu görmek için birinci, üçüncü ve dördüncü sıralardaki 3'lerin görüntüleri arasındaki varyasyonları göz önünde bulundurun ve birinci, üçüncü ve dördüncü sıralardaki 2'lerin görüntülerine bakın.\n",
    "<img src=\"kaynak06.png\"/>"
   ]
  },
  {
   "cell_type": "markdown",
   "id": "a6de2ce5",
   "metadata": {},
   "source": [
    "### Diyagramı Oluşturma\n",
    "* Renk haritası plt.cm.gray_r, beyaz için 0 olan gri tonlama içindir.\n",
    "* Matplotlib'in renk haritası adları — plt.cm nesnesi veya 'gray_r' gibi bir dizi aracılığıyla erişilebilir."
   ]
  },
  {
   "cell_type": "code",
   "execution_count": 9,
   "id": "192c9b17",
   "metadata": {},
   "outputs": [],
   "source": [
    "import matplotlib.pyplot as plt"
   ]
  },
  {
   "cell_type": "code",
   "execution_count": 10,
   "id": "a2cb6fd0",
   "metadata": {},
   "outputs": [
    {
     "data": {
      "image/png": "[encoded data removed]",
      "text/plain": [
       "<Figure size 600x400 with 24 Axes>"
      ]
     },
     "metadata": {},
     "output_type": "display_data"
    }
   ],
   "source": [
    "figure, axes = plt.subplots(nrows=4, ncols=6, figsize=(6, 4))\n",
    "\n",
    "for item in zip(axes.ravel(), digits.images, digits.target):\n",
    "    axes, image, target = item \n",
    "    axes.imshow(image, cmap=plt.cm.gray_r)\n",
    "    axes.set_xticks([])  # x ekseni onay işaretlerini kaldır\n",
    "    axes.set_yticks([])  # y ekseni onay işaretlerini kaldır\n",
    "    axes.set_title(target)\n",
    "plt.tight_layout()"
   ]
  },
  {
   "cell_type": "markdown",
   "id": "9f1cd3c8",
   "metadata": {},
   "source": [
    "### Verileri Eğitim ve Test için Bölme (Splitting the Data for Training and Testing)\n",
    "* Tipik olarak bir veri kümesinin alt kümesiyle bir model eğitin.\n",
    "* Test için bir kısmını kaydedin, böylece görünmeyen verileri kullanarak bir modelin performansını değerlendirebilirsiniz.\n",
    "* train_test_split işlevi, verileri rastgele hale getirmek için karıştırır, ardından veri dizisindeki örnekleri ve hedef dizideki hedef değerleri eğitim(train) ve test kümelerine böler.\n",
    "    * Karıştırma, eğitim(train) ve test setlerinin benzer özelliklere sahip olmasını sağlamaya yardımcı olur.\n",
    "    * İlk ikisinin eğitim(train) ve test kümelerine bölünmüş örnekler olduğu ve son ikisinin eğitim(train) ve test kümelerine bölünmüş karşılık gelen hedef değerler olduğu dört ögeden oluşan bir tuple döndürür.\n",
    "* Ortak düşünce:\n",
    "    * Büyük X örnekleri temsil eder.\n",
    "    * Küçük y, hedef değerleri temsil eder."
   ]
  },
  {
   "cell_type": "code",
   "execution_count": 11,
   "id": "b3e21098",
   "metadata": {},
   "outputs": [],
   "source": [
    "from sklearn.model_selection import train_test_split"
   ]
  },
  {
   "cell_type": "code",
   "execution_count": 12,
   "id": "424e8bb7",
   "metadata": {},
   "outputs": [],
   "source": [
    "X_train, X_test, y_train, y_test = train_test_split(\n",
    "    digits.data, digits.target, random_state=11)  # tekrar üretilebilirlik için random_state"
   ]
  },
  {
   "cell_type": "markdown",
   "id": "81070b45",
   "metadata": {},
   "source": [
    "* Scikit-learn paketli sınıflandırma veri kümeleri dengeli sınıflara sahiptir.\n",
    "    * Örnekler sınıflar arasında eşit olarak bölünür.\n",
    "    * Dengesiz sınıflar yanlış sonuçlara yol açabilir."
   ]
  },
  {
   "cell_type": "markdown",
   "id": "4db60a1c",
   "metadata": {},
   "source": [
    "### Eğitim(Train) ve Test Seti Boyutları\n",
    "* Train_test_split varsayılan olarak verilerin %75'ini eğitim(train) için ve %25'ini test için ayırır."
   ]
  },
  {
   "cell_type": "code",
   "execution_count": 13,
   "id": "4c8e5587",
   "metadata": {},
   "outputs": [
    {
     "data": {
      "text/plain": [
       "(1347, 64)"
      ]
     },
     "execution_count": 13,
     "metadata": {},
     "output_type": "execute_result"
    }
   ],
   "source": [
    "X_train.shape"
   ]
  },
  {
   "cell_type": "code",
   "execution_count": 14,
   "id": "ec179a0e",
   "metadata": {},
   "outputs": [
    {
     "data": {
      "text/plain": [
       "(450, 64)"
      ]
     },
     "execution_count": 14,
     "metadata": {},
     "output_type": "execute_result"
    }
   ],
   "source": [
    "X_test.shape"
   ]
  },
  {
   "cell_type": "code",
   "execution_count": 15,
   "id": "12e0bf5b",
   "metadata": {},
   "outputs": [
    {
     "data": {
      "text/plain": [
       "(1347,)"
      ]
     },
     "execution_count": 15,
     "metadata": {},
     "output_type": "execute_result"
    }
   ],
   "source": [
    "y_train.shape"
   ]
  },
  {
   "cell_type": "code",
   "execution_count": 16,
   "id": "99539838",
   "metadata": {},
   "outputs": [
    {
     "data": {
      "text/plain": [
       "(450,)"
      ]
     },
     "execution_count": 16,
     "metadata": {},
     "output_type": "execute_result"
    }
   ],
   "source": [
    "y_test.shape"
   ]
  },
  {
   "cell_type": "markdown",
   "id": "38585dfc",
   "metadata": {},
   "source": [
    "### Modeli Oluşturma\n",
    "* Scikit-learn'de modellere tahmin edici denir.\n",
    "* KNeighborsClassifier tahmincisi k-en yakın komşu (k-nearest neighbors) algoritmasını uygular."
   ]
  },
  {
   "cell_type": "code",
   "execution_count": 17,
   "id": "be83c7de",
   "metadata": {},
   "outputs": [],
   "source": [
    "from sklearn.neighbors import KNeighborsClassifier"
   ]
  },
  {
   "cell_type": "code",
   "execution_count": 18,
   "id": "e7692517",
   "metadata": {},
   "outputs": [],
   "source": [
    "knn = KNeighborsClassifier()"
   ]
  },
  {
   "cell_type": "markdown",
   "id": "45143116",
   "metadata": {},
   "source": [
    "### Modeli KNeighborsClassifier Object'in fit yöntemiyle eğitme\n",
    "* Tahmin ediciye örnek eğitim seti (X_train) ve hedef eğitim(train) seti (y_train) yükleyin."
   ]
  },
  {
   "cell_type": "code",
   "execution_count": 19,
   "id": "532c0856",
   "metadata": {},
   "outputs": [
    {
     "data": {
      "text/plain": [
       "KNeighborsClassifier()"
      ]
     },
     "execution_count": 19,
     "metadata": {},
     "output_type": "execute_result"
    }
   ],
   "source": [
    "knn.fit(X=X_train, y=y_train)"
   ]
  },
  {
   "cell_type": "markdown",
   "id": "f5733df0",
   "metadata": {},
   "source": [
    "* n_neighbors, k-en yakın komşular algoritmasında k'ye karşılık gelir.\n",
    "* [`KNeighborsClassifier` default settings](http://scikit-learn.org/stable/modules/generated/sklearn.neighbors.KNeighborsClassifier.html)"
   ]
  },
  {
   "cell_type": "markdown",
   "id": "a15f4125",
   "metadata": {},
   "source": [
    "* fit normalde verileri bir tahmin ediciye yükler, ardından bir modeli eğitmek için verilerden öğrenen sahne arkasında karmaşık hesaplamalar gerçekleştirir.\n",
    "* KNeighborsClassifier'ın sığdırma yöntemi yalnızca verileri yükler.\n",
    "    * İlk öğrenme süreci yok.\n",
    "    * Tahmin edici ağırdır, iş yalnızca onu tahmin yapmak için kullandığınızda gerçekleştirilir.\n",
    "* Pek çok modelin dakikalar, saatler, günler veya daha uzun sürebilen önemli eğitim aşamaları vardır.\n",
    "    * Yüksek performanslı GPU'lar ve TPU'lar, model eğitim süresini önemli ölçüde azaltabilir."
   ]
  },
  {
   "cell_type": "markdown",
   "id": "108ea384",
   "metadata": {},
   "source": [
    "### KNeighborsClassifier'ın tahmin yöntemiyle Digits Sınıflarını Tahmin Etme\n",
    "* Her test görüntüsünün tahmin edilen sınıfını içeren bir dizi döndürür."
   ]
  },
  {
   "cell_type": "code",
   "execution_count": 20,
   "id": "806b8a8a",
   "metadata": {
    "collapsed": true
   },
   "outputs": [
    {
     "name": "stderr",
     "output_type": "stream",
     "text": [
      "C:\\Users\\user\\anaconda3\\lib\\site-packages\\sklearn\\neighbors\\_classification.py:228: FutureWarning: Unlike other reduction functions (e.g. `skew`, `kurtosis`), the default behavior of `mode` typically preserves the axis it acts along. In SciPy 1.11.0, this behavior will change: the default value of `keepdims` will become False, the `axis` over which the statistic is taken will be eliminated, and the value None will no longer be accepted. Set `keepdims` to True or False to avoid this warning.\n",
      "  mode, _ = stats.mode(_y[neigh_ind, k], axis=1)\n"
     ]
    }
   ],
   "source": [
    "predicted = knn.predict(X=X_test)"
   ]
  },
  {
   "cell_type": "code",
   "execution_count": 21,
   "id": "16cddcba",
   "metadata": {},
   "outputs": [],
   "source": [
    "expected = y_test"
   ]
  },
  {
   "cell_type": "markdown",
   "id": "d7f30de4",
   "metadata": {},
   "source": [
    "* İlk 20 test numunesi için tahmin edilen rakamlara karşı beklenen rakamlar. 18.dizine bakınız:"
   ]
  },
  {
   "cell_type": "code",
   "execution_count": 22,
   "id": "41ad5d46",
   "metadata": {},
   "outputs": [
    {
     "data": {
      "text/plain": [
       "array([0, 4, 9, 9, 3, 1, 4, 1, 5, 0, 4, 9, 4, 1, 5, 3, 3, 8, 5, 6])"
      ]
     },
     "execution_count": 22,
     "metadata": {},
     "output_type": "execute_result"
    }
   ],
   "source": [
    "predicted[:20]"
   ]
  },
  {
   "cell_type": "code",
   "execution_count": 23,
   "id": "505b70ee",
   "metadata": {},
   "outputs": [
    {
     "data": {
      "text/plain": [
       "array([0, 4, 9, 9, 3, 1, 4, 1, 5, 0, 4, 9, 4, 1, 5, 3, 3, 8, 3, 6])"
      ]
     },
     "execution_count": 23,
     "metadata": {},
     "output_type": "execute_result"
    }
   ],
   "source": [
    "expected[:20]"
   ]
  },
  {
   "cell_type": "markdown",
   "id": "b6a1303d",
   "metadata": {},
   "source": [
    "* Test setinin tamamı için tüm yanlış tahminleri bulun:"
   ]
  },
  {
   "cell_type": "code",
   "execution_count": 24,
   "id": "0557da52",
   "metadata": {},
   "outputs": [],
   "source": [
    "wrong = [(p, e) for (p, e) in zip(predicted, expected) if p != e]"
   ]
  },
  {
   "cell_type": "code",
   "execution_count": 25,
   "id": "db216647",
   "metadata": {},
   "outputs": [
    {
     "data": {
      "text/plain": [
       "[(5, 3),\n",
       " (8, 9),\n",
       " (4, 9),\n",
       " (7, 3),\n",
       " (7, 4),\n",
       " (2, 8),\n",
       " (9, 8),\n",
       " (3, 8),\n",
       " (3, 8),\n",
       " (1, 8)]"
      ]
     },
     "execution_count": 25,
     "metadata": {},
     "output_type": "execute_result"
    }
   ],
   "source": [
    "wrong"
   ]
  },
  {
   "cell_type": "markdown",
   "id": "cfafdb55",
   "metadata": {},
   "source": [
    "* Yani, 450 test örneğinden yalnızca 10 tanesi yanlış tahmin edildi."
   ]
  },
  {
   "cell_type": "markdown",
   "id": "401080ef",
   "metadata": {},
   "source": [
    "## Model Doğruluğunu Ölçmek için Metrikler\n",
    "### Tahminci Yöntem puanı\n",
    "* Tahmin edicinin test verilerinde ne kadar iyi performans gösterdiğinin bir göstergesini döndürür.\n",
    "* Sınıflandırma tahmin edicileri için, test verilerinin tahmin doğruluğunu döndürür."
   ]
  },
  {
   "cell_type": "code",
   "execution_count": 26,
   "id": "cc6ff6bc",
   "metadata": {
    "collapsed": true
   },
   "outputs": [
    {
     "name": "stdout",
     "output_type": "stream",
     "text": [
      "97.78%\n"
     ]
    },
    {
     "name": "stderr",
     "output_type": "stream",
     "text": [
      "C:\\Users\\user\\anaconda3\\lib\\site-packages\\sklearn\\neighbors\\_classification.py:228: FutureWarning: Unlike other reduction functions (e.g. `skew`, `kurtosis`), the default behavior of `mode` typically preserves the axis it acts along. In SciPy 1.11.0, this behavior will change: the default value of `keepdims` will become False, the `axis` over which the statistic is taken will be eliminated, and the value None will no longer be accepted. Set `keepdims` to True or False to avoid this warning.\n",
      "  mode, _ = stats.mode(_y[neigh_ind, k], axis=1)\n"
     ]
    }
   ],
   "source": [
    "print(f'{knn.score(X_test, y_test):.2%}')"
   ]
  },
  {
   "cell_type": "markdown",
   "id": "c085e8b6",
   "metadata": {},
   "source": [
    "* Varsayılan k değeri 5 olan kNeighborsClassifier, yalnızca tahmin edicinin varsayılan parametrelerini kullanarak %97,78 tahmin doğruluğu elde etti.\n",
    "* k için en uygun değeri belirlemeye çalışmak için hiperparametre ayarını kullanabilir."
   ]
  },
  {
   "cell_type": "markdown",
   "id": "7cccc102",
   "metadata": {},
   "source": [
    "### Karışıklık Matrisi (Confusion Matrix)\n",
    "* Belirli bir sınıf için doğru ve yanlış tahmin edilen değerleri (isabetler ve ıskalamalar) gösterir."
   ]
  },
  {
   "cell_type": "code",
   "execution_count": 27,
   "id": "c3c52bae",
   "metadata": {},
   "outputs": [],
   "source": [
    "from sklearn.metrics import confusion_matrix"
   ]
  },
  {
   "cell_type": "code",
   "execution_count": 28,
   "id": "4a3d5e7a",
   "metadata": {},
   "outputs": [],
   "source": [
    "confusion = confusion_matrix(y_true=expected, y_pred=predicted)"
   ]
  },
  {
   "cell_type": "code",
   "execution_count": 29,
   "id": "8594ff2a",
   "metadata": {},
   "outputs": [
    {
     "data": {
      "text/plain": [
       "array([[45,  0,  0,  0,  0,  0,  0,  0,  0,  0],\n",
       "       [ 0, 45,  0,  0,  0,  0,  0,  0,  0,  0],\n",
       "       [ 0,  0, 54,  0,  0,  0,  0,  0,  0,  0],\n",
       "       [ 0,  0,  0, 42,  0,  1,  0,  1,  0,  0],\n",
       "       [ 0,  0,  0,  0, 49,  0,  0,  1,  0,  0],\n",
       "       [ 0,  0,  0,  0,  0, 38,  0,  0,  0,  0],\n",
       "       [ 0,  0,  0,  0,  0,  0, 42,  0,  0,  0],\n",
       "       [ 0,  0,  0,  0,  0,  0,  0, 45,  0,  0],\n",
       "       [ 0,  1,  1,  2,  0,  0,  0,  0, 39,  1],\n",
       "       [ 0,  0,  0,  0,  1,  0,  0,  0,  1, 41]], dtype=int64)"
      ]
     },
     "execution_count": 29,
     "metadata": {},
     "output_type": "execute_result"
    }
   ],
   "source": [
    "confusion"
   ]
  },
  {
   "cell_type": "markdown",
   "id": "38196946",
   "metadata": {},
   "source": [
    "* Sol üstten sağ alta doğru ana köşegende gösterilen doğru tahminleri gösterir.\n",
    "* Asal köşegen üzerinde olmayan sıfır olmayan değerler, yanlış tahminleri gösterir.\n",
    "* Her satır bir ayrı sınıfı temsil eder. (0-9)\n",
    "* Sütunlar, kaç tane test örneğinin 0-9 sınıflarında sınıflandırıldığını belirtir.\n",
    "* Satır 0, basamak sınıfı 0'ı gösterir; tüm 0'lar doğru tahmin edilmiştir.\n",
    ">`[45,  0,  0,  0,  0,  0,  0,  0,  0,  0]`\n",
    "* Satır 8 rakam sınıfı 8'i gösterir—beş 8 yanlış tahmin edildi.\n",
    ">`[ 0,  1,  1,  2,  0,  0,  0,  0, 39,  1]`\n",
    "    * 8 saniyenin %88,63'ü (44'ün 39'u) doğru tahmin edildi.\n",
    "    * 8s tanımak daha zor."
   ]
  },
  {
   "cell_type": "markdown",
   "id": "d70df8d3",
   "metadata": {},
   "source": [
    "### Karışıklık Matrisini Görselleştirme\n",
    "* Bir ısı haritası(heat map), değerleri renkler olarak görüntüler.\n",
    "* Karışıklık matrisini bir DataFrame'e dönüştürün, ardından grafiğini çizin.\n",
    "* Ana diyagonal ve yanlış tahminler, ısı haritasında(heat map'te) kolayca göze çarpıyor."
   ]
  },
  {
   "cell_type": "code",
   "execution_count": 30,
   "id": "b86d9683",
   "metadata": {},
   "outputs": [],
   "source": [
    "import pandas as pd"
   ]
  },
  {
   "cell_type": "code",
   "execution_count": 31,
   "id": "39b2d823",
   "metadata": {},
   "outputs": [],
   "source": [
    "confusion_df = pd.DataFrame(confusion, index=range(10), columns=range(10))"
   ]
  },
  {
   "cell_type": "code",
   "execution_count": 32,
   "id": "f95cc966",
   "metadata": {},
   "outputs": [
    {
     "data": {
      "text/html": [
       "<div>\n",
       "<style scoped>\n",
       "    .dataframe tbody tr th:only-of-type {\n",
       "        vertical-align: middle;\n",
       "    }\n",
       "\n",
       "    .dataframe tbody tr th {\n",
       "        vertical-align: top;\n",
       "    }\n",
       "\n",
       "    .dataframe thead th {\n",
       "        text-align: right;\n",
       "    }\n",
       "</style>\n",
       "<table border=\"1\" class=\"dataframe\">\n",
       "  <thead>\n",
       "    <tr style=\"text-align: right;\">\n",
       "      <th></th>\n",
       "      <th>0</th>\n",
       "      <th>1</th>\n",
       "      <th>2</th>\n",
       "      <th>3</th>\n",
       "      <th>4</th>\n",
       "      <th>5</th>\n",
       "      <th>6</th>\n",
       "      <th>7</th>\n",
       "      <th>8</th>\n",
       "      <th>9</th>\n",
       "    </tr>\n",
       "  </thead>\n",
       "  <tbody>\n",
       "    <tr>\n",
       "      <th>0</th>\n",
       "      <td>45</td>\n",
       "      <td>0</td>\n",
       "      <td>0</td>\n",
       "      <td>0</td>\n",
       "      <td>0</td>\n",
       "      <td>0</td>\n",
       "      <td>0</td>\n",
       "      <td>0</td>\n",
       "      <td>0</td>\n",
       "      <td>0</td>\n",
       "    </tr>\n",
       "    <tr>\n",
       "      <th>1</th>\n",
       "      <td>0</td>\n",
       "      <td>45</td>\n",
       "      <td>0</td>\n",
       "      <td>0</td>\n",
       "      <td>0</td>\n",
       "      <td>0</td>\n",
       "      <td>0</td>\n",
       "      <td>0</td>\n",
       "      <td>0</td>\n",
       "      <td>0</td>\n",
       "    </tr>\n",
       "    <tr>\n",
       "      <th>2</th>\n",
       "      <td>0</td>\n",
       "      <td>0</td>\n",
       "      <td>54</td>\n",
       "      <td>0</td>\n",
       "      <td>0</td>\n",
       "      <td>0</td>\n",
       "      <td>0</td>\n",
       "      <td>0</td>\n",
       "      <td>0</td>\n",
       "      <td>0</td>\n",
       "    </tr>\n",
       "    <tr>\n",
       "      <th>3</th>\n",
       "      <td>0</td>\n",
       "      <td>0</td>\n",
       "      <td>0</td>\n",
       "      <td>42</td>\n",
       "      <td>0</td>\n",
       "      <td>1</td>\n",
       "      <td>0</td>\n",
       "      <td>1</td>\n",
       "      <td>0</td>\n",
       "      <td>0</td>\n",
       "    </tr>\n",
       "    <tr>\n",
       "      <th>4</th>\n",
       "      <td>0</td>\n",
       "      <td>0</td>\n",
       "      <td>0</td>\n",
       "      <td>0</td>\n",
       "      <td>49</td>\n",
       "      <td>0</td>\n",
       "      <td>0</td>\n",
       "      <td>1</td>\n",
       "      <td>0</td>\n",
       "      <td>0</td>\n",
       "    </tr>\n",
       "    <tr>\n",
       "      <th>5</th>\n",
       "      <td>0</td>\n",
       "      <td>0</td>\n",
       "      <td>0</td>\n",
       "      <td>0</td>\n",
       "      <td>0</td>\n",
       "      <td>38</td>\n",
       "      <td>0</td>\n",
       "      <td>0</td>\n",
       "      <td>0</td>\n",
       "      <td>0</td>\n",
       "    </tr>\n",
       "    <tr>\n",
       "      <th>6</th>\n",
       "      <td>0</td>\n",
       "      <td>0</td>\n",
       "      <td>0</td>\n",
       "      <td>0</td>\n",
       "      <td>0</td>\n",
       "      <td>0</td>\n",
       "      <td>42</td>\n",
       "      <td>0</td>\n",
       "      <td>0</td>\n",
       "      <td>0</td>\n",
       "    </tr>\n",
       "    <tr>\n",
       "      <th>7</th>\n",
       "      <td>0</td>\n",
       "      <td>0</td>\n",
       "      <td>0</td>\n",
       "      <td>0</td>\n",
       "      <td>0</td>\n",
       "      <td>0</td>\n",
       "      <td>0</td>\n",
       "      <td>45</td>\n",
       "      <td>0</td>\n",
       "      <td>0</td>\n",
       "    </tr>\n",
       "    <tr>\n",
       "      <th>8</th>\n",
       "      <td>0</td>\n",
       "      <td>1</td>\n",
       "      <td>1</td>\n",
       "      <td>2</td>\n",
       "      <td>0</td>\n",
       "      <td>0</td>\n",
       "      <td>0</td>\n",
       "      <td>0</td>\n",
       "      <td>39</td>\n",
       "      <td>1</td>\n",
       "    </tr>\n",
       "    <tr>\n",
       "      <th>9</th>\n",
       "      <td>0</td>\n",
       "      <td>0</td>\n",
       "      <td>0</td>\n",
       "      <td>0</td>\n",
       "      <td>1</td>\n",
       "      <td>0</td>\n",
       "      <td>0</td>\n",
       "      <td>0</td>\n",
       "      <td>1</td>\n",
       "      <td>41</td>\n",
       "    </tr>\n",
       "  </tbody>\n",
       "</table>\n",
       "</div>"
      ],
      "text/plain": [
       "    0   1   2   3   4   5   6   7   8   9\n",
       "0  45   0   0   0   0   0   0   0   0   0\n",
       "1   0  45   0   0   0   0   0   0   0   0\n",
       "2   0   0  54   0   0   0   0   0   0   0\n",
       "3   0   0   0  42   0   1   0   1   0   0\n",
       "4   0   0   0   0  49   0   0   1   0   0\n",
       "5   0   0   0   0   0  38   0   0   0   0\n",
       "6   0   0   0   0   0   0  42   0   0   0\n",
       "7   0   0   0   0   0   0   0  45   0   0\n",
       "8   0   1   1   2   0   0   0   0  39   1\n",
       "9   0   0   0   0   1   0   0   0   1  41"
      ]
     },
     "execution_count": 32,
     "metadata": {},
     "output_type": "execute_result"
    }
   ],
   "source": [
    "confusion_df"
   ]
  },
  {
   "cell_type": "code",
   "execution_count": 33,
   "id": "24569da7",
   "metadata": {},
   "outputs": [],
   "source": [
    "import seaborn as sns"
   ]
  },
  {
   "cell_type": "code",
   "execution_count": 34,
   "id": "c7f3ccd6",
   "metadata": {},
   "outputs": [
    {
     "data": {
      "image/png": "[encoded data removed]",
      "text/plain": [
       "<Figure size 700x600 with 2 Axes>"
      ]
     },
     "metadata": {},
     "output_type": "display_data"
    }
   ],
   "source": [
    "figure = plt.figure(figsize=(7, 6))\n",
    "axes = sns.heatmap(confusion_df, annot=True, \n",
    "                   cmap=plt.cm.nipy_spectral_r) "
   ]
  },
  {
   "cell_type": "markdown",
   "id": "f901f553",
   "metadata": {},
   "source": [
    "<hr style=\"height:2px; border:none; color:black; background-color:black;\">"
   ]
  },
  {
   "cell_type": "markdown",
   "id": "eb4f2aed",
   "metadata": {},
   "source": [
    "### K-Katlama Çapraz Doğrulama (K-Fold Cross-Validation)\n",
    "* Tüm verilerinizi eğitim ve test için kullanır.\n",
    "* Modelinizin ne kadar iyi tahminler yapacağına dair daha iyi bir fikir verir.\n",
    "* Veri kümesini k eşit boyutlu kıvrımlara böler (k-en yakın komşular algoritmasındaki k ile ilgili değildir.)\n",
    "* Modelinizi k – 1 kat ile tekrar tekrar eğitir ve modeli kalan kat ile test eder.\n",
    "* 1'den 10'a kadar numaralandırılmış katlarla k = 10 kullanmayı düşünün;\n",
    "    * 1-9 katlamalarla çalışın, ardından 10 katlamayla test edin\n",
    "    * 1–8 ve 10. katlarla antrenman yapın, ardından 9. katla test edin\n",
    "    * 1–7 ve 9–10 katlamalarla çalışın, ardından 8 katlama ile test edin\n",
    "    * ..."
   ]
  },
  {
   "cell_type": "markdown",
   "id": "6120a783",
   "metadata": {},
   "source": [
    "### KFold Sınıfı\n",
    "* KFold sınıfı ve cross_val_score işlevi k-katlı çapraz doğrulama gerçekleştirir.\n",
    "* n_splits=10 kat sayısını belirtir.\n",
    "* shuffle=True, verileri katlara ayırmadan önce rastgele sıralar.\n",
    "    * Örnekler sıralanabilir veya gruplandırılabilirse özellikle önemlidir (daha sonra göreceğimiz Iris veri kümesinde olduğu gibi)"
   ]
  },
  {
   "cell_type": "code",
   "execution_count": 35,
   "id": "3a4cd328",
   "metadata": {},
   "outputs": [],
   "source": [
    "from sklearn.model_selection import KFold"
   ]
  },
  {
   "cell_type": "code",
   "execution_count": 36,
   "id": "64398ace",
   "metadata": {},
   "outputs": [],
   "source": [
    "kfold = KFold(n_splits=10, random_state=11, shuffle=True)"
   ]
  },
  {
   "cell_type": "markdown",
   "id": "a1318643",
   "metadata": {},
   "source": [
    "### Modelinizi Eğitmek ve Test Etmek İçin cross_val_score İşlevini Çağırma \n",
    "* estimator=knn — doğrulamak için tahmin edici\n",
    "* X=digits.data — eğitim ve test için kullanılacak örnekler\n",
    "* y=digits.target — örnekler için hedef tahminleri\n",
    "* cv=kfold — eğitim ve test için örneklerin ve hedeflerin nasıl bölüneceğini tanımlayan çapraz doğrulama oluşturucu"
   ]
  },
  {
   "cell_type": "code",
   "execution_count": 37,
   "id": "0b085dba",
   "metadata": {},
   "outputs": [],
   "source": [
    "from sklearn.model_selection import cross_val_score"
   ]
  },
  {
   "cell_type": "code",
   "execution_count": 38,
   "id": "b1ce9493",
   "metadata": {
    "collapsed": true
   },
   "outputs": [
    {
     "name": "stderr",
     "output_type": "stream",
     "text": [
      "C:\\Users\\user\\anaconda3\\lib\\site-packages\\sklearn\\neighbors\\_classification.py:228: FutureWarning: Unlike other reduction functions (e.g. `skew`, `kurtosis`), the default behavior of `mode` typically preserves the axis it acts along. In SciPy 1.11.0, this behavior will change: the default value of `keepdims` will become False, the `axis` over which the statistic is taken will be eliminated, and the value None will no longer be accepted. Set `keepdims` to True or False to avoid this warning.\n",
      "  mode, _ = stats.mode(_y[neigh_ind, k], axis=1)\n",
      "C:\\Users\\user\\anaconda3\\lib\\site-packages\\sklearn\\neighbors\\_classification.py:228: FutureWarning: Unlike other reduction functions (e.g. `skew`, `kurtosis`), the default behavior of `mode` typically preserves the axis it acts along. In SciPy 1.11.0, this behavior will change: the default value of `keepdims` will become False, the `axis` over which the statistic is taken will be eliminated, and the value None will no longer be accepted. Set `keepdims` to True or False to avoid this warning.\n",
      "  mode, _ = stats.mode(_y[neigh_ind, k], axis=1)\n",
      "C:\\Users\\user\\anaconda3\\lib\\site-packages\\sklearn\\neighbors\\_classification.py:228: FutureWarning: Unlike other reduction functions (e.g. `skew`, `kurtosis`), the default behavior of `mode` typically preserves the axis it acts along. In SciPy 1.11.0, this behavior will change: the default value of `keepdims` will become False, the `axis` over which the statistic is taken will be eliminated, and the value None will no longer be accepted. Set `keepdims` to True or False to avoid this warning.\n",
      "  mode, _ = stats.mode(_y[neigh_ind, k], axis=1)\n",
      "C:\\Users\\user\\anaconda3\\lib\\site-packages\\sklearn\\neighbors\\_classification.py:228: FutureWarning: Unlike other reduction functions (e.g. `skew`, `kurtosis`), the default behavior of `mode` typically preserves the axis it acts along. In SciPy 1.11.0, this behavior will change: the default value of `keepdims` will become False, the `axis` over which the statistic is taken will be eliminated, and the value None will no longer be accepted. Set `keepdims` to True or False to avoid this warning.\n",
      "  mode, _ = stats.mode(_y[neigh_ind, k], axis=1)\n",
      "C:\\Users\\user\\anaconda3\\lib\\site-packages\\sklearn\\neighbors\\_classification.py:228: FutureWarning: Unlike other reduction functions (e.g. `skew`, `kurtosis`), the default behavior of `mode` typically preserves the axis it acts along. In SciPy 1.11.0, this behavior will change: the default value of `keepdims` will become False, the `axis` over which the statistic is taken will be eliminated, and the value None will no longer be accepted. Set `keepdims` to True or False to avoid this warning.\n",
      "  mode, _ = stats.mode(_y[neigh_ind, k], axis=1)\n",
      "C:\\Users\\user\\anaconda3\\lib\\site-packages\\sklearn\\neighbors\\_classification.py:228: FutureWarning: Unlike other reduction functions (e.g. `skew`, `kurtosis`), the default behavior of `mode` typically preserves the axis it acts along. In SciPy 1.11.0, this behavior will change: the default value of `keepdims` will become False, the `axis` over which the statistic is taken will be eliminated, and the value None will no longer be accepted. Set `keepdims` to True or False to avoid this warning.\n",
      "  mode, _ = stats.mode(_y[neigh_ind, k], axis=1)\n",
      "C:\\Users\\user\\anaconda3\\lib\\site-packages\\sklearn\\neighbors\\_classification.py:228: FutureWarning: Unlike other reduction functions (e.g. `skew`, `kurtosis`), the default behavior of `mode` typically preserves the axis it acts along. In SciPy 1.11.0, this behavior will change: the default value of `keepdims` will become False, the `axis` over which the statistic is taken will be eliminated, and the value None will no longer be accepted. Set `keepdims` to True or False to avoid this warning.\n",
      "  mode, _ = stats.mode(_y[neigh_ind, k], axis=1)\n",
      "C:\\Users\\user\\anaconda3\\lib\\site-packages\\sklearn\\neighbors\\_classification.py:228: FutureWarning: Unlike other reduction functions (e.g. `skew`, `kurtosis`), the default behavior of `mode` typically preserves the axis it acts along. In SciPy 1.11.0, this behavior will change: the default value of `keepdims` will become False, the `axis` over which the statistic is taken will be eliminated, and the value None will no longer be accepted. Set `keepdims` to True or False to avoid this warning.\n",
      "  mode, _ = stats.mode(_y[neigh_ind, k], axis=1)\n",
      "C:\\Users\\user\\anaconda3\\lib\\site-packages\\sklearn\\neighbors\\_classification.py:228: FutureWarning: Unlike other reduction functions (e.g. `skew`, `kurtosis`), the default behavior of `mode` typically preserves the axis it acts along. In SciPy 1.11.0, this behavior will change: the default value of `keepdims` will become False, the `axis` over which the statistic is taken will be eliminated, and the value None will no longer be accepted. Set `keepdims` to True or False to avoid this warning.\n",
      "  mode, _ = stats.mode(_y[neigh_ind, k], axis=1)\n",
      "C:\\Users\\user\\anaconda3\\lib\\site-packages\\sklearn\\neighbors\\_classification.py:228: FutureWarning: Unlike other reduction functions (e.g. `skew`, `kurtosis`), the default behavior of `mode` typically preserves the axis it acts along. In SciPy 1.11.0, this behavior will change: the default value of `keepdims` will become False, the `axis` over which the statistic is taken will be eliminated, and the value None will no longer be accepted. Set `keepdims` to True or False to avoid this warning.\n",
      "  mode, _ = stats.mode(_y[neigh_ind, k], axis=1)\n"
     ]
    }
   ],
   "source": [
    "scores = cross_val_score(estimator=knn, X=digits.data, y=digits.target, cv=kfold)"
   ]
  },
  {
   "cell_type": "markdown",
   "id": "9b293797",
   "metadata": {},
   "source": [
    "* En düşük doğruluk %97,78 idi; biri %100'dü."
   ]
  },
  {
   "cell_type": "code",
   "execution_count": 39,
   "id": "51a0a0de",
   "metadata": {},
   "outputs": [
    {
     "data": {
      "text/plain": [
       "array([0.97777778, 0.99444444, 0.98888889, 0.97777778, 0.98888889,\n",
       "       0.99444444, 0.97777778, 0.98882682, 1.        , 0.98882682])"
      ]
     },
     "execution_count": 39,
     "metadata": {},
     "output_type": "execute_result"
    }
   ],
   "source": [
    "scores # her kat için doğruluk puanları dizisi"
   ]
  },
  {
   "cell_type": "code",
   "execution_count": 40,
   "id": "0831c378",
   "metadata": {},
   "outputs": [
    {
     "name": "stdout",
     "output_type": "stream",
     "text": [
      "Mean accuracy: 98.78%\n"
     ]
    }
   ],
   "source": [
    "print(f'Mean accuracy: {scores.mean():.2%}')"
   ]
  },
  {
   "cell_type": "markdown",
   "id": "66b16ca3",
   "metadata": {},
   "source": [
    "* Verilerin %75'i ile modeli eğittiğimizde ve daha önce %25 ile modeli test ettiğimizde elde ettiğimiz %97,78'den bile daha iyi ortalama doğruluktur."
   ]
  },
  {
   "cell_type": "markdown",
   "id": "d35be99a",
   "metadata": {},
   "source": [
    "### En İyisini Bulmak İçin Birden Çok Modeli Çalıştırma\n",
    "* Belirli bir veri kümesi için hangi makine öğrenimi modellerinin en iyi performansı göstereceğini önceden bilmek zordur.\n",
    "    * Özellikle nasıl çalıştıklarının ayrıntılarını gizlediklerinde daha da zordur.\n",
    "* KNeighborsClassifier, rakam görüntülerini yüksek bir doğruluk derecesi ile tahmin etse de, diğer tahmin edicilerin daha da doğru olması mümkündür.\n",
    "* KNeighborsClassifier, SVC ve GaussianNB'yi karşılaştıralım."
   ]
  },
  {
   "cell_type": "code",
   "execution_count": 41,
   "id": "8b169c24",
   "metadata": {},
   "outputs": [],
   "source": [
    "from sklearn.svm import SVC"
   ]
  },
  {
   "cell_type": "code",
   "execution_count": 42,
   "id": "aaeee7aa",
   "metadata": {},
   "outputs": [],
   "source": [
    "from sklearn.naive_bayes import GaussianNB"
   ]
  },
  {
   "cell_type": "markdown",
   "id": "1845a146",
   "metadata": {},
   "source": [
    "* Tahmin edicileri oluşturun:\n",
    "    * Scikit-learn uyarısından kaçınmak için, SVC tahmin aracını oluştururken bir anahtar sözcük argümanı sağladık."
   ]
  },
  {
   "cell_type": "code",
   "execution_count": 43,
   "id": "3c3472f0",
   "metadata": {},
   "outputs": [],
   "source": [
    "estimators = {\n",
    "    'KNeighborsClassifier': knn, \n",
    "    'SVC': SVC(gamma='scale'),\n",
    "    'GaussianNB': GaussianNB()}"
   ]
  },
  {
   "cell_type": "markdown",
   "id": "261b2737",
   "metadata": {},
   "source": [
    "* Modelleri yürütün:\n",
    "    * "
   ]
  },
  {
   "cell_type": "code",
   "execution_count": 44,
   "id": "4738d9e8",
   "metadata": {
    "collapsed": true
   },
   "outputs": [
    {
     "name": "stderr",
     "output_type": "stream",
     "text": [
      "C:\\Users\\user\\anaconda3\\lib\\site-packages\\sklearn\\neighbors\\_classification.py:228: FutureWarning: Unlike other reduction functions (e.g. `skew`, `kurtosis`), the default behavior of `mode` typically preserves the axis it acts along. In SciPy 1.11.0, this behavior will change: the default value of `keepdims` will become False, the `axis` over which the statistic is taken will be eliminated, and the value None will no longer be accepted. Set `keepdims` to True or False to avoid this warning.\n",
      "  mode, _ = stats.mode(_y[neigh_ind, k], axis=1)\n",
      "C:\\Users\\user\\anaconda3\\lib\\site-packages\\sklearn\\neighbors\\_classification.py:228: FutureWarning: Unlike other reduction functions (e.g. `skew`, `kurtosis`), the default behavior of `mode` typically preserves the axis it acts along. In SciPy 1.11.0, this behavior will change: the default value of `keepdims` will become False, the `axis` over which the statistic is taken will be eliminated, and the value None will no longer be accepted. Set `keepdims` to True or False to avoid this warning.\n",
      "  mode, _ = stats.mode(_y[neigh_ind, k], axis=1)\n",
      "C:\\Users\\user\\anaconda3\\lib\\site-packages\\sklearn\\neighbors\\_classification.py:228: FutureWarning: Unlike other reduction functions (e.g. `skew`, `kurtosis`), the default behavior of `mode` typically preserves the axis it acts along. In SciPy 1.11.0, this behavior will change: the default value of `keepdims` will become False, the `axis` over which the statistic is taken will be eliminated, and the value None will no longer be accepted. Set `keepdims` to True or False to avoid this warning.\n",
      "  mode, _ = stats.mode(_y[neigh_ind, k], axis=1)\n",
      "C:\\Users\\user\\anaconda3\\lib\\site-packages\\sklearn\\neighbors\\_classification.py:228: FutureWarning: Unlike other reduction functions (e.g. `skew`, `kurtosis`), the default behavior of `mode` typically preserves the axis it acts along. In SciPy 1.11.0, this behavior will change: the default value of `keepdims` will become False, the `axis` over which the statistic is taken will be eliminated, and the value None will no longer be accepted. Set `keepdims` to True or False to avoid this warning.\n",
      "  mode, _ = stats.mode(_y[neigh_ind, k], axis=1)\n",
      "C:\\Users\\user\\anaconda3\\lib\\site-packages\\sklearn\\neighbors\\_classification.py:228: FutureWarning: Unlike other reduction functions (e.g. `skew`, `kurtosis`), the default behavior of `mode` typically preserves the axis it acts along. In SciPy 1.11.0, this behavior will change: the default value of `keepdims` will become False, the `axis` over which the statistic is taken will be eliminated, and the value None will no longer be accepted. Set `keepdims` to True or False to avoid this warning.\n",
      "  mode, _ = stats.mode(_y[neigh_ind, k], axis=1)\n",
      "C:\\Users\\user\\anaconda3\\lib\\site-packages\\sklearn\\neighbors\\_classification.py:228: FutureWarning: Unlike other reduction functions (e.g. `skew`, `kurtosis`), the default behavior of `mode` typically preserves the axis it acts along. In SciPy 1.11.0, this behavior will change: the default value of `keepdims` will become False, the `axis` over which the statistic is taken will be eliminated, and the value None will no longer be accepted. Set `keepdims` to True or False to avoid this warning.\n",
      "  mode, _ = stats.mode(_y[neigh_ind, k], axis=1)\n",
      "C:\\Users\\user\\anaconda3\\lib\\site-packages\\sklearn\\neighbors\\_classification.py:228: FutureWarning: Unlike other reduction functions (e.g. `skew`, `kurtosis`), the default behavior of `mode` typically preserves the axis it acts along. In SciPy 1.11.0, this behavior will change: the default value of `keepdims` will become False, the `axis` over which the statistic is taken will be eliminated, and the value None will no longer be accepted. Set `keepdims` to True or False to avoid this warning.\n",
      "  mode, _ = stats.mode(_y[neigh_ind, k], axis=1)\n",
      "C:\\Users\\user\\anaconda3\\lib\\site-packages\\sklearn\\neighbors\\_classification.py:228: FutureWarning: Unlike other reduction functions (e.g. `skew`, `kurtosis`), the default behavior of `mode` typically preserves the axis it acts along. In SciPy 1.11.0, this behavior will change: the default value of `keepdims` will become False, the `axis` over which the statistic is taken will be eliminated, and the value None will no longer be accepted. Set `keepdims` to True or False to avoid this warning.\n",
      "  mode, _ = stats.mode(_y[neigh_ind, k], axis=1)\n",
      "C:\\Users\\user\\anaconda3\\lib\\site-packages\\sklearn\\neighbors\\_classification.py:228: FutureWarning: Unlike other reduction functions (e.g. `skew`, `kurtosis`), the default behavior of `mode` typically preserves the axis it acts along. In SciPy 1.11.0, this behavior will change: the default value of `keepdims` will become False, the `axis` over which the statistic is taken will be eliminated, and the value None will no longer be accepted. Set `keepdims` to True or False to avoid this warning.\n",
      "  mode, _ = stats.mode(_y[neigh_ind, k], axis=1)\n",
      "C:\\Users\\user\\anaconda3\\lib\\site-packages\\sklearn\\neighbors\\_classification.py:228: FutureWarning: Unlike other reduction functions (e.g. `skew`, `kurtosis`), the default behavior of `mode` typically preserves the axis it acts along. In SciPy 1.11.0, this behavior will change: the default value of `keepdims` will become False, the `axis` over which the statistic is taken will be eliminated, and the value None will no longer be accepted. Set `keepdims` to True or False to avoid this warning.\n",
      "  mode, _ = stats.mode(_y[neigh_ind, k], axis=1)\n"
     ]
    },
    {
     "name": "stdout",
     "output_type": "stream",
     "text": [
      "KNeighborsClassifier: mean accuracy=98.78%; standard deviation=0.74%\n",
      "                 SVC: mean accuracy=98.72%; standard deviation=0.79%\n",
      "          GaussianNB: mean accuracy=84.48%; standard deviation=3.47%\n"
     ]
    }
   ],
   "source": [
    "for estimator_name, estimator_object in estimators.items():\n",
    "    kfold = KFold(n_splits=10, random_state=11, shuffle=True)\n",
    "    scores = cross_val_score(estimator=estimator_object, \n",
    "        X=digits.data, y=digits.target, cv=kfold)\n",
    "    print(f'{estimator_name:>20}: ' + \n",
    "          f'mean accuracy={scores.mean():.2%}; ' +\n",
    "          f'standard deviation={scores.std():.2%}')"
   ]
  },
  {
   "cell_type": "markdown",
   "id": "d7126212",
   "metadata": {},
   "source": [
    "* KNeighborsClassifier ve SVC tahmincilerinin doğrulukları aynıdır, bu nedenle en iyisini belirlemek için her birinde hiperparametre ayarı yapmak isteyebiliriz."
   ]
  },
  {
   "cell_type": "markdown",
   "id": "4d63242c",
   "metadata": {},
   "source": [
    "### Hiperparametre Ayarı\n",
    "* Gerçek dünyadaki makine öğrenimi çalışmalarında, mümkün olan en iyi tahminleri üreten değerleri seçmek için hiperparametreleri ayarlamak isteyeceksiniz.\n",
    "* kNN algoritmasında k için en iyi değeri belirlemek için farklı değerler deneyin ve performansı karşılaştırın.\n",
    "* Scikit-learn ayrıca otomatikleştirilmiş hiperparametre ayarlama yeteneklerine sahiptir."
   ]
  },
  {
   "cell_type": "markdown",
   "id": "341da1f8",
   "metadata": {},
   "source": [
    "* 1'den 19'a kadar tek k değerleri olan KNeighboursClassifiers oluşturun.\n",
    "* Her birinde k-katlı çapraz doğrulama gerçekleştirin."
   ]
  },
  {
   "cell_type": "code",
   "execution_count": 45,
   "id": "298a34d0",
   "metadata": {
    "collapsed": true
   },
   "outputs": [
    {
     "name": "stderr",
     "output_type": "stream",
     "text": [
      "C:\\Users\\user\\anaconda3\\lib\\site-packages\\sklearn\\neighbors\\_classification.py:228: FutureWarning: Unlike other reduction functions (e.g. `skew`, `kurtosis`), the default behavior of `mode` typically preserves the axis it acts along. In SciPy 1.11.0, this behavior will change: the default value of `keepdims` will become False, the `axis` over which the statistic is taken will be eliminated, and the value None will no longer be accepted. Set `keepdims` to True or False to avoid this warning.\n",
      "  mode, _ = stats.mode(_y[neigh_ind, k], axis=1)\n",
      "C:\\Users\\user\\anaconda3\\lib\\site-packages\\sklearn\\neighbors\\_classification.py:228: FutureWarning: Unlike other reduction functions (e.g. `skew`, `kurtosis`), the default behavior of `mode` typically preserves the axis it acts along. In SciPy 1.11.0, this behavior will change: the default value of `keepdims` will become False, the `axis` over which the statistic is taken will be eliminated, and the value None will no longer be accepted. Set `keepdims` to True or False to avoid this warning.\n",
      "  mode, _ = stats.mode(_y[neigh_ind, k], axis=1)\n",
      "C:\\Users\\user\\anaconda3\\lib\\site-packages\\sklearn\\neighbors\\_classification.py:228: FutureWarning: Unlike other reduction functions (e.g. `skew`, `kurtosis`), the default behavior of `mode` typically preserves the axis it acts along. In SciPy 1.11.0, this behavior will change: the default value of `keepdims` will become False, the `axis` over which the statistic is taken will be eliminated, and the value None will no longer be accepted. Set `keepdims` to True or False to avoid this warning.\n",
      "  mode, _ = stats.mode(_y[neigh_ind, k], axis=1)\n",
      "C:\\Users\\user\\anaconda3\\lib\\site-packages\\sklearn\\neighbors\\_classification.py:228: FutureWarning: Unlike other reduction functions (e.g. `skew`, `kurtosis`), the default behavior of `mode` typically preserves the axis it acts along. In SciPy 1.11.0, this behavior will change: the default value of `keepdims` will become False, the `axis` over which the statistic is taken will be eliminated, and the value None will no longer be accepted. Set `keepdims` to True or False to avoid this warning.\n",
      "  mode, _ = stats.mode(_y[neigh_ind, k], axis=1)\n",
      "C:\\Users\\user\\anaconda3\\lib\\site-packages\\sklearn\\neighbors\\_classification.py:228: FutureWarning: Unlike other reduction functions (e.g. `skew`, `kurtosis`), the default behavior of `mode` typically preserves the axis it acts along. In SciPy 1.11.0, this behavior will change: the default value of `keepdims` will become False, the `axis` over which the statistic is taken will be eliminated, and the value None will no longer be accepted. Set `keepdims` to True or False to avoid this warning.\n",
      "  mode, _ = stats.mode(_y[neigh_ind, k], axis=1)\n",
      "C:\\Users\\user\\anaconda3\\lib\\site-packages\\sklearn\\neighbors\\_classification.py:228: FutureWarning: Unlike other reduction functions (e.g. `skew`, `kurtosis`), the default behavior of `mode` typically preserves the axis it acts along. In SciPy 1.11.0, this behavior will change: the default value of `keepdims` will become False, the `axis` over which the statistic is taken will be eliminated, and the value None will no longer be accepted. Set `keepdims` to True or False to avoid this warning.\n",
      "  mode, _ = stats.mode(_y[neigh_ind, k], axis=1)\n",
      "C:\\Users\\user\\anaconda3\\lib\\site-packages\\sklearn\\neighbors\\_classification.py:228: FutureWarning: Unlike other reduction functions (e.g. `skew`, `kurtosis`), the default behavior of `mode` typically preserves the axis it acts along. In SciPy 1.11.0, this behavior will change: the default value of `keepdims` will become False, the `axis` over which the statistic is taken will be eliminated, and the value None will no longer be accepted. Set `keepdims` to True or False to avoid this warning.\n",
      "  mode, _ = stats.mode(_y[neigh_ind, k], axis=1)\n",
      "C:\\Users\\user\\anaconda3\\lib\\site-packages\\sklearn\\neighbors\\_classification.py:228: FutureWarning: Unlike other reduction functions (e.g. `skew`, `kurtosis`), the default behavior of `mode` typically preserves the axis it acts along. In SciPy 1.11.0, this behavior will change: the default value of `keepdims` will become False, the `axis` over which the statistic is taken will be eliminated, and the value None will no longer be accepted. Set `keepdims` to True or False to avoid this warning.\n",
      "  mode, _ = stats.mode(_y[neigh_ind, k], axis=1)\n",
      "C:\\Users\\user\\anaconda3\\lib\\site-packages\\sklearn\\neighbors\\_classification.py:228: FutureWarning: Unlike other reduction functions (e.g. `skew`, `kurtosis`), the default behavior of `mode` typically preserves the axis it acts along. In SciPy 1.11.0, this behavior will change: the default value of `keepdims` will become False, the `axis` over which the statistic is taken will be eliminated, and the value None will no longer be accepted. Set `keepdims` to True or False to avoid this warning.\n",
      "  mode, _ = stats.mode(_y[neigh_ind, k], axis=1)\n",
      "C:\\Users\\user\\anaconda3\\lib\\site-packages\\sklearn\\neighbors\\_classification.py:228: FutureWarning: Unlike other reduction functions (e.g. `skew`, `kurtosis`), the default behavior of `mode` typically preserves the axis it acts along. In SciPy 1.11.0, this behavior will change: the default value of `keepdims` will become False, the `axis` over which the statistic is taken will be eliminated, and the value None will no longer be accepted. Set `keepdims` to True or False to avoid this warning.\n",
      "  mode, _ = stats.mode(_y[neigh_ind, k], axis=1)\n",
      "C:\\Users\\user\\anaconda3\\lib\\site-packages\\sklearn\\neighbors\\_classification.py:228: FutureWarning: Unlike other reduction functions (e.g. `skew`, `kurtosis`), the default behavior of `mode` typically preserves the axis it acts along. In SciPy 1.11.0, this behavior will change: the default value of `keepdims` will become False, the `axis` over which the statistic is taken will be eliminated, and the value None will no longer be accepted. Set `keepdims` to True or False to avoid this warning.\n",
      "  mode, _ = stats.mode(_y[neigh_ind, k], axis=1)\n",
      "C:\\Users\\user\\anaconda3\\lib\\site-packages\\sklearn\\neighbors\\_classification.py:228: FutureWarning: Unlike other reduction functions (e.g. `skew`, `kurtosis`), the default behavior of `mode` typically preserves the axis it acts along. In SciPy 1.11.0, this behavior will change: the default value of `keepdims` will become False, the `axis` over which the statistic is taken will be eliminated, and the value None will no longer be accepted. Set `keepdims` to True or False to avoid this warning.\n",
      "  mode, _ = stats.mode(_y[neigh_ind, k], axis=1)\n",
      "C:\\Users\\user\\anaconda3\\lib\\site-packages\\sklearn\\neighbors\\_classification.py:228: FutureWarning: Unlike other reduction functions (e.g. `skew`, `kurtosis`), the default behavior of `mode` typically preserves the axis it acts along. In SciPy 1.11.0, this behavior will change: the default value of `keepdims` will become False, the `axis` over which the statistic is taken will be eliminated, and the value None will no longer be accepted. Set `keepdims` to True or False to avoid this warning.\n",
      "  mode, _ = stats.mode(_y[neigh_ind, k], axis=1)\n",
      "C:\\Users\\user\\anaconda3\\lib\\site-packages\\sklearn\\neighbors\\_classification.py:228: FutureWarning: Unlike other reduction functions (e.g. `skew`, `kurtosis`), the default behavior of `mode` typically preserves the axis it acts along. In SciPy 1.11.0, this behavior will change: the default value of `keepdims` will become False, the `axis` over which the statistic is taken will be eliminated, and the value None will no longer be accepted. Set `keepdims` to True or False to avoid this warning.\n",
      "  mode, _ = stats.mode(_y[neigh_ind, k], axis=1)\n",
      "C:\\Users\\user\\anaconda3\\lib\\site-packages\\sklearn\\neighbors\\_classification.py:228: FutureWarning: Unlike other reduction functions (e.g. `skew`, `kurtosis`), the default behavior of `mode` typically preserves the axis it acts along. In SciPy 1.11.0, this behavior will change: the default value of `keepdims` will become False, the `axis` over which the statistic is taken will be eliminated, and the value None will no longer be accepted. Set `keepdims` to True or False to avoid this warning.\n",
      "  mode, _ = stats.mode(_y[neigh_ind, k], axis=1)\n",
      "C:\\Users\\user\\anaconda3\\lib\\site-packages\\sklearn\\neighbors\\_classification.py:228: FutureWarning: Unlike other reduction functions (e.g. `skew`, `kurtosis`), the default behavior of `mode` typically preserves the axis it acts along. In SciPy 1.11.0, this behavior will change: the default value of `keepdims` will become False, the `axis` over which the statistic is taken will be eliminated, and the value None will no longer be accepted. Set `keepdims` to True or False to avoid this warning.\n",
      "  mode, _ = stats.mode(_y[neigh_ind, k], axis=1)\n",
      "C:\\Users\\user\\anaconda3\\lib\\site-packages\\sklearn\\neighbors\\_classification.py:228: FutureWarning: Unlike other reduction functions (e.g. `skew`, `kurtosis`), the default behavior of `mode` typically preserves the axis it acts along. In SciPy 1.11.0, this behavior will change: the default value of `keepdims` will become False, the `axis` over which the statistic is taken will be eliminated, and the value None will no longer be accepted. Set `keepdims` to True or False to avoid this warning.\n",
      "  mode, _ = stats.mode(_y[neigh_ind, k], axis=1)\n",
      "C:\\Users\\user\\anaconda3\\lib\\site-packages\\sklearn\\neighbors\\_classification.py:228: FutureWarning: Unlike other reduction functions (e.g. `skew`, `kurtosis`), the default behavior of `mode` typically preserves the axis it acts along. In SciPy 1.11.0, this behavior will change: the default value of `keepdims` will become False, the `axis` over which the statistic is taken will be eliminated, and the value None will no longer be accepted. Set `keepdims` to True or False to avoid this warning.\n",
      "  mode, _ = stats.mode(_y[neigh_ind, k], axis=1)\n",
      "C:\\Users\\user\\anaconda3\\lib\\site-packages\\sklearn\\neighbors\\_classification.py:228: FutureWarning: Unlike other reduction functions (e.g. `skew`, `kurtosis`), the default behavior of `mode` typically preserves the axis it acts along. In SciPy 1.11.0, this behavior will change: the default value of `keepdims` will become False, the `axis` over which the statistic is taken will be eliminated, and the value None will no longer be accepted. Set `keepdims` to True or False to avoid this warning.\n",
      "  mode, _ = stats.mode(_y[neigh_ind, k], axis=1)\n",
      "C:\\Users\\user\\anaconda3\\lib\\site-packages\\sklearn\\neighbors\\_classification.py:228: FutureWarning: Unlike other reduction functions (e.g. `skew`, `kurtosis`), the default behavior of `mode` typically preserves the axis it acts along. In SciPy 1.11.0, this behavior will change: the default value of `keepdims` will become False, the `axis` over which the statistic is taken will be eliminated, and the value None will no longer be accepted. Set `keepdims` to True or False to avoid this warning.\n",
      "  mode, _ = stats.mode(_y[neigh_ind, k], axis=1)\n",
      "C:\\Users\\user\\anaconda3\\lib\\site-packages\\sklearn\\neighbors\\_classification.py:228: FutureWarning: Unlike other reduction functions (e.g. `skew`, `kurtosis`), the default behavior of `mode` typically preserves the axis it acts along. In SciPy 1.11.0, this behavior will change: the default value of `keepdims` will become False, the `axis` over which the statistic is taken will be eliminated, and the value None will no longer be accepted. Set `keepdims` to True or False to avoid this warning.\n",
      "  mode, _ = stats.mode(_y[neigh_ind, k], axis=1)\n",
      "C:\\Users\\user\\anaconda3\\lib\\site-packages\\sklearn\\neighbors\\_classification.py:228: FutureWarning: Unlike other reduction functions (e.g. `skew`, `kurtosis`), the default behavior of `mode` typically preserves the axis it acts along. In SciPy 1.11.0, this behavior will change: the default value of `keepdims` will become False, the `axis` over which the statistic is taken will be eliminated, and the value None will no longer be accepted. Set `keepdims` to True or False to avoid this warning.\n",
      "  mode, _ = stats.mode(_y[neigh_ind, k], axis=1)\n",
      "C:\\Users\\user\\anaconda3\\lib\\site-packages\\sklearn\\neighbors\\_classification.py:228: FutureWarning: Unlike other reduction functions (e.g. `skew`, `kurtosis`), the default behavior of `mode` typically preserves the axis it acts along. In SciPy 1.11.0, this behavior will change: the default value of `keepdims` will become False, the `axis` over which the statistic is taken will be eliminated, and the value None will no longer be accepted. Set `keepdims` to True or False to avoid this warning.\n",
      "  mode, _ = stats.mode(_y[neigh_ind, k], axis=1)\n",
      "C:\\Users\\user\\anaconda3\\lib\\site-packages\\sklearn\\neighbors\\_classification.py:228: FutureWarning: Unlike other reduction functions (e.g. `skew`, `kurtosis`), the default behavior of `mode` typically preserves the axis it acts along. In SciPy 1.11.0, this behavior will change: the default value of `keepdims` will become False, the `axis` over which the statistic is taken will be eliminated, and the value None will no longer be accepted. Set `keepdims` to True or False to avoid this warning.\n",
      "  mode, _ = stats.mode(_y[neigh_ind, k], axis=1)\n",
      "C:\\Users\\user\\anaconda3\\lib\\site-packages\\sklearn\\neighbors\\_classification.py:228: FutureWarning: Unlike other reduction functions (e.g. `skew`, `kurtosis`), the default behavior of `mode` typically preserves the axis it acts along. In SciPy 1.11.0, this behavior will change: the default value of `keepdims` will become False, the `axis` over which the statistic is taken will be eliminated, and the value None will no longer be accepted. Set `keepdims` to True or False to avoid this warning.\n",
      "  mode, _ = stats.mode(_y[neigh_ind, k], axis=1)\n",
      "C:\\Users\\user\\anaconda3\\lib\\site-packages\\sklearn\\neighbors\\_classification.py:228: FutureWarning: Unlike other reduction functions (e.g. `skew`, `kurtosis`), the default behavior of `mode` typically preserves the axis it acts along. In SciPy 1.11.0, this behavior will change: the default value of `keepdims` will become False, the `axis` over which the statistic is taken will be eliminated, and the value None will no longer be accepted. Set `keepdims` to True or False to avoid this warning.\n",
      "  mode, _ = stats.mode(_y[neigh_ind, k], axis=1)\n",
      "C:\\Users\\user\\anaconda3\\lib\\site-packages\\sklearn\\neighbors\\_classification.py:228: FutureWarning: Unlike other reduction functions (e.g. `skew`, `kurtosis`), the default behavior of `mode` typically preserves the axis it acts along. In SciPy 1.11.0, this behavior will change: the default value of `keepdims` will become False, the `axis` over which the statistic is taken will be eliminated, and the value None will no longer be accepted. Set `keepdims` to True or False to avoid this warning.\n",
      "  mode, _ = stats.mode(_y[neigh_ind, k], axis=1)\n"
     ]
    },
    {
     "name": "stdout",
     "output_type": "stream",
     "text": [
      "k=1 ; mean accuracy=98.83%; standard deviation=0.58%\n",
      "k=3 ; mean accuracy=98.83%; standard deviation=0.72%\n",
      "k=5 ; mean accuracy=98.78%; standard deviation=0.74%\n"
     ]
    },
    {
     "name": "stderr",
     "output_type": "stream",
     "text": [
      "C:\\Users\\user\\anaconda3\\lib\\site-packages\\sklearn\\neighbors\\_classification.py:228: FutureWarning: Unlike other reduction functions (e.g. `skew`, `kurtosis`), the default behavior of `mode` typically preserves the axis it acts along. In SciPy 1.11.0, this behavior will change: the default value of `keepdims` will become False, the `axis` over which the statistic is taken will be eliminated, and the value None will no longer be accepted. Set `keepdims` to True or False to avoid this warning.\n",
      "  mode, _ = stats.mode(_y[neigh_ind, k], axis=1)\n",
      "C:\\Users\\user\\anaconda3\\lib\\site-packages\\sklearn\\neighbors\\_classification.py:228: FutureWarning: Unlike other reduction functions (e.g. `skew`, `kurtosis`), the default behavior of `mode` typically preserves the axis it acts along. In SciPy 1.11.0, this behavior will change: the default value of `keepdims` will become False, the `axis` over which the statistic is taken will be eliminated, and the value None will no longer be accepted. Set `keepdims` to True or False to avoid this warning.\n",
      "  mode, _ = stats.mode(_y[neigh_ind, k], axis=1)\n",
      "C:\\Users\\user\\anaconda3\\lib\\site-packages\\sklearn\\neighbors\\_classification.py:228: FutureWarning: Unlike other reduction functions (e.g. `skew`, `kurtosis`), the default behavior of `mode` typically preserves the axis it acts along. In SciPy 1.11.0, this behavior will change: the default value of `keepdims` will become False, the `axis` over which the statistic is taken will be eliminated, and the value None will no longer be accepted. Set `keepdims` to True or False to avoid this warning.\n",
      "  mode, _ = stats.mode(_y[neigh_ind, k], axis=1)\n",
      "C:\\Users\\user\\anaconda3\\lib\\site-packages\\sklearn\\neighbors\\_classification.py:228: FutureWarning: Unlike other reduction functions (e.g. `skew`, `kurtosis`), the default behavior of `mode` typically preserves the axis it acts along. In SciPy 1.11.0, this behavior will change: the default value of `keepdims` will become False, the `axis` over which the statistic is taken will be eliminated, and the value None will no longer be accepted. Set `keepdims` to True or False to avoid this warning.\n",
      "  mode, _ = stats.mode(_y[neigh_ind, k], axis=1)\n",
      "C:\\Users\\user\\anaconda3\\lib\\site-packages\\sklearn\\neighbors\\_classification.py:228: FutureWarning: Unlike other reduction functions (e.g. `skew`, `kurtosis`), the default behavior of `mode` typically preserves the axis it acts along. In SciPy 1.11.0, this behavior will change: the default value of `keepdims` will become False, the `axis` over which the statistic is taken will be eliminated, and the value None will no longer be accepted. Set `keepdims` to True or False to avoid this warning.\n",
      "  mode, _ = stats.mode(_y[neigh_ind, k], axis=1)\n",
      "C:\\Users\\user\\anaconda3\\lib\\site-packages\\sklearn\\neighbors\\_classification.py:228: FutureWarning: Unlike other reduction functions (e.g. `skew`, `kurtosis`), the default behavior of `mode` typically preserves the axis it acts along. In SciPy 1.11.0, this behavior will change: the default value of `keepdims` will become False, the `axis` over which the statistic is taken will be eliminated, and the value None will no longer be accepted. Set `keepdims` to True or False to avoid this warning.\n",
      "  mode, _ = stats.mode(_y[neigh_ind, k], axis=1)\n",
      "C:\\Users\\user\\anaconda3\\lib\\site-packages\\sklearn\\neighbors\\_classification.py:228: FutureWarning: Unlike other reduction functions (e.g. `skew`, `kurtosis`), the default behavior of `mode` typically preserves the axis it acts along. In SciPy 1.11.0, this behavior will change: the default value of `keepdims` will become False, the `axis` over which the statistic is taken will be eliminated, and the value None will no longer be accepted. Set `keepdims` to True or False to avoid this warning.\n",
      "  mode, _ = stats.mode(_y[neigh_ind, k], axis=1)\n",
      "C:\\Users\\user\\anaconda3\\lib\\site-packages\\sklearn\\neighbors\\_classification.py:228: FutureWarning: Unlike other reduction functions (e.g. `skew`, `kurtosis`), the default behavior of `mode` typically preserves the axis it acts along. In SciPy 1.11.0, this behavior will change: the default value of `keepdims` will become False, the `axis` over which the statistic is taken will be eliminated, and the value None will no longer be accepted. Set `keepdims` to True or False to avoid this warning.\n",
      "  mode, _ = stats.mode(_y[neigh_ind, k], axis=1)\n",
      "C:\\Users\\user\\anaconda3\\lib\\site-packages\\sklearn\\neighbors\\_classification.py:228: FutureWarning: Unlike other reduction functions (e.g. `skew`, `kurtosis`), the default behavior of `mode` typically preserves the axis it acts along. In SciPy 1.11.0, this behavior will change: the default value of `keepdims` will become False, the `axis` over which the statistic is taken will be eliminated, and the value None will no longer be accepted. Set `keepdims` to True or False to avoid this warning.\n",
      "  mode, _ = stats.mode(_y[neigh_ind, k], axis=1)\n",
      "C:\\Users\\user\\anaconda3\\lib\\site-packages\\sklearn\\neighbors\\_classification.py:228: FutureWarning: Unlike other reduction functions (e.g. `skew`, `kurtosis`), the default behavior of `mode` typically preserves the axis it acts along. In SciPy 1.11.0, this behavior will change: the default value of `keepdims` will become False, the `axis` over which the statistic is taken will be eliminated, and the value None will no longer be accepted. Set `keepdims` to True or False to avoid this warning.\n",
      "  mode, _ = stats.mode(_y[neigh_ind, k], axis=1)\n",
      "C:\\Users\\user\\anaconda3\\lib\\site-packages\\sklearn\\neighbors\\_classification.py:228: FutureWarning: Unlike other reduction functions (e.g. `skew`, `kurtosis`), the default behavior of `mode` typically preserves the axis it acts along. In SciPy 1.11.0, this behavior will change: the default value of `keepdims` will become False, the `axis` over which the statistic is taken will be eliminated, and the value None will no longer be accepted. Set `keepdims` to True or False to avoid this warning.\n",
      "  mode, _ = stats.mode(_y[neigh_ind, k], axis=1)\n",
      "C:\\Users\\user\\anaconda3\\lib\\site-packages\\sklearn\\neighbors\\_classification.py:228: FutureWarning: Unlike other reduction functions (e.g. `skew`, `kurtosis`), the default behavior of `mode` typically preserves the axis it acts along. In SciPy 1.11.0, this behavior will change: the default value of `keepdims` will become False, the `axis` over which the statistic is taken will be eliminated, and the value None will no longer be accepted. Set `keepdims` to True or False to avoid this warning.\n",
      "  mode, _ = stats.mode(_y[neigh_ind, k], axis=1)\n",
      "C:\\Users\\user\\anaconda3\\lib\\site-packages\\sklearn\\neighbors\\_classification.py:228: FutureWarning: Unlike other reduction functions (e.g. `skew`, `kurtosis`), the default behavior of `mode` typically preserves the axis it acts along. In SciPy 1.11.0, this behavior will change: the default value of `keepdims` will become False, the `axis` over which the statistic is taken will be eliminated, and the value None will no longer be accepted. Set `keepdims` to True or False to avoid this warning.\n",
      "  mode, _ = stats.mode(_y[neigh_ind, k], axis=1)\n",
      "C:\\Users\\user\\anaconda3\\lib\\site-packages\\sklearn\\neighbors\\_classification.py:228: FutureWarning: Unlike other reduction functions (e.g. `skew`, `kurtosis`), the default behavior of `mode` typically preserves the axis it acts along. In SciPy 1.11.0, this behavior will change: the default value of `keepdims` will become False, the `axis` over which the statistic is taken will be eliminated, and the value None will no longer be accepted. Set `keepdims` to True or False to avoid this warning.\n",
      "  mode, _ = stats.mode(_y[neigh_ind, k], axis=1)\n",
      "C:\\Users\\user\\anaconda3\\lib\\site-packages\\sklearn\\neighbors\\_classification.py:228: FutureWarning: Unlike other reduction functions (e.g. `skew`, `kurtosis`), the default behavior of `mode` typically preserves the axis it acts along. In SciPy 1.11.0, this behavior will change: the default value of `keepdims` will become False, the `axis` over which the statistic is taken will be eliminated, and the value None will no longer be accepted. Set `keepdims` to True or False to avoid this warning.\n",
      "  mode, _ = stats.mode(_y[neigh_ind, k], axis=1)\n",
      "C:\\Users\\user\\anaconda3\\lib\\site-packages\\sklearn\\neighbors\\_classification.py:228: FutureWarning: Unlike other reduction functions (e.g. `skew`, `kurtosis`), the default behavior of `mode` typically preserves the axis it acts along. In SciPy 1.11.0, this behavior will change: the default value of `keepdims` will become False, the `axis` over which the statistic is taken will be eliminated, and the value None will no longer be accepted. Set `keepdims` to True or False to avoid this warning.\n",
      "  mode, _ = stats.mode(_y[neigh_ind, k], axis=1)\n",
      "C:\\Users\\user\\anaconda3\\lib\\site-packages\\sklearn\\neighbors\\_classification.py:228: FutureWarning: Unlike other reduction functions (e.g. `skew`, `kurtosis`), the default behavior of `mode` typically preserves the axis it acts along. In SciPy 1.11.0, this behavior will change: the default value of `keepdims` will become False, the `axis` over which the statistic is taken will be eliminated, and the value None will no longer be accepted. Set `keepdims` to True or False to avoid this warning.\n",
      "  mode, _ = stats.mode(_y[neigh_ind, k], axis=1)\n",
      "C:\\Users\\user\\anaconda3\\lib\\site-packages\\sklearn\\neighbors\\_classification.py:228: FutureWarning: Unlike other reduction functions (e.g. `skew`, `kurtosis`), the default behavior of `mode` typically preserves the axis it acts along. In SciPy 1.11.0, this behavior will change: the default value of `keepdims` will become False, the `axis` over which the statistic is taken will be eliminated, and the value None will no longer be accepted. Set `keepdims` to True or False to avoid this warning.\n",
      "  mode, _ = stats.mode(_y[neigh_ind, k], axis=1)\n",
      "C:\\Users\\user\\anaconda3\\lib\\site-packages\\sklearn\\neighbors\\_classification.py:228: FutureWarning: Unlike other reduction functions (e.g. `skew`, `kurtosis`), the default behavior of `mode` typically preserves the axis it acts along. In SciPy 1.11.0, this behavior will change: the default value of `keepdims` will become False, the `axis` over which the statistic is taken will be eliminated, and the value None will no longer be accepted. Set `keepdims` to True or False to avoid this warning.\n",
      "  mode, _ = stats.mode(_y[neigh_ind, k], axis=1)\n",
      "C:\\Users\\user\\anaconda3\\lib\\site-packages\\sklearn\\neighbors\\_classification.py:228: FutureWarning: Unlike other reduction functions (e.g. `skew`, `kurtosis`), the default behavior of `mode` typically preserves the axis it acts along. In SciPy 1.11.0, this behavior will change: the default value of `keepdims` will become False, the `axis` over which the statistic is taken will be eliminated, and the value None will no longer be accepted. Set `keepdims` to True or False to avoid this warning.\n",
      "  mode, _ = stats.mode(_y[neigh_ind, k], axis=1)\n",
      "C:\\Users\\user\\anaconda3\\lib\\site-packages\\sklearn\\neighbors\\_classification.py:228: FutureWarning: Unlike other reduction functions (e.g. `skew`, `kurtosis`), the default behavior of `mode` typically preserves the axis it acts along. In SciPy 1.11.0, this behavior will change: the default value of `keepdims` will become False, the `axis` over which the statistic is taken will be eliminated, and the value None will no longer be accepted. Set `keepdims` to True or False to avoid this warning.\n",
      "  mode, _ = stats.mode(_y[neigh_ind, k], axis=1)\n",
      "C:\\Users\\user\\anaconda3\\lib\\site-packages\\sklearn\\neighbors\\_classification.py:228: FutureWarning: Unlike other reduction functions (e.g. `skew`, `kurtosis`), the default behavior of `mode` typically preserves the axis it acts along. In SciPy 1.11.0, this behavior will change: the default value of `keepdims` will become False, the `axis` over which the statistic is taken will be eliminated, and the value None will no longer be accepted. Set `keepdims` to True or False to avoid this warning.\n",
      "  mode, _ = stats.mode(_y[neigh_ind, k], axis=1)\n",
      "C:\\Users\\user\\anaconda3\\lib\\site-packages\\sklearn\\neighbors\\_classification.py:228: FutureWarning: Unlike other reduction functions (e.g. `skew`, `kurtosis`), the default behavior of `mode` typically preserves the axis it acts along. In SciPy 1.11.0, this behavior will change: the default value of `keepdims` will become False, the `axis` over which the statistic is taken will be eliminated, and the value None will no longer be accepted. Set `keepdims` to True or False to avoid this warning.\n",
      "  mode, _ = stats.mode(_y[neigh_ind, k], axis=1)\n",
      "C:\\Users\\user\\anaconda3\\lib\\site-packages\\sklearn\\neighbors\\_classification.py:228: FutureWarning: Unlike other reduction functions (e.g. `skew`, `kurtosis`), the default behavior of `mode` typically preserves the axis it acts along. In SciPy 1.11.0, this behavior will change: the default value of `keepdims` will become False, the `axis` over which the statistic is taken will be eliminated, and the value None will no longer be accepted. Set `keepdims` to True or False to avoid this warning.\n",
      "  mode, _ = stats.mode(_y[neigh_ind, k], axis=1)\n",
      "C:\\Users\\user\\anaconda3\\lib\\site-packages\\sklearn\\neighbors\\_classification.py:228: FutureWarning: Unlike other reduction functions (e.g. `skew`, `kurtosis`), the default behavior of `mode` typically preserves the axis it acts along. In SciPy 1.11.0, this behavior will change: the default value of `keepdims` will become False, the `axis` over which the statistic is taken will be eliminated, and the value None will no longer be accepted. Set `keepdims` to True or False to avoid this warning.\n",
      "  mode, _ = stats.mode(_y[neigh_ind, k], axis=1)\n",
      "C:\\Users\\user\\anaconda3\\lib\\site-packages\\sklearn\\neighbors\\_classification.py:228: FutureWarning: Unlike other reduction functions (e.g. `skew`, `kurtosis`), the default behavior of `mode` typically preserves the axis it acts along. In SciPy 1.11.0, this behavior will change: the default value of `keepdims` will become False, the `axis` over which the statistic is taken will be eliminated, and the value None will no longer be accepted. Set `keepdims` to True or False to avoid this warning.\n",
      "  mode, _ = stats.mode(_y[neigh_ind, k], axis=1)\n",
      "C:\\Users\\user\\anaconda3\\lib\\site-packages\\sklearn\\neighbors\\_classification.py:228: FutureWarning: Unlike other reduction functions (e.g. `skew`, `kurtosis`), the default behavior of `mode` typically preserves the axis it acts along. In SciPy 1.11.0, this behavior will change: the default value of `keepdims` will become False, the `axis` over which the statistic is taken will be eliminated, and the value None will no longer be accepted. Set `keepdims` to True or False to avoid this warning.\n",
      "  mode, _ = stats.mode(_y[neigh_ind, k], axis=1)\n"
     ]
    },
    {
     "name": "stdout",
     "output_type": "stream",
     "text": [
      "k=7 ; mean accuracy=98.44%; standard deviation=0.96%\n",
      "k=9 ; mean accuracy=98.39%; standard deviation=0.80%\n",
      "k=11; mean accuracy=98.33%; standard deviation=0.90%\n"
     ]
    },
    {
     "name": "stderr",
     "output_type": "stream",
     "text": [
      "C:\\Users\\user\\anaconda3\\lib\\site-packages\\sklearn\\neighbors\\_classification.py:228: FutureWarning: Unlike other reduction functions (e.g. `skew`, `kurtosis`), the default behavior of `mode` typically preserves the axis it acts along. In SciPy 1.11.0, this behavior will change: the default value of `keepdims` will become False, the `axis` over which the statistic is taken will be eliminated, and the value None will no longer be accepted. Set `keepdims` to True or False to avoid this warning.\n",
      "  mode, _ = stats.mode(_y[neigh_ind, k], axis=1)\n",
      "C:\\Users\\user\\anaconda3\\lib\\site-packages\\sklearn\\neighbors\\_classification.py:228: FutureWarning: Unlike other reduction functions (e.g. `skew`, `kurtosis`), the default behavior of `mode` typically preserves the axis it acts along. In SciPy 1.11.0, this behavior will change: the default value of `keepdims` will become False, the `axis` over which the statistic is taken will be eliminated, and the value None will no longer be accepted. Set `keepdims` to True or False to avoid this warning.\n",
      "  mode, _ = stats.mode(_y[neigh_ind, k], axis=1)\n",
      "C:\\Users\\user\\anaconda3\\lib\\site-packages\\sklearn\\neighbors\\_classification.py:228: FutureWarning: Unlike other reduction functions (e.g. `skew`, `kurtosis`), the default behavior of `mode` typically preserves the axis it acts along. In SciPy 1.11.0, this behavior will change: the default value of `keepdims` will become False, the `axis` over which the statistic is taken will be eliminated, and the value None will no longer be accepted. Set `keepdims` to True or False to avoid this warning.\n",
      "  mode, _ = stats.mode(_y[neigh_ind, k], axis=1)\n",
      "C:\\Users\\user\\anaconda3\\lib\\site-packages\\sklearn\\neighbors\\_classification.py:228: FutureWarning: Unlike other reduction functions (e.g. `skew`, `kurtosis`), the default behavior of `mode` typically preserves the axis it acts along. In SciPy 1.11.0, this behavior will change: the default value of `keepdims` will become False, the `axis` over which the statistic is taken will be eliminated, and the value None will no longer be accepted. Set `keepdims` to True or False to avoid this warning.\n",
      "  mode, _ = stats.mode(_y[neigh_ind, k], axis=1)\n",
      "C:\\Users\\user\\anaconda3\\lib\\site-packages\\sklearn\\neighbors\\_classification.py:228: FutureWarning: Unlike other reduction functions (e.g. `skew`, `kurtosis`), the default behavior of `mode` typically preserves the axis it acts along. In SciPy 1.11.0, this behavior will change: the default value of `keepdims` will become False, the `axis` over which the statistic is taken will be eliminated, and the value None will no longer be accepted. Set `keepdims` to True or False to avoid this warning.\n",
      "  mode, _ = stats.mode(_y[neigh_ind, k], axis=1)\n",
      "C:\\Users\\user\\anaconda3\\lib\\site-packages\\sklearn\\neighbors\\_classification.py:228: FutureWarning: Unlike other reduction functions (e.g. `skew`, `kurtosis`), the default behavior of `mode` typically preserves the axis it acts along. In SciPy 1.11.0, this behavior will change: the default value of `keepdims` will become False, the `axis` over which the statistic is taken will be eliminated, and the value None will no longer be accepted. Set `keepdims` to True or False to avoid this warning.\n",
      "  mode, _ = stats.mode(_y[neigh_ind, k], axis=1)\n",
      "C:\\Users\\user\\anaconda3\\lib\\site-packages\\sklearn\\neighbors\\_classification.py:228: FutureWarning: Unlike other reduction functions (e.g. `skew`, `kurtosis`), the default behavior of `mode` typically preserves the axis it acts along. In SciPy 1.11.0, this behavior will change: the default value of `keepdims` will become False, the `axis` over which the statistic is taken will be eliminated, and the value None will no longer be accepted. Set `keepdims` to True or False to avoid this warning.\n",
      "  mode, _ = stats.mode(_y[neigh_ind, k], axis=1)\n",
      "C:\\Users\\user\\anaconda3\\lib\\site-packages\\sklearn\\neighbors\\_classification.py:228: FutureWarning: Unlike other reduction functions (e.g. `skew`, `kurtosis`), the default behavior of `mode` typically preserves the axis it acts along. In SciPy 1.11.0, this behavior will change: the default value of `keepdims` will become False, the `axis` over which the statistic is taken will be eliminated, and the value None will no longer be accepted. Set `keepdims` to True or False to avoid this warning.\n",
      "  mode, _ = stats.mode(_y[neigh_ind, k], axis=1)\n",
      "C:\\Users\\user\\anaconda3\\lib\\site-packages\\sklearn\\neighbors\\_classification.py:228: FutureWarning: Unlike other reduction functions (e.g. `skew`, `kurtosis`), the default behavior of `mode` typically preserves the axis it acts along. In SciPy 1.11.0, this behavior will change: the default value of `keepdims` will become False, the `axis` over which the statistic is taken will be eliminated, and the value None will no longer be accepted. Set `keepdims` to True or False to avoid this warning.\n",
      "  mode, _ = stats.mode(_y[neigh_ind, k], axis=1)\n",
      "C:\\Users\\user\\anaconda3\\lib\\site-packages\\sklearn\\neighbors\\_classification.py:228: FutureWarning: Unlike other reduction functions (e.g. `skew`, `kurtosis`), the default behavior of `mode` typically preserves the axis it acts along. In SciPy 1.11.0, this behavior will change: the default value of `keepdims` will become False, the `axis` over which the statistic is taken will be eliminated, and the value None will no longer be accepted. Set `keepdims` to True or False to avoid this warning.\n",
      "  mode, _ = stats.mode(_y[neigh_ind, k], axis=1)\n",
      "C:\\Users\\user\\anaconda3\\lib\\site-packages\\sklearn\\neighbors\\_classification.py:228: FutureWarning: Unlike other reduction functions (e.g. `skew`, `kurtosis`), the default behavior of `mode` typically preserves the axis it acts along. In SciPy 1.11.0, this behavior will change: the default value of `keepdims` will become False, the `axis` over which the statistic is taken will be eliminated, and the value None will no longer be accepted. Set `keepdims` to True or False to avoid this warning.\n",
      "  mode, _ = stats.mode(_y[neigh_ind, k], axis=1)\n",
      "C:\\Users\\user\\anaconda3\\lib\\site-packages\\sklearn\\neighbors\\_classification.py:228: FutureWarning: Unlike other reduction functions (e.g. `skew`, `kurtosis`), the default behavior of `mode` typically preserves the axis it acts along. In SciPy 1.11.0, this behavior will change: the default value of `keepdims` will become False, the `axis` over which the statistic is taken will be eliminated, and the value None will no longer be accepted. Set `keepdims` to True or False to avoid this warning.\n",
      "  mode, _ = stats.mode(_y[neigh_ind, k], axis=1)\n",
      "C:\\Users\\user\\anaconda3\\lib\\site-packages\\sklearn\\neighbors\\_classification.py:228: FutureWarning: Unlike other reduction functions (e.g. `skew`, `kurtosis`), the default behavior of `mode` typically preserves the axis it acts along. In SciPy 1.11.0, this behavior will change: the default value of `keepdims` will become False, the `axis` over which the statistic is taken will be eliminated, and the value None will no longer be accepted. Set `keepdims` to True or False to avoid this warning.\n",
      "  mode, _ = stats.mode(_y[neigh_ind, k], axis=1)\n",
      "C:\\Users\\user\\anaconda3\\lib\\site-packages\\sklearn\\neighbors\\_classification.py:228: FutureWarning: Unlike other reduction functions (e.g. `skew`, `kurtosis`), the default behavior of `mode` typically preserves the axis it acts along. In SciPy 1.11.0, this behavior will change: the default value of `keepdims` will become False, the `axis` over which the statistic is taken will be eliminated, and the value None will no longer be accepted. Set `keepdims` to True or False to avoid this warning.\n",
      "  mode, _ = stats.mode(_y[neigh_ind, k], axis=1)\n",
      "C:\\Users\\user\\anaconda3\\lib\\site-packages\\sklearn\\neighbors\\_classification.py:228: FutureWarning: Unlike other reduction functions (e.g. `skew`, `kurtosis`), the default behavior of `mode` typically preserves the axis it acts along. In SciPy 1.11.0, this behavior will change: the default value of `keepdims` will become False, the `axis` over which the statistic is taken will be eliminated, and the value None will no longer be accepted. Set `keepdims` to True or False to avoid this warning.\n",
      "  mode, _ = stats.mode(_y[neigh_ind, k], axis=1)\n",
      "C:\\Users\\user\\anaconda3\\lib\\site-packages\\sklearn\\neighbors\\_classification.py:228: FutureWarning: Unlike other reduction functions (e.g. `skew`, `kurtosis`), the default behavior of `mode` typically preserves the axis it acts along. In SciPy 1.11.0, this behavior will change: the default value of `keepdims` will become False, the `axis` over which the statistic is taken will be eliminated, and the value None will no longer be accepted. Set `keepdims` to True or False to avoid this warning.\n",
      "  mode, _ = stats.mode(_y[neigh_ind, k], axis=1)\n",
      "C:\\Users\\user\\anaconda3\\lib\\site-packages\\sklearn\\neighbors\\_classification.py:228: FutureWarning: Unlike other reduction functions (e.g. `skew`, `kurtosis`), the default behavior of `mode` typically preserves the axis it acts along. In SciPy 1.11.0, this behavior will change: the default value of `keepdims` will become False, the `axis` over which the statistic is taken will be eliminated, and the value None will no longer be accepted. Set `keepdims` to True or False to avoid this warning.\n",
      "  mode, _ = stats.mode(_y[neigh_ind, k], axis=1)\n",
      "C:\\Users\\user\\anaconda3\\lib\\site-packages\\sklearn\\neighbors\\_classification.py:228: FutureWarning: Unlike other reduction functions (e.g. `skew`, `kurtosis`), the default behavior of `mode` typically preserves the axis it acts along. In SciPy 1.11.0, this behavior will change: the default value of `keepdims` will become False, the `axis` over which the statistic is taken will be eliminated, and the value None will no longer be accepted. Set `keepdims` to True or False to avoid this warning.\n",
      "  mode, _ = stats.mode(_y[neigh_ind, k], axis=1)\n",
      "C:\\Users\\user\\anaconda3\\lib\\site-packages\\sklearn\\neighbors\\_classification.py:228: FutureWarning: Unlike other reduction functions (e.g. `skew`, `kurtosis`), the default behavior of `mode` typically preserves the axis it acts along. In SciPy 1.11.0, this behavior will change: the default value of `keepdims` will become False, the `axis` over which the statistic is taken will be eliminated, and the value None will no longer be accepted. Set `keepdims` to True or False to avoid this warning.\n",
      "  mode, _ = stats.mode(_y[neigh_ind, k], axis=1)\n",
      "C:\\Users\\user\\anaconda3\\lib\\site-packages\\sklearn\\neighbors\\_classification.py:228: FutureWarning: Unlike other reduction functions (e.g. `skew`, `kurtosis`), the default behavior of `mode` typically preserves the axis it acts along. In SciPy 1.11.0, this behavior will change: the default value of `keepdims` will become False, the `axis` over which the statistic is taken will be eliminated, and the value None will no longer be accepted. Set `keepdims` to True or False to avoid this warning.\n",
      "  mode, _ = stats.mode(_y[neigh_ind, k], axis=1)\n",
      "C:\\Users\\user\\anaconda3\\lib\\site-packages\\sklearn\\neighbors\\_classification.py:228: FutureWarning: Unlike other reduction functions (e.g. `skew`, `kurtosis`), the default behavior of `mode` typically preserves the axis it acts along. In SciPy 1.11.0, this behavior will change: the default value of `keepdims` will become False, the `axis` over which the statistic is taken will be eliminated, and the value None will no longer be accepted. Set `keepdims` to True or False to avoid this warning.\n",
      "  mode, _ = stats.mode(_y[neigh_ind, k], axis=1)\n",
      "C:\\Users\\user\\anaconda3\\lib\\site-packages\\sklearn\\neighbors\\_classification.py:228: FutureWarning: Unlike other reduction functions (e.g. `skew`, `kurtosis`), the default behavior of `mode` typically preserves the axis it acts along. In SciPy 1.11.0, this behavior will change: the default value of `keepdims` will become False, the `axis` over which the statistic is taken will be eliminated, and the value None will no longer be accepted. Set `keepdims` to True or False to avoid this warning.\n",
      "  mode, _ = stats.mode(_y[neigh_ind, k], axis=1)\n",
      "C:\\Users\\user\\anaconda3\\lib\\site-packages\\sklearn\\neighbors\\_classification.py:228: FutureWarning: Unlike other reduction functions (e.g. `skew`, `kurtosis`), the default behavior of `mode` typically preserves the axis it acts along. In SciPy 1.11.0, this behavior will change: the default value of `keepdims` will become False, the `axis` over which the statistic is taken will be eliminated, and the value None will no longer be accepted. Set `keepdims` to True or False to avoid this warning.\n",
      "  mode, _ = stats.mode(_y[neigh_ind, k], axis=1)\n",
      "C:\\Users\\user\\anaconda3\\lib\\site-packages\\sklearn\\neighbors\\_classification.py:228: FutureWarning: Unlike other reduction functions (e.g. `skew`, `kurtosis`), the default behavior of `mode` typically preserves the axis it acts along. In SciPy 1.11.0, this behavior will change: the default value of `keepdims` will become False, the `axis` over which the statistic is taken will be eliminated, and the value None will no longer be accepted. Set `keepdims` to True or False to avoid this warning.\n",
      "  mode, _ = stats.mode(_y[neigh_ind, k], axis=1)\n",
      "C:\\Users\\user\\anaconda3\\lib\\site-packages\\sklearn\\neighbors\\_classification.py:228: FutureWarning: Unlike other reduction functions (e.g. `skew`, `kurtosis`), the default behavior of `mode` typically preserves the axis it acts along. In SciPy 1.11.0, this behavior will change: the default value of `keepdims` will become False, the `axis` over which the statistic is taken will be eliminated, and the value None will no longer be accepted. Set `keepdims` to True or False to avoid this warning.\n",
      "  mode, _ = stats.mode(_y[neigh_ind, k], axis=1)\n"
     ]
    },
    {
     "name": "stdout",
     "output_type": "stream",
     "text": [
      "k=13; mean accuracy=97.89%; standard deviation=0.89%\n",
      "k=15; mean accuracy=97.83%; standard deviation=0.95%\n",
      "k=17; mean accuracy=97.50%; standard deviation=1.00%\n",
      "k=19; mean accuracy=97.66%; standard deviation=0.96%\n"
     ]
    },
    {
     "name": "stderr",
     "output_type": "stream",
     "text": [
      "C:\\Users\\user\\anaconda3\\lib\\site-packages\\sklearn\\neighbors\\_classification.py:228: FutureWarning: Unlike other reduction functions (e.g. `skew`, `kurtosis`), the default behavior of `mode` typically preserves the axis it acts along. In SciPy 1.11.0, this behavior will change: the default value of `keepdims` will become False, the `axis` over which the statistic is taken will be eliminated, and the value None will no longer be accepted. Set `keepdims` to True or False to avoid this warning.\n",
      "  mode, _ = stats.mode(_y[neigh_ind, k], axis=1)\n",
      "C:\\Users\\user\\anaconda3\\lib\\site-packages\\sklearn\\neighbors\\_classification.py:228: FutureWarning: Unlike other reduction functions (e.g. `skew`, `kurtosis`), the default behavior of `mode` typically preserves the axis it acts along. In SciPy 1.11.0, this behavior will change: the default value of `keepdims` will become False, the `axis` over which the statistic is taken will be eliminated, and the value None will no longer be accepted. Set `keepdims` to True or False to avoid this warning.\n",
      "  mode, _ = stats.mode(_y[neigh_ind, k], axis=1)\n",
      "C:\\Users\\user\\anaconda3\\lib\\site-packages\\sklearn\\neighbors\\_classification.py:228: FutureWarning: Unlike other reduction functions (e.g. `skew`, `kurtosis`), the default behavior of `mode` typically preserves the axis it acts along. In SciPy 1.11.0, this behavior will change: the default value of `keepdims` will become False, the `axis` over which the statistic is taken will be eliminated, and the value None will no longer be accepted. Set `keepdims` to True or False to avoid this warning.\n",
      "  mode, _ = stats.mode(_y[neigh_ind, k], axis=1)\n",
      "C:\\Users\\user\\anaconda3\\lib\\site-packages\\sklearn\\neighbors\\_classification.py:228: FutureWarning: Unlike other reduction functions (e.g. `skew`, `kurtosis`), the default behavior of `mode` typically preserves the axis it acts along. In SciPy 1.11.0, this behavior will change: the default value of `keepdims` will become False, the `axis` over which the statistic is taken will be eliminated, and the value None will no longer be accepted. Set `keepdims` to True or False to avoid this warning.\n",
      "  mode, _ = stats.mode(_y[neigh_ind, k], axis=1)\n",
      "C:\\Users\\user\\anaconda3\\lib\\site-packages\\sklearn\\neighbors\\_classification.py:228: FutureWarning: Unlike other reduction functions (e.g. `skew`, `kurtosis`), the default behavior of `mode` typically preserves the axis it acts along. In SciPy 1.11.0, this behavior will change: the default value of `keepdims` will become False, the `axis` over which the statistic is taken will be eliminated, and the value None will no longer be accepted. Set `keepdims` to True or False to avoid this warning.\n",
      "  mode, _ = stats.mode(_y[neigh_ind, k], axis=1)\n",
      "C:\\Users\\user\\anaconda3\\lib\\site-packages\\sklearn\\neighbors\\_classification.py:228: FutureWarning: Unlike other reduction functions (e.g. `skew`, `kurtosis`), the default behavior of `mode` typically preserves the axis it acts along. In SciPy 1.11.0, this behavior will change: the default value of `keepdims` will become False, the `axis` over which the statistic is taken will be eliminated, and the value None will no longer be accepted. Set `keepdims` to True or False to avoid this warning.\n",
      "  mode, _ = stats.mode(_y[neigh_ind, k], axis=1)\n",
      "C:\\Users\\user\\anaconda3\\lib\\site-packages\\sklearn\\neighbors\\_classification.py:228: FutureWarning: Unlike other reduction functions (e.g. `skew`, `kurtosis`), the default behavior of `mode` typically preserves the axis it acts along. In SciPy 1.11.0, this behavior will change: the default value of `keepdims` will become False, the `axis` over which the statistic is taken will be eliminated, and the value None will no longer be accepted. Set `keepdims` to True or False to avoid this warning.\n",
      "  mode, _ = stats.mode(_y[neigh_ind, k], axis=1)\n",
      "C:\\Users\\user\\anaconda3\\lib\\site-packages\\sklearn\\neighbors\\_classification.py:228: FutureWarning: Unlike other reduction functions (e.g. `skew`, `kurtosis`), the default behavior of `mode` typically preserves the axis it acts along. In SciPy 1.11.0, this behavior will change: the default value of `keepdims` will become False, the `axis` over which the statistic is taken will be eliminated, and the value None will no longer be accepted. Set `keepdims` to True or False to avoid this warning.\n",
      "  mode, _ = stats.mode(_y[neigh_ind, k], axis=1)\n",
      "C:\\Users\\user\\anaconda3\\lib\\site-packages\\sklearn\\neighbors\\_classification.py:228: FutureWarning: Unlike other reduction functions (e.g. `skew`, `kurtosis`), the default behavior of `mode` typically preserves the axis it acts along. In SciPy 1.11.0, this behavior will change: the default value of `keepdims` will become False, the `axis` over which the statistic is taken will be eliminated, and the value None will no longer be accepted. Set `keepdims` to True or False to avoid this warning.\n",
      "  mode, _ = stats.mode(_y[neigh_ind, k], axis=1)\n",
      "C:\\Users\\user\\anaconda3\\lib\\site-packages\\sklearn\\neighbors\\_classification.py:228: FutureWarning: Unlike other reduction functions (e.g. `skew`, `kurtosis`), the default behavior of `mode` typically preserves the axis it acts along. In SciPy 1.11.0, this behavior will change: the default value of `keepdims` will become False, the `axis` over which the statistic is taken will be eliminated, and the value None will no longer be accepted. Set `keepdims` to True or False to avoid this warning.\n",
      "  mode, _ = stats.mode(_y[neigh_ind, k], axis=1)\n",
      "C:\\Users\\user\\anaconda3\\lib\\site-packages\\sklearn\\neighbors\\_classification.py:228: FutureWarning: Unlike other reduction functions (e.g. `skew`, `kurtosis`), the default behavior of `mode` typically preserves the axis it acts along. In SciPy 1.11.0, this behavior will change: the default value of `keepdims` will become False, the `axis` over which the statistic is taken will be eliminated, and the value None will no longer be accepted. Set `keepdims` to True or False to avoid this warning.\n",
      "  mode, _ = stats.mode(_y[neigh_ind, k], axis=1)\n",
      "C:\\Users\\user\\anaconda3\\lib\\site-packages\\sklearn\\neighbors\\_classification.py:228: FutureWarning: Unlike other reduction functions (e.g. `skew`, `kurtosis`), the default behavior of `mode` typically preserves the axis it acts along. In SciPy 1.11.0, this behavior will change: the default value of `keepdims` will become False, the `axis` over which the statistic is taken will be eliminated, and the value None will no longer be accepted. Set `keepdims` to True or False to avoid this warning.\n",
      "  mode, _ = stats.mode(_y[neigh_ind, k], axis=1)\n",
      "C:\\Users\\user\\anaconda3\\lib\\site-packages\\sklearn\\neighbors\\_classification.py:228: FutureWarning: Unlike other reduction functions (e.g. `skew`, `kurtosis`), the default behavior of `mode` typically preserves the axis it acts along. In SciPy 1.11.0, this behavior will change: the default value of `keepdims` will become False, the `axis` over which the statistic is taken will be eliminated, and the value None will no longer be accepted. Set `keepdims` to True or False to avoid this warning.\n",
      "  mode, _ = stats.mode(_y[neigh_ind, k], axis=1)\n",
      "C:\\Users\\user\\anaconda3\\lib\\site-packages\\sklearn\\neighbors\\_classification.py:228: FutureWarning: Unlike other reduction functions (e.g. `skew`, `kurtosis`), the default behavior of `mode` typically preserves the axis it acts along. In SciPy 1.11.0, this behavior will change: the default value of `keepdims` will become False, the `axis` over which the statistic is taken will be eliminated, and the value None will no longer be accepted. Set `keepdims` to True or False to avoid this warning.\n",
      "  mode, _ = stats.mode(_y[neigh_ind, k], axis=1)\n",
      "C:\\Users\\user\\anaconda3\\lib\\site-packages\\sklearn\\neighbors\\_classification.py:228: FutureWarning: Unlike other reduction functions (e.g. `skew`, `kurtosis`), the default behavior of `mode` typically preserves the axis it acts along. In SciPy 1.11.0, this behavior will change: the default value of `keepdims` will become False, the `axis` over which the statistic is taken will be eliminated, and the value None will no longer be accepted. Set `keepdims` to True or False to avoid this warning.\n",
      "  mode, _ = stats.mode(_y[neigh_ind, k], axis=1)\n",
      "C:\\Users\\user\\anaconda3\\lib\\site-packages\\sklearn\\neighbors\\_classification.py:228: FutureWarning: Unlike other reduction functions (e.g. `skew`, `kurtosis`), the default behavior of `mode` typically preserves the axis it acts along. In SciPy 1.11.0, this behavior will change: the default value of `keepdims` will become False, the `axis` over which the statistic is taken will be eliminated, and the value None will no longer be accepted. Set `keepdims` to True or False to avoid this warning.\n",
      "  mode, _ = stats.mode(_y[neigh_ind, k], axis=1)\n",
      "C:\\Users\\user\\anaconda3\\lib\\site-packages\\sklearn\\neighbors\\_classification.py:228: FutureWarning: Unlike other reduction functions (e.g. `skew`, `kurtosis`), the default behavior of `mode` typically preserves the axis it acts along. In SciPy 1.11.0, this behavior will change: the default value of `keepdims` will become False, the `axis` over which the statistic is taken will be eliminated, and the value None will no longer be accepted. Set `keepdims` to True or False to avoid this warning.\n",
      "  mode, _ = stats.mode(_y[neigh_ind, k], axis=1)\n",
      "C:\\Users\\user\\anaconda3\\lib\\site-packages\\sklearn\\neighbors\\_classification.py:228: FutureWarning: Unlike other reduction functions (e.g. `skew`, `kurtosis`), the default behavior of `mode` typically preserves the axis it acts along. In SciPy 1.11.0, this behavior will change: the default value of `keepdims` will become False, the `axis` over which the statistic is taken will be eliminated, and the value None will no longer be accepted. Set `keepdims` to True or False to avoid this warning.\n",
      "  mode, _ = stats.mode(_y[neigh_ind, k], axis=1)\n",
      "C:\\Users\\user\\anaconda3\\lib\\site-packages\\sklearn\\neighbors\\_classification.py:228: FutureWarning: Unlike other reduction functions (e.g. `skew`, `kurtosis`), the default behavior of `mode` typically preserves the axis it acts along. In SciPy 1.11.0, this behavior will change: the default value of `keepdims` will become False, the `axis` over which the statistic is taken will be eliminated, and the value None will no longer be accepted. Set `keepdims` to True or False to avoid this warning.\n",
      "  mode, _ = stats.mode(_y[neigh_ind, k], axis=1)\n",
      "C:\\Users\\user\\anaconda3\\lib\\site-packages\\sklearn\\neighbors\\_classification.py:228: FutureWarning: Unlike other reduction functions (e.g. `skew`, `kurtosis`), the default behavior of `mode` typically preserves the axis it acts along. In SciPy 1.11.0, this behavior will change: the default value of `keepdims` will become False, the `axis` over which the statistic is taken will be eliminated, and the value None will no longer be accepted. Set `keepdims` to True or False to avoid this warning.\n",
      "  mode, _ = stats.mode(_y[neigh_ind, k], axis=1)\n",
      "C:\\Users\\user\\anaconda3\\lib\\site-packages\\sklearn\\neighbors\\_classification.py:228: FutureWarning: Unlike other reduction functions (e.g. `skew`, `kurtosis`), the default behavior of `mode` typically preserves the axis it acts along. In SciPy 1.11.0, this behavior will change: the default value of `keepdims` will become False, the `axis` over which the statistic is taken will be eliminated, and the value None will no longer be accepted. Set `keepdims` to True or False to avoid this warning.\n",
      "  mode, _ = stats.mode(_y[neigh_ind, k], axis=1)\n"
     ]
    }
   ],
   "source": [
    "for k in range(1, 20, 2):  # k is an odd value 1-19; odds prevent ties\n",
    "    kfold = KFold(n_splits=10, random_state=11, shuffle=True)\n",
    "    knn = KNeighborsClassifier(n_neighbors=k)\n",
    "    scores = cross_val_score(estimator=knn, \n",
    "        X=digits.data, y=digits.target, cv=kfold)\n",
    "    print(f'k={k:<2}; mean accuracy={scores.mean():.2%}; ' +\n",
    "          f'standard deviation={scores.std():.2%}')"
   ]
  },
  {
   "cell_type": "markdown",
   "id": "e3f5a545",
   "metadata": {},
   "source": [
    "* Makine öğrenimi, özellikle büyük veri(big data) ve derin öğrenmede(deep learning) maliyetsiz değildir.\n",
    "* Hesaplama süresi k ile hızla büyür, çünkü k-NN'nin en yakın komşuları bulmak için daha fazla hesaplama yapması gerekir.\n",
    "* Çapraz doğrulama gerçekleştirmek ve sonuçları zamanlamak için cross_validate işlevini kullanabilir."
   ]
  }
 ],
 "metadata": {
  "kernelspec": {
   "display_name": "Python 3 (ipykernel)",
   "language": "python",
   "name": "python3"
  },
  "language_info": {
   "codemirror_mode": {
    "name": "ipython",
    "version": 3
   },
   "file_extension": ".py",
   "mimetype": "text/x-python",
   "name": "python",
   "nbconvert_exporter": "python",
   "pygments_lexer": "ipython3",
   "version": "3.9.13"
  }
 },
 "nbformat": 4,
 "nbformat_minor": 5
}
